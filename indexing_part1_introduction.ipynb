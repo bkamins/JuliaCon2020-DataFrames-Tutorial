{
 "cells": [
  {
   "cell_type": "markdown",
   "metadata": {},
   "source": [
    "# A deep dive into DataFrames.jl indexing\n",
    "# Part 1: indexing in DataFrames.jl by example\n",
    "### Bogumił Kamiński"
   ]
  },
  {
   "cell_type": "markdown",
   "metadata": {},
   "source": [
    "`DataFrame` is an object that holds a collection of named columns stored as vectors.\n",
    "\n",
    "In this tutorial we discuss how to get or set values of these columns."
   ]
  },
  {
   "cell_type": "markdown",
   "metadata": {},
   "source": [
    "What are we going to cover:\n",
    "* `getindex`, a.k.a. `x[...]`\n",
    "* `setindex!`, a.k.a. `x[...] =`\n",
    "* `broadcast`, a.k.a. `fun.(x)`\n",
    "* `broadcast!`, a.k.a. `x .= ...`\n",
    "* `getproperty`, a.k.a. `x.field` and `x.field .= ...`\n",
    "* `setproperty`, a.k.a. `x.field = ...`\n",
    "\n",
    "Indexable types that DataFrames.jl defines:\n",
    "* `DataFrame`\n",
    "* `SubDataFrame`\n",
    "* `DataFrameRow`\n",
    "* `DataFrameRows`\n",
    "* `DataFrameColumns`\n",
    "* `GroupedDataFrame`\n",
    "* `GroupKeys`\n",
    "* `GroupKey`\n",
    "* `StackedVector`\n",
    "* `RepeatedVector`"
   ]
  },
  {
   "cell_type": "markdown",
   "metadata": {},
   "source": [
    "### Environment setup"
   ]
  },
  {
   "cell_type": "code",
   "execution_count": 1,
   "metadata": {},
   "outputs": [],
   "source": [
    "using BenchmarkTools"
   ]
  },
  {
   "cell_type": "code",
   "execution_count": 2,
   "metadata": {},
   "outputs": [],
   "source": [
    "using CSV"
   ]
  },
  {
   "cell_type": "code",
   "execution_count": 3,
   "metadata": {},
   "outputs": [],
   "source": [
    "using DataFrames"
   ]
  },
  {
   "cell_type": "code",
   "execution_count": 4,
   "metadata": {},
   "outputs": [],
   "source": [
    "using Dates"
   ]
  },
  {
   "cell_type": "code",
   "execution_count": 5,
   "metadata": {},
   "outputs": [],
   "source": [
    "using ShiftedArrays: lag"
   ]
  },
  {
   "cell_type": "code",
   "execution_count": 6,
   "metadata": {},
   "outputs": [],
   "source": [
    "using Statistics"
   ]
  },
  {
   "cell_type": "markdown",
   "metadata": {},
   "source": [
    "Let us read-in the data set we will work with.\n",
    "\n",
    "Make sure you have the required file in the working directory.\n",
    "\n",
    "The detailed instructions how to get it are in https://github.com/bkamins/JuliaCon2020-DataFrames-Tutorial/blob/master/README.md"
   ]
  },
  {
   "cell_type": "code",
   "execution_count": 7,
   "metadata": {
    "scrolled": false
   },
   "outputs": [
    {
     "data": {
      "text/html": [
       "<div><div style = \"float: left;\"><span>6852038×8 DataFrame</span></div><div style = \"float: right;\"><span style = \"font-style: italic;\">6852013 rows omitted</span></div><div style = \"clear: both;\"></div></div><div class = \"data-frame\" style = \"overflow-x: scroll;\"><table class = \"data-frame\" style = \"margin-bottom: 6px;\"><thead><tr class = \"header\"><th class = \"rowNumber\" style = \"font-weight: bold; text-align: right;\">Row</th><th style = \"text-align: left;\">date</th><th style = \"text-align: left;\">volume</th><th style = \"text-align: left;\">open</th><th style = \"text-align: left;\">high</th><th style = \"text-align: left;\">low</th><th style = \"text-align: left;\">close</th><th style = \"text-align: left;\">adjclose</th><th style = \"text-align: left;\">symbol</th></tr><tr class = \"subheader headerLastRow\"><th class = \"rowNumber\" style = \"font-weight: bold; text-align: right;\"></th><th title = \"Date\" style = \"text-align: left;\">Date</th><th title = \"Int64\" style = \"text-align: left;\">Int64</th><th title = \"Float64\" style = \"text-align: left;\">Float64</th><th title = \"Float64\" style = \"text-align: left;\">Float64</th><th title = \"Float64\" style = \"text-align: left;\">Float64</th><th title = \"Float64\" style = \"text-align: left;\">Float64</th><th title = \"Float64\" style = \"text-align: left;\">Float64</th><th title = \"String7\" style = \"text-align: left;\">String7</th></tr></thead><tbody><tr><td class = \"rowNumber\" style = \"font-weight: bold; text-align: right;\">1</td><td style = \"text-align: left;\">2020-07-02</td><td style = \"text-align: right;\">257500</td><td style = \"text-align: right;\">17.64</td><td style = \"text-align: right;\">17.74</td><td style = \"text-align: right;\">17.62</td><td style = \"text-align: right;\">17.71</td><td style = \"text-align: right;\">17.71</td><td style = \"text-align: left;\">AAAU</td></tr><tr><td class = \"rowNumber\" style = \"font-weight: bold; text-align: right;\">2</td><td style = \"text-align: left;\">2020-07-01</td><td style = \"text-align: right;\">468100</td><td style = \"text-align: right;\">17.73</td><td style = \"text-align: right;\">17.73</td><td style = \"text-align: right;\">17.54</td><td style = \"text-align: right;\">17.68</td><td style = \"text-align: right;\">17.68</td><td style = \"text-align: left;\">AAAU</td></tr><tr><td class = \"rowNumber\" style = \"font-weight: bold; text-align: right;\">3</td><td style = \"text-align: left;\">2020-06-30</td><td style = \"text-align: right;\">319100</td><td style = \"text-align: right;\">17.65</td><td style = \"text-align: right;\">17.8</td><td style = \"text-align: right;\">17.61</td><td style = \"text-align: right;\">17.78</td><td style = \"text-align: right;\">17.78</td><td style = \"text-align: left;\">AAAU</td></tr><tr><td class = \"rowNumber\" style = \"font-weight: bold; text-align: right;\">4</td><td style = \"text-align: left;\">2020-06-29</td><td style = \"text-align: right;\">405500</td><td style = \"text-align: right;\">17.67</td><td style = \"text-align: right;\">17.69</td><td style = \"text-align: right;\">17.63</td><td style = \"text-align: right;\">17.68</td><td style = \"text-align: right;\">17.68</td><td style = \"text-align: left;\">AAAU</td></tr><tr><td class = \"rowNumber\" style = \"font-weight: bold; text-align: right;\">5</td><td style = \"text-align: left;\">2020-06-26</td><td style = \"text-align: right;\">335100</td><td style = \"text-align: right;\">17.49</td><td style = \"text-align: right;\">17.67</td><td style = \"text-align: right;\">17.42</td><td style = \"text-align: right;\">17.67</td><td style = \"text-align: right;\">17.67</td><td style = \"text-align: left;\">AAAU</td></tr><tr><td class = \"rowNumber\" style = \"font-weight: bold; text-align: right;\">6</td><td style = \"text-align: left;\">2020-06-25</td><td style = \"text-align: right;\">246800</td><td style = \"text-align: right;\">17.6</td><td style = \"text-align: right;\">17.6</td><td style = \"text-align: right;\">17.52</td><td style = \"text-align: right;\">17.59</td><td style = \"text-align: right;\">17.59</td><td style = \"text-align: left;\">AAAU</td></tr><tr><td class = \"rowNumber\" style = \"font-weight: bold; text-align: right;\">7</td><td style = \"text-align: left;\">2020-06-24</td><td style = \"text-align: right;\">329200</td><td style = \"text-align: right;\">17.61</td><td style = \"text-align: right;\">17.71</td><td style = \"text-align: right;\">17.56</td><td style = \"text-align: right;\">17.61</td><td style = \"text-align: right;\">17.61</td><td style = \"text-align: left;\">AAAU</td></tr><tr><td class = \"rowNumber\" style = \"font-weight: bold; text-align: right;\">8</td><td style = \"text-align: left;\">2020-06-23</td><td style = \"text-align: right;\">351800</td><td style = \"text-align: right;\">17.55</td><td style = \"text-align: right;\">17.66</td><td style = \"text-align: right;\">17.55</td><td style = \"text-align: right;\">17.66</td><td style = \"text-align: right;\">17.66</td><td style = \"text-align: left;\">AAAU</td></tr><tr><td class = \"rowNumber\" style = \"font-weight: bold; text-align: right;\">9</td><td style = \"text-align: left;\">2020-06-22</td><td style = \"text-align: right;\">308300</td><td style = \"text-align: right;\">17.5</td><td style = \"text-align: right;\">17.57</td><td style = \"text-align: right;\">17.44</td><td style = \"text-align: right;\">17.5</td><td style = \"text-align: right;\">17.5</td><td style = \"text-align: left;\">AAAU</td></tr><tr><td class = \"rowNumber\" style = \"font-weight: bold; text-align: right;\">10</td><td style = \"text-align: left;\">2020-06-19</td><td style = \"text-align: right;\">153800</td><td style = \"text-align: right;\">17.27</td><td style = \"text-align: right;\">17.4</td><td style = \"text-align: right;\">17.26</td><td style = \"text-align: right;\">17.4</td><td style = \"text-align: right;\">17.4</td><td style = \"text-align: left;\">AAAU</td></tr><tr><td class = \"rowNumber\" style = \"font-weight: bold; text-align: right;\">11</td><td style = \"text-align: left;\">2020-06-18</td><td style = \"text-align: right;\">102200</td><td style = \"text-align: right;\">17.27</td><td style = \"text-align: right;\">17.27</td><td style = \"text-align: right;\">17.14</td><td style = \"text-align: right;\">17.23</td><td style = \"text-align: right;\">17.23</td><td style = \"text-align: left;\">AAAU</td></tr><tr><td class = \"rowNumber\" style = \"font-weight: bold; text-align: right;\">12</td><td style = \"text-align: left;\">2020-06-17</td><td style = \"text-align: right;\">153900</td><td style = \"text-align: right;\">17.19</td><td style = \"text-align: right;\">17.25</td><td style = \"text-align: right;\">17.16</td><td style = \"text-align: right;\">17.25</td><td style = \"text-align: right;\">17.25</td><td style = \"text-align: left;\">AAAU</td></tr><tr><td class = \"rowNumber\" style = \"font-weight: bold; text-align: right;\">13</td><td style = \"text-align: left;\">2020-06-16</td><td style = \"text-align: right;\">165800</td><td style = \"text-align: right;\">17.15</td><td style = \"text-align: right;\">17.25</td><td style = \"text-align: right;\">17.11</td><td style = \"text-align: right;\">17.21</td><td style = \"text-align: right;\">17.21</td><td style = \"text-align: left;\">AAAU</td></tr><tr><td style = \"text-align: right;\">&vellip;</td><td style = \"text-align: right;\">&vellip;</td><td style = \"text-align: right;\">&vellip;</td><td style = \"text-align: right;\">&vellip;</td><td style = \"text-align: right;\">&vellip;</td><td style = \"text-align: right;\">&vellip;</td><td style = \"text-align: right;\">&vellip;</td><td style = \"text-align: right;\">&vellip;</td><td style = \"text-align: right;\">&vellip;</td></tr><tr><td class = \"rowNumber\" style = \"font-weight: bold; text-align: right;\">6852027</td><td style = \"text-align: left;\">2015-01-23</td><td style = \"text-align: right;\">800</td><td style = \"text-align: right;\">0.13</td><td style = \"text-align: right;\">0.18</td><td style = \"text-align: right;\">0.13</td><td style = \"text-align: right;\">0.18</td><td style = \"text-align: right;\">0.175245</td><td style = \"text-align: left;\">ZYXI</td></tr><tr><td class = \"rowNumber\" style = \"font-weight: bold; text-align: right;\">6852028</td><td style = \"text-align: left;\">2015-01-22</td><td style = \"text-align: right;\">5000</td><td style = \"text-align: right;\">0.12</td><td style = \"text-align: right;\">0.18</td><td style = \"text-align: right;\">0.12</td><td style = \"text-align: right;\">0.18</td><td style = \"text-align: right;\">0.175245</td><td style = \"text-align: left;\">ZYXI</td></tr><tr><td class = \"rowNumber\" style = \"font-weight: bold; text-align: right;\">6852029</td><td style = \"text-align: left;\">2015-01-21</td><td style = \"text-align: right;\">7800</td><td style = \"text-align: right;\">0.13</td><td style = \"text-align: right;\">0.18</td><td style = \"text-align: right;\">0.12</td><td style = \"text-align: right;\">0.18</td><td style = \"text-align: right;\">0.175245</td><td style = \"text-align: left;\">ZYXI</td></tr><tr><td class = \"rowNumber\" style = \"font-weight: bold; text-align: right;\">6852030</td><td style = \"text-align: left;\">2015-01-20</td><td style = \"text-align: right;\">1800</td><td style = \"text-align: right;\">0.18</td><td style = \"text-align: right;\">0.18</td><td style = \"text-align: right;\">0.17</td><td style = \"text-align: right;\">0.18</td><td style = \"text-align: right;\">0.175245</td><td style = \"text-align: left;\">ZYXI</td></tr><tr><td class = \"rowNumber\" style = \"font-weight: bold; text-align: right;\">6852031</td><td style = \"text-align: left;\">2015-01-16</td><td style = \"text-align: right;\">8000</td><td style = \"text-align: right;\">0.12</td><td style = \"text-align: right;\">0.18</td><td style = \"text-align: right;\">0.12</td><td style = \"text-align: right;\">0.18</td><td style = \"text-align: right;\">0.175245</td><td style = \"text-align: left;\">ZYXI</td></tr><tr><td class = \"rowNumber\" style = \"font-weight: bold; text-align: right;\">6852032</td><td style = \"text-align: left;\">2015-01-14</td><td style = \"text-align: right;\">33800</td><td style = \"text-align: right;\">0.13</td><td style = \"text-align: right;\">0.19</td><td style = \"text-align: right;\">0.13</td><td style = \"text-align: right;\">0.19</td><td style = \"text-align: right;\">0.184981</td><td style = \"text-align: left;\">ZYXI</td></tr><tr><td class = \"rowNumber\" style = \"font-weight: bold; text-align: right;\">6852033</td><td style = \"text-align: left;\">2015-01-13</td><td style = \"text-align: right;\">27800</td><td style = \"text-align: right;\">0.14</td><td style = \"text-align: right;\">0.19</td><td style = \"text-align: right;\">0.14</td><td style = \"text-align: right;\">0.19</td><td style = \"text-align: right;\">0.184981</td><td style = \"text-align: left;\">ZYXI</td></tr><tr><td class = \"rowNumber\" style = \"font-weight: bold; text-align: right;\">6852034</td><td style = \"text-align: left;\">2015-01-12</td><td style = \"text-align: right;\">10000</td><td style = \"text-align: right;\">0.14</td><td style = \"text-align: right;\">0.14</td><td style = \"text-align: right;\">0.14</td><td style = \"text-align: right;\">0.14</td><td style = \"text-align: right;\">0.136302</td><td style = \"text-align: left;\">ZYXI</td></tr><tr><td class = \"rowNumber\" style = \"font-weight: bold; text-align: right;\">6852035</td><td style = \"text-align: left;\">2015-01-09</td><td style = \"text-align: right;\">200</td><td style = \"text-align: right;\">0.15</td><td style = \"text-align: right;\">0.15</td><td style = \"text-align: right;\">0.15</td><td style = \"text-align: right;\">0.15</td><td style = \"text-align: right;\">0.146038</td><td style = \"text-align: left;\">ZYXI</td></tr><tr><td class = \"rowNumber\" style = \"font-weight: bold; text-align: right;\">6852036</td><td style = \"text-align: left;\">2015-01-07</td><td style = \"text-align: right;\">8100</td><td style = \"text-align: right;\">0.14</td><td style = \"text-align: right;\">0.15</td><td style = \"text-align: right;\">0.13</td><td style = \"text-align: right;\">0.15</td><td style = \"text-align: right;\">0.146038</td><td style = \"text-align: left;\">ZYXI</td></tr><tr><td class = \"rowNumber\" style = \"font-weight: bold; text-align: right;\">6852037</td><td style = \"text-align: left;\">2015-01-05</td><td style = \"text-align: right;\">33200</td><td style = \"text-align: right;\">0.22</td><td style = \"text-align: right;\">0.22</td><td style = \"text-align: right;\">0.14</td><td style = \"text-align: right;\">0.16</td><td style = \"text-align: right;\">0.155774</td><td style = \"text-align: left;\">ZYXI</td></tr><tr><td class = \"rowNumber\" style = \"font-weight: bold; text-align: right;\">6852038</td><td style = \"text-align: left;\">2015-01-02</td><td style = \"text-align: right;\">100</td><td style = \"text-align: right;\">0.18</td><td style = \"text-align: right;\">0.18</td><td style = \"text-align: right;\">0.18</td><td style = \"text-align: right;\">0.18</td><td style = \"text-align: right;\">0.175245</td><td style = \"text-align: left;\">ZYXI</td></tr></tbody></table></div>"
      ],
      "text/latex": [
       "\\begin{tabular}{r|cccccccc}\n",
       "\t& date & volume & open & high & low & close & adjclose & symbol\\\\\n",
       "\t\\hline\n",
       "\t& Date & Int64 & Float64 & Float64 & Float64 & Float64 & Float64 & String7\\\\\n",
       "\t\\hline\n",
       "\t1 & 2020-07-02 & 257500 & 17.64 & 17.74 & 17.62 & 17.71 & 17.71 & AAAU \\\\\n",
       "\t2 & 2020-07-01 & 468100 & 17.73 & 17.73 & 17.54 & 17.68 & 17.68 & AAAU \\\\\n",
       "\t3 & 2020-06-30 & 319100 & 17.65 & 17.8 & 17.61 & 17.78 & 17.78 & AAAU \\\\\n",
       "\t4 & 2020-06-29 & 405500 & 17.67 & 17.69 & 17.63 & 17.68 & 17.68 & AAAU \\\\\n",
       "\t5 & 2020-06-26 & 335100 & 17.49 & 17.67 & 17.42 & 17.67 & 17.67 & AAAU \\\\\n",
       "\t6 & 2020-06-25 & 246800 & 17.6 & 17.6 & 17.52 & 17.59 & 17.59 & AAAU \\\\\n",
       "\t7 & 2020-06-24 & 329200 & 17.61 & 17.71 & 17.56 & 17.61 & 17.61 & AAAU \\\\\n",
       "\t8 & 2020-06-23 & 351800 & 17.55 & 17.66 & 17.55 & 17.66 & 17.66 & AAAU \\\\\n",
       "\t9 & 2020-06-22 & 308300 & 17.5 & 17.57 & 17.44 & 17.5 & 17.5 & AAAU \\\\\n",
       "\t10 & 2020-06-19 & 153800 & 17.27 & 17.4 & 17.26 & 17.4 & 17.4 & AAAU \\\\\n",
       "\t11 & 2020-06-18 & 102200 & 17.27 & 17.27 & 17.14 & 17.23 & 17.23 & AAAU \\\\\n",
       "\t12 & 2020-06-17 & 153900 & 17.19 & 17.25 & 17.16 & 17.25 & 17.25 & AAAU \\\\\n",
       "\t13 & 2020-06-16 & 165800 & 17.15 & 17.25 & 17.11 & 17.21 & 17.21 & AAAU \\\\\n",
       "\t14 & 2020-06-15 & 308700 & 17.03 & 17.23 & 17.0 & 17.2 & 17.2 & AAAU \\\\\n",
       "\t15 & 2020-06-12 & 161400 & 17.34 & 17.37 & 17.25 & 17.27 & 17.27 & AAAU \\\\\n",
       "\t16 & 2020-06-11 & 308800 & 17.33 & 17.4 & 17.17 & 17.23 & 17.23 & AAAU \\\\\n",
       "\t17 & 2020-06-10 & 316900 & 17.2 & 17.35 & 17.08 & 17.35 & 17.35 & AAAU \\\\\n",
       "\t18 & 2020-06-09 & 296100 & 17.11 & 17.18 & 17.07 & 17.11 & 17.11 & AAAU \\\\\n",
       "\t19 & 2020-06-08 & 386900 & 16.85 & 16.95 & 16.81 & 16.95 & 16.95 & AAAU \\\\\n",
       "\t20 & 2020-06-05 & 510400 & 16.84 & 16.84 & 16.67 & 16.76 & 16.76 & AAAU \\\\\n",
       "\t21 & 2020-06-04 & 270800 & 17.07 & 17.16 & 16.95 & 17.11 & 17.11 & AAAU \\\\\n",
       "\t22 & 2020-06-03 & 480300 & 17.01 & 17.06 & 16.84 & 16.92 & 16.92 & AAAU \\\\\n",
       "\t23 & 2020-06-02 & 166100 & 17.39 & 17.4 & 17.17 & 17.24 & 17.24 & AAAU \\\\\n",
       "\t24 & 2020-06-01 & 388700 & 17.3 & 17.37 & 17.24 & 17.37 & 17.37 & AAAU \\\\\n",
       "\t25 & 2020-05-29 & 426100 & 17.25 & 17.32 & 17.22 & 17.27 & 17.27 & AAAU \\\\\n",
       "\t26 & 2020-05-28 & 227500 & 17.21 & 17.22 & 17.07 & 17.16 & 17.16 & AAAU \\\\\n",
       "\t27 & 2020-05-27 & 480900 & 16.9 & 17.11 & 16.88 & 17.1 & 17.1 & AAAU \\\\\n",
       "\t28 & 2020-05-26 & 559900 & 17.26 & 17.26 & 17.04 & 17.05 & 17.05 & AAAU \\\\\n",
       "\t29 & 2020-05-22 & 202300 & 17.28 & 17.33 & 17.26 & 17.3 & 17.3 & AAAU \\\\\n",
       "\t30 & 2020-05-21 & 377500 & 17.34 & 17.35 & 17.12 & 17.21 & 17.21 & AAAU \\\\\n",
       "\t$\\dots$ & $\\dots$ & $\\dots$ & $\\dots$ & $\\dots$ & $\\dots$ & $\\dots$ & $\\dots$ & $\\dots$ \\\\\n",
       "\\end{tabular}\n"
      ],
      "text/plain": [
       "\u001b[1m6852038×8 DataFrame\u001b[0m\n",
       "\u001b[1m     Row \u001b[0m│\u001b[1m date       \u001b[0m\u001b[1m volume \u001b[0m\u001b[1m open    \u001b[0m\u001b[1m high    \u001b[0m\u001b[1m low     \u001b[0m\u001b[1m close   \u001b[0m\u001b[1m adjclose  \u001b[0m\u001b[1m \u001b[0m ⋯\n",
       "         │\u001b[90m Date       \u001b[0m\u001b[90m Int64  \u001b[0m\u001b[90m Float64 \u001b[0m\u001b[90m Float64 \u001b[0m\u001b[90m Float64 \u001b[0m\u001b[90m Float64 \u001b[0m\u001b[90m Float64   \u001b[0m\u001b[90m \u001b[0m ⋯\n",
       "─────────┼──────────────────────────────────────────────────────────────────────\n",
       "       1 │ 2020-07-02  257500    17.64    17.74    17.62    17.71  17.71       ⋯\n",
       "       2 │ 2020-07-01  468100    17.73    17.73    17.54    17.68  17.68\n",
       "       3 │ 2020-06-30  319100    17.65    17.8     17.61    17.78  17.78\n",
       "       4 │ 2020-06-29  405500    17.67    17.69    17.63    17.68  17.68\n",
       "       5 │ 2020-06-26  335100    17.49    17.67    17.42    17.67  17.67       ⋯\n",
       "       6 │ 2020-06-25  246800    17.6     17.6     17.52    17.59  17.59\n",
       "       7 │ 2020-06-24  329200    17.61    17.71    17.56    17.61  17.61\n",
       "       8 │ 2020-06-23  351800    17.55    17.66    17.55    17.66  17.66\n",
       "       9 │ 2020-06-22  308300    17.5     17.57    17.44    17.5   17.5        ⋯\n",
       "      10 │ 2020-06-19  153800    17.27    17.4     17.26    17.4   17.4\n",
       "      11 │ 2020-06-18  102200    17.27    17.27    17.14    17.23  17.23\n",
       "    ⋮    │     ⋮         ⋮        ⋮        ⋮        ⋮        ⋮         ⋮       ⋱\n",
       " 6852029 │ 2015-01-21    7800     0.13     0.18     0.12     0.18   0.175245\n",
       " 6852030 │ 2015-01-20    1800     0.18     0.18     0.17     0.18   0.175245   ⋯\n",
       " 6852031 │ 2015-01-16    8000     0.12     0.18     0.12     0.18   0.175245\n",
       " 6852032 │ 2015-01-14   33800     0.13     0.19     0.13     0.19   0.184981\n",
       " 6852033 │ 2015-01-13   27800     0.14     0.19     0.14     0.19   0.184981\n",
       " 6852034 │ 2015-01-12   10000     0.14     0.14     0.14     0.14   0.136302   ⋯\n",
       " 6852035 │ 2015-01-09     200     0.15     0.15     0.15     0.15   0.146038\n",
       " 6852036 │ 2015-01-07    8100     0.14     0.15     0.13     0.15   0.146038\n",
       " 6852037 │ 2015-01-05   33200     0.22     0.22     0.14     0.16   0.155774\n",
       " 6852038 │ 2015-01-02     100     0.18     0.18     0.18     0.18   0.175245   ⋯\n",
       "\u001b[36m                                               1 column and 6852017 rows omitted\u001b[0m"
      ]
     },
     "execution_count": 7,
     "metadata": {},
     "output_type": "execute_result"
    }
   ],
   "source": [
    "fh5 = CSV.read(\"fh_5yrs.csv\", DataFrame)"
   ]
  },
  {
   "cell_type": "markdown",
   "metadata": {},
   "source": [
    "#### Warm up exercises"
   ]
  },
  {
   "cell_type": "markdown",
   "metadata": {},
   "source": [
    "*Get a short description of columns in our data frame*"
   ]
  },
  {
   "cell_type": "code",
   "execution_count": null,
   "metadata": {},
   "outputs": [],
   "source": []
  },
  {
   "cell_type": "markdown",
   "metadata": {},
   "source": [
    "(see https://github.com/JuliaData/DataFrames.jl/issues/2269 for a discussion of the design decisions here, feel free to comment there if you have an opinion)"
   ]
  },
  {
   "cell_type": "markdown",
   "metadata": {},
   "source": [
    "*Get information about exact types of the columns stored in the data frame*"
   ]
  },
  {
   "cell_type": "code",
   "execution_count": null,
   "metadata": {},
   "outputs": [],
   "source": []
  },
  {
   "cell_type": "markdown",
   "metadata": {},
   "source": [
    "*Get names of columns as strings*"
   ]
  },
  {
   "cell_type": "code",
   "execution_count": null,
   "metadata": {},
   "outputs": [],
   "source": []
  },
  {
   "cell_type": "markdown",
   "metadata": {},
   "source": [
    "*Get names of columns as `Symbol`s*"
   ]
  },
  {
   "cell_type": "code",
   "execution_count": null,
   "metadata": {},
   "outputs": [],
   "source": []
  },
  {
   "cell_type": "markdown",
   "metadata": {},
   "source": [
    "## `getindex`"
   ]
  },
  {
   "cell_type": "markdown",
   "metadata": {},
   "source": [
    "Get a single column as a whole without copying"
   ]
  },
  {
   "cell_type": "code",
   "execution_count": 8,
   "metadata": {},
   "outputs": [
    {
     "data": {
      "text/plain": [
       "1-element Vector{Vector{Date}}:\n",
       " [Date(\"2020-07-02\"), Date(\"2020-07-01\"), Date(\"2020-06-30\"), Date(\"2020-06-29\"), Date(\"2020-06-26\"), Date(\"2020-06-25\"), Date(\"2020-06-24\"), Date(\"2020-06-23\"), Date(\"2020-06-22\"), Date(\"2020-06-19\")  …  Date(\"2015-01-21\"), Date(\"2015-01-20\"), Date(\"2015-01-16\"), Date(\"2015-01-14\"), Date(\"2015-01-13\"), Date(\"2015-01-12\"), Date(\"2015-01-09\"), Date(\"2015-01-07\"), Date(\"2015-01-05\"), Date(\"2015-01-02\")]"
      ]
     },
     "execution_count": 8,
     "metadata": {},
     "output_type": "execute_result"
    }
   ],
   "source": [
    "unique([fh5.date,\n",
    "        fh5.\"date\",\n",
    "        fh5[!, 1],\n",
    "        fh5[!, :date],\n",
    "        fh5[!, \"date\"]])"
   ]
  },
  {
   "cell_type": "code",
   "execution_count": 9,
   "metadata": {},
   "outputs": [
    {
     "data": {
      "text/plain": [
       "1-element Vector{Vector{Date}}:\n",
       " [Date(\"2020-07-02\"), Date(\"2020-07-01\"), Date(\"2020-06-30\"), Date(\"2020-06-29\"), Date(\"2020-06-26\"), Date(\"2020-06-25\"), Date(\"2020-06-24\"), Date(\"2020-06-23\"), Date(\"2020-06-22\"), Date(\"2020-06-19\")  …  Date(\"2015-01-21\"), Date(\"2015-01-20\"), Date(\"2015-01-16\"), Date(\"2015-01-14\"), Date(\"2015-01-13\"), Date(\"2015-01-12\"), Date(\"2015-01-09\"), Date(\"2015-01-07\"), Date(\"2015-01-05\"), Date(\"2015-01-02\")]"
      ]
     },
     "execution_count": 9,
     "metadata": {},
     "output_type": "execute_result"
    }
   ],
   "source": [
    "unique([getproperty(fh5, :date),\n",
    "        getproperty(fh5, \"date\"),\n",
    "        getindex(fh5, !, 1),\n",
    "        getindex(fh5, !, :date),\n",
    "        getindex(fh5,!, \"date\")])"
   ]
  },
  {
   "cell_type": "markdown",
   "metadata": {},
   "source": [
    "Get a single column as a whole with copying"
   ]
  },
  {
   "cell_type": "code",
   "execution_count": 10,
   "metadata": {},
   "outputs": [
    {
     "data": {
      "text/plain": [
       "1-element Vector{Vector{Date}}:\n",
       " [Date(\"2020-07-02\"), Date(\"2020-07-01\"), Date(\"2020-06-30\"), Date(\"2020-06-29\"), Date(\"2020-06-26\"), Date(\"2020-06-25\"), Date(\"2020-06-24\"), Date(\"2020-06-23\"), Date(\"2020-06-22\"), Date(\"2020-06-19\")  …  Date(\"2015-01-21\"), Date(\"2015-01-20\"), Date(\"2015-01-16\"), Date(\"2015-01-14\"), Date(\"2015-01-13\"), Date(\"2015-01-12\"), Date(\"2015-01-09\"), Date(\"2015-01-07\"), Date(\"2015-01-05\"), Date(\"2015-01-02\")]"
      ]
     },
     "execution_count": 10,
     "metadata": {},
     "output_type": "execute_result"
    }
   ],
   "source": [
    "unique([copy(fh5.date),\n",
    "        copy(fh5.\"date\"),\n",
    "        fh5[:, 1],\n",
    "        fh5[:, :date],\n",
    "        fh5[:, \"date\"]])"
   ]
  },
  {
   "cell_type": "markdown",
   "metadata": {},
   "source": [
    "Let us compare the performance of various ways to get a column without copying"
   ]
  },
  {
   "cell_type": "code",
   "execution_count": 11,
   "metadata": {},
   "outputs": [
    {
     "name": "stdout",
     "output_type": "stream",
     "text": [
      "  10.010 ns (0 allocations: 0 bytes)\n",
      "  28.873 ns (0 allocations: 0 bytes)\n",
      "  2.300 ns (0 allocations: 0 bytes)\n",
      "  10.010 ns (0 allocations: 0 bytes)\n",
      "  31.621 ns (0 allocations: 0 bytes)\n"
     ]
    }
   ],
   "source": [
    "@btime $fh5.date\n",
    "@btime $fh5.\"date\"\n",
    "@btime $fh5[!, 1]\n",
    "@btime $fh5[!, :date]\n",
    "@btime $fh5[!, \"date\"];"
   ]
  },
  {
   "cell_type": "markdown",
   "metadata": {},
   "source": [
    "`@btime` is from BenchmarkTools.jl package. We use `$` to ensure the time is measured properly.\n",
    "This is a special syntax specific to `@btime` (like `$` used in string interpolation context)."
   ]
  },
  {
   "cell_type": "markdown",
   "metadata": {},
   "source": [
    "#### Exercise"
   ]
  },
  {
   "cell_type": "markdown",
   "metadata": {},
   "source": [
    "Check the same but with copying"
   ]
  },
  {
   "cell_type": "code",
   "execution_count": null,
   "metadata": {},
   "outputs": [],
   "source": []
  },
  {
   "cell_type": "markdown",
   "metadata": {},
   "source": [
    "Let us check how lookup speed scales with the number of columns:"
   ]
  },
  {
   "cell_type": "code",
   "execution_count": 12,
   "metadata": {},
   "outputs": [
    {
     "name": "stdout",
     "output_type": "stream",
     "text": [
      "  0.062045 seconds (399.54 k allocations: 27.844 MiB)\n"
     ]
    },
    {
     "data": {
      "text/html": [
       "<div><div style = \"float: left;\"><span>1×100000 DataFrame</span></div><div style = \"float: right;\"><span style = \"font-style: italic;\">99900 columns omitted</span></div><div style = \"clear: both;\"></div></div><div class = \"data-frame\" style = \"overflow-x: scroll;\"><table class = \"data-frame\" style = \"margin-bottom: 6px;\"><thead><tr class = \"header\"><th class = \"rowNumber\" style = \"font-weight: bold; text-align: right;\">Row</th><th style = \"text-align: left;\">x1</th><th style = \"text-align: left;\">x2</th><th style = \"text-align: left;\">x3</th><th style = \"text-align: left;\">x4</th><th style = \"text-align: left;\">x5</th><th style = \"text-align: left;\">x6</th><th style = \"text-align: left;\">x7</th><th style = \"text-align: left;\">x8</th><th style = \"text-align: left;\">x9</th><th style = \"text-align: left;\">x10</th><th style = \"text-align: left;\">x11</th><th style = \"text-align: left;\">x12</th><th style = \"text-align: left;\">x13</th><th style = \"text-align: left;\">x14</th><th style = \"text-align: left;\">x15</th><th style = \"text-align: left;\">x16</th><th style = \"text-align: left;\">x17</th><th style = \"text-align: left;\">x18</th><th style = \"text-align: left;\">x19</th><th style = \"text-align: left;\">x20</th><th style = \"text-align: left;\">x21</th><th style = \"text-align: left;\">x22</th><th style = \"text-align: left;\">x23</th><th style = \"text-align: left;\">x24</th><th style = \"text-align: left;\">x25</th><th style = \"text-align: left;\">x26</th><th style = \"text-align: left;\">x27</th><th style = \"text-align: left;\">x28</th><th style = \"text-align: left;\">x29</th><th style = \"text-align: left;\">x30</th><th style = \"text-align: left;\">x31</th><th style = \"text-align: left;\">x32</th><th style = \"text-align: left;\">x33</th><th style = \"text-align: left;\">x34</th><th style = \"text-align: left;\">x35</th><th style = \"text-align: left;\">x36</th><th style = \"text-align: left;\">x37</th><th style = \"text-align: left;\">x38</th><th style = \"text-align: left;\">x39</th><th style = \"text-align: left;\">x40</th><th style = \"text-align: left;\">x41</th><th style = \"text-align: left;\">x42</th><th style = \"text-align: left;\">x43</th><th style = \"text-align: left;\">x44</th><th style = \"text-align: left;\">x45</th><th style = \"text-align: left;\">x46</th><th style = \"text-align: left;\">x47</th><th style = \"text-align: left;\">x48</th><th style = \"text-align: left;\">x49</th><th style = \"text-align: left;\">x50</th><th style = \"text-align: left;\">x51</th><th style = \"text-align: left;\">x52</th><th style = \"text-align: left;\">x53</th><th style = \"text-align: left;\">x54</th><th style = \"text-align: left;\">x55</th><th style = \"text-align: left;\">x56</th><th style = \"text-align: left;\">x57</th><th style = \"text-align: left;\">x58</th><th style = \"text-align: left;\">x59</th><th style = \"text-align: left;\">x60</th><th style = \"text-align: left;\">x61</th><th style = \"text-align: left;\">x62</th><th style = \"text-align: left;\">x63</th><th style = \"text-align: left;\">x64</th><th style = \"text-align: left;\">x65</th><th style = \"text-align: left;\">x66</th><th style = \"text-align: left;\">x67</th><th style = \"text-align: left;\">x68</th><th style = \"text-align: left;\">x69</th><th style = \"text-align: left;\">x70</th><th style = \"text-align: left;\">x71</th><th style = \"text-align: left;\">x72</th><th style = \"text-align: left;\">x73</th><th style = \"text-align: left;\">x74</th><th style = \"text-align: left;\">x75</th><th style = \"text-align: left;\">x76</th><th style = \"text-align: left;\">x77</th><th style = \"text-align: left;\">x78</th><th style = \"text-align: left;\">x79</th><th style = \"text-align: left;\">x80</th><th style = \"text-align: left;\">x81</th><th style = \"text-align: left;\">x82</th><th style = \"text-align: left;\">x83</th><th style = \"text-align: left;\">x84</th><th style = \"text-align: left;\">x85</th><th style = \"text-align: left;\">x86</th><th style = \"text-align: left;\">x87</th><th style = \"text-align: left;\">x88</th><th style = \"text-align: left;\">x89</th><th style = \"text-align: left;\">x90</th><th style = \"text-align: left;\">x91</th><th style = \"text-align: left;\">x92</th><th style = \"text-align: left;\">x93</th><th style = \"text-align: left;\">x94</th><th style = \"text-align: left;\">x95</th><th style = \"text-align: left;\">x96</th><th style = \"text-align: left;\">x97</th><th style = \"text-align: left;\">x98</th><th style = \"text-align: left;\">x99</th><th style = \"text-align: left;\">x100</th><th style = \"text-align: right;\">&ctdot;</th></tr><tr class = \"subheader headerLastRow\"><th class = \"rowNumber\" style = \"font-weight: bold; text-align: right;\"></th><th title = \"Float64\" style = \"text-align: left;\">Float64</th><th title = \"Float64\" style = \"text-align: left;\">Float64</th><th title = \"Float64\" style = \"text-align: left;\">Float64</th><th title = \"Float64\" style = \"text-align: left;\">Float64</th><th title = \"Float64\" style = \"text-align: left;\">Float64</th><th title = \"Float64\" style = \"text-align: left;\">Float64</th><th title = \"Float64\" style = \"text-align: left;\">Float64</th><th title = \"Float64\" style = \"text-align: left;\">Float64</th><th title = \"Float64\" style = \"text-align: left;\">Float64</th><th title = \"Float64\" style = \"text-align: left;\">Float64</th><th title = \"Float64\" style = \"text-align: left;\">Float64</th><th title = \"Float64\" style = \"text-align: left;\">Float64</th><th title = \"Float64\" style = \"text-align: left;\">Float64</th><th title = \"Float64\" style = \"text-align: left;\">Float64</th><th title = \"Float64\" style = \"text-align: left;\">Float64</th><th title = \"Float64\" style = \"text-align: left;\">Float64</th><th title = \"Float64\" style = \"text-align: left;\">Float64</th><th title = \"Float64\" style = \"text-align: left;\">Float64</th><th title = \"Float64\" style = \"text-align: left;\">Float64</th><th title = \"Float64\" style = \"text-align: left;\">Float64</th><th title = \"Float64\" style = \"text-align: left;\">Float64</th><th title = \"Float64\" style = \"text-align: left;\">Float64</th><th title = \"Float64\" style = \"text-align: left;\">Float64</th><th title = \"Float64\" style = \"text-align: left;\">Float64</th><th title = \"Float64\" style = \"text-align: left;\">Float64</th><th title = \"Float64\" style = \"text-align: left;\">Float64</th><th title = \"Float64\" style = \"text-align: left;\">Float64</th><th title = \"Float64\" style = \"text-align: left;\">Float64</th><th title = \"Float64\" style = \"text-align: left;\">Float64</th><th title = \"Float64\" style = \"text-align: left;\">Float64</th><th title = \"Float64\" style = \"text-align: left;\">Float64</th><th title = \"Float64\" style = \"text-align: left;\">Float64</th><th title = \"Float64\" style = \"text-align: left;\">Float64</th><th title = \"Float64\" style = \"text-align: left;\">Float64</th><th title = \"Float64\" style = \"text-align: left;\">Float64</th><th title = \"Float64\" style = \"text-align: left;\">Float64</th><th title = \"Float64\" style = \"text-align: left;\">Float64</th><th title = \"Float64\" style = \"text-align: left;\">Float64</th><th title = \"Float64\" style = \"text-align: left;\">Float64</th><th title = \"Float64\" style = \"text-align: left;\">Float64</th><th title = \"Float64\" style = \"text-align: left;\">Float64</th><th title = \"Float64\" style = \"text-align: left;\">Float64</th><th title = \"Float64\" style = \"text-align: left;\">Float64</th><th title = \"Float64\" style = \"text-align: left;\">Float64</th><th title = \"Float64\" style = \"text-align: left;\">Float64</th><th title = \"Float64\" style = \"text-align: left;\">Float64</th><th title = \"Float64\" style = \"text-align: left;\">Float64</th><th title = \"Float64\" style = \"text-align: left;\">Float64</th><th title = \"Float64\" style = \"text-align: left;\">Float64</th><th title = \"Float64\" style = \"text-align: left;\">Float64</th><th title = \"Float64\" style = \"text-align: left;\">Float64</th><th title = \"Float64\" style = \"text-align: left;\">Float64</th><th title = \"Float64\" style = \"text-align: left;\">Float64</th><th title = \"Float64\" style = \"text-align: left;\">Float64</th><th title = \"Float64\" style = \"text-align: left;\">Float64</th><th title = \"Float64\" style = \"text-align: left;\">Float64</th><th title = \"Float64\" style = \"text-align: left;\">Float64</th><th title = \"Float64\" style = \"text-align: left;\">Float64</th><th title = \"Float64\" style = \"text-align: left;\">Float64</th><th title = \"Float64\" style = \"text-align: left;\">Float64</th><th title = \"Float64\" style = \"text-align: left;\">Float64</th><th title = \"Float64\" style = \"text-align: left;\">Float64</th><th title = \"Float64\" style = \"text-align: left;\">Float64</th><th title = \"Float64\" style = \"text-align: left;\">Float64</th><th title = \"Float64\" style = \"text-align: left;\">Float64</th><th title = \"Float64\" style = \"text-align: left;\">Float64</th><th title = \"Float64\" style = \"text-align: left;\">Float64</th><th title = \"Float64\" style = \"text-align: left;\">Float64</th><th title = \"Float64\" style = \"text-align: left;\">Float64</th><th title = \"Float64\" style = \"text-align: left;\">Float64</th><th title = \"Float64\" style = \"text-align: left;\">Float64</th><th title = \"Float64\" style = \"text-align: left;\">Float64</th><th title = \"Float64\" style = \"text-align: left;\">Float64</th><th title = \"Float64\" style = \"text-align: left;\">Float64</th><th title = \"Float64\" style = \"text-align: left;\">Float64</th><th title = \"Float64\" style = \"text-align: left;\">Float64</th><th title = \"Float64\" style = \"text-align: left;\">Float64</th><th title = \"Float64\" style = \"text-align: left;\">Float64</th><th title = \"Float64\" style = \"text-align: left;\">Float64</th><th title = \"Float64\" style = \"text-align: left;\">Float64</th><th title = \"Float64\" style = \"text-align: left;\">Float64</th><th title = \"Float64\" style = \"text-align: left;\">Float64</th><th title = \"Float64\" style = \"text-align: left;\">Float64</th><th title = \"Float64\" style = \"text-align: left;\">Float64</th><th title = \"Float64\" style = \"text-align: left;\">Float64</th><th title = \"Float64\" style = \"text-align: left;\">Float64</th><th title = \"Float64\" style = \"text-align: left;\">Float64</th><th title = \"Float64\" style = \"text-align: left;\">Float64</th><th title = \"Float64\" style = \"text-align: left;\">Float64</th><th title = \"Float64\" style = \"text-align: left;\">Float64</th><th title = \"Float64\" style = \"text-align: left;\">Float64</th><th title = \"Float64\" style = \"text-align: left;\">Float64</th><th title = \"Float64\" style = \"text-align: left;\">Float64</th><th title = \"Float64\" style = \"text-align: left;\">Float64</th><th title = \"Float64\" style = \"text-align: left;\">Float64</th><th title = \"Float64\" style = \"text-align: left;\">Float64</th><th title = \"Float64\" style = \"text-align: left;\">Float64</th><th title = \"Float64\" style = \"text-align: left;\">Float64</th><th title = \"Float64\" style = \"text-align: left;\">Float64</th><th title = \"Float64\" style = \"text-align: left;\">Float64</th><th title = \"Float64\" style = \"text-align: right;\">&ctdot;</th></tr></thead><tbody><tr><td class = \"rowNumber\" style = \"font-weight: bold; text-align: right;\">1</td><td style = \"text-align: right;\">1.0</td><td style = \"text-align: right;\">1.0</td><td style = \"text-align: right;\">1.0</td><td style = \"text-align: right;\">1.0</td><td style = \"text-align: right;\">1.0</td><td style = \"text-align: right;\">1.0</td><td style = \"text-align: right;\">1.0</td><td style = \"text-align: right;\">1.0</td><td style = \"text-align: right;\">1.0</td><td style = \"text-align: right;\">1.0</td><td style = \"text-align: right;\">1.0</td><td style = \"text-align: right;\">1.0</td><td style = \"text-align: right;\">1.0</td><td style = \"text-align: right;\">1.0</td><td style = \"text-align: right;\">1.0</td><td style = \"text-align: right;\">1.0</td><td style = \"text-align: right;\">1.0</td><td style = \"text-align: right;\">1.0</td><td style = \"text-align: right;\">1.0</td><td style = \"text-align: right;\">1.0</td><td style = \"text-align: right;\">1.0</td><td style = \"text-align: right;\">1.0</td><td style = \"text-align: right;\">1.0</td><td style = \"text-align: right;\">1.0</td><td style = \"text-align: right;\">1.0</td><td style = \"text-align: right;\">1.0</td><td style = \"text-align: right;\">1.0</td><td style = \"text-align: right;\">1.0</td><td style = \"text-align: right;\">1.0</td><td style = \"text-align: right;\">1.0</td><td style = \"text-align: right;\">1.0</td><td style = \"text-align: right;\">1.0</td><td style = \"text-align: right;\">1.0</td><td style = \"text-align: right;\">1.0</td><td style = \"text-align: right;\">1.0</td><td style = \"text-align: right;\">1.0</td><td style = \"text-align: right;\">1.0</td><td style = \"text-align: right;\">1.0</td><td style = \"text-align: right;\">1.0</td><td style = \"text-align: right;\">1.0</td><td style = \"text-align: right;\">1.0</td><td style = \"text-align: right;\">1.0</td><td style = \"text-align: right;\">1.0</td><td style = \"text-align: right;\">1.0</td><td style = \"text-align: right;\">1.0</td><td style = \"text-align: right;\">1.0</td><td style = \"text-align: right;\">1.0</td><td style = \"text-align: right;\">1.0</td><td style = \"text-align: right;\">1.0</td><td style = \"text-align: right;\">1.0</td><td style = \"text-align: right;\">1.0</td><td style = \"text-align: right;\">1.0</td><td style = \"text-align: right;\">1.0</td><td style = \"text-align: right;\">1.0</td><td style = \"text-align: right;\">1.0</td><td style = \"text-align: right;\">1.0</td><td style = \"text-align: right;\">1.0</td><td style = \"text-align: right;\">1.0</td><td style = \"text-align: right;\">1.0</td><td style = \"text-align: right;\">1.0</td><td style = \"text-align: right;\">1.0</td><td style = \"text-align: right;\">1.0</td><td style = \"text-align: right;\">1.0</td><td style = \"text-align: right;\">1.0</td><td style = \"text-align: right;\">1.0</td><td style = \"text-align: right;\">1.0</td><td style = \"text-align: right;\">1.0</td><td style = \"text-align: right;\">1.0</td><td style = \"text-align: right;\">1.0</td><td style = \"text-align: right;\">1.0</td><td style = \"text-align: right;\">1.0</td><td style = \"text-align: right;\">1.0</td><td style = \"text-align: right;\">1.0</td><td style = \"text-align: right;\">1.0</td><td style = \"text-align: right;\">1.0</td><td style = \"text-align: right;\">1.0</td><td style = \"text-align: right;\">1.0</td><td style = \"text-align: right;\">1.0</td><td style = \"text-align: right;\">1.0</td><td style = \"text-align: right;\">1.0</td><td style = \"text-align: right;\">1.0</td><td style = \"text-align: right;\">1.0</td><td style = \"text-align: right;\">1.0</td><td style = \"text-align: right;\">1.0</td><td style = \"text-align: right;\">1.0</td><td style = \"text-align: right;\">1.0</td><td style = \"text-align: right;\">1.0</td><td style = \"text-align: right;\">1.0</td><td style = \"text-align: right;\">1.0</td><td style = \"text-align: right;\">1.0</td><td style = \"text-align: right;\">1.0</td><td style = \"text-align: right;\">1.0</td><td style = \"text-align: right;\">1.0</td><td style = \"text-align: right;\">1.0</td><td style = \"text-align: right;\">1.0</td><td style = \"text-align: right;\">1.0</td><td style = \"text-align: right;\">1.0</td><td style = \"text-align: right;\">1.0</td><td style = \"text-align: right;\">1.0</td><td style = \"text-align: right;\">1.0</td><td style = \"text-align: right;\">&ctdot;</td></tr></tbody></table></div>"
      ],
      "text/latex": [
       "\\begin{tabular}{r|cccccccccc}\n",
       "\t& x1 & x2 & x3 & x4 & x5 & x6 & x7 & x8 & x9 & \\\\\n",
       "\t\\hline\n",
       "\t& Float64 & Float64 & Float64 & Float64 & Float64 & Float64 & Float64 & Float64 & Float64 & \\\\\n",
       "\t\\hline\n",
       "\t1 & 1.0 & 1.0 & 1.0 & 1.0 & 1.0 & 1.0 & 1.0 & 1.0 & 1.0 & $\\dots$ \\\\\n",
       "\\end{tabular}\n"
      ],
      "text/plain": [
       "\u001b[1m1×100000 DataFrame\u001b[0m\n",
       "\u001b[1m Row \u001b[0m│\u001b[1m x1      \u001b[0m\u001b[1m x2      \u001b[0m\u001b[1m x3      \u001b[0m\u001b[1m x4      \u001b[0m\u001b[1m x5      \u001b[0m\u001b[1m x6      \u001b[0m\u001b[1m x7      \u001b[0m\u001b[1m x8      \u001b[0m\u001b[1m\u001b[0m ⋯\n",
       "     │\u001b[90m Float64 \u001b[0m\u001b[90m Float64 \u001b[0m\u001b[90m Float64 \u001b[0m\u001b[90m Float64 \u001b[0m\u001b[90m Float64 \u001b[0m\u001b[90m Float64 \u001b[0m\u001b[90m Float64 \u001b[0m\u001b[90m Float64 \u001b[0m\u001b[90m\u001b[0m ⋯\n",
       "─────┼──────────────────────────────────────────────────────────────────────────\n",
       "   1 │     1.0      1.0      1.0      1.0      1.0      1.0      1.0      1.0  ⋯\n",
       "\u001b[36m                                                           99992 columns omitted\u001b[0m"
      ]
     },
     "execution_count": 12,
     "metadata": {},
     "output_type": "execute_result"
    }
   ],
   "source": [
    "@time df_tmp = DataFrame(ones(1, 100_000), :auto)"
   ]
  },
  {
   "cell_type": "code",
   "execution_count": 13,
   "metadata": {},
   "outputs": [
    {
     "name": "stdout",
     "output_type": "stream",
     "text": [
      "  10.310 ns (0 allocations: 0 bytes)\n",
      "  58.061 ns (0 allocations: 0 bytes)\n",
      "  2.300 ns (0 allocations: 0 bytes)\n"
     ]
    }
   ],
   "source": [
    "@btime $df_tmp.x100000\n",
    "@btime $df_tmp.\"x100000\"\n",
    "@btime $df_tmp[!, 100000];"
   ]
  },
  {
   "cell_type": "markdown",
   "metadata": {},
   "source": [
    "<div class=\"alert alert-block alert-info\">\n",
    "<b>Tip:</b>\n",
    "    \n",
    "DataFrames.jl is specifically designed to allow you to handle without huge compilation costs\n",
    "very wide data frames with heterogeneous column types and changing the schema of the data frame in-place.\n",
    "(or if you do not want to think if you will not run into these issues)\n",
    "</div>"
   ]
  },
  {
   "cell_type": "markdown",
   "metadata": {},
   "source": [
    "Get a single column, but take a subset of rows: you can either make a copy or get a view"
   ]
  },
  {
   "cell_type": "code",
   "execution_count": 14,
   "metadata": {},
   "outputs": [
    {
     "data": {
      "text/plain": [
       "2-element Vector{Date}:\n",
       " 2020-07-02\n",
       " 2020-07-01"
      ]
     },
     "execution_count": 14,
     "metadata": {},
     "output_type": "execute_result"
    }
   ],
   "source": [
    "fh5[1:2, :date]"
   ]
  },
  {
   "cell_type": "code",
   "execution_count": 15,
   "metadata": {},
   "outputs": [
    {
     "data": {
      "text/plain": [
       "2-element view(::Vector{Date}, 1:2) with eltype Date:\n",
       " 2020-07-02\n",
       " 2020-07-01"
      ]
     },
     "execution_count": 15,
     "metadata": {},
     "output_type": "execute_result"
    }
   ],
   "source": [
    "view(fh5, 1:2, :date)"
   ]
  },
  {
   "cell_type": "markdown",
   "metadata": {},
   "source": [
    "this is the same as e.g.:"
   ]
  },
  {
   "cell_type": "code",
   "execution_count": 16,
   "metadata": {},
   "outputs": [
    {
     "data": {
      "text/plain": [
       "2-element Vector{Date}:\n",
       " 2020-07-02\n",
       " 2020-07-01"
      ]
     },
     "execution_count": 16,
     "metadata": {},
     "output_type": "execute_result"
    }
   ],
   "source": [
    "fh5.date[1:2]"
   ]
  },
  {
   "cell_type": "code",
   "execution_count": 17,
   "metadata": {},
   "outputs": [
    {
     "data": {
      "text/plain": [
       "2-element view(::Vector{Date}, 1:2) with eltype Date:\n",
       " 2020-07-02\n",
       " 2020-07-01"
      ]
     },
     "execution_count": 17,
     "metadata": {},
     "output_type": "execute_result"
    }
   ],
   "source": [
    "@view fh5.date[1:2]"
   ]
  },
  {
   "cell_type": "markdown",
   "metadata": {},
   "source": [
    "you can use `Not` for inverted selection of rows"
   ]
  },
  {
   "cell_type": "code",
   "execution_count": 18,
   "metadata": {},
   "outputs": [
    {
     "data": {
      "text/plain": [
       "2-element Vector{Date}:\n",
       " 2020-07-02\n",
       " 2020-07-01"
      ]
     },
     "execution_count": 18,
     "metadata": {},
     "output_type": "execute_result"
    }
   ],
   "source": [
    "fh5[Not(3:end), :date]"
   ]
  },
  {
   "cell_type": "markdown",
   "metadata": {},
   "source": [
    "Get a single cell in a data frame: you can either get a value or a view"
   ]
  },
  {
   "cell_type": "code",
   "execution_count": 19,
   "metadata": {},
   "outputs": [
    {
     "data": {
      "text/plain": [
       "2020-07-02"
      ]
     },
     "execution_count": 19,
     "metadata": {},
     "output_type": "execute_result"
    }
   ],
   "source": [
    "fh5[1, :date]"
   ]
  },
  {
   "cell_type": "code",
   "execution_count": 20,
   "metadata": {},
   "outputs": [
    {
     "data": {
      "text/plain": [
       "2020-07-02"
      ]
     },
     "execution_count": 20,
     "metadata": {},
     "output_type": "execute_result"
    }
   ],
   "source": [
    "fh5[CartesianIndex(1, 1)]"
   ]
  },
  {
   "cell_type": "code",
   "execution_count": 21,
   "metadata": {},
   "outputs": [
    {
     "data": {
      "text/plain": [
       "0-dimensional view(::Vector{Date}, 1) with eltype Date:\n",
       "Date(\"2020-07-02\")"
      ]
     },
     "execution_count": 21,
     "metadata": {},
     "output_type": "execute_result"
    }
   ],
   "source": [
    "@view fh5[1, \"date\"]"
   ]
  },
  {
   "cell_type": "markdown",
   "metadata": {},
   "source": [
    "In what case you might want to use a view instead of getting a value?"
   ]
  },
  {
   "cell_type": "markdown",
   "metadata": {},
   "source": [
    "Check what is the consequence of running the following lines:"
   ]
  },
  {
   "cell_type": "code",
   "execution_count": 22,
   "metadata": {},
   "outputs": [
    {
     "data": {
      "text/plain": [
       "0-dimensional view(::Vector{Date}, 1) with eltype Date:\n",
       "Date(\"2020-07-02\")"
      ]
     },
     "execution_count": 22,
     "metadata": {},
     "output_type": "execute_result"
    }
   ],
   "source": [
    "tmp_cell = view(fh5, 1, :date)"
   ]
  },
  {
   "cell_type": "code",
   "execution_count": 23,
   "metadata": {},
   "outputs": [
    {
     "data": {
      "text/plain": [
       "2020-07-02"
      ]
     },
     "execution_count": 23,
     "metadata": {},
     "output_type": "execute_result"
    }
   ],
   "source": [
    "tmp_cell2 = getindex(fh5, 1, :date)"
   ]
  },
  {
   "cell_type": "code",
   "execution_count": 24,
   "metadata": {},
   "outputs": [
    {
     "data": {
      "text/plain": [
       "2222-07-02"
      ]
     },
     "execution_count": 24,
     "metadata": {},
     "output_type": "execute_result"
    }
   ],
   "source": [
    "tmp_cell[] = Date(\"2222-07-02\")"
   ]
  },
  {
   "cell_type": "code",
   "execution_count": 25,
   "metadata": {},
   "outputs": [
    {
     "data": {
      "text/html": [
       "<div><div style = \"float: left;\"><span>6852038×8 DataFrame</span></div><div style = \"float: right;\"><span style = \"font-style: italic;\">6852013 rows omitted</span></div><div style = \"clear: both;\"></div></div><div class = \"data-frame\" style = \"overflow-x: scroll;\"><table class = \"data-frame\" style = \"margin-bottom: 6px;\"><thead><tr class = \"header\"><th class = \"rowNumber\" style = \"font-weight: bold; text-align: right;\">Row</th><th style = \"text-align: left;\">date</th><th style = \"text-align: left;\">volume</th><th style = \"text-align: left;\">open</th><th style = \"text-align: left;\">high</th><th style = \"text-align: left;\">low</th><th style = \"text-align: left;\">close</th><th style = \"text-align: left;\">adjclose</th><th style = \"text-align: left;\">symbol</th></tr><tr class = \"subheader headerLastRow\"><th class = \"rowNumber\" style = \"font-weight: bold; text-align: right;\"></th><th title = \"Date\" style = \"text-align: left;\">Date</th><th title = \"Int64\" style = \"text-align: left;\">Int64</th><th title = \"Float64\" style = \"text-align: left;\">Float64</th><th title = \"Float64\" style = \"text-align: left;\">Float64</th><th title = \"Float64\" style = \"text-align: left;\">Float64</th><th title = \"Float64\" style = \"text-align: left;\">Float64</th><th title = \"Float64\" style = \"text-align: left;\">Float64</th><th title = \"String7\" style = \"text-align: left;\">String7</th></tr></thead><tbody><tr><td class = \"rowNumber\" style = \"font-weight: bold; text-align: right;\">1</td><td style = \"text-align: left;\">2222-07-02</td><td style = \"text-align: right;\">257500</td><td style = \"text-align: right;\">17.64</td><td style = \"text-align: right;\">17.74</td><td style = \"text-align: right;\">17.62</td><td style = \"text-align: right;\">17.71</td><td style = \"text-align: right;\">17.71</td><td style = \"text-align: left;\">AAAU</td></tr><tr><td class = \"rowNumber\" style = \"font-weight: bold; text-align: right;\">2</td><td style = \"text-align: left;\">2020-07-01</td><td style = \"text-align: right;\">468100</td><td style = \"text-align: right;\">17.73</td><td style = \"text-align: right;\">17.73</td><td style = \"text-align: right;\">17.54</td><td style = \"text-align: right;\">17.68</td><td style = \"text-align: right;\">17.68</td><td style = \"text-align: left;\">AAAU</td></tr><tr><td class = \"rowNumber\" style = \"font-weight: bold; text-align: right;\">3</td><td style = \"text-align: left;\">2020-06-30</td><td style = \"text-align: right;\">319100</td><td style = \"text-align: right;\">17.65</td><td style = \"text-align: right;\">17.8</td><td style = \"text-align: right;\">17.61</td><td style = \"text-align: right;\">17.78</td><td style = \"text-align: right;\">17.78</td><td style = \"text-align: left;\">AAAU</td></tr><tr><td class = \"rowNumber\" style = \"font-weight: bold; text-align: right;\">4</td><td style = \"text-align: left;\">2020-06-29</td><td style = \"text-align: right;\">405500</td><td style = \"text-align: right;\">17.67</td><td style = \"text-align: right;\">17.69</td><td style = \"text-align: right;\">17.63</td><td style = \"text-align: right;\">17.68</td><td style = \"text-align: right;\">17.68</td><td style = \"text-align: left;\">AAAU</td></tr><tr><td class = \"rowNumber\" style = \"font-weight: bold; text-align: right;\">5</td><td style = \"text-align: left;\">2020-06-26</td><td style = \"text-align: right;\">335100</td><td style = \"text-align: right;\">17.49</td><td style = \"text-align: right;\">17.67</td><td style = \"text-align: right;\">17.42</td><td style = \"text-align: right;\">17.67</td><td style = \"text-align: right;\">17.67</td><td style = \"text-align: left;\">AAAU</td></tr><tr><td class = \"rowNumber\" style = \"font-weight: bold; text-align: right;\">6</td><td style = \"text-align: left;\">2020-06-25</td><td style = \"text-align: right;\">246800</td><td style = \"text-align: right;\">17.6</td><td style = \"text-align: right;\">17.6</td><td style = \"text-align: right;\">17.52</td><td style = \"text-align: right;\">17.59</td><td style = \"text-align: right;\">17.59</td><td style = \"text-align: left;\">AAAU</td></tr><tr><td class = \"rowNumber\" style = \"font-weight: bold; text-align: right;\">7</td><td style = \"text-align: left;\">2020-06-24</td><td style = \"text-align: right;\">329200</td><td style = \"text-align: right;\">17.61</td><td style = \"text-align: right;\">17.71</td><td style = \"text-align: right;\">17.56</td><td style = \"text-align: right;\">17.61</td><td style = \"text-align: right;\">17.61</td><td style = \"text-align: left;\">AAAU</td></tr><tr><td class = \"rowNumber\" style = \"font-weight: bold; text-align: right;\">8</td><td style = \"text-align: left;\">2020-06-23</td><td style = \"text-align: right;\">351800</td><td style = \"text-align: right;\">17.55</td><td style = \"text-align: right;\">17.66</td><td style = \"text-align: right;\">17.55</td><td style = \"text-align: right;\">17.66</td><td style = \"text-align: right;\">17.66</td><td style = \"text-align: left;\">AAAU</td></tr><tr><td class = \"rowNumber\" style = \"font-weight: bold; text-align: right;\">9</td><td style = \"text-align: left;\">2020-06-22</td><td style = \"text-align: right;\">308300</td><td style = \"text-align: right;\">17.5</td><td style = \"text-align: right;\">17.57</td><td style = \"text-align: right;\">17.44</td><td style = \"text-align: right;\">17.5</td><td style = \"text-align: right;\">17.5</td><td style = \"text-align: left;\">AAAU</td></tr><tr><td class = \"rowNumber\" style = \"font-weight: bold; text-align: right;\">10</td><td style = \"text-align: left;\">2020-06-19</td><td style = \"text-align: right;\">153800</td><td style = \"text-align: right;\">17.27</td><td style = \"text-align: right;\">17.4</td><td style = \"text-align: right;\">17.26</td><td style = \"text-align: right;\">17.4</td><td style = \"text-align: right;\">17.4</td><td style = \"text-align: left;\">AAAU</td></tr><tr><td class = \"rowNumber\" style = \"font-weight: bold; text-align: right;\">11</td><td style = \"text-align: left;\">2020-06-18</td><td style = \"text-align: right;\">102200</td><td style = \"text-align: right;\">17.27</td><td style = \"text-align: right;\">17.27</td><td style = \"text-align: right;\">17.14</td><td style = \"text-align: right;\">17.23</td><td style = \"text-align: right;\">17.23</td><td style = \"text-align: left;\">AAAU</td></tr><tr><td class = \"rowNumber\" style = \"font-weight: bold; text-align: right;\">12</td><td style = \"text-align: left;\">2020-06-17</td><td style = \"text-align: right;\">153900</td><td style = \"text-align: right;\">17.19</td><td style = \"text-align: right;\">17.25</td><td style = \"text-align: right;\">17.16</td><td style = \"text-align: right;\">17.25</td><td style = \"text-align: right;\">17.25</td><td style = \"text-align: left;\">AAAU</td></tr><tr><td class = \"rowNumber\" style = \"font-weight: bold; text-align: right;\">13</td><td style = \"text-align: left;\">2020-06-16</td><td style = \"text-align: right;\">165800</td><td style = \"text-align: right;\">17.15</td><td style = \"text-align: right;\">17.25</td><td style = \"text-align: right;\">17.11</td><td style = \"text-align: right;\">17.21</td><td style = \"text-align: right;\">17.21</td><td style = \"text-align: left;\">AAAU</td></tr><tr><td style = \"text-align: right;\">&vellip;</td><td style = \"text-align: right;\">&vellip;</td><td style = \"text-align: right;\">&vellip;</td><td style = \"text-align: right;\">&vellip;</td><td style = \"text-align: right;\">&vellip;</td><td style = \"text-align: right;\">&vellip;</td><td style = \"text-align: right;\">&vellip;</td><td style = \"text-align: right;\">&vellip;</td><td style = \"text-align: right;\">&vellip;</td></tr><tr><td class = \"rowNumber\" style = \"font-weight: bold; text-align: right;\">6852027</td><td style = \"text-align: left;\">2015-01-23</td><td style = \"text-align: right;\">800</td><td style = \"text-align: right;\">0.13</td><td style = \"text-align: right;\">0.18</td><td style = \"text-align: right;\">0.13</td><td style = \"text-align: right;\">0.18</td><td style = \"text-align: right;\">0.175245</td><td style = \"text-align: left;\">ZYXI</td></tr><tr><td class = \"rowNumber\" style = \"font-weight: bold; text-align: right;\">6852028</td><td style = \"text-align: left;\">2015-01-22</td><td style = \"text-align: right;\">5000</td><td style = \"text-align: right;\">0.12</td><td style = \"text-align: right;\">0.18</td><td style = \"text-align: right;\">0.12</td><td style = \"text-align: right;\">0.18</td><td style = \"text-align: right;\">0.175245</td><td style = \"text-align: left;\">ZYXI</td></tr><tr><td class = \"rowNumber\" style = \"font-weight: bold; text-align: right;\">6852029</td><td style = \"text-align: left;\">2015-01-21</td><td style = \"text-align: right;\">7800</td><td style = \"text-align: right;\">0.13</td><td style = \"text-align: right;\">0.18</td><td style = \"text-align: right;\">0.12</td><td style = \"text-align: right;\">0.18</td><td style = \"text-align: right;\">0.175245</td><td style = \"text-align: left;\">ZYXI</td></tr><tr><td class = \"rowNumber\" style = \"font-weight: bold; text-align: right;\">6852030</td><td style = \"text-align: left;\">2015-01-20</td><td style = \"text-align: right;\">1800</td><td style = \"text-align: right;\">0.18</td><td style = \"text-align: right;\">0.18</td><td style = \"text-align: right;\">0.17</td><td style = \"text-align: right;\">0.18</td><td style = \"text-align: right;\">0.175245</td><td style = \"text-align: left;\">ZYXI</td></tr><tr><td class = \"rowNumber\" style = \"font-weight: bold; text-align: right;\">6852031</td><td style = \"text-align: left;\">2015-01-16</td><td style = \"text-align: right;\">8000</td><td style = \"text-align: right;\">0.12</td><td style = \"text-align: right;\">0.18</td><td style = \"text-align: right;\">0.12</td><td style = \"text-align: right;\">0.18</td><td style = \"text-align: right;\">0.175245</td><td style = \"text-align: left;\">ZYXI</td></tr><tr><td class = \"rowNumber\" style = \"font-weight: bold; text-align: right;\">6852032</td><td style = \"text-align: left;\">2015-01-14</td><td style = \"text-align: right;\">33800</td><td style = \"text-align: right;\">0.13</td><td style = \"text-align: right;\">0.19</td><td style = \"text-align: right;\">0.13</td><td style = \"text-align: right;\">0.19</td><td style = \"text-align: right;\">0.184981</td><td style = \"text-align: left;\">ZYXI</td></tr><tr><td class = \"rowNumber\" style = \"font-weight: bold; text-align: right;\">6852033</td><td style = \"text-align: left;\">2015-01-13</td><td style = \"text-align: right;\">27800</td><td style = \"text-align: right;\">0.14</td><td style = \"text-align: right;\">0.19</td><td style = \"text-align: right;\">0.14</td><td style = \"text-align: right;\">0.19</td><td style = \"text-align: right;\">0.184981</td><td style = \"text-align: left;\">ZYXI</td></tr><tr><td class = \"rowNumber\" style = \"font-weight: bold; text-align: right;\">6852034</td><td style = \"text-align: left;\">2015-01-12</td><td style = \"text-align: right;\">10000</td><td style = \"text-align: right;\">0.14</td><td style = \"text-align: right;\">0.14</td><td style = \"text-align: right;\">0.14</td><td style = \"text-align: right;\">0.14</td><td style = \"text-align: right;\">0.136302</td><td style = \"text-align: left;\">ZYXI</td></tr><tr><td class = \"rowNumber\" style = \"font-weight: bold; text-align: right;\">6852035</td><td style = \"text-align: left;\">2015-01-09</td><td style = \"text-align: right;\">200</td><td style = \"text-align: right;\">0.15</td><td style = \"text-align: right;\">0.15</td><td style = \"text-align: right;\">0.15</td><td style = \"text-align: right;\">0.15</td><td style = \"text-align: right;\">0.146038</td><td style = \"text-align: left;\">ZYXI</td></tr><tr><td class = \"rowNumber\" style = \"font-weight: bold; text-align: right;\">6852036</td><td style = \"text-align: left;\">2015-01-07</td><td style = \"text-align: right;\">8100</td><td style = \"text-align: right;\">0.14</td><td style = \"text-align: right;\">0.15</td><td style = \"text-align: right;\">0.13</td><td style = \"text-align: right;\">0.15</td><td style = \"text-align: right;\">0.146038</td><td style = \"text-align: left;\">ZYXI</td></tr><tr><td class = \"rowNumber\" style = \"font-weight: bold; text-align: right;\">6852037</td><td style = \"text-align: left;\">2015-01-05</td><td style = \"text-align: right;\">33200</td><td style = \"text-align: right;\">0.22</td><td style = \"text-align: right;\">0.22</td><td style = \"text-align: right;\">0.14</td><td style = \"text-align: right;\">0.16</td><td style = \"text-align: right;\">0.155774</td><td style = \"text-align: left;\">ZYXI</td></tr><tr><td class = \"rowNumber\" style = \"font-weight: bold; text-align: right;\">6852038</td><td style = \"text-align: left;\">2015-01-02</td><td style = \"text-align: right;\">100</td><td style = \"text-align: right;\">0.18</td><td style = \"text-align: right;\">0.18</td><td style = \"text-align: right;\">0.18</td><td style = \"text-align: right;\">0.18</td><td style = \"text-align: right;\">0.175245</td><td style = \"text-align: left;\">ZYXI</td></tr></tbody></table></div>"
      ],
      "text/latex": [
       "\\begin{tabular}{r|cccccccc}\n",
       "\t& date & volume & open & high & low & close & adjclose & symbol\\\\\n",
       "\t\\hline\n",
       "\t& Date & Int64 & Float64 & Float64 & Float64 & Float64 & Float64 & String7\\\\\n",
       "\t\\hline\n",
       "\t1 & 2222-07-02 & 257500 & 17.64 & 17.74 & 17.62 & 17.71 & 17.71 & AAAU \\\\\n",
       "\t2 & 2020-07-01 & 468100 & 17.73 & 17.73 & 17.54 & 17.68 & 17.68 & AAAU \\\\\n",
       "\t3 & 2020-06-30 & 319100 & 17.65 & 17.8 & 17.61 & 17.78 & 17.78 & AAAU \\\\\n",
       "\t4 & 2020-06-29 & 405500 & 17.67 & 17.69 & 17.63 & 17.68 & 17.68 & AAAU \\\\\n",
       "\t5 & 2020-06-26 & 335100 & 17.49 & 17.67 & 17.42 & 17.67 & 17.67 & AAAU \\\\\n",
       "\t6 & 2020-06-25 & 246800 & 17.6 & 17.6 & 17.52 & 17.59 & 17.59 & AAAU \\\\\n",
       "\t7 & 2020-06-24 & 329200 & 17.61 & 17.71 & 17.56 & 17.61 & 17.61 & AAAU \\\\\n",
       "\t8 & 2020-06-23 & 351800 & 17.55 & 17.66 & 17.55 & 17.66 & 17.66 & AAAU \\\\\n",
       "\t9 & 2020-06-22 & 308300 & 17.5 & 17.57 & 17.44 & 17.5 & 17.5 & AAAU \\\\\n",
       "\t10 & 2020-06-19 & 153800 & 17.27 & 17.4 & 17.26 & 17.4 & 17.4 & AAAU \\\\\n",
       "\t11 & 2020-06-18 & 102200 & 17.27 & 17.27 & 17.14 & 17.23 & 17.23 & AAAU \\\\\n",
       "\t12 & 2020-06-17 & 153900 & 17.19 & 17.25 & 17.16 & 17.25 & 17.25 & AAAU \\\\\n",
       "\t13 & 2020-06-16 & 165800 & 17.15 & 17.25 & 17.11 & 17.21 & 17.21 & AAAU \\\\\n",
       "\t14 & 2020-06-15 & 308700 & 17.03 & 17.23 & 17.0 & 17.2 & 17.2 & AAAU \\\\\n",
       "\t15 & 2020-06-12 & 161400 & 17.34 & 17.37 & 17.25 & 17.27 & 17.27 & AAAU \\\\\n",
       "\t16 & 2020-06-11 & 308800 & 17.33 & 17.4 & 17.17 & 17.23 & 17.23 & AAAU \\\\\n",
       "\t17 & 2020-06-10 & 316900 & 17.2 & 17.35 & 17.08 & 17.35 & 17.35 & AAAU \\\\\n",
       "\t18 & 2020-06-09 & 296100 & 17.11 & 17.18 & 17.07 & 17.11 & 17.11 & AAAU \\\\\n",
       "\t19 & 2020-06-08 & 386900 & 16.85 & 16.95 & 16.81 & 16.95 & 16.95 & AAAU \\\\\n",
       "\t20 & 2020-06-05 & 510400 & 16.84 & 16.84 & 16.67 & 16.76 & 16.76 & AAAU \\\\\n",
       "\t21 & 2020-06-04 & 270800 & 17.07 & 17.16 & 16.95 & 17.11 & 17.11 & AAAU \\\\\n",
       "\t22 & 2020-06-03 & 480300 & 17.01 & 17.06 & 16.84 & 16.92 & 16.92 & AAAU \\\\\n",
       "\t23 & 2020-06-02 & 166100 & 17.39 & 17.4 & 17.17 & 17.24 & 17.24 & AAAU \\\\\n",
       "\t24 & 2020-06-01 & 388700 & 17.3 & 17.37 & 17.24 & 17.37 & 17.37 & AAAU \\\\\n",
       "\t25 & 2020-05-29 & 426100 & 17.25 & 17.32 & 17.22 & 17.27 & 17.27 & AAAU \\\\\n",
       "\t26 & 2020-05-28 & 227500 & 17.21 & 17.22 & 17.07 & 17.16 & 17.16 & AAAU \\\\\n",
       "\t27 & 2020-05-27 & 480900 & 16.9 & 17.11 & 16.88 & 17.1 & 17.1 & AAAU \\\\\n",
       "\t28 & 2020-05-26 & 559900 & 17.26 & 17.26 & 17.04 & 17.05 & 17.05 & AAAU \\\\\n",
       "\t29 & 2020-05-22 & 202300 & 17.28 & 17.33 & 17.26 & 17.3 & 17.3 & AAAU \\\\\n",
       "\t30 & 2020-05-21 & 377500 & 17.34 & 17.35 & 17.12 & 17.21 & 17.21 & AAAU \\\\\n",
       "\t$\\dots$ & $\\dots$ & $\\dots$ & $\\dots$ & $\\dots$ & $\\dots$ & $\\dots$ & $\\dots$ & $\\dots$ \\\\\n",
       "\\end{tabular}\n"
      ],
      "text/plain": [
       "\u001b[1m6852038×8 DataFrame\u001b[0m\n",
       "\u001b[1m     Row \u001b[0m│\u001b[1m date       \u001b[0m\u001b[1m volume \u001b[0m\u001b[1m open    \u001b[0m\u001b[1m high    \u001b[0m\u001b[1m low     \u001b[0m\u001b[1m close   \u001b[0m\u001b[1m adjclose  \u001b[0m\u001b[1m \u001b[0m ⋯\n",
       "         │\u001b[90m Date       \u001b[0m\u001b[90m Int64  \u001b[0m\u001b[90m Float64 \u001b[0m\u001b[90m Float64 \u001b[0m\u001b[90m Float64 \u001b[0m\u001b[90m Float64 \u001b[0m\u001b[90m Float64   \u001b[0m\u001b[90m \u001b[0m ⋯\n",
       "─────────┼──────────────────────────────────────────────────────────────────────\n",
       "       1 │ 2222-07-02  257500    17.64    17.74    17.62    17.71  17.71       ⋯\n",
       "       2 │ 2020-07-01  468100    17.73    17.73    17.54    17.68  17.68\n",
       "       3 │ 2020-06-30  319100    17.65    17.8     17.61    17.78  17.78\n",
       "       4 │ 2020-06-29  405500    17.67    17.69    17.63    17.68  17.68\n",
       "       5 │ 2020-06-26  335100    17.49    17.67    17.42    17.67  17.67       ⋯\n",
       "       6 │ 2020-06-25  246800    17.6     17.6     17.52    17.59  17.59\n",
       "       7 │ 2020-06-24  329200    17.61    17.71    17.56    17.61  17.61\n",
       "       8 │ 2020-06-23  351800    17.55    17.66    17.55    17.66  17.66\n",
       "       9 │ 2020-06-22  308300    17.5     17.57    17.44    17.5   17.5        ⋯\n",
       "      10 │ 2020-06-19  153800    17.27    17.4     17.26    17.4   17.4\n",
       "      11 │ 2020-06-18  102200    17.27    17.27    17.14    17.23  17.23\n",
       "    ⋮    │     ⋮         ⋮        ⋮        ⋮        ⋮        ⋮         ⋮       ⋱\n",
       " 6852029 │ 2015-01-21    7800     0.13     0.18     0.12     0.18   0.175245\n",
       " 6852030 │ 2015-01-20    1800     0.18     0.18     0.17     0.18   0.175245   ⋯\n",
       " 6852031 │ 2015-01-16    8000     0.12     0.18     0.12     0.18   0.175245\n",
       " 6852032 │ 2015-01-14   33800     0.13     0.19     0.13     0.19   0.184981\n",
       " 6852033 │ 2015-01-13   27800     0.14     0.19     0.14     0.19   0.184981\n",
       " 6852034 │ 2015-01-12   10000     0.14     0.14     0.14     0.14   0.136302   ⋯\n",
       " 6852035 │ 2015-01-09     200     0.15     0.15     0.15     0.15   0.146038\n",
       " 6852036 │ 2015-01-07    8100     0.14     0.15     0.13     0.15   0.146038\n",
       " 6852037 │ 2015-01-05   33200     0.22     0.22     0.14     0.16   0.155774\n",
       " 6852038 │ 2015-01-02     100     0.18     0.18     0.18     0.18   0.175245   ⋯\n",
       "\u001b[36m                                               1 column and 6852017 rows omitted\u001b[0m"
      ]
     },
     "execution_count": 25,
     "metadata": {},
     "output_type": "execute_result"
    }
   ],
   "source": [
    "fh5"
   ]
  },
  {
   "cell_type": "markdown",
   "metadata": {},
   "source": [
    "Revert the change we have just made"
   ]
  },
  {
   "cell_type": "code",
   "execution_count": 26,
   "metadata": {},
   "outputs": [
    {
     "data": {
      "text/plain": [
       "2020-07-02"
      ]
     },
     "execution_count": 26,
     "metadata": {},
     "output_type": "execute_result"
    }
   ],
   "source": [
    "tmp_cell[] = tmp_cell2"
   ]
  },
  {
   "cell_type": "code",
   "execution_count": 27,
   "metadata": {},
   "outputs": [
    {
     "data": {
      "text/html": [
       "<div><div style = \"float: left;\"><span>6852038×8 DataFrame</span></div><div style = \"float: right;\"><span style = \"font-style: italic;\">6852013 rows omitted</span></div><div style = \"clear: both;\"></div></div><div class = \"data-frame\" style = \"overflow-x: scroll;\"><table class = \"data-frame\" style = \"margin-bottom: 6px;\"><thead><tr class = \"header\"><th class = \"rowNumber\" style = \"font-weight: bold; text-align: right;\">Row</th><th style = \"text-align: left;\">date</th><th style = \"text-align: left;\">volume</th><th style = \"text-align: left;\">open</th><th style = \"text-align: left;\">high</th><th style = \"text-align: left;\">low</th><th style = \"text-align: left;\">close</th><th style = \"text-align: left;\">adjclose</th><th style = \"text-align: left;\">symbol</th></tr><tr class = \"subheader headerLastRow\"><th class = \"rowNumber\" style = \"font-weight: bold; text-align: right;\"></th><th title = \"Date\" style = \"text-align: left;\">Date</th><th title = \"Int64\" style = \"text-align: left;\">Int64</th><th title = \"Float64\" style = \"text-align: left;\">Float64</th><th title = \"Float64\" style = \"text-align: left;\">Float64</th><th title = \"Float64\" style = \"text-align: left;\">Float64</th><th title = \"Float64\" style = \"text-align: left;\">Float64</th><th title = \"Float64\" style = \"text-align: left;\">Float64</th><th title = \"String7\" style = \"text-align: left;\">String7</th></tr></thead><tbody><tr><td class = \"rowNumber\" style = \"font-weight: bold; text-align: right;\">1</td><td style = \"text-align: left;\">2020-07-02</td><td style = \"text-align: right;\">257500</td><td style = \"text-align: right;\">17.64</td><td style = \"text-align: right;\">17.74</td><td style = \"text-align: right;\">17.62</td><td style = \"text-align: right;\">17.71</td><td style = \"text-align: right;\">17.71</td><td style = \"text-align: left;\">AAAU</td></tr><tr><td class = \"rowNumber\" style = \"font-weight: bold; text-align: right;\">2</td><td style = \"text-align: left;\">2020-07-01</td><td style = \"text-align: right;\">468100</td><td style = \"text-align: right;\">17.73</td><td style = \"text-align: right;\">17.73</td><td style = \"text-align: right;\">17.54</td><td style = \"text-align: right;\">17.68</td><td style = \"text-align: right;\">17.68</td><td style = \"text-align: left;\">AAAU</td></tr><tr><td class = \"rowNumber\" style = \"font-weight: bold; text-align: right;\">3</td><td style = \"text-align: left;\">2020-06-30</td><td style = \"text-align: right;\">319100</td><td style = \"text-align: right;\">17.65</td><td style = \"text-align: right;\">17.8</td><td style = \"text-align: right;\">17.61</td><td style = \"text-align: right;\">17.78</td><td style = \"text-align: right;\">17.78</td><td style = \"text-align: left;\">AAAU</td></tr><tr><td class = \"rowNumber\" style = \"font-weight: bold; text-align: right;\">4</td><td style = \"text-align: left;\">2020-06-29</td><td style = \"text-align: right;\">405500</td><td style = \"text-align: right;\">17.67</td><td style = \"text-align: right;\">17.69</td><td style = \"text-align: right;\">17.63</td><td style = \"text-align: right;\">17.68</td><td style = \"text-align: right;\">17.68</td><td style = \"text-align: left;\">AAAU</td></tr><tr><td class = \"rowNumber\" style = \"font-weight: bold; text-align: right;\">5</td><td style = \"text-align: left;\">2020-06-26</td><td style = \"text-align: right;\">335100</td><td style = \"text-align: right;\">17.49</td><td style = \"text-align: right;\">17.67</td><td style = \"text-align: right;\">17.42</td><td style = \"text-align: right;\">17.67</td><td style = \"text-align: right;\">17.67</td><td style = \"text-align: left;\">AAAU</td></tr><tr><td class = \"rowNumber\" style = \"font-weight: bold; text-align: right;\">6</td><td style = \"text-align: left;\">2020-06-25</td><td style = \"text-align: right;\">246800</td><td style = \"text-align: right;\">17.6</td><td style = \"text-align: right;\">17.6</td><td style = \"text-align: right;\">17.52</td><td style = \"text-align: right;\">17.59</td><td style = \"text-align: right;\">17.59</td><td style = \"text-align: left;\">AAAU</td></tr><tr><td class = \"rowNumber\" style = \"font-weight: bold; text-align: right;\">7</td><td style = \"text-align: left;\">2020-06-24</td><td style = \"text-align: right;\">329200</td><td style = \"text-align: right;\">17.61</td><td style = \"text-align: right;\">17.71</td><td style = \"text-align: right;\">17.56</td><td style = \"text-align: right;\">17.61</td><td style = \"text-align: right;\">17.61</td><td style = \"text-align: left;\">AAAU</td></tr><tr><td class = \"rowNumber\" style = \"font-weight: bold; text-align: right;\">8</td><td style = \"text-align: left;\">2020-06-23</td><td style = \"text-align: right;\">351800</td><td style = \"text-align: right;\">17.55</td><td style = \"text-align: right;\">17.66</td><td style = \"text-align: right;\">17.55</td><td style = \"text-align: right;\">17.66</td><td style = \"text-align: right;\">17.66</td><td style = \"text-align: left;\">AAAU</td></tr><tr><td class = \"rowNumber\" style = \"font-weight: bold; text-align: right;\">9</td><td style = \"text-align: left;\">2020-06-22</td><td style = \"text-align: right;\">308300</td><td style = \"text-align: right;\">17.5</td><td style = \"text-align: right;\">17.57</td><td style = \"text-align: right;\">17.44</td><td style = \"text-align: right;\">17.5</td><td style = \"text-align: right;\">17.5</td><td style = \"text-align: left;\">AAAU</td></tr><tr><td class = \"rowNumber\" style = \"font-weight: bold; text-align: right;\">10</td><td style = \"text-align: left;\">2020-06-19</td><td style = \"text-align: right;\">153800</td><td style = \"text-align: right;\">17.27</td><td style = \"text-align: right;\">17.4</td><td style = \"text-align: right;\">17.26</td><td style = \"text-align: right;\">17.4</td><td style = \"text-align: right;\">17.4</td><td style = \"text-align: left;\">AAAU</td></tr><tr><td class = \"rowNumber\" style = \"font-weight: bold; text-align: right;\">11</td><td style = \"text-align: left;\">2020-06-18</td><td style = \"text-align: right;\">102200</td><td style = \"text-align: right;\">17.27</td><td style = \"text-align: right;\">17.27</td><td style = \"text-align: right;\">17.14</td><td style = \"text-align: right;\">17.23</td><td style = \"text-align: right;\">17.23</td><td style = \"text-align: left;\">AAAU</td></tr><tr><td class = \"rowNumber\" style = \"font-weight: bold; text-align: right;\">12</td><td style = \"text-align: left;\">2020-06-17</td><td style = \"text-align: right;\">153900</td><td style = \"text-align: right;\">17.19</td><td style = \"text-align: right;\">17.25</td><td style = \"text-align: right;\">17.16</td><td style = \"text-align: right;\">17.25</td><td style = \"text-align: right;\">17.25</td><td style = \"text-align: left;\">AAAU</td></tr><tr><td class = \"rowNumber\" style = \"font-weight: bold; text-align: right;\">13</td><td style = \"text-align: left;\">2020-06-16</td><td style = \"text-align: right;\">165800</td><td style = \"text-align: right;\">17.15</td><td style = \"text-align: right;\">17.25</td><td style = \"text-align: right;\">17.11</td><td style = \"text-align: right;\">17.21</td><td style = \"text-align: right;\">17.21</td><td style = \"text-align: left;\">AAAU</td></tr><tr><td style = \"text-align: right;\">&vellip;</td><td style = \"text-align: right;\">&vellip;</td><td style = \"text-align: right;\">&vellip;</td><td style = \"text-align: right;\">&vellip;</td><td style = \"text-align: right;\">&vellip;</td><td style = \"text-align: right;\">&vellip;</td><td style = \"text-align: right;\">&vellip;</td><td style = \"text-align: right;\">&vellip;</td><td style = \"text-align: right;\">&vellip;</td></tr><tr><td class = \"rowNumber\" style = \"font-weight: bold; text-align: right;\">6852027</td><td style = \"text-align: left;\">2015-01-23</td><td style = \"text-align: right;\">800</td><td style = \"text-align: right;\">0.13</td><td style = \"text-align: right;\">0.18</td><td style = \"text-align: right;\">0.13</td><td style = \"text-align: right;\">0.18</td><td style = \"text-align: right;\">0.175245</td><td style = \"text-align: left;\">ZYXI</td></tr><tr><td class = \"rowNumber\" style = \"font-weight: bold; text-align: right;\">6852028</td><td style = \"text-align: left;\">2015-01-22</td><td style = \"text-align: right;\">5000</td><td style = \"text-align: right;\">0.12</td><td style = \"text-align: right;\">0.18</td><td style = \"text-align: right;\">0.12</td><td style = \"text-align: right;\">0.18</td><td style = \"text-align: right;\">0.175245</td><td style = \"text-align: left;\">ZYXI</td></tr><tr><td class = \"rowNumber\" style = \"font-weight: bold; text-align: right;\">6852029</td><td style = \"text-align: left;\">2015-01-21</td><td style = \"text-align: right;\">7800</td><td style = \"text-align: right;\">0.13</td><td style = \"text-align: right;\">0.18</td><td style = \"text-align: right;\">0.12</td><td style = \"text-align: right;\">0.18</td><td style = \"text-align: right;\">0.175245</td><td style = \"text-align: left;\">ZYXI</td></tr><tr><td class = \"rowNumber\" style = \"font-weight: bold; text-align: right;\">6852030</td><td style = \"text-align: left;\">2015-01-20</td><td style = \"text-align: right;\">1800</td><td style = \"text-align: right;\">0.18</td><td style = \"text-align: right;\">0.18</td><td style = \"text-align: right;\">0.17</td><td style = \"text-align: right;\">0.18</td><td style = \"text-align: right;\">0.175245</td><td style = \"text-align: left;\">ZYXI</td></tr><tr><td class = \"rowNumber\" style = \"font-weight: bold; text-align: right;\">6852031</td><td style = \"text-align: left;\">2015-01-16</td><td style = \"text-align: right;\">8000</td><td style = \"text-align: right;\">0.12</td><td style = \"text-align: right;\">0.18</td><td style = \"text-align: right;\">0.12</td><td style = \"text-align: right;\">0.18</td><td style = \"text-align: right;\">0.175245</td><td style = \"text-align: left;\">ZYXI</td></tr><tr><td class = \"rowNumber\" style = \"font-weight: bold; text-align: right;\">6852032</td><td style = \"text-align: left;\">2015-01-14</td><td style = \"text-align: right;\">33800</td><td style = \"text-align: right;\">0.13</td><td style = \"text-align: right;\">0.19</td><td style = \"text-align: right;\">0.13</td><td style = \"text-align: right;\">0.19</td><td style = \"text-align: right;\">0.184981</td><td style = \"text-align: left;\">ZYXI</td></tr><tr><td class = \"rowNumber\" style = \"font-weight: bold; text-align: right;\">6852033</td><td style = \"text-align: left;\">2015-01-13</td><td style = \"text-align: right;\">27800</td><td style = \"text-align: right;\">0.14</td><td style = \"text-align: right;\">0.19</td><td style = \"text-align: right;\">0.14</td><td style = \"text-align: right;\">0.19</td><td style = \"text-align: right;\">0.184981</td><td style = \"text-align: left;\">ZYXI</td></tr><tr><td class = \"rowNumber\" style = \"font-weight: bold; text-align: right;\">6852034</td><td style = \"text-align: left;\">2015-01-12</td><td style = \"text-align: right;\">10000</td><td style = \"text-align: right;\">0.14</td><td style = \"text-align: right;\">0.14</td><td style = \"text-align: right;\">0.14</td><td style = \"text-align: right;\">0.14</td><td style = \"text-align: right;\">0.136302</td><td style = \"text-align: left;\">ZYXI</td></tr><tr><td class = \"rowNumber\" style = \"font-weight: bold; text-align: right;\">6852035</td><td style = \"text-align: left;\">2015-01-09</td><td style = \"text-align: right;\">200</td><td style = \"text-align: right;\">0.15</td><td style = \"text-align: right;\">0.15</td><td style = \"text-align: right;\">0.15</td><td style = \"text-align: right;\">0.15</td><td style = \"text-align: right;\">0.146038</td><td style = \"text-align: left;\">ZYXI</td></tr><tr><td class = \"rowNumber\" style = \"font-weight: bold; text-align: right;\">6852036</td><td style = \"text-align: left;\">2015-01-07</td><td style = \"text-align: right;\">8100</td><td style = \"text-align: right;\">0.14</td><td style = \"text-align: right;\">0.15</td><td style = \"text-align: right;\">0.13</td><td style = \"text-align: right;\">0.15</td><td style = \"text-align: right;\">0.146038</td><td style = \"text-align: left;\">ZYXI</td></tr><tr><td class = \"rowNumber\" style = \"font-weight: bold; text-align: right;\">6852037</td><td style = \"text-align: left;\">2015-01-05</td><td style = \"text-align: right;\">33200</td><td style = \"text-align: right;\">0.22</td><td style = \"text-align: right;\">0.22</td><td style = \"text-align: right;\">0.14</td><td style = \"text-align: right;\">0.16</td><td style = \"text-align: right;\">0.155774</td><td style = \"text-align: left;\">ZYXI</td></tr><tr><td class = \"rowNumber\" style = \"font-weight: bold; text-align: right;\">6852038</td><td style = \"text-align: left;\">2015-01-02</td><td style = \"text-align: right;\">100</td><td style = \"text-align: right;\">0.18</td><td style = \"text-align: right;\">0.18</td><td style = \"text-align: right;\">0.18</td><td style = \"text-align: right;\">0.18</td><td style = \"text-align: right;\">0.175245</td><td style = \"text-align: left;\">ZYXI</td></tr></tbody></table></div>"
      ],
      "text/latex": [
       "\\begin{tabular}{r|cccccccc}\n",
       "\t& date & volume & open & high & low & close & adjclose & symbol\\\\\n",
       "\t\\hline\n",
       "\t& Date & Int64 & Float64 & Float64 & Float64 & Float64 & Float64 & String7\\\\\n",
       "\t\\hline\n",
       "\t1 & 2020-07-02 & 257500 & 17.64 & 17.74 & 17.62 & 17.71 & 17.71 & AAAU \\\\\n",
       "\t2 & 2020-07-01 & 468100 & 17.73 & 17.73 & 17.54 & 17.68 & 17.68 & AAAU \\\\\n",
       "\t3 & 2020-06-30 & 319100 & 17.65 & 17.8 & 17.61 & 17.78 & 17.78 & AAAU \\\\\n",
       "\t4 & 2020-06-29 & 405500 & 17.67 & 17.69 & 17.63 & 17.68 & 17.68 & AAAU \\\\\n",
       "\t5 & 2020-06-26 & 335100 & 17.49 & 17.67 & 17.42 & 17.67 & 17.67 & AAAU \\\\\n",
       "\t6 & 2020-06-25 & 246800 & 17.6 & 17.6 & 17.52 & 17.59 & 17.59 & AAAU \\\\\n",
       "\t7 & 2020-06-24 & 329200 & 17.61 & 17.71 & 17.56 & 17.61 & 17.61 & AAAU \\\\\n",
       "\t8 & 2020-06-23 & 351800 & 17.55 & 17.66 & 17.55 & 17.66 & 17.66 & AAAU \\\\\n",
       "\t9 & 2020-06-22 & 308300 & 17.5 & 17.57 & 17.44 & 17.5 & 17.5 & AAAU \\\\\n",
       "\t10 & 2020-06-19 & 153800 & 17.27 & 17.4 & 17.26 & 17.4 & 17.4 & AAAU \\\\\n",
       "\t11 & 2020-06-18 & 102200 & 17.27 & 17.27 & 17.14 & 17.23 & 17.23 & AAAU \\\\\n",
       "\t12 & 2020-06-17 & 153900 & 17.19 & 17.25 & 17.16 & 17.25 & 17.25 & AAAU \\\\\n",
       "\t13 & 2020-06-16 & 165800 & 17.15 & 17.25 & 17.11 & 17.21 & 17.21 & AAAU \\\\\n",
       "\t14 & 2020-06-15 & 308700 & 17.03 & 17.23 & 17.0 & 17.2 & 17.2 & AAAU \\\\\n",
       "\t15 & 2020-06-12 & 161400 & 17.34 & 17.37 & 17.25 & 17.27 & 17.27 & AAAU \\\\\n",
       "\t16 & 2020-06-11 & 308800 & 17.33 & 17.4 & 17.17 & 17.23 & 17.23 & AAAU \\\\\n",
       "\t17 & 2020-06-10 & 316900 & 17.2 & 17.35 & 17.08 & 17.35 & 17.35 & AAAU \\\\\n",
       "\t18 & 2020-06-09 & 296100 & 17.11 & 17.18 & 17.07 & 17.11 & 17.11 & AAAU \\\\\n",
       "\t19 & 2020-06-08 & 386900 & 16.85 & 16.95 & 16.81 & 16.95 & 16.95 & AAAU \\\\\n",
       "\t20 & 2020-06-05 & 510400 & 16.84 & 16.84 & 16.67 & 16.76 & 16.76 & AAAU \\\\\n",
       "\t21 & 2020-06-04 & 270800 & 17.07 & 17.16 & 16.95 & 17.11 & 17.11 & AAAU \\\\\n",
       "\t22 & 2020-06-03 & 480300 & 17.01 & 17.06 & 16.84 & 16.92 & 16.92 & AAAU \\\\\n",
       "\t23 & 2020-06-02 & 166100 & 17.39 & 17.4 & 17.17 & 17.24 & 17.24 & AAAU \\\\\n",
       "\t24 & 2020-06-01 & 388700 & 17.3 & 17.37 & 17.24 & 17.37 & 17.37 & AAAU \\\\\n",
       "\t25 & 2020-05-29 & 426100 & 17.25 & 17.32 & 17.22 & 17.27 & 17.27 & AAAU \\\\\n",
       "\t26 & 2020-05-28 & 227500 & 17.21 & 17.22 & 17.07 & 17.16 & 17.16 & AAAU \\\\\n",
       "\t27 & 2020-05-27 & 480900 & 16.9 & 17.11 & 16.88 & 17.1 & 17.1 & AAAU \\\\\n",
       "\t28 & 2020-05-26 & 559900 & 17.26 & 17.26 & 17.04 & 17.05 & 17.05 & AAAU \\\\\n",
       "\t29 & 2020-05-22 & 202300 & 17.28 & 17.33 & 17.26 & 17.3 & 17.3 & AAAU \\\\\n",
       "\t30 & 2020-05-21 & 377500 & 17.34 & 17.35 & 17.12 & 17.21 & 17.21 & AAAU \\\\\n",
       "\t$\\dots$ & $\\dots$ & $\\dots$ & $\\dots$ & $\\dots$ & $\\dots$ & $\\dots$ & $\\dots$ & $\\dots$ \\\\\n",
       "\\end{tabular}\n"
      ],
      "text/plain": [
       "\u001b[1m6852038×8 DataFrame\u001b[0m\n",
       "\u001b[1m     Row \u001b[0m│\u001b[1m date       \u001b[0m\u001b[1m volume \u001b[0m\u001b[1m open    \u001b[0m\u001b[1m high    \u001b[0m\u001b[1m low     \u001b[0m\u001b[1m close   \u001b[0m\u001b[1m adjclose  \u001b[0m\u001b[1m \u001b[0m ⋯\n",
       "         │\u001b[90m Date       \u001b[0m\u001b[90m Int64  \u001b[0m\u001b[90m Float64 \u001b[0m\u001b[90m Float64 \u001b[0m\u001b[90m Float64 \u001b[0m\u001b[90m Float64 \u001b[0m\u001b[90m Float64   \u001b[0m\u001b[90m \u001b[0m ⋯\n",
       "─────────┼──────────────────────────────────────────────────────────────────────\n",
       "       1 │ 2020-07-02  257500    17.64    17.74    17.62    17.71  17.71       ⋯\n",
       "       2 │ 2020-07-01  468100    17.73    17.73    17.54    17.68  17.68\n",
       "       3 │ 2020-06-30  319100    17.65    17.8     17.61    17.78  17.78\n",
       "       4 │ 2020-06-29  405500    17.67    17.69    17.63    17.68  17.68\n",
       "       5 │ 2020-06-26  335100    17.49    17.67    17.42    17.67  17.67       ⋯\n",
       "       6 │ 2020-06-25  246800    17.6     17.6     17.52    17.59  17.59\n",
       "       7 │ 2020-06-24  329200    17.61    17.71    17.56    17.61  17.61\n",
       "       8 │ 2020-06-23  351800    17.55    17.66    17.55    17.66  17.66\n",
       "       9 │ 2020-06-22  308300    17.5     17.57    17.44    17.5   17.5        ⋯\n",
       "      10 │ 2020-06-19  153800    17.27    17.4     17.26    17.4   17.4\n",
       "      11 │ 2020-06-18  102200    17.27    17.27    17.14    17.23  17.23\n",
       "    ⋮    │     ⋮         ⋮        ⋮        ⋮        ⋮        ⋮         ⋮       ⋱\n",
       " 6852029 │ 2015-01-21    7800     0.13     0.18     0.12     0.18   0.175245\n",
       " 6852030 │ 2015-01-20    1800     0.18     0.18     0.17     0.18   0.175245   ⋯\n",
       " 6852031 │ 2015-01-16    8000     0.12     0.18     0.12     0.18   0.175245\n",
       " 6852032 │ 2015-01-14   33800     0.13     0.19     0.13     0.19   0.184981\n",
       " 6852033 │ 2015-01-13   27800     0.14     0.19     0.14     0.19   0.184981\n",
       " 6852034 │ 2015-01-12   10000     0.14     0.14     0.14     0.14   0.136302   ⋯\n",
       " 6852035 │ 2015-01-09     200     0.15     0.15     0.15     0.15   0.146038\n",
       " 6852036 │ 2015-01-07    8100     0.14     0.15     0.13     0.15   0.146038\n",
       " 6852037 │ 2015-01-05   33200     0.22     0.22     0.14     0.16   0.155774\n",
       " 6852038 │ 2015-01-02     100     0.18     0.18     0.18     0.18   0.175245   ⋯\n",
       "\u001b[36m                                               1 column and 6852017 rows omitted\u001b[0m"
      ]
     },
     "execution_count": 27,
     "metadata": {},
     "output_type": "execute_result"
    }
   ],
   "source": [
    "fh5"
   ]
  },
  {
   "cell_type": "markdown",
   "metadata": {},
   "source": [
    "To conclude note that with `view` there is no difference between `!` and `:`:"
   ]
  },
  {
   "cell_type": "code",
   "execution_count": 28,
   "metadata": {},
   "outputs": [
    {
     "data": {
      "text/plain": [
       "6852038-element view(::Vector{Date}, :) with eltype Date:\n",
       " 2020-07-02\n",
       " 2020-07-01\n",
       " 2020-06-30\n",
       " 2020-06-29\n",
       " 2020-06-26\n",
       " 2020-06-25\n",
       " 2020-06-24\n",
       " 2020-06-23\n",
       " 2020-06-22\n",
       " 2020-06-19\n",
       " 2020-06-18\n",
       " 2020-06-17\n",
       " 2020-06-16\n",
       " ⋮\n",
       " 2015-01-23\n",
       " 2015-01-22\n",
       " 2015-01-21\n",
       " 2015-01-20\n",
       " 2015-01-16\n",
       " 2015-01-14\n",
       " 2015-01-13\n",
       " 2015-01-12\n",
       " 2015-01-09\n",
       " 2015-01-07\n",
       " 2015-01-05\n",
       " 2015-01-02"
      ]
     },
     "execution_count": 28,
     "metadata": {},
     "output_type": "execute_result"
    }
   ],
   "source": [
    "@view fh5[!, 1]"
   ]
  },
  {
   "cell_type": "code",
   "execution_count": 29,
   "metadata": {},
   "outputs": [
    {
     "data": {
      "text/plain": [
       "6852038-element view(::Vector{Date}, :) with eltype Date:\n",
       " 2020-07-02\n",
       " 2020-07-01\n",
       " 2020-06-30\n",
       " 2020-06-29\n",
       " 2020-06-26\n",
       " 2020-06-25\n",
       " 2020-06-24\n",
       " 2020-06-23\n",
       " 2020-06-22\n",
       " 2020-06-19\n",
       " 2020-06-18\n",
       " 2020-06-17\n",
       " 2020-06-16\n",
       " ⋮\n",
       " 2015-01-23\n",
       " 2015-01-22\n",
       " 2015-01-21\n",
       " 2015-01-20\n",
       " 2015-01-16\n",
       " 2015-01-14\n",
       " 2015-01-13\n",
       " 2015-01-12\n",
       " 2015-01-09\n",
       " 2015-01-07\n",
       " 2015-01-05\n",
       " 2015-01-02"
      ]
     },
     "execution_count": 29,
     "metadata": {},
     "output_type": "execute_result"
    }
   ],
   "source": [
    "@view fh5[:, 1]"
   ]
  },
  {
   "cell_type": "markdown",
   "metadata": {},
   "source": [
    "#### Exercise"
   ]
  },
  {
   "cell_type": "markdown",
   "metadata": {},
   "source": [
    "Why is it useful to support `@view` both for `!` and `:`?"
   ]
  },
  {
   "cell_type": "markdown",
   "metadata": {},
   "source": [
    "<div class=\"alert alert-block alert-info\">\n",
    "<b>Tip:</b>\n",
    "    \n",
    "passing a single column as an integer, `Symbol` or string drops one dimension of\n",
    "a data frame and allows you to select or subset a column from it (depending on the row selector you choose)\n",
    "</div>"
   ]
  },
  {
   "cell_type": "markdown",
   "metadata": {},
   "source": [
    "Multiple column selection options are:\n",
    "* a vector of `Symbol` (does not have to be a subtype of `AbstractVector{Symbol}`, e.g. `Any[:date]`);\n",
    "* a vector of `AbstractString` (does not have to be a subtype of `AbstractVector{<:AbstractString}`, e.g. `Any[\"date\"]`);\n",
    "* a vector of `Integer` other than `Bool` (does not have to be a subtype of `AbstractVector{<:Integer}`, e.g. `Any[1]`);\n",
    "* a vector of `Bool` that has to be a subtype of `AbstractVector{Bool}`;\n",
    "* a regular expression, which gets expanded to a vector of matching column names;\n",
    "* a `Not` expression;\n",
    "* an `All` or `Between` expression;\n",
    "* a `Cols` expression;\n",
    "* a colon literal `:`."
   ]
  },
  {
   "cell_type": "markdown",
   "metadata": {},
   "source": [
    "The type of the result depends on the row selecor:\n",
    "* if it is a single row you get a `DataFrameRow` (a dimension is dropped)\n",
    "* if it is a collection of rows you get a data frame"
   ]
  },
  {
   "cell_type": "markdown",
   "metadata": {},
   "source": [
    "Single row selection is always a view that is `DataFrameRow`:"
   ]
  },
  {
   "cell_type": "code",
   "execution_count": 30,
   "metadata": {},
   "outputs": [
    {
     "data": {
      "text/html": [
       "<div><div style = \"float: left;\"><span>DataFrameRow (1 columns)</span></div><div style = \"clear: both;\"></div></div><div class = \"data-frame\" style = \"overflow-x: scroll;\"><table class = \"data-frame\" style = \"margin-bottom: 6px;\"><thead><tr class = \"header\"><th class = \"rowLabel\" style = \"font-weight: bold; text-align: right;\">Row</th><th style = \"text-align: left;\">date</th></tr><tr class = \"subheader headerLastRow\"><th class = \"rowLabel\" style = \"font-weight: bold; text-align: right;\"></th><th title = \"Date\" style = \"text-align: left;\">Date</th></tr></thead><tbody><tr><td class = \"rowLabel\" style = \"font-weight: bold; text-align: right;\">1</td><td style = \"text-align: left;\">2020-07-02</td></tr></tbody></table></div>"
      ],
      "text/latex": [
       "\\begin{tabular}{r|c}\n",
       "\t& date\\\\\n",
       "\t\\hline\n",
       "\t& Date\\\\\n",
       "\t\\hline\n",
       "\t1 & 2020-07-02 \\\\\n",
       "\\end{tabular}\n"
      ],
      "text/plain": [
       "\u001b[1mDataFrameRow\u001b[0m\n",
       "\u001b[1m Row \u001b[0m│\u001b[1m date       \u001b[0m\n",
       "     │\u001b[90m Date       \u001b[0m\n",
       "─────┼────────────\n",
       "   1 │ 2020-07-02"
      ]
     },
     "execution_count": 30,
     "metadata": {},
     "output_type": "execute_result"
    }
   ],
   "source": [
    "fh5[1, [:date]]"
   ]
  },
  {
   "cell_type": "code",
   "execution_count": 31,
   "metadata": {},
   "outputs": [
    {
     "data": {
      "text/html": [
       "<div><div style = \"float: left;\"><span>DataFrameRow (1 columns)</span></div><div style = \"clear: both;\"></div></div><div class = \"data-frame\" style = \"overflow-x: scroll;\"><table class = \"data-frame\" style = \"margin-bottom: 6px;\"><thead><tr class = \"header\"><th class = \"rowLabel\" style = \"font-weight: bold; text-align: right;\">Row</th><th style = \"text-align: left;\">date</th></tr><tr class = \"subheader headerLastRow\"><th class = \"rowLabel\" style = \"font-weight: bold; text-align: right;\"></th><th title = \"Date\" style = \"text-align: left;\">Date</th></tr></thead><tbody><tr><td class = \"rowLabel\" style = \"font-weight: bold; text-align: right;\">1</td><td style = \"text-align: left;\">2020-07-02</td></tr></tbody></table></div>"
      ],
      "text/latex": [
       "\\begin{tabular}{r|c}\n",
       "\t& date\\\\\n",
       "\t\\hline\n",
       "\t& Date\\\\\n",
       "\t\\hline\n",
       "\t1 & 2020-07-02 \\\\\n",
       "\\end{tabular}\n"
      ],
      "text/plain": [
       "\u001b[1mDataFrameRow\u001b[0m\n",
       "\u001b[1m Row \u001b[0m│\u001b[1m date       \u001b[0m\n",
       "     │\u001b[90m Date       \u001b[0m\n",
       "─────┼────────────\n",
       "   1 │ 2020-07-02"
      ]
     },
     "execution_count": 31,
     "metadata": {},
     "output_type": "execute_result"
    }
   ],
   "source": [
    "@view fh5[1, [:date]]"
   ]
  },
  {
   "cell_type": "markdown",
   "metadata": {},
   "source": [
    "Note that `DataFrameRow` is one-dimensional (as usual - single value indexing drops a dimension). You can think of it as a mutable `NamedTuple`."
   ]
  },
  {
   "cell_type": "markdown",
   "metadata": {},
   "source": [
    "Making `fg5[1, [:date]]` to be copying would incur overhead that was considered to be not justified by typical use cases of this syntax. (but if you disagree please open an issue on GitHub)"
   ]
  },
  {
   "cell_type": "markdown",
   "metadata": {},
   "source": [
    "Multiple row selection is a `DataFrame` for `getindex`:"
   ]
  },
  {
   "cell_type": "code",
   "execution_count": 32,
   "metadata": {},
   "outputs": [
    {
     "data": {
      "text/html": [
       "<div><div style = \"float: left;\"><span>2×2 DataFrame</span></div><div style = \"clear: both;\"></div></div><div class = \"data-frame\" style = \"overflow-x: scroll;\"><table class = \"data-frame\" style = \"margin-bottom: 6px;\"><thead><tr class = \"header\"><th class = \"rowNumber\" style = \"font-weight: bold; text-align: right;\">Row</th><th style = \"text-align: left;\">date</th><th style = \"text-align: left;\">volume</th></tr><tr class = \"subheader headerLastRow\"><th class = \"rowNumber\" style = \"font-weight: bold; text-align: right;\"></th><th title = \"Date\" style = \"text-align: left;\">Date</th><th title = \"Int64\" style = \"text-align: left;\">Int64</th></tr></thead><tbody><tr><td class = \"rowNumber\" style = \"font-weight: bold; text-align: right;\">1</td><td style = \"text-align: left;\">2020-07-02</td><td style = \"text-align: right;\">257500</td></tr><tr><td class = \"rowNumber\" style = \"font-weight: bold; text-align: right;\">2</td><td style = \"text-align: left;\">2020-07-01</td><td style = \"text-align: right;\">468100</td></tr></tbody></table></div>"
      ],
      "text/latex": [
       "\\begin{tabular}{r|cc}\n",
       "\t& date & volume\\\\\n",
       "\t\\hline\n",
       "\t& Date & Int64\\\\\n",
       "\t\\hline\n",
       "\t1 & 2020-07-02 & 257500 \\\\\n",
       "\t2 & 2020-07-01 & 468100 \\\\\n",
       "\\end{tabular}\n"
      ],
      "text/plain": [
       "\u001b[1m2×2 DataFrame\u001b[0m\n",
       "\u001b[1m Row \u001b[0m│\u001b[1m date       \u001b[0m\u001b[1m volume \u001b[0m\n",
       "     │\u001b[90m Date       \u001b[0m\u001b[90m Int64  \u001b[0m\n",
       "─────┼────────────────────\n",
       "   1 │ 2020-07-02  257500\n",
       "   2 │ 2020-07-01  468100"
      ]
     },
     "execution_count": 32,
     "metadata": {},
     "output_type": "execute_result"
    }
   ],
   "source": [
    "fh5[1:2, 1:2]"
   ]
  },
  {
   "cell_type": "markdown",
   "metadata": {},
   "source": [
    "This does not copy columns and is fast"
   ]
  },
  {
   "cell_type": "code",
   "execution_count": 33,
   "metadata": {},
   "outputs": [
    {
     "data": {
      "text/html": [
       "<div><div style = \"float: left;\"><span>6852038×2 DataFrame</span></div><div style = \"float: right;\"><span style = \"font-style: italic;\">6852013 rows omitted</span></div><div style = \"clear: both;\"></div></div><div class = \"data-frame\" style = \"overflow-x: scroll;\"><table class = \"data-frame\" style = \"margin-bottom: 6px;\"><thead><tr class = \"header\"><th class = \"rowNumber\" style = \"font-weight: bold; text-align: right;\">Row</th><th style = \"text-align: left;\">date</th><th style = \"text-align: left;\">volume</th></tr><tr class = \"subheader headerLastRow\"><th class = \"rowNumber\" style = \"font-weight: bold; text-align: right;\"></th><th title = \"Date\" style = \"text-align: left;\">Date</th><th title = \"Int64\" style = \"text-align: left;\">Int64</th></tr></thead><tbody><tr><td class = \"rowNumber\" style = \"font-weight: bold; text-align: right;\">1</td><td style = \"text-align: left;\">2020-07-02</td><td style = \"text-align: right;\">257500</td></tr><tr><td class = \"rowNumber\" style = \"font-weight: bold; text-align: right;\">2</td><td style = \"text-align: left;\">2020-07-01</td><td style = \"text-align: right;\">468100</td></tr><tr><td class = \"rowNumber\" style = \"font-weight: bold; text-align: right;\">3</td><td style = \"text-align: left;\">2020-06-30</td><td style = \"text-align: right;\">319100</td></tr><tr><td class = \"rowNumber\" style = \"font-weight: bold; text-align: right;\">4</td><td style = \"text-align: left;\">2020-06-29</td><td style = \"text-align: right;\">405500</td></tr><tr><td class = \"rowNumber\" style = \"font-weight: bold; text-align: right;\">5</td><td style = \"text-align: left;\">2020-06-26</td><td style = \"text-align: right;\">335100</td></tr><tr><td class = \"rowNumber\" style = \"font-weight: bold; text-align: right;\">6</td><td style = \"text-align: left;\">2020-06-25</td><td style = \"text-align: right;\">246800</td></tr><tr><td class = \"rowNumber\" style = \"font-weight: bold; text-align: right;\">7</td><td style = \"text-align: left;\">2020-06-24</td><td style = \"text-align: right;\">329200</td></tr><tr><td class = \"rowNumber\" style = \"font-weight: bold; text-align: right;\">8</td><td style = \"text-align: left;\">2020-06-23</td><td style = \"text-align: right;\">351800</td></tr><tr><td class = \"rowNumber\" style = \"font-weight: bold; text-align: right;\">9</td><td style = \"text-align: left;\">2020-06-22</td><td style = \"text-align: right;\">308300</td></tr><tr><td class = \"rowNumber\" style = \"font-weight: bold; text-align: right;\">10</td><td style = \"text-align: left;\">2020-06-19</td><td style = \"text-align: right;\">153800</td></tr><tr><td class = \"rowNumber\" style = \"font-weight: bold; text-align: right;\">11</td><td style = \"text-align: left;\">2020-06-18</td><td style = \"text-align: right;\">102200</td></tr><tr><td class = \"rowNumber\" style = \"font-weight: bold; text-align: right;\">12</td><td style = \"text-align: left;\">2020-06-17</td><td style = \"text-align: right;\">153900</td></tr><tr><td class = \"rowNumber\" style = \"font-weight: bold; text-align: right;\">13</td><td style = \"text-align: left;\">2020-06-16</td><td style = \"text-align: right;\">165800</td></tr><tr><td style = \"text-align: right;\">&vellip;</td><td style = \"text-align: right;\">&vellip;</td><td style = \"text-align: right;\">&vellip;</td></tr><tr><td class = \"rowNumber\" style = \"font-weight: bold; text-align: right;\">6852027</td><td style = \"text-align: left;\">2015-01-23</td><td style = \"text-align: right;\">800</td></tr><tr><td class = \"rowNumber\" style = \"font-weight: bold; text-align: right;\">6852028</td><td style = \"text-align: left;\">2015-01-22</td><td style = \"text-align: right;\">5000</td></tr><tr><td class = \"rowNumber\" style = \"font-weight: bold; text-align: right;\">6852029</td><td style = \"text-align: left;\">2015-01-21</td><td style = \"text-align: right;\">7800</td></tr><tr><td class = \"rowNumber\" style = \"font-weight: bold; text-align: right;\">6852030</td><td style = \"text-align: left;\">2015-01-20</td><td style = \"text-align: right;\">1800</td></tr><tr><td class = \"rowNumber\" style = \"font-weight: bold; text-align: right;\">6852031</td><td style = \"text-align: left;\">2015-01-16</td><td style = \"text-align: right;\">8000</td></tr><tr><td class = \"rowNumber\" style = \"font-weight: bold; text-align: right;\">6852032</td><td style = \"text-align: left;\">2015-01-14</td><td style = \"text-align: right;\">33800</td></tr><tr><td class = \"rowNumber\" style = \"font-weight: bold; text-align: right;\">6852033</td><td style = \"text-align: left;\">2015-01-13</td><td style = \"text-align: right;\">27800</td></tr><tr><td class = \"rowNumber\" style = \"font-weight: bold; text-align: right;\">6852034</td><td style = \"text-align: left;\">2015-01-12</td><td style = \"text-align: right;\">10000</td></tr><tr><td class = \"rowNumber\" style = \"font-weight: bold; text-align: right;\">6852035</td><td style = \"text-align: left;\">2015-01-09</td><td style = \"text-align: right;\">200</td></tr><tr><td class = \"rowNumber\" style = \"font-weight: bold; text-align: right;\">6852036</td><td style = \"text-align: left;\">2015-01-07</td><td style = \"text-align: right;\">8100</td></tr><tr><td class = \"rowNumber\" style = \"font-weight: bold; text-align: right;\">6852037</td><td style = \"text-align: left;\">2015-01-05</td><td style = \"text-align: right;\">33200</td></tr><tr><td class = \"rowNumber\" style = \"font-weight: bold; text-align: right;\">6852038</td><td style = \"text-align: left;\">2015-01-02</td><td style = \"text-align: right;\">100</td></tr></tbody></table></div>"
      ],
      "text/latex": [
       "\\begin{tabular}{r|cc}\n",
       "\t& date & volume\\\\\n",
       "\t\\hline\n",
       "\t& Date & Int64\\\\\n",
       "\t\\hline\n",
       "\t1 & 2020-07-02 & 257500 \\\\\n",
       "\t2 & 2020-07-01 & 468100 \\\\\n",
       "\t3 & 2020-06-30 & 319100 \\\\\n",
       "\t4 & 2020-06-29 & 405500 \\\\\n",
       "\t5 & 2020-06-26 & 335100 \\\\\n",
       "\t6 & 2020-06-25 & 246800 \\\\\n",
       "\t7 & 2020-06-24 & 329200 \\\\\n",
       "\t8 & 2020-06-23 & 351800 \\\\\n",
       "\t9 & 2020-06-22 & 308300 \\\\\n",
       "\t10 & 2020-06-19 & 153800 \\\\\n",
       "\t11 & 2020-06-18 & 102200 \\\\\n",
       "\t12 & 2020-06-17 & 153900 \\\\\n",
       "\t13 & 2020-06-16 & 165800 \\\\\n",
       "\t14 & 2020-06-15 & 308700 \\\\\n",
       "\t15 & 2020-06-12 & 161400 \\\\\n",
       "\t16 & 2020-06-11 & 308800 \\\\\n",
       "\t17 & 2020-06-10 & 316900 \\\\\n",
       "\t18 & 2020-06-09 & 296100 \\\\\n",
       "\t19 & 2020-06-08 & 386900 \\\\\n",
       "\t20 & 2020-06-05 & 510400 \\\\\n",
       "\t21 & 2020-06-04 & 270800 \\\\\n",
       "\t22 & 2020-06-03 & 480300 \\\\\n",
       "\t23 & 2020-06-02 & 166100 \\\\\n",
       "\t24 & 2020-06-01 & 388700 \\\\\n",
       "\t25 & 2020-05-29 & 426100 \\\\\n",
       "\t26 & 2020-05-28 & 227500 \\\\\n",
       "\t27 & 2020-05-27 & 480900 \\\\\n",
       "\t28 & 2020-05-26 & 559900 \\\\\n",
       "\t29 & 2020-05-22 & 202300 \\\\\n",
       "\t30 & 2020-05-21 & 377500 \\\\\n",
       "\t$\\dots$ & $\\dots$ & $\\dots$ \\\\\n",
       "\\end{tabular}\n"
      ],
      "text/plain": [
       "\u001b[1m6852038×2 DataFrame\u001b[0m\n",
       "\u001b[1m     Row \u001b[0m│\u001b[1m date       \u001b[0m\u001b[1m volume \u001b[0m\n",
       "         │\u001b[90m Date       \u001b[0m\u001b[90m Int64  \u001b[0m\n",
       "─────────┼────────────────────\n",
       "       1 │ 2020-07-02  257500\n",
       "       2 │ 2020-07-01  468100\n",
       "       3 │ 2020-06-30  319100\n",
       "       4 │ 2020-06-29  405500\n",
       "       5 │ 2020-06-26  335100\n",
       "       6 │ 2020-06-25  246800\n",
       "       7 │ 2020-06-24  329200\n",
       "       8 │ 2020-06-23  351800\n",
       "       9 │ 2020-06-22  308300\n",
       "      10 │ 2020-06-19  153800\n",
       "      11 │ 2020-06-18  102200\n",
       "    ⋮    │     ⋮         ⋮\n",
       " 6852029 │ 2015-01-21    7800\n",
       " 6852030 │ 2015-01-20    1800\n",
       " 6852031 │ 2015-01-16    8000\n",
       " 6852032 │ 2015-01-14   33800\n",
       " 6852033 │ 2015-01-13   27800\n",
       " 6852034 │ 2015-01-12   10000\n",
       " 6852035 │ 2015-01-09     200\n",
       " 6852036 │ 2015-01-07    8100\n",
       " 6852037 │ 2015-01-05   33200\n",
       " 6852038 │ 2015-01-02     100\n",
       "\u001b[36m          6852017 rows omitted\u001b[0m"
      ]
     },
     "execution_count": 33,
     "metadata": {},
     "output_type": "execute_result"
    }
   ],
   "source": [
    "df_tmp = fh5[!, 1:2]"
   ]
  },
  {
   "cell_type": "code",
   "execution_count": 34,
   "metadata": {},
   "outputs": [
    {
     "data": {
      "text/plain": [
       "true"
      ]
     },
     "execution_count": 34,
     "metadata": {},
     "output_type": "execute_result"
    }
   ],
   "source": [
    "df_tmp.date === fh5.date"
   ]
  },
  {
   "cell_type": "markdown",
   "metadata": {},
   "source": [
    "Using `view` creates a `SubDataFrame`"
   ]
  },
  {
   "cell_type": "code",
   "execution_count": 35,
   "metadata": {},
   "outputs": [
    {
     "data": {
      "text/html": [
       "<div><div style = \"float: left;\"><span>2×2 SubDataFrame</span></div><div style = \"clear: both;\"></div></div><div class = \"data-frame\" style = \"overflow-x: scroll;\"><table class = \"data-frame\" style = \"margin-bottom: 6px;\"><thead><tr class = \"header\"><th class = \"rowNumber\" style = \"font-weight: bold; text-align: right;\">Row</th><th style = \"text-align: left;\">date</th><th style = \"text-align: left;\">volume</th></tr><tr class = \"subheader headerLastRow\"><th class = \"rowNumber\" style = \"font-weight: bold; text-align: right;\"></th><th title = \"Date\" style = \"text-align: left;\">Date</th><th title = \"Int64\" style = \"text-align: left;\">Int64</th></tr></thead><tbody><tr><td class = \"rowNumber\" style = \"font-weight: bold; text-align: right;\">1</td><td style = \"text-align: left;\">2020-07-02</td><td style = \"text-align: right;\">257500</td></tr><tr><td class = \"rowNumber\" style = \"font-weight: bold; text-align: right;\">2</td><td style = \"text-align: left;\">2020-07-01</td><td style = \"text-align: right;\">468100</td></tr></tbody></table></div>"
      ],
      "text/latex": [
       "\\begin{tabular}{r|cc}\n",
       "\t& date & volume\\\\\n",
       "\t\\hline\n",
       "\t& Date & Int64\\\\\n",
       "\t\\hline\n",
       "\t1 & 2020-07-02 & 257500 \\\\\n",
       "\t2 & 2020-07-01 & 468100 \\\\\n",
       "\\end{tabular}\n"
      ],
      "text/plain": [
       "\u001b[1m2×2 SubDataFrame\u001b[0m\n",
       "\u001b[1m Row \u001b[0m│\u001b[1m date       \u001b[0m\u001b[1m volume \u001b[0m\n",
       "     │\u001b[90m Date       \u001b[0m\u001b[90m Int64  \u001b[0m\n",
       "─────┼────────────────────\n",
       "   1 │ 2020-07-02  257500\n",
       "   2 │ 2020-07-01  468100"
      ]
     },
     "execution_count": 35,
     "metadata": {},
     "output_type": "execute_result"
    }
   ],
   "source": [
    "dfv_tmp = view(fh5, 1:2, 1:2)"
   ]
  },
  {
   "cell_type": "code",
   "execution_count": 36,
   "metadata": {},
   "outputs": [
    {
     "data": {
      "text/plain": [
       "SubDataFrame{DataFrame, DataFrames.SubIndex{DataFrames.Index, UnitRange{Int64}, UnitRange{Int64}}, UnitRange{Int64}}"
      ]
     },
     "execution_count": 36,
     "metadata": {},
     "output_type": "execute_result"
    }
   ],
   "source": [
    "typeof(dfv_tmp)"
   ]
  },
  {
   "cell_type": "markdown",
   "metadata": {},
   "source": [
    "#### Execrcise"
   ]
  },
  {
   "cell_type": "markdown",
   "metadata": {},
   "source": [
    "Check that `view(fh5, !, :)` and `view(fh5, :, :)` produce the same result"
   ]
  },
  {
   "cell_type": "code",
   "execution_count": null,
   "metadata": {},
   "outputs": [],
   "source": []
  },
  {
   "cell_type": "code",
   "execution_count": null,
   "metadata": {},
   "outputs": [],
   "source": []
  },
  {
   "cell_type": "markdown",
   "metadata": {},
   "source": [
    "As a warning remember that when you modify the parent of a `SubDataFrame` (or `DataFrameRow`) you may get an error when trying to access it:"
   ]
  },
  {
   "cell_type": "code",
   "execution_count": 37,
   "metadata": {},
   "outputs": [
    {
     "data": {
      "text/html": [
       "<div><div style = \"float: left;\"><span>3×4 DataFrame</span></div><div style = \"clear: both;\"></div></div><div class = \"data-frame\" style = \"overflow-x: scroll;\"><table class = \"data-frame\" style = \"margin-bottom: 6px;\"><thead><tr class = \"header\"><th class = \"rowNumber\" style = \"font-weight: bold; text-align: right;\">Row</th><th style = \"text-align: left;\">date</th><th style = \"text-align: left;\">volume</th><th style = \"text-align: left;\">open</th><th style = \"text-align: left;\">high</th></tr><tr class = \"subheader headerLastRow\"><th class = \"rowNumber\" style = \"font-weight: bold; text-align: right;\"></th><th title = \"Date\" style = \"text-align: left;\">Date</th><th title = \"Int64\" style = \"text-align: left;\">Int64</th><th title = \"Float64\" style = \"text-align: left;\">Float64</th><th title = \"Float64\" style = \"text-align: left;\">Float64</th></tr></thead><tbody><tr><td class = \"rowNumber\" style = \"font-weight: bold; text-align: right;\">1</td><td style = \"text-align: left;\">2020-07-02</td><td style = \"text-align: right;\">257500</td><td style = \"text-align: right;\">17.64</td><td style = \"text-align: right;\">17.74</td></tr><tr><td class = \"rowNumber\" style = \"font-weight: bold; text-align: right;\">2</td><td style = \"text-align: left;\">2020-07-01</td><td style = \"text-align: right;\">468100</td><td style = \"text-align: right;\">17.73</td><td style = \"text-align: right;\">17.73</td></tr><tr><td class = \"rowNumber\" style = \"font-weight: bold; text-align: right;\">3</td><td style = \"text-align: left;\">2020-06-30</td><td style = \"text-align: right;\">319100</td><td style = \"text-align: right;\">17.65</td><td style = \"text-align: right;\">17.8</td></tr></tbody></table></div>"
      ],
      "text/latex": [
       "\\begin{tabular}{r|cccc}\n",
       "\t& date & volume & open & high\\\\\n",
       "\t\\hline\n",
       "\t& Date & Int64 & Float64 & Float64\\\\\n",
       "\t\\hline\n",
       "\t1 & 2020-07-02 & 257500 & 17.64 & 17.74 \\\\\n",
       "\t2 & 2020-07-01 & 468100 & 17.73 & 17.73 \\\\\n",
       "\t3 & 2020-06-30 & 319100 & 17.65 & 17.8 \\\\\n",
       "\\end{tabular}\n"
      ],
      "text/plain": [
       "\u001b[1m3×4 DataFrame\u001b[0m\n",
       "\u001b[1m Row \u001b[0m│\u001b[1m date       \u001b[0m\u001b[1m volume \u001b[0m\u001b[1m open    \u001b[0m\u001b[1m high    \u001b[0m\n",
       "     │\u001b[90m Date       \u001b[0m\u001b[90m Int64  \u001b[0m\u001b[90m Float64 \u001b[0m\u001b[90m Float64 \u001b[0m\n",
       "─────┼──────────────────────────────────────\n",
       "   1 │ 2020-07-02  257500    17.64    17.74\n",
       "   2 │ 2020-07-01  468100    17.73    17.73\n",
       "   3 │ 2020-06-30  319100    17.65    17.8"
      ]
     },
     "execution_count": 37,
     "metadata": {},
     "output_type": "execute_result"
    }
   ],
   "source": [
    "df_tmp = fh5[1:3, 1:4]"
   ]
  },
  {
   "cell_type": "code",
   "execution_count": 38,
   "metadata": {},
   "outputs": [
    {
     "data": {
      "text/html": [
       "<div><div style = \"float: left;\"><span>2×3 SubDataFrame</span></div><div style = \"clear: both;\"></div></div><div class = \"data-frame\" style = \"overflow-x: scroll;\"><table class = \"data-frame\" style = \"margin-bottom: 6px;\"><thead><tr class = \"header\"><th class = \"rowNumber\" style = \"font-weight: bold; text-align: right;\">Row</th><th style = \"text-align: left;\">date</th><th style = \"text-align: left;\">volume</th><th style = \"text-align: left;\">open</th></tr><tr class = \"subheader headerLastRow\"><th class = \"rowNumber\" style = \"font-weight: bold; text-align: right;\"></th><th title = \"Date\" style = \"text-align: left;\">Date</th><th title = \"Int64\" style = \"text-align: left;\">Int64</th><th title = \"Float64\" style = \"text-align: left;\">Float64</th></tr></thead><tbody><tr><td class = \"rowNumber\" style = \"font-weight: bold; text-align: right;\">1</td><td style = \"text-align: left;\">2020-07-02</td><td style = \"text-align: right;\">257500</td><td style = \"text-align: right;\">17.64</td></tr><tr><td class = \"rowNumber\" style = \"font-weight: bold; text-align: right;\">2</td><td style = \"text-align: left;\">2020-07-01</td><td style = \"text-align: right;\">468100</td><td style = \"text-align: right;\">17.73</td></tr></tbody></table></div>"
      ],
      "text/latex": [
       "\\begin{tabular}{r|ccc}\n",
       "\t& date & volume & open\\\\\n",
       "\t\\hline\n",
       "\t& Date & Int64 & Float64\\\\\n",
       "\t\\hline\n",
       "\t1 & 2020-07-02 & 257500 & 17.64 \\\\\n",
       "\t2 & 2020-07-01 & 468100 & 17.73 \\\\\n",
       "\\end{tabular}\n"
      ],
      "text/plain": [
       "\u001b[1m2×3 SubDataFrame\u001b[0m\n",
       "\u001b[1m Row \u001b[0m│\u001b[1m date       \u001b[0m\u001b[1m volume \u001b[0m\u001b[1m open    \u001b[0m\n",
       "     │\u001b[90m Date       \u001b[0m\u001b[90m Int64  \u001b[0m\u001b[90m Float64 \u001b[0m\n",
       "─────┼─────────────────────────────\n",
       "   1 │ 2020-07-02  257500    17.64\n",
       "   2 │ 2020-07-01  468100    17.73"
      ]
     },
     "execution_count": 38,
     "metadata": {},
     "output_type": "execute_result"
    }
   ],
   "source": [
    "dfv_tmp = view(df_tmp, 1:2, 1:3)"
   ]
  },
  {
   "cell_type": "code",
   "execution_count": 39,
   "metadata": {},
   "outputs": [
    {
     "data": {
      "text/html": [
       "<div><div style = \"float: left;\"><span>3×1 DataFrame</span></div><div style = \"clear: both;\"></div></div><div class = \"data-frame\" style = \"overflow-x: scroll;\"><table class = \"data-frame\" style = \"margin-bottom: 6px;\"><thead><tr class = \"header\"><th class = \"rowNumber\" style = \"font-weight: bold; text-align: right;\">Row</th><th style = \"text-align: left;\">date</th></tr><tr class = \"subheader headerLastRow\"><th class = \"rowNumber\" style = \"font-weight: bold; text-align: right;\"></th><th title = \"Date\" style = \"text-align: left;\">Date</th></tr></thead><tbody><tr><td class = \"rowNumber\" style = \"font-weight: bold; text-align: right;\">1</td><td style = \"text-align: left;\">2020-07-02</td></tr><tr><td class = \"rowNumber\" style = \"font-weight: bold; text-align: right;\">2</td><td style = \"text-align: left;\">2020-07-01</td></tr><tr><td class = \"rowNumber\" style = \"font-weight: bold; text-align: right;\">3</td><td style = \"text-align: left;\">2020-06-30</td></tr></tbody></table></div>"
      ],
      "text/latex": [
       "\\begin{tabular}{r|c}\n",
       "\t& date\\\\\n",
       "\t\\hline\n",
       "\t& Date\\\\\n",
       "\t\\hline\n",
       "\t1 & 2020-07-02 \\\\\n",
       "\t2 & 2020-07-01 \\\\\n",
       "\t3 & 2020-06-30 \\\\\n",
       "\\end{tabular}\n"
      ],
      "text/plain": [
       "\u001b[1m3×1 DataFrame\u001b[0m\n",
       "\u001b[1m Row \u001b[0m│\u001b[1m date       \u001b[0m\n",
       "     │\u001b[90m Date       \u001b[0m\n",
       "─────┼────────────\n",
       "   1 │ 2020-07-02\n",
       "   2 │ 2020-07-01\n",
       "   3 │ 2020-06-30"
      ]
     },
     "execution_count": 39,
     "metadata": {},
     "output_type": "execute_result"
    }
   ],
   "source": [
    "select!(df_tmp, 1) # note that in `select` et al. a data frame is always produced"
   ]
  },
  {
   "cell_type": "code",
   "execution_count": 40,
   "metadata": {},
   "outputs": [
    {
     "ename": "BoundsError",
     "evalue": "BoundsError: attempt to access 1-element Vector{Symbol} at index [1:3]",
     "output_type": "error",
     "traceback": [
      "BoundsError: attempt to access 1-element Vector{Symbol} at index [1:3]",
      "",
      "Stacktrace:",
      "  [1] throw_boundserror",
      "    @ .\\abstractarray.jl:744",
      "  [2] checkbounds",
      "    @ .\\abstractarray.jl:709 [inlined]",
      "  [3] view",
      "    @ .\\subarray.jl:177 [inlined]",
      "  [4] _names",
      "    @ C:\\Users\\bogum\\.julia\\packages\\DataFrames\\LteEl\\src\\other\\index.jl:545 [inlined]",
      "  [5] names(x::DataFrames.SubIndex{DataFrames.Index, UnitRange{Int64}, UnitRange{Int64}})",
      "    @ DataFrames C:\\Users\\bogum\\.julia\\packages\\DataFrames\\LteEl\\src\\other\\index.jl:544",
      "  [6] names (repeats 2 times)",
      "    @ C:\\Users\\bogum\\.julia\\packages\\DataFrames\\LteEl\\src\\abstractdataframe\\abstractdataframe.jl:98 [inlined]",
      "  [7] _show(io::IOContext{IOBuffer}, df::SubDataFrame{DataFrame, DataFrames.SubIndex{DataFrames.Index, UnitRange{Int64}, UnitRange{Int64}}, UnitRange{Int64}}; allrows::Bool, allcols::Bool, rowlabel::Symbol, summary::Bool, eltypes::Bool, rowid::Nothing, truncate::Int64, kwargs::Base.Pairs{Symbol, Union{}, Tuple{}, NamedTuple{(), Tuple{}}})",
      "    @ DataFrames C:\\Users\\bogum\\.julia\\packages\\DataFrames\\LteEl\\src\\abstractdataframe\\show.jl:160",
      "  [8] #show#837",
      "    @ C:\\Users\\bogum\\.julia\\packages\\DataFrames\\LteEl\\src\\abstractdataframe\\show.jl:349 [inlined]",
      "  [9] show(io::IOContext{IOBuffer}, df::SubDataFrame{DataFrame, DataFrames.SubIndex{DataFrames.Index, UnitRange{Int64}, UnitRange{Int64}}, UnitRange{Int64}})",
      "    @ DataFrames C:\\Users\\bogum\\.julia\\packages\\DataFrames\\LteEl\\src\\abstractdataframe\\show.jl:336",
      " [10] #show#863",
      "    @ C:\\Users\\bogum\\.julia\\packages\\DataFrames\\LteEl\\src\\abstractdataframe\\io.jl:150 [inlined]",
      " [11] show",
      "    @ C:\\Users\\bogum\\.julia\\packages\\DataFrames\\LteEl\\src\\abstractdataframe\\io.jl:150 [inlined]",
      " [12] limitstringmime(mime::MIME{Symbol(\"text/plain\")}, x::SubDataFrame{DataFrame, DataFrames.SubIndex{DataFrames.Index, UnitRange{Int64}, UnitRange{Int64}}, UnitRange{Int64}})",
      "    @ IJulia C:\\Users\\bogum\\.julia\\packages\\IJulia\\6TIq1\\src\\inline.jl:43",
      " [13] display_mimestring",
      "    @ C:\\Users\\bogum\\.julia\\packages\\IJulia\\6TIq1\\src\\display.jl:71 [inlined]",
      " [14] display_dict(x::SubDataFrame{DataFrame, DataFrames.SubIndex{DataFrames.Index, UnitRange{Int64}, UnitRange{Int64}}, UnitRange{Int64}})",
      "    @ IJulia C:\\Users\\bogum\\.julia\\packages\\IJulia\\6TIq1\\src\\display.jl:102",
      " [15] #invokelatest#2",
      "    @ .\\essentials.jl:816 [inlined]",
      " [16] invokelatest",
      "    @ .\\essentials.jl:813 [inlined]",
      " [17] execute_request(socket::ZMQ.Socket, msg::IJulia.Msg)",
      "    @ IJulia C:\\Users\\bogum\\.julia\\packages\\IJulia\\6TIq1\\src\\execute_request.jl:112",
      " [18] #invokelatest#2",
      "    @ .\\essentials.jl:816 [inlined]",
      " [19] invokelatest",
      "    @ .\\essentials.jl:813 [inlined]",
      " [20] eventloop(socket::ZMQ.Socket)",
      "    @ IJulia C:\\Users\\bogum\\.julia\\packages\\IJulia\\6TIq1\\src\\eventloop.jl:8",
      " [21] (::IJulia.var\"#15#18\")()",
      "    @ IJulia .\\task.jl:514"
     ]
    }
   ],
   "source": [
    "dfv_tmp"
   ]
  },
  {
   "cell_type": "markdown",
   "metadata": {},
   "source": [
    "A special case is when you use `:` as a column selection with a `view`. In this case the `SubDataFrame` and `DataFrameRow` always get updated with the changed columns:"
   ]
  },
  {
   "cell_type": "code",
   "execution_count": 41,
   "metadata": {},
   "outputs": [
    {
     "data": {
      "text/html": [
       "<div><div style = \"float: left;\"><span>3×4 DataFrame</span></div><div style = \"clear: both;\"></div></div><div class = \"data-frame\" style = \"overflow-x: scroll;\"><table class = \"data-frame\" style = \"margin-bottom: 6px;\"><thead><tr class = \"header\"><th class = \"rowNumber\" style = \"font-weight: bold; text-align: right;\">Row</th><th style = \"text-align: left;\">date</th><th style = \"text-align: left;\">volume</th><th style = \"text-align: left;\">open</th><th style = \"text-align: left;\">high</th></tr><tr class = \"subheader headerLastRow\"><th class = \"rowNumber\" style = \"font-weight: bold; text-align: right;\"></th><th title = \"Date\" style = \"text-align: left;\">Date</th><th title = \"Int64\" style = \"text-align: left;\">Int64</th><th title = \"Float64\" style = \"text-align: left;\">Float64</th><th title = \"Float64\" style = \"text-align: left;\">Float64</th></tr></thead><tbody><tr><td class = \"rowNumber\" style = \"font-weight: bold; text-align: right;\">1</td><td style = \"text-align: left;\">2020-07-02</td><td style = \"text-align: right;\">257500</td><td style = \"text-align: right;\">17.64</td><td style = \"text-align: right;\">17.74</td></tr><tr><td class = \"rowNumber\" style = \"font-weight: bold; text-align: right;\">2</td><td style = \"text-align: left;\">2020-07-01</td><td style = \"text-align: right;\">468100</td><td style = \"text-align: right;\">17.73</td><td style = \"text-align: right;\">17.73</td></tr><tr><td class = \"rowNumber\" style = \"font-weight: bold; text-align: right;\">3</td><td style = \"text-align: left;\">2020-06-30</td><td style = \"text-align: right;\">319100</td><td style = \"text-align: right;\">17.65</td><td style = \"text-align: right;\">17.8</td></tr></tbody></table></div>"
      ],
      "text/latex": [
       "\\begin{tabular}{r|cccc}\n",
       "\t& date & volume & open & high\\\\\n",
       "\t\\hline\n",
       "\t& Date & Int64 & Float64 & Float64\\\\\n",
       "\t\\hline\n",
       "\t1 & 2020-07-02 & 257500 & 17.64 & 17.74 \\\\\n",
       "\t2 & 2020-07-01 & 468100 & 17.73 & 17.73 \\\\\n",
       "\t3 & 2020-06-30 & 319100 & 17.65 & 17.8 \\\\\n",
       "\\end{tabular}\n"
      ],
      "text/plain": [
       "\u001b[1m3×4 DataFrame\u001b[0m\n",
       "\u001b[1m Row \u001b[0m│\u001b[1m date       \u001b[0m\u001b[1m volume \u001b[0m\u001b[1m open    \u001b[0m\u001b[1m high    \u001b[0m\n",
       "     │\u001b[90m Date       \u001b[0m\u001b[90m Int64  \u001b[0m\u001b[90m Float64 \u001b[0m\u001b[90m Float64 \u001b[0m\n",
       "─────┼──────────────────────────────────────\n",
       "   1 │ 2020-07-02  257500    17.64    17.74\n",
       "   2 │ 2020-07-01  468100    17.73    17.73\n",
       "   3 │ 2020-06-30  319100    17.65    17.8"
      ]
     },
     "execution_count": 41,
     "metadata": {},
     "output_type": "execute_result"
    }
   ],
   "source": [
    "df_tmp = fh5[1:3, 1:4]"
   ]
  },
  {
   "cell_type": "code",
   "execution_count": 42,
   "metadata": {},
   "outputs": [
    {
     "data": {
      "text/html": [
       "<div><div style = \"float: left;\"><span>2×4 SubDataFrame</span></div><div style = \"clear: both;\"></div></div><div class = \"data-frame\" style = \"overflow-x: scroll;\"><table class = \"data-frame\" style = \"margin-bottom: 6px;\"><thead><tr class = \"header\"><th class = \"rowNumber\" style = \"font-weight: bold; text-align: right;\">Row</th><th style = \"text-align: left;\">date</th><th style = \"text-align: left;\">volume</th><th style = \"text-align: left;\">open</th><th style = \"text-align: left;\">high</th></tr><tr class = \"subheader headerLastRow\"><th class = \"rowNumber\" style = \"font-weight: bold; text-align: right;\"></th><th title = \"Date\" style = \"text-align: left;\">Date</th><th title = \"Int64\" style = \"text-align: left;\">Int64</th><th title = \"Float64\" style = \"text-align: left;\">Float64</th><th title = \"Float64\" style = \"text-align: left;\">Float64</th></tr></thead><tbody><tr><td class = \"rowNumber\" style = \"font-weight: bold; text-align: right;\">1</td><td style = \"text-align: left;\">2020-07-02</td><td style = \"text-align: right;\">257500</td><td style = \"text-align: right;\">17.64</td><td style = \"text-align: right;\">17.74</td></tr><tr><td class = \"rowNumber\" style = \"font-weight: bold; text-align: right;\">2</td><td style = \"text-align: left;\">2020-07-01</td><td style = \"text-align: right;\">468100</td><td style = \"text-align: right;\">17.73</td><td style = \"text-align: right;\">17.73</td></tr></tbody></table></div>"
      ],
      "text/latex": [
       "\\begin{tabular}{r|cccc}\n",
       "\t& date & volume & open & high\\\\\n",
       "\t\\hline\n",
       "\t& Date & Int64 & Float64 & Float64\\\\\n",
       "\t\\hline\n",
       "\t1 & 2020-07-02 & 257500 & 17.64 & 17.74 \\\\\n",
       "\t2 & 2020-07-01 & 468100 & 17.73 & 17.73 \\\\\n",
       "\\end{tabular}\n"
      ],
      "text/plain": [
       "\u001b[1m2×4 SubDataFrame\u001b[0m\n",
       "\u001b[1m Row \u001b[0m│\u001b[1m date       \u001b[0m\u001b[1m volume \u001b[0m\u001b[1m open    \u001b[0m\u001b[1m high    \u001b[0m\n",
       "     │\u001b[90m Date       \u001b[0m\u001b[90m Int64  \u001b[0m\u001b[90m Float64 \u001b[0m\u001b[90m Float64 \u001b[0m\n",
       "─────┼──────────────────────────────────────\n",
       "   1 │ 2020-07-02  257500    17.64    17.74\n",
       "   2 │ 2020-07-01  468100    17.73    17.73"
      ]
     },
     "execution_count": 42,
     "metadata": {},
     "output_type": "execute_result"
    }
   ],
   "source": [
    "dfv_tmp = view(df_tmp, 1:2, :)"
   ]
  },
  {
   "cell_type": "code",
   "execution_count": 43,
   "metadata": {},
   "outputs": [
    {
     "data": {
      "text/html": [
       "<div><div style = \"float: left;\"><span>3×2 DataFrame</span></div><div style = \"clear: both;\"></div></div><div class = \"data-frame\" style = \"overflow-x: scroll;\"><table class = \"data-frame\" style = \"margin-bottom: 6px;\"><thead><tr class = \"header\"><th class = \"rowNumber\" style = \"font-weight: bold; text-align: right;\">Row</th><th style = \"text-align: left;\">date</th><th style = \"text-align: left;\">newcol</th></tr><tr class = \"subheader headerLastRow\"><th class = \"rowNumber\" style = \"font-weight: bold; text-align: right;\"></th><th title = \"Date\" style = \"text-align: left;\">Date</th><th title = \"Float64\" style = \"text-align: left;\">Float64</th></tr></thead><tbody><tr><td class = \"rowNumber\" style = \"font-weight: bold; text-align: right;\">1</td><td style = \"text-align: left;\">2020-07-02</td><td style = \"text-align: right;\">17.64</td></tr><tr><td class = \"rowNumber\" style = \"font-weight: bold; text-align: right;\">2</td><td style = \"text-align: left;\">2020-07-01</td><td style = \"text-align: right;\">17.73</td></tr><tr><td class = \"rowNumber\" style = \"font-weight: bold; text-align: right;\">3</td><td style = \"text-align: left;\">2020-06-30</td><td style = \"text-align: right;\">17.65</td></tr></tbody></table></div>"
      ],
      "text/latex": [
       "\\begin{tabular}{r|cc}\n",
       "\t& date & newcol\\\\\n",
       "\t\\hline\n",
       "\t& Date & Float64\\\\\n",
       "\t\\hline\n",
       "\t1 & 2020-07-02 & 17.64 \\\\\n",
       "\t2 & 2020-07-01 & 17.73 \\\\\n",
       "\t3 & 2020-06-30 & 17.65 \\\\\n",
       "\\end{tabular}\n"
      ],
      "text/plain": [
       "\u001b[1m3×2 DataFrame\u001b[0m\n",
       "\u001b[1m Row \u001b[0m│\u001b[1m date       \u001b[0m\u001b[1m newcol  \u001b[0m\n",
       "     │\u001b[90m Date       \u001b[0m\u001b[90m Float64 \u001b[0m\n",
       "─────┼─────────────────────\n",
       "   1 │ 2020-07-02    17.64\n",
       "   2 │ 2020-07-01    17.73\n",
       "   3 │ 2020-06-30    17.65"
      ]
     },
     "execution_count": 43,
     "metadata": {},
     "output_type": "execute_result"
    }
   ],
   "source": [
    "select!(df_tmp, 1, :open => :newcol)"
   ]
  },
  {
   "cell_type": "code",
   "execution_count": 44,
   "metadata": {},
   "outputs": [
    {
     "data": {
      "text/html": [
       "<div><div style = \"float: left;\"><span>2×2 SubDataFrame</span></div><div style = \"clear: both;\"></div></div><div class = \"data-frame\" style = \"overflow-x: scroll;\"><table class = \"data-frame\" style = \"margin-bottom: 6px;\"><thead><tr class = \"header\"><th class = \"rowNumber\" style = \"font-weight: bold; text-align: right;\">Row</th><th style = \"text-align: left;\">date</th><th style = \"text-align: left;\">newcol</th></tr><tr class = \"subheader headerLastRow\"><th class = \"rowNumber\" style = \"font-weight: bold; text-align: right;\"></th><th title = \"Date\" style = \"text-align: left;\">Date</th><th title = \"Float64\" style = \"text-align: left;\">Float64</th></tr></thead><tbody><tr><td class = \"rowNumber\" style = \"font-weight: bold; text-align: right;\">1</td><td style = \"text-align: left;\">2020-07-02</td><td style = \"text-align: right;\">17.64</td></tr><tr><td class = \"rowNumber\" style = \"font-weight: bold; text-align: right;\">2</td><td style = \"text-align: left;\">2020-07-01</td><td style = \"text-align: right;\">17.73</td></tr></tbody></table></div>"
      ],
      "text/latex": [
       "\\begin{tabular}{r|cc}\n",
       "\t& date & newcol\\\\\n",
       "\t\\hline\n",
       "\t& Date & Float64\\\\\n",
       "\t\\hline\n",
       "\t1 & 2020-07-02 & 17.64 \\\\\n",
       "\t2 & 2020-07-01 & 17.73 \\\\\n",
       "\\end{tabular}\n"
      ],
      "text/plain": [
       "\u001b[1m2×2 SubDataFrame\u001b[0m\n",
       "\u001b[1m Row \u001b[0m│\u001b[1m date       \u001b[0m\u001b[1m newcol  \u001b[0m\n",
       "     │\u001b[90m Date       \u001b[0m\u001b[90m Float64 \u001b[0m\n",
       "─────┼─────────────────────\n",
       "   1 │ 2020-07-02    17.64\n",
       "   2 │ 2020-07-01    17.73"
      ]
     },
     "execution_count": 44,
     "metadata": {},
     "output_type": "execute_result"
    }
   ],
   "source": [
    "dfv_tmp"
   ]
  },
  {
   "cell_type": "markdown",
   "metadata": {},
   "source": [
    "The reason for this behavior is that subsetting of a data frame by only rows (and taking all columns) is very common, and in this case we can create and index such views much faster. In particular `DataFrameRow`s produced by `eachrow` are efficient this way:"
   ]
  },
  {
   "cell_type": "code",
   "execution_count": 45,
   "metadata": {},
   "outputs": [
    {
     "name": "stdout",
     "output_type": "stream",
     "text": [
      "  897.894 ms (34259694 allocations: 522.76 MiB)\n"
     ]
    },
    {
     "data": {
      "text/plain": [
       "298.08612911254846"
      ]
     },
     "execution_count": 45,
     "metadata": {},
     "output_type": "execute_result"
    }
   ],
   "source": [
    "@btime mean(x -> x.open, eachrow(fh5))"
   ]
  },
  {
   "cell_type": "code",
   "execution_count": 46,
   "metadata": {},
   "outputs": [
    {
     "name": "stdout",
     "output_type": "stream",
     "text": [
      "  1.187 s (41111214 allocations: 627.31 MiB)\n"
     ]
    },
    {
     "data": {
      "text/plain": [
       "298.08612911254846"
      ]
     },
     "execution_count": 46,
     "metadata": {},
     "output_type": "execute_result"
    }
   ],
   "source": [
    "@btime mean(i -> fh5[i, :open], 1:nrow(fh5))"
   ]
  },
  {
   "cell_type": "markdown",
   "metadata": {},
   "source": [
    "Of course, type-stable operation would be faster (but sometimes processing data row-wise is more convenient):"
   ]
  },
  {
   "cell_type": "code",
   "execution_count": 47,
   "metadata": {},
   "outputs": [
    {
     "name": "stdout",
     "output_type": "stream",
     "text": [
      "  2.289 ms (1 allocation: 16 bytes)\n"
     ]
    },
    {
     "data": {
      "text/plain": [
       "298.08612911254846"
      ]
     },
     "execution_count": 47,
     "metadata": {},
     "output_type": "execute_result"
    }
   ],
   "source": [
    "@btime mean(fh5.open)"
   ]
  },
  {
   "cell_type": "markdown",
   "metadata": {},
   "source": [
    "or, if your table is not very wide (so that you are not penalized by the compilation cost of `NamedTuple`) you can use:"
   ]
  },
  {
   "cell_type": "code",
   "execution_count": 48,
   "metadata": {},
   "outputs": [
    {
     "name": "stdout",
     "output_type": "stream",
     "text": [
      "  8.837 ms (17 allocations: 992 bytes)\n"
     ]
    },
    {
     "data": {
      "text/plain": [
       "298.0861291125547"
      ]
     },
     "execution_count": 48,
     "metadata": {},
     "output_type": "execute_result"
    }
   ],
   "source": [
    "@btime mean(x -> x.open, Tables.namedtupleiterator(fh5))"
   ]
  },
  {
   "cell_type": "markdown",
   "metadata": {},
   "source": [
    "<div class=\"alert alert-block alert-info\">\n",
    "<b>Tip:</b>\n",
    "    \n",
    "\n",
    "If your table is not very wide then you can use `Tables.namedtupleiterator` or `Tables.columntable` to swithch a `DataFrame` into a type-stable mode (at the cost of fixing its schema). Both are non-allocating. You can also used `Tables.rowtable` but it is allocating so usually `Tables.namedtupleiterator` is preferred.\n",
    "</div>"
   ]
  },
  {
   "cell_type": "markdown",
   "metadata": {},
   "source": [
    "Note though that `DataFrameRow` allows you to modify the source data frame, while iterating `NamedTuple`s is read-only (more on `setindex!` later)."
   ]
  },
  {
   "cell_type": "code",
   "execution_count": 49,
   "metadata": {},
   "outputs": [
    {
     "data": {
      "text/html": [
       "<div><div style = \"float: left;\"><span>6852038×8 DataFrame</span></div><div style = \"float: right;\"><span style = \"font-style: italic;\">6852013 rows omitted</span></div><div style = \"clear: both;\"></div></div><div class = \"data-frame\" style = \"overflow-x: scroll;\"><table class = \"data-frame\" style = \"margin-bottom: 6px;\"><thead><tr class = \"header\"><th class = \"rowNumber\" style = \"font-weight: bold; text-align: right;\">Row</th><th style = \"text-align: left;\">date</th><th style = \"text-align: left;\">volume</th><th style = \"text-align: left;\">open</th><th style = \"text-align: left;\">high</th><th style = \"text-align: left;\">low</th><th style = \"text-align: left;\">close</th><th style = \"text-align: left;\">adjclose</th><th style = \"text-align: left;\">symbol</th></tr><tr class = \"subheader headerLastRow\"><th class = \"rowNumber\" style = \"font-weight: bold; text-align: right;\"></th><th title = \"Date\" style = \"text-align: left;\">Date</th><th title = \"Int64\" style = \"text-align: left;\">Int64</th><th title = \"Float64\" style = \"text-align: left;\">Float64</th><th title = \"Float64\" style = \"text-align: left;\">Float64</th><th title = \"Float64\" style = \"text-align: left;\">Float64</th><th title = \"Float64\" style = \"text-align: left;\">Float64</th><th title = \"Float64\" style = \"text-align: left;\">Float64</th><th title = \"String7\" style = \"text-align: left;\">String7</th></tr></thead><tbody><tr><td class = \"rowNumber\" style = \"font-weight: bold; text-align: right;\">1</td><td style = \"text-align: left;\">2020-07-02</td><td style = \"text-align: right;\">257500</td><td style = \"text-align: right;\">17.64</td><td style = \"text-align: right;\">17.74</td><td style = \"text-align: right;\">17.62</td><td style = \"text-align: right;\">17.71</td><td style = \"text-align: right;\">17.71</td><td style = \"text-align: left;\">AAAU</td></tr><tr><td class = \"rowNumber\" style = \"font-weight: bold; text-align: right;\">2</td><td style = \"text-align: left;\">2020-07-01</td><td style = \"text-align: right;\">468100</td><td style = \"text-align: right;\">17.73</td><td style = \"text-align: right;\">17.73</td><td style = \"text-align: right;\">17.54</td><td style = \"text-align: right;\">17.68</td><td style = \"text-align: right;\">17.68</td><td style = \"text-align: left;\">AAAU</td></tr><tr><td class = \"rowNumber\" style = \"font-weight: bold; text-align: right;\">3</td><td style = \"text-align: left;\">2020-06-30</td><td style = \"text-align: right;\">319100</td><td style = \"text-align: right;\">17.65</td><td style = \"text-align: right;\">17.8</td><td style = \"text-align: right;\">17.61</td><td style = \"text-align: right;\">17.78</td><td style = \"text-align: right;\">17.78</td><td style = \"text-align: left;\">AAAU</td></tr><tr><td class = \"rowNumber\" style = \"font-weight: bold; text-align: right;\">4</td><td style = \"text-align: left;\">2020-06-29</td><td style = \"text-align: right;\">405500</td><td style = \"text-align: right;\">17.67</td><td style = \"text-align: right;\">17.69</td><td style = \"text-align: right;\">17.63</td><td style = \"text-align: right;\">17.68</td><td style = \"text-align: right;\">17.68</td><td style = \"text-align: left;\">AAAU</td></tr><tr><td class = \"rowNumber\" style = \"font-weight: bold; text-align: right;\">5</td><td style = \"text-align: left;\">2020-06-26</td><td style = \"text-align: right;\">335100</td><td style = \"text-align: right;\">17.49</td><td style = \"text-align: right;\">17.67</td><td style = \"text-align: right;\">17.42</td><td style = \"text-align: right;\">17.67</td><td style = \"text-align: right;\">17.67</td><td style = \"text-align: left;\">AAAU</td></tr><tr><td class = \"rowNumber\" style = \"font-weight: bold; text-align: right;\">6</td><td style = \"text-align: left;\">2020-06-25</td><td style = \"text-align: right;\">246800</td><td style = \"text-align: right;\">17.6</td><td style = \"text-align: right;\">17.6</td><td style = \"text-align: right;\">17.52</td><td style = \"text-align: right;\">17.59</td><td style = \"text-align: right;\">17.59</td><td style = \"text-align: left;\">AAAU</td></tr><tr><td class = \"rowNumber\" style = \"font-weight: bold; text-align: right;\">7</td><td style = \"text-align: left;\">2020-06-24</td><td style = \"text-align: right;\">329200</td><td style = \"text-align: right;\">17.61</td><td style = \"text-align: right;\">17.71</td><td style = \"text-align: right;\">17.56</td><td style = \"text-align: right;\">17.61</td><td style = \"text-align: right;\">17.61</td><td style = \"text-align: left;\">AAAU</td></tr><tr><td class = \"rowNumber\" style = \"font-weight: bold; text-align: right;\">8</td><td style = \"text-align: left;\">2020-06-23</td><td style = \"text-align: right;\">351800</td><td style = \"text-align: right;\">17.55</td><td style = \"text-align: right;\">17.66</td><td style = \"text-align: right;\">17.55</td><td style = \"text-align: right;\">17.66</td><td style = \"text-align: right;\">17.66</td><td style = \"text-align: left;\">AAAU</td></tr><tr><td class = \"rowNumber\" style = \"font-weight: bold; text-align: right;\">9</td><td style = \"text-align: left;\">2020-06-22</td><td style = \"text-align: right;\">308300</td><td style = \"text-align: right;\">17.5</td><td style = \"text-align: right;\">17.57</td><td style = \"text-align: right;\">17.44</td><td style = \"text-align: right;\">17.5</td><td style = \"text-align: right;\">17.5</td><td style = \"text-align: left;\">AAAU</td></tr><tr><td class = \"rowNumber\" style = \"font-weight: bold; text-align: right;\">10</td><td style = \"text-align: left;\">2020-06-19</td><td style = \"text-align: right;\">153800</td><td style = \"text-align: right;\">17.27</td><td style = \"text-align: right;\">17.4</td><td style = \"text-align: right;\">17.26</td><td style = \"text-align: right;\">17.4</td><td style = \"text-align: right;\">17.4</td><td style = \"text-align: left;\">AAAU</td></tr><tr><td class = \"rowNumber\" style = \"font-weight: bold; text-align: right;\">11</td><td style = \"text-align: left;\">2020-06-18</td><td style = \"text-align: right;\">102200</td><td style = \"text-align: right;\">17.27</td><td style = \"text-align: right;\">17.27</td><td style = \"text-align: right;\">17.14</td><td style = \"text-align: right;\">17.23</td><td style = \"text-align: right;\">17.23</td><td style = \"text-align: left;\">AAAU</td></tr><tr><td class = \"rowNumber\" style = \"font-weight: bold; text-align: right;\">12</td><td style = \"text-align: left;\">2020-06-17</td><td style = \"text-align: right;\">153900</td><td style = \"text-align: right;\">17.19</td><td style = \"text-align: right;\">17.25</td><td style = \"text-align: right;\">17.16</td><td style = \"text-align: right;\">17.25</td><td style = \"text-align: right;\">17.25</td><td style = \"text-align: left;\">AAAU</td></tr><tr><td class = \"rowNumber\" style = \"font-weight: bold; text-align: right;\">13</td><td style = \"text-align: left;\">2020-06-16</td><td style = \"text-align: right;\">165800</td><td style = \"text-align: right;\">17.15</td><td style = \"text-align: right;\">17.25</td><td style = \"text-align: right;\">17.11</td><td style = \"text-align: right;\">17.21</td><td style = \"text-align: right;\">17.21</td><td style = \"text-align: left;\">AAAU</td></tr><tr><td style = \"text-align: right;\">&vellip;</td><td style = \"text-align: right;\">&vellip;</td><td style = \"text-align: right;\">&vellip;</td><td style = \"text-align: right;\">&vellip;</td><td style = \"text-align: right;\">&vellip;</td><td style = \"text-align: right;\">&vellip;</td><td style = \"text-align: right;\">&vellip;</td><td style = \"text-align: right;\">&vellip;</td><td style = \"text-align: right;\">&vellip;</td></tr><tr><td class = \"rowNumber\" style = \"font-weight: bold; text-align: right;\">6852027</td><td style = \"text-align: left;\">2015-01-23</td><td style = \"text-align: right;\">800</td><td style = \"text-align: right;\">0.13</td><td style = \"text-align: right;\">0.18</td><td style = \"text-align: right;\">0.13</td><td style = \"text-align: right;\">0.18</td><td style = \"text-align: right;\">0.175245</td><td style = \"text-align: left;\">ZYXI</td></tr><tr><td class = \"rowNumber\" style = \"font-weight: bold; text-align: right;\">6852028</td><td style = \"text-align: left;\">2015-01-22</td><td style = \"text-align: right;\">5000</td><td style = \"text-align: right;\">0.12</td><td style = \"text-align: right;\">0.18</td><td style = \"text-align: right;\">0.12</td><td style = \"text-align: right;\">0.18</td><td style = \"text-align: right;\">0.175245</td><td style = \"text-align: left;\">ZYXI</td></tr><tr><td class = \"rowNumber\" style = \"font-weight: bold; text-align: right;\">6852029</td><td style = \"text-align: left;\">2015-01-21</td><td style = \"text-align: right;\">7800</td><td style = \"text-align: right;\">0.13</td><td style = \"text-align: right;\">0.18</td><td style = \"text-align: right;\">0.12</td><td style = \"text-align: right;\">0.18</td><td style = \"text-align: right;\">0.175245</td><td style = \"text-align: left;\">ZYXI</td></tr><tr><td class = \"rowNumber\" style = \"font-weight: bold; text-align: right;\">6852030</td><td style = \"text-align: left;\">2015-01-20</td><td style = \"text-align: right;\">1800</td><td style = \"text-align: right;\">0.18</td><td style = \"text-align: right;\">0.18</td><td style = \"text-align: right;\">0.17</td><td style = \"text-align: right;\">0.18</td><td style = \"text-align: right;\">0.175245</td><td style = \"text-align: left;\">ZYXI</td></tr><tr><td class = \"rowNumber\" style = \"font-weight: bold; text-align: right;\">6852031</td><td style = \"text-align: left;\">2015-01-16</td><td style = \"text-align: right;\">8000</td><td style = \"text-align: right;\">0.12</td><td style = \"text-align: right;\">0.18</td><td style = \"text-align: right;\">0.12</td><td style = \"text-align: right;\">0.18</td><td style = \"text-align: right;\">0.175245</td><td style = \"text-align: left;\">ZYXI</td></tr><tr><td class = \"rowNumber\" style = \"font-weight: bold; text-align: right;\">6852032</td><td style = \"text-align: left;\">2015-01-14</td><td style = \"text-align: right;\">33800</td><td style = \"text-align: right;\">0.13</td><td style = \"text-align: right;\">0.19</td><td style = \"text-align: right;\">0.13</td><td style = \"text-align: right;\">0.19</td><td style = \"text-align: right;\">0.184981</td><td style = \"text-align: left;\">ZYXI</td></tr><tr><td class = \"rowNumber\" style = \"font-weight: bold; text-align: right;\">6852033</td><td style = \"text-align: left;\">2015-01-13</td><td style = \"text-align: right;\">27800</td><td style = \"text-align: right;\">0.14</td><td style = \"text-align: right;\">0.19</td><td style = \"text-align: right;\">0.14</td><td style = \"text-align: right;\">0.19</td><td style = \"text-align: right;\">0.184981</td><td style = \"text-align: left;\">ZYXI</td></tr><tr><td class = \"rowNumber\" style = \"font-weight: bold; text-align: right;\">6852034</td><td style = \"text-align: left;\">2015-01-12</td><td style = \"text-align: right;\">10000</td><td style = \"text-align: right;\">0.14</td><td style = \"text-align: right;\">0.14</td><td style = \"text-align: right;\">0.14</td><td style = \"text-align: right;\">0.14</td><td style = \"text-align: right;\">0.136302</td><td style = \"text-align: left;\">ZYXI</td></tr><tr><td class = \"rowNumber\" style = \"font-weight: bold; text-align: right;\">6852035</td><td style = \"text-align: left;\">2015-01-09</td><td style = \"text-align: right;\">200</td><td style = \"text-align: right;\">0.15</td><td style = \"text-align: right;\">0.15</td><td style = \"text-align: right;\">0.15</td><td style = \"text-align: right;\">0.15</td><td style = \"text-align: right;\">0.146038</td><td style = \"text-align: left;\">ZYXI</td></tr><tr><td class = \"rowNumber\" style = \"font-weight: bold; text-align: right;\">6852036</td><td style = \"text-align: left;\">2015-01-07</td><td style = \"text-align: right;\">8100</td><td style = \"text-align: right;\">0.14</td><td style = \"text-align: right;\">0.15</td><td style = \"text-align: right;\">0.13</td><td style = \"text-align: right;\">0.15</td><td style = \"text-align: right;\">0.146038</td><td style = \"text-align: left;\">ZYXI</td></tr><tr><td class = \"rowNumber\" style = \"font-weight: bold; text-align: right;\">6852037</td><td style = \"text-align: left;\">2015-01-05</td><td style = \"text-align: right;\">33200</td><td style = \"text-align: right;\">0.22</td><td style = \"text-align: right;\">0.22</td><td style = \"text-align: right;\">0.14</td><td style = \"text-align: right;\">0.16</td><td style = \"text-align: right;\">0.155774</td><td style = \"text-align: left;\">ZYXI</td></tr><tr><td class = \"rowNumber\" style = \"font-weight: bold; text-align: right;\">6852038</td><td style = \"text-align: left;\">2015-01-02</td><td style = \"text-align: right;\">100</td><td style = \"text-align: right;\">0.18</td><td style = \"text-align: right;\">0.18</td><td style = \"text-align: right;\">0.18</td><td style = \"text-align: right;\">0.18</td><td style = \"text-align: right;\">0.175245</td><td style = \"text-align: left;\">ZYXI</td></tr></tbody></table></div>"
      ],
      "text/latex": [
       "\\begin{tabular}{r|cccccccc}\n",
       "\t& date & volume & open & high & low & close & adjclose & symbol\\\\\n",
       "\t\\hline\n",
       "\t& Date & Int64 & Float64 & Float64 & Float64 & Float64 & Float64 & String7\\\\\n",
       "\t\\hline\n",
       "\t1 & 2020-07-02 & 257500 & 17.64 & 17.74 & 17.62 & 17.71 & 17.71 & AAAU \\\\\n",
       "\t2 & 2020-07-01 & 468100 & 17.73 & 17.73 & 17.54 & 17.68 & 17.68 & AAAU \\\\\n",
       "\t3 & 2020-06-30 & 319100 & 17.65 & 17.8 & 17.61 & 17.78 & 17.78 & AAAU \\\\\n",
       "\t4 & 2020-06-29 & 405500 & 17.67 & 17.69 & 17.63 & 17.68 & 17.68 & AAAU \\\\\n",
       "\t5 & 2020-06-26 & 335100 & 17.49 & 17.67 & 17.42 & 17.67 & 17.67 & AAAU \\\\\n",
       "\t6 & 2020-06-25 & 246800 & 17.6 & 17.6 & 17.52 & 17.59 & 17.59 & AAAU \\\\\n",
       "\t7 & 2020-06-24 & 329200 & 17.61 & 17.71 & 17.56 & 17.61 & 17.61 & AAAU \\\\\n",
       "\t8 & 2020-06-23 & 351800 & 17.55 & 17.66 & 17.55 & 17.66 & 17.66 & AAAU \\\\\n",
       "\t9 & 2020-06-22 & 308300 & 17.5 & 17.57 & 17.44 & 17.5 & 17.5 & AAAU \\\\\n",
       "\t10 & 2020-06-19 & 153800 & 17.27 & 17.4 & 17.26 & 17.4 & 17.4 & AAAU \\\\\n",
       "\t11 & 2020-06-18 & 102200 & 17.27 & 17.27 & 17.14 & 17.23 & 17.23 & AAAU \\\\\n",
       "\t12 & 2020-06-17 & 153900 & 17.19 & 17.25 & 17.16 & 17.25 & 17.25 & AAAU \\\\\n",
       "\t13 & 2020-06-16 & 165800 & 17.15 & 17.25 & 17.11 & 17.21 & 17.21 & AAAU \\\\\n",
       "\t14 & 2020-06-15 & 308700 & 17.03 & 17.23 & 17.0 & 17.2 & 17.2 & AAAU \\\\\n",
       "\t15 & 2020-06-12 & 161400 & 17.34 & 17.37 & 17.25 & 17.27 & 17.27 & AAAU \\\\\n",
       "\t16 & 2020-06-11 & 308800 & 17.33 & 17.4 & 17.17 & 17.23 & 17.23 & AAAU \\\\\n",
       "\t17 & 2020-06-10 & 316900 & 17.2 & 17.35 & 17.08 & 17.35 & 17.35 & AAAU \\\\\n",
       "\t18 & 2020-06-09 & 296100 & 17.11 & 17.18 & 17.07 & 17.11 & 17.11 & AAAU \\\\\n",
       "\t19 & 2020-06-08 & 386900 & 16.85 & 16.95 & 16.81 & 16.95 & 16.95 & AAAU \\\\\n",
       "\t20 & 2020-06-05 & 510400 & 16.84 & 16.84 & 16.67 & 16.76 & 16.76 & AAAU \\\\\n",
       "\t21 & 2020-06-04 & 270800 & 17.07 & 17.16 & 16.95 & 17.11 & 17.11 & AAAU \\\\\n",
       "\t22 & 2020-06-03 & 480300 & 17.01 & 17.06 & 16.84 & 16.92 & 16.92 & AAAU \\\\\n",
       "\t23 & 2020-06-02 & 166100 & 17.39 & 17.4 & 17.17 & 17.24 & 17.24 & AAAU \\\\\n",
       "\t24 & 2020-06-01 & 388700 & 17.3 & 17.37 & 17.24 & 17.37 & 17.37 & AAAU \\\\\n",
       "\t25 & 2020-05-29 & 426100 & 17.25 & 17.32 & 17.22 & 17.27 & 17.27 & AAAU \\\\\n",
       "\t26 & 2020-05-28 & 227500 & 17.21 & 17.22 & 17.07 & 17.16 & 17.16 & AAAU \\\\\n",
       "\t27 & 2020-05-27 & 480900 & 16.9 & 17.11 & 16.88 & 17.1 & 17.1 & AAAU \\\\\n",
       "\t28 & 2020-05-26 & 559900 & 17.26 & 17.26 & 17.04 & 17.05 & 17.05 & AAAU \\\\\n",
       "\t29 & 2020-05-22 & 202300 & 17.28 & 17.33 & 17.26 & 17.3 & 17.3 & AAAU \\\\\n",
       "\t30 & 2020-05-21 & 377500 & 17.34 & 17.35 & 17.12 & 17.21 & 17.21 & AAAU \\\\\n",
       "\t$\\dots$ & $\\dots$ & $\\dots$ & $\\dots$ & $\\dots$ & $\\dots$ & $\\dots$ & $\\dots$ & $\\dots$ \\\\\n",
       "\\end{tabular}\n"
      ],
      "text/plain": [
       "\u001b[1m6852038×8 DataFrame\u001b[0m\n",
       "\u001b[1m     Row \u001b[0m│\u001b[1m date       \u001b[0m\u001b[1m volume \u001b[0m\u001b[1m open    \u001b[0m\u001b[1m high    \u001b[0m\u001b[1m low     \u001b[0m\u001b[1m close   \u001b[0m\u001b[1m adjclose  \u001b[0m\u001b[1m \u001b[0m ⋯\n",
       "         │\u001b[90m Date       \u001b[0m\u001b[90m Int64  \u001b[0m\u001b[90m Float64 \u001b[0m\u001b[90m Float64 \u001b[0m\u001b[90m Float64 \u001b[0m\u001b[90m Float64 \u001b[0m\u001b[90m Float64   \u001b[0m\u001b[90m \u001b[0m ⋯\n",
       "─────────┼──────────────────────────────────────────────────────────────────────\n",
       "       1 │ 2020-07-02  257500    17.64    17.74    17.62    17.71  17.71       ⋯\n",
       "       2 │ 2020-07-01  468100    17.73    17.73    17.54    17.68  17.68\n",
       "       3 │ 2020-06-30  319100    17.65    17.8     17.61    17.78  17.78\n",
       "       4 │ 2020-06-29  405500    17.67    17.69    17.63    17.68  17.68\n",
       "       5 │ 2020-06-26  335100    17.49    17.67    17.42    17.67  17.67       ⋯\n",
       "       6 │ 2020-06-25  246800    17.6     17.6     17.52    17.59  17.59\n",
       "       7 │ 2020-06-24  329200    17.61    17.71    17.56    17.61  17.61\n",
       "       8 │ 2020-06-23  351800    17.55    17.66    17.55    17.66  17.66\n",
       "       9 │ 2020-06-22  308300    17.5     17.57    17.44    17.5   17.5        ⋯\n",
       "      10 │ 2020-06-19  153800    17.27    17.4     17.26    17.4   17.4\n",
       "      11 │ 2020-06-18  102200    17.27    17.27    17.14    17.23  17.23\n",
       "    ⋮    │     ⋮         ⋮        ⋮        ⋮        ⋮        ⋮         ⋮       ⋱\n",
       " 6852029 │ 2015-01-21    7800     0.13     0.18     0.12     0.18   0.175245\n",
       " 6852030 │ 2015-01-20    1800     0.18     0.18     0.17     0.18   0.175245   ⋯\n",
       " 6852031 │ 2015-01-16    8000     0.12     0.18     0.12     0.18   0.175245\n",
       " 6852032 │ 2015-01-14   33800     0.13     0.19     0.13     0.19   0.184981\n",
       " 6852033 │ 2015-01-13   27800     0.14     0.19     0.14     0.19   0.184981\n",
       " 6852034 │ 2015-01-12   10000     0.14     0.14     0.14     0.14   0.136302   ⋯\n",
       " 6852035 │ 2015-01-09     200     0.15     0.15     0.15     0.15   0.146038\n",
       " 6852036 │ 2015-01-07    8100     0.14     0.15     0.13     0.15   0.146038\n",
       " 6852037 │ 2015-01-05   33200     0.22     0.22     0.14     0.16   0.155774\n",
       " 6852038 │ 2015-01-02     100     0.18     0.18     0.18     0.18   0.175245   ⋯\n",
       "\u001b[36m                                               1 column and 6852017 rows omitted\u001b[0m"
      ]
     },
     "execution_count": 49,
     "metadata": {},
     "output_type": "execute_result"
    }
   ],
   "source": [
    "df_tmp = copy(fh5)"
   ]
  },
  {
   "cell_type": "markdown",
   "metadata": {},
   "source": [
    "#### Exercise"
   ]
  },
  {
   "cell_type": "markdown",
   "metadata": {},
   "source": [
    "In `df_tmp` find rows in which `:high` is less than `:low` and swap these values.\n",
    "We will discuss three ways to do it."
   ]
  },
  {
   "cell_type": "code",
   "execution_count": null,
   "metadata": {},
   "outputs": [],
   "source": []
  },
  {
   "cell_type": "code",
   "execution_count": null,
   "metadata": {},
   "outputs": [],
   "source": []
  },
  {
   "cell_type": "markdown",
   "metadata": {},
   "source": [
    "I give you the following column selectors. Can you tell the effect of each of them when trying to run `fh5[1:2, selector]`?\n",
    "Write the code that tests it."
   ]
  },
  {
   "cell_type": "code",
   "execution_count": 50,
   "metadata": {},
   "outputs": [
    {
     "data": {
      "text/plain": [
       "6-element Vector{Any}:\n",
       " Between{Int64, Int64}(1, 10)\n",
       " Between{Symbol, Symbol}(:low, :high)\n",
       " [:low, :low]\n",
       " Cols{Tuple{Symbol, Symbol}}((:low, :low), union)\n",
       " Cols{Tuple{Symbol, Colon}}((:low, Colon()), union)\n",
       " All{Tuple{}}(())"
      ]
     },
     "execution_count": 50,
     "metadata": {},
     "output_type": "execute_result"
    }
   ],
   "source": [
    "selectors = [Between(1, 10), Between(:low, :high), [:low, :low], Cols(:low, :low), Cols(:low, :), All()]"
   ]
  },
  {
   "cell_type": "code",
   "execution_count": null,
   "metadata": {},
   "outputs": [],
   "source": []
  },
  {
   "cell_type": "markdown",
   "metadata": {},
   "source": [
    "<div class=\"alert alert-block alert-info\">\n",
    "<b>Tip:</b>\n",
    "    \n",
    "In general `df.single_col` and `df[!, single_col]` produce the same result in `getindex`.\n",
    "\n",
    "The exceptions are:\n",
    "* `@view` and `@views` does not affect `df.single_col`.\n",
    "* in `df.single_col` you cannot pass `single_col` as a variable (unless you write `getproperty(df, single_col)`)\n",
    "* only `df[!, single_col]` allows integer indexing\n",
    "\n",
    "</div>\n"
   ]
  },
  {
   "cell_type": "markdown",
   "metadata": {},
   "source": [
    "### Indexing `GroupedDataFrame`"
   ]
  },
  {
   "cell_type": "markdown",
   "metadata": {},
   "source": [
    "A `GroupedDataFrame` is a view into a data frame which defines a key allowing a fast lookup (and in particular this key is then automatically used in split-apply-combine operations with `select`, `select!`, `transform`, `transform!` and `combine`)."
   ]
  },
  {
   "cell_type": "code",
   "execution_count": 51,
   "metadata": {},
   "outputs": [
    {
     "data": {
      "text/html": [
       "<p><b>GroupedDataFrame with 6335 groups based on key: symbol</b></p><div><div style = \"float: left;\"><span>First Group (474 rows): symbol = &quot;AAAU&quot;</span></div><div style = \"float: right;\"><span style = \"font-style: italic;\">449 rows omitted</span></div><div style = \"clear: both;\"></div></div><div class = \"data-frame\" style = \"overflow-x: scroll;\"><table class = \"data-frame\" style = \"margin-bottom: 6px;\"><thead><tr class = \"header\"><th class = \"rowNumber\" style = \"font-weight: bold; text-align: right;\">Row</th><th style = \"text-align: left;\">date</th><th style = \"text-align: left;\">volume</th><th style = \"text-align: left;\">open</th><th style = \"text-align: left;\">high</th><th style = \"text-align: left;\">low</th><th style = \"text-align: left;\">close</th><th style = \"text-align: left;\">adjclose</th><th style = \"text-align: left;\">symbol</th></tr><tr class = \"subheader headerLastRow\"><th class = \"rowNumber\" style = \"font-weight: bold; text-align: right;\"></th><th title = \"Date\" style = \"text-align: left;\">Date</th><th title = \"Int64\" style = \"text-align: left;\">Int64</th><th title = \"Float64\" style = \"text-align: left;\">Float64</th><th title = \"Float64\" style = \"text-align: left;\">Float64</th><th title = \"Float64\" style = \"text-align: left;\">Float64</th><th title = \"Float64\" style = \"text-align: left;\">Float64</th><th title = \"Float64\" style = \"text-align: left;\">Float64</th><th title = \"String7\" style = \"text-align: left;\">String7</th></tr></thead><tbody><tr><td class = \"rowNumber\" style = \"font-weight: bold; text-align: right;\">1</td><td style = \"text-align: left;\">2020-07-02</td><td style = \"text-align: right;\">257500</td><td style = \"text-align: right;\">17.64</td><td style = \"text-align: right;\">17.74</td><td style = \"text-align: right;\">17.62</td><td style = \"text-align: right;\">17.71</td><td style = \"text-align: right;\">17.71</td><td style = \"text-align: left;\">AAAU</td></tr><tr><td class = \"rowNumber\" style = \"font-weight: bold; text-align: right;\">2</td><td style = \"text-align: left;\">2020-07-01</td><td style = \"text-align: right;\">468100</td><td style = \"text-align: right;\">17.73</td><td style = \"text-align: right;\">17.73</td><td style = \"text-align: right;\">17.54</td><td style = \"text-align: right;\">17.68</td><td style = \"text-align: right;\">17.68</td><td style = \"text-align: left;\">AAAU</td></tr><tr><td class = \"rowNumber\" style = \"font-weight: bold; text-align: right;\">3</td><td style = \"text-align: left;\">2020-06-30</td><td style = \"text-align: right;\">319100</td><td style = \"text-align: right;\">17.65</td><td style = \"text-align: right;\">17.8</td><td style = \"text-align: right;\">17.61</td><td style = \"text-align: right;\">17.78</td><td style = \"text-align: right;\">17.78</td><td style = \"text-align: left;\">AAAU</td></tr><tr><td class = \"rowNumber\" style = \"font-weight: bold; text-align: right;\">4</td><td style = \"text-align: left;\">2020-06-29</td><td style = \"text-align: right;\">405500</td><td style = \"text-align: right;\">17.67</td><td style = \"text-align: right;\">17.69</td><td style = \"text-align: right;\">17.63</td><td style = \"text-align: right;\">17.68</td><td style = \"text-align: right;\">17.68</td><td style = \"text-align: left;\">AAAU</td></tr><tr><td class = \"rowNumber\" style = \"font-weight: bold; text-align: right;\">5</td><td style = \"text-align: left;\">2020-06-26</td><td style = \"text-align: right;\">335100</td><td style = \"text-align: right;\">17.49</td><td style = \"text-align: right;\">17.67</td><td style = \"text-align: right;\">17.42</td><td style = \"text-align: right;\">17.67</td><td style = \"text-align: right;\">17.67</td><td style = \"text-align: left;\">AAAU</td></tr><tr><td class = \"rowNumber\" style = \"font-weight: bold; text-align: right;\">6</td><td style = \"text-align: left;\">2020-06-25</td><td style = \"text-align: right;\">246800</td><td style = \"text-align: right;\">17.6</td><td style = \"text-align: right;\">17.6</td><td style = \"text-align: right;\">17.52</td><td style = \"text-align: right;\">17.59</td><td style = \"text-align: right;\">17.59</td><td style = \"text-align: left;\">AAAU</td></tr><tr><td class = \"rowNumber\" style = \"font-weight: bold; text-align: right;\">7</td><td style = \"text-align: left;\">2020-06-24</td><td style = \"text-align: right;\">329200</td><td style = \"text-align: right;\">17.61</td><td style = \"text-align: right;\">17.71</td><td style = \"text-align: right;\">17.56</td><td style = \"text-align: right;\">17.61</td><td style = \"text-align: right;\">17.61</td><td style = \"text-align: left;\">AAAU</td></tr><tr><td class = \"rowNumber\" style = \"font-weight: bold; text-align: right;\">8</td><td style = \"text-align: left;\">2020-06-23</td><td style = \"text-align: right;\">351800</td><td style = \"text-align: right;\">17.55</td><td style = \"text-align: right;\">17.66</td><td style = \"text-align: right;\">17.55</td><td style = \"text-align: right;\">17.66</td><td style = \"text-align: right;\">17.66</td><td style = \"text-align: left;\">AAAU</td></tr><tr><td class = \"rowNumber\" style = \"font-weight: bold; text-align: right;\">9</td><td style = \"text-align: left;\">2020-06-22</td><td style = \"text-align: right;\">308300</td><td style = \"text-align: right;\">17.5</td><td style = \"text-align: right;\">17.57</td><td style = \"text-align: right;\">17.44</td><td style = \"text-align: right;\">17.5</td><td style = \"text-align: right;\">17.5</td><td style = \"text-align: left;\">AAAU</td></tr><tr><td class = \"rowNumber\" style = \"font-weight: bold; text-align: right;\">10</td><td style = \"text-align: left;\">2020-06-19</td><td style = \"text-align: right;\">153800</td><td style = \"text-align: right;\">17.27</td><td style = \"text-align: right;\">17.4</td><td style = \"text-align: right;\">17.26</td><td style = \"text-align: right;\">17.4</td><td style = \"text-align: right;\">17.4</td><td style = \"text-align: left;\">AAAU</td></tr><tr><td class = \"rowNumber\" style = \"font-weight: bold; text-align: right;\">11</td><td style = \"text-align: left;\">2020-06-18</td><td style = \"text-align: right;\">102200</td><td style = \"text-align: right;\">17.27</td><td style = \"text-align: right;\">17.27</td><td style = \"text-align: right;\">17.14</td><td style = \"text-align: right;\">17.23</td><td style = \"text-align: right;\">17.23</td><td style = \"text-align: left;\">AAAU</td></tr><tr><td class = \"rowNumber\" style = \"font-weight: bold; text-align: right;\">12</td><td style = \"text-align: left;\">2020-06-17</td><td style = \"text-align: right;\">153900</td><td style = \"text-align: right;\">17.19</td><td style = \"text-align: right;\">17.25</td><td style = \"text-align: right;\">17.16</td><td style = \"text-align: right;\">17.25</td><td style = \"text-align: right;\">17.25</td><td style = \"text-align: left;\">AAAU</td></tr><tr><td class = \"rowNumber\" style = \"font-weight: bold; text-align: right;\">13</td><td style = \"text-align: left;\">2020-06-16</td><td style = \"text-align: right;\">165800</td><td style = \"text-align: right;\">17.15</td><td style = \"text-align: right;\">17.25</td><td style = \"text-align: right;\">17.11</td><td style = \"text-align: right;\">17.21</td><td style = \"text-align: right;\">17.21</td><td style = \"text-align: left;\">AAAU</td></tr><tr><td style = \"text-align: right;\">&vellip;</td><td style = \"text-align: right;\">&vellip;</td><td style = \"text-align: right;\">&vellip;</td><td style = \"text-align: right;\">&vellip;</td><td style = \"text-align: right;\">&vellip;</td><td style = \"text-align: right;\">&vellip;</td><td style = \"text-align: right;\">&vellip;</td><td style = \"text-align: right;\">&vellip;</td><td style = \"text-align: right;\">&vellip;</td></tr><tr><td class = \"rowNumber\" style = \"font-weight: bold; text-align: right;\">463</td><td style = \"text-align: left;\">2018-08-30</td><td style = \"text-align: right;\">804500</td><td style = \"text-align: right;\">12.03</td><td style = \"text-align: right;\">12.03</td><td style = \"text-align: right;\">11.97</td><td style = \"text-align: right;\">12.01</td><td style = \"text-align: right;\">12.01</td><td style = \"text-align: left;\">AAAU</td></tr><tr><td class = \"rowNumber\" style = \"font-weight: bold; text-align: right;\">464</td><td style = \"text-align: left;\">2018-08-29</td><td style = \"text-align: right;\">31800</td><td style = \"text-align: right;\">12.06</td><td style = \"text-align: right;\">12.06</td><td style = \"text-align: right;\">12.03</td><td style = \"text-align: right;\">12.05</td><td style = \"text-align: right;\">12.05</td><td style = \"text-align: left;\">AAAU</td></tr><tr><td class = \"rowNumber\" style = \"font-weight: bold; text-align: right;\">465</td><td style = \"text-align: left;\">2018-08-28</td><td style = \"text-align: right;\">30400</td><td style = \"text-align: right;\">12.13</td><td style = \"text-align: right;\">12.13</td><td style = \"text-align: right;\">12.01</td><td style = \"text-align: right;\">12.01</td><td style = \"text-align: right;\">12.01</td><td style = \"text-align: left;\">AAAU</td></tr><tr><td class = \"rowNumber\" style = \"font-weight: bold; text-align: right;\">466</td><td style = \"text-align: left;\">2018-08-27</td><td style = \"text-align: right;\">295100</td><td style = \"text-align: right;\">12.06</td><td style = \"text-align: right;\">12.13</td><td style = \"text-align: right;\">12.06</td><td style = \"text-align: right;\">12.1</td><td style = \"text-align: right;\">12.1</td><td style = \"text-align: left;\">AAAU</td></tr><tr><td class = \"rowNumber\" style = \"font-weight: bold; text-align: right;\">467</td><td style = \"text-align: left;\">2018-08-24</td><td style = \"text-align: right;\">106500</td><td style = \"text-align: right;\">11.97</td><td style = \"text-align: right;\">12.08</td><td style = \"text-align: right;\">11.96</td><td style = \"text-align: right;\">12.05</td><td style = \"text-align: right;\">12.05</td><td style = \"text-align: left;\">AAAU</td></tr><tr><td class = \"rowNumber\" style = \"font-weight: bold; text-align: right;\">468</td><td style = \"text-align: left;\">2018-08-23</td><td style = \"text-align: right;\">54800</td><td style = \"text-align: right;\">11.91</td><td style = \"text-align: right;\">11.92</td><td style = \"text-align: right;\">11.85</td><td style = \"text-align: right;\">11.85</td><td style = \"text-align: right;\">11.85</td><td style = \"text-align: left;\">AAAU</td></tr><tr><td class = \"rowNumber\" style = \"font-weight: bold; text-align: right;\">469</td><td style = \"text-align: left;\">2018-08-22</td><td style = \"text-align: right;\">101200</td><td style = \"text-align: right;\">11.98</td><td style = \"text-align: right;\">11.98</td><td style = \"text-align: right;\">11.94</td><td style = \"text-align: right;\">11.96</td><td style = \"text-align: right;\">11.96</td><td style = \"text-align: left;\">AAAU</td></tr><tr><td class = \"rowNumber\" style = \"font-weight: bold; text-align: right;\">470</td><td style = \"text-align: left;\">2018-08-21</td><td style = \"text-align: right;\">30600</td><td style = \"text-align: right;\">11.92</td><td style = \"text-align: right;\">11.95</td><td style = \"text-align: right;\">11.89</td><td style = \"text-align: right;\">11.93</td><td style = \"text-align: right;\">11.93</td><td style = \"text-align: left;\">AAAU</td></tr><tr><td class = \"rowNumber\" style = \"font-weight: bold; text-align: right;\">471</td><td style = \"text-align: left;\">2018-08-20</td><td style = \"text-align: right;\">28700</td><td style = \"text-align: right;\">11.88</td><td style = \"text-align: right;\">11.91</td><td style = \"text-align: right;\">11.85</td><td style = \"text-align: right;\">11.9</td><td style = \"text-align: right;\">11.9</td><td style = \"text-align: left;\">AAAU</td></tr><tr><td class = \"rowNumber\" style = \"font-weight: bold; text-align: right;\">472</td><td style = \"text-align: left;\">2018-08-17</td><td style = \"text-align: right;\">52400</td><td style = \"text-align: right;\">11.8</td><td style = \"text-align: right;\">11.82</td><td style = \"text-align: right;\">11.77</td><td style = \"text-align: right;\">11.82</td><td style = \"text-align: right;\">11.82</td><td style = \"text-align: left;\">AAAU</td></tr><tr><td class = \"rowNumber\" style = \"font-weight: bold; text-align: right;\">473</td><td style = \"text-align: left;\">2018-08-16</td><td style = \"text-align: right;\">428400</td><td style = \"text-align: right;\">11.78</td><td style = \"text-align: right;\">11.8</td><td style = \"text-align: right;\">11.74</td><td style = \"text-align: right;\">11.74</td><td style = \"text-align: right;\">11.74</td><td style = \"text-align: left;\">AAAU</td></tr><tr><td class = \"rowNumber\" style = \"font-weight: bold; text-align: right;\">474</td><td style = \"text-align: left;\">2018-08-15</td><td style = \"text-align: right;\">27300</td><td style = \"text-align: right;\">11.84</td><td style = \"text-align: right;\">11.84</td><td style = \"text-align: right;\">11.74</td><td style = \"text-align: right;\">11.74</td><td style = \"text-align: right;\">11.74</td><td style = \"text-align: left;\">AAAU</td></tr></tbody></table></div><p>&vellip;</p><div><div style = \"float: left;\"><span>Last Group (1215 rows): symbol = &quot;ZYXI&quot;</span></div><div style = \"float: right;\"><span style = \"font-style: italic;\">1190 rows omitted</span></div><div style = \"clear: both;\"></div></div><div class = \"data-frame\" style = \"overflow-x: scroll;\"><table class = \"data-frame\" style = \"margin-bottom: 6px;\"><thead><tr class = \"header\"><th class = \"rowNumber\" style = \"font-weight: bold; text-align: right;\">Row</th><th style = \"text-align: left;\">date</th><th style = \"text-align: left;\">volume</th><th style = \"text-align: left;\">open</th><th style = \"text-align: left;\">high</th><th style = \"text-align: left;\">low</th><th style = \"text-align: left;\">close</th><th style = \"text-align: left;\">adjclose</th><th style = \"text-align: left;\">symbol</th></tr><tr class = \"subheader headerLastRow\"><th class = \"rowNumber\" style = \"font-weight: bold; text-align: right;\"></th><th title = \"Date\" style = \"text-align: left;\">Date</th><th title = \"Int64\" style = \"text-align: left;\">Int64</th><th title = \"Float64\" style = \"text-align: left;\">Float64</th><th title = \"Float64\" style = \"text-align: left;\">Float64</th><th title = \"Float64\" style = \"text-align: left;\">Float64</th><th title = \"Float64\" style = \"text-align: left;\">Float64</th><th title = \"Float64\" style = \"text-align: left;\">Float64</th><th title = \"String7\" style = \"text-align: left;\">String7</th></tr></thead><tbody><tr><td class = \"rowNumber\" style = \"font-weight: bold; text-align: right;\">1</td><td style = \"text-align: left;\">2020-07-02</td><td style = \"text-align: right;\">1072200</td><td style = \"text-align: right;\">24.54</td><td style = \"text-align: right;\">26.84</td><td style = \"text-align: right;\">24.44</td><td style = \"text-align: right;\">25.12</td><td style = \"text-align: right;\">25.12</td><td style = \"text-align: left;\">ZYXI</td></tr><tr><td class = \"rowNumber\" style = \"font-weight: bold; text-align: right;\">2</td><td style = \"text-align: left;\">2020-07-01</td><td style = \"text-align: right;\">630100</td><td style = \"text-align: right;\">24.77</td><td style = \"text-align: right;\">24.85</td><td style = \"text-align: right;\">23.95</td><td style = \"text-align: right;\">24.41</td><td style = \"text-align: right;\">24.41</td><td style = \"text-align: left;\">ZYXI</td></tr><tr><td class = \"rowNumber\" style = \"font-weight: bold; text-align: right;\">3</td><td style = \"text-align: left;\">2020-06-30</td><td style = \"text-align: right;\">1054800</td><td style = \"text-align: right;\">23.05</td><td style = \"text-align: right;\">25.24</td><td style = \"text-align: right;\">22.81</td><td style = \"text-align: right;\">24.87</td><td style = \"text-align: right;\">24.87</td><td style = \"text-align: left;\">ZYXI</td></tr><tr><td class = \"rowNumber\" style = \"font-weight: bold; text-align: right;\">4</td><td style = \"text-align: left;\">2020-06-29</td><td style = \"text-align: right;\">757500</td><td style = \"text-align: right;\">22.92</td><td style = \"text-align: right;\">23.46</td><td style = \"text-align: right;\">21.94</td><td style = \"text-align: right;\">23.18</td><td style = \"text-align: right;\">23.18</td><td style = \"text-align: left;\">ZYXI</td></tr><tr><td class = \"rowNumber\" style = \"font-weight: bold; text-align: right;\">5</td><td style = \"text-align: left;\">2020-06-26</td><td style = \"text-align: right;\">1061400</td><td style = \"text-align: right;\">25.09</td><td style = \"text-align: right;\">25.14</td><td style = \"text-align: right;\">22.75</td><td style = \"text-align: right;\">22.82</td><td style = \"text-align: right;\">22.82</td><td style = \"text-align: left;\">ZYXI</td></tr><tr><td class = \"rowNumber\" style = \"font-weight: bold; text-align: right;\">6</td><td style = \"text-align: left;\">2020-06-25</td><td style = \"text-align: right;\">901800</td><td style = \"text-align: right;\">23.41</td><td style = \"text-align: right;\">25.49</td><td style = \"text-align: right;\">23.19</td><td style = \"text-align: right;\">24.74</td><td style = \"text-align: right;\">24.74</td><td style = \"text-align: left;\">ZYXI</td></tr><tr><td class = \"rowNumber\" style = \"font-weight: bold; text-align: right;\">7</td><td style = \"text-align: left;\">2020-06-24</td><td style = \"text-align: right;\">777900</td><td style = \"text-align: right;\">23.86</td><td style = \"text-align: right;\">24.35</td><td style = \"text-align: right;\">22.59</td><td style = \"text-align: right;\">23.59</td><td style = \"text-align: right;\">23.59</td><td style = \"text-align: left;\">ZYXI</td></tr><tr><td class = \"rowNumber\" style = \"font-weight: bold; text-align: right;\">8</td><td style = \"text-align: left;\">2020-06-23</td><td style = \"text-align: right;\">675800</td><td style = \"text-align: right;\">24.46</td><td style = \"text-align: right;\">24.72</td><td style = \"text-align: right;\">23.8</td><td style = \"text-align: right;\">24.34</td><td style = \"text-align: right;\">24.34</td><td style = \"text-align: left;\">ZYXI</td></tr><tr><td class = \"rowNumber\" style = \"font-weight: bold; text-align: right;\">9</td><td style = \"text-align: left;\">2020-06-22</td><td style = \"text-align: right;\">821200</td><td style = \"text-align: right;\">24.48</td><td style = \"text-align: right;\">24.49</td><td style = \"text-align: right;\">23.5</td><td style = \"text-align: right;\">24.44</td><td style = \"text-align: right;\">24.44</td><td style = \"text-align: left;\">ZYXI</td></tr><tr><td class = \"rowNumber\" style = \"font-weight: bold; text-align: right;\">10</td><td style = \"text-align: left;\">2020-06-19</td><td style = \"text-align: right;\">1892700</td><td style = \"text-align: right;\">24.5</td><td style = \"text-align: right;\">25.71</td><td style = \"text-align: right;\">22.63</td><td style = \"text-align: right;\">24.06</td><td style = \"text-align: right;\">24.06</td><td style = \"text-align: left;\">ZYXI</td></tr><tr><td class = \"rowNumber\" style = \"font-weight: bold; text-align: right;\">11</td><td style = \"text-align: left;\">2020-06-18</td><td style = \"text-align: right;\">745200</td><td style = \"text-align: right;\">24.55</td><td style = \"text-align: right;\">25.13</td><td style = \"text-align: right;\">23.71</td><td style = \"text-align: right;\">24.5</td><td style = \"text-align: right;\">24.5</td><td style = \"text-align: left;\">ZYXI</td></tr><tr><td class = \"rowNumber\" style = \"font-weight: bold; text-align: right;\">12</td><td style = \"text-align: left;\">2020-06-17</td><td style = \"text-align: right;\">1504800</td><td style = \"text-align: right;\">26.8</td><td style = \"text-align: right;\">27.0</td><td style = \"text-align: right;\">23.21</td><td style = \"text-align: right;\">24.08</td><td style = \"text-align: right;\">24.08</td><td style = \"text-align: left;\">ZYXI</td></tr><tr><td class = \"rowNumber\" style = \"font-weight: bold; text-align: right;\">13</td><td style = \"text-align: left;\">2020-06-16</td><td style = \"text-align: right;\">1732900</td><td style = \"text-align: right;\">24.75</td><td style = \"text-align: right;\">26.62</td><td style = \"text-align: right;\">24.48</td><td style = \"text-align: right;\">25.84</td><td style = \"text-align: right;\">25.84</td><td style = \"text-align: left;\">ZYXI</td></tr><tr><td style = \"text-align: right;\">&vellip;</td><td style = \"text-align: right;\">&vellip;</td><td style = \"text-align: right;\">&vellip;</td><td style = \"text-align: right;\">&vellip;</td><td style = \"text-align: right;\">&vellip;</td><td style = \"text-align: right;\">&vellip;</td><td style = \"text-align: right;\">&vellip;</td><td style = \"text-align: right;\">&vellip;</td><td style = \"text-align: right;\">&vellip;</td></tr><tr><td class = \"rowNumber\" style = \"font-weight: bold; text-align: right;\">1204</td><td style = \"text-align: left;\">2015-01-23</td><td style = \"text-align: right;\">800</td><td style = \"text-align: right;\">0.13</td><td style = \"text-align: right;\">0.18</td><td style = \"text-align: right;\">0.13</td><td style = \"text-align: right;\">0.18</td><td style = \"text-align: right;\">0.175245</td><td style = \"text-align: left;\">ZYXI</td></tr><tr><td class = \"rowNumber\" style = \"font-weight: bold; text-align: right;\">1205</td><td style = \"text-align: left;\">2015-01-22</td><td style = \"text-align: right;\">5000</td><td style = \"text-align: right;\">0.12</td><td style = \"text-align: right;\">0.18</td><td style = \"text-align: right;\">0.12</td><td style = \"text-align: right;\">0.18</td><td style = \"text-align: right;\">0.175245</td><td style = \"text-align: left;\">ZYXI</td></tr><tr><td class = \"rowNumber\" style = \"font-weight: bold; text-align: right;\">1206</td><td style = \"text-align: left;\">2015-01-21</td><td style = \"text-align: right;\">7800</td><td style = \"text-align: right;\">0.13</td><td style = \"text-align: right;\">0.18</td><td style = \"text-align: right;\">0.12</td><td style = \"text-align: right;\">0.18</td><td style = \"text-align: right;\">0.175245</td><td style = \"text-align: left;\">ZYXI</td></tr><tr><td class = \"rowNumber\" style = \"font-weight: bold; text-align: right;\">1207</td><td style = \"text-align: left;\">2015-01-20</td><td style = \"text-align: right;\">1800</td><td style = \"text-align: right;\">0.18</td><td style = \"text-align: right;\">0.18</td><td style = \"text-align: right;\">0.17</td><td style = \"text-align: right;\">0.18</td><td style = \"text-align: right;\">0.175245</td><td style = \"text-align: left;\">ZYXI</td></tr><tr><td class = \"rowNumber\" style = \"font-weight: bold; text-align: right;\">1208</td><td style = \"text-align: left;\">2015-01-16</td><td style = \"text-align: right;\">8000</td><td style = \"text-align: right;\">0.12</td><td style = \"text-align: right;\">0.18</td><td style = \"text-align: right;\">0.12</td><td style = \"text-align: right;\">0.18</td><td style = \"text-align: right;\">0.175245</td><td style = \"text-align: left;\">ZYXI</td></tr><tr><td class = \"rowNumber\" style = \"font-weight: bold; text-align: right;\">1209</td><td style = \"text-align: left;\">2015-01-14</td><td style = \"text-align: right;\">33800</td><td style = \"text-align: right;\">0.13</td><td style = \"text-align: right;\">0.19</td><td style = \"text-align: right;\">0.13</td><td style = \"text-align: right;\">0.19</td><td style = \"text-align: right;\">0.184981</td><td style = \"text-align: left;\">ZYXI</td></tr><tr><td class = \"rowNumber\" style = \"font-weight: bold; text-align: right;\">1210</td><td style = \"text-align: left;\">2015-01-13</td><td style = \"text-align: right;\">27800</td><td style = \"text-align: right;\">0.14</td><td style = \"text-align: right;\">0.19</td><td style = \"text-align: right;\">0.14</td><td style = \"text-align: right;\">0.19</td><td style = \"text-align: right;\">0.184981</td><td style = \"text-align: left;\">ZYXI</td></tr><tr><td class = \"rowNumber\" style = \"font-weight: bold; text-align: right;\">1211</td><td style = \"text-align: left;\">2015-01-12</td><td style = \"text-align: right;\">10000</td><td style = \"text-align: right;\">0.14</td><td style = \"text-align: right;\">0.14</td><td style = \"text-align: right;\">0.14</td><td style = \"text-align: right;\">0.14</td><td style = \"text-align: right;\">0.136302</td><td style = \"text-align: left;\">ZYXI</td></tr><tr><td class = \"rowNumber\" style = \"font-weight: bold; text-align: right;\">1212</td><td style = \"text-align: left;\">2015-01-09</td><td style = \"text-align: right;\">200</td><td style = \"text-align: right;\">0.15</td><td style = \"text-align: right;\">0.15</td><td style = \"text-align: right;\">0.15</td><td style = \"text-align: right;\">0.15</td><td style = \"text-align: right;\">0.146038</td><td style = \"text-align: left;\">ZYXI</td></tr><tr><td class = \"rowNumber\" style = \"font-weight: bold; text-align: right;\">1213</td><td style = \"text-align: left;\">2015-01-07</td><td style = \"text-align: right;\">8100</td><td style = \"text-align: right;\">0.14</td><td style = \"text-align: right;\">0.15</td><td style = \"text-align: right;\">0.13</td><td style = \"text-align: right;\">0.15</td><td style = \"text-align: right;\">0.146038</td><td style = \"text-align: left;\">ZYXI</td></tr><tr><td class = \"rowNumber\" style = \"font-weight: bold; text-align: right;\">1214</td><td style = \"text-align: left;\">2015-01-05</td><td style = \"text-align: right;\">33200</td><td style = \"text-align: right;\">0.22</td><td style = \"text-align: right;\">0.22</td><td style = \"text-align: right;\">0.14</td><td style = \"text-align: right;\">0.16</td><td style = \"text-align: right;\">0.155774</td><td style = \"text-align: left;\">ZYXI</td></tr><tr><td class = \"rowNumber\" style = \"font-weight: bold; text-align: right;\">1215</td><td style = \"text-align: left;\">2015-01-02</td><td style = \"text-align: right;\">100</td><td style = \"text-align: right;\">0.18</td><td style = \"text-align: right;\">0.18</td><td style = \"text-align: right;\">0.18</td><td style = \"text-align: right;\">0.18</td><td style = \"text-align: right;\">0.175245</td><td style = \"text-align: left;\">ZYXI</td></tr></tbody></table></div>"
      ],
      "text/latex": [
       "GroupedDataFrame with 6335 groups based on key: symbol\n",
       "\n",
       "First Group (474 rows): symbol = \"AAAU\"\n",
       "\n",
       "\\begin{tabular}{r|cccccccc}\n",
       "\t& date & volume & open & high & low & close & adjclose & symbol\\\\\n",
       "\t\\hline\n",
       "\t& Date & Int64 & Float64 & Float64 & Float64 & Float64 & Float64 & String7\\\\\n",
       "\t\\hline\n",
       "\t1 & 2020-07-02 & 257500 & 17.64 & 17.74 & 17.62 & 17.71 & 17.71 & AAAU \\\\\n",
       "\t2 & 2020-07-01 & 468100 & 17.73 & 17.73 & 17.54 & 17.68 & 17.68 & AAAU \\\\\n",
       "\t3 & 2020-06-30 & 319100 & 17.65 & 17.8 & 17.61 & 17.78 & 17.78 & AAAU \\\\\n",
       "\t4 & 2020-06-29 & 405500 & 17.67 & 17.69 & 17.63 & 17.68 & 17.68 & AAAU \\\\\n",
       "\t5 & 2020-06-26 & 335100 & 17.49 & 17.67 & 17.42 & 17.67 & 17.67 & AAAU \\\\\n",
       "\t6 & 2020-06-25 & 246800 & 17.6 & 17.6 & 17.52 & 17.59 & 17.59 & AAAU \\\\\n",
       "\t7 & 2020-06-24 & 329200 & 17.61 & 17.71 & 17.56 & 17.61 & 17.61 & AAAU \\\\\n",
       "\t8 & 2020-06-23 & 351800 & 17.55 & 17.66 & 17.55 & 17.66 & 17.66 & AAAU \\\\\n",
       "\t9 & 2020-06-22 & 308300 & 17.5 & 17.57 & 17.44 & 17.5 & 17.5 & AAAU \\\\\n",
       "\t10 & 2020-06-19 & 153800 & 17.27 & 17.4 & 17.26 & 17.4 & 17.4 & AAAU \\\\\n",
       "\t11 & 2020-06-18 & 102200 & 17.27 & 17.27 & 17.14 & 17.23 & 17.23 & AAAU \\\\\n",
       "\t12 & 2020-06-17 & 153900 & 17.19 & 17.25 & 17.16 & 17.25 & 17.25 & AAAU \\\\\n",
       "\t13 & 2020-06-16 & 165800 & 17.15 & 17.25 & 17.11 & 17.21 & 17.21 & AAAU \\\\\n",
       "\t14 & 2020-06-15 & 308700 & 17.03 & 17.23 & 17.0 & 17.2 & 17.2 & AAAU \\\\\n",
       "\t15 & 2020-06-12 & 161400 & 17.34 & 17.37 & 17.25 & 17.27 & 17.27 & AAAU \\\\\n",
       "\t16 & 2020-06-11 & 308800 & 17.33 & 17.4 & 17.17 & 17.23 & 17.23 & AAAU \\\\\n",
       "\t17 & 2020-06-10 & 316900 & 17.2 & 17.35 & 17.08 & 17.35 & 17.35 & AAAU \\\\\n",
       "\t18 & 2020-06-09 & 296100 & 17.11 & 17.18 & 17.07 & 17.11 & 17.11 & AAAU \\\\\n",
       "\t19 & 2020-06-08 & 386900 & 16.85 & 16.95 & 16.81 & 16.95 & 16.95 & AAAU \\\\\n",
       "\t20 & 2020-06-05 & 510400 & 16.84 & 16.84 & 16.67 & 16.76 & 16.76 & AAAU \\\\\n",
       "\t21 & 2020-06-04 & 270800 & 17.07 & 17.16 & 16.95 & 17.11 & 17.11 & AAAU \\\\\n",
       "\t22 & 2020-06-03 & 480300 & 17.01 & 17.06 & 16.84 & 16.92 & 16.92 & AAAU \\\\\n",
       "\t23 & 2020-06-02 & 166100 & 17.39 & 17.4 & 17.17 & 17.24 & 17.24 & AAAU \\\\\n",
       "\t24 & 2020-06-01 & 388700 & 17.3 & 17.37 & 17.24 & 17.37 & 17.37 & AAAU \\\\\n",
       "\t25 & 2020-05-29 & 426100 & 17.25 & 17.32 & 17.22 & 17.27 & 17.27 & AAAU \\\\\n",
       "\t26 & 2020-05-28 & 227500 & 17.21 & 17.22 & 17.07 & 17.16 & 17.16 & AAAU \\\\\n",
       "\t27 & 2020-05-27 & 480900 & 16.9 & 17.11 & 16.88 & 17.1 & 17.1 & AAAU \\\\\n",
       "\t28 & 2020-05-26 & 559900 & 17.26 & 17.26 & 17.04 & 17.05 & 17.05 & AAAU \\\\\n",
       "\t29 & 2020-05-22 & 202300 & 17.28 & 17.33 & 17.26 & 17.3 & 17.3 & AAAU \\\\\n",
       "\t30 & 2020-05-21 & 377500 & 17.34 & 17.35 & 17.12 & 17.21 & 17.21 & AAAU \\\\\n",
       "\t$\\dots$ & $\\dots$ & $\\dots$ & $\\dots$ & $\\dots$ & $\\dots$ & $\\dots$ & $\\dots$ & $\\dots$ \\\\\n",
       "\\end{tabular}\n",
       "\n",
       "$\\dots$\n",
       "\n",
       "Last Group (1215 rows): symbol = \"ZYXI\"\n",
       "\n",
       "\\begin{tabular}{r|cccccccc}\n",
       "\t& date & volume & open & high & low & close & adjclose & symbol\\\\\n",
       "\t\\hline\n",
       "\t& Date & Int64 & Float64 & Float64 & Float64 & Float64 & Float64 & String7\\\\\n",
       "\t\\hline\n",
       "\t1 & 2020-07-02 & 1072200 & 24.54 & 26.84 & 24.44 & 25.12 & 25.12 & ZYXI \\\\\n",
       "\t2 & 2020-07-01 & 630100 & 24.77 & 24.85 & 23.95 & 24.41 & 24.41 & ZYXI \\\\\n",
       "\t3 & 2020-06-30 & 1054800 & 23.05 & 25.24 & 22.81 & 24.87 & 24.87 & ZYXI \\\\\n",
       "\t4 & 2020-06-29 & 757500 & 22.92 & 23.46 & 21.94 & 23.18 & 23.18 & ZYXI \\\\\n",
       "\t5 & 2020-06-26 & 1061400 & 25.09 & 25.14 & 22.75 & 22.82 & 22.82 & ZYXI \\\\\n",
       "\t6 & 2020-06-25 & 901800 & 23.41 & 25.49 & 23.19 & 24.74 & 24.74 & ZYXI \\\\\n",
       "\t7 & 2020-06-24 & 777900 & 23.86 & 24.35 & 22.59 & 23.59 & 23.59 & ZYXI \\\\\n",
       "\t8 & 2020-06-23 & 675800 & 24.46 & 24.72 & 23.8 & 24.34 & 24.34 & ZYXI \\\\\n",
       "\t9 & 2020-06-22 & 821200 & 24.48 & 24.49 & 23.5 & 24.44 & 24.44 & ZYXI \\\\\n",
       "\t10 & 2020-06-19 & 1892700 & 24.5 & 25.71 & 22.63 & 24.06 & 24.06 & ZYXI \\\\\n",
       "\t11 & 2020-06-18 & 745200 & 24.55 & 25.13 & 23.71 & 24.5 & 24.5 & ZYXI \\\\\n",
       "\t12 & 2020-06-17 & 1504800 & 26.8 & 27.0 & 23.21 & 24.08 & 24.08 & ZYXI \\\\\n",
       "\t13 & 2020-06-16 & 1732900 & 24.75 & 26.62 & 24.48 & 25.84 & 25.84 & ZYXI \\\\\n",
       "\t14 & 2020-06-15 & 4673800 & 20.88 & 25.0 & 20.68 & 24.52 & 24.52 & ZYXI \\\\\n",
       "\t15 & 2020-06-12 & 2422600 & 24.25 & 24.47 & 20.76 & 22.19 & 22.19 & ZYXI \\\\\n",
       "\t16 & 2020-06-11 & 3803600 & 23.06 & 25.39 & 22.58 & 22.85 & 22.85 & ZYXI \\\\\n",
       "\t17 & 2020-06-10 & 883500 & 20.4 & 22.25 & 20.1 & 21.26 & 21.26 & ZYXI \\\\\n",
       "\t18 & 2020-06-09 & 1534000 & 23.19 & 23.3 & 19.8 & 20.0 & 20.0 & ZYXI \\\\\n",
       "\t19 & 2020-06-08 & 1779600 & 22.4 & 24.75 & 22.15 & 22.89 & 22.89 & ZYXI \\\\\n",
       "\t20 & 2020-06-05 & 1150200 & 19.41 & 21.96 & 19.41 & 21.43 & 21.43 & ZYXI \\\\\n",
       "\t21 & 2020-06-04 & 697400 & 20.01 & 20.55 & 19.12 & 19.44 & 19.44 & ZYXI \\\\\n",
       "\t22 & 2020-06-03 & 956100 & 19.54 & 20.68 & 18.77 & 19.99 & 19.99 & ZYXI \\\\\n",
       "\t23 & 2020-06-02 & 559000 & 19.75 & 19.97 & 19.03 & 19.57 & 19.57 & ZYXI \\\\\n",
       "\t24 & 2020-06-01 & 848100 & 19.45 & 20.13 & 19.34 & 19.7 & 19.7 & ZYXI \\\\\n",
       "\t25 & 2020-05-29 & 899100 & 19.21 & 19.99 & 18.5 & 19.4 & 19.4 & ZYXI \\\\\n",
       "\t26 & 2020-05-28 & 695600 & 18.45 & 19.94 & 18.14 & 18.93 & 18.93 & ZYXI \\\\\n",
       "\t27 & 2020-05-27 & 1036900 & 19.55 & 19.72 & 17.55 & 18.45 & 18.45 & ZYXI \\\\\n",
       "\t28 & 2020-05-26 & 828300 & 19.91 & 20.48 & 19.2 & 19.66 & 19.66 & ZYXI \\\\\n",
       "\t29 & 2020-05-22 & 396800 & 18.71 & 19.26 & 18.14 & 19.0 & 19.0 & ZYXI \\\\\n",
       "\t30 & 2020-05-21 & 402400 & 19.01 & 19.05 & 18.07 & 18.77 & 18.77 & ZYXI \\\\\n",
       "\t$\\dots$ & $\\dots$ & $\\dots$ & $\\dots$ & $\\dots$ & $\\dots$ & $\\dots$ & $\\dots$ & $\\dots$ \\\\\n",
       "\\end{tabular}\n"
      ],
      "text/plain": [
       "GroupedDataFrame with 6335 groups based on key: symbol\n",
       "First Group (474 rows): symbol = \"AAAU\"\n",
       "\u001b[1m Row \u001b[0m│\u001b[1m date       \u001b[0m\u001b[1m volume \u001b[0m\u001b[1m open    \u001b[0m\u001b[1m high    \u001b[0m\u001b[1m low     \u001b[0m\u001b[1m close   \u001b[0m\u001b[1m adjclose \u001b[0m\u001b[1m symbo\u001b[0m ⋯\n",
       "     │\u001b[90m Date       \u001b[0m\u001b[90m Int64  \u001b[0m\u001b[90m Float64 \u001b[0m\u001b[90m Float64 \u001b[0m\u001b[90m Float64 \u001b[0m\u001b[90m Float64 \u001b[0m\u001b[90m Float64  \u001b[0m\u001b[90m Strin\u001b[0m ⋯\n",
       "─────┼──────────────────────────────────────────────────────────────────────────\n",
       "   1 │ 2020-07-02  257500    17.64    17.74    17.62    17.71     17.71  AAAU  ⋯\n",
       "   2 │ 2020-07-01  468100    17.73    17.73    17.54    17.68     17.68  AAAU\n",
       "   3 │ 2020-06-30  319100    17.65    17.8     17.61    17.78     17.78  AAAU\n",
       "   4 │ 2020-06-29  405500    17.67    17.69    17.63    17.68     17.68  AAAU\n",
       "  ⋮  │     ⋮         ⋮        ⋮        ⋮        ⋮        ⋮        ⋮         ⋮  ⋱\n",
       " 472 │ 2018-08-17   52400    11.8     11.82    11.77    11.82     11.82  AAAU  ⋯\n",
       " 473 │ 2018-08-16  428400    11.78    11.8     11.74    11.74     11.74  AAAU\n",
       " 474 │ 2018-08-15   27300    11.84    11.84    11.74    11.74     11.74  AAAU\n",
       "\u001b[36m                                                   1 column and 467 rows omitted\u001b[0m\n",
       "⋮\n",
       "Last Group (1215 rows): symbol = \"ZYXI\"\n",
       "\u001b[1m  Row \u001b[0m│\u001b[1m date       \u001b[0m\u001b[1m volume  \u001b[0m\u001b[1m open    \u001b[0m\u001b[1m high    \u001b[0m\u001b[1m low     \u001b[0m\u001b[1m close   \u001b[0m\u001b[1m adjclose  \u001b[0m\u001b[1m sy\u001b[0m ⋯\n",
       "      │\u001b[90m Date       \u001b[0m\u001b[90m Int64   \u001b[0m\u001b[90m Float64 \u001b[0m\u001b[90m Float64 \u001b[0m\u001b[90m Float64 \u001b[0m\u001b[90m Float64 \u001b[0m\u001b[90m Float64   \u001b[0m\u001b[90m St\u001b[0m ⋯\n",
       "──────┼─────────────────────────────────────────────────────────────────────────\n",
       "    1 │ 2020-07-02  1072200    24.54    26.84    24.44    25.12  25.12      ZY ⋯\n",
       "    2 │ 2020-07-01   630100    24.77    24.85    23.95    24.41  24.41      ZY\n",
       "    3 │ 2020-06-30  1054800    23.05    25.24    22.81    24.87  24.87      ZY\n",
       "  ⋮   │     ⋮          ⋮        ⋮        ⋮        ⋮        ⋮         ⋮         ⋱\n",
       " 1213 │ 2015-01-07     8100     0.14     0.15     0.13     0.15   0.146038  ZY\n",
       " 1214 │ 2015-01-05    33200     0.22     0.22     0.14     0.16   0.155774  ZY ⋯\n",
       " 1215 │ 2015-01-02      100     0.18     0.18     0.18     0.18   0.175245  ZY\n",
       "\u001b[36m                                                  1 column and 1209 rows omitted\u001b[0m"
      ]
     },
     "execution_count": 51,
     "metadata": {},
     "output_type": "execute_result"
    }
   ],
   "source": [
    "gdf = groupby(fh5, :symbol)"
   ]
  },
  {
   "cell_type": "code",
   "execution_count": 52,
   "metadata": {},
   "outputs": [
    {
     "data": {
      "text/plain": [
       "6335-element DataFrames.GroupKeys{GroupedDataFrame{DataFrame}}:\n",
       " GroupKey: (symbol = String7(\"AAAU\"),)\n",
       " GroupKey: (symbol = String7(\"AACG\"),)\n",
       " GroupKey: (symbol = String7(\"AADR\"),)\n",
       " GroupKey: (symbol = String7(\"AAL\"),)\n",
       " GroupKey: (symbol = String7(\"AAMC\"),)\n",
       " GroupKey: (symbol = String7(\"AAME\"),)\n",
       " GroupKey: (symbol = String7(\"AAN\"),)\n",
       " GroupKey: (symbol = String7(\"AAOI\"),)\n",
       " GroupKey: (symbol = String7(\"AAON\"),)\n",
       " GroupKey: (symbol = String7(\"AAP\"),)\n",
       " GroupKey: (symbol = String7(\"AAPL\"),)\n",
       " GroupKey: (symbol = String7(\"AAT\"),)\n",
       " GroupKey: (symbol = String7(\"AAU\"),)\n",
       " ⋮\n",
       " GroupKey: (symbol = String7(\"ZOM\"),)\n",
       " GroupKey: (symbol = String7(\"ZROZ\"),)\n",
       " GroupKey: (symbol = String7(\"ZS\"),)\n",
       " GroupKey: (symbol = String7(\"ZSAN\"),)\n",
       " GroupKey: (symbol = String7(\"ZTO\"),)\n",
       " GroupKey: (symbol = String7(\"ZTR\"),)\n",
       " GroupKey: (symbol = String7(\"ZTS\"),)\n",
       " GroupKey: (symbol = String7(\"ZUO\"),)\n",
       " GroupKey: (symbol = String7(\"ZVO\"),)\n",
       " GroupKey: (symbol = String7(\"ZYME\"),)\n",
       " GroupKey: (symbol = String7(\"ZYNE\"),)\n",
       " GroupKey: (symbol = String7(\"ZYXI\"),)"
      ]
     },
     "execution_count": 52,
     "metadata": {},
     "output_type": "execute_result"
    }
   ],
   "source": [
    "gdf_keys = keys(gdf)"
   ]
  },
  {
   "cell_type": "markdown",
   "metadata": {},
   "source": [
    "As usual - indexing by a single value drops a dimension (you get a `SubDataFrame`)"
   ]
  },
  {
   "cell_type": "code",
   "execution_count": 53,
   "metadata": {},
   "outputs": [
    {
     "data": {
      "text/html": [
       "<div><div style = \"float: left;\"><span>474×8 SubDataFrame</span></div><div style = \"float: right;\"><span style = \"font-style: italic;\">449 rows omitted</span></div><div style = \"clear: both;\"></div></div><div class = \"data-frame\" style = \"overflow-x: scroll;\"><table class = \"data-frame\" style = \"margin-bottom: 6px;\"><thead><tr class = \"header\"><th class = \"rowNumber\" style = \"font-weight: bold; text-align: right;\">Row</th><th style = \"text-align: left;\">date</th><th style = \"text-align: left;\">volume</th><th style = \"text-align: left;\">open</th><th style = \"text-align: left;\">high</th><th style = \"text-align: left;\">low</th><th style = \"text-align: left;\">close</th><th style = \"text-align: left;\">adjclose</th><th style = \"text-align: left;\">symbol</th></tr><tr class = \"subheader headerLastRow\"><th class = \"rowNumber\" style = \"font-weight: bold; text-align: right;\"></th><th title = \"Date\" style = \"text-align: left;\">Date</th><th title = \"Int64\" style = \"text-align: left;\">Int64</th><th title = \"Float64\" style = \"text-align: left;\">Float64</th><th title = \"Float64\" style = \"text-align: left;\">Float64</th><th title = \"Float64\" style = \"text-align: left;\">Float64</th><th title = \"Float64\" style = \"text-align: left;\">Float64</th><th title = \"Float64\" style = \"text-align: left;\">Float64</th><th title = \"String7\" style = \"text-align: left;\">String7</th></tr></thead><tbody><tr><td class = \"rowNumber\" style = \"font-weight: bold; text-align: right;\">1</td><td style = \"text-align: left;\">2020-07-02</td><td style = \"text-align: right;\">257500</td><td style = \"text-align: right;\">17.64</td><td style = \"text-align: right;\">17.74</td><td style = \"text-align: right;\">17.62</td><td style = \"text-align: right;\">17.71</td><td style = \"text-align: right;\">17.71</td><td style = \"text-align: left;\">AAAU</td></tr><tr><td class = \"rowNumber\" style = \"font-weight: bold; text-align: right;\">2</td><td style = \"text-align: left;\">2020-07-01</td><td style = \"text-align: right;\">468100</td><td style = \"text-align: right;\">17.73</td><td style = \"text-align: right;\">17.73</td><td style = \"text-align: right;\">17.54</td><td style = \"text-align: right;\">17.68</td><td style = \"text-align: right;\">17.68</td><td style = \"text-align: left;\">AAAU</td></tr><tr><td class = \"rowNumber\" style = \"font-weight: bold; text-align: right;\">3</td><td style = \"text-align: left;\">2020-06-30</td><td style = \"text-align: right;\">319100</td><td style = \"text-align: right;\">17.65</td><td style = \"text-align: right;\">17.8</td><td style = \"text-align: right;\">17.61</td><td style = \"text-align: right;\">17.78</td><td style = \"text-align: right;\">17.78</td><td style = \"text-align: left;\">AAAU</td></tr><tr><td class = \"rowNumber\" style = \"font-weight: bold; text-align: right;\">4</td><td style = \"text-align: left;\">2020-06-29</td><td style = \"text-align: right;\">405500</td><td style = \"text-align: right;\">17.67</td><td style = \"text-align: right;\">17.69</td><td style = \"text-align: right;\">17.63</td><td style = \"text-align: right;\">17.68</td><td style = \"text-align: right;\">17.68</td><td style = \"text-align: left;\">AAAU</td></tr><tr><td class = \"rowNumber\" style = \"font-weight: bold; text-align: right;\">5</td><td style = \"text-align: left;\">2020-06-26</td><td style = \"text-align: right;\">335100</td><td style = \"text-align: right;\">17.49</td><td style = \"text-align: right;\">17.67</td><td style = \"text-align: right;\">17.42</td><td style = \"text-align: right;\">17.67</td><td style = \"text-align: right;\">17.67</td><td style = \"text-align: left;\">AAAU</td></tr><tr><td class = \"rowNumber\" style = \"font-weight: bold; text-align: right;\">6</td><td style = \"text-align: left;\">2020-06-25</td><td style = \"text-align: right;\">246800</td><td style = \"text-align: right;\">17.6</td><td style = \"text-align: right;\">17.6</td><td style = \"text-align: right;\">17.52</td><td style = \"text-align: right;\">17.59</td><td style = \"text-align: right;\">17.59</td><td style = \"text-align: left;\">AAAU</td></tr><tr><td class = \"rowNumber\" style = \"font-weight: bold; text-align: right;\">7</td><td style = \"text-align: left;\">2020-06-24</td><td style = \"text-align: right;\">329200</td><td style = \"text-align: right;\">17.61</td><td style = \"text-align: right;\">17.71</td><td style = \"text-align: right;\">17.56</td><td style = \"text-align: right;\">17.61</td><td style = \"text-align: right;\">17.61</td><td style = \"text-align: left;\">AAAU</td></tr><tr><td class = \"rowNumber\" style = \"font-weight: bold; text-align: right;\">8</td><td style = \"text-align: left;\">2020-06-23</td><td style = \"text-align: right;\">351800</td><td style = \"text-align: right;\">17.55</td><td style = \"text-align: right;\">17.66</td><td style = \"text-align: right;\">17.55</td><td style = \"text-align: right;\">17.66</td><td style = \"text-align: right;\">17.66</td><td style = \"text-align: left;\">AAAU</td></tr><tr><td class = \"rowNumber\" style = \"font-weight: bold; text-align: right;\">9</td><td style = \"text-align: left;\">2020-06-22</td><td style = \"text-align: right;\">308300</td><td style = \"text-align: right;\">17.5</td><td style = \"text-align: right;\">17.57</td><td style = \"text-align: right;\">17.44</td><td style = \"text-align: right;\">17.5</td><td style = \"text-align: right;\">17.5</td><td style = \"text-align: left;\">AAAU</td></tr><tr><td class = \"rowNumber\" style = \"font-weight: bold; text-align: right;\">10</td><td style = \"text-align: left;\">2020-06-19</td><td style = \"text-align: right;\">153800</td><td style = \"text-align: right;\">17.27</td><td style = \"text-align: right;\">17.4</td><td style = \"text-align: right;\">17.26</td><td style = \"text-align: right;\">17.4</td><td style = \"text-align: right;\">17.4</td><td style = \"text-align: left;\">AAAU</td></tr><tr><td class = \"rowNumber\" style = \"font-weight: bold; text-align: right;\">11</td><td style = \"text-align: left;\">2020-06-18</td><td style = \"text-align: right;\">102200</td><td style = \"text-align: right;\">17.27</td><td style = \"text-align: right;\">17.27</td><td style = \"text-align: right;\">17.14</td><td style = \"text-align: right;\">17.23</td><td style = \"text-align: right;\">17.23</td><td style = \"text-align: left;\">AAAU</td></tr><tr><td class = \"rowNumber\" style = \"font-weight: bold; text-align: right;\">12</td><td style = \"text-align: left;\">2020-06-17</td><td style = \"text-align: right;\">153900</td><td style = \"text-align: right;\">17.19</td><td style = \"text-align: right;\">17.25</td><td style = \"text-align: right;\">17.16</td><td style = \"text-align: right;\">17.25</td><td style = \"text-align: right;\">17.25</td><td style = \"text-align: left;\">AAAU</td></tr><tr><td class = \"rowNumber\" style = \"font-weight: bold; text-align: right;\">13</td><td style = \"text-align: left;\">2020-06-16</td><td style = \"text-align: right;\">165800</td><td style = \"text-align: right;\">17.15</td><td style = \"text-align: right;\">17.25</td><td style = \"text-align: right;\">17.11</td><td style = \"text-align: right;\">17.21</td><td style = \"text-align: right;\">17.21</td><td style = \"text-align: left;\">AAAU</td></tr><tr><td style = \"text-align: right;\">&vellip;</td><td style = \"text-align: right;\">&vellip;</td><td style = \"text-align: right;\">&vellip;</td><td style = \"text-align: right;\">&vellip;</td><td style = \"text-align: right;\">&vellip;</td><td style = \"text-align: right;\">&vellip;</td><td style = \"text-align: right;\">&vellip;</td><td style = \"text-align: right;\">&vellip;</td><td style = \"text-align: right;\">&vellip;</td></tr><tr><td class = \"rowNumber\" style = \"font-weight: bold; text-align: right;\">463</td><td style = \"text-align: left;\">2018-08-30</td><td style = \"text-align: right;\">804500</td><td style = \"text-align: right;\">12.03</td><td style = \"text-align: right;\">12.03</td><td style = \"text-align: right;\">11.97</td><td style = \"text-align: right;\">12.01</td><td style = \"text-align: right;\">12.01</td><td style = \"text-align: left;\">AAAU</td></tr><tr><td class = \"rowNumber\" style = \"font-weight: bold; text-align: right;\">464</td><td style = \"text-align: left;\">2018-08-29</td><td style = \"text-align: right;\">31800</td><td style = \"text-align: right;\">12.06</td><td style = \"text-align: right;\">12.06</td><td style = \"text-align: right;\">12.03</td><td style = \"text-align: right;\">12.05</td><td style = \"text-align: right;\">12.05</td><td style = \"text-align: left;\">AAAU</td></tr><tr><td class = \"rowNumber\" style = \"font-weight: bold; text-align: right;\">465</td><td style = \"text-align: left;\">2018-08-28</td><td style = \"text-align: right;\">30400</td><td style = \"text-align: right;\">12.13</td><td style = \"text-align: right;\">12.13</td><td style = \"text-align: right;\">12.01</td><td style = \"text-align: right;\">12.01</td><td style = \"text-align: right;\">12.01</td><td style = \"text-align: left;\">AAAU</td></tr><tr><td class = \"rowNumber\" style = \"font-weight: bold; text-align: right;\">466</td><td style = \"text-align: left;\">2018-08-27</td><td style = \"text-align: right;\">295100</td><td style = \"text-align: right;\">12.06</td><td style = \"text-align: right;\">12.13</td><td style = \"text-align: right;\">12.06</td><td style = \"text-align: right;\">12.1</td><td style = \"text-align: right;\">12.1</td><td style = \"text-align: left;\">AAAU</td></tr><tr><td class = \"rowNumber\" style = \"font-weight: bold; text-align: right;\">467</td><td style = \"text-align: left;\">2018-08-24</td><td style = \"text-align: right;\">106500</td><td style = \"text-align: right;\">11.97</td><td style = \"text-align: right;\">12.08</td><td style = \"text-align: right;\">11.96</td><td style = \"text-align: right;\">12.05</td><td style = \"text-align: right;\">12.05</td><td style = \"text-align: left;\">AAAU</td></tr><tr><td class = \"rowNumber\" style = \"font-weight: bold; text-align: right;\">468</td><td style = \"text-align: left;\">2018-08-23</td><td style = \"text-align: right;\">54800</td><td style = \"text-align: right;\">11.91</td><td style = \"text-align: right;\">11.92</td><td style = \"text-align: right;\">11.85</td><td style = \"text-align: right;\">11.85</td><td style = \"text-align: right;\">11.85</td><td style = \"text-align: left;\">AAAU</td></tr><tr><td class = \"rowNumber\" style = \"font-weight: bold; text-align: right;\">469</td><td style = \"text-align: left;\">2018-08-22</td><td style = \"text-align: right;\">101200</td><td style = \"text-align: right;\">11.98</td><td style = \"text-align: right;\">11.98</td><td style = \"text-align: right;\">11.94</td><td style = \"text-align: right;\">11.96</td><td style = \"text-align: right;\">11.96</td><td style = \"text-align: left;\">AAAU</td></tr><tr><td class = \"rowNumber\" style = \"font-weight: bold; text-align: right;\">470</td><td style = \"text-align: left;\">2018-08-21</td><td style = \"text-align: right;\">30600</td><td style = \"text-align: right;\">11.92</td><td style = \"text-align: right;\">11.95</td><td style = \"text-align: right;\">11.89</td><td style = \"text-align: right;\">11.93</td><td style = \"text-align: right;\">11.93</td><td style = \"text-align: left;\">AAAU</td></tr><tr><td class = \"rowNumber\" style = \"font-weight: bold; text-align: right;\">471</td><td style = \"text-align: left;\">2018-08-20</td><td style = \"text-align: right;\">28700</td><td style = \"text-align: right;\">11.88</td><td style = \"text-align: right;\">11.91</td><td style = \"text-align: right;\">11.85</td><td style = \"text-align: right;\">11.9</td><td style = \"text-align: right;\">11.9</td><td style = \"text-align: left;\">AAAU</td></tr><tr><td class = \"rowNumber\" style = \"font-weight: bold; text-align: right;\">472</td><td style = \"text-align: left;\">2018-08-17</td><td style = \"text-align: right;\">52400</td><td style = \"text-align: right;\">11.8</td><td style = \"text-align: right;\">11.82</td><td style = \"text-align: right;\">11.77</td><td style = \"text-align: right;\">11.82</td><td style = \"text-align: right;\">11.82</td><td style = \"text-align: left;\">AAAU</td></tr><tr><td class = \"rowNumber\" style = \"font-weight: bold; text-align: right;\">473</td><td style = \"text-align: left;\">2018-08-16</td><td style = \"text-align: right;\">428400</td><td style = \"text-align: right;\">11.78</td><td style = \"text-align: right;\">11.8</td><td style = \"text-align: right;\">11.74</td><td style = \"text-align: right;\">11.74</td><td style = \"text-align: right;\">11.74</td><td style = \"text-align: left;\">AAAU</td></tr><tr><td class = \"rowNumber\" style = \"font-weight: bold; text-align: right;\">474</td><td style = \"text-align: left;\">2018-08-15</td><td style = \"text-align: right;\">27300</td><td style = \"text-align: right;\">11.84</td><td style = \"text-align: right;\">11.84</td><td style = \"text-align: right;\">11.74</td><td style = \"text-align: right;\">11.74</td><td style = \"text-align: right;\">11.74</td><td style = \"text-align: left;\">AAAU</td></tr></tbody></table></div>"
      ],
      "text/latex": [
       "\\begin{tabular}{r|cccccccc}\n",
       "\t& date & volume & open & high & low & close & adjclose & symbol\\\\\n",
       "\t\\hline\n",
       "\t& Date & Int64 & Float64 & Float64 & Float64 & Float64 & Float64 & String7\\\\\n",
       "\t\\hline\n",
       "\t1 & 2020-07-02 & 257500 & 17.64 & 17.74 & 17.62 & 17.71 & 17.71 & AAAU \\\\\n",
       "\t2 & 2020-07-01 & 468100 & 17.73 & 17.73 & 17.54 & 17.68 & 17.68 & AAAU \\\\\n",
       "\t3 & 2020-06-30 & 319100 & 17.65 & 17.8 & 17.61 & 17.78 & 17.78 & AAAU \\\\\n",
       "\t4 & 2020-06-29 & 405500 & 17.67 & 17.69 & 17.63 & 17.68 & 17.68 & AAAU \\\\\n",
       "\t5 & 2020-06-26 & 335100 & 17.49 & 17.67 & 17.42 & 17.67 & 17.67 & AAAU \\\\\n",
       "\t6 & 2020-06-25 & 246800 & 17.6 & 17.6 & 17.52 & 17.59 & 17.59 & AAAU \\\\\n",
       "\t7 & 2020-06-24 & 329200 & 17.61 & 17.71 & 17.56 & 17.61 & 17.61 & AAAU \\\\\n",
       "\t8 & 2020-06-23 & 351800 & 17.55 & 17.66 & 17.55 & 17.66 & 17.66 & AAAU \\\\\n",
       "\t9 & 2020-06-22 & 308300 & 17.5 & 17.57 & 17.44 & 17.5 & 17.5 & AAAU \\\\\n",
       "\t10 & 2020-06-19 & 153800 & 17.27 & 17.4 & 17.26 & 17.4 & 17.4 & AAAU \\\\\n",
       "\t11 & 2020-06-18 & 102200 & 17.27 & 17.27 & 17.14 & 17.23 & 17.23 & AAAU \\\\\n",
       "\t12 & 2020-06-17 & 153900 & 17.19 & 17.25 & 17.16 & 17.25 & 17.25 & AAAU \\\\\n",
       "\t13 & 2020-06-16 & 165800 & 17.15 & 17.25 & 17.11 & 17.21 & 17.21 & AAAU \\\\\n",
       "\t14 & 2020-06-15 & 308700 & 17.03 & 17.23 & 17.0 & 17.2 & 17.2 & AAAU \\\\\n",
       "\t15 & 2020-06-12 & 161400 & 17.34 & 17.37 & 17.25 & 17.27 & 17.27 & AAAU \\\\\n",
       "\t16 & 2020-06-11 & 308800 & 17.33 & 17.4 & 17.17 & 17.23 & 17.23 & AAAU \\\\\n",
       "\t17 & 2020-06-10 & 316900 & 17.2 & 17.35 & 17.08 & 17.35 & 17.35 & AAAU \\\\\n",
       "\t18 & 2020-06-09 & 296100 & 17.11 & 17.18 & 17.07 & 17.11 & 17.11 & AAAU \\\\\n",
       "\t19 & 2020-06-08 & 386900 & 16.85 & 16.95 & 16.81 & 16.95 & 16.95 & AAAU \\\\\n",
       "\t20 & 2020-06-05 & 510400 & 16.84 & 16.84 & 16.67 & 16.76 & 16.76 & AAAU \\\\\n",
       "\t21 & 2020-06-04 & 270800 & 17.07 & 17.16 & 16.95 & 17.11 & 17.11 & AAAU \\\\\n",
       "\t22 & 2020-06-03 & 480300 & 17.01 & 17.06 & 16.84 & 16.92 & 16.92 & AAAU \\\\\n",
       "\t23 & 2020-06-02 & 166100 & 17.39 & 17.4 & 17.17 & 17.24 & 17.24 & AAAU \\\\\n",
       "\t24 & 2020-06-01 & 388700 & 17.3 & 17.37 & 17.24 & 17.37 & 17.37 & AAAU \\\\\n",
       "\t25 & 2020-05-29 & 426100 & 17.25 & 17.32 & 17.22 & 17.27 & 17.27 & AAAU \\\\\n",
       "\t26 & 2020-05-28 & 227500 & 17.21 & 17.22 & 17.07 & 17.16 & 17.16 & AAAU \\\\\n",
       "\t27 & 2020-05-27 & 480900 & 16.9 & 17.11 & 16.88 & 17.1 & 17.1 & AAAU \\\\\n",
       "\t28 & 2020-05-26 & 559900 & 17.26 & 17.26 & 17.04 & 17.05 & 17.05 & AAAU \\\\\n",
       "\t29 & 2020-05-22 & 202300 & 17.28 & 17.33 & 17.26 & 17.3 & 17.3 & AAAU \\\\\n",
       "\t30 & 2020-05-21 & 377500 & 17.34 & 17.35 & 17.12 & 17.21 & 17.21 & AAAU \\\\\n",
       "\t$\\dots$ & $\\dots$ & $\\dots$ & $\\dots$ & $\\dots$ & $\\dots$ & $\\dots$ & $\\dots$ & $\\dots$ \\\\\n",
       "\\end{tabular}\n"
      ],
      "text/plain": [
       "\u001b[1m474×8 SubDataFrame\u001b[0m\n",
       "\u001b[1m Row \u001b[0m│\u001b[1m date       \u001b[0m\u001b[1m volume \u001b[0m\u001b[1m open    \u001b[0m\u001b[1m high    \u001b[0m\u001b[1m low     \u001b[0m\u001b[1m close   \u001b[0m\u001b[1m adjclose \u001b[0m\u001b[1m symbo\u001b[0m ⋯\n",
       "     │\u001b[90m Date       \u001b[0m\u001b[90m Int64  \u001b[0m\u001b[90m Float64 \u001b[0m\u001b[90m Float64 \u001b[0m\u001b[90m Float64 \u001b[0m\u001b[90m Float64 \u001b[0m\u001b[90m Float64  \u001b[0m\u001b[90m Strin\u001b[0m ⋯\n",
       "─────┼──────────────────────────────────────────────────────────────────────────\n",
       "   1 │ 2020-07-02  257500    17.64    17.74    17.62    17.71     17.71  AAAU  ⋯\n",
       "   2 │ 2020-07-01  468100    17.73    17.73    17.54    17.68     17.68  AAAU\n",
       "   3 │ 2020-06-30  319100    17.65    17.8     17.61    17.78     17.78  AAAU\n",
       "   4 │ 2020-06-29  405500    17.67    17.69    17.63    17.68     17.68  AAAU\n",
       "   5 │ 2020-06-26  335100    17.49    17.67    17.42    17.67     17.67  AAAU  ⋯\n",
       "   6 │ 2020-06-25  246800    17.6     17.6     17.52    17.59     17.59  AAAU\n",
       "   7 │ 2020-06-24  329200    17.61    17.71    17.56    17.61     17.61  AAAU\n",
       "   8 │ 2020-06-23  351800    17.55    17.66    17.55    17.66     17.66  AAAU\n",
       "   9 │ 2020-06-22  308300    17.5     17.57    17.44    17.5      17.5   AAAU  ⋯\n",
       "  10 │ 2020-06-19  153800    17.27    17.4     17.26    17.4      17.4   AAAU\n",
       "  11 │ 2020-06-18  102200    17.27    17.27    17.14    17.23     17.23  AAAU\n",
       "  ⋮  │     ⋮         ⋮        ⋮        ⋮        ⋮        ⋮        ⋮         ⋮  ⋱\n",
       " 465 │ 2018-08-28   30400    12.13    12.13    12.01    12.01     12.01  AAAU\n",
       " 466 │ 2018-08-27  295100    12.06    12.13    12.06    12.1      12.1   AAAU  ⋯\n",
       " 467 │ 2018-08-24  106500    11.97    12.08    11.96    12.05     12.05  AAAU\n",
       " 468 │ 2018-08-23   54800    11.91    11.92    11.85    11.85     11.85  AAAU\n",
       " 469 │ 2018-08-22  101200    11.98    11.98    11.94    11.96     11.96  AAAU\n",
       " 470 │ 2018-08-21   30600    11.92    11.95    11.89    11.93     11.93  AAAU  ⋯\n",
       " 471 │ 2018-08-20   28700    11.88    11.91    11.85    11.9      11.9   AAAU\n",
       " 472 │ 2018-08-17   52400    11.8     11.82    11.77    11.82     11.82  AAAU\n",
       " 473 │ 2018-08-16  428400    11.78    11.8     11.74    11.74     11.74  AAAU\n",
       " 474 │ 2018-08-15   27300    11.84    11.84    11.74    11.74     11.74  AAAU  ⋯\n",
       "\u001b[36m                                                   1 column and 453 rows omitted\u001b[0m"
      ]
     },
     "execution_count": 53,
     "metadata": {},
     "output_type": "execute_result"
    }
   ],
   "source": [
    "gdf[1]"
   ]
  },
  {
   "cell_type": "code",
   "execution_count": 54,
   "metadata": {},
   "outputs": [
    {
     "data": {
      "text/plain": [
       "GroupKey: (symbol = String7(\"AAAU\"),)"
      ]
     },
     "execution_count": 54,
     "metadata": {},
     "output_type": "execute_result"
    }
   ],
   "source": [
    "gdf_keys[1]"
   ]
  },
  {
   "cell_type": "code",
   "execution_count": 55,
   "metadata": {},
   "outputs": [
    {
     "data": {
      "text/html": [
       "<div><div style = \"float: left;\"><span>474×8 SubDataFrame</span></div><div style = \"float: right;\"><span style = \"font-style: italic;\">449 rows omitted</span></div><div style = \"clear: both;\"></div></div><div class = \"data-frame\" style = \"overflow-x: scroll;\"><table class = \"data-frame\" style = \"margin-bottom: 6px;\"><thead><tr class = \"header\"><th class = \"rowNumber\" style = \"font-weight: bold; text-align: right;\">Row</th><th style = \"text-align: left;\">date</th><th style = \"text-align: left;\">volume</th><th style = \"text-align: left;\">open</th><th style = \"text-align: left;\">high</th><th style = \"text-align: left;\">low</th><th style = \"text-align: left;\">close</th><th style = \"text-align: left;\">adjclose</th><th style = \"text-align: left;\">symbol</th></tr><tr class = \"subheader headerLastRow\"><th class = \"rowNumber\" style = \"font-weight: bold; text-align: right;\"></th><th title = \"Date\" style = \"text-align: left;\">Date</th><th title = \"Int64\" style = \"text-align: left;\">Int64</th><th title = \"Float64\" style = \"text-align: left;\">Float64</th><th title = \"Float64\" style = \"text-align: left;\">Float64</th><th title = \"Float64\" style = \"text-align: left;\">Float64</th><th title = \"Float64\" style = \"text-align: left;\">Float64</th><th title = \"Float64\" style = \"text-align: left;\">Float64</th><th title = \"String7\" style = \"text-align: left;\">String7</th></tr></thead><tbody><tr><td class = \"rowNumber\" style = \"font-weight: bold; text-align: right;\">1</td><td style = \"text-align: left;\">2020-07-02</td><td style = \"text-align: right;\">257500</td><td style = \"text-align: right;\">17.64</td><td style = \"text-align: right;\">17.74</td><td style = \"text-align: right;\">17.62</td><td style = \"text-align: right;\">17.71</td><td style = \"text-align: right;\">17.71</td><td style = \"text-align: left;\">AAAU</td></tr><tr><td class = \"rowNumber\" style = \"font-weight: bold; text-align: right;\">2</td><td style = \"text-align: left;\">2020-07-01</td><td style = \"text-align: right;\">468100</td><td style = \"text-align: right;\">17.73</td><td style = \"text-align: right;\">17.73</td><td style = \"text-align: right;\">17.54</td><td style = \"text-align: right;\">17.68</td><td style = \"text-align: right;\">17.68</td><td style = \"text-align: left;\">AAAU</td></tr><tr><td class = \"rowNumber\" style = \"font-weight: bold; text-align: right;\">3</td><td style = \"text-align: left;\">2020-06-30</td><td style = \"text-align: right;\">319100</td><td style = \"text-align: right;\">17.65</td><td style = \"text-align: right;\">17.8</td><td style = \"text-align: right;\">17.61</td><td style = \"text-align: right;\">17.78</td><td style = \"text-align: right;\">17.78</td><td style = \"text-align: left;\">AAAU</td></tr><tr><td class = \"rowNumber\" style = \"font-weight: bold; text-align: right;\">4</td><td style = \"text-align: left;\">2020-06-29</td><td style = \"text-align: right;\">405500</td><td style = \"text-align: right;\">17.67</td><td style = \"text-align: right;\">17.69</td><td style = \"text-align: right;\">17.63</td><td style = \"text-align: right;\">17.68</td><td style = \"text-align: right;\">17.68</td><td style = \"text-align: left;\">AAAU</td></tr><tr><td class = \"rowNumber\" style = \"font-weight: bold; text-align: right;\">5</td><td style = \"text-align: left;\">2020-06-26</td><td style = \"text-align: right;\">335100</td><td style = \"text-align: right;\">17.49</td><td style = \"text-align: right;\">17.67</td><td style = \"text-align: right;\">17.42</td><td style = \"text-align: right;\">17.67</td><td style = \"text-align: right;\">17.67</td><td style = \"text-align: left;\">AAAU</td></tr><tr><td class = \"rowNumber\" style = \"font-weight: bold; text-align: right;\">6</td><td style = \"text-align: left;\">2020-06-25</td><td style = \"text-align: right;\">246800</td><td style = \"text-align: right;\">17.6</td><td style = \"text-align: right;\">17.6</td><td style = \"text-align: right;\">17.52</td><td style = \"text-align: right;\">17.59</td><td style = \"text-align: right;\">17.59</td><td style = \"text-align: left;\">AAAU</td></tr><tr><td class = \"rowNumber\" style = \"font-weight: bold; text-align: right;\">7</td><td style = \"text-align: left;\">2020-06-24</td><td style = \"text-align: right;\">329200</td><td style = \"text-align: right;\">17.61</td><td style = \"text-align: right;\">17.71</td><td style = \"text-align: right;\">17.56</td><td style = \"text-align: right;\">17.61</td><td style = \"text-align: right;\">17.61</td><td style = \"text-align: left;\">AAAU</td></tr><tr><td class = \"rowNumber\" style = \"font-weight: bold; text-align: right;\">8</td><td style = \"text-align: left;\">2020-06-23</td><td style = \"text-align: right;\">351800</td><td style = \"text-align: right;\">17.55</td><td style = \"text-align: right;\">17.66</td><td style = \"text-align: right;\">17.55</td><td style = \"text-align: right;\">17.66</td><td style = \"text-align: right;\">17.66</td><td style = \"text-align: left;\">AAAU</td></tr><tr><td class = \"rowNumber\" style = \"font-weight: bold; text-align: right;\">9</td><td style = \"text-align: left;\">2020-06-22</td><td style = \"text-align: right;\">308300</td><td style = \"text-align: right;\">17.5</td><td style = \"text-align: right;\">17.57</td><td style = \"text-align: right;\">17.44</td><td style = \"text-align: right;\">17.5</td><td style = \"text-align: right;\">17.5</td><td style = \"text-align: left;\">AAAU</td></tr><tr><td class = \"rowNumber\" style = \"font-weight: bold; text-align: right;\">10</td><td style = \"text-align: left;\">2020-06-19</td><td style = \"text-align: right;\">153800</td><td style = \"text-align: right;\">17.27</td><td style = \"text-align: right;\">17.4</td><td style = \"text-align: right;\">17.26</td><td style = \"text-align: right;\">17.4</td><td style = \"text-align: right;\">17.4</td><td style = \"text-align: left;\">AAAU</td></tr><tr><td class = \"rowNumber\" style = \"font-weight: bold; text-align: right;\">11</td><td style = \"text-align: left;\">2020-06-18</td><td style = \"text-align: right;\">102200</td><td style = \"text-align: right;\">17.27</td><td style = \"text-align: right;\">17.27</td><td style = \"text-align: right;\">17.14</td><td style = \"text-align: right;\">17.23</td><td style = \"text-align: right;\">17.23</td><td style = \"text-align: left;\">AAAU</td></tr><tr><td class = \"rowNumber\" style = \"font-weight: bold; text-align: right;\">12</td><td style = \"text-align: left;\">2020-06-17</td><td style = \"text-align: right;\">153900</td><td style = \"text-align: right;\">17.19</td><td style = \"text-align: right;\">17.25</td><td style = \"text-align: right;\">17.16</td><td style = \"text-align: right;\">17.25</td><td style = \"text-align: right;\">17.25</td><td style = \"text-align: left;\">AAAU</td></tr><tr><td class = \"rowNumber\" style = \"font-weight: bold; text-align: right;\">13</td><td style = \"text-align: left;\">2020-06-16</td><td style = \"text-align: right;\">165800</td><td style = \"text-align: right;\">17.15</td><td style = \"text-align: right;\">17.25</td><td style = \"text-align: right;\">17.11</td><td style = \"text-align: right;\">17.21</td><td style = \"text-align: right;\">17.21</td><td style = \"text-align: left;\">AAAU</td></tr><tr><td style = \"text-align: right;\">&vellip;</td><td style = \"text-align: right;\">&vellip;</td><td style = \"text-align: right;\">&vellip;</td><td style = \"text-align: right;\">&vellip;</td><td style = \"text-align: right;\">&vellip;</td><td style = \"text-align: right;\">&vellip;</td><td style = \"text-align: right;\">&vellip;</td><td style = \"text-align: right;\">&vellip;</td><td style = \"text-align: right;\">&vellip;</td></tr><tr><td class = \"rowNumber\" style = \"font-weight: bold; text-align: right;\">463</td><td style = \"text-align: left;\">2018-08-30</td><td style = \"text-align: right;\">804500</td><td style = \"text-align: right;\">12.03</td><td style = \"text-align: right;\">12.03</td><td style = \"text-align: right;\">11.97</td><td style = \"text-align: right;\">12.01</td><td style = \"text-align: right;\">12.01</td><td style = \"text-align: left;\">AAAU</td></tr><tr><td class = \"rowNumber\" style = \"font-weight: bold; text-align: right;\">464</td><td style = \"text-align: left;\">2018-08-29</td><td style = \"text-align: right;\">31800</td><td style = \"text-align: right;\">12.06</td><td style = \"text-align: right;\">12.06</td><td style = \"text-align: right;\">12.03</td><td style = \"text-align: right;\">12.05</td><td style = \"text-align: right;\">12.05</td><td style = \"text-align: left;\">AAAU</td></tr><tr><td class = \"rowNumber\" style = \"font-weight: bold; text-align: right;\">465</td><td style = \"text-align: left;\">2018-08-28</td><td style = \"text-align: right;\">30400</td><td style = \"text-align: right;\">12.13</td><td style = \"text-align: right;\">12.13</td><td style = \"text-align: right;\">12.01</td><td style = \"text-align: right;\">12.01</td><td style = \"text-align: right;\">12.01</td><td style = \"text-align: left;\">AAAU</td></tr><tr><td class = \"rowNumber\" style = \"font-weight: bold; text-align: right;\">466</td><td style = \"text-align: left;\">2018-08-27</td><td style = \"text-align: right;\">295100</td><td style = \"text-align: right;\">12.06</td><td style = \"text-align: right;\">12.13</td><td style = \"text-align: right;\">12.06</td><td style = \"text-align: right;\">12.1</td><td style = \"text-align: right;\">12.1</td><td style = \"text-align: left;\">AAAU</td></tr><tr><td class = \"rowNumber\" style = \"font-weight: bold; text-align: right;\">467</td><td style = \"text-align: left;\">2018-08-24</td><td style = \"text-align: right;\">106500</td><td style = \"text-align: right;\">11.97</td><td style = \"text-align: right;\">12.08</td><td style = \"text-align: right;\">11.96</td><td style = \"text-align: right;\">12.05</td><td style = \"text-align: right;\">12.05</td><td style = \"text-align: left;\">AAAU</td></tr><tr><td class = \"rowNumber\" style = \"font-weight: bold; text-align: right;\">468</td><td style = \"text-align: left;\">2018-08-23</td><td style = \"text-align: right;\">54800</td><td style = \"text-align: right;\">11.91</td><td style = \"text-align: right;\">11.92</td><td style = \"text-align: right;\">11.85</td><td style = \"text-align: right;\">11.85</td><td style = \"text-align: right;\">11.85</td><td style = \"text-align: left;\">AAAU</td></tr><tr><td class = \"rowNumber\" style = \"font-weight: bold; text-align: right;\">469</td><td style = \"text-align: left;\">2018-08-22</td><td style = \"text-align: right;\">101200</td><td style = \"text-align: right;\">11.98</td><td style = \"text-align: right;\">11.98</td><td style = \"text-align: right;\">11.94</td><td style = \"text-align: right;\">11.96</td><td style = \"text-align: right;\">11.96</td><td style = \"text-align: left;\">AAAU</td></tr><tr><td class = \"rowNumber\" style = \"font-weight: bold; text-align: right;\">470</td><td style = \"text-align: left;\">2018-08-21</td><td style = \"text-align: right;\">30600</td><td style = \"text-align: right;\">11.92</td><td style = \"text-align: right;\">11.95</td><td style = \"text-align: right;\">11.89</td><td style = \"text-align: right;\">11.93</td><td style = \"text-align: right;\">11.93</td><td style = \"text-align: left;\">AAAU</td></tr><tr><td class = \"rowNumber\" style = \"font-weight: bold; text-align: right;\">471</td><td style = \"text-align: left;\">2018-08-20</td><td style = \"text-align: right;\">28700</td><td style = \"text-align: right;\">11.88</td><td style = \"text-align: right;\">11.91</td><td style = \"text-align: right;\">11.85</td><td style = \"text-align: right;\">11.9</td><td style = \"text-align: right;\">11.9</td><td style = \"text-align: left;\">AAAU</td></tr><tr><td class = \"rowNumber\" style = \"font-weight: bold; text-align: right;\">472</td><td style = \"text-align: left;\">2018-08-17</td><td style = \"text-align: right;\">52400</td><td style = \"text-align: right;\">11.8</td><td style = \"text-align: right;\">11.82</td><td style = \"text-align: right;\">11.77</td><td style = \"text-align: right;\">11.82</td><td style = \"text-align: right;\">11.82</td><td style = \"text-align: left;\">AAAU</td></tr><tr><td class = \"rowNumber\" style = \"font-weight: bold; text-align: right;\">473</td><td style = \"text-align: left;\">2018-08-16</td><td style = \"text-align: right;\">428400</td><td style = \"text-align: right;\">11.78</td><td style = \"text-align: right;\">11.8</td><td style = \"text-align: right;\">11.74</td><td style = \"text-align: right;\">11.74</td><td style = \"text-align: right;\">11.74</td><td style = \"text-align: left;\">AAAU</td></tr><tr><td class = \"rowNumber\" style = \"font-weight: bold; text-align: right;\">474</td><td style = \"text-align: left;\">2018-08-15</td><td style = \"text-align: right;\">27300</td><td style = \"text-align: right;\">11.84</td><td style = \"text-align: right;\">11.84</td><td style = \"text-align: right;\">11.74</td><td style = \"text-align: right;\">11.74</td><td style = \"text-align: right;\">11.74</td><td style = \"text-align: left;\">AAAU</td></tr></tbody></table></div>"
      ],
      "text/latex": [
       "\\begin{tabular}{r|cccccccc}\n",
       "\t& date & volume & open & high & low & close & adjclose & symbol\\\\\n",
       "\t\\hline\n",
       "\t& Date & Int64 & Float64 & Float64 & Float64 & Float64 & Float64 & String7\\\\\n",
       "\t\\hline\n",
       "\t1 & 2020-07-02 & 257500 & 17.64 & 17.74 & 17.62 & 17.71 & 17.71 & AAAU \\\\\n",
       "\t2 & 2020-07-01 & 468100 & 17.73 & 17.73 & 17.54 & 17.68 & 17.68 & AAAU \\\\\n",
       "\t3 & 2020-06-30 & 319100 & 17.65 & 17.8 & 17.61 & 17.78 & 17.78 & AAAU \\\\\n",
       "\t4 & 2020-06-29 & 405500 & 17.67 & 17.69 & 17.63 & 17.68 & 17.68 & AAAU \\\\\n",
       "\t5 & 2020-06-26 & 335100 & 17.49 & 17.67 & 17.42 & 17.67 & 17.67 & AAAU \\\\\n",
       "\t6 & 2020-06-25 & 246800 & 17.6 & 17.6 & 17.52 & 17.59 & 17.59 & AAAU \\\\\n",
       "\t7 & 2020-06-24 & 329200 & 17.61 & 17.71 & 17.56 & 17.61 & 17.61 & AAAU \\\\\n",
       "\t8 & 2020-06-23 & 351800 & 17.55 & 17.66 & 17.55 & 17.66 & 17.66 & AAAU \\\\\n",
       "\t9 & 2020-06-22 & 308300 & 17.5 & 17.57 & 17.44 & 17.5 & 17.5 & AAAU \\\\\n",
       "\t10 & 2020-06-19 & 153800 & 17.27 & 17.4 & 17.26 & 17.4 & 17.4 & AAAU \\\\\n",
       "\t11 & 2020-06-18 & 102200 & 17.27 & 17.27 & 17.14 & 17.23 & 17.23 & AAAU \\\\\n",
       "\t12 & 2020-06-17 & 153900 & 17.19 & 17.25 & 17.16 & 17.25 & 17.25 & AAAU \\\\\n",
       "\t13 & 2020-06-16 & 165800 & 17.15 & 17.25 & 17.11 & 17.21 & 17.21 & AAAU \\\\\n",
       "\t14 & 2020-06-15 & 308700 & 17.03 & 17.23 & 17.0 & 17.2 & 17.2 & AAAU \\\\\n",
       "\t15 & 2020-06-12 & 161400 & 17.34 & 17.37 & 17.25 & 17.27 & 17.27 & AAAU \\\\\n",
       "\t16 & 2020-06-11 & 308800 & 17.33 & 17.4 & 17.17 & 17.23 & 17.23 & AAAU \\\\\n",
       "\t17 & 2020-06-10 & 316900 & 17.2 & 17.35 & 17.08 & 17.35 & 17.35 & AAAU \\\\\n",
       "\t18 & 2020-06-09 & 296100 & 17.11 & 17.18 & 17.07 & 17.11 & 17.11 & AAAU \\\\\n",
       "\t19 & 2020-06-08 & 386900 & 16.85 & 16.95 & 16.81 & 16.95 & 16.95 & AAAU \\\\\n",
       "\t20 & 2020-06-05 & 510400 & 16.84 & 16.84 & 16.67 & 16.76 & 16.76 & AAAU \\\\\n",
       "\t21 & 2020-06-04 & 270800 & 17.07 & 17.16 & 16.95 & 17.11 & 17.11 & AAAU \\\\\n",
       "\t22 & 2020-06-03 & 480300 & 17.01 & 17.06 & 16.84 & 16.92 & 16.92 & AAAU \\\\\n",
       "\t23 & 2020-06-02 & 166100 & 17.39 & 17.4 & 17.17 & 17.24 & 17.24 & AAAU \\\\\n",
       "\t24 & 2020-06-01 & 388700 & 17.3 & 17.37 & 17.24 & 17.37 & 17.37 & AAAU \\\\\n",
       "\t25 & 2020-05-29 & 426100 & 17.25 & 17.32 & 17.22 & 17.27 & 17.27 & AAAU \\\\\n",
       "\t26 & 2020-05-28 & 227500 & 17.21 & 17.22 & 17.07 & 17.16 & 17.16 & AAAU \\\\\n",
       "\t27 & 2020-05-27 & 480900 & 16.9 & 17.11 & 16.88 & 17.1 & 17.1 & AAAU \\\\\n",
       "\t28 & 2020-05-26 & 559900 & 17.26 & 17.26 & 17.04 & 17.05 & 17.05 & AAAU \\\\\n",
       "\t29 & 2020-05-22 & 202300 & 17.28 & 17.33 & 17.26 & 17.3 & 17.3 & AAAU \\\\\n",
       "\t30 & 2020-05-21 & 377500 & 17.34 & 17.35 & 17.12 & 17.21 & 17.21 & AAAU \\\\\n",
       "\t$\\dots$ & $\\dots$ & $\\dots$ & $\\dots$ & $\\dots$ & $\\dots$ & $\\dots$ & $\\dots$ & $\\dots$ \\\\\n",
       "\\end{tabular}\n"
      ],
      "text/plain": [
       "\u001b[1m474×8 SubDataFrame\u001b[0m\n",
       "\u001b[1m Row \u001b[0m│\u001b[1m date       \u001b[0m\u001b[1m volume \u001b[0m\u001b[1m open    \u001b[0m\u001b[1m high    \u001b[0m\u001b[1m low     \u001b[0m\u001b[1m close   \u001b[0m\u001b[1m adjclose \u001b[0m\u001b[1m symbo\u001b[0m ⋯\n",
       "     │\u001b[90m Date       \u001b[0m\u001b[90m Int64  \u001b[0m\u001b[90m Float64 \u001b[0m\u001b[90m Float64 \u001b[0m\u001b[90m Float64 \u001b[0m\u001b[90m Float64 \u001b[0m\u001b[90m Float64  \u001b[0m\u001b[90m Strin\u001b[0m ⋯\n",
       "─────┼──────────────────────────────────────────────────────────────────────────\n",
       "   1 │ 2020-07-02  257500    17.64    17.74    17.62    17.71     17.71  AAAU  ⋯\n",
       "   2 │ 2020-07-01  468100    17.73    17.73    17.54    17.68     17.68  AAAU\n",
       "   3 │ 2020-06-30  319100    17.65    17.8     17.61    17.78     17.78  AAAU\n",
       "   4 │ 2020-06-29  405500    17.67    17.69    17.63    17.68     17.68  AAAU\n",
       "   5 │ 2020-06-26  335100    17.49    17.67    17.42    17.67     17.67  AAAU  ⋯\n",
       "   6 │ 2020-06-25  246800    17.6     17.6     17.52    17.59     17.59  AAAU\n",
       "   7 │ 2020-06-24  329200    17.61    17.71    17.56    17.61     17.61  AAAU\n",
       "   8 │ 2020-06-23  351800    17.55    17.66    17.55    17.66     17.66  AAAU\n",
       "   9 │ 2020-06-22  308300    17.5     17.57    17.44    17.5      17.5   AAAU  ⋯\n",
       "  10 │ 2020-06-19  153800    17.27    17.4     17.26    17.4      17.4   AAAU\n",
       "  11 │ 2020-06-18  102200    17.27    17.27    17.14    17.23     17.23  AAAU\n",
       "  ⋮  │     ⋮         ⋮        ⋮        ⋮        ⋮        ⋮        ⋮         ⋮  ⋱\n",
       " 465 │ 2018-08-28   30400    12.13    12.13    12.01    12.01     12.01  AAAU\n",
       " 466 │ 2018-08-27  295100    12.06    12.13    12.06    12.1      12.1   AAAU  ⋯\n",
       " 467 │ 2018-08-24  106500    11.97    12.08    11.96    12.05     12.05  AAAU\n",
       " 468 │ 2018-08-23   54800    11.91    11.92    11.85    11.85     11.85  AAAU\n",
       " 469 │ 2018-08-22  101200    11.98    11.98    11.94    11.96     11.96  AAAU\n",
       " 470 │ 2018-08-21   30600    11.92    11.95    11.89    11.93     11.93  AAAU  ⋯\n",
       " 471 │ 2018-08-20   28700    11.88    11.91    11.85    11.9      11.9   AAAU\n",
       " 472 │ 2018-08-17   52400    11.8     11.82    11.77    11.82     11.82  AAAU\n",
       " 473 │ 2018-08-16  428400    11.78    11.8     11.74    11.74     11.74  AAAU\n",
       " 474 │ 2018-08-15   27300    11.84    11.84    11.74    11.74     11.74  AAAU  ⋯\n",
       "\u001b[36m                                                   1 column and 453 rows omitted\u001b[0m"
      ]
     },
     "execution_count": 55,
     "metadata": {},
     "output_type": "execute_result"
    }
   ],
   "source": [
    "gdf[gdf_keys[1]]"
   ]
  },
  {
   "cell_type": "code",
   "execution_count": 56,
   "metadata": {},
   "outputs": [
    {
     "data": {
      "text/html": [
       "<div><div style = \"float: left;\"><span>474×8 SubDataFrame</span></div><div style = \"float: right;\"><span style = \"font-style: italic;\">449 rows omitted</span></div><div style = \"clear: both;\"></div></div><div class = \"data-frame\" style = \"overflow-x: scroll;\"><table class = \"data-frame\" style = \"margin-bottom: 6px;\"><thead><tr class = \"header\"><th class = \"rowNumber\" style = \"font-weight: bold; text-align: right;\">Row</th><th style = \"text-align: left;\">date</th><th style = \"text-align: left;\">volume</th><th style = \"text-align: left;\">open</th><th style = \"text-align: left;\">high</th><th style = \"text-align: left;\">low</th><th style = \"text-align: left;\">close</th><th style = \"text-align: left;\">adjclose</th><th style = \"text-align: left;\">symbol</th></tr><tr class = \"subheader headerLastRow\"><th class = \"rowNumber\" style = \"font-weight: bold; text-align: right;\"></th><th title = \"Date\" style = \"text-align: left;\">Date</th><th title = \"Int64\" style = \"text-align: left;\">Int64</th><th title = \"Float64\" style = \"text-align: left;\">Float64</th><th title = \"Float64\" style = \"text-align: left;\">Float64</th><th title = \"Float64\" style = \"text-align: left;\">Float64</th><th title = \"Float64\" style = \"text-align: left;\">Float64</th><th title = \"Float64\" style = \"text-align: left;\">Float64</th><th title = \"String7\" style = \"text-align: left;\">String7</th></tr></thead><tbody><tr><td class = \"rowNumber\" style = \"font-weight: bold; text-align: right;\">1</td><td style = \"text-align: left;\">2020-07-02</td><td style = \"text-align: right;\">257500</td><td style = \"text-align: right;\">17.64</td><td style = \"text-align: right;\">17.74</td><td style = \"text-align: right;\">17.62</td><td style = \"text-align: right;\">17.71</td><td style = \"text-align: right;\">17.71</td><td style = \"text-align: left;\">AAAU</td></tr><tr><td class = \"rowNumber\" style = \"font-weight: bold; text-align: right;\">2</td><td style = \"text-align: left;\">2020-07-01</td><td style = \"text-align: right;\">468100</td><td style = \"text-align: right;\">17.73</td><td style = \"text-align: right;\">17.73</td><td style = \"text-align: right;\">17.54</td><td style = \"text-align: right;\">17.68</td><td style = \"text-align: right;\">17.68</td><td style = \"text-align: left;\">AAAU</td></tr><tr><td class = \"rowNumber\" style = \"font-weight: bold; text-align: right;\">3</td><td style = \"text-align: left;\">2020-06-30</td><td style = \"text-align: right;\">319100</td><td style = \"text-align: right;\">17.65</td><td style = \"text-align: right;\">17.8</td><td style = \"text-align: right;\">17.61</td><td style = \"text-align: right;\">17.78</td><td style = \"text-align: right;\">17.78</td><td style = \"text-align: left;\">AAAU</td></tr><tr><td class = \"rowNumber\" style = \"font-weight: bold; text-align: right;\">4</td><td style = \"text-align: left;\">2020-06-29</td><td style = \"text-align: right;\">405500</td><td style = \"text-align: right;\">17.67</td><td style = \"text-align: right;\">17.69</td><td style = \"text-align: right;\">17.63</td><td style = \"text-align: right;\">17.68</td><td style = \"text-align: right;\">17.68</td><td style = \"text-align: left;\">AAAU</td></tr><tr><td class = \"rowNumber\" style = \"font-weight: bold; text-align: right;\">5</td><td style = \"text-align: left;\">2020-06-26</td><td style = \"text-align: right;\">335100</td><td style = \"text-align: right;\">17.49</td><td style = \"text-align: right;\">17.67</td><td style = \"text-align: right;\">17.42</td><td style = \"text-align: right;\">17.67</td><td style = \"text-align: right;\">17.67</td><td style = \"text-align: left;\">AAAU</td></tr><tr><td class = \"rowNumber\" style = \"font-weight: bold; text-align: right;\">6</td><td style = \"text-align: left;\">2020-06-25</td><td style = \"text-align: right;\">246800</td><td style = \"text-align: right;\">17.6</td><td style = \"text-align: right;\">17.6</td><td style = \"text-align: right;\">17.52</td><td style = \"text-align: right;\">17.59</td><td style = \"text-align: right;\">17.59</td><td style = \"text-align: left;\">AAAU</td></tr><tr><td class = \"rowNumber\" style = \"font-weight: bold; text-align: right;\">7</td><td style = \"text-align: left;\">2020-06-24</td><td style = \"text-align: right;\">329200</td><td style = \"text-align: right;\">17.61</td><td style = \"text-align: right;\">17.71</td><td style = \"text-align: right;\">17.56</td><td style = \"text-align: right;\">17.61</td><td style = \"text-align: right;\">17.61</td><td style = \"text-align: left;\">AAAU</td></tr><tr><td class = \"rowNumber\" style = \"font-weight: bold; text-align: right;\">8</td><td style = \"text-align: left;\">2020-06-23</td><td style = \"text-align: right;\">351800</td><td style = \"text-align: right;\">17.55</td><td style = \"text-align: right;\">17.66</td><td style = \"text-align: right;\">17.55</td><td style = \"text-align: right;\">17.66</td><td style = \"text-align: right;\">17.66</td><td style = \"text-align: left;\">AAAU</td></tr><tr><td class = \"rowNumber\" style = \"font-weight: bold; text-align: right;\">9</td><td style = \"text-align: left;\">2020-06-22</td><td style = \"text-align: right;\">308300</td><td style = \"text-align: right;\">17.5</td><td style = \"text-align: right;\">17.57</td><td style = \"text-align: right;\">17.44</td><td style = \"text-align: right;\">17.5</td><td style = \"text-align: right;\">17.5</td><td style = \"text-align: left;\">AAAU</td></tr><tr><td class = \"rowNumber\" style = \"font-weight: bold; text-align: right;\">10</td><td style = \"text-align: left;\">2020-06-19</td><td style = \"text-align: right;\">153800</td><td style = \"text-align: right;\">17.27</td><td style = \"text-align: right;\">17.4</td><td style = \"text-align: right;\">17.26</td><td style = \"text-align: right;\">17.4</td><td style = \"text-align: right;\">17.4</td><td style = \"text-align: left;\">AAAU</td></tr><tr><td class = \"rowNumber\" style = \"font-weight: bold; text-align: right;\">11</td><td style = \"text-align: left;\">2020-06-18</td><td style = \"text-align: right;\">102200</td><td style = \"text-align: right;\">17.27</td><td style = \"text-align: right;\">17.27</td><td style = \"text-align: right;\">17.14</td><td style = \"text-align: right;\">17.23</td><td style = \"text-align: right;\">17.23</td><td style = \"text-align: left;\">AAAU</td></tr><tr><td class = \"rowNumber\" style = \"font-weight: bold; text-align: right;\">12</td><td style = \"text-align: left;\">2020-06-17</td><td style = \"text-align: right;\">153900</td><td style = \"text-align: right;\">17.19</td><td style = \"text-align: right;\">17.25</td><td style = \"text-align: right;\">17.16</td><td style = \"text-align: right;\">17.25</td><td style = \"text-align: right;\">17.25</td><td style = \"text-align: left;\">AAAU</td></tr><tr><td class = \"rowNumber\" style = \"font-weight: bold; text-align: right;\">13</td><td style = \"text-align: left;\">2020-06-16</td><td style = \"text-align: right;\">165800</td><td style = \"text-align: right;\">17.15</td><td style = \"text-align: right;\">17.25</td><td style = \"text-align: right;\">17.11</td><td style = \"text-align: right;\">17.21</td><td style = \"text-align: right;\">17.21</td><td style = \"text-align: left;\">AAAU</td></tr><tr><td style = \"text-align: right;\">&vellip;</td><td style = \"text-align: right;\">&vellip;</td><td style = \"text-align: right;\">&vellip;</td><td style = \"text-align: right;\">&vellip;</td><td style = \"text-align: right;\">&vellip;</td><td style = \"text-align: right;\">&vellip;</td><td style = \"text-align: right;\">&vellip;</td><td style = \"text-align: right;\">&vellip;</td><td style = \"text-align: right;\">&vellip;</td></tr><tr><td class = \"rowNumber\" style = \"font-weight: bold; text-align: right;\">463</td><td style = \"text-align: left;\">2018-08-30</td><td style = \"text-align: right;\">804500</td><td style = \"text-align: right;\">12.03</td><td style = \"text-align: right;\">12.03</td><td style = \"text-align: right;\">11.97</td><td style = \"text-align: right;\">12.01</td><td style = \"text-align: right;\">12.01</td><td style = \"text-align: left;\">AAAU</td></tr><tr><td class = \"rowNumber\" style = \"font-weight: bold; text-align: right;\">464</td><td style = \"text-align: left;\">2018-08-29</td><td style = \"text-align: right;\">31800</td><td style = \"text-align: right;\">12.06</td><td style = \"text-align: right;\">12.06</td><td style = \"text-align: right;\">12.03</td><td style = \"text-align: right;\">12.05</td><td style = \"text-align: right;\">12.05</td><td style = \"text-align: left;\">AAAU</td></tr><tr><td class = \"rowNumber\" style = \"font-weight: bold; text-align: right;\">465</td><td style = \"text-align: left;\">2018-08-28</td><td style = \"text-align: right;\">30400</td><td style = \"text-align: right;\">12.13</td><td style = \"text-align: right;\">12.13</td><td style = \"text-align: right;\">12.01</td><td style = \"text-align: right;\">12.01</td><td style = \"text-align: right;\">12.01</td><td style = \"text-align: left;\">AAAU</td></tr><tr><td class = \"rowNumber\" style = \"font-weight: bold; text-align: right;\">466</td><td style = \"text-align: left;\">2018-08-27</td><td style = \"text-align: right;\">295100</td><td style = \"text-align: right;\">12.06</td><td style = \"text-align: right;\">12.13</td><td style = \"text-align: right;\">12.06</td><td style = \"text-align: right;\">12.1</td><td style = \"text-align: right;\">12.1</td><td style = \"text-align: left;\">AAAU</td></tr><tr><td class = \"rowNumber\" style = \"font-weight: bold; text-align: right;\">467</td><td style = \"text-align: left;\">2018-08-24</td><td style = \"text-align: right;\">106500</td><td style = \"text-align: right;\">11.97</td><td style = \"text-align: right;\">12.08</td><td style = \"text-align: right;\">11.96</td><td style = \"text-align: right;\">12.05</td><td style = \"text-align: right;\">12.05</td><td style = \"text-align: left;\">AAAU</td></tr><tr><td class = \"rowNumber\" style = \"font-weight: bold; text-align: right;\">468</td><td style = \"text-align: left;\">2018-08-23</td><td style = \"text-align: right;\">54800</td><td style = \"text-align: right;\">11.91</td><td style = \"text-align: right;\">11.92</td><td style = \"text-align: right;\">11.85</td><td style = \"text-align: right;\">11.85</td><td style = \"text-align: right;\">11.85</td><td style = \"text-align: left;\">AAAU</td></tr><tr><td class = \"rowNumber\" style = \"font-weight: bold; text-align: right;\">469</td><td style = \"text-align: left;\">2018-08-22</td><td style = \"text-align: right;\">101200</td><td style = \"text-align: right;\">11.98</td><td style = \"text-align: right;\">11.98</td><td style = \"text-align: right;\">11.94</td><td style = \"text-align: right;\">11.96</td><td style = \"text-align: right;\">11.96</td><td style = \"text-align: left;\">AAAU</td></tr><tr><td class = \"rowNumber\" style = \"font-weight: bold; text-align: right;\">470</td><td style = \"text-align: left;\">2018-08-21</td><td style = \"text-align: right;\">30600</td><td style = \"text-align: right;\">11.92</td><td style = \"text-align: right;\">11.95</td><td style = \"text-align: right;\">11.89</td><td style = \"text-align: right;\">11.93</td><td style = \"text-align: right;\">11.93</td><td style = \"text-align: left;\">AAAU</td></tr><tr><td class = \"rowNumber\" style = \"font-weight: bold; text-align: right;\">471</td><td style = \"text-align: left;\">2018-08-20</td><td style = \"text-align: right;\">28700</td><td style = \"text-align: right;\">11.88</td><td style = \"text-align: right;\">11.91</td><td style = \"text-align: right;\">11.85</td><td style = \"text-align: right;\">11.9</td><td style = \"text-align: right;\">11.9</td><td style = \"text-align: left;\">AAAU</td></tr><tr><td class = \"rowNumber\" style = \"font-weight: bold; text-align: right;\">472</td><td style = \"text-align: left;\">2018-08-17</td><td style = \"text-align: right;\">52400</td><td style = \"text-align: right;\">11.8</td><td style = \"text-align: right;\">11.82</td><td style = \"text-align: right;\">11.77</td><td style = \"text-align: right;\">11.82</td><td style = \"text-align: right;\">11.82</td><td style = \"text-align: left;\">AAAU</td></tr><tr><td class = \"rowNumber\" style = \"font-weight: bold; text-align: right;\">473</td><td style = \"text-align: left;\">2018-08-16</td><td style = \"text-align: right;\">428400</td><td style = \"text-align: right;\">11.78</td><td style = \"text-align: right;\">11.8</td><td style = \"text-align: right;\">11.74</td><td style = \"text-align: right;\">11.74</td><td style = \"text-align: right;\">11.74</td><td style = \"text-align: left;\">AAAU</td></tr><tr><td class = \"rowNumber\" style = \"font-weight: bold; text-align: right;\">474</td><td style = \"text-align: left;\">2018-08-15</td><td style = \"text-align: right;\">27300</td><td style = \"text-align: right;\">11.84</td><td style = \"text-align: right;\">11.84</td><td style = \"text-align: right;\">11.74</td><td style = \"text-align: right;\">11.74</td><td style = \"text-align: right;\">11.74</td><td style = \"text-align: left;\">AAAU</td></tr></tbody></table></div>"
      ],
      "text/latex": [
       "\\begin{tabular}{r|cccccccc}\n",
       "\t& date & volume & open & high & low & close & adjclose & symbol\\\\\n",
       "\t\\hline\n",
       "\t& Date & Int64 & Float64 & Float64 & Float64 & Float64 & Float64 & String7\\\\\n",
       "\t\\hline\n",
       "\t1 & 2020-07-02 & 257500 & 17.64 & 17.74 & 17.62 & 17.71 & 17.71 & AAAU \\\\\n",
       "\t2 & 2020-07-01 & 468100 & 17.73 & 17.73 & 17.54 & 17.68 & 17.68 & AAAU \\\\\n",
       "\t3 & 2020-06-30 & 319100 & 17.65 & 17.8 & 17.61 & 17.78 & 17.78 & AAAU \\\\\n",
       "\t4 & 2020-06-29 & 405500 & 17.67 & 17.69 & 17.63 & 17.68 & 17.68 & AAAU \\\\\n",
       "\t5 & 2020-06-26 & 335100 & 17.49 & 17.67 & 17.42 & 17.67 & 17.67 & AAAU \\\\\n",
       "\t6 & 2020-06-25 & 246800 & 17.6 & 17.6 & 17.52 & 17.59 & 17.59 & AAAU \\\\\n",
       "\t7 & 2020-06-24 & 329200 & 17.61 & 17.71 & 17.56 & 17.61 & 17.61 & AAAU \\\\\n",
       "\t8 & 2020-06-23 & 351800 & 17.55 & 17.66 & 17.55 & 17.66 & 17.66 & AAAU \\\\\n",
       "\t9 & 2020-06-22 & 308300 & 17.5 & 17.57 & 17.44 & 17.5 & 17.5 & AAAU \\\\\n",
       "\t10 & 2020-06-19 & 153800 & 17.27 & 17.4 & 17.26 & 17.4 & 17.4 & AAAU \\\\\n",
       "\t11 & 2020-06-18 & 102200 & 17.27 & 17.27 & 17.14 & 17.23 & 17.23 & AAAU \\\\\n",
       "\t12 & 2020-06-17 & 153900 & 17.19 & 17.25 & 17.16 & 17.25 & 17.25 & AAAU \\\\\n",
       "\t13 & 2020-06-16 & 165800 & 17.15 & 17.25 & 17.11 & 17.21 & 17.21 & AAAU \\\\\n",
       "\t14 & 2020-06-15 & 308700 & 17.03 & 17.23 & 17.0 & 17.2 & 17.2 & AAAU \\\\\n",
       "\t15 & 2020-06-12 & 161400 & 17.34 & 17.37 & 17.25 & 17.27 & 17.27 & AAAU \\\\\n",
       "\t16 & 2020-06-11 & 308800 & 17.33 & 17.4 & 17.17 & 17.23 & 17.23 & AAAU \\\\\n",
       "\t17 & 2020-06-10 & 316900 & 17.2 & 17.35 & 17.08 & 17.35 & 17.35 & AAAU \\\\\n",
       "\t18 & 2020-06-09 & 296100 & 17.11 & 17.18 & 17.07 & 17.11 & 17.11 & AAAU \\\\\n",
       "\t19 & 2020-06-08 & 386900 & 16.85 & 16.95 & 16.81 & 16.95 & 16.95 & AAAU \\\\\n",
       "\t20 & 2020-06-05 & 510400 & 16.84 & 16.84 & 16.67 & 16.76 & 16.76 & AAAU \\\\\n",
       "\t21 & 2020-06-04 & 270800 & 17.07 & 17.16 & 16.95 & 17.11 & 17.11 & AAAU \\\\\n",
       "\t22 & 2020-06-03 & 480300 & 17.01 & 17.06 & 16.84 & 16.92 & 16.92 & AAAU \\\\\n",
       "\t23 & 2020-06-02 & 166100 & 17.39 & 17.4 & 17.17 & 17.24 & 17.24 & AAAU \\\\\n",
       "\t24 & 2020-06-01 & 388700 & 17.3 & 17.37 & 17.24 & 17.37 & 17.37 & AAAU \\\\\n",
       "\t25 & 2020-05-29 & 426100 & 17.25 & 17.32 & 17.22 & 17.27 & 17.27 & AAAU \\\\\n",
       "\t26 & 2020-05-28 & 227500 & 17.21 & 17.22 & 17.07 & 17.16 & 17.16 & AAAU \\\\\n",
       "\t27 & 2020-05-27 & 480900 & 16.9 & 17.11 & 16.88 & 17.1 & 17.1 & AAAU \\\\\n",
       "\t28 & 2020-05-26 & 559900 & 17.26 & 17.26 & 17.04 & 17.05 & 17.05 & AAAU \\\\\n",
       "\t29 & 2020-05-22 & 202300 & 17.28 & 17.33 & 17.26 & 17.3 & 17.3 & AAAU \\\\\n",
       "\t30 & 2020-05-21 & 377500 & 17.34 & 17.35 & 17.12 & 17.21 & 17.21 & AAAU \\\\\n",
       "\t$\\dots$ & $\\dots$ & $\\dots$ & $\\dots$ & $\\dots$ & $\\dots$ & $\\dots$ & $\\dots$ & $\\dots$ \\\\\n",
       "\\end{tabular}\n"
      ],
      "text/plain": [
       "\u001b[1m474×8 SubDataFrame\u001b[0m\n",
       "\u001b[1m Row \u001b[0m│\u001b[1m date       \u001b[0m\u001b[1m volume \u001b[0m\u001b[1m open    \u001b[0m\u001b[1m high    \u001b[0m\u001b[1m low     \u001b[0m\u001b[1m close   \u001b[0m\u001b[1m adjclose \u001b[0m\u001b[1m symbo\u001b[0m ⋯\n",
       "     │\u001b[90m Date       \u001b[0m\u001b[90m Int64  \u001b[0m\u001b[90m Float64 \u001b[0m\u001b[90m Float64 \u001b[0m\u001b[90m Float64 \u001b[0m\u001b[90m Float64 \u001b[0m\u001b[90m Float64  \u001b[0m\u001b[90m Strin\u001b[0m ⋯\n",
       "─────┼──────────────────────────────────────────────────────────────────────────\n",
       "   1 │ 2020-07-02  257500    17.64    17.74    17.62    17.71     17.71  AAAU  ⋯\n",
       "   2 │ 2020-07-01  468100    17.73    17.73    17.54    17.68     17.68  AAAU\n",
       "   3 │ 2020-06-30  319100    17.65    17.8     17.61    17.78     17.78  AAAU\n",
       "   4 │ 2020-06-29  405500    17.67    17.69    17.63    17.68     17.68  AAAU\n",
       "   5 │ 2020-06-26  335100    17.49    17.67    17.42    17.67     17.67  AAAU  ⋯\n",
       "   6 │ 2020-06-25  246800    17.6     17.6     17.52    17.59     17.59  AAAU\n",
       "   7 │ 2020-06-24  329200    17.61    17.71    17.56    17.61     17.61  AAAU\n",
       "   8 │ 2020-06-23  351800    17.55    17.66    17.55    17.66     17.66  AAAU\n",
       "   9 │ 2020-06-22  308300    17.5     17.57    17.44    17.5      17.5   AAAU  ⋯\n",
       "  10 │ 2020-06-19  153800    17.27    17.4     17.26    17.4      17.4   AAAU\n",
       "  11 │ 2020-06-18  102200    17.27    17.27    17.14    17.23     17.23  AAAU\n",
       "  ⋮  │     ⋮         ⋮        ⋮        ⋮        ⋮        ⋮        ⋮         ⋮  ⋱\n",
       " 465 │ 2018-08-28   30400    12.13    12.13    12.01    12.01     12.01  AAAU\n",
       " 466 │ 2018-08-27  295100    12.06    12.13    12.06    12.1      12.1   AAAU  ⋯\n",
       " 467 │ 2018-08-24  106500    11.97    12.08    11.96    12.05     12.05  AAAU\n",
       " 468 │ 2018-08-23   54800    11.91    11.92    11.85    11.85     11.85  AAAU\n",
       " 469 │ 2018-08-22  101200    11.98    11.98    11.94    11.96     11.96  AAAU\n",
       " 470 │ 2018-08-21   30600    11.92    11.95    11.89    11.93     11.93  AAAU  ⋯\n",
       " 471 │ 2018-08-20   28700    11.88    11.91    11.85    11.9      11.9   AAAU\n",
       " 472 │ 2018-08-17   52400    11.8     11.82    11.77    11.82     11.82  AAAU\n",
       " 473 │ 2018-08-16  428400    11.78    11.8     11.74    11.74     11.74  AAAU\n",
       " 474 │ 2018-08-15   27300    11.84    11.84    11.74    11.74     11.74  AAAU  ⋯\n",
       "\u001b[36m                                                   1 column and 453 rows omitted\u001b[0m"
      ]
     },
     "execution_count": 56,
     "metadata": {},
     "output_type": "execute_result"
    }
   ],
   "source": [
    "gdf[(symbol=\"AAAU\",)]"
   ]
  },
  {
   "cell_type": "code",
   "execution_count": 57,
   "metadata": {},
   "outputs": [
    {
     "data": {
      "text/html": [
       "<div><div style = \"float: left;\"><span>474×8 SubDataFrame</span></div><div style = \"float: right;\"><span style = \"font-style: italic;\">449 rows omitted</span></div><div style = \"clear: both;\"></div></div><div class = \"data-frame\" style = \"overflow-x: scroll;\"><table class = \"data-frame\" style = \"margin-bottom: 6px;\"><thead><tr class = \"header\"><th class = \"rowNumber\" style = \"font-weight: bold; text-align: right;\">Row</th><th style = \"text-align: left;\">date</th><th style = \"text-align: left;\">volume</th><th style = \"text-align: left;\">open</th><th style = \"text-align: left;\">high</th><th style = \"text-align: left;\">low</th><th style = \"text-align: left;\">close</th><th style = \"text-align: left;\">adjclose</th><th style = \"text-align: left;\">symbol</th></tr><tr class = \"subheader headerLastRow\"><th class = \"rowNumber\" style = \"font-weight: bold; text-align: right;\"></th><th title = \"Date\" style = \"text-align: left;\">Date</th><th title = \"Int64\" style = \"text-align: left;\">Int64</th><th title = \"Float64\" style = \"text-align: left;\">Float64</th><th title = \"Float64\" style = \"text-align: left;\">Float64</th><th title = \"Float64\" style = \"text-align: left;\">Float64</th><th title = \"Float64\" style = \"text-align: left;\">Float64</th><th title = \"Float64\" style = \"text-align: left;\">Float64</th><th title = \"String7\" style = \"text-align: left;\">String7</th></tr></thead><tbody><tr><td class = \"rowNumber\" style = \"font-weight: bold; text-align: right;\">1</td><td style = \"text-align: left;\">2020-07-02</td><td style = \"text-align: right;\">257500</td><td style = \"text-align: right;\">17.64</td><td style = \"text-align: right;\">17.74</td><td style = \"text-align: right;\">17.62</td><td style = \"text-align: right;\">17.71</td><td style = \"text-align: right;\">17.71</td><td style = \"text-align: left;\">AAAU</td></tr><tr><td class = \"rowNumber\" style = \"font-weight: bold; text-align: right;\">2</td><td style = \"text-align: left;\">2020-07-01</td><td style = \"text-align: right;\">468100</td><td style = \"text-align: right;\">17.73</td><td style = \"text-align: right;\">17.73</td><td style = \"text-align: right;\">17.54</td><td style = \"text-align: right;\">17.68</td><td style = \"text-align: right;\">17.68</td><td style = \"text-align: left;\">AAAU</td></tr><tr><td class = \"rowNumber\" style = \"font-weight: bold; text-align: right;\">3</td><td style = \"text-align: left;\">2020-06-30</td><td style = \"text-align: right;\">319100</td><td style = \"text-align: right;\">17.65</td><td style = \"text-align: right;\">17.8</td><td style = \"text-align: right;\">17.61</td><td style = \"text-align: right;\">17.78</td><td style = \"text-align: right;\">17.78</td><td style = \"text-align: left;\">AAAU</td></tr><tr><td class = \"rowNumber\" style = \"font-weight: bold; text-align: right;\">4</td><td style = \"text-align: left;\">2020-06-29</td><td style = \"text-align: right;\">405500</td><td style = \"text-align: right;\">17.67</td><td style = \"text-align: right;\">17.69</td><td style = \"text-align: right;\">17.63</td><td style = \"text-align: right;\">17.68</td><td style = \"text-align: right;\">17.68</td><td style = \"text-align: left;\">AAAU</td></tr><tr><td class = \"rowNumber\" style = \"font-weight: bold; text-align: right;\">5</td><td style = \"text-align: left;\">2020-06-26</td><td style = \"text-align: right;\">335100</td><td style = \"text-align: right;\">17.49</td><td style = \"text-align: right;\">17.67</td><td style = \"text-align: right;\">17.42</td><td style = \"text-align: right;\">17.67</td><td style = \"text-align: right;\">17.67</td><td style = \"text-align: left;\">AAAU</td></tr><tr><td class = \"rowNumber\" style = \"font-weight: bold; text-align: right;\">6</td><td style = \"text-align: left;\">2020-06-25</td><td style = \"text-align: right;\">246800</td><td style = \"text-align: right;\">17.6</td><td style = \"text-align: right;\">17.6</td><td style = \"text-align: right;\">17.52</td><td style = \"text-align: right;\">17.59</td><td style = \"text-align: right;\">17.59</td><td style = \"text-align: left;\">AAAU</td></tr><tr><td class = \"rowNumber\" style = \"font-weight: bold; text-align: right;\">7</td><td style = \"text-align: left;\">2020-06-24</td><td style = \"text-align: right;\">329200</td><td style = \"text-align: right;\">17.61</td><td style = \"text-align: right;\">17.71</td><td style = \"text-align: right;\">17.56</td><td style = \"text-align: right;\">17.61</td><td style = \"text-align: right;\">17.61</td><td style = \"text-align: left;\">AAAU</td></tr><tr><td class = \"rowNumber\" style = \"font-weight: bold; text-align: right;\">8</td><td style = \"text-align: left;\">2020-06-23</td><td style = \"text-align: right;\">351800</td><td style = \"text-align: right;\">17.55</td><td style = \"text-align: right;\">17.66</td><td style = \"text-align: right;\">17.55</td><td style = \"text-align: right;\">17.66</td><td style = \"text-align: right;\">17.66</td><td style = \"text-align: left;\">AAAU</td></tr><tr><td class = \"rowNumber\" style = \"font-weight: bold; text-align: right;\">9</td><td style = \"text-align: left;\">2020-06-22</td><td style = \"text-align: right;\">308300</td><td style = \"text-align: right;\">17.5</td><td style = \"text-align: right;\">17.57</td><td style = \"text-align: right;\">17.44</td><td style = \"text-align: right;\">17.5</td><td style = \"text-align: right;\">17.5</td><td style = \"text-align: left;\">AAAU</td></tr><tr><td class = \"rowNumber\" style = \"font-weight: bold; text-align: right;\">10</td><td style = \"text-align: left;\">2020-06-19</td><td style = \"text-align: right;\">153800</td><td style = \"text-align: right;\">17.27</td><td style = \"text-align: right;\">17.4</td><td style = \"text-align: right;\">17.26</td><td style = \"text-align: right;\">17.4</td><td style = \"text-align: right;\">17.4</td><td style = \"text-align: left;\">AAAU</td></tr><tr><td class = \"rowNumber\" style = \"font-weight: bold; text-align: right;\">11</td><td style = \"text-align: left;\">2020-06-18</td><td style = \"text-align: right;\">102200</td><td style = \"text-align: right;\">17.27</td><td style = \"text-align: right;\">17.27</td><td style = \"text-align: right;\">17.14</td><td style = \"text-align: right;\">17.23</td><td style = \"text-align: right;\">17.23</td><td style = \"text-align: left;\">AAAU</td></tr><tr><td class = \"rowNumber\" style = \"font-weight: bold; text-align: right;\">12</td><td style = \"text-align: left;\">2020-06-17</td><td style = \"text-align: right;\">153900</td><td style = \"text-align: right;\">17.19</td><td style = \"text-align: right;\">17.25</td><td style = \"text-align: right;\">17.16</td><td style = \"text-align: right;\">17.25</td><td style = \"text-align: right;\">17.25</td><td style = \"text-align: left;\">AAAU</td></tr><tr><td class = \"rowNumber\" style = \"font-weight: bold; text-align: right;\">13</td><td style = \"text-align: left;\">2020-06-16</td><td style = \"text-align: right;\">165800</td><td style = \"text-align: right;\">17.15</td><td style = \"text-align: right;\">17.25</td><td style = \"text-align: right;\">17.11</td><td style = \"text-align: right;\">17.21</td><td style = \"text-align: right;\">17.21</td><td style = \"text-align: left;\">AAAU</td></tr><tr><td style = \"text-align: right;\">&vellip;</td><td style = \"text-align: right;\">&vellip;</td><td style = \"text-align: right;\">&vellip;</td><td style = \"text-align: right;\">&vellip;</td><td style = \"text-align: right;\">&vellip;</td><td style = \"text-align: right;\">&vellip;</td><td style = \"text-align: right;\">&vellip;</td><td style = \"text-align: right;\">&vellip;</td><td style = \"text-align: right;\">&vellip;</td></tr><tr><td class = \"rowNumber\" style = \"font-weight: bold; text-align: right;\">463</td><td style = \"text-align: left;\">2018-08-30</td><td style = \"text-align: right;\">804500</td><td style = \"text-align: right;\">12.03</td><td style = \"text-align: right;\">12.03</td><td style = \"text-align: right;\">11.97</td><td style = \"text-align: right;\">12.01</td><td style = \"text-align: right;\">12.01</td><td style = \"text-align: left;\">AAAU</td></tr><tr><td class = \"rowNumber\" style = \"font-weight: bold; text-align: right;\">464</td><td style = \"text-align: left;\">2018-08-29</td><td style = \"text-align: right;\">31800</td><td style = \"text-align: right;\">12.06</td><td style = \"text-align: right;\">12.06</td><td style = \"text-align: right;\">12.03</td><td style = \"text-align: right;\">12.05</td><td style = \"text-align: right;\">12.05</td><td style = \"text-align: left;\">AAAU</td></tr><tr><td class = \"rowNumber\" style = \"font-weight: bold; text-align: right;\">465</td><td style = \"text-align: left;\">2018-08-28</td><td style = \"text-align: right;\">30400</td><td style = \"text-align: right;\">12.13</td><td style = \"text-align: right;\">12.13</td><td style = \"text-align: right;\">12.01</td><td style = \"text-align: right;\">12.01</td><td style = \"text-align: right;\">12.01</td><td style = \"text-align: left;\">AAAU</td></tr><tr><td class = \"rowNumber\" style = \"font-weight: bold; text-align: right;\">466</td><td style = \"text-align: left;\">2018-08-27</td><td style = \"text-align: right;\">295100</td><td style = \"text-align: right;\">12.06</td><td style = \"text-align: right;\">12.13</td><td style = \"text-align: right;\">12.06</td><td style = \"text-align: right;\">12.1</td><td style = \"text-align: right;\">12.1</td><td style = \"text-align: left;\">AAAU</td></tr><tr><td class = \"rowNumber\" style = \"font-weight: bold; text-align: right;\">467</td><td style = \"text-align: left;\">2018-08-24</td><td style = \"text-align: right;\">106500</td><td style = \"text-align: right;\">11.97</td><td style = \"text-align: right;\">12.08</td><td style = \"text-align: right;\">11.96</td><td style = \"text-align: right;\">12.05</td><td style = \"text-align: right;\">12.05</td><td style = \"text-align: left;\">AAAU</td></tr><tr><td class = \"rowNumber\" style = \"font-weight: bold; text-align: right;\">468</td><td style = \"text-align: left;\">2018-08-23</td><td style = \"text-align: right;\">54800</td><td style = \"text-align: right;\">11.91</td><td style = \"text-align: right;\">11.92</td><td style = \"text-align: right;\">11.85</td><td style = \"text-align: right;\">11.85</td><td style = \"text-align: right;\">11.85</td><td style = \"text-align: left;\">AAAU</td></tr><tr><td class = \"rowNumber\" style = \"font-weight: bold; text-align: right;\">469</td><td style = \"text-align: left;\">2018-08-22</td><td style = \"text-align: right;\">101200</td><td style = \"text-align: right;\">11.98</td><td style = \"text-align: right;\">11.98</td><td style = \"text-align: right;\">11.94</td><td style = \"text-align: right;\">11.96</td><td style = \"text-align: right;\">11.96</td><td style = \"text-align: left;\">AAAU</td></tr><tr><td class = \"rowNumber\" style = \"font-weight: bold; text-align: right;\">470</td><td style = \"text-align: left;\">2018-08-21</td><td style = \"text-align: right;\">30600</td><td style = \"text-align: right;\">11.92</td><td style = \"text-align: right;\">11.95</td><td style = \"text-align: right;\">11.89</td><td style = \"text-align: right;\">11.93</td><td style = \"text-align: right;\">11.93</td><td style = \"text-align: left;\">AAAU</td></tr><tr><td class = \"rowNumber\" style = \"font-weight: bold; text-align: right;\">471</td><td style = \"text-align: left;\">2018-08-20</td><td style = \"text-align: right;\">28700</td><td style = \"text-align: right;\">11.88</td><td style = \"text-align: right;\">11.91</td><td style = \"text-align: right;\">11.85</td><td style = \"text-align: right;\">11.9</td><td style = \"text-align: right;\">11.9</td><td style = \"text-align: left;\">AAAU</td></tr><tr><td class = \"rowNumber\" style = \"font-weight: bold; text-align: right;\">472</td><td style = \"text-align: left;\">2018-08-17</td><td style = \"text-align: right;\">52400</td><td style = \"text-align: right;\">11.8</td><td style = \"text-align: right;\">11.82</td><td style = \"text-align: right;\">11.77</td><td style = \"text-align: right;\">11.82</td><td style = \"text-align: right;\">11.82</td><td style = \"text-align: left;\">AAAU</td></tr><tr><td class = \"rowNumber\" style = \"font-weight: bold; text-align: right;\">473</td><td style = \"text-align: left;\">2018-08-16</td><td style = \"text-align: right;\">428400</td><td style = \"text-align: right;\">11.78</td><td style = \"text-align: right;\">11.8</td><td style = \"text-align: right;\">11.74</td><td style = \"text-align: right;\">11.74</td><td style = \"text-align: right;\">11.74</td><td style = \"text-align: left;\">AAAU</td></tr><tr><td class = \"rowNumber\" style = \"font-weight: bold; text-align: right;\">474</td><td style = \"text-align: left;\">2018-08-15</td><td style = \"text-align: right;\">27300</td><td style = \"text-align: right;\">11.84</td><td style = \"text-align: right;\">11.84</td><td style = \"text-align: right;\">11.74</td><td style = \"text-align: right;\">11.74</td><td style = \"text-align: right;\">11.74</td><td style = \"text-align: left;\">AAAU</td></tr></tbody></table></div>"
      ],
      "text/latex": [
       "\\begin{tabular}{r|cccccccc}\n",
       "\t& date & volume & open & high & low & close & adjclose & symbol\\\\\n",
       "\t\\hline\n",
       "\t& Date & Int64 & Float64 & Float64 & Float64 & Float64 & Float64 & String7\\\\\n",
       "\t\\hline\n",
       "\t1 & 2020-07-02 & 257500 & 17.64 & 17.74 & 17.62 & 17.71 & 17.71 & AAAU \\\\\n",
       "\t2 & 2020-07-01 & 468100 & 17.73 & 17.73 & 17.54 & 17.68 & 17.68 & AAAU \\\\\n",
       "\t3 & 2020-06-30 & 319100 & 17.65 & 17.8 & 17.61 & 17.78 & 17.78 & AAAU \\\\\n",
       "\t4 & 2020-06-29 & 405500 & 17.67 & 17.69 & 17.63 & 17.68 & 17.68 & AAAU \\\\\n",
       "\t5 & 2020-06-26 & 335100 & 17.49 & 17.67 & 17.42 & 17.67 & 17.67 & AAAU \\\\\n",
       "\t6 & 2020-06-25 & 246800 & 17.6 & 17.6 & 17.52 & 17.59 & 17.59 & AAAU \\\\\n",
       "\t7 & 2020-06-24 & 329200 & 17.61 & 17.71 & 17.56 & 17.61 & 17.61 & AAAU \\\\\n",
       "\t8 & 2020-06-23 & 351800 & 17.55 & 17.66 & 17.55 & 17.66 & 17.66 & AAAU \\\\\n",
       "\t9 & 2020-06-22 & 308300 & 17.5 & 17.57 & 17.44 & 17.5 & 17.5 & AAAU \\\\\n",
       "\t10 & 2020-06-19 & 153800 & 17.27 & 17.4 & 17.26 & 17.4 & 17.4 & AAAU \\\\\n",
       "\t11 & 2020-06-18 & 102200 & 17.27 & 17.27 & 17.14 & 17.23 & 17.23 & AAAU \\\\\n",
       "\t12 & 2020-06-17 & 153900 & 17.19 & 17.25 & 17.16 & 17.25 & 17.25 & AAAU \\\\\n",
       "\t13 & 2020-06-16 & 165800 & 17.15 & 17.25 & 17.11 & 17.21 & 17.21 & AAAU \\\\\n",
       "\t14 & 2020-06-15 & 308700 & 17.03 & 17.23 & 17.0 & 17.2 & 17.2 & AAAU \\\\\n",
       "\t15 & 2020-06-12 & 161400 & 17.34 & 17.37 & 17.25 & 17.27 & 17.27 & AAAU \\\\\n",
       "\t16 & 2020-06-11 & 308800 & 17.33 & 17.4 & 17.17 & 17.23 & 17.23 & AAAU \\\\\n",
       "\t17 & 2020-06-10 & 316900 & 17.2 & 17.35 & 17.08 & 17.35 & 17.35 & AAAU \\\\\n",
       "\t18 & 2020-06-09 & 296100 & 17.11 & 17.18 & 17.07 & 17.11 & 17.11 & AAAU \\\\\n",
       "\t19 & 2020-06-08 & 386900 & 16.85 & 16.95 & 16.81 & 16.95 & 16.95 & AAAU \\\\\n",
       "\t20 & 2020-06-05 & 510400 & 16.84 & 16.84 & 16.67 & 16.76 & 16.76 & AAAU \\\\\n",
       "\t21 & 2020-06-04 & 270800 & 17.07 & 17.16 & 16.95 & 17.11 & 17.11 & AAAU \\\\\n",
       "\t22 & 2020-06-03 & 480300 & 17.01 & 17.06 & 16.84 & 16.92 & 16.92 & AAAU \\\\\n",
       "\t23 & 2020-06-02 & 166100 & 17.39 & 17.4 & 17.17 & 17.24 & 17.24 & AAAU \\\\\n",
       "\t24 & 2020-06-01 & 388700 & 17.3 & 17.37 & 17.24 & 17.37 & 17.37 & AAAU \\\\\n",
       "\t25 & 2020-05-29 & 426100 & 17.25 & 17.32 & 17.22 & 17.27 & 17.27 & AAAU \\\\\n",
       "\t26 & 2020-05-28 & 227500 & 17.21 & 17.22 & 17.07 & 17.16 & 17.16 & AAAU \\\\\n",
       "\t27 & 2020-05-27 & 480900 & 16.9 & 17.11 & 16.88 & 17.1 & 17.1 & AAAU \\\\\n",
       "\t28 & 2020-05-26 & 559900 & 17.26 & 17.26 & 17.04 & 17.05 & 17.05 & AAAU \\\\\n",
       "\t29 & 2020-05-22 & 202300 & 17.28 & 17.33 & 17.26 & 17.3 & 17.3 & AAAU \\\\\n",
       "\t30 & 2020-05-21 & 377500 & 17.34 & 17.35 & 17.12 & 17.21 & 17.21 & AAAU \\\\\n",
       "\t$\\dots$ & $\\dots$ & $\\dots$ & $\\dots$ & $\\dots$ & $\\dots$ & $\\dots$ & $\\dots$ & $\\dots$ \\\\\n",
       "\\end{tabular}\n"
      ],
      "text/plain": [
       "\u001b[1m474×8 SubDataFrame\u001b[0m\n",
       "\u001b[1m Row \u001b[0m│\u001b[1m date       \u001b[0m\u001b[1m volume \u001b[0m\u001b[1m open    \u001b[0m\u001b[1m high    \u001b[0m\u001b[1m low     \u001b[0m\u001b[1m close   \u001b[0m\u001b[1m adjclose \u001b[0m\u001b[1m symbo\u001b[0m ⋯\n",
       "     │\u001b[90m Date       \u001b[0m\u001b[90m Int64  \u001b[0m\u001b[90m Float64 \u001b[0m\u001b[90m Float64 \u001b[0m\u001b[90m Float64 \u001b[0m\u001b[90m Float64 \u001b[0m\u001b[90m Float64  \u001b[0m\u001b[90m Strin\u001b[0m ⋯\n",
       "─────┼──────────────────────────────────────────────────────────────────────────\n",
       "   1 │ 2020-07-02  257500    17.64    17.74    17.62    17.71     17.71  AAAU  ⋯\n",
       "   2 │ 2020-07-01  468100    17.73    17.73    17.54    17.68     17.68  AAAU\n",
       "   3 │ 2020-06-30  319100    17.65    17.8     17.61    17.78     17.78  AAAU\n",
       "   4 │ 2020-06-29  405500    17.67    17.69    17.63    17.68     17.68  AAAU\n",
       "   5 │ 2020-06-26  335100    17.49    17.67    17.42    17.67     17.67  AAAU  ⋯\n",
       "   6 │ 2020-06-25  246800    17.6     17.6     17.52    17.59     17.59  AAAU\n",
       "   7 │ 2020-06-24  329200    17.61    17.71    17.56    17.61     17.61  AAAU\n",
       "   8 │ 2020-06-23  351800    17.55    17.66    17.55    17.66     17.66  AAAU\n",
       "   9 │ 2020-06-22  308300    17.5     17.57    17.44    17.5      17.5   AAAU  ⋯\n",
       "  10 │ 2020-06-19  153800    17.27    17.4     17.26    17.4      17.4   AAAU\n",
       "  11 │ 2020-06-18  102200    17.27    17.27    17.14    17.23     17.23  AAAU\n",
       "  ⋮  │     ⋮         ⋮        ⋮        ⋮        ⋮        ⋮        ⋮         ⋮  ⋱\n",
       " 465 │ 2018-08-28   30400    12.13    12.13    12.01    12.01     12.01  AAAU\n",
       " 466 │ 2018-08-27  295100    12.06    12.13    12.06    12.1      12.1   AAAU  ⋯\n",
       " 467 │ 2018-08-24  106500    11.97    12.08    11.96    12.05     12.05  AAAU\n",
       " 468 │ 2018-08-23   54800    11.91    11.92    11.85    11.85     11.85  AAAU\n",
       " 469 │ 2018-08-22  101200    11.98    11.98    11.94    11.96     11.96  AAAU\n",
       " 470 │ 2018-08-21   30600    11.92    11.95    11.89    11.93     11.93  AAAU  ⋯\n",
       " 471 │ 2018-08-20   28700    11.88    11.91    11.85    11.9      11.9   AAAU\n",
       " 472 │ 2018-08-17   52400    11.8     11.82    11.77    11.82     11.82  AAAU\n",
       " 473 │ 2018-08-16  428400    11.78    11.8     11.74    11.74     11.74  AAAU\n",
       " 474 │ 2018-08-15   27300    11.84    11.84    11.74    11.74     11.74  AAAU  ⋯\n",
       "\u001b[36m                                                   1 column and 453 rows omitted\u001b[0m"
      ]
     },
     "execution_count": 57,
     "metadata": {},
     "output_type": "execute_result"
    }
   ],
   "source": [
    "gdf[(\"AAAU\",)]"
   ]
  },
  {
   "cell_type": "markdown",
   "metadata": {},
   "source": [
    "And indexing by a collection produces a subsetted `GroupedDataFrame`:"
   ]
  },
  {
   "cell_type": "code",
   "execution_count": 58,
   "metadata": {},
   "outputs": [
    {
     "data": {
      "text/html": [
       "<p><b>GroupedDataFrame with 2 groups based on key: symbol</b></p><div><div style = \"float: left;\"><span>First Group (474 rows): symbol = &quot;AAAU&quot;</span></div><div style = \"float: right;\"><span style = \"font-style: italic;\">449 rows omitted</span></div><div style = \"clear: both;\"></div></div><div class = \"data-frame\" style = \"overflow-x: scroll;\"><table class = \"data-frame\" style = \"margin-bottom: 6px;\"><thead><tr class = \"header\"><th class = \"rowNumber\" style = \"font-weight: bold; text-align: right;\">Row</th><th style = \"text-align: left;\">date</th><th style = \"text-align: left;\">volume</th><th style = \"text-align: left;\">open</th><th style = \"text-align: left;\">high</th><th style = \"text-align: left;\">low</th><th style = \"text-align: left;\">close</th><th style = \"text-align: left;\">adjclose</th><th style = \"text-align: left;\">symbol</th></tr><tr class = \"subheader headerLastRow\"><th class = \"rowNumber\" style = \"font-weight: bold; text-align: right;\"></th><th title = \"Date\" style = \"text-align: left;\">Date</th><th title = \"Int64\" style = \"text-align: left;\">Int64</th><th title = \"Float64\" style = \"text-align: left;\">Float64</th><th title = \"Float64\" style = \"text-align: left;\">Float64</th><th title = \"Float64\" style = \"text-align: left;\">Float64</th><th title = \"Float64\" style = \"text-align: left;\">Float64</th><th title = \"Float64\" style = \"text-align: left;\">Float64</th><th title = \"String7\" style = \"text-align: left;\">String7</th></tr></thead><tbody><tr><td class = \"rowNumber\" style = \"font-weight: bold; text-align: right;\">1</td><td style = \"text-align: left;\">2020-07-02</td><td style = \"text-align: right;\">257500</td><td style = \"text-align: right;\">17.64</td><td style = \"text-align: right;\">17.74</td><td style = \"text-align: right;\">17.62</td><td style = \"text-align: right;\">17.71</td><td style = \"text-align: right;\">17.71</td><td style = \"text-align: left;\">AAAU</td></tr><tr><td class = \"rowNumber\" style = \"font-weight: bold; text-align: right;\">2</td><td style = \"text-align: left;\">2020-07-01</td><td style = \"text-align: right;\">468100</td><td style = \"text-align: right;\">17.73</td><td style = \"text-align: right;\">17.73</td><td style = \"text-align: right;\">17.54</td><td style = \"text-align: right;\">17.68</td><td style = \"text-align: right;\">17.68</td><td style = \"text-align: left;\">AAAU</td></tr><tr><td class = \"rowNumber\" style = \"font-weight: bold; text-align: right;\">3</td><td style = \"text-align: left;\">2020-06-30</td><td style = \"text-align: right;\">319100</td><td style = \"text-align: right;\">17.65</td><td style = \"text-align: right;\">17.8</td><td style = \"text-align: right;\">17.61</td><td style = \"text-align: right;\">17.78</td><td style = \"text-align: right;\">17.78</td><td style = \"text-align: left;\">AAAU</td></tr><tr><td class = \"rowNumber\" style = \"font-weight: bold; text-align: right;\">4</td><td style = \"text-align: left;\">2020-06-29</td><td style = \"text-align: right;\">405500</td><td style = \"text-align: right;\">17.67</td><td style = \"text-align: right;\">17.69</td><td style = \"text-align: right;\">17.63</td><td style = \"text-align: right;\">17.68</td><td style = \"text-align: right;\">17.68</td><td style = \"text-align: left;\">AAAU</td></tr><tr><td class = \"rowNumber\" style = \"font-weight: bold; text-align: right;\">5</td><td style = \"text-align: left;\">2020-06-26</td><td style = \"text-align: right;\">335100</td><td style = \"text-align: right;\">17.49</td><td style = \"text-align: right;\">17.67</td><td style = \"text-align: right;\">17.42</td><td style = \"text-align: right;\">17.67</td><td style = \"text-align: right;\">17.67</td><td style = \"text-align: left;\">AAAU</td></tr><tr><td class = \"rowNumber\" style = \"font-weight: bold; text-align: right;\">6</td><td style = \"text-align: left;\">2020-06-25</td><td style = \"text-align: right;\">246800</td><td style = \"text-align: right;\">17.6</td><td style = \"text-align: right;\">17.6</td><td style = \"text-align: right;\">17.52</td><td style = \"text-align: right;\">17.59</td><td style = \"text-align: right;\">17.59</td><td style = \"text-align: left;\">AAAU</td></tr><tr><td class = \"rowNumber\" style = \"font-weight: bold; text-align: right;\">7</td><td style = \"text-align: left;\">2020-06-24</td><td style = \"text-align: right;\">329200</td><td style = \"text-align: right;\">17.61</td><td style = \"text-align: right;\">17.71</td><td style = \"text-align: right;\">17.56</td><td style = \"text-align: right;\">17.61</td><td style = \"text-align: right;\">17.61</td><td style = \"text-align: left;\">AAAU</td></tr><tr><td class = \"rowNumber\" style = \"font-weight: bold; text-align: right;\">8</td><td style = \"text-align: left;\">2020-06-23</td><td style = \"text-align: right;\">351800</td><td style = \"text-align: right;\">17.55</td><td style = \"text-align: right;\">17.66</td><td style = \"text-align: right;\">17.55</td><td style = \"text-align: right;\">17.66</td><td style = \"text-align: right;\">17.66</td><td style = \"text-align: left;\">AAAU</td></tr><tr><td class = \"rowNumber\" style = \"font-weight: bold; text-align: right;\">9</td><td style = \"text-align: left;\">2020-06-22</td><td style = \"text-align: right;\">308300</td><td style = \"text-align: right;\">17.5</td><td style = \"text-align: right;\">17.57</td><td style = \"text-align: right;\">17.44</td><td style = \"text-align: right;\">17.5</td><td style = \"text-align: right;\">17.5</td><td style = \"text-align: left;\">AAAU</td></tr><tr><td class = \"rowNumber\" style = \"font-weight: bold; text-align: right;\">10</td><td style = \"text-align: left;\">2020-06-19</td><td style = \"text-align: right;\">153800</td><td style = \"text-align: right;\">17.27</td><td style = \"text-align: right;\">17.4</td><td style = \"text-align: right;\">17.26</td><td style = \"text-align: right;\">17.4</td><td style = \"text-align: right;\">17.4</td><td style = \"text-align: left;\">AAAU</td></tr><tr><td class = \"rowNumber\" style = \"font-weight: bold; text-align: right;\">11</td><td style = \"text-align: left;\">2020-06-18</td><td style = \"text-align: right;\">102200</td><td style = \"text-align: right;\">17.27</td><td style = \"text-align: right;\">17.27</td><td style = \"text-align: right;\">17.14</td><td style = \"text-align: right;\">17.23</td><td style = \"text-align: right;\">17.23</td><td style = \"text-align: left;\">AAAU</td></tr><tr><td class = \"rowNumber\" style = \"font-weight: bold; text-align: right;\">12</td><td style = \"text-align: left;\">2020-06-17</td><td style = \"text-align: right;\">153900</td><td style = \"text-align: right;\">17.19</td><td style = \"text-align: right;\">17.25</td><td style = \"text-align: right;\">17.16</td><td style = \"text-align: right;\">17.25</td><td style = \"text-align: right;\">17.25</td><td style = \"text-align: left;\">AAAU</td></tr><tr><td class = \"rowNumber\" style = \"font-weight: bold; text-align: right;\">13</td><td style = \"text-align: left;\">2020-06-16</td><td style = \"text-align: right;\">165800</td><td style = \"text-align: right;\">17.15</td><td style = \"text-align: right;\">17.25</td><td style = \"text-align: right;\">17.11</td><td style = \"text-align: right;\">17.21</td><td style = \"text-align: right;\">17.21</td><td style = \"text-align: left;\">AAAU</td></tr><tr><td style = \"text-align: right;\">&vellip;</td><td style = \"text-align: right;\">&vellip;</td><td style = \"text-align: right;\">&vellip;</td><td style = \"text-align: right;\">&vellip;</td><td style = \"text-align: right;\">&vellip;</td><td style = \"text-align: right;\">&vellip;</td><td style = \"text-align: right;\">&vellip;</td><td style = \"text-align: right;\">&vellip;</td><td style = \"text-align: right;\">&vellip;</td></tr><tr><td class = \"rowNumber\" style = \"font-weight: bold; text-align: right;\">463</td><td style = \"text-align: left;\">2018-08-30</td><td style = \"text-align: right;\">804500</td><td style = \"text-align: right;\">12.03</td><td style = \"text-align: right;\">12.03</td><td style = \"text-align: right;\">11.97</td><td style = \"text-align: right;\">12.01</td><td style = \"text-align: right;\">12.01</td><td style = \"text-align: left;\">AAAU</td></tr><tr><td class = \"rowNumber\" style = \"font-weight: bold; text-align: right;\">464</td><td style = \"text-align: left;\">2018-08-29</td><td style = \"text-align: right;\">31800</td><td style = \"text-align: right;\">12.06</td><td style = \"text-align: right;\">12.06</td><td style = \"text-align: right;\">12.03</td><td style = \"text-align: right;\">12.05</td><td style = \"text-align: right;\">12.05</td><td style = \"text-align: left;\">AAAU</td></tr><tr><td class = \"rowNumber\" style = \"font-weight: bold; text-align: right;\">465</td><td style = \"text-align: left;\">2018-08-28</td><td style = \"text-align: right;\">30400</td><td style = \"text-align: right;\">12.13</td><td style = \"text-align: right;\">12.13</td><td style = \"text-align: right;\">12.01</td><td style = \"text-align: right;\">12.01</td><td style = \"text-align: right;\">12.01</td><td style = \"text-align: left;\">AAAU</td></tr><tr><td class = \"rowNumber\" style = \"font-weight: bold; text-align: right;\">466</td><td style = \"text-align: left;\">2018-08-27</td><td style = \"text-align: right;\">295100</td><td style = \"text-align: right;\">12.06</td><td style = \"text-align: right;\">12.13</td><td style = \"text-align: right;\">12.06</td><td style = \"text-align: right;\">12.1</td><td style = \"text-align: right;\">12.1</td><td style = \"text-align: left;\">AAAU</td></tr><tr><td class = \"rowNumber\" style = \"font-weight: bold; text-align: right;\">467</td><td style = \"text-align: left;\">2018-08-24</td><td style = \"text-align: right;\">106500</td><td style = \"text-align: right;\">11.97</td><td style = \"text-align: right;\">12.08</td><td style = \"text-align: right;\">11.96</td><td style = \"text-align: right;\">12.05</td><td style = \"text-align: right;\">12.05</td><td style = \"text-align: left;\">AAAU</td></tr><tr><td class = \"rowNumber\" style = \"font-weight: bold; text-align: right;\">468</td><td style = \"text-align: left;\">2018-08-23</td><td style = \"text-align: right;\">54800</td><td style = \"text-align: right;\">11.91</td><td style = \"text-align: right;\">11.92</td><td style = \"text-align: right;\">11.85</td><td style = \"text-align: right;\">11.85</td><td style = \"text-align: right;\">11.85</td><td style = \"text-align: left;\">AAAU</td></tr><tr><td class = \"rowNumber\" style = \"font-weight: bold; text-align: right;\">469</td><td style = \"text-align: left;\">2018-08-22</td><td style = \"text-align: right;\">101200</td><td style = \"text-align: right;\">11.98</td><td style = \"text-align: right;\">11.98</td><td style = \"text-align: right;\">11.94</td><td style = \"text-align: right;\">11.96</td><td style = \"text-align: right;\">11.96</td><td style = \"text-align: left;\">AAAU</td></tr><tr><td class = \"rowNumber\" style = \"font-weight: bold; text-align: right;\">470</td><td style = \"text-align: left;\">2018-08-21</td><td style = \"text-align: right;\">30600</td><td style = \"text-align: right;\">11.92</td><td style = \"text-align: right;\">11.95</td><td style = \"text-align: right;\">11.89</td><td style = \"text-align: right;\">11.93</td><td style = \"text-align: right;\">11.93</td><td style = \"text-align: left;\">AAAU</td></tr><tr><td class = \"rowNumber\" style = \"font-weight: bold; text-align: right;\">471</td><td style = \"text-align: left;\">2018-08-20</td><td style = \"text-align: right;\">28700</td><td style = \"text-align: right;\">11.88</td><td style = \"text-align: right;\">11.91</td><td style = \"text-align: right;\">11.85</td><td style = \"text-align: right;\">11.9</td><td style = \"text-align: right;\">11.9</td><td style = \"text-align: left;\">AAAU</td></tr><tr><td class = \"rowNumber\" style = \"font-weight: bold; text-align: right;\">472</td><td style = \"text-align: left;\">2018-08-17</td><td style = \"text-align: right;\">52400</td><td style = \"text-align: right;\">11.8</td><td style = \"text-align: right;\">11.82</td><td style = \"text-align: right;\">11.77</td><td style = \"text-align: right;\">11.82</td><td style = \"text-align: right;\">11.82</td><td style = \"text-align: left;\">AAAU</td></tr><tr><td class = \"rowNumber\" style = \"font-weight: bold; text-align: right;\">473</td><td style = \"text-align: left;\">2018-08-16</td><td style = \"text-align: right;\">428400</td><td style = \"text-align: right;\">11.78</td><td style = \"text-align: right;\">11.8</td><td style = \"text-align: right;\">11.74</td><td style = \"text-align: right;\">11.74</td><td style = \"text-align: right;\">11.74</td><td style = \"text-align: left;\">AAAU</td></tr><tr><td class = \"rowNumber\" style = \"font-weight: bold; text-align: right;\">474</td><td style = \"text-align: left;\">2018-08-15</td><td style = \"text-align: right;\">27300</td><td style = \"text-align: right;\">11.84</td><td style = \"text-align: right;\">11.84</td><td style = \"text-align: right;\">11.74</td><td style = \"text-align: right;\">11.74</td><td style = \"text-align: right;\">11.74</td><td style = \"text-align: left;\">AAAU</td></tr></tbody></table></div><p>&vellip;</p><div><div style = \"float: left;\"><span>Last Group (333 rows): symbol = &quot;AACG&quot;</span></div><div style = \"float: right;\"><span style = \"font-style: italic;\">308 rows omitted</span></div><div style = \"clear: both;\"></div></div><div class = \"data-frame\" style = \"overflow-x: scroll;\"><table class = \"data-frame\" style = \"margin-bottom: 6px;\"><thead><tr class = \"header\"><th class = \"rowNumber\" style = \"font-weight: bold; text-align: right;\">Row</th><th style = \"text-align: left;\">date</th><th style = \"text-align: left;\">volume</th><th style = \"text-align: left;\">open</th><th style = \"text-align: left;\">high</th><th style = \"text-align: left;\">low</th><th style = \"text-align: left;\">close</th><th style = \"text-align: left;\">adjclose</th><th style = \"text-align: left;\">symbol</th></tr><tr class = \"subheader headerLastRow\"><th class = \"rowNumber\" style = \"font-weight: bold; text-align: right;\"></th><th title = \"Date\" style = \"text-align: left;\">Date</th><th title = \"Int64\" style = \"text-align: left;\">Int64</th><th title = \"Float64\" style = \"text-align: left;\">Float64</th><th title = \"Float64\" style = \"text-align: left;\">Float64</th><th title = \"Float64\" style = \"text-align: left;\">Float64</th><th title = \"Float64\" style = \"text-align: left;\">Float64</th><th title = \"Float64\" style = \"text-align: left;\">Float64</th><th title = \"String7\" style = \"text-align: left;\">String7</th></tr></thead><tbody><tr><td class = \"rowNumber\" style = \"font-weight: bold; text-align: right;\">1</td><td style = \"text-align: left;\">2020-07-02</td><td style = \"text-align: right;\">46800</td><td style = \"text-align: right;\">1.3</td><td style = \"text-align: right;\">1.39</td><td style = \"text-align: right;\">1.3</td><td style = \"text-align: right;\">1.31</td><td style = \"text-align: right;\">1.31</td><td style = \"text-align: left;\">AACG</td></tr><tr><td class = \"rowNumber\" style = \"font-weight: bold; text-align: right;\">2</td><td style = \"text-align: left;\">2020-07-01</td><td style = \"text-align: right;\">95400</td><td style = \"text-align: right;\">1.25</td><td style = \"text-align: right;\">1.4</td><td style = \"text-align: right;\">1.18</td><td style = \"text-align: right;\">1.31</td><td style = \"text-align: right;\">1.31</td><td style = \"text-align: left;\">AACG</td></tr><tr><td class = \"rowNumber\" style = \"font-weight: bold; text-align: right;\">3</td><td style = \"text-align: left;\">2020-06-30</td><td style = \"text-align: right;\">40200</td><td style = \"text-align: right;\">1.16</td><td style = \"text-align: right;\">1.27</td><td style = \"text-align: right;\">1.16</td><td style = \"text-align: right;\">1.26</td><td style = \"text-align: right;\">1.26</td><td style = \"text-align: left;\">AACG</td></tr><tr><td class = \"rowNumber\" style = \"font-weight: bold; text-align: right;\">4</td><td style = \"text-align: left;\">2020-06-29</td><td style = \"text-align: right;\">46900</td><td style = \"text-align: right;\">1.15</td><td style = \"text-align: right;\">1.25</td><td style = \"text-align: right;\">1.15</td><td style = \"text-align: right;\">1.17</td><td style = \"text-align: right;\">1.17</td><td style = \"text-align: left;\">AACG</td></tr><tr><td class = \"rowNumber\" style = \"font-weight: bold; text-align: right;\">5</td><td style = \"text-align: left;\">2020-06-26</td><td style = \"text-align: right;\">43700</td><td style = \"text-align: right;\">1.12</td><td style = \"text-align: right;\">1.18</td><td style = \"text-align: right;\">1.12</td><td style = \"text-align: right;\">1.15</td><td style = \"text-align: right;\">1.15</td><td style = \"text-align: left;\">AACG</td></tr><tr><td class = \"rowNumber\" style = \"font-weight: bold; text-align: right;\">6</td><td style = \"text-align: left;\">2020-06-25</td><td style = \"text-align: right;\">72900</td><td style = \"text-align: right;\">1.22</td><td style = \"text-align: right;\">1.25</td><td style = \"text-align: right;\">1.11</td><td style = \"text-align: right;\">1.23</td><td style = \"text-align: right;\">1.23</td><td style = \"text-align: left;\">AACG</td></tr><tr><td class = \"rowNumber\" style = \"font-weight: bold; text-align: right;\">7</td><td style = \"text-align: left;\">2020-06-24</td><td style = \"text-align: right;\">80400</td><td style = \"text-align: right;\">1.14</td><td style = \"text-align: right;\">1.3</td><td style = \"text-align: right;\">1.14</td><td style = \"text-align: right;\">1.25</td><td style = \"text-align: right;\">1.25</td><td style = \"text-align: left;\">AACG</td></tr><tr><td class = \"rowNumber\" style = \"font-weight: bold; text-align: right;\">8</td><td style = \"text-align: left;\">2020-06-23</td><td style = \"text-align: right;\">57000</td><td style = \"text-align: right;\">1.19</td><td style = \"text-align: right;\">1.22</td><td style = \"text-align: right;\">1.14</td><td style = \"text-align: right;\">1.17</td><td style = \"text-align: right;\">1.17</td><td style = \"text-align: left;\">AACG</td></tr><tr><td class = \"rowNumber\" style = \"font-weight: bold; text-align: right;\">9</td><td style = \"text-align: left;\">2020-06-22</td><td style = \"text-align: right;\">115500</td><td style = \"text-align: right;\">1.0</td><td style = \"text-align: right;\">1.17</td><td style = \"text-align: right;\">0.97</td><td style = \"text-align: right;\">1.14</td><td style = \"text-align: right;\">1.14</td><td style = \"text-align: left;\">AACG</td></tr><tr><td class = \"rowNumber\" style = \"font-weight: bold; text-align: right;\">10</td><td style = \"text-align: left;\">2020-06-19</td><td style = \"text-align: right;\">52500</td><td style = \"text-align: right;\">0.96</td><td style = \"text-align: right;\">1.03</td><td style = \"text-align: right;\">0.95</td><td style = \"text-align: right;\">0.95</td><td style = \"text-align: right;\">0.95</td><td style = \"text-align: left;\">AACG</td></tr><tr><td class = \"rowNumber\" style = \"font-weight: bold; text-align: right;\">11</td><td style = \"text-align: left;\">2020-06-18</td><td style = \"text-align: right;\">113400</td><td style = \"text-align: right;\">1.08</td><td style = \"text-align: right;\">1.13</td><td style = \"text-align: right;\">0.93</td><td style = \"text-align: right;\">1.0</td><td style = \"text-align: right;\">1.0</td><td style = \"text-align: left;\">AACG</td></tr><tr><td class = \"rowNumber\" style = \"font-weight: bold; text-align: right;\">12</td><td style = \"text-align: left;\">2020-06-17</td><td style = \"text-align: right;\">136600</td><td style = \"text-align: right;\">1.26</td><td style = \"text-align: right;\">1.3</td><td style = \"text-align: right;\">1.11</td><td style = \"text-align: right;\">1.12</td><td style = \"text-align: right;\">1.12</td><td style = \"text-align: left;\">AACG</td></tr><tr><td class = \"rowNumber\" style = \"font-weight: bold; text-align: right;\">13</td><td style = \"text-align: left;\">2020-06-16</td><td style = \"text-align: right;\">1621800</td><td style = \"text-align: right;\">1.33</td><td style = \"text-align: right;\">1.8</td><td style = \"text-align: right;\">1.12</td><td style = \"text-align: right;\">1.12</td><td style = \"text-align: right;\">1.12</td><td style = \"text-align: left;\">AACG</td></tr><tr><td style = \"text-align: right;\">&vellip;</td><td style = \"text-align: right;\">&vellip;</td><td style = \"text-align: right;\">&vellip;</td><td style = \"text-align: right;\">&vellip;</td><td style = \"text-align: right;\">&vellip;</td><td style = \"text-align: right;\">&vellip;</td><td style = \"text-align: right;\">&vellip;</td><td style = \"text-align: right;\">&vellip;</td><td style = \"text-align: right;\">&vellip;</td></tr><tr><td class = \"rowNumber\" style = \"font-weight: bold; text-align: right;\">322</td><td style = \"text-align: left;\">2019-03-26</td><td style = \"text-align: right;\">49100</td><td style = \"text-align: right;\">1.0</td><td style = \"text-align: right;\">1.01</td><td style = \"text-align: right;\">1.0</td><td style = \"text-align: right;\">1.0</td><td style = \"text-align: right;\">1.0</td><td style = \"text-align: left;\">AACG</td></tr><tr><td class = \"rowNumber\" style = \"font-weight: bold; text-align: right;\">323</td><td style = \"text-align: left;\">2019-03-25</td><td style = \"text-align: right;\">43800</td><td style = \"text-align: right;\">1.01</td><td style = \"text-align: right;\">1.01</td><td style = \"text-align: right;\">0.96</td><td style = \"text-align: right;\">0.99</td><td style = \"text-align: right;\">0.99</td><td style = \"text-align: left;\">AACG</td></tr><tr><td class = \"rowNumber\" style = \"font-weight: bold; text-align: right;\">324</td><td style = \"text-align: left;\">2019-03-22</td><td style = \"text-align: right;\">29100</td><td style = \"text-align: right;\">1.03</td><td style = \"text-align: right;\">1.03</td><td style = \"text-align: right;\">1.0</td><td style = \"text-align: right;\">1.03</td><td style = \"text-align: right;\">1.03</td><td style = \"text-align: left;\">AACG</td></tr><tr><td class = \"rowNumber\" style = \"font-weight: bold; text-align: right;\">325</td><td style = \"text-align: left;\">2019-03-21</td><td style = \"text-align: right;\">10200</td><td style = \"text-align: right;\">1.01</td><td style = \"text-align: right;\">1.03</td><td style = \"text-align: right;\">1.01</td><td style = \"text-align: right;\">1.03</td><td style = \"text-align: right;\">1.03</td><td style = \"text-align: left;\">AACG</td></tr><tr><td class = \"rowNumber\" style = \"font-weight: bold; text-align: right;\">326</td><td style = \"text-align: left;\">2019-03-20</td><td style = \"text-align: right;\">41000</td><td style = \"text-align: right;\">1.04</td><td style = \"text-align: right;\">1.04</td><td style = \"text-align: right;\">1.0</td><td style = \"text-align: right;\">1.01</td><td style = \"text-align: right;\">1.01</td><td style = \"text-align: left;\">AACG</td></tr><tr><td class = \"rowNumber\" style = \"font-weight: bold; text-align: right;\">327</td><td style = \"text-align: left;\">2019-03-19</td><td style = \"text-align: right;\">122800</td><td style = \"text-align: right;\">1.08</td><td style = \"text-align: right;\">1.08</td><td style = \"text-align: right;\">1.0</td><td style = \"text-align: right;\">1.06</td><td style = \"text-align: right;\">1.06</td><td style = \"text-align: left;\">AACG</td></tr><tr><td class = \"rowNumber\" style = \"font-weight: bold; text-align: right;\">328</td><td style = \"text-align: left;\">2019-03-18</td><td style = \"text-align: right;\">48800</td><td style = \"text-align: right;\">1.07</td><td style = \"text-align: right;\">1.07</td><td style = \"text-align: right;\">1.03</td><td style = \"text-align: right;\">1.07</td><td style = \"text-align: right;\">1.07</td><td style = \"text-align: left;\">AACG</td></tr><tr><td class = \"rowNumber\" style = \"font-weight: bold; text-align: right;\">329</td><td style = \"text-align: left;\">2019-03-15</td><td style = \"text-align: right;\">30900</td><td style = \"text-align: right;\">1.06</td><td style = \"text-align: right;\">1.08</td><td style = \"text-align: right;\">1.04</td><td style = \"text-align: right;\">1.04</td><td style = \"text-align: right;\">1.04</td><td style = \"text-align: left;\">AACG</td></tr><tr><td class = \"rowNumber\" style = \"font-weight: bold; text-align: right;\">330</td><td style = \"text-align: left;\">2019-03-14</td><td style = \"text-align: right;\">29900</td><td style = \"text-align: right;\">1.06</td><td style = \"text-align: right;\">1.11</td><td style = \"text-align: right;\">1.06</td><td style = \"text-align: right;\">1.08</td><td style = \"text-align: right;\">1.08</td><td style = \"text-align: left;\">AACG</td></tr><tr><td class = \"rowNumber\" style = \"font-weight: bold; text-align: right;\">331</td><td style = \"text-align: left;\">2019-03-13</td><td style = \"text-align: right;\">23100</td><td style = \"text-align: right;\">1.06</td><td style = \"text-align: right;\">1.08</td><td style = \"text-align: right;\">1.04</td><td style = \"text-align: right;\">1.07</td><td style = \"text-align: right;\">1.07</td><td style = \"text-align: left;\">AACG</td></tr><tr><td class = \"rowNumber\" style = \"font-weight: bold; text-align: right;\">332</td><td style = \"text-align: left;\">2019-03-12</td><td style = \"text-align: right;\">20200</td><td style = \"text-align: right;\">1.08</td><td style = \"text-align: right;\">1.09</td><td style = \"text-align: right;\">1.05</td><td style = \"text-align: right;\">1.05</td><td style = \"text-align: right;\">1.05</td><td style = \"text-align: left;\">AACG</td></tr><tr><td class = \"rowNumber\" style = \"font-weight: bold; text-align: right;\">333</td><td style = \"text-align: left;\">2019-03-11</td><td style = \"text-align: right;\">32100</td><td style = \"text-align: right;\">1.08</td><td style = \"text-align: right;\">1.1</td><td style = \"text-align: right;\">1.08</td><td style = \"text-align: right;\">1.08</td><td style = \"text-align: right;\">1.08</td><td style = \"text-align: left;\">AACG</td></tr></tbody></table></div>"
      ],
      "text/latex": [
       "GroupedDataFrame with 2 groups based on key: symbol\n",
       "\n",
       "First Group (474 rows): symbol = \"AAAU\"\n",
       "\n",
       "\\begin{tabular}{r|cccccccc}\n",
       "\t& date & volume & open & high & low & close & adjclose & symbol\\\\\n",
       "\t\\hline\n",
       "\t& Date & Int64 & Float64 & Float64 & Float64 & Float64 & Float64 & String7\\\\\n",
       "\t\\hline\n",
       "\t1 & 2020-07-02 & 257500 & 17.64 & 17.74 & 17.62 & 17.71 & 17.71 & AAAU \\\\\n",
       "\t2 & 2020-07-01 & 468100 & 17.73 & 17.73 & 17.54 & 17.68 & 17.68 & AAAU \\\\\n",
       "\t3 & 2020-06-30 & 319100 & 17.65 & 17.8 & 17.61 & 17.78 & 17.78 & AAAU \\\\\n",
       "\t4 & 2020-06-29 & 405500 & 17.67 & 17.69 & 17.63 & 17.68 & 17.68 & AAAU \\\\\n",
       "\t5 & 2020-06-26 & 335100 & 17.49 & 17.67 & 17.42 & 17.67 & 17.67 & AAAU \\\\\n",
       "\t6 & 2020-06-25 & 246800 & 17.6 & 17.6 & 17.52 & 17.59 & 17.59 & AAAU \\\\\n",
       "\t7 & 2020-06-24 & 329200 & 17.61 & 17.71 & 17.56 & 17.61 & 17.61 & AAAU \\\\\n",
       "\t8 & 2020-06-23 & 351800 & 17.55 & 17.66 & 17.55 & 17.66 & 17.66 & AAAU \\\\\n",
       "\t9 & 2020-06-22 & 308300 & 17.5 & 17.57 & 17.44 & 17.5 & 17.5 & AAAU \\\\\n",
       "\t10 & 2020-06-19 & 153800 & 17.27 & 17.4 & 17.26 & 17.4 & 17.4 & AAAU \\\\\n",
       "\t11 & 2020-06-18 & 102200 & 17.27 & 17.27 & 17.14 & 17.23 & 17.23 & AAAU \\\\\n",
       "\t12 & 2020-06-17 & 153900 & 17.19 & 17.25 & 17.16 & 17.25 & 17.25 & AAAU \\\\\n",
       "\t13 & 2020-06-16 & 165800 & 17.15 & 17.25 & 17.11 & 17.21 & 17.21 & AAAU \\\\\n",
       "\t14 & 2020-06-15 & 308700 & 17.03 & 17.23 & 17.0 & 17.2 & 17.2 & AAAU \\\\\n",
       "\t15 & 2020-06-12 & 161400 & 17.34 & 17.37 & 17.25 & 17.27 & 17.27 & AAAU \\\\\n",
       "\t16 & 2020-06-11 & 308800 & 17.33 & 17.4 & 17.17 & 17.23 & 17.23 & AAAU \\\\\n",
       "\t17 & 2020-06-10 & 316900 & 17.2 & 17.35 & 17.08 & 17.35 & 17.35 & AAAU \\\\\n",
       "\t18 & 2020-06-09 & 296100 & 17.11 & 17.18 & 17.07 & 17.11 & 17.11 & AAAU \\\\\n",
       "\t19 & 2020-06-08 & 386900 & 16.85 & 16.95 & 16.81 & 16.95 & 16.95 & AAAU \\\\\n",
       "\t20 & 2020-06-05 & 510400 & 16.84 & 16.84 & 16.67 & 16.76 & 16.76 & AAAU \\\\\n",
       "\t21 & 2020-06-04 & 270800 & 17.07 & 17.16 & 16.95 & 17.11 & 17.11 & AAAU \\\\\n",
       "\t22 & 2020-06-03 & 480300 & 17.01 & 17.06 & 16.84 & 16.92 & 16.92 & AAAU \\\\\n",
       "\t23 & 2020-06-02 & 166100 & 17.39 & 17.4 & 17.17 & 17.24 & 17.24 & AAAU \\\\\n",
       "\t24 & 2020-06-01 & 388700 & 17.3 & 17.37 & 17.24 & 17.37 & 17.37 & AAAU \\\\\n",
       "\t25 & 2020-05-29 & 426100 & 17.25 & 17.32 & 17.22 & 17.27 & 17.27 & AAAU \\\\\n",
       "\t26 & 2020-05-28 & 227500 & 17.21 & 17.22 & 17.07 & 17.16 & 17.16 & AAAU \\\\\n",
       "\t27 & 2020-05-27 & 480900 & 16.9 & 17.11 & 16.88 & 17.1 & 17.1 & AAAU \\\\\n",
       "\t28 & 2020-05-26 & 559900 & 17.26 & 17.26 & 17.04 & 17.05 & 17.05 & AAAU \\\\\n",
       "\t29 & 2020-05-22 & 202300 & 17.28 & 17.33 & 17.26 & 17.3 & 17.3 & AAAU \\\\\n",
       "\t30 & 2020-05-21 & 377500 & 17.34 & 17.35 & 17.12 & 17.21 & 17.21 & AAAU \\\\\n",
       "\t$\\dots$ & $\\dots$ & $\\dots$ & $\\dots$ & $\\dots$ & $\\dots$ & $\\dots$ & $\\dots$ & $\\dots$ \\\\\n",
       "\\end{tabular}\n",
       "\n",
       "$\\dots$\n",
       "\n",
       "Last Group (333 rows): symbol = \"AACG\"\n",
       "\n",
       "\\begin{tabular}{r|cccccccc}\n",
       "\t& date & volume & open & high & low & close & adjclose & symbol\\\\\n",
       "\t\\hline\n",
       "\t& Date & Int64 & Float64 & Float64 & Float64 & Float64 & Float64 & String7\\\\\n",
       "\t\\hline\n",
       "\t1 & 2020-07-02 & 46800 & 1.3 & 1.39 & 1.3 & 1.31 & 1.31 & AACG \\\\\n",
       "\t2 & 2020-07-01 & 95400 & 1.25 & 1.4 & 1.18 & 1.31 & 1.31 & AACG \\\\\n",
       "\t3 & 2020-06-30 & 40200 & 1.16 & 1.27 & 1.16 & 1.26 & 1.26 & AACG \\\\\n",
       "\t4 & 2020-06-29 & 46900 & 1.15 & 1.25 & 1.15 & 1.17 & 1.17 & AACG \\\\\n",
       "\t5 & 2020-06-26 & 43700 & 1.12 & 1.18 & 1.12 & 1.15 & 1.15 & AACG \\\\\n",
       "\t6 & 2020-06-25 & 72900 & 1.22 & 1.25 & 1.11 & 1.23 & 1.23 & AACG \\\\\n",
       "\t7 & 2020-06-24 & 80400 & 1.14 & 1.3 & 1.14 & 1.25 & 1.25 & AACG \\\\\n",
       "\t8 & 2020-06-23 & 57000 & 1.19 & 1.22 & 1.14 & 1.17 & 1.17 & AACG \\\\\n",
       "\t9 & 2020-06-22 & 115500 & 1.0 & 1.17 & 0.97 & 1.14 & 1.14 & AACG \\\\\n",
       "\t10 & 2020-06-19 & 52500 & 0.96 & 1.03 & 0.95 & 0.95 & 0.95 & AACG \\\\\n",
       "\t11 & 2020-06-18 & 113400 & 1.08 & 1.13 & 0.93 & 1.0 & 1.0 & AACG \\\\\n",
       "\t12 & 2020-06-17 & 136600 & 1.26 & 1.3 & 1.11 & 1.12 & 1.12 & AACG \\\\\n",
       "\t13 & 2020-06-16 & 1621800 & 1.33 & 1.8 & 1.12 & 1.12 & 1.12 & AACG \\\\\n",
       "\t14 & 2020-06-15 & 159200 & 1.14 & 1.36 & 1.14 & 1.29 & 1.29 & AACG \\\\\n",
       "\t15 & 2020-06-12 & 64200 & 1.2 & 1.23 & 1.01 & 1.14 & 1.14 & AACG \\\\\n",
       "\t16 & 2020-06-11 & 416100 & 1.31 & 1.5 & 1.02 & 1.12 & 1.12 & AACG \\\\\n",
       "\t17 & 2020-06-10 & 30500 & 0.93 & 1.0 & 0.93 & 1.0 & 1.0 & AACG \\\\\n",
       "\t18 & 2020-06-09 & 17100 & 0.93 & 0.93 & 0.83 & 0.92 & 0.92 & AACG \\\\\n",
       "\t19 & 2020-06-08 & 32600 & 0.9 & 0.93 & 0.82 & 0.89 & 0.89 & AACG \\\\\n",
       "\t20 & 2020-06-05 & 30000 & 0.87 & 0.91 & 0.8 & 0.86 & 0.86 & AACG \\\\\n",
       "\t21 & 2020-06-04 & 7900 & 0.88 & 0.91 & 0.84 & 0.86 & 0.86 & AACG \\\\\n",
       "\t22 & 2020-06-03 & 6600 & 0.84 & 0.96 & 0.84 & 0.91 & 0.91 & AACG \\\\\n",
       "\t23 & 2020-06-02 & 4100 & 0.87 & 0.92 & 0.87 & 0.88 & 0.88 & AACG \\\\\n",
       "\t24 & 2020-06-01 & 6200 & 0.9 & 0.95 & 0.87 & 0.91 & 0.91 & AACG \\\\\n",
       "\t25 & 2020-05-29 & 6200 & 0.95 & 0.95 & 0.9 & 0.9 & 0.9 & AACG \\\\\n",
       "\t26 & 2020-05-28 & 10100 & 0.92 & 0.95 & 0.92 & 0.94 & 0.94 & AACG \\\\\n",
       "\t27 & 2020-05-27 & 10100 & 0.89 & 0.93 & 0.89 & 0.9 & 0.9 & AACG \\\\\n",
       "\t28 & 2020-05-26 & 8000 & 0.88 & 0.9 & 0.88 & 0.9 & 0.9 & AACG \\\\\n",
       "\t29 & 2020-05-22 & 8600 & 0.9 & 0.9 & 0.83 & 0.83 & 0.83 & AACG \\\\\n",
       "\t30 & 2020-05-21 & 37700 & 0.96 & 0.96 & 0.88 & 0.9 & 0.9 & AACG \\\\\n",
       "\t$\\dots$ & $\\dots$ & $\\dots$ & $\\dots$ & $\\dots$ & $\\dots$ & $\\dots$ & $\\dots$ & $\\dots$ \\\\\n",
       "\\end{tabular}\n"
      ],
      "text/plain": [
       "GroupedDataFrame with 2 groups based on key: symbol\n",
       "First Group (474 rows): symbol = \"AAAU\"\n",
       "\u001b[1m Row \u001b[0m│\u001b[1m date       \u001b[0m\u001b[1m volume \u001b[0m\u001b[1m open    \u001b[0m\u001b[1m high    \u001b[0m\u001b[1m low     \u001b[0m\u001b[1m close   \u001b[0m\u001b[1m adjclose \u001b[0m\u001b[1m symbo\u001b[0m ⋯\n",
       "     │\u001b[90m Date       \u001b[0m\u001b[90m Int64  \u001b[0m\u001b[90m Float64 \u001b[0m\u001b[90m Float64 \u001b[0m\u001b[90m Float64 \u001b[0m\u001b[90m Float64 \u001b[0m\u001b[90m Float64  \u001b[0m\u001b[90m Strin\u001b[0m ⋯\n",
       "─────┼──────────────────────────────────────────────────────────────────────────\n",
       "   1 │ 2020-07-02  257500    17.64    17.74    17.62    17.71     17.71  AAAU  ⋯\n",
       "   2 │ 2020-07-01  468100    17.73    17.73    17.54    17.68     17.68  AAAU\n",
       "   3 │ 2020-06-30  319100    17.65    17.8     17.61    17.78     17.78  AAAU\n",
       "   4 │ 2020-06-29  405500    17.67    17.69    17.63    17.68     17.68  AAAU\n",
       "  ⋮  │     ⋮         ⋮        ⋮        ⋮        ⋮        ⋮        ⋮         ⋮  ⋱\n",
       " 472 │ 2018-08-17   52400    11.8     11.82    11.77    11.82     11.82  AAAU  ⋯\n",
       " 473 │ 2018-08-16  428400    11.78    11.8     11.74    11.74     11.74  AAAU\n",
       " 474 │ 2018-08-15   27300    11.84    11.84    11.74    11.74     11.74  AAAU\n",
       "\u001b[36m                                                   1 column and 467 rows omitted\u001b[0m\n",
       "⋮\n",
       "Last Group (333 rows): symbol = \"AACG\"\n",
       "\u001b[1m Row \u001b[0m│\u001b[1m date       \u001b[0m\u001b[1m volume \u001b[0m\u001b[1m open    \u001b[0m\u001b[1m high    \u001b[0m\u001b[1m low     \u001b[0m\u001b[1m close   \u001b[0m\u001b[1m adjclose \u001b[0m\u001b[1m symbo\u001b[0m ⋯\n",
       "     │\u001b[90m Date       \u001b[0m\u001b[90m Int64  \u001b[0m\u001b[90m Float64 \u001b[0m\u001b[90m Float64 \u001b[0m\u001b[90m Float64 \u001b[0m\u001b[90m Float64 \u001b[0m\u001b[90m Float64  \u001b[0m\u001b[90m Strin\u001b[0m ⋯\n",
       "─────┼──────────────────────────────────────────────────────────────────────────\n",
       "   1 │ 2020-07-02   46800     1.3      1.39     1.3      1.31      1.31  AACG  ⋯\n",
       "   2 │ 2020-07-01   95400     1.25     1.4      1.18     1.31      1.31  AACG\n",
       "   3 │ 2020-06-30   40200     1.16     1.27     1.16     1.26      1.26  AACG\n",
       "  ⋮  │     ⋮         ⋮        ⋮        ⋮        ⋮        ⋮        ⋮         ⋮  ⋱\n",
       " 331 │ 2019-03-13   23100     1.06     1.08     1.04     1.07      1.07  AACG\n",
       " 332 │ 2019-03-12   20200     1.08     1.09     1.05     1.05      1.05  AACG  ⋯\n",
       " 333 │ 2019-03-11   32100     1.08     1.1      1.08     1.08      1.08  AACG\n",
       "\u001b[36m                                                   1 column and 327 rows omitted\u001b[0m"
      ]
     },
     "execution_count": 58,
     "metadata": {},
     "output_type": "execute_result"
    }
   ],
   "source": [
    "gdf[1:2]"
   ]
  },
  {
   "cell_type": "code",
   "execution_count": 59,
   "metadata": {},
   "outputs": [
    {
     "data": {
      "text/html": [
       "<p><b>GroupedDataFrame with 2 groups based on key: symbol</b></p><div><div style = \"float: left;\"><span>First Group (474 rows): symbol = &quot;AAAU&quot;</span></div><div style = \"float: right;\"><span style = \"font-style: italic;\">449 rows omitted</span></div><div style = \"clear: both;\"></div></div><div class = \"data-frame\" style = \"overflow-x: scroll;\"><table class = \"data-frame\" style = \"margin-bottom: 6px;\"><thead><tr class = \"header\"><th class = \"rowNumber\" style = \"font-weight: bold; text-align: right;\">Row</th><th style = \"text-align: left;\">date</th><th style = \"text-align: left;\">volume</th><th style = \"text-align: left;\">open</th><th style = \"text-align: left;\">high</th><th style = \"text-align: left;\">low</th><th style = \"text-align: left;\">close</th><th style = \"text-align: left;\">adjclose</th><th style = \"text-align: left;\">symbol</th></tr><tr class = \"subheader headerLastRow\"><th class = \"rowNumber\" style = \"font-weight: bold; text-align: right;\"></th><th title = \"Date\" style = \"text-align: left;\">Date</th><th title = \"Int64\" style = \"text-align: left;\">Int64</th><th title = \"Float64\" style = \"text-align: left;\">Float64</th><th title = \"Float64\" style = \"text-align: left;\">Float64</th><th title = \"Float64\" style = \"text-align: left;\">Float64</th><th title = \"Float64\" style = \"text-align: left;\">Float64</th><th title = \"Float64\" style = \"text-align: left;\">Float64</th><th title = \"String7\" style = \"text-align: left;\">String7</th></tr></thead><tbody><tr><td class = \"rowNumber\" style = \"font-weight: bold; text-align: right;\">1</td><td style = \"text-align: left;\">2020-07-02</td><td style = \"text-align: right;\">257500</td><td style = \"text-align: right;\">17.64</td><td style = \"text-align: right;\">17.74</td><td style = \"text-align: right;\">17.62</td><td style = \"text-align: right;\">17.71</td><td style = \"text-align: right;\">17.71</td><td style = \"text-align: left;\">AAAU</td></tr><tr><td class = \"rowNumber\" style = \"font-weight: bold; text-align: right;\">2</td><td style = \"text-align: left;\">2020-07-01</td><td style = \"text-align: right;\">468100</td><td style = \"text-align: right;\">17.73</td><td style = \"text-align: right;\">17.73</td><td style = \"text-align: right;\">17.54</td><td style = \"text-align: right;\">17.68</td><td style = \"text-align: right;\">17.68</td><td style = \"text-align: left;\">AAAU</td></tr><tr><td class = \"rowNumber\" style = \"font-weight: bold; text-align: right;\">3</td><td style = \"text-align: left;\">2020-06-30</td><td style = \"text-align: right;\">319100</td><td style = \"text-align: right;\">17.65</td><td style = \"text-align: right;\">17.8</td><td style = \"text-align: right;\">17.61</td><td style = \"text-align: right;\">17.78</td><td style = \"text-align: right;\">17.78</td><td style = \"text-align: left;\">AAAU</td></tr><tr><td class = \"rowNumber\" style = \"font-weight: bold; text-align: right;\">4</td><td style = \"text-align: left;\">2020-06-29</td><td style = \"text-align: right;\">405500</td><td style = \"text-align: right;\">17.67</td><td style = \"text-align: right;\">17.69</td><td style = \"text-align: right;\">17.63</td><td style = \"text-align: right;\">17.68</td><td style = \"text-align: right;\">17.68</td><td style = \"text-align: left;\">AAAU</td></tr><tr><td class = \"rowNumber\" style = \"font-weight: bold; text-align: right;\">5</td><td style = \"text-align: left;\">2020-06-26</td><td style = \"text-align: right;\">335100</td><td style = \"text-align: right;\">17.49</td><td style = \"text-align: right;\">17.67</td><td style = \"text-align: right;\">17.42</td><td style = \"text-align: right;\">17.67</td><td style = \"text-align: right;\">17.67</td><td style = \"text-align: left;\">AAAU</td></tr><tr><td class = \"rowNumber\" style = \"font-weight: bold; text-align: right;\">6</td><td style = \"text-align: left;\">2020-06-25</td><td style = \"text-align: right;\">246800</td><td style = \"text-align: right;\">17.6</td><td style = \"text-align: right;\">17.6</td><td style = \"text-align: right;\">17.52</td><td style = \"text-align: right;\">17.59</td><td style = \"text-align: right;\">17.59</td><td style = \"text-align: left;\">AAAU</td></tr><tr><td class = \"rowNumber\" style = \"font-weight: bold; text-align: right;\">7</td><td style = \"text-align: left;\">2020-06-24</td><td style = \"text-align: right;\">329200</td><td style = \"text-align: right;\">17.61</td><td style = \"text-align: right;\">17.71</td><td style = \"text-align: right;\">17.56</td><td style = \"text-align: right;\">17.61</td><td style = \"text-align: right;\">17.61</td><td style = \"text-align: left;\">AAAU</td></tr><tr><td class = \"rowNumber\" style = \"font-weight: bold; text-align: right;\">8</td><td style = \"text-align: left;\">2020-06-23</td><td style = \"text-align: right;\">351800</td><td style = \"text-align: right;\">17.55</td><td style = \"text-align: right;\">17.66</td><td style = \"text-align: right;\">17.55</td><td style = \"text-align: right;\">17.66</td><td style = \"text-align: right;\">17.66</td><td style = \"text-align: left;\">AAAU</td></tr><tr><td class = \"rowNumber\" style = \"font-weight: bold; text-align: right;\">9</td><td style = \"text-align: left;\">2020-06-22</td><td style = \"text-align: right;\">308300</td><td style = \"text-align: right;\">17.5</td><td style = \"text-align: right;\">17.57</td><td style = \"text-align: right;\">17.44</td><td style = \"text-align: right;\">17.5</td><td style = \"text-align: right;\">17.5</td><td style = \"text-align: left;\">AAAU</td></tr><tr><td class = \"rowNumber\" style = \"font-weight: bold; text-align: right;\">10</td><td style = \"text-align: left;\">2020-06-19</td><td style = \"text-align: right;\">153800</td><td style = \"text-align: right;\">17.27</td><td style = \"text-align: right;\">17.4</td><td style = \"text-align: right;\">17.26</td><td style = \"text-align: right;\">17.4</td><td style = \"text-align: right;\">17.4</td><td style = \"text-align: left;\">AAAU</td></tr><tr><td class = \"rowNumber\" style = \"font-weight: bold; text-align: right;\">11</td><td style = \"text-align: left;\">2020-06-18</td><td style = \"text-align: right;\">102200</td><td style = \"text-align: right;\">17.27</td><td style = \"text-align: right;\">17.27</td><td style = \"text-align: right;\">17.14</td><td style = \"text-align: right;\">17.23</td><td style = \"text-align: right;\">17.23</td><td style = \"text-align: left;\">AAAU</td></tr><tr><td class = \"rowNumber\" style = \"font-weight: bold; text-align: right;\">12</td><td style = \"text-align: left;\">2020-06-17</td><td style = \"text-align: right;\">153900</td><td style = \"text-align: right;\">17.19</td><td style = \"text-align: right;\">17.25</td><td style = \"text-align: right;\">17.16</td><td style = \"text-align: right;\">17.25</td><td style = \"text-align: right;\">17.25</td><td style = \"text-align: left;\">AAAU</td></tr><tr><td class = \"rowNumber\" style = \"font-weight: bold; text-align: right;\">13</td><td style = \"text-align: left;\">2020-06-16</td><td style = \"text-align: right;\">165800</td><td style = \"text-align: right;\">17.15</td><td style = \"text-align: right;\">17.25</td><td style = \"text-align: right;\">17.11</td><td style = \"text-align: right;\">17.21</td><td style = \"text-align: right;\">17.21</td><td style = \"text-align: left;\">AAAU</td></tr><tr><td style = \"text-align: right;\">&vellip;</td><td style = \"text-align: right;\">&vellip;</td><td style = \"text-align: right;\">&vellip;</td><td style = \"text-align: right;\">&vellip;</td><td style = \"text-align: right;\">&vellip;</td><td style = \"text-align: right;\">&vellip;</td><td style = \"text-align: right;\">&vellip;</td><td style = \"text-align: right;\">&vellip;</td><td style = \"text-align: right;\">&vellip;</td></tr><tr><td class = \"rowNumber\" style = \"font-weight: bold; text-align: right;\">463</td><td style = \"text-align: left;\">2018-08-30</td><td style = \"text-align: right;\">804500</td><td style = \"text-align: right;\">12.03</td><td style = \"text-align: right;\">12.03</td><td style = \"text-align: right;\">11.97</td><td style = \"text-align: right;\">12.01</td><td style = \"text-align: right;\">12.01</td><td style = \"text-align: left;\">AAAU</td></tr><tr><td class = \"rowNumber\" style = \"font-weight: bold; text-align: right;\">464</td><td style = \"text-align: left;\">2018-08-29</td><td style = \"text-align: right;\">31800</td><td style = \"text-align: right;\">12.06</td><td style = \"text-align: right;\">12.06</td><td style = \"text-align: right;\">12.03</td><td style = \"text-align: right;\">12.05</td><td style = \"text-align: right;\">12.05</td><td style = \"text-align: left;\">AAAU</td></tr><tr><td class = \"rowNumber\" style = \"font-weight: bold; text-align: right;\">465</td><td style = \"text-align: left;\">2018-08-28</td><td style = \"text-align: right;\">30400</td><td style = \"text-align: right;\">12.13</td><td style = \"text-align: right;\">12.13</td><td style = \"text-align: right;\">12.01</td><td style = \"text-align: right;\">12.01</td><td style = \"text-align: right;\">12.01</td><td style = \"text-align: left;\">AAAU</td></tr><tr><td class = \"rowNumber\" style = \"font-weight: bold; text-align: right;\">466</td><td style = \"text-align: left;\">2018-08-27</td><td style = \"text-align: right;\">295100</td><td style = \"text-align: right;\">12.06</td><td style = \"text-align: right;\">12.13</td><td style = \"text-align: right;\">12.06</td><td style = \"text-align: right;\">12.1</td><td style = \"text-align: right;\">12.1</td><td style = \"text-align: left;\">AAAU</td></tr><tr><td class = \"rowNumber\" style = \"font-weight: bold; text-align: right;\">467</td><td style = \"text-align: left;\">2018-08-24</td><td style = \"text-align: right;\">106500</td><td style = \"text-align: right;\">11.97</td><td style = \"text-align: right;\">12.08</td><td style = \"text-align: right;\">11.96</td><td style = \"text-align: right;\">12.05</td><td style = \"text-align: right;\">12.05</td><td style = \"text-align: left;\">AAAU</td></tr><tr><td class = \"rowNumber\" style = \"font-weight: bold; text-align: right;\">468</td><td style = \"text-align: left;\">2018-08-23</td><td style = \"text-align: right;\">54800</td><td style = \"text-align: right;\">11.91</td><td style = \"text-align: right;\">11.92</td><td style = \"text-align: right;\">11.85</td><td style = \"text-align: right;\">11.85</td><td style = \"text-align: right;\">11.85</td><td style = \"text-align: left;\">AAAU</td></tr><tr><td class = \"rowNumber\" style = \"font-weight: bold; text-align: right;\">469</td><td style = \"text-align: left;\">2018-08-22</td><td style = \"text-align: right;\">101200</td><td style = \"text-align: right;\">11.98</td><td style = \"text-align: right;\">11.98</td><td style = \"text-align: right;\">11.94</td><td style = \"text-align: right;\">11.96</td><td style = \"text-align: right;\">11.96</td><td style = \"text-align: left;\">AAAU</td></tr><tr><td class = \"rowNumber\" style = \"font-weight: bold; text-align: right;\">470</td><td style = \"text-align: left;\">2018-08-21</td><td style = \"text-align: right;\">30600</td><td style = \"text-align: right;\">11.92</td><td style = \"text-align: right;\">11.95</td><td style = \"text-align: right;\">11.89</td><td style = \"text-align: right;\">11.93</td><td style = \"text-align: right;\">11.93</td><td style = \"text-align: left;\">AAAU</td></tr><tr><td class = \"rowNumber\" style = \"font-weight: bold; text-align: right;\">471</td><td style = \"text-align: left;\">2018-08-20</td><td style = \"text-align: right;\">28700</td><td style = \"text-align: right;\">11.88</td><td style = \"text-align: right;\">11.91</td><td style = \"text-align: right;\">11.85</td><td style = \"text-align: right;\">11.9</td><td style = \"text-align: right;\">11.9</td><td style = \"text-align: left;\">AAAU</td></tr><tr><td class = \"rowNumber\" style = \"font-weight: bold; text-align: right;\">472</td><td style = \"text-align: left;\">2018-08-17</td><td style = \"text-align: right;\">52400</td><td style = \"text-align: right;\">11.8</td><td style = \"text-align: right;\">11.82</td><td style = \"text-align: right;\">11.77</td><td style = \"text-align: right;\">11.82</td><td style = \"text-align: right;\">11.82</td><td style = \"text-align: left;\">AAAU</td></tr><tr><td class = \"rowNumber\" style = \"font-weight: bold; text-align: right;\">473</td><td style = \"text-align: left;\">2018-08-16</td><td style = \"text-align: right;\">428400</td><td style = \"text-align: right;\">11.78</td><td style = \"text-align: right;\">11.8</td><td style = \"text-align: right;\">11.74</td><td style = \"text-align: right;\">11.74</td><td style = \"text-align: right;\">11.74</td><td style = \"text-align: left;\">AAAU</td></tr><tr><td class = \"rowNumber\" style = \"font-weight: bold; text-align: right;\">474</td><td style = \"text-align: left;\">2018-08-15</td><td style = \"text-align: right;\">27300</td><td style = \"text-align: right;\">11.84</td><td style = \"text-align: right;\">11.84</td><td style = \"text-align: right;\">11.74</td><td style = \"text-align: right;\">11.74</td><td style = \"text-align: right;\">11.74</td><td style = \"text-align: left;\">AAAU</td></tr></tbody></table></div><p>&vellip;</p><div><div style = \"float: left;\"><span>Last Group (333 rows): symbol = &quot;AACG&quot;</span></div><div style = \"float: right;\"><span style = \"font-style: italic;\">308 rows omitted</span></div><div style = \"clear: both;\"></div></div><div class = \"data-frame\" style = \"overflow-x: scroll;\"><table class = \"data-frame\" style = \"margin-bottom: 6px;\"><thead><tr class = \"header\"><th class = \"rowNumber\" style = \"font-weight: bold; text-align: right;\">Row</th><th style = \"text-align: left;\">date</th><th style = \"text-align: left;\">volume</th><th style = \"text-align: left;\">open</th><th style = \"text-align: left;\">high</th><th style = \"text-align: left;\">low</th><th style = \"text-align: left;\">close</th><th style = \"text-align: left;\">adjclose</th><th style = \"text-align: left;\">symbol</th></tr><tr class = \"subheader headerLastRow\"><th class = \"rowNumber\" style = \"font-weight: bold; text-align: right;\"></th><th title = \"Date\" style = \"text-align: left;\">Date</th><th title = \"Int64\" style = \"text-align: left;\">Int64</th><th title = \"Float64\" style = \"text-align: left;\">Float64</th><th title = \"Float64\" style = \"text-align: left;\">Float64</th><th title = \"Float64\" style = \"text-align: left;\">Float64</th><th title = \"Float64\" style = \"text-align: left;\">Float64</th><th title = \"Float64\" style = \"text-align: left;\">Float64</th><th title = \"String7\" style = \"text-align: left;\">String7</th></tr></thead><tbody><tr><td class = \"rowNumber\" style = \"font-weight: bold; text-align: right;\">1</td><td style = \"text-align: left;\">2020-07-02</td><td style = \"text-align: right;\">46800</td><td style = \"text-align: right;\">1.3</td><td style = \"text-align: right;\">1.39</td><td style = \"text-align: right;\">1.3</td><td style = \"text-align: right;\">1.31</td><td style = \"text-align: right;\">1.31</td><td style = \"text-align: left;\">AACG</td></tr><tr><td class = \"rowNumber\" style = \"font-weight: bold; text-align: right;\">2</td><td style = \"text-align: left;\">2020-07-01</td><td style = \"text-align: right;\">95400</td><td style = \"text-align: right;\">1.25</td><td style = \"text-align: right;\">1.4</td><td style = \"text-align: right;\">1.18</td><td style = \"text-align: right;\">1.31</td><td style = \"text-align: right;\">1.31</td><td style = \"text-align: left;\">AACG</td></tr><tr><td class = \"rowNumber\" style = \"font-weight: bold; text-align: right;\">3</td><td style = \"text-align: left;\">2020-06-30</td><td style = \"text-align: right;\">40200</td><td style = \"text-align: right;\">1.16</td><td style = \"text-align: right;\">1.27</td><td style = \"text-align: right;\">1.16</td><td style = \"text-align: right;\">1.26</td><td style = \"text-align: right;\">1.26</td><td style = \"text-align: left;\">AACG</td></tr><tr><td class = \"rowNumber\" style = \"font-weight: bold; text-align: right;\">4</td><td style = \"text-align: left;\">2020-06-29</td><td style = \"text-align: right;\">46900</td><td style = \"text-align: right;\">1.15</td><td style = \"text-align: right;\">1.25</td><td style = \"text-align: right;\">1.15</td><td style = \"text-align: right;\">1.17</td><td style = \"text-align: right;\">1.17</td><td style = \"text-align: left;\">AACG</td></tr><tr><td class = \"rowNumber\" style = \"font-weight: bold; text-align: right;\">5</td><td style = \"text-align: left;\">2020-06-26</td><td style = \"text-align: right;\">43700</td><td style = \"text-align: right;\">1.12</td><td style = \"text-align: right;\">1.18</td><td style = \"text-align: right;\">1.12</td><td style = \"text-align: right;\">1.15</td><td style = \"text-align: right;\">1.15</td><td style = \"text-align: left;\">AACG</td></tr><tr><td class = \"rowNumber\" style = \"font-weight: bold; text-align: right;\">6</td><td style = \"text-align: left;\">2020-06-25</td><td style = \"text-align: right;\">72900</td><td style = \"text-align: right;\">1.22</td><td style = \"text-align: right;\">1.25</td><td style = \"text-align: right;\">1.11</td><td style = \"text-align: right;\">1.23</td><td style = \"text-align: right;\">1.23</td><td style = \"text-align: left;\">AACG</td></tr><tr><td class = \"rowNumber\" style = \"font-weight: bold; text-align: right;\">7</td><td style = \"text-align: left;\">2020-06-24</td><td style = \"text-align: right;\">80400</td><td style = \"text-align: right;\">1.14</td><td style = \"text-align: right;\">1.3</td><td style = \"text-align: right;\">1.14</td><td style = \"text-align: right;\">1.25</td><td style = \"text-align: right;\">1.25</td><td style = \"text-align: left;\">AACG</td></tr><tr><td class = \"rowNumber\" style = \"font-weight: bold; text-align: right;\">8</td><td style = \"text-align: left;\">2020-06-23</td><td style = \"text-align: right;\">57000</td><td style = \"text-align: right;\">1.19</td><td style = \"text-align: right;\">1.22</td><td style = \"text-align: right;\">1.14</td><td style = \"text-align: right;\">1.17</td><td style = \"text-align: right;\">1.17</td><td style = \"text-align: left;\">AACG</td></tr><tr><td class = \"rowNumber\" style = \"font-weight: bold; text-align: right;\">9</td><td style = \"text-align: left;\">2020-06-22</td><td style = \"text-align: right;\">115500</td><td style = \"text-align: right;\">1.0</td><td style = \"text-align: right;\">1.17</td><td style = \"text-align: right;\">0.97</td><td style = \"text-align: right;\">1.14</td><td style = \"text-align: right;\">1.14</td><td style = \"text-align: left;\">AACG</td></tr><tr><td class = \"rowNumber\" style = \"font-weight: bold; text-align: right;\">10</td><td style = \"text-align: left;\">2020-06-19</td><td style = \"text-align: right;\">52500</td><td style = \"text-align: right;\">0.96</td><td style = \"text-align: right;\">1.03</td><td style = \"text-align: right;\">0.95</td><td style = \"text-align: right;\">0.95</td><td style = \"text-align: right;\">0.95</td><td style = \"text-align: left;\">AACG</td></tr><tr><td class = \"rowNumber\" style = \"font-weight: bold; text-align: right;\">11</td><td style = \"text-align: left;\">2020-06-18</td><td style = \"text-align: right;\">113400</td><td style = \"text-align: right;\">1.08</td><td style = \"text-align: right;\">1.13</td><td style = \"text-align: right;\">0.93</td><td style = \"text-align: right;\">1.0</td><td style = \"text-align: right;\">1.0</td><td style = \"text-align: left;\">AACG</td></tr><tr><td class = \"rowNumber\" style = \"font-weight: bold; text-align: right;\">12</td><td style = \"text-align: left;\">2020-06-17</td><td style = \"text-align: right;\">136600</td><td style = \"text-align: right;\">1.26</td><td style = \"text-align: right;\">1.3</td><td style = \"text-align: right;\">1.11</td><td style = \"text-align: right;\">1.12</td><td style = \"text-align: right;\">1.12</td><td style = \"text-align: left;\">AACG</td></tr><tr><td class = \"rowNumber\" style = \"font-weight: bold; text-align: right;\">13</td><td style = \"text-align: left;\">2020-06-16</td><td style = \"text-align: right;\">1621800</td><td style = \"text-align: right;\">1.33</td><td style = \"text-align: right;\">1.8</td><td style = \"text-align: right;\">1.12</td><td style = \"text-align: right;\">1.12</td><td style = \"text-align: right;\">1.12</td><td style = \"text-align: left;\">AACG</td></tr><tr><td style = \"text-align: right;\">&vellip;</td><td style = \"text-align: right;\">&vellip;</td><td style = \"text-align: right;\">&vellip;</td><td style = \"text-align: right;\">&vellip;</td><td style = \"text-align: right;\">&vellip;</td><td style = \"text-align: right;\">&vellip;</td><td style = \"text-align: right;\">&vellip;</td><td style = \"text-align: right;\">&vellip;</td><td style = \"text-align: right;\">&vellip;</td></tr><tr><td class = \"rowNumber\" style = \"font-weight: bold; text-align: right;\">322</td><td style = \"text-align: left;\">2019-03-26</td><td style = \"text-align: right;\">49100</td><td style = \"text-align: right;\">1.0</td><td style = \"text-align: right;\">1.01</td><td style = \"text-align: right;\">1.0</td><td style = \"text-align: right;\">1.0</td><td style = \"text-align: right;\">1.0</td><td style = \"text-align: left;\">AACG</td></tr><tr><td class = \"rowNumber\" style = \"font-weight: bold; text-align: right;\">323</td><td style = \"text-align: left;\">2019-03-25</td><td style = \"text-align: right;\">43800</td><td style = \"text-align: right;\">1.01</td><td style = \"text-align: right;\">1.01</td><td style = \"text-align: right;\">0.96</td><td style = \"text-align: right;\">0.99</td><td style = \"text-align: right;\">0.99</td><td style = \"text-align: left;\">AACG</td></tr><tr><td class = \"rowNumber\" style = \"font-weight: bold; text-align: right;\">324</td><td style = \"text-align: left;\">2019-03-22</td><td style = \"text-align: right;\">29100</td><td style = \"text-align: right;\">1.03</td><td style = \"text-align: right;\">1.03</td><td style = \"text-align: right;\">1.0</td><td style = \"text-align: right;\">1.03</td><td style = \"text-align: right;\">1.03</td><td style = \"text-align: left;\">AACG</td></tr><tr><td class = \"rowNumber\" style = \"font-weight: bold; text-align: right;\">325</td><td style = \"text-align: left;\">2019-03-21</td><td style = \"text-align: right;\">10200</td><td style = \"text-align: right;\">1.01</td><td style = \"text-align: right;\">1.03</td><td style = \"text-align: right;\">1.01</td><td style = \"text-align: right;\">1.03</td><td style = \"text-align: right;\">1.03</td><td style = \"text-align: left;\">AACG</td></tr><tr><td class = \"rowNumber\" style = \"font-weight: bold; text-align: right;\">326</td><td style = \"text-align: left;\">2019-03-20</td><td style = \"text-align: right;\">41000</td><td style = \"text-align: right;\">1.04</td><td style = \"text-align: right;\">1.04</td><td style = \"text-align: right;\">1.0</td><td style = \"text-align: right;\">1.01</td><td style = \"text-align: right;\">1.01</td><td style = \"text-align: left;\">AACG</td></tr><tr><td class = \"rowNumber\" style = \"font-weight: bold; text-align: right;\">327</td><td style = \"text-align: left;\">2019-03-19</td><td style = \"text-align: right;\">122800</td><td style = \"text-align: right;\">1.08</td><td style = \"text-align: right;\">1.08</td><td style = \"text-align: right;\">1.0</td><td style = \"text-align: right;\">1.06</td><td style = \"text-align: right;\">1.06</td><td style = \"text-align: left;\">AACG</td></tr><tr><td class = \"rowNumber\" style = \"font-weight: bold; text-align: right;\">328</td><td style = \"text-align: left;\">2019-03-18</td><td style = \"text-align: right;\">48800</td><td style = \"text-align: right;\">1.07</td><td style = \"text-align: right;\">1.07</td><td style = \"text-align: right;\">1.03</td><td style = \"text-align: right;\">1.07</td><td style = \"text-align: right;\">1.07</td><td style = \"text-align: left;\">AACG</td></tr><tr><td class = \"rowNumber\" style = \"font-weight: bold; text-align: right;\">329</td><td style = \"text-align: left;\">2019-03-15</td><td style = \"text-align: right;\">30900</td><td style = \"text-align: right;\">1.06</td><td style = \"text-align: right;\">1.08</td><td style = \"text-align: right;\">1.04</td><td style = \"text-align: right;\">1.04</td><td style = \"text-align: right;\">1.04</td><td style = \"text-align: left;\">AACG</td></tr><tr><td class = \"rowNumber\" style = \"font-weight: bold; text-align: right;\">330</td><td style = \"text-align: left;\">2019-03-14</td><td style = \"text-align: right;\">29900</td><td style = \"text-align: right;\">1.06</td><td style = \"text-align: right;\">1.11</td><td style = \"text-align: right;\">1.06</td><td style = \"text-align: right;\">1.08</td><td style = \"text-align: right;\">1.08</td><td style = \"text-align: left;\">AACG</td></tr><tr><td class = \"rowNumber\" style = \"font-weight: bold; text-align: right;\">331</td><td style = \"text-align: left;\">2019-03-13</td><td style = \"text-align: right;\">23100</td><td style = \"text-align: right;\">1.06</td><td style = \"text-align: right;\">1.08</td><td style = \"text-align: right;\">1.04</td><td style = \"text-align: right;\">1.07</td><td style = \"text-align: right;\">1.07</td><td style = \"text-align: left;\">AACG</td></tr><tr><td class = \"rowNumber\" style = \"font-weight: bold; text-align: right;\">332</td><td style = \"text-align: left;\">2019-03-12</td><td style = \"text-align: right;\">20200</td><td style = \"text-align: right;\">1.08</td><td style = \"text-align: right;\">1.09</td><td style = \"text-align: right;\">1.05</td><td style = \"text-align: right;\">1.05</td><td style = \"text-align: right;\">1.05</td><td style = \"text-align: left;\">AACG</td></tr><tr><td class = \"rowNumber\" style = \"font-weight: bold; text-align: right;\">333</td><td style = \"text-align: left;\">2019-03-11</td><td style = \"text-align: right;\">32100</td><td style = \"text-align: right;\">1.08</td><td style = \"text-align: right;\">1.1</td><td style = \"text-align: right;\">1.08</td><td style = \"text-align: right;\">1.08</td><td style = \"text-align: right;\">1.08</td><td style = \"text-align: left;\">AACG</td></tr></tbody></table></div>"
      ],
      "text/latex": [
       "GroupedDataFrame with 2 groups based on key: symbol\n",
       "\n",
       "First Group (474 rows): symbol = \"AAAU\"\n",
       "\n",
       "\\begin{tabular}{r|cccccccc}\n",
       "\t& date & volume & open & high & low & close & adjclose & symbol\\\\\n",
       "\t\\hline\n",
       "\t& Date & Int64 & Float64 & Float64 & Float64 & Float64 & Float64 & String7\\\\\n",
       "\t\\hline\n",
       "\t1 & 2020-07-02 & 257500 & 17.64 & 17.74 & 17.62 & 17.71 & 17.71 & AAAU \\\\\n",
       "\t2 & 2020-07-01 & 468100 & 17.73 & 17.73 & 17.54 & 17.68 & 17.68 & AAAU \\\\\n",
       "\t3 & 2020-06-30 & 319100 & 17.65 & 17.8 & 17.61 & 17.78 & 17.78 & AAAU \\\\\n",
       "\t4 & 2020-06-29 & 405500 & 17.67 & 17.69 & 17.63 & 17.68 & 17.68 & AAAU \\\\\n",
       "\t5 & 2020-06-26 & 335100 & 17.49 & 17.67 & 17.42 & 17.67 & 17.67 & AAAU \\\\\n",
       "\t6 & 2020-06-25 & 246800 & 17.6 & 17.6 & 17.52 & 17.59 & 17.59 & AAAU \\\\\n",
       "\t7 & 2020-06-24 & 329200 & 17.61 & 17.71 & 17.56 & 17.61 & 17.61 & AAAU \\\\\n",
       "\t8 & 2020-06-23 & 351800 & 17.55 & 17.66 & 17.55 & 17.66 & 17.66 & AAAU \\\\\n",
       "\t9 & 2020-06-22 & 308300 & 17.5 & 17.57 & 17.44 & 17.5 & 17.5 & AAAU \\\\\n",
       "\t10 & 2020-06-19 & 153800 & 17.27 & 17.4 & 17.26 & 17.4 & 17.4 & AAAU \\\\\n",
       "\t11 & 2020-06-18 & 102200 & 17.27 & 17.27 & 17.14 & 17.23 & 17.23 & AAAU \\\\\n",
       "\t12 & 2020-06-17 & 153900 & 17.19 & 17.25 & 17.16 & 17.25 & 17.25 & AAAU \\\\\n",
       "\t13 & 2020-06-16 & 165800 & 17.15 & 17.25 & 17.11 & 17.21 & 17.21 & AAAU \\\\\n",
       "\t14 & 2020-06-15 & 308700 & 17.03 & 17.23 & 17.0 & 17.2 & 17.2 & AAAU \\\\\n",
       "\t15 & 2020-06-12 & 161400 & 17.34 & 17.37 & 17.25 & 17.27 & 17.27 & AAAU \\\\\n",
       "\t16 & 2020-06-11 & 308800 & 17.33 & 17.4 & 17.17 & 17.23 & 17.23 & AAAU \\\\\n",
       "\t17 & 2020-06-10 & 316900 & 17.2 & 17.35 & 17.08 & 17.35 & 17.35 & AAAU \\\\\n",
       "\t18 & 2020-06-09 & 296100 & 17.11 & 17.18 & 17.07 & 17.11 & 17.11 & AAAU \\\\\n",
       "\t19 & 2020-06-08 & 386900 & 16.85 & 16.95 & 16.81 & 16.95 & 16.95 & AAAU \\\\\n",
       "\t20 & 2020-06-05 & 510400 & 16.84 & 16.84 & 16.67 & 16.76 & 16.76 & AAAU \\\\\n",
       "\t21 & 2020-06-04 & 270800 & 17.07 & 17.16 & 16.95 & 17.11 & 17.11 & AAAU \\\\\n",
       "\t22 & 2020-06-03 & 480300 & 17.01 & 17.06 & 16.84 & 16.92 & 16.92 & AAAU \\\\\n",
       "\t23 & 2020-06-02 & 166100 & 17.39 & 17.4 & 17.17 & 17.24 & 17.24 & AAAU \\\\\n",
       "\t24 & 2020-06-01 & 388700 & 17.3 & 17.37 & 17.24 & 17.37 & 17.37 & AAAU \\\\\n",
       "\t25 & 2020-05-29 & 426100 & 17.25 & 17.32 & 17.22 & 17.27 & 17.27 & AAAU \\\\\n",
       "\t26 & 2020-05-28 & 227500 & 17.21 & 17.22 & 17.07 & 17.16 & 17.16 & AAAU \\\\\n",
       "\t27 & 2020-05-27 & 480900 & 16.9 & 17.11 & 16.88 & 17.1 & 17.1 & AAAU \\\\\n",
       "\t28 & 2020-05-26 & 559900 & 17.26 & 17.26 & 17.04 & 17.05 & 17.05 & AAAU \\\\\n",
       "\t29 & 2020-05-22 & 202300 & 17.28 & 17.33 & 17.26 & 17.3 & 17.3 & AAAU \\\\\n",
       "\t30 & 2020-05-21 & 377500 & 17.34 & 17.35 & 17.12 & 17.21 & 17.21 & AAAU \\\\\n",
       "\t$\\dots$ & $\\dots$ & $\\dots$ & $\\dots$ & $\\dots$ & $\\dots$ & $\\dots$ & $\\dots$ & $\\dots$ \\\\\n",
       "\\end{tabular}\n",
       "\n",
       "$\\dots$\n",
       "\n",
       "Last Group (333 rows): symbol = \"AACG\"\n",
       "\n",
       "\\begin{tabular}{r|cccccccc}\n",
       "\t& date & volume & open & high & low & close & adjclose & symbol\\\\\n",
       "\t\\hline\n",
       "\t& Date & Int64 & Float64 & Float64 & Float64 & Float64 & Float64 & String7\\\\\n",
       "\t\\hline\n",
       "\t1 & 2020-07-02 & 46800 & 1.3 & 1.39 & 1.3 & 1.31 & 1.31 & AACG \\\\\n",
       "\t2 & 2020-07-01 & 95400 & 1.25 & 1.4 & 1.18 & 1.31 & 1.31 & AACG \\\\\n",
       "\t3 & 2020-06-30 & 40200 & 1.16 & 1.27 & 1.16 & 1.26 & 1.26 & AACG \\\\\n",
       "\t4 & 2020-06-29 & 46900 & 1.15 & 1.25 & 1.15 & 1.17 & 1.17 & AACG \\\\\n",
       "\t5 & 2020-06-26 & 43700 & 1.12 & 1.18 & 1.12 & 1.15 & 1.15 & AACG \\\\\n",
       "\t6 & 2020-06-25 & 72900 & 1.22 & 1.25 & 1.11 & 1.23 & 1.23 & AACG \\\\\n",
       "\t7 & 2020-06-24 & 80400 & 1.14 & 1.3 & 1.14 & 1.25 & 1.25 & AACG \\\\\n",
       "\t8 & 2020-06-23 & 57000 & 1.19 & 1.22 & 1.14 & 1.17 & 1.17 & AACG \\\\\n",
       "\t9 & 2020-06-22 & 115500 & 1.0 & 1.17 & 0.97 & 1.14 & 1.14 & AACG \\\\\n",
       "\t10 & 2020-06-19 & 52500 & 0.96 & 1.03 & 0.95 & 0.95 & 0.95 & AACG \\\\\n",
       "\t11 & 2020-06-18 & 113400 & 1.08 & 1.13 & 0.93 & 1.0 & 1.0 & AACG \\\\\n",
       "\t12 & 2020-06-17 & 136600 & 1.26 & 1.3 & 1.11 & 1.12 & 1.12 & AACG \\\\\n",
       "\t13 & 2020-06-16 & 1621800 & 1.33 & 1.8 & 1.12 & 1.12 & 1.12 & AACG \\\\\n",
       "\t14 & 2020-06-15 & 159200 & 1.14 & 1.36 & 1.14 & 1.29 & 1.29 & AACG \\\\\n",
       "\t15 & 2020-06-12 & 64200 & 1.2 & 1.23 & 1.01 & 1.14 & 1.14 & AACG \\\\\n",
       "\t16 & 2020-06-11 & 416100 & 1.31 & 1.5 & 1.02 & 1.12 & 1.12 & AACG \\\\\n",
       "\t17 & 2020-06-10 & 30500 & 0.93 & 1.0 & 0.93 & 1.0 & 1.0 & AACG \\\\\n",
       "\t18 & 2020-06-09 & 17100 & 0.93 & 0.93 & 0.83 & 0.92 & 0.92 & AACG \\\\\n",
       "\t19 & 2020-06-08 & 32600 & 0.9 & 0.93 & 0.82 & 0.89 & 0.89 & AACG \\\\\n",
       "\t20 & 2020-06-05 & 30000 & 0.87 & 0.91 & 0.8 & 0.86 & 0.86 & AACG \\\\\n",
       "\t21 & 2020-06-04 & 7900 & 0.88 & 0.91 & 0.84 & 0.86 & 0.86 & AACG \\\\\n",
       "\t22 & 2020-06-03 & 6600 & 0.84 & 0.96 & 0.84 & 0.91 & 0.91 & AACG \\\\\n",
       "\t23 & 2020-06-02 & 4100 & 0.87 & 0.92 & 0.87 & 0.88 & 0.88 & AACG \\\\\n",
       "\t24 & 2020-06-01 & 6200 & 0.9 & 0.95 & 0.87 & 0.91 & 0.91 & AACG \\\\\n",
       "\t25 & 2020-05-29 & 6200 & 0.95 & 0.95 & 0.9 & 0.9 & 0.9 & AACG \\\\\n",
       "\t26 & 2020-05-28 & 10100 & 0.92 & 0.95 & 0.92 & 0.94 & 0.94 & AACG \\\\\n",
       "\t27 & 2020-05-27 & 10100 & 0.89 & 0.93 & 0.89 & 0.9 & 0.9 & AACG \\\\\n",
       "\t28 & 2020-05-26 & 8000 & 0.88 & 0.9 & 0.88 & 0.9 & 0.9 & AACG \\\\\n",
       "\t29 & 2020-05-22 & 8600 & 0.9 & 0.9 & 0.83 & 0.83 & 0.83 & AACG \\\\\n",
       "\t30 & 2020-05-21 & 37700 & 0.96 & 0.96 & 0.88 & 0.9 & 0.9 & AACG \\\\\n",
       "\t$\\dots$ & $\\dots$ & $\\dots$ & $\\dots$ & $\\dots$ & $\\dots$ & $\\dots$ & $\\dots$ & $\\dots$ \\\\\n",
       "\\end{tabular}\n"
      ],
      "text/plain": [
       "GroupedDataFrame with 2 groups based on key: symbol\n",
       "First Group (474 rows): symbol = \"AAAU\"\n",
       "\u001b[1m Row \u001b[0m│\u001b[1m date       \u001b[0m\u001b[1m volume \u001b[0m\u001b[1m open    \u001b[0m\u001b[1m high    \u001b[0m\u001b[1m low     \u001b[0m\u001b[1m close   \u001b[0m\u001b[1m adjclose \u001b[0m\u001b[1m symbo\u001b[0m ⋯\n",
       "     │\u001b[90m Date       \u001b[0m\u001b[90m Int64  \u001b[0m\u001b[90m Float64 \u001b[0m\u001b[90m Float64 \u001b[0m\u001b[90m Float64 \u001b[0m\u001b[90m Float64 \u001b[0m\u001b[90m Float64  \u001b[0m\u001b[90m Strin\u001b[0m ⋯\n",
       "─────┼──────────────────────────────────────────────────────────────────────────\n",
       "   1 │ 2020-07-02  257500    17.64    17.74    17.62    17.71     17.71  AAAU  ⋯\n",
       "   2 │ 2020-07-01  468100    17.73    17.73    17.54    17.68     17.68  AAAU\n",
       "   3 │ 2020-06-30  319100    17.65    17.8     17.61    17.78     17.78  AAAU\n",
       "   4 │ 2020-06-29  405500    17.67    17.69    17.63    17.68     17.68  AAAU\n",
       "  ⋮  │     ⋮         ⋮        ⋮        ⋮        ⋮        ⋮        ⋮         ⋮  ⋱\n",
       " 472 │ 2018-08-17   52400    11.8     11.82    11.77    11.82     11.82  AAAU  ⋯\n",
       " 473 │ 2018-08-16  428400    11.78    11.8     11.74    11.74     11.74  AAAU\n",
       " 474 │ 2018-08-15   27300    11.84    11.84    11.74    11.74     11.74  AAAU\n",
       "\u001b[36m                                                   1 column and 467 rows omitted\u001b[0m\n",
       "⋮\n",
       "Last Group (333 rows): symbol = \"AACG\"\n",
       "\u001b[1m Row \u001b[0m│\u001b[1m date       \u001b[0m\u001b[1m volume \u001b[0m\u001b[1m open    \u001b[0m\u001b[1m high    \u001b[0m\u001b[1m low     \u001b[0m\u001b[1m close   \u001b[0m\u001b[1m adjclose \u001b[0m\u001b[1m symbo\u001b[0m ⋯\n",
       "     │\u001b[90m Date       \u001b[0m\u001b[90m Int64  \u001b[0m\u001b[90m Float64 \u001b[0m\u001b[90m Float64 \u001b[0m\u001b[90m Float64 \u001b[0m\u001b[90m Float64 \u001b[0m\u001b[90m Float64  \u001b[0m\u001b[90m Strin\u001b[0m ⋯\n",
       "─────┼──────────────────────────────────────────────────────────────────────────\n",
       "   1 │ 2020-07-02   46800     1.3      1.39     1.3      1.31      1.31  AACG  ⋯\n",
       "   2 │ 2020-07-01   95400     1.25     1.4      1.18     1.31      1.31  AACG\n",
       "   3 │ 2020-06-30   40200     1.16     1.27     1.16     1.26      1.26  AACG\n",
       "  ⋮  │     ⋮         ⋮        ⋮        ⋮        ⋮        ⋮        ⋮         ⋮  ⋱\n",
       " 331 │ 2019-03-13   23100     1.06     1.08     1.04     1.07      1.07  AACG\n",
       " 332 │ 2019-03-12   20200     1.08     1.09     1.05     1.05      1.05  AACG  ⋯\n",
       " 333 │ 2019-03-11   32100     1.08     1.1      1.08     1.08      1.08  AACG\n",
       "\u001b[36m                                                   1 column and 327 rows omitted\u001b[0m"
      ]
     },
     "execution_count": 59,
     "metadata": {},
     "output_type": "execute_result"
    }
   ],
   "source": [
    "gdf[tuple.([\"AAAU\", \"AACG\"])]"
   ]
  },
  {
   "cell_type": "markdown",
   "metadata": {},
   "source": [
    "Lookup is backed by `Dict` so it is fast."
   ]
  },
  {
   "cell_type": "code",
   "execution_count": 60,
   "metadata": {},
   "outputs": [
    {
     "name": "stdout",
     "output_type": "stream",
     "text": [
      "  757.407 ns (10 allocations: 2.89 KiB)\n"
     ]
    },
    {
     "data": {
      "text/html": [
       "<div><div style = \"float: left;\"><span>333×8 SubDataFrame</span></div><div style = \"float: right;\"><span style = \"font-style: italic;\">308 rows omitted</span></div><div style = \"clear: both;\"></div></div><div class = \"data-frame\" style = \"overflow-x: scroll;\"><table class = \"data-frame\" style = \"margin-bottom: 6px;\"><thead><tr class = \"header\"><th class = \"rowNumber\" style = \"font-weight: bold; text-align: right;\">Row</th><th style = \"text-align: left;\">date</th><th style = \"text-align: left;\">volume</th><th style = \"text-align: left;\">open</th><th style = \"text-align: left;\">high</th><th style = \"text-align: left;\">low</th><th style = \"text-align: left;\">close</th><th style = \"text-align: left;\">adjclose</th><th style = \"text-align: left;\">symbol</th></tr><tr class = \"subheader headerLastRow\"><th class = \"rowNumber\" style = \"font-weight: bold; text-align: right;\"></th><th title = \"Date\" style = \"text-align: left;\">Date</th><th title = \"Int64\" style = \"text-align: left;\">Int64</th><th title = \"Float64\" style = \"text-align: left;\">Float64</th><th title = \"Float64\" style = \"text-align: left;\">Float64</th><th title = \"Float64\" style = \"text-align: left;\">Float64</th><th title = \"Float64\" style = \"text-align: left;\">Float64</th><th title = \"Float64\" style = \"text-align: left;\">Float64</th><th title = \"String7\" style = \"text-align: left;\">String7</th></tr></thead><tbody><tr><td class = \"rowNumber\" style = \"font-weight: bold; text-align: right;\">1</td><td style = \"text-align: left;\">2020-07-02</td><td style = \"text-align: right;\">46800</td><td style = \"text-align: right;\">1.3</td><td style = \"text-align: right;\">1.39</td><td style = \"text-align: right;\">1.3</td><td style = \"text-align: right;\">1.31</td><td style = \"text-align: right;\">1.31</td><td style = \"text-align: left;\">AACG</td></tr><tr><td class = \"rowNumber\" style = \"font-weight: bold; text-align: right;\">2</td><td style = \"text-align: left;\">2020-07-01</td><td style = \"text-align: right;\">95400</td><td style = \"text-align: right;\">1.25</td><td style = \"text-align: right;\">1.4</td><td style = \"text-align: right;\">1.18</td><td style = \"text-align: right;\">1.31</td><td style = \"text-align: right;\">1.31</td><td style = \"text-align: left;\">AACG</td></tr><tr><td class = \"rowNumber\" style = \"font-weight: bold; text-align: right;\">3</td><td style = \"text-align: left;\">2020-06-30</td><td style = \"text-align: right;\">40200</td><td style = \"text-align: right;\">1.16</td><td style = \"text-align: right;\">1.27</td><td style = \"text-align: right;\">1.16</td><td style = \"text-align: right;\">1.26</td><td style = \"text-align: right;\">1.26</td><td style = \"text-align: left;\">AACG</td></tr><tr><td class = \"rowNumber\" style = \"font-weight: bold; text-align: right;\">4</td><td style = \"text-align: left;\">2020-06-29</td><td style = \"text-align: right;\">46900</td><td style = \"text-align: right;\">1.15</td><td style = \"text-align: right;\">1.25</td><td style = \"text-align: right;\">1.15</td><td style = \"text-align: right;\">1.17</td><td style = \"text-align: right;\">1.17</td><td style = \"text-align: left;\">AACG</td></tr><tr><td class = \"rowNumber\" style = \"font-weight: bold; text-align: right;\">5</td><td style = \"text-align: left;\">2020-06-26</td><td style = \"text-align: right;\">43700</td><td style = \"text-align: right;\">1.12</td><td style = \"text-align: right;\">1.18</td><td style = \"text-align: right;\">1.12</td><td style = \"text-align: right;\">1.15</td><td style = \"text-align: right;\">1.15</td><td style = \"text-align: left;\">AACG</td></tr><tr><td class = \"rowNumber\" style = \"font-weight: bold; text-align: right;\">6</td><td style = \"text-align: left;\">2020-06-25</td><td style = \"text-align: right;\">72900</td><td style = \"text-align: right;\">1.22</td><td style = \"text-align: right;\">1.25</td><td style = \"text-align: right;\">1.11</td><td style = \"text-align: right;\">1.23</td><td style = \"text-align: right;\">1.23</td><td style = \"text-align: left;\">AACG</td></tr><tr><td class = \"rowNumber\" style = \"font-weight: bold; text-align: right;\">7</td><td style = \"text-align: left;\">2020-06-24</td><td style = \"text-align: right;\">80400</td><td style = \"text-align: right;\">1.14</td><td style = \"text-align: right;\">1.3</td><td style = \"text-align: right;\">1.14</td><td style = \"text-align: right;\">1.25</td><td style = \"text-align: right;\">1.25</td><td style = \"text-align: left;\">AACG</td></tr><tr><td class = \"rowNumber\" style = \"font-weight: bold; text-align: right;\">8</td><td style = \"text-align: left;\">2020-06-23</td><td style = \"text-align: right;\">57000</td><td style = \"text-align: right;\">1.19</td><td style = \"text-align: right;\">1.22</td><td style = \"text-align: right;\">1.14</td><td style = \"text-align: right;\">1.17</td><td style = \"text-align: right;\">1.17</td><td style = \"text-align: left;\">AACG</td></tr><tr><td class = \"rowNumber\" style = \"font-weight: bold; text-align: right;\">9</td><td style = \"text-align: left;\">2020-06-22</td><td style = \"text-align: right;\">115500</td><td style = \"text-align: right;\">1.0</td><td style = \"text-align: right;\">1.17</td><td style = \"text-align: right;\">0.97</td><td style = \"text-align: right;\">1.14</td><td style = \"text-align: right;\">1.14</td><td style = \"text-align: left;\">AACG</td></tr><tr><td class = \"rowNumber\" style = \"font-weight: bold; text-align: right;\">10</td><td style = \"text-align: left;\">2020-06-19</td><td style = \"text-align: right;\">52500</td><td style = \"text-align: right;\">0.96</td><td style = \"text-align: right;\">1.03</td><td style = \"text-align: right;\">0.95</td><td style = \"text-align: right;\">0.95</td><td style = \"text-align: right;\">0.95</td><td style = \"text-align: left;\">AACG</td></tr><tr><td class = \"rowNumber\" style = \"font-weight: bold; text-align: right;\">11</td><td style = \"text-align: left;\">2020-06-18</td><td style = \"text-align: right;\">113400</td><td style = \"text-align: right;\">1.08</td><td style = \"text-align: right;\">1.13</td><td style = \"text-align: right;\">0.93</td><td style = \"text-align: right;\">1.0</td><td style = \"text-align: right;\">1.0</td><td style = \"text-align: left;\">AACG</td></tr><tr><td class = \"rowNumber\" style = \"font-weight: bold; text-align: right;\">12</td><td style = \"text-align: left;\">2020-06-17</td><td style = \"text-align: right;\">136600</td><td style = \"text-align: right;\">1.26</td><td style = \"text-align: right;\">1.3</td><td style = \"text-align: right;\">1.11</td><td style = \"text-align: right;\">1.12</td><td style = \"text-align: right;\">1.12</td><td style = \"text-align: left;\">AACG</td></tr><tr><td class = \"rowNumber\" style = \"font-weight: bold; text-align: right;\">13</td><td style = \"text-align: left;\">2020-06-16</td><td style = \"text-align: right;\">1621800</td><td style = \"text-align: right;\">1.33</td><td style = \"text-align: right;\">1.8</td><td style = \"text-align: right;\">1.12</td><td style = \"text-align: right;\">1.12</td><td style = \"text-align: right;\">1.12</td><td style = \"text-align: left;\">AACG</td></tr><tr><td style = \"text-align: right;\">&vellip;</td><td style = \"text-align: right;\">&vellip;</td><td style = \"text-align: right;\">&vellip;</td><td style = \"text-align: right;\">&vellip;</td><td style = \"text-align: right;\">&vellip;</td><td style = \"text-align: right;\">&vellip;</td><td style = \"text-align: right;\">&vellip;</td><td style = \"text-align: right;\">&vellip;</td><td style = \"text-align: right;\">&vellip;</td></tr><tr><td class = \"rowNumber\" style = \"font-weight: bold; text-align: right;\">322</td><td style = \"text-align: left;\">2019-03-26</td><td style = \"text-align: right;\">49100</td><td style = \"text-align: right;\">1.0</td><td style = \"text-align: right;\">1.01</td><td style = \"text-align: right;\">1.0</td><td style = \"text-align: right;\">1.0</td><td style = \"text-align: right;\">1.0</td><td style = \"text-align: left;\">AACG</td></tr><tr><td class = \"rowNumber\" style = \"font-weight: bold; text-align: right;\">323</td><td style = \"text-align: left;\">2019-03-25</td><td style = \"text-align: right;\">43800</td><td style = \"text-align: right;\">1.01</td><td style = \"text-align: right;\">1.01</td><td style = \"text-align: right;\">0.96</td><td style = \"text-align: right;\">0.99</td><td style = \"text-align: right;\">0.99</td><td style = \"text-align: left;\">AACG</td></tr><tr><td class = \"rowNumber\" style = \"font-weight: bold; text-align: right;\">324</td><td style = \"text-align: left;\">2019-03-22</td><td style = \"text-align: right;\">29100</td><td style = \"text-align: right;\">1.03</td><td style = \"text-align: right;\">1.03</td><td style = \"text-align: right;\">1.0</td><td style = \"text-align: right;\">1.03</td><td style = \"text-align: right;\">1.03</td><td style = \"text-align: left;\">AACG</td></tr><tr><td class = \"rowNumber\" style = \"font-weight: bold; text-align: right;\">325</td><td style = \"text-align: left;\">2019-03-21</td><td style = \"text-align: right;\">10200</td><td style = \"text-align: right;\">1.01</td><td style = \"text-align: right;\">1.03</td><td style = \"text-align: right;\">1.01</td><td style = \"text-align: right;\">1.03</td><td style = \"text-align: right;\">1.03</td><td style = \"text-align: left;\">AACG</td></tr><tr><td class = \"rowNumber\" style = \"font-weight: bold; text-align: right;\">326</td><td style = \"text-align: left;\">2019-03-20</td><td style = \"text-align: right;\">41000</td><td style = \"text-align: right;\">1.04</td><td style = \"text-align: right;\">1.04</td><td style = \"text-align: right;\">1.0</td><td style = \"text-align: right;\">1.01</td><td style = \"text-align: right;\">1.01</td><td style = \"text-align: left;\">AACG</td></tr><tr><td class = \"rowNumber\" style = \"font-weight: bold; text-align: right;\">327</td><td style = \"text-align: left;\">2019-03-19</td><td style = \"text-align: right;\">122800</td><td style = \"text-align: right;\">1.08</td><td style = \"text-align: right;\">1.08</td><td style = \"text-align: right;\">1.0</td><td style = \"text-align: right;\">1.06</td><td style = \"text-align: right;\">1.06</td><td style = \"text-align: left;\">AACG</td></tr><tr><td class = \"rowNumber\" style = \"font-weight: bold; text-align: right;\">328</td><td style = \"text-align: left;\">2019-03-18</td><td style = \"text-align: right;\">48800</td><td style = \"text-align: right;\">1.07</td><td style = \"text-align: right;\">1.07</td><td style = \"text-align: right;\">1.03</td><td style = \"text-align: right;\">1.07</td><td style = \"text-align: right;\">1.07</td><td style = \"text-align: left;\">AACG</td></tr><tr><td class = \"rowNumber\" style = \"font-weight: bold; text-align: right;\">329</td><td style = \"text-align: left;\">2019-03-15</td><td style = \"text-align: right;\">30900</td><td style = \"text-align: right;\">1.06</td><td style = \"text-align: right;\">1.08</td><td style = \"text-align: right;\">1.04</td><td style = \"text-align: right;\">1.04</td><td style = \"text-align: right;\">1.04</td><td style = \"text-align: left;\">AACG</td></tr><tr><td class = \"rowNumber\" style = \"font-weight: bold; text-align: right;\">330</td><td style = \"text-align: left;\">2019-03-14</td><td style = \"text-align: right;\">29900</td><td style = \"text-align: right;\">1.06</td><td style = \"text-align: right;\">1.11</td><td style = \"text-align: right;\">1.06</td><td style = \"text-align: right;\">1.08</td><td style = \"text-align: right;\">1.08</td><td style = \"text-align: left;\">AACG</td></tr><tr><td class = \"rowNumber\" style = \"font-weight: bold; text-align: right;\">331</td><td style = \"text-align: left;\">2019-03-13</td><td style = \"text-align: right;\">23100</td><td style = \"text-align: right;\">1.06</td><td style = \"text-align: right;\">1.08</td><td style = \"text-align: right;\">1.04</td><td style = \"text-align: right;\">1.07</td><td style = \"text-align: right;\">1.07</td><td style = \"text-align: left;\">AACG</td></tr><tr><td class = \"rowNumber\" style = \"font-weight: bold; text-align: right;\">332</td><td style = \"text-align: left;\">2019-03-12</td><td style = \"text-align: right;\">20200</td><td style = \"text-align: right;\">1.08</td><td style = \"text-align: right;\">1.09</td><td style = \"text-align: right;\">1.05</td><td style = \"text-align: right;\">1.05</td><td style = \"text-align: right;\">1.05</td><td style = \"text-align: left;\">AACG</td></tr><tr><td class = \"rowNumber\" style = \"font-weight: bold; text-align: right;\">333</td><td style = \"text-align: left;\">2019-03-11</td><td style = \"text-align: right;\">32100</td><td style = \"text-align: right;\">1.08</td><td style = \"text-align: right;\">1.1</td><td style = \"text-align: right;\">1.08</td><td style = \"text-align: right;\">1.08</td><td style = \"text-align: right;\">1.08</td><td style = \"text-align: left;\">AACG</td></tr></tbody></table></div>"
      ],
      "text/latex": [
       "\\begin{tabular}{r|cccccccc}\n",
       "\t& date & volume & open & high & low & close & adjclose & symbol\\\\\n",
       "\t\\hline\n",
       "\t& Date & Int64 & Float64 & Float64 & Float64 & Float64 & Float64 & String7\\\\\n",
       "\t\\hline\n",
       "\t1 & 2020-07-02 & 46800 & 1.3 & 1.39 & 1.3 & 1.31 & 1.31 & AACG \\\\\n",
       "\t2 & 2020-07-01 & 95400 & 1.25 & 1.4 & 1.18 & 1.31 & 1.31 & AACG \\\\\n",
       "\t3 & 2020-06-30 & 40200 & 1.16 & 1.27 & 1.16 & 1.26 & 1.26 & AACG \\\\\n",
       "\t4 & 2020-06-29 & 46900 & 1.15 & 1.25 & 1.15 & 1.17 & 1.17 & AACG \\\\\n",
       "\t5 & 2020-06-26 & 43700 & 1.12 & 1.18 & 1.12 & 1.15 & 1.15 & AACG \\\\\n",
       "\t6 & 2020-06-25 & 72900 & 1.22 & 1.25 & 1.11 & 1.23 & 1.23 & AACG \\\\\n",
       "\t7 & 2020-06-24 & 80400 & 1.14 & 1.3 & 1.14 & 1.25 & 1.25 & AACG \\\\\n",
       "\t8 & 2020-06-23 & 57000 & 1.19 & 1.22 & 1.14 & 1.17 & 1.17 & AACG \\\\\n",
       "\t9 & 2020-06-22 & 115500 & 1.0 & 1.17 & 0.97 & 1.14 & 1.14 & AACG \\\\\n",
       "\t10 & 2020-06-19 & 52500 & 0.96 & 1.03 & 0.95 & 0.95 & 0.95 & AACG \\\\\n",
       "\t11 & 2020-06-18 & 113400 & 1.08 & 1.13 & 0.93 & 1.0 & 1.0 & AACG \\\\\n",
       "\t12 & 2020-06-17 & 136600 & 1.26 & 1.3 & 1.11 & 1.12 & 1.12 & AACG \\\\\n",
       "\t13 & 2020-06-16 & 1621800 & 1.33 & 1.8 & 1.12 & 1.12 & 1.12 & AACG \\\\\n",
       "\t14 & 2020-06-15 & 159200 & 1.14 & 1.36 & 1.14 & 1.29 & 1.29 & AACG \\\\\n",
       "\t15 & 2020-06-12 & 64200 & 1.2 & 1.23 & 1.01 & 1.14 & 1.14 & AACG \\\\\n",
       "\t16 & 2020-06-11 & 416100 & 1.31 & 1.5 & 1.02 & 1.12 & 1.12 & AACG \\\\\n",
       "\t17 & 2020-06-10 & 30500 & 0.93 & 1.0 & 0.93 & 1.0 & 1.0 & AACG \\\\\n",
       "\t18 & 2020-06-09 & 17100 & 0.93 & 0.93 & 0.83 & 0.92 & 0.92 & AACG \\\\\n",
       "\t19 & 2020-06-08 & 32600 & 0.9 & 0.93 & 0.82 & 0.89 & 0.89 & AACG \\\\\n",
       "\t20 & 2020-06-05 & 30000 & 0.87 & 0.91 & 0.8 & 0.86 & 0.86 & AACG \\\\\n",
       "\t21 & 2020-06-04 & 7900 & 0.88 & 0.91 & 0.84 & 0.86 & 0.86 & AACG \\\\\n",
       "\t22 & 2020-06-03 & 6600 & 0.84 & 0.96 & 0.84 & 0.91 & 0.91 & AACG \\\\\n",
       "\t23 & 2020-06-02 & 4100 & 0.87 & 0.92 & 0.87 & 0.88 & 0.88 & AACG \\\\\n",
       "\t24 & 2020-06-01 & 6200 & 0.9 & 0.95 & 0.87 & 0.91 & 0.91 & AACG \\\\\n",
       "\t25 & 2020-05-29 & 6200 & 0.95 & 0.95 & 0.9 & 0.9 & 0.9 & AACG \\\\\n",
       "\t26 & 2020-05-28 & 10100 & 0.92 & 0.95 & 0.92 & 0.94 & 0.94 & AACG \\\\\n",
       "\t27 & 2020-05-27 & 10100 & 0.89 & 0.93 & 0.89 & 0.9 & 0.9 & AACG \\\\\n",
       "\t28 & 2020-05-26 & 8000 & 0.88 & 0.9 & 0.88 & 0.9 & 0.9 & AACG \\\\\n",
       "\t29 & 2020-05-22 & 8600 & 0.9 & 0.9 & 0.83 & 0.83 & 0.83 & AACG \\\\\n",
       "\t30 & 2020-05-21 & 37700 & 0.96 & 0.96 & 0.88 & 0.9 & 0.9 & AACG \\\\\n",
       "\t$\\dots$ & $\\dots$ & $\\dots$ & $\\dots$ & $\\dots$ & $\\dots$ & $\\dots$ & $\\dots$ & $\\dots$ \\\\\n",
       "\\end{tabular}\n"
      ],
      "text/plain": [
       "\u001b[1m333×8 SubDataFrame\u001b[0m\n",
       "\u001b[1m Row \u001b[0m│\u001b[1m date       \u001b[0m\u001b[1m volume  \u001b[0m\u001b[1m open    \u001b[0m\u001b[1m high    \u001b[0m\u001b[1m low     \u001b[0m\u001b[1m close   \u001b[0m\u001b[1m adjclose \u001b[0m\u001b[1m symb\u001b[0m ⋯\n",
       "     │\u001b[90m Date       \u001b[0m\u001b[90m Int64   \u001b[0m\u001b[90m Float64 \u001b[0m\u001b[90m Float64 \u001b[0m\u001b[90m Float64 \u001b[0m\u001b[90m Float64 \u001b[0m\u001b[90m Float64  \u001b[0m\u001b[90m Stri\u001b[0m ⋯\n",
       "─────┼──────────────────────────────────────────────────────────────────────────\n",
       "   1 │ 2020-07-02    46800     1.3      1.39     1.3      1.31      1.31  AACG ⋯\n",
       "   2 │ 2020-07-01    95400     1.25     1.4      1.18     1.31      1.31  AACG\n",
       "   3 │ 2020-06-30    40200     1.16     1.27     1.16     1.26      1.26  AACG\n",
       "   4 │ 2020-06-29    46900     1.15     1.25     1.15     1.17      1.17  AACG\n",
       "   5 │ 2020-06-26    43700     1.12     1.18     1.12     1.15      1.15  AACG ⋯\n",
       "   6 │ 2020-06-25    72900     1.22     1.25     1.11     1.23      1.23  AACG\n",
       "   7 │ 2020-06-24    80400     1.14     1.3      1.14     1.25      1.25  AACG\n",
       "   8 │ 2020-06-23    57000     1.19     1.22     1.14     1.17      1.17  AACG\n",
       "   9 │ 2020-06-22   115500     1.0      1.17     0.97     1.14      1.14  AACG ⋯\n",
       "  10 │ 2020-06-19    52500     0.96     1.03     0.95     0.95      0.95  AACG\n",
       "  11 │ 2020-06-18   113400     1.08     1.13     0.93     1.0       1.0   AACG\n",
       "  ⋮  │     ⋮          ⋮        ⋮        ⋮        ⋮        ⋮        ⋮         ⋮ ⋱\n",
       " 324 │ 2019-03-22    29100     1.03     1.03     1.0      1.03      1.03  AACG\n",
       " 325 │ 2019-03-21    10200     1.01     1.03     1.01     1.03      1.03  AACG ⋯\n",
       " 326 │ 2019-03-20    41000     1.04     1.04     1.0      1.01      1.01  AACG\n",
       " 327 │ 2019-03-19   122800     1.08     1.08     1.0      1.06      1.06  AACG\n",
       " 328 │ 2019-03-18    48800     1.07     1.07     1.03     1.07      1.07  AACG\n",
       " 329 │ 2019-03-15    30900     1.06     1.08     1.04     1.04      1.04  AACG ⋯\n",
       " 330 │ 2019-03-14    29900     1.06     1.11     1.06     1.08      1.08  AACG\n",
       " 331 │ 2019-03-13    23100     1.06     1.08     1.04     1.07      1.07  AACG\n",
       " 332 │ 2019-03-12    20200     1.08     1.09     1.05     1.05      1.05  AACG\n",
       " 333 │ 2019-03-11    32100     1.08     1.1      1.08     1.08      1.08  AACG ⋯\n",
       "\u001b[36m                                                   1 column and 312 rows omitted\u001b[0m"
      ]
     },
     "execution_count": 60,
     "metadata": {},
     "output_type": "execute_result"
    }
   ],
   "source": [
    "@btime $gdf[(\"AACG\",)]"
   ]
  },
  {
   "cell_type": "code",
   "execution_count": 61,
   "metadata": {},
   "outputs": [
    {
     "name": "stdout",
     "output_type": "stream",
     "text": [
      "  12.982 ms (8 allocations: 843.53 KiB)\n"
     ]
    },
    {
     "data": {
      "text/html": [
       "<div><div style = \"float: left;\"><span>333×8 SubDataFrame</span></div><div style = \"float: right;\"><span style = \"font-style: italic;\">308 rows omitted</span></div><div style = \"clear: both;\"></div></div><div class = \"data-frame\" style = \"overflow-x: scroll;\"><table class = \"data-frame\" style = \"margin-bottom: 6px;\"><thead><tr class = \"header\"><th class = \"rowNumber\" style = \"font-weight: bold; text-align: right;\">Row</th><th style = \"text-align: left;\">date</th><th style = \"text-align: left;\">volume</th><th style = \"text-align: left;\">open</th><th style = \"text-align: left;\">high</th><th style = \"text-align: left;\">low</th><th style = \"text-align: left;\">close</th><th style = \"text-align: left;\">adjclose</th><th style = \"text-align: left;\">symbol</th></tr><tr class = \"subheader headerLastRow\"><th class = \"rowNumber\" style = \"font-weight: bold; text-align: right;\"></th><th title = \"Date\" style = \"text-align: left;\">Date</th><th title = \"Int64\" style = \"text-align: left;\">Int64</th><th title = \"Float64\" style = \"text-align: left;\">Float64</th><th title = \"Float64\" style = \"text-align: left;\">Float64</th><th title = \"Float64\" style = \"text-align: left;\">Float64</th><th title = \"Float64\" style = \"text-align: left;\">Float64</th><th title = \"Float64\" style = \"text-align: left;\">Float64</th><th title = \"String7\" style = \"text-align: left;\">String7</th></tr></thead><tbody><tr><td class = \"rowNumber\" style = \"font-weight: bold; text-align: right;\">1</td><td style = \"text-align: left;\">2020-07-02</td><td style = \"text-align: right;\">46800</td><td style = \"text-align: right;\">1.3</td><td style = \"text-align: right;\">1.39</td><td style = \"text-align: right;\">1.3</td><td style = \"text-align: right;\">1.31</td><td style = \"text-align: right;\">1.31</td><td style = \"text-align: left;\">AACG</td></tr><tr><td class = \"rowNumber\" style = \"font-weight: bold; text-align: right;\">2</td><td style = \"text-align: left;\">2020-07-01</td><td style = \"text-align: right;\">95400</td><td style = \"text-align: right;\">1.25</td><td style = \"text-align: right;\">1.4</td><td style = \"text-align: right;\">1.18</td><td style = \"text-align: right;\">1.31</td><td style = \"text-align: right;\">1.31</td><td style = \"text-align: left;\">AACG</td></tr><tr><td class = \"rowNumber\" style = \"font-weight: bold; text-align: right;\">3</td><td style = \"text-align: left;\">2020-06-30</td><td style = \"text-align: right;\">40200</td><td style = \"text-align: right;\">1.16</td><td style = \"text-align: right;\">1.27</td><td style = \"text-align: right;\">1.16</td><td style = \"text-align: right;\">1.26</td><td style = \"text-align: right;\">1.26</td><td style = \"text-align: left;\">AACG</td></tr><tr><td class = \"rowNumber\" style = \"font-weight: bold; text-align: right;\">4</td><td style = \"text-align: left;\">2020-06-29</td><td style = \"text-align: right;\">46900</td><td style = \"text-align: right;\">1.15</td><td style = \"text-align: right;\">1.25</td><td style = \"text-align: right;\">1.15</td><td style = \"text-align: right;\">1.17</td><td style = \"text-align: right;\">1.17</td><td style = \"text-align: left;\">AACG</td></tr><tr><td class = \"rowNumber\" style = \"font-weight: bold; text-align: right;\">5</td><td style = \"text-align: left;\">2020-06-26</td><td style = \"text-align: right;\">43700</td><td style = \"text-align: right;\">1.12</td><td style = \"text-align: right;\">1.18</td><td style = \"text-align: right;\">1.12</td><td style = \"text-align: right;\">1.15</td><td style = \"text-align: right;\">1.15</td><td style = \"text-align: left;\">AACG</td></tr><tr><td class = \"rowNumber\" style = \"font-weight: bold; text-align: right;\">6</td><td style = \"text-align: left;\">2020-06-25</td><td style = \"text-align: right;\">72900</td><td style = \"text-align: right;\">1.22</td><td style = \"text-align: right;\">1.25</td><td style = \"text-align: right;\">1.11</td><td style = \"text-align: right;\">1.23</td><td style = \"text-align: right;\">1.23</td><td style = \"text-align: left;\">AACG</td></tr><tr><td class = \"rowNumber\" style = \"font-weight: bold; text-align: right;\">7</td><td style = \"text-align: left;\">2020-06-24</td><td style = \"text-align: right;\">80400</td><td style = \"text-align: right;\">1.14</td><td style = \"text-align: right;\">1.3</td><td style = \"text-align: right;\">1.14</td><td style = \"text-align: right;\">1.25</td><td style = \"text-align: right;\">1.25</td><td style = \"text-align: left;\">AACG</td></tr><tr><td class = \"rowNumber\" style = \"font-weight: bold; text-align: right;\">8</td><td style = \"text-align: left;\">2020-06-23</td><td style = \"text-align: right;\">57000</td><td style = \"text-align: right;\">1.19</td><td style = \"text-align: right;\">1.22</td><td style = \"text-align: right;\">1.14</td><td style = \"text-align: right;\">1.17</td><td style = \"text-align: right;\">1.17</td><td style = \"text-align: left;\">AACG</td></tr><tr><td class = \"rowNumber\" style = \"font-weight: bold; text-align: right;\">9</td><td style = \"text-align: left;\">2020-06-22</td><td style = \"text-align: right;\">115500</td><td style = \"text-align: right;\">1.0</td><td style = \"text-align: right;\">1.17</td><td style = \"text-align: right;\">0.97</td><td style = \"text-align: right;\">1.14</td><td style = \"text-align: right;\">1.14</td><td style = \"text-align: left;\">AACG</td></tr><tr><td class = \"rowNumber\" style = \"font-weight: bold; text-align: right;\">10</td><td style = \"text-align: left;\">2020-06-19</td><td style = \"text-align: right;\">52500</td><td style = \"text-align: right;\">0.96</td><td style = \"text-align: right;\">1.03</td><td style = \"text-align: right;\">0.95</td><td style = \"text-align: right;\">0.95</td><td style = \"text-align: right;\">0.95</td><td style = \"text-align: left;\">AACG</td></tr><tr><td class = \"rowNumber\" style = \"font-weight: bold; text-align: right;\">11</td><td style = \"text-align: left;\">2020-06-18</td><td style = \"text-align: right;\">113400</td><td style = \"text-align: right;\">1.08</td><td style = \"text-align: right;\">1.13</td><td style = \"text-align: right;\">0.93</td><td style = \"text-align: right;\">1.0</td><td style = \"text-align: right;\">1.0</td><td style = \"text-align: left;\">AACG</td></tr><tr><td class = \"rowNumber\" style = \"font-weight: bold; text-align: right;\">12</td><td style = \"text-align: left;\">2020-06-17</td><td style = \"text-align: right;\">136600</td><td style = \"text-align: right;\">1.26</td><td style = \"text-align: right;\">1.3</td><td style = \"text-align: right;\">1.11</td><td style = \"text-align: right;\">1.12</td><td style = \"text-align: right;\">1.12</td><td style = \"text-align: left;\">AACG</td></tr><tr><td class = \"rowNumber\" style = \"font-weight: bold; text-align: right;\">13</td><td style = \"text-align: left;\">2020-06-16</td><td style = \"text-align: right;\">1621800</td><td style = \"text-align: right;\">1.33</td><td style = \"text-align: right;\">1.8</td><td style = \"text-align: right;\">1.12</td><td style = \"text-align: right;\">1.12</td><td style = \"text-align: right;\">1.12</td><td style = \"text-align: left;\">AACG</td></tr><tr><td style = \"text-align: right;\">&vellip;</td><td style = \"text-align: right;\">&vellip;</td><td style = \"text-align: right;\">&vellip;</td><td style = \"text-align: right;\">&vellip;</td><td style = \"text-align: right;\">&vellip;</td><td style = \"text-align: right;\">&vellip;</td><td style = \"text-align: right;\">&vellip;</td><td style = \"text-align: right;\">&vellip;</td><td style = \"text-align: right;\">&vellip;</td></tr><tr><td class = \"rowNumber\" style = \"font-weight: bold; text-align: right;\">322</td><td style = \"text-align: left;\">2019-03-26</td><td style = \"text-align: right;\">49100</td><td style = \"text-align: right;\">1.0</td><td style = \"text-align: right;\">1.01</td><td style = \"text-align: right;\">1.0</td><td style = \"text-align: right;\">1.0</td><td style = \"text-align: right;\">1.0</td><td style = \"text-align: left;\">AACG</td></tr><tr><td class = \"rowNumber\" style = \"font-weight: bold; text-align: right;\">323</td><td style = \"text-align: left;\">2019-03-25</td><td style = \"text-align: right;\">43800</td><td style = \"text-align: right;\">1.01</td><td style = \"text-align: right;\">1.01</td><td style = \"text-align: right;\">0.96</td><td style = \"text-align: right;\">0.99</td><td style = \"text-align: right;\">0.99</td><td style = \"text-align: left;\">AACG</td></tr><tr><td class = \"rowNumber\" style = \"font-weight: bold; text-align: right;\">324</td><td style = \"text-align: left;\">2019-03-22</td><td style = \"text-align: right;\">29100</td><td style = \"text-align: right;\">1.03</td><td style = \"text-align: right;\">1.03</td><td style = \"text-align: right;\">1.0</td><td style = \"text-align: right;\">1.03</td><td style = \"text-align: right;\">1.03</td><td style = \"text-align: left;\">AACG</td></tr><tr><td class = \"rowNumber\" style = \"font-weight: bold; text-align: right;\">325</td><td style = \"text-align: left;\">2019-03-21</td><td style = \"text-align: right;\">10200</td><td style = \"text-align: right;\">1.01</td><td style = \"text-align: right;\">1.03</td><td style = \"text-align: right;\">1.01</td><td style = \"text-align: right;\">1.03</td><td style = \"text-align: right;\">1.03</td><td style = \"text-align: left;\">AACG</td></tr><tr><td class = \"rowNumber\" style = \"font-weight: bold; text-align: right;\">326</td><td style = \"text-align: left;\">2019-03-20</td><td style = \"text-align: right;\">41000</td><td style = \"text-align: right;\">1.04</td><td style = \"text-align: right;\">1.04</td><td style = \"text-align: right;\">1.0</td><td style = \"text-align: right;\">1.01</td><td style = \"text-align: right;\">1.01</td><td style = \"text-align: left;\">AACG</td></tr><tr><td class = \"rowNumber\" style = \"font-weight: bold; text-align: right;\">327</td><td style = \"text-align: left;\">2019-03-19</td><td style = \"text-align: right;\">122800</td><td style = \"text-align: right;\">1.08</td><td style = \"text-align: right;\">1.08</td><td style = \"text-align: right;\">1.0</td><td style = \"text-align: right;\">1.06</td><td style = \"text-align: right;\">1.06</td><td style = \"text-align: left;\">AACG</td></tr><tr><td class = \"rowNumber\" style = \"font-weight: bold; text-align: right;\">328</td><td style = \"text-align: left;\">2019-03-18</td><td style = \"text-align: right;\">48800</td><td style = \"text-align: right;\">1.07</td><td style = \"text-align: right;\">1.07</td><td style = \"text-align: right;\">1.03</td><td style = \"text-align: right;\">1.07</td><td style = \"text-align: right;\">1.07</td><td style = \"text-align: left;\">AACG</td></tr><tr><td class = \"rowNumber\" style = \"font-weight: bold; text-align: right;\">329</td><td style = \"text-align: left;\">2019-03-15</td><td style = \"text-align: right;\">30900</td><td style = \"text-align: right;\">1.06</td><td style = \"text-align: right;\">1.08</td><td style = \"text-align: right;\">1.04</td><td style = \"text-align: right;\">1.04</td><td style = \"text-align: right;\">1.04</td><td style = \"text-align: left;\">AACG</td></tr><tr><td class = \"rowNumber\" style = \"font-weight: bold; text-align: right;\">330</td><td style = \"text-align: left;\">2019-03-14</td><td style = \"text-align: right;\">29900</td><td style = \"text-align: right;\">1.06</td><td style = \"text-align: right;\">1.11</td><td style = \"text-align: right;\">1.06</td><td style = \"text-align: right;\">1.08</td><td style = \"text-align: right;\">1.08</td><td style = \"text-align: left;\">AACG</td></tr><tr><td class = \"rowNumber\" style = \"font-weight: bold; text-align: right;\">331</td><td style = \"text-align: left;\">2019-03-13</td><td style = \"text-align: right;\">23100</td><td style = \"text-align: right;\">1.06</td><td style = \"text-align: right;\">1.08</td><td style = \"text-align: right;\">1.04</td><td style = \"text-align: right;\">1.07</td><td style = \"text-align: right;\">1.07</td><td style = \"text-align: left;\">AACG</td></tr><tr><td class = \"rowNumber\" style = \"font-weight: bold; text-align: right;\">332</td><td style = \"text-align: left;\">2019-03-12</td><td style = \"text-align: right;\">20200</td><td style = \"text-align: right;\">1.08</td><td style = \"text-align: right;\">1.09</td><td style = \"text-align: right;\">1.05</td><td style = \"text-align: right;\">1.05</td><td style = \"text-align: right;\">1.05</td><td style = \"text-align: left;\">AACG</td></tr><tr><td class = \"rowNumber\" style = \"font-weight: bold; text-align: right;\">333</td><td style = \"text-align: left;\">2019-03-11</td><td style = \"text-align: right;\">32100</td><td style = \"text-align: right;\">1.08</td><td style = \"text-align: right;\">1.1</td><td style = \"text-align: right;\">1.08</td><td style = \"text-align: right;\">1.08</td><td style = \"text-align: right;\">1.08</td><td style = \"text-align: left;\">AACG</td></tr></tbody></table></div>"
      ],
      "text/latex": [
       "\\begin{tabular}{r|cccccccc}\n",
       "\t& date & volume & open & high & low & close & adjclose & symbol\\\\\n",
       "\t\\hline\n",
       "\t& Date & Int64 & Float64 & Float64 & Float64 & Float64 & Float64 & String7\\\\\n",
       "\t\\hline\n",
       "\t1 & 2020-07-02 & 46800 & 1.3 & 1.39 & 1.3 & 1.31 & 1.31 & AACG \\\\\n",
       "\t2 & 2020-07-01 & 95400 & 1.25 & 1.4 & 1.18 & 1.31 & 1.31 & AACG \\\\\n",
       "\t3 & 2020-06-30 & 40200 & 1.16 & 1.27 & 1.16 & 1.26 & 1.26 & AACG \\\\\n",
       "\t4 & 2020-06-29 & 46900 & 1.15 & 1.25 & 1.15 & 1.17 & 1.17 & AACG \\\\\n",
       "\t5 & 2020-06-26 & 43700 & 1.12 & 1.18 & 1.12 & 1.15 & 1.15 & AACG \\\\\n",
       "\t6 & 2020-06-25 & 72900 & 1.22 & 1.25 & 1.11 & 1.23 & 1.23 & AACG \\\\\n",
       "\t7 & 2020-06-24 & 80400 & 1.14 & 1.3 & 1.14 & 1.25 & 1.25 & AACG \\\\\n",
       "\t8 & 2020-06-23 & 57000 & 1.19 & 1.22 & 1.14 & 1.17 & 1.17 & AACG \\\\\n",
       "\t9 & 2020-06-22 & 115500 & 1.0 & 1.17 & 0.97 & 1.14 & 1.14 & AACG \\\\\n",
       "\t10 & 2020-06-19 & 52500 & 0.96 & 1.03 & 0.95 & 0.95 & 0.95 & AACG \\\\\n",
       "\t11 & 2020-06-18 & 113400 & 1.08 & 1.13 & 0.93 & 1.0 & 1.0 & AACG \\\\\n",
       "\t12 & 2020-06-17 & 136600 & 1.26 & 1.3 & 1.11 & 1.12 & 1.12 & AACG \\\\\n",
       "\t13 & 2020-06-16 & 1621800 & 1.33 & 1.8 & 1.12 & 1.12 & 1.12 & AACG \\\\\n",
       "\t14 & 2020-06-15 & 159200 & 1.14 & 1.36 & 1.14 & 1.29 & 1.29 & AACG \\\\\n",
       "\t15 & 2020-06-12 & 64200 & 1.2 & 1.23 & 1.01 & 1.14 & 1.14 & AACG \\\\\n",
       "\t16 & 2020-06-11 & 416100 & 1.31 & 1.5 & 1.02 & 1.12 & 1.12 & AACG \\\\\n",
       "\t17 & 2020-06-10 & 30500 & 0.93 & 1.0 & 0.93 & 1.0 & 1.0 & AACG \\\\\n",
       "\t18 & 2020-06-09 & 17100 & 0.93 & 0.93 & 0.83 & 0.92 & 0.92 & AACG \\\\\n",
       "\t19 & 2020-06-08 & 32600 & 0.9 & 0.93 & 0.82 & 0.89 & 0.89 & AACG \\\\\n",
       "\t20 & 2020-06-05 & 30000 & 0.87 & 0.91 & 0.8 & 0.86 & 0.86 & AACG \\\\\n",
       "\t21 & 2020-06-04 & 7900 & 0.88 & 0.91 & 0.84 & 0.86 & 0.86 & AACG \\\\\n",
       "\t22 & 2020-06-03 & 6600 & 0.84 & 0.96 & 0.84 & 0.91 & 0.91 & AACG \\\\\n",
       "\t23 & 2020-06-02 & 4100 & 0.87 & 0.92 & 0.87 & 0.88 & 0.88 & AACG \\\\\n",
       "\t24 & 2020-06-01 & 6200 & 0.9 & 0.95 & 0.87 & 0.91 & 0.91 & AACG \\\\\n",
       "\t25 & 2020-05-29 & 6200 & 0.95 & 0.95 & 0.9 & 0.9 & 0.9 & AACG \\\\\n",
       "\t26 & 2020-05-28 & 10100 & 0.92 & 0.95 & 0.92 & 0.94 & 0.94 & AACG \\\\\n",
       "\t27 & 2020-05-27 & 10100 & 0.89 & 0.93 & 0.89 & 0.9 & 0.9 & AACG \\\\\n",
       "\t28 & 2020-05-26 & 8000 & 0.88 & 0.9 & 0.88 & 0.9 & 0.9 & AACG \\\\\n",
       "\t29 & 2020-05-22 & 8600 & 0.9 & 0.9 & 0.83 & 0.83 & 0.83 & AACG \\\\\n",
       "\t30 & 2020-05-21 & 37700 & 0.96 & 0.96 & 0.88 & 0.9 & 0.9 & AACG \\\\\n",
       "\t$\\dots$ & $\\dots$ & $\\dots$ & $\\dots$ & $\\dots$ & $\\dots$ & $\\dots$ & $\\dots$ & $\\dots$ \\\\\n",
       "\\end{tabular}\n"
      ],
      "text/plain": [
       "\u001b[1m333×8 SubDataFrame\u001b[0m\n",
       "\u001b[1m Row \u001b[0m│\u001b[1m date       \u001b[0m\u001b[1m volume  \u001b[0m\u001b[1m open    \u001b[0m\u001b[1m high    \u001b[0m\u001b[1m low     \u001b[0m\u001b[1m close   \u001b[0m\u001b[1m adjclose \u001b[0m\u001b[1m symb\u001b[0m ⋯\n",
       "     │\u001b[90m Date       \u001b[0m\u001b[90m Int64   \u001b[0m\u001b[90m Float64 \u001b[0m\u001b[90m Float64 \u001b[0m\u001b[90m Float64 \u001b[0m\u001b[90m Float64 \u001b[0m\u001b[90m Float64  \u001b[0m\u001b[90m Stri\u001b[0m ⋯\n",
       "─────┼──────────────────────────────────────────────────────────────────────────\n",
       "   1 │ 2020-07-02    46800     1.3      1.39     1.3      1.31      1.31  AACG ⋯\n",
       "   2 │ 2020-07-01    95400     1.25     1.4      1.18     1.31      1.31  AACG\n",
       "   3 │ 2020-06-30    40200     1.16     1.27     1.16     1.26      1.26  AACG\n",
       "   4 │ 2020-06-29    46900     1.15     1.25     1.15     1.17      1.17  AACG\n",
       "   5 │ 2020-06-26    43700     1.12     1.18     1.12     1.15      1.15  AACG ⋯\n",
       "   6 │ 2020-06-25    72900     1.22     1.25     1.11     1.23      1.23  AACG\n",
       "   7 │ 2020-06-24    80400     1.14     1.3      1.14     1.25      1.25  AACG\n",
       "   8 │ 2020-06-23    57000     1.19     1.22     1.14     1.17      1.17  AACG\n",
       "   9 │ 2020-06-22   115500     1.0      1.17     0.97     1.14      1.14  AACG ⋯\n",
       "  10 │ 2020-06-19    52500     0.96     1.03     0.95     0.95      0.95  AACG\n",
       "  11 │ 2020-06-18   113400     1.08     1.13     0.93     1.0       1.0   AACG\n",
       "  ⋮  │     ⋮          ⋮        ⋮        ⋮        ⋮        ⋮        ⋮         ⋮ ⋱\n",
       " 324 │ 2019-03-22    29100     1.03     1.03     1.0      1.03      1.03  AACG\n",
       " 325 │ 2019-03-21    10200     1.01     1.03     1.01     1.03      1.03  AACG ⋯\n",
       " 326 │ 2019-03-20    41000     1.04     1.04     1.0      1.01      1.01  AACG\n",
       " 327 │ 2019-03-19   122800     1.08     1.08     1.0      1.06      1.06  AACG\n",
       " 328 │ 2019-03-18    48800     1.07     1.07     1.03     1.07      1.07  AACG\n",
       " 329 │ 2019-03-15    30900     1.06     1.08     1.04     1.04      1.04  AACG ⋯\n",
       " 330 │ 2019-03-14    29900     1.06     1.11     1.06     1.08      1.08  AACG\n",
       " 331 │ 2019-03-13    23100     1.06     1.08     1.04     1.07      1.07  AACG\n",
       " 332 │ 2019-03-12    20200     1.08     1.09     1.05     1.05      1.05  AACG\n",
       " 333 │ 2019-03-11    32100     1.08     1.1      1.08     1.08      1.08  AACG ⋯\n",
       "\u001b[36m                                                   1 column and 312 rows omitted\u001b[0m"
      ]
     },
     "execution_count": 61,
     "metadata": {},
     "output_type": "execute_result"
    }
   ],
   "source": [
    "@btime @view $fh5[findall(==(\"AACG\"), $fh5.symbol), :]"
   ]
  },
  {
   "cell_type": "code",
   "execution_count": 62,
   "metadata": {},
   "outputs": [
    {
     "name": "stdout",
     "output_type": "stream",
     "text": [
      "  13.055 ms (35 allocations: 863.91 KiB)\n"
     ]
    },
    {
     "data": {
      "text/html": [
       "<div><div style = \"float: left;\"><span>333×8 DataFrame</span></div><div style = \"float: right;\"><span style = \"font-style: italic;\">308 rows omitted</span></div><div style = \"clear: both;\"></div></div><div class = \"data-frame\" style = \"overflow-x: scroll;\"><table class = \"data-frame\" style = \"margin-bottom: 6px;\"><thead><tr class = \"header\"><th class = \"rowNumber\" style = \"font-weight: bold; text-align: right;\">Row</th><th style = \"text-align: left;\">date</th><th style = \"text-align: left;\">volume</th><th style = \"text-align: left;\">open</th><th style = \"text-align: left;\">high</th><th style = \"text-align: left;\">low</th><th style = \"text-align: left;\">close</th><th style = \"text-align: left;\">adjclose</th><th style = \"text-align: left;\">symbol</th></tr><tr class = \"subheader headerLastRow\"><th class = \"rowNumber\" style = \"font-weight: bold; text-align: right;\"></th><th title = \"Date\" style = \"text-align: left;\">Date</th><th title = \"Int64\" style = \"text-align: left;\">Int64</th><th title = \"Float64\" style = \"text-align: left;\">Float64</th><th title = \"Float64\" style = \"text-align: left;\">Float64</th><th title = \"Float64\" style = \"text-align: left;\">Float64</th><th title = \"Float64\" style = \"text-align: left;\">Float64</th><th title = \"Float64\" style = \"text-align: left;\">Float64</th><th title = \"String7\" style = \"text-align: left;\">String7</th></tr></thead><tbody><tr><td class = \"rowNumber\" style = \"font-weight: bold; text-align: right;\">1</td><td style = \"text-align: left;\">2020-07-02</td><td style = \"text-align: right;\">46800</td><td style = \"text-align: right;\">1.3</td><td style = \"text-align: right;\">1.39</td><td style = \"text-align: right;\">1.3</td><td style = \"text-align: right;\">1.31</td><td style = \"text-align: right;\">1.31</td><td style = \"text-align: left;\">AACG</td></tr><tr><td class = \"rowNumber\" style = \"font-weight: bold; text-align: right;\">2</td><td style = \"text-align: left;\">2020-07-01</td><td style = \"text-align: right;\">95400</td><td style = \"text-align: right;\">1.25</td><td style = \"text-align: right;\">1.4</td><td style = \"text-align: right;\">1.18</td><td style = \"text-align: right;\">1.31</td><td style = \"text-align: right;\">1.31</td><td style = \"text-align: left;\">AACG</td></tr><tr><td class = \"rowNumber\" style = \"font-weight: bold; text-align: right;\">3</td><td style = \"text-align: left;\">2020-06-30</td><td style = \"text-align: right;\">40200</td><td style = \"text-align: right;\">1.16</td><td style = \"text-align: right;\">1.27</td><td style = \"text-align: right;\">1.16</td><td style = \"text-align: right;\">1.26</td><td style = \"text-align: right;\">1.26</td><td style = \"text-align: left;\">AACG</td></tr><tr><td class = \"rowNumber\" style = \"font-weight: bold; text-align: right;\">4</td><td style = \"text-align: left;\">2020-06-29</td><td style = \"text-align: right;\">46900</td><td style = \"text-align: right;\">1.15</td><td style = \"text-align: right;\">1.25</td><td style = \"text-align: right;\">1.15</td><td style = \"text-align: right;\">1.17</td><td style = \"text-align: right;\">1.17</td><td style = \"text-align: left;\">AACG</td></tr><tr><td class = \"rowNumber\" style = \"font-weight: bold; text-align: right;\">5</td><td style = \"text-align: left;\">2020-06-26</td><td style = \"text-align: right;\">43700</td><td style = \"text-align: right;\">1.12</td><td style = \"text-align: right;\">1.18</td><td style = \"text-align: right;\">1.12</td><td style = \"text-align: right;\">1.15</td><td style = \"text-align: right;\">1.15</td><td style = \"text-align: left;\">AACG</td></tr><tr><td class = \"rowNumber\" style = \"font-weight: bold; text-align: right;\">6</td><td style = \"text-align: left;\">2020-06-25</td><td style = \"text-align: right;\">72900</td><td style = \"text-align: right;\">1.22</td><td style = \"text-align: right;\">1.25</td><td style = \"text-align: right;\">1.11</td><td style = \"text-align: right;\">1.23</td><td style = \"text-align: right;\">1.23</td><td style = \"text-align: left;\">AACG</td></tr><tr><td class = \"rowNumber\" style = \"font-weight: bold; text-align: right;\">7</td><td style = \"text-align: left;\">2020-06-24</td><td style = \"text-align: right;\">80400</td><td style = \"text-align: right;\">1.14</td><td style = \"text-align: right;\">1.3</td><td style = \"text-align: right;\">1.14</td><td style = \"text-align: right;\">1.25</td><td style = \"text-align: right;\">1.25</td><td style = \"text-align: left;\">AACG</td></tr><tr><td class = \"rowNumber\" style = \"font-weight: bold; text-align: right;\">8</td><td style = \"text-align: left;\">2020-06-23</td><td style = \"text-align: right;\">57000</td><td style = \"text-align: right;\">1.19</td><td style = \"text-align: right;\">1.22</td><td style = \"text-align: right;\">1.14</td><td style = \"text-align: right;\">1.17</td><td style = \"text-align: right;\">1.17</td><td style = \"text-align: left;\">AACG</td></tr><tr><td class = \"rowNumber\" style = \"font-weight: bold; text-align: right;\">9</td><td style = \"text-align: left;\">2020-06-22</td><td style = \"text-align: right;\">115500</td><td style = \"text-align: right;\">1.0</td><td style = \"text-align: right;\">1.17</td><td style = \"text-align: right;\">0.97</td><td style = \"text-align: right;\">1.14</td><td style = \"text-align: right;\">1.14</td><td style = \"text-align: left;\">AACG</td></tr><tr><td class = \"rowNumber\" style = \"font-weight: bold; text-align: right;\">10</td><td style = \"text-align: left;\">2020-06-19</td><td style = \"text-align: right;\">52500</td><td style = \"text-align: right;\">0.96</td><td style = \"text-align: right;\">1.03</td><td style = \"text-align: right;\">0.95</td><td style = \"text-align: right;\">0.95</td><td style = \"text-align: right;\">0.95</td><td style = \"text-align: left;\">AACG</td></tr><tr><td class = \"rowNumber\" style = \"font-weight: bold; text-align: right;\">11</td><td style = \"text-align: left;\">2020-06-18</td><td style = \"text-align: right;\">113400</td><td style = \"text-align: right;\">1.08</td><td style = \"text-align: right;\">1.13</td><td style = \"text-align: right;\">0.93</td><td style = \"text-align: right;\">1.0</td><td style = \"text-align: right;\">1.0</td><td style = \"text-align: left;\">AACG</td></tr><tr><td class = \"rowNumber\" style = \"font-weight: bold; text-align: right;\">12</td><td style = \"text-align: left;\">2020-06-17</td><td style = \"text-align: right;\">136600</td><td style = \"text-align: right;\">1.26</td><td style = \"text-align: right;\">1.3</td><td style = \"text-align: right;\">1.11</td><td style = \"text-align: right;\">1.12</td><td style = \"text-align: right;\">1.12</td><td style = \"text-align: left;\">AACG</td></tr><tr><td class = \"rowNumber\" style = \"font-weight: bold; text-align: right;\">13</td><td style = \"text-align: left;\">2020-06-16</td><td style = \"text-align: right;\">1621800</td><td style = \"text-align: right;\">1.33</td><td style = \"text-align: right;\">1.8</td><td style = \"text-align: right;\">1.12</td><td style = \"text-align: right;\">1.12</td><td style = \"text-align: right;\">1.12</td><td style = \"text-align: left;\">AACG</td></tr><tr><td style = \"text-align: right;\">&vellip;</td><td style = \"text-align: right;\">&vellip;</td><td style = \"text-align: right;\">&vellip;</td><td style = \"text-align: right;\">&vellip;</td><td style = \"text-align: right;\">&vellip;</td><td style = \"text-align: right;\">&vellip;</td><td style = \"text-align: right;\">&vellip;</td><td style = \"text-align: right;\">&vellip;</td><td style = \"text-align: right;\">&vellip;</td></tr><tr><td class = \"rowNumber\" style = \"font-weight: bold; text-align: right;\">322</td><td style = \"text-align: left;\">2019-03-26</td><td style = \"text-align: right;\">49100</td><td style = \"text-align: right;\">1.0</td><td style = \"text-align: right;\">1.01</td><td style = \"text-align: right;\">1.0</td><td style = \"text-align: right;\">1.0</td><td style = \"text-align: right;\">1.0</td><td style = \"text-align: left;\">AACG</td></tr><tr><td class = \"rowNumber\" style = \"font-weight: bold; text-align: right;\">323</td><td style = \"text-align: left;\">2019-03-25</td><td style = \"text-align: right;\">43800</td><td style = \"text-align: right;\">1.01</td><td style = \"text-align: right;\">1.01</td><td style = \"text-align: right;\">0.96</td><td style = \"text-align: right;\">0.99</td><td style = \"text-align: right;\">0.99</td><td style = \"text-align: left;\">AACG</td></tr><tr><td class = \"rowNumber\" style = \"font-weight: bold; text-align: right;\">324</td><td style = \"text-align: left;\">2019-03-22</td><td style = \"text-align: right;\">29100</td><td style = \"text-align: right;\">1.03</td><td style = \"text-align: right;\">1.03</td><td style = \"text-align: right;\">1.0</td><td style = \"text-align: right;\">1.03</td><td style = \"text-align: right;\">1.03</td><td style = \"text-align: left;\">AACG</td></tr><tr><td class = \"rowNumber\" style = \"font-weight: bold; text-align: right;\">325</td><td style = \"text-align: left;\">2019-03-21</td><td style = \"text-align: right;\">10200</td><td style = \"text-align: right;\">1.01</td><td style = \"text-align: right;\">1.03</td><td style = \"text-align: right;\">1.01</td><td style = \"text-align: right;\">1.03</td><td style = \"text-align: right;\">1.03</td><td style = \"text-align: left;\">AACG</td></tr><tr><td class = \"rowNumber\" style = \"font-weight: bold; text-align: right;\">326</td><td style = \"text-align: left;\">2019-03-20</td><td style = \"text-align: right;\">41000</td><td style = \"text-align: right;\">1.04</td><td style = \"text-align: right;\">1.04</td><td style = \"text-align: right;\">1.0</td><td style = \"text-align: right;\">1.01</td><td style = \"text-align: right;\">1.01</td><td style = \"text-align: left;\">AACG</td></tr><tr><td class = \"rowNumber\" style = \"font-weight: bold; text-align: right;\">327</td><td style = \"text-align: left;\">2019-03-19</td><td style = \"text-align: right;\">122800</td><td style = \"text-align: right;\">1.08</td><td style = \"text-align: right;\">1.08</td><td style = \"text-align: right;\">1.0</td><td style = \"text-align: right;\">1.06</td><td style = \"text-align: right;\">1.06</td><td style = \"text-align: left;\">AACG</td></tr><tr><td class = \"rowNumber\" style = \"font-weight: bold; text-align: right;\">328</td><td style = \"text-align: left;\">2019-03-18</td><td style = \"text-align: right;\">48800</td><td style = \"text-align: right;\">1.07</td><td style = \"text-align: right;\">1.07</td><td style = \"text-align: right;\">1.03</td><td style = \"text-align: right;\">1.07</td><td style = \"text-align: right;\">1.07</td><td style = \"text-align: left;\">AACG</td></tr><tr><td class = \"rowNumber\" style = \"font-weight: bold; text-align: right;\">329</td><td style = \"text-align: left;\">2019-03-15</td><td style = \"text-align: right;\">30900</td><td style = \"text-align: right;\">1.06</td><td style = \"text-align: right;\">1.08</td><td style = \"text-align: right;\">1.04</td><td style = \"text-align: right;\">1.04</td><td style = \"text-align: right;\">1.04</td><td style = \"text-align: left;\">AACG</td></tr><tr><td class = \"rowNumber\" style = \"font-weight: bold; text-align: right;\">330</td><td style = \"text-align: left;\">2019-03-14</td><td style = \"text-align: right;\">29900</td><td style = \"text-align: right;\">1.06</td><td style = \"text-align: right;\">1.11</td><td style = \"text-align: right;\">1.06</td><td style = \"text-align: right;\">1.08</td><td style = \"text-align: right;\">1.08</td><td style = \"text-align: left;\">AACG</td></tr><tr><td class = \"rowNumber\" style = \"font-weight: bold; text-align: right;\">331</td><td style = \"text-align: left;\">2019-03-13</td><td style = \"text-align: right;\">23100</td><td style = \"text-align: right;\">1.06</td><td style = \"text-align: right;\">1.08</td><td style = \"text-align: right;\">1.04</td><td style = \"text-align: right;\">1.07</td><td style = \"text-align: right;\">1.07</td><td style = \"text-align: left;\">AACG</td></tr><tr><td class = \"rowNumber\" style = \"font-weight: bold; text-align: right;\">332</td><td style = \"text-align: left;\">2019-03-12</td><td style = \"text-align: right;\">20200</td><td style = \"text-align: right;\">1.08</td><td style = \"text-align: right;\">1.09</td><td style = \"text-align: right;\">1.05</td><td style = \"text-align: right;\">1.05</td><td style = \"text-align: right;\">1.05</td><td style = \"text-align: left;\">AACG</td></tr><tr><td class = \"rowNumber\" style = \"font-weight: bold; text-align: right;\">333</td><td style = \"text-align: left;\">2019-03-11</td><td style = \"text-align: right;\">32100</td><td style = \"text-align: right;\">1.08</td><td style = \"text-align: right;\">1.1</td><td style = \"text-align: right;\">1.08</td><td style = \"text-align: right;\">1.08</td><td style = \"text-align: right;\">1.08</td><td style = \"text-align: left;\">AACG</td></tr></tbody></table></div>"
      ],
      "text/latex": [
       "\\begin{tabular}{r|cccccccc}\n",
       "\t& date & volume & open & high & low & close & adjclose & symbol\\\\\n",
       "\t\\hline\n",
       "\t& Date & Int64 & Float64 & Float64 & Float64 & Float64 & Float64 & String7\\\\\n",
       "\t\\hline\n",
       "\t1 & 2020-07-02 & 46800 & 1.3 & 1.39 & 1.3 & 1.31 & 1.31 & AACG \\\\\n",
       "\t2 & 2020-07-01 & 95400 & 1.25 & 1.4 & 1.18 & 1.31 & 1.31 & AACG \\\\\n",
       "\t3 & 2020-06-30 & 40200 & 1.16 & 1.27 & 1.16 & 1.26 & 1.26 & AACG \\\\\n",
       "\t4 & 2020-06-29 & 46900 & 1.15 & 1.25 & 1.15 & 1.17 & 1.17 & AACG \\\\\n",
       "\t5 & 2020-06-26 & 43700 & 1.12 & 1.18 & 1.12 & 1.15 & 1.15 & AACG \\\\\n",
       "\t6 & 2020-06-25 & 72900 & 1.22 & 1.25 & 1.11 & 1.23 & 1.23 & AACG \\\\\n",
       "\t7 & 2020-06-24 & 80400 & 1.14 & 1.3 & 1.14 & 1.25 & 1.25 & AACG \\\\\n",
       "\t8 & 2020-06-23 & 57000 & 1.19 & 1.22 & 1.14 & 1.17 & 1.17 & AACG \\\\\n",
       "\t9 & 2020-06-22 & 115500 & 1.0 & 1.17 & 0.97 & 1.14 & 1.14 & AACG \\\\\n",
       "\t10 & 2020-06-19 & 52500 & 0.96 & 1.03 & 0.95 & 0.95 & 0.95 & AACG \\\\\n",
       "\t11 & 2020-06-18 & 113400 & 1.08 & 1.13 & 0.93 & 1.0 & 1.0 & AACG \\\\\n",
       "\t12 & 2020-06-17 & 136600 & 1.26 & 1.3 & 1.11 & 1.12 & 1.12 & AACG \\\\\n",
       "\t13 & 2020-06-16 & 1621800 & 1.33 & 1.8 & 1.12 & 1.12 & 1.12 & AACG \\\\\n",
       "\t14 & 2020-06-15 & 159200 & 1.14 & 1.36 & 1.14 & 1.29 & 1.29 & AACG \\\\\n",
       "\t15 & 2020-06-12 & 64200 & 1.2 & 1.23 & 1.01 & 1.14 & 1.14 & AACG \\\\\n",
       "\t16 & 2020-06-11 & 416100 & 1.31 & 1.5 & 1.02 & 1.12 & 1.12 & AACG \\\\\n",
       "\t17 & 2020-06-10 & 30500 & 0.93 & 1.0 & 0.93 & 1.0 & 1.0 & AACG \\\\\n",
       "\t18 & 2020-06-09 & 17100 & 0.93 & 0.93 & 0.83 & 0.92 & 0.92 & AACG \\\\\n",
       "\t19 & 2020-06-08 & 32600 & 0.9 & 0.93 & 0.82 & 0.89 & 0.89 & AACG \\\\\n",
       "\t20 & 2020-06-05 & 30000 & 0.87 & 0.91 & 0.8 & 0.86 & 0.86 & AACG \\\\\n",
       "\t21 & 2020-06-04 & 7900 & 0.88 & 0.91 & 0.84 & 0.86 & 0.86 & AACG \\\\\n",
       "\t22 & 2020-06-03 & 6600 & 0.84 & 0.96 & 0.84 & 0.91 & 0.91 & AACG \\\\\n",
       "\t23 & 2020-06-02 & 4100 & 0.87 & 0.92 & 0.87 & 0.88 & 0.88 & AACG \\\\\n",
       "\t24 & 2020-06-01 & 6200 & 0.9 & 0.95 & 0.87 & 0.91 & 0.91 & AACG \\\\\n",
       "\t25 & 2020-05-29 & 6200 & 0.95 & 0.95 & 0.9 & 0.9 & 0.9 & AACG \\\\\n",
       "\t26 & 2020-05-28 & 10100 & 0.92 & 0.95 & 0.92 & 0.94 & 0.94 & AACG \\\\\n",
       "\t27 & 2020-05-27 & 10100 & 0.89 & 0.93 & 0.89 & 0.9 & 0.9 & AACG \\\\\n",
       "\t28 & 2020-05-26 & 8000 & 0.88 & 0.9 & 0.88 & 0.9 & 0.9 & AACG \\\\\n",
       "\t29 & 2020-05-22 & 8600 & 0.9 & 0.9 & 0.83 & 0.83 & 0.83 & AACG \\\\\n",
       "\t30 & 2020-05-21 & 37700 & 0.96 & 0.96 & 0.88 & 0.9 & 0.9 & AACG \\\\\n",
       "\t$\\dots$ & $\\dots$ & $\\dots$ & $\\dots$ & $\\dots$ & $\\dots$ & $\\dots$ & $\\dots$ & $\\dots$ \\\\\n",
       "\\end{tabular}\n"
      ],
      "text/plain": [
       "\u001b[1m333×8 DataFrame\u001b[0m\n",
       "\u001b[1m Row \u001b[0m│\u001b[1m date       \u001b[0m\u001b[1m volume  \u001b[0m\u001b[1m open    \u001b[0m\u001b[1m high    \u001b[0m\u001b[1m low     \u001b[0m\u001b[1m close   \u001b[0m\u001b[1m adjclose \u001b[0m\u001b[1m symb\u001b[0m ⋯\n",
       "     │\u001b[90m Date       \u001b[0m\u001b[90m Int64   \u001b[0m\u001b[90m Float64 \u001b[0m\u001b[90m Float64 \u001b[0m\u001b[90m Float64 \u001b[0m\u001b[90m Float64 \u001b[0m\u001b[90m Float64  \u001b[0m\u001b[90m Stri\u001b[0m ⋯\n",
       "─────┼──────────────────────────────────────────────────────────────────────────\n",
       "   1 │ 2020-07-02    46800     1.3      1.39     1.3      1.31      1.31  AACG ⋯\n",
       "   2 │ 2020-07-01    95400     1.25     1.4      1.18     1.31      1.31  AACG\n",
       "   3 │ 2020-06-30    40200     1.16     1.27     1.16     1.26      1.26  AACG\n",
       "   4 │ 2020-06-29    46900     1.15     1.25     1.15     1.17      1.17  AACG\n",
       "   5 │ 2020-06-26    43700     1.12     1.18     1.12     1.15      1.15  AACG ⋯\n",
       "   6 │ 2020-06-25    72900     1.22     1.25     1.11     1.23      1.23  AACG\n",
       "   7 │ 2020-06-24    80400     1.14     1.3      1.14     1.25      1.25  AACG\n",
       "   8 │ 2020-06-23    57000     1.19     1.22     1.14     1.17      1.17  AACG\n",
       "   9 │ 2020-06-22   115500     1.0      1.17     0.97     1.14      1.14  AACG ⋯\n",
       "  10 │ 2020-06-19    52500     0.96     1.03     0.95     0.95      0.95  AACG\n",
       "  11 │ 2020-06-18   113400     1.08     1.13     0.93     1.0       1.0   AACG\n",
       "  ⋮  │     ⋮          ⋮        ⋮        ⋮        ⋮        ⋮        ⋮         ⋮ ⋱\n",
       " 324 │ 2019-03-22    29100     1.03     1.03     1.0      1.03      1.03  AACG\n",
       " 325 │ 2019-03-21    10200     1.01     1.03     1.01     1.03      1.03  AACG ⋯\n",
       " 326 │ 2019-03-20    41000     1.04     1.04     1.0      1.01      1.01  AACG\n",
       " 327 │ 2019-03-19   122800     1.08     1.08     1.0      1.06      1.06  AACG\n",
       " 328 │ 2019-03-18    48800     1.07     1.07     1.03     1.07      1.07  AACG\n",
       " 329 │ 2019-03-15    30900     1.06     1.08     1.04     1.04      1.04  AACG ⋯\n",
       " 330 │ 2019-03-14    29900     1.06     1.11     1.06     1.08      1.08  AACG\n",
       " 331 │ 2019-03-13    23100     1.06     1.08     1.04     1.07      1.07  AACG\n",
       " 332 │ 2019-03-12    20200     1.08     1.09     1.05     1.05      1.05  AACG\n",
       " 333 │ 2019-03-11    32100     1.08     1.1      1.08     1.08      1.08  AACG ⋯\n",
       "\u001b[36m                                                   1 column and 312 rows omitted\u001b[0m"
      ]
     },
     "execution_count": 62,
     "metadata": {},
     "output_type": "execute_result"
    }
   ],
   "source": [
    "@btime filter(:symbol => ==(\"AACG\"), fh5)"
   ]
  },
  {
   "cell_type": "markdown",
   "metadata": {},
   "source": [
    "<div class=\"alert alert-block alert-info\">\n",
    "<b>Tip:</b>\n",
    "    \n",
    "\n",
    "Think of `GroupedDataFrame` as a wrapper over a data frame object which caches information\n",
    "about the parent data frame to make operations that rely on row index faster. Currently this is used in:\n",
    "* split/apply/combine\n",
    "* lookup\n",
    "\n",
    "In other words: if you like row indices in Pandas then `GroupedDataFrame` is a way to achieve such functionality in DataFrames.jl.\n",
    "\n",
    "Notably:\n",
    "* you can set multiple row indices to the same data frame, just by creating different `GroupedDataFrame` objects on top of the same data frame.\n",
    "* the creation of cache in grouped data frame is lazy (it is computed only if needed); cache computation is thread safe.\n",
    "\n",
    "</div>"
   ]
  },
  {
   "cell_type": "code",
   "execution_count": 63,
   "metadata": {},
   "outputs": [
    {
     "name": "stdout",
     "output_type": "stream",
     "text": [
      "i = 1\n",
      "  0.097084 seconds (39 allocations: 232.556 MiB)\n",
      "  0.035548 seconds (6.39 k allocations: 52.740 MiB)\n",
      "  0.000011 seconds (12 allocations: 2.953 KiB)\n",
      "  0.000004 seconds (12 allocations: 2.953 KiB)\n",
      "i = 2\n",
      "  0.134641 seconds (39 allocations: 232.556 MiB, 21.04% gc time)\n",
      "  0.036761 seconds (6.39 k allocations: 52.740 MiB)\n",
      "  0.000006 seconds (12 allocations: 2.953 KiB)\n",
      "  0.000010 seconds (12 allocations: 2.953 KiB)\n",
      "i = 3\n",
      "  0.130015 seconds (39 allocations: 232.556 MiB)\n",
      "  0.041583 seconds (6.39 k allocations: 52.740 MiB)\n",
      "  0.000005 seconds (12 allocations: 2.953 KiB)\n",
      "  0.000003 seconds (12 allocations: 2.953 KiB)\n"
     ]
    }
   ],
   "source": [
    "for i in 1:3\n",
    "    local gdf\n",
    "    @show i\n",
    "    @time gdf = groupby(fh5, :symbol)\n",
    "    @time gdf[(\"AACG\",)]\n",
    "    @time gdf[(\"AACG\",)]\n",
    "    @time gdf[(\"AACG\",)]\n",
    "end"
   ]
  },
  {
   "cell_type": "markdown",
   "metadata": {},
   "source": [
    "## setindex!"
   ]
  },
  {
   "cell_type": "markdown",
   "metadata": {},
   "source": [
    "`setindex!` is defined only for `DataFrame`, `SubDataFrame` and `DataFrameRow` (other types are read-only)."
   ]
  },
  {
   "cell_type": "markdown",
   "metadata": {},
   "source": [
    "Intended rules:\n",
    "* the dimensions of left hand side and right hand side must match;\n",
    "* if right hand side has names they must match the names in left hand side."
   ]
  },
  {
   "cell_type": "markdown",
   "metadata": {},
   "source": [
    "special cases (that might be surprising):"
   ]
  },
  {
   "cell_type": "code",
   "execution_count": 64,
   "metadata": {},
   "outputs": [
    {
     "data": {
      "text/plain": [
       "5×5 Matrix{Float64}:\n",
       " 0.496863  0.572796  0.387258  0.93069   0.666971\n",
       " 0.887483  0.576724  0.999825  0.943775  0.279755\n",
       " 0.809132  0.147583  0.50549   0.734813  0.787697\n",
       " 0.395642  0.484826  0.612615  0.20297   0.950586\n",
       " 0.613923  0.112816  0.270383  0.968726  0.0375709"
      ]
     },
     "execution_count": 64,
     "metadata": {},
     "output_type": "execute_result"
    }
   ],
   "source": [
    "x = rand(5, 5)"
   ]
  },
  {
   "cell_type": "code",
   "execution_count": 65,
   "metadata": {},
   "outputs": [
    {
     "data": {
      "text/html": [
       "<div><div style = \"float: left;\"><span>5×5 DataFrame</span></div><div style = \"clear: both;\"></div></div><div class = \"data-frame\" style = \"overflow-x: scroll;\"><table class = \"data-frame\" style = \"margin-bottom: 6px;\"><thead><tr class = \"header\"><th class = \"rowNumber\" style = \"font-weight: bold; text-align: right;\">Row</th><th style = \"text-align: left;\">x1</th><th style = \"text-align: left;\">x2</th><th style = \"text-align: left;\">x3</th><th style = \"text-align: left;\">x4</th><th style = \"text-align: left;\">x5</th></tr><tr class = \"subheader headerLastRow\"><th class = \"rowNumber\" style = \"font-weight: bold; text-align: right;\"></th><th title = \"Float64\" style = \"text-align: left;\">Float64</th><th title = \"Float64\" style = \"text-align: left;\">Float64</th><th title = \"Float64\" style = \"text-align: left;\">Float64</th><th title = \"Float64\" style = \"text-align: left;\">Float64</th><th title = \"Float64\" style = \"text-align: left;\">Float64</th></tr></thead><tbody><tr><td class = \"rowNumber\" style = \"font-weight: bold; text-align: right;\">1</td><td style = \"text-align: right;\">0.496863</td><td style = \"text-align: right;\">0.572796</td><td style = \"text-align: right;\">0.387258</td><td style = \"text-align: right;\">0.93069</td><td style = \"text-align: right;\">0.666971</td></tr><tr><td class = \"rowNumber\" style = \"font-weight: bold; text-align: right;\">2</td><td style = \"text-align: right;\">0.887483</td><td style = \"text-align: right;\">0.576724</td><td style = \"text-align: right;\">0.999825</td><td style = \"text-align: right;\">0.943775</td><td style = \"text-align: right;\">0.279755</td></tr><tr><td class = \"rowNumber\" style = \"font-weight: bold; text-align: right;\">3</td><td style = \"text-align: right;\">0.809132</td><td style = \"text-align: right;\">0.147583</td><td style = \"text-align: right;\">0.50549</td><td style = \"text-align: right;\">0.734813</td><td style = \"text-align: right;\">0.787697</td></tr><tr><td class = \"rowNumber\" style = \"font-weight: bold; text-align: right;\">4</td><td style = \"text-align: right;\">0.395642</td><td style = \"text-align: right;\">0.484826</td><td style = \"text-align: right;\">0.612615</td><td style = \"text-align: right;\">0.20297</td><td style = \"text-align: right;\">0.950586</td></tr><tr><td class = \"rowNumber\" style = \"font-weight: bold; text-align: right;\">5</td><td style = \"text-align: right;\">0.613923</td><td style = \"text-align: right;\">0.112816</td><td style = \"text-align: right;\">0.270383</td><td style = \"text-align: right;\">0.968726</td><td style = \"text-align: right;\">0.0375709</td></tr></tbody></table></div>"
      ],
      "text/latex": [
       "\\begin{tabular}{r|ccccc}\n",
       "\t& x1 & x2 & x3 & x4 & x5\\\\\n",
       "\t\\hline\n",
       "\t& Float64 & Float64 & Float64 & Float64 & Float64\\\\\n",
       "\t\\hline\n",
       "\t1 & 0.496863 & 0.572796 & 0.387258 & 0.93069 & 0.666971 \\\\\n",
       "\t2 & 0.887483 & 0.576724 & 0.999825 & 0.943775 & 0.279755 \\\\\n",
       "\t3 & 0.809132 & 0.147583 & 0.50549 & 0.734813 & 0.787697 \\\\\n",
       "\t4 & 0.395642 & 0.484826 & 0.612615 & 0.20297 & 0.950586 \\\\\n",
       "\t5 & 0.613923 & 0.112816 & 0.270383 & 0.968726 & 0.0375709 \\\\\n",
       "\\end{tabular}\n"
      ],
      "text/plain": [
       "\u001b[1m5×5 DataFrame\u001b[0m\n",
       "\u001b[1m Row \u001b[0m│\u001b[1m x1       \u001b[0m\u001b[1m x2       \u001b[0m\u001b[1m x3       \u001b[0m\u001b[1m x4       \u001b[0m\u001b[1m x5        \u001b[0m\n",
       "     │\u001b[90m Float64  \u001b[0m\u001b[90m Float64  \u001b[0m\u001b[90m Float64  \u001b[0m\u001b[90m Float64  \u001b[0m\u001b[90m Float64   \u001b[0m\n",
       "─────┼───────────────────────────────────────────────────\n",
       "   1 │ 0.496863  0.572796  0.387258  0.93069   0.666971\n",
       "   2 │ 0.887483  0.576724  0.999825  0.943775  0.279755\n",
       "   3 │ 0.809132  0.147583  0.50549   0.734813  0.787697\n",
       "   4 │ 0.395642  0.484826  0.612615  0.20297   0.950586\n",
       "   5 │ 0.613923  0.112816  0.270383  0.968726  0.0375709"
      ]
     },
     "execution_count": 65,
     "metadata": {},
     "output_type": "execute_result"
    }
   ],
   "source": [
    "df = DataFrame(x, :auto)"
   ]
  },
  {
   "cell_type": "code",
   "execution_count": 66,
   "metadata": {},
   "outputs": [
    {
     "data": {
      "text/plain": [
       "2×2 Matrix{Int64}:\n",
       " 1  2\n",
       " 3  4"
      ]
     },
     "execution_count": 66,
     "metadata": {},
     "output_type": "execute_result"
    }
   ],
   "source": [
    "x[1, 1:4] = [1 2; 3 4]"
   ]
  },
  {
   "cell_type": "code",
   "execution_count": 67,
   "metadata": {},
   "outputs": [
    {
     "data": {
      "text/plain": [
       "5×5 Matrix{Float64}:\n",
       " 1.0       3.0       2.0       4.0       0.666971\n",
       " 0.887483  0.576724  0.999825  0.943775  0.279755\n",
       " 0.809132  0.147583  0.50549   0.734813  0.787697\n",
       " 0.395642  0.484826  0.612615  0.20297   0.950586\n",
       " 0.613923  0.112816  0.270383  0.968726  0.0375709"
      ]
     },
     "execution_count": 67,
     "metadata": {},
     "output_type": "execute_result"
    }
   ],
   "source": [
    "x"
   ]
  },
  {
   "cell_type": "code",
   "execution_count": 68,
   "metadata": {},
   "outputs": [
    {
     "ename": "LoadError",
     "evalue": "DimensionMismatch: tried to assign 2×2 array to 4×1 destination",
     "output_type": "error",
     "traceback": [
      "DimensionMismatch: tried to assign 2×2 array to 4×1 destination",
      "",
      "Stacktrace:",
      " [1] throw_setindex_mismatch(X::Matrix{Int64}, I::Tuple{Int64, Int64})",
      "   @ Base .\\indices.jl:193",
      " [2] setindex_shape_check",
      "   @ .\\indices.jl:257 [inlined]",
      " [3] _unsafe_setindex!(::IndexLinear, ::Matrix{Float64}, ::Matrix{Int64}, ::UnitRange{Int64}, ::Int64)",
      "   @ Base .\\multidimensional.jl:925",
      " [4] _setindex!",
      "   @ .\\multidimensional.jl:916 [inlined]",
      " [5] setindex!(::Matrix{Float64}, ::Matrix{Int64}, ::UnitRange{Int64}, ::Int64)",
      "   @ Base .\\abstractarray.jl:1397",
      " [6] top-level scope",
      "   @ In[68]:1"
     ]
    }
   ],
   "source": [
    "x[1:4, 1] = [1 2; 3 4]"
   ]
  },
  {
   "cell_type": "markdown",
   "metadata": {},
   "source": [
    "#### Exercise"
   ]
  },
  {
   "cell_type": "markdown",
   "metadata": {},
   "source": [
    "Check what happens if you try the same operations on `df`."
   ]
  },
  {
   "cell_type": "code",
   "execution_count": null,
   "metadata": {},
   "outputs": [],
   "source": []
  },
  {
   "cell_type": "markdown",
   "metadata": {},
   "source": [
    "<div class=\"alert alert-block alert-info\">\n",
    "<b>Tip:</b>\n",
    "    \n",
    "We want DataFrames.jl to match 100% what Base does with indexing (except for cases where matching column names matters).\n",
    "\n",
    "If you find cases when it does not please report an issue.\n",
    "\n",
    "</div>"
   ]
  },
  {
   "cell_type": "markdown",
   "metadata": {},
   "source": [
    "The most important case, that does work as in Base (as `Matrix` is not resizable) is creation of new columns."
   ]
  },
  {
   "cell_type": "code",
   "execution_count": 69,
   "metadata": {},
   "outputs": [
    {
     "data": {
      "text/html": [
       "<div><div style = \"float: left;\"><span>2×2 DataFrame</span></div><div style = \"clear: both;\"></div></div><div class = \"data-frame\" style = \"overflow-x: scroll;\"><table class = \"data-frame\" style = \"margin-bottom: 6px;\"><thead><tr class = \"header\"><th class = \"rowNumber\" style = \"font-weight: bold; text-align: right;\">Row</th><th style = \"text-align: left;\">x1</th><th style = \"text-align: left;\">x2</th></tr><tr class = \"subheader headerLastRow\"><th class = \"rowNumber\" style = \"font-weight: bold; text-align: right;\"></th><th title = \"Float64\" style = \"text-align: left;\">Float64</th><th title = \"Float64\" style = \"text-align: left;\">Float64</th></tr></thead><tbody><tr><td class = \"rowNumber\" style = \"font-weight: bold; text-align: right;\">1</td><td style = \"text-align: right;\">0.751146</td><td style = \"text-align: right;\">0.866453</td></tr><tr><td class = \"rowNumber\" style = \"font-weight: bold; text-align: right;\">2</td><td style = \"text-align: right;\">0.370838</td><td style = \"text-align: right;\">0.788149</td></tr></tbody></table></div>"
      ],
      "text/latex": [
       "\\begin{tabular}{r|cc}\n",
       "\t& x1 & x2\\\\\n",
       "\t\\hline\n",
       "\t& Float64 & Float64\\\\\n",
       "\t\\hline\n",
       "\t1 & 0.751146 & 0.866453 \\\\\n",
       "\t2 & 0.370838 & 0.788149 \\\\\n",
       "\\end{tabular}\n"
      ],
      "text/plain": [
       "\u001b[1m2×2 DataFrame\u001b[0m\n",
       "\u001b[1m Row \u001b[0m│\u001b[1m x1       \u001b[0m\u001b[1m x2       \u001b[0m\n",
       "     │\u001b[90m Float64  \u001b[0m\u001b[90m Float64  \u001b[0m\n",
       "─────┼────────────────────\n",
       "   1 │ 0.751146  0.866453\n",
       "   2 │ 0.370838  0.788149"
      ]
     },
     "execution_count": 69,
     "metadata": {},
     "output_type": "execute_result"
    }
   ],
   "source": [
    "df = DataFrame(rand(2, 2), :auto)"
   ]
  },
  {
   "cell_type": "code",
   "execution_count": 70,
   "metadata": {},
   "outputs": [
    {
     "data": {
      "text/plain": [
       "2-element Vector{Int64}:\n",
       " 1\n",
       " 2"
      ]
     },
     "execution_count": 70,
     "metadata": {},
     "output_type": "execute_result"
    }
   ],
   "source": [
    "x3 = [1, 2]"
   ]
  },
  {
   "cell_type": "code",
   "execution_count": 71,
   "metadata": {},
   "outputs": [
    {
     "data": {
      "text/plain": [
       "2-element Vector{Int64}:\n",
       " 1\n",
       " 2"
      ]
     },
     "execution_count": 71,
     "metadata": {},
     "output_type": "execute_result"
    }
   ],
   "source": [
    "df.x3_1 = x3"
   ]
  },
  {
   "cell_type": "code",
   "execution_count": 72,
   "metadata": {},
   "outputs": [
    {
     "data": {
      "text/plain": [
       "2-element Vector{Int64}:\n",
       " 1\n",
       " 2"
      ]
     },
     "execution_count": 72,
     "metadata": {},
     "output_type": "execute_result"
    }
   ],
   "source": [
    "df[:, :x3_2] = x3"
   ]
  },
  {
   "cell_type": "code",
   "execution_count": 73,
   "metadata": {},
   "outputs": [
    {
     "data": {
      "text/plain": [
       "2-element Vector{Int64}:\n",
       " 1\n",
       " 2"
      ]
     },
     "execution_count": 73,
     "metadata": {},
     "output_type": "execute_result"
    }
   ],
   "source": [
    "df[!, :x3_3] = x3"
   ]
  },
  {
   "cell_type": "code",
   "execution_count": 74,
   "metadata": {},
   "outputs": [
    {
     "data": {
      "text/html": [
       "<div><div style = \"float: left;\"><span>2×5 DataFrame</span></div><div style = \"clear: both;\"></div></div><div class = \"data-frame\" style = \"overflow-x: scroll;\"><table class = \"data-frame\" style = \"margin-bottom: 6px;\"><thead><tr class = \"header\"><th class = \"rowNumber\" style = \"font-weight: bold; text-align: right;\">Row</th><th style = \"text-align: left;\">x1</th><th style = \"text-align: left;\">x2</th><th style = \"text-align: left;\">x3_1</th><th style = \"text-align: left;\">x3_2</th><th style = \"text-align: left;\">x3_3</th></tr><tr class = \"subheader headerLastRow\"><th class = \"rowNumber\" style = \"font-weight: bold; text-align: right;\"></th><th title = \"Float64\" style = \"text-align: left;\">Float64</th><th title = \"Float64\" style = \"text-align: left;\">Float64</th><th title = \"Int64\" style = \"text-align: left;\">Int64</th><th title = \"Int64\" style = \"text-align: left;\">Int64</th><th title = \"Int64\" style = \"text-align: left;\">Int64</th></tr></thead><tbody><tr><td class = \"rowNumber\" style = \"font-weight: bold; text-align: right;\">1</td><td style = \"text-align: right;\">0.751146</td><td style = \"text-align: right;\">0.866453</td><td style = \"text-align: right;\">1</td><td style = \"text-align: right;\">1</td><td style = \"text-align: right;\">1</td></tr><tr><td class = \"rowNumber\" style = \"font-weight: bold; text-align: right;\">2</td><td style = \"text-align: right;\">0.370838</td><td style = \"text-align: right;\">0.788149</td><td style = \"text-align: right;\">2</td><td style = \"text-align: right;\">2</td><td style = \"text-align: right;\">2</td></tr></tbody></table></div>"
      ],
      "text/latex": [
       "\\begin{tabular}{r|ccccc}\n",
       "\t& x1 & x2 & x3\\_1 & x3\\_2 & x3\\_3\\\\\n",
       "\t\\hline\n",
       "\t& Float64 & Float64 & Int64 & Int64 & Int64\\\\\n",
       "\t\\hline\n",
       "\t1 & 0.751146 & 0.866453 & 1 & 1 & 1 \\\\\n",
       "\t2 & 0.370838 & 0.788149 & 2 & 2 & 2 \\\\\n",
       "\\end{tabular}\n"
      ],
      "text/plain": [
       "\u001b[1m2×5 DataFrame\u001b[0m\n",
       "\u001b[1m Row \u001b[0m│\u001b[1m x1       \u001b[0m\u001b[1m x2       \u001b[0m\u001b[1m x3_1  \u001b[0m\u001b[1m x3_2  \u001b[0m\u001b[1m x3_3  \u001b[0m\n",
       "     │\u001b[90m Float64  \u001b[0m\u001b[90m Float64  \u001b[0m\u001b[90m Int64 \u001b[0m\u001b[90m Int64 \u001b[0m\u001b[90m Int64 \u001b[0m\n",
       "─────┼─────────────────────────────────────────\n",
       "   1 │ 0.751146  0.866453      1      1      1\n",
       "   2 │ 0.370838  0.788149      2      2      2"
      ]
     },
     "execution_count": 74,
     "metadata": {},
     "output_type": "execute_result"
    }
   ],
   "source": [
    "df"
   ]
  },
  {
   "cell_type": "markdown",
   "metadata": {},
   "source": [
    "#### Exercise\n",
    "Check in which cases `x3` got copied."
   ]
  },
  {
   "cell_type": "code",
   "execution_count": null,
   "metadata": {},
   "outputs": [],
   "source": []
  },
  {
   "cell_type": "markdown",
   "metadata": {},
   "source": [
    "A special case when column always gets copied is for range objects:"
   ]
  },
  {
   "cell_type": "code",
   "execution_count": 75,
   "metadata": {},
   "outputs": [
    {
     "data": {
      "text/plain": [
       "Base.OneTo(6852038)"
      ]
     },
     "execution_count": 75,
     "metadata": {},
     "output_type": "execute_result"
    }
   ],
   "source": [
    "fh5.col_idx = axes(fh5, 1)"
   ]
  },
  {
   "cell_type": "code",
   "execution_count": 76,
   "metadata": {},
   "outputs": [
    {
     "data": {
      "text/plain": [
       "6852038-element Vector{Int64}:\n",
       "       1\n",
       "       2\n",
       "       3\n",
       "       4\n",
       "       5\n",
       "       6\n",
       "       7\n",
       "       8\n",
       "       9\n",
       "      10\n",
       "      11\n",
       "      12\n",
       "      13\n",
       "       ⋮\n",
       " 6852027\n",
       " 6852028\n",
       " 6852029\n",
       " 6852030\n",
       " 6852031\n",
       " 6852032\n",
       " 6852033\n",
       " 6852034\n",
       " 6852035\n",
       " 6852036\n",
       " 6852037\n",
       " 6852038"
      ]
     },
     "execution_count": 76,
     "metadata": {},
     "output_type": "execute_result"
    }
   ],
   "source": [
    "fh5.col_idx"
   ]
  },
  {
   "cell_type": "markdown",
   "metadata": {},
   "source": [
    "Let us try `setindex!` for multi-column indexing."
   ]
  },
  {
   "cell_type": "code",
   "execution_count": 77,
   "metadata": {},
   "outputs": [
    {
     "data": {
      "text/html": [
       "<div><div style = \"float: left;\"><span>2×5 DataFrame</span></div><div style = \"clear: both;\"></div></div><div class = \"data-frame\" style = \"overflow-x: scroll;\"><table class = \"data-frame\" style = \"margin-bottom: 6px;\"><thead><tr class = \"header\"><th class = \"rowNumber\" style = \"font-weight: bold; text-align: right;\">Row</th><th style = \"text-align: left;\">x1</th><th style = \"text-align: left;\">x2</th><th style = \"text-align: left;\">x3_1</th><th style = \"text-align: left;\">x3_2</th><th style = \"text-align: left;\">x3_3</th></tr><tr class = \"subheader headerLastRow\"><th class = \"rowNumber\" style = \"font-weight: bold; text-align: right;\"></th><th title = \"Float64\" style = \"text-align: left;\">Float64</th><th title = \"Float64\" style = \"text-align: left;\">Float64</th><th title = \"Int64\" style = \"text-align: left;\">Int64</th><th title = \"Int64\" style = \"text-align: left;\">Int64</th><th title = \"Int64\" style = \"text-align: left;\">Int64</th></tr></thead><tbody><tr><td class = \"rowNumber\" style = \"font-weight: bold; text-align: right;\">1</td><td style = \"text-align: right;\">0.751146</td><td style = \"text-align: right;\">0.866453</td><td style = \"text-align: right;\">1</td><td style = \"text-align: right;\">1</td><td style = \"text-align: right;\">1</td></tr><tr><td class = \"rowNumber\" style = \"font-weight: bold; text-align: right;\">2</td><td style = \"text-align: right;\">0.370838</td><td style = \"text-align: right;\">0.788149</td><td style = \"text-align: right;\">2</td><td style = \"text-align: right;\">2</td><td style = \"text-align: right;\">2</td></tr></tbody></table></div>"
      ],
      "text/latex": [
       "\\begin{tabular}{r|ccccc}\n",
       "\t& x1 & x2 & x3\\_1 & x3\\_2 & x3\\_3\\\\\n",
       "\t\\hline\n",
       "\t& Float64 & Float64 & Int64 & Int64 & Int64\\\\\n",
       "\t\\hline\n",
       "\t1 & 0.751146 & 0.866453 & 1 & 1 & 1 \\\\\n",
       "\t2 & 0.370838 & 0.788149 & 2 & 2 & 2 \\\\\n",
       "\\end{tabular}\n"
      ],
      "text/plain": [
       "\u001b[1m2×5 DataFrame\u001b[0m\n",
       "\u001b[1m Row \u001b[0m│\u001b[1m x1       \u001b[0m\u001b[1m x2       \u001b[0m\u001b[1m x3_1  \u001b[0m\u001b[1m x3_2  \u001b[0m\u001b[1m x3_3  \u001b[0m\n",
       "     │\u001b[90m Float64  \u001b[0m\u001b[90m Float64  \u001b[0m\u001b[90m Int64 \u001b[0m\u001b[90m Int64 \u001b[0m\u001b[90m Int64 \u001b[0m\n",
       "─────┼─────────────────────────────────────────\n",
       "   1 │ 0.751146  0.866453      1      1      1\n",
       "   2 │ 0.370838  0.788149      2      2      2"
      ]
     },
     "execution_count": 77,
     "metadata": {},
     "output_type": "execute_result"
    }
   ],
   "source": [
    "df"
   ]
  },
  {
   "cell_type": "code",
   "execution_count": 78,
   "metadata": {},
   "outputs": [
    {
     "data": {
      "text/html": [
       "<div><div style = \"float: left;\"><span>2×2 DataFrame</span></div><div style = \"clear: both;\"></div></div><div class = \"data-frame\" style = \"overflow-x: scroll;\"><table class = \"data-frame\" style = \"margin-bottom: 6px;\"><thead><tr class = \"header\"><th class = \"rowNumber\" style = \"font-weight: bold; text-align: right;\">Row</th><th style = \"text-align: left;\">x1</th><th style = \"text-align: left;\">x2</th></tr><tr class = \"subheader headerLastRow\"><th class = \"rowNumber\" style = \"font-weight: bold; text-align: right;\"></th><th title = \"Int64\" style = \"text-align: left;\">Int64</th><th title = \"String\" style = \"text-align: left;\">String</th></tr></thead><tbody><tr><td class = \"rowNumber\" style = \"font-weight: bold; text-align: right;\">1</td><td style = \"text-align: right;\">10</td><td style = \"text-align: left;\">a</td></tr><tr><td class = \"rowNumber\" style = \"font-weight: bold; text-align: right;\">2</td><td style = \"text-align: right;\">20</td><td style = \"text-align: left;\">b</td></tr></tbody></table></div>"
      ],
      "text/latex": [
       "\\begin{tabular}{r|cc}\n",
       "\t& x1 & x2\\\\\n",
       "\t\\hline\n",
       "\t& Int64 & String\\\\\n",
       "\t\\hline\n",
       "\t1 & 10 & a \\\\\n",
       "\t2 & 20 & b \\\\\n",
       "\\end{tabular}\n"
      ],
      "text/plain": [
       "\u001b[1m2×2 DataFrame\u001b[0m\n",
       "\u001b[1m Row \u001b[0m│\u001b[1m x1    \u001b[0m\u001b[1m x2     \u001b[0m\n",
       "     │\u001b[90m Int64 \u001b[0m\u001b[90m String \u001b[0m\n",
       "─────┼───────────────\n",
       "   1 │    10  a\n",
       "   2 │    20  b"
      ]
     },
     "execution_count": 78,
     "metadata": {},
     "output_type": "execute_result"
    }
   ],
   "source": [
    "df2 = DataFrame(x1=[10,20], x2=[\"a\",\"b\"])"
   ]
  },
  {
   "cell_type": "code",
   "execution_count": 79,
   "metadata": {},
   "outputs": [
    {
     "ename": "LoadError",
     "evalue": "MethodError: \u001b[0mCannot `convert` an object of type \u001b[92mString\u001b[39m\u001b[0m to an object of type \u001b[91mFloat64\u001b[39m\n\n\u001b[0mClosest candidates are:\n\u001b[0m  convert(::Type{T}, \u001b[91m::Base.TwicePrecision\u001b[39m) where T<:Number\n\u001b[0m\u001b[90m   @\u001b[39m \u001b[90mBase\u001b[39m \u001b[90m\u001b[4mtwiceprecision.jl:273\u001b[24m\u001b[39m\n\u001b[0m  convert(::Type{T}, \u001b[91m::AbstractChar\u001b[39m) where T<:Number\n\u001b[0m\u001b[90m   @\u001b[39m \u001b[90mBase\u001b[39m \u001b[90m\u001b[4mchar.jl:185\u001b[24m\u001b[39m\n\u001b[0m  convert(::Type{T}, \u001b[91m::CartesianIndex{1}\u001b[39m) where T<:Number\n\u001b[0m\u001b[90m   @\u001b[39m \u001b[90mBase\u001b[39m \u001b[90m\u001b[4mmultidimensional.jl:127\u001b[24m\u001b[39m\n\u001b[0m  ...\n",
     "output_type": "error",
     "traceback": [
      "MethodError: \u001b[0mCannot `convert` an object of type \u001b[92mString\u001b[39m\u001b[0m to an object of type \u001b[91mFloat64\u001b[39m\n\n\u001b[0mClosest candidates are:\n\u001b[0m  convert(::Type{T}, \u001b[91m::Base.TwicePrecision\u001b[39m) where T<:Number\n\u001b[0m\u001b[90m   @\u001b[39m \u001b[90mBase\u001b[39m \u001b[90m\u001b[4mtwiceprecision.jl:273\u001b[24m\u001b[39m\n\u001b[0m  convert(::Type{T}, \u001b[91m::AbstractChar\u001b[39m) where T<:Number\n\u001b[0m\u001b[90m   @\u001b[39m \u001b[90mBase\u001b[39m \u001b[90m\u001b[4mchar.jl:185\u001b[24m\u001b[39m\n\u001b[0m  convert(::Type{T}, \u001b[91m::CartesianIndex{1}\u001b[39m) where T<:Number\n\u001b[0m\u001b[90m   @\u001b[39m \u001b[90mBase\u001b[39m \u001b[90m\u001b[4mmultidimensional.jl:127\u001b[24m\u001b[39m\n\u001b[0m  ...\n",
      "",
      "Stacktrace:",
      " [1] setindex!(A::Vector{Float64}, x::String, i1::Int64)",
      "   @ Base .\\array.jl:969",
      " [2] macro expansion",
      "   @ .\\multidimensional.jl:932 [inlined]",
      " [3] macro expansion",
      "   @ .\\cartesian.jl:64 [inlined]",
      " [4] _unsafe_setindex!",
      "   @ .\\multidimensional.jl:927 [inlined]",
      " [5] _setindex!",
      "   @ .\\multidimensional.jl:916 [inlined]",
      " [6] setindex!(A::Vector{Float64}, v::Vector{String}, I::Function)",
      "   @ Base .\\abstractarray.jl:1397",
      " [7] setindex!(df::DataFrame, new_df::DataFrame, row_inds::Colon, col_inds::UnitRange{Int64})",
      "   @ DataFrames C:\\Users\\bogum\\.julia\\packages\\DataFrames\\LteEl\\src\\dataframe\\dataframe.jl:743",
      " [8] top-level scope",
      "   @ In[79]:1"
     ]
    }
   ],
   "source": [
    "df[:, 1:2] = df2"
   ]
  },
  {
   "cell_type": "markdown",
   "metadata": {},
   "source": [
    "Warning: this operation is not atomic currently."
   ]
  },
  {
   "cell_type": "code",
   "execution_count": 80,
   "metadata": {},
   "outputs": [
    {
     "data": {
      "text/html": [
       "<div><div style = \"float: left;\"><span>2×5 DataFrame</span></div><div style = \"clear: both;\"></div></div><div class = \"data-frame\" style = \"overflow-x: scroll;\"><table class = \"data-frame\" style = \"margin-bottom: 6px;\"><thead><tr class = \"header\"><th class = \"rowNumber\" style = \"font-weight: bold; text-align: right;\">Row</th><th style = \"text-align: left;\">x1</th><th style = \"text-align: left;\">x2</th><th style = \"text-align: left;\">x3_1</th><th style = \"text-align: left;\">x3_2</th><th style = \"text-align: left;\">x3_3</th></tr><tr class = \"subheader headerLastRow\"><th class = \"rowNumber\" style = \"font-weight: bold; text-align: right;\"></th><th title = \"Float64\" style = \"text-align: left;\">Float64</th><th title = \"Float64\" style = \"text-align: left;\">Float64</th><th title = \"Int64\" style = \"text-align: left;\">Int64</th><th title = \"Int64\" style = \"text-align: left;\">Int64</th><th title = \"Int64\" style = \"text-align: left;\">Int64</th></tr></thead><tbody><tr><td class = \"rowNumber\" style = \"font-weight: bold; text-align: right;\">1</td><td style = \"text-align: right;\">10.0</td><td style = \"text-align: right;\">0.866453</td><td style = \"text-align: right;\">1</td><td style = \"text-align: right;\">1</td><td style = \"text-align: right;\">1</td></tr><tr><td class = \"rowNumber\" style = \"font-weight: bold; text-align: right;\">2</td><td style = \"text-align: right;\">20.0</td><td style = \"text-align: right;\">0.788149</td><td style = \"text-align: right;\">2</td><td style = \"text-align: right;\">2</td><td style = \"text-align: right;\">2</td></tr></tbody></table></div>"
      ],
      "text/latex": [
       "\\begin{tabular}{r|ccccc}\n",
       "\t& x1 & x2 & x3\\_1 & x3\\_2 & x3\\_3\\\\\n",
       "\t\\hline\n",
       "\t& Float64 & Float64 & Int64 & Int64 & Int64\\\\\n",
       "\t\\hline\n",
       "\t1 & 10.0 & 0.866453 & 1 & 1 & 1 \\\\\n",
       "\t2 & 20.0 & 0.788149 & 2 & 2 & 2 \\\\\n",
       "\\end{tabular}\n"
      ],
      "text/plain": [
       "\u001b[1m2×5 DataFrame\u001b[0m\n",
       "\u001b[1m Row \u001b[0m│\u001b[1m x1      \u001b[0m\u001b[1m x2       \u001b[0m\u001b[1m x3_1  \u001b[0m\u001b[1m x3_2  \u001b[0m\u001b[1m x3_3  \u001b[0m\n",
       "     │\u001b[90m Float64 \u001b[0m\u001b[90m Float64  \u001b[0m\u001b[90m Int64 \u001b[0m\u001b[90m Int64 \u001b[0m\u001b[90m Int64 \u001b[0m\n",
       "─────┼────────────────────────────────────────\n",
       "   1 │    10.0  0.866453      1      1      1\n",
       "   2 │    20.0  0.788149      2      2      2"
      ]
     },
     "execution_count": 80,
     "metadata": {},
     "output_type": "execute_result"
    }
   ],
   "source": [
    "df"
   ]
  },
  {
   "cell_type": "code",
   "execution_count": 81,
   "metadata": {},
   "outputs": [
    {
     "data": {
      "text/html": [
       "<div><div style = \"float: left;\"><span>2×2 DataFrame</span></div><div style = \"clear: both;\"></div></div><div class = \"data-frame\" style = \"overflow-x: scroll;\"><table class = \"data-frame\" style = \"margin-bottom: 6px;\"><thead><tr class = \"header\"><th class = \"rowNumber\" style = \"font-weight: bold; text-align: right;\">Row</th><th style = \"text-align: left;\">x1</th><th style = \"text-align: left;\">x2</th></tr><tr class = \"subheader headerLastRow\"><th class = \"rowNumber\" style = \"font-weight: bold; text-align: right;\"></th><th title = \"Int64\" style = \"text-align: left;\">Int64</th><th title = \"String\" style = \"text-align: left;\">String</th></tr></thead><tbody><tr><td class = \"rowNumber\" style = \"font-weight: bold; text-align: right;\">1</td><td style = \"text-align: right;\">10</td><td style = \"text-align: left;\">a</td></tr><tr><td class = \"rowNumber\" style = \"font-weight: bold; text-align: right;\">2</td><td style = \"text-align: right;\">20</td><td style = \"text-align: left;\">b</td></tr></tbody></table></div>"
      ],
      "text/latex": [
       "\\begin{tabular}{r|cc}\n",
       "\t& x1 & x2\\\\\n",
       "\t\\hline\n",
       "\t& Int64 & String\\\\\n",
       "\t\\hline\n",
       "\t1 & 10 & a \\\\\n",
       "\t2 & 20 & b \\\\\n",
       "\\end{tabular}\n"
      ],
      "text/plain": [
       "\u001b[1m2×2 DataFrame\u001b[0m\n",
       "\u001b[1m Row \u001b[0m│\u001b[1m x1    \u001b[0m\u001b[1m x2     \u001b[0m\n",
       "     │\u001b[90m Int64 \u001b[0m\u001b[90m String \u001b[0m\n",
       "─────┼───────────────\n",
       "   1 │    10  a\n",
       "   2 │    20  b"
      ]
     },
     "execution_count": 81,
     "metadata": {},
     "output_type": "execute_result"
    }
   ],
   "source": [
    "df[!, 1:2] = df2"
   ]
  },
  {
   "cell_type": "code",
   "execution_count": 82,
   "metadata": {},
   "outputs": [
    {
     "data": {
      "text/html": [
       "<div><div style = \"float: left;\"><span>2×5 DataFrame</span></div><div style = \"clear: both;\"></div></div><div class = \"data-frame\" style = \"overflow-x: scroll;\"><table class = \"data-frame\" style = \"margin-bottom: 6px;\"><thead><tr class = \"header\"><th class = \"rowNumber\" style = \"font-weight: bold; text-align: right;\">Row</th><th style = \"text-align: left;\">x1</th><th style = \"text-align: left;\">x2</th><th style = \"text-align: left;\">x3_1</th><th style = \"text-align: left;\">x3_2</th><th style = \"text-align: left;\">x3_3</th></tr><tr class = \"subheader headerLastRow\"><th class = \"rowNumber\" style = \"font-weight: bold; text-align: right;\"></th><th title = \"Int64\" style = \"text-align: left;\">Int64</th><th title = \"String\" style = \"text-align: left;\">String</th><th title = \"Int64\" style = \"text-align: left;\">Int64</th><th title = \"Int64\" style = \"text-align: left;\">Int64</th><th title = \"Int64\" style = \"text-align: left;\">Int64</th></tr></thead><tbody><tr><td class = \"rowNumber\" style = \"font-weight: bold; text-align: right;\">1</td><td style = \"text-align: right;\">10</td><td style = \"text-align: left;\">a</td><td style = \"text-align: right;\">1</td><td style = \"text-align: right;\">1</td><td style = \"text-align: right;\">1</td></tr><tr><td class = \"rowNumber\" style = \"font-weight: bold; text-align: right;\">2</td><td style = \"text-align: right;\">20</td><td style = \"text-align: left;\">b</td><td style = \"text-align: right;\">2</td><td style = \"text-align: right;\">2</td><td style = \"text-align: right;\">2</td></tr></tbody></table></div>"
      ],
      "text/latex": [
       "\\begin{tabular}{r|ccccc}\n",
       "\t& x1 & x2 & x3\\_1 & x3\\_2 & x3\\_3\\\\\n",
       "\t\\hline\n",
       "\t& Int64 & String & Int64 & Int64 & Int64\\\\\n",
       "\t\\hline\n",
       "\t1 & 10 & a & 1 & 1 & 1 \\\\\n",
       "\t2 & 20 & b & 2 & 2 & 2 \\\\\n",
       "\\end{tabular}\n"
      ],
      "text/plain": [
       "\u001b[1m2×5 DataFrame\u001b[0m\n",
       "\u001b[1m Row \u001b[0m│\u001b[1m x1    \u001b[0m\u001b[1m x2     \u001b[0m\u001b[1m x3_1  \u001b[0m\u001b[1m x3_2  \u001b[0m\u001b[1m x3_3  \u001b[0m\n",
       "     │\u001b[90m Int64 \u001b[0m\u001b[90m String \u001b[0m\u001b[90m Int64 \u001b[0m\u001b[90m Int64 \u001b[0m\u001b[90m Int64 \u001b[0m\n",
       "─────┼────────────────────────────────────\n",
       "   1 │    10  a           1      1      1\n",
       "   2 │    20  b           2      2      2"
      ]
     },
     "execution_count": 82,
     "metadata": {},
     "output_type": "execute_result"
    }
   ],
   "source": [
    "df"
   ]
  },
  {
   "cell_type": "markdown",
   "metadata": {},
   "source": [
    "<div class=\"alert alert-block alert-info\">\n",
    "<b>Tip:</b>\n",
    "\n",
    "In `setindex!` context:\n",
    "* when `:` is used to select rows it operates in-place (it works just as any row selector); except when adding a new column, in which case it copies a column;\n",
    "* when `!` is used to select rows it always allocates a new column; if a single column is selected - this is a no-copy operation; if multiple columns are selected a copy is always made\n",
    "* `df.single_col = v` is exactly the same as `df[!, single_col] = v` if `single_col` is a `Symbol` or string literal\n",
    "* it is not allowed to add columns to `SubDataFrame` or `DataFrameRow`\n",
    "\n",
    "</div>"
   ]
  },
  {
   "cell_type": "markdown",
   "metadata": {},
   "source": [
    "## broadcast"
   ]
  },
  {
   "cell_type": "markdown",
   "metadata": {},
   "source": [
    "Data frame behaves in broadcasting just like a matrix, with two exceptions:\n",
    "* it forces the style of the result to be a `DataFrame`\n",
    "* if several data frames take part in broadcasting they must have matching column names"
   ]
  },
  {
   "cell_type": "code",
   "execution_count": 83,
   "metadata": {},
   "outputs": [
    {
     "data": {
      "text/html": [
       "<div><div style = \"float: left;\"><span>6852038×4 DataFrame</span></div><div style = \"float: right;\"><span style = \"font-style: italic;\">6852013 rows omitted</span></div><div style = \"clear: both;\"></div></div><div class = \"data-frame\" style = \"overflow-x: scroll;\"><table class = \"data-frame\" style = \"margin-bottom: 6px;\"><thead><tr class = \"header\"><th class = \"rowNumber\" style = \"font-weight: bold; text-align: right;\">Row</th><th style = \"text-align: left;\">open</th><th style = \"text-align: left;\">high</th><th style = \"text-align: left;\">low</th><th style = \"text-align: left;\">close</th></tr><tr class = \"subheader headerLastRow\"><th class = \"rowNumber\" style = \"font-weight: bold; text-align: right;\"></th><th title = \"Float64\" style = \"text-align: left;\">Float64</th><th title = \"Float64\" style = \"text-align: left;\">Float64</th><th title = \"Float64\" style = \"text-align: left;\">Float64</th><th title = \"Float64\" style = \"text-align: left;\">Float64</th></tr></thead><tbody><tr><td class = \"rowNumber\" style = \"font-weight: bold; text-align: right;\">1</td><td style = \"text-align: right;\">2.87017</td><td style = \"text-align: right;\">2.87582</td><td style = \"text-align: right;\">2.86903</td><td style = \"text-align: right;\">2.87413</td></tr><tr><td class = \"rowNumber\" style = \"font-weight: bold; text-align: right;\">2</td><td style = \"text-align: right;\">2.87526</td><td style = \"text-align: right;\">2.87526</td><td style = \"text-align: right;\">2.86448</td><td style = \"text-align: right;\">2.87243</td></tr><tr><td class = \"rowNumber\" style = \"font-weight: bold; text-align: right;\">3</td><td style = \"text-align: right;\">2.87074</td><td style = \"text-align: right;\">2.8792</td><td style = \"text-align: right;\">2.86847</td><td style = \"text-align: right;\">2.87807</td></tr><tr><td class = \"rowNumber\" style = \"font-weight: bold; text-align: right;\">4</td><td style = \"text-align: right;\">2.87187</td><td style = \"text-align: right;\">2.873</td><td style = \"text-align: right;\">2.8696</td><td style = \"text-align: right;\">2.87243</td></tr><tr><td class = \"rowNumber\" style = \"font-weight: bold; text-align: right;\">5</td><td style = \"text-align: right;\">2.86163</td><td style = \"text-align: right;\">2.87187</td><td style = \"text-align: right;\">2.85762</td><td style = \"text-align: right;\">2.87187</td></tr><tr><td class = \"rowNumber\" style = \"font-weight: bold; text-align: right;\">6</td><td style = \"text-align: right;\">2.8679</td><td style = \"text-align: right;\">2.8679</td><td style = \"text-align: right;\">2.86334</td><td style = \"text-align: right;\">2.86733</td></tr><tr><td class = \"rowNumber\" style = \"font-weight: bold; text-align: right;\">7</td><td style = \"text-align: right;\">2.86847</td><td style = \"text-align: right;\">2.87413</td><td style = \"text-align: right;\">2.86562</td><td style = \"text-align: right;\">2.86847</td></tr><tr><td class = \"rowNumber\" style = \"font-weight: bold; text-align: right;\">8</td><td style = \"text-align: right;\">2.86505</td><td style = \"text-align: right;\">2.8713</td><td style = \"text-align: right;\">2.86505</td><td style = \"text-align: right;\">2.8713</td></tr><tr><td class = \"rowNumber\" style = \"font-weight: bold; text-align: right;\">9</td><td style = \"text-align: right;\">2.8622</td><td style = \"text-align: right;\">2.86619</td><td style = \"text-align: right;\">2.85877</td><td style = \"text-align: right;\">2.8622</td></tr><tr><td class = \"rowNumber\" style = \"font-weight: bold; text-align: right;\">10</td><td style = \"text-align: right;\">2.84897</td><td style = \"text-align: right;\">2.85647</td><td style = \"text-align: right;\">2.84839</td><td style = \"text-align: right;\">2.85647</td></tr><tr><td class = \"rowNumber\" style = \"font-weight: bold; text-align: right;\">11</td><td style = \"text-align: right;\">2.84897</td><td style = \"text-align: right;\">2.84897</td><td style = \"text-align: right;\">2.84141</td><td style = \"text-align: right;\">2.84665</td></tr><tr><td class = \"rowNumber\" style = \"font-weight: bold; text-align: right;\">12</td><td style = \"text-align: right;\">2.84433</td><td style = \"text-align: right;\">2.84781</td><td style = \"text-align: right;\">2.84258</td><td style = \"text-align: right;\">2.84781</td></tr><tr><td class = \"rowNumber\" style = \"font-weight: bold; text-align: right;\">13</td><td style = \"text-align: right;\">2.842</td><td style = \"text-align: right;\">2.84781</td><td style = \"text-align: right;\">2.83966</td><td style = \"text-align: right;\">2.84549</td></tr><tr><td style = \"text-align: right;\">&vellip;</td><td style = \"text-align: right;\">&vellip;</td><td style = \"text-align: right;\">&vellip;</td><td style = \"text-align: right;\">&vellip;</td><td style = \"text-align: right;\">&vellip;</td></tr><tr><td class = \"rowNumber\" style = \"font-weight: bold; text-align: right;\">6852027</td><td style = \"text-align: right;\">-2.04022</td><td style = \"text-align: right;\">-1.7148</td><td style = \"text-align: right;\">-2.04022</td><td style = \"text-align: right;\">-1.7148</td></tr><tr><td class = \"rowNumber\" style = \"font-weight: bold; text-align: right;\">6852028</td><td style = \"text-align: right;\">-2.12026</td><td style = \"text-align: right;\">-1.7148</td><td style = \"text-align: right;\">-2.12026</td><td style = \"text-align: right;\">-1.7148</td></tr><tr><td class = \"rowNumber\" style = \"font-weight: bold; text-align: right;\">6852029</td><td style = \"text-align: right;\">-2.04022</td><td style = \"text-align: right;\">-1.7148</td><td style = \"text-align: right;\">-2.12026</td><td style = \"text-align: right;\">-1.7148</td></tr><tr><td class = \"rowNumber\" style = \"font-weight: bold; text-align: right;\">6852030</td><td style = \"text-align: right;\">-1.7148</td><td style = \"text-align: right;\">-1.7148</td><td style = \"text-align: right;\">-1.77196</td><td style = \"text-align: right;\">-1.7148</td></tr><tr><td class = \"rowNumber\" style = \"font-weight: bold; text-align: right;\">6852031</td><td style = \"text-align: right;\">-2.12026</td><td style = \"text-align: right;\">-1.7148</td><td style = \"text-align: right;\">-2.12026</td><td style = \"text-align: right;\">-1.7148</td></tr><tr><td class = \"rowNumber\" style = \"font-weight: bold; text-align: right;\">6852032</td><td style = \"text-align: right;\">-2.04022</td><td style = \"text-align: right;\">-1.66073</td><td style = \"text-align: right;\">-2.04022</td><td style = \"text-align: right;\">-1.66073</td></tr><tr><td class = \"rowNumber\" style = \"font-weight: bold; text-align: right;\">6852033</td><td style = \"text-align: right;\">-1.96611</td><td style = \"text-align: right;\">-1.66073</td><td style = \"text-align: right;\">-1.96611</td><td style = \"text-align: right;\">-1.66073</td></tr><tr><td class = \"rowNumber\" style = \"font-weight: bold; text-align: right;\">6852034</td><td style = \"text-align: right;\">-1.96611</td><td style = \"text-align: right;\">-1.96611</td><td style = \"text-align: right;\">-1.96611</td><td style = \"text-align: right;\">-1.96611</td></tr><tr><td class = \"rowNumber\" style = \"font-weight: bold; text-align: right;\">6852035</td><td style = \"text-align: right;\">-1.89712</td><td style = \"text-align: right;\">-1.89712</td><td style = \"text-align: right;\">-1.89712</td><td style = \"text-align: right;\">-1.89712</td></tr><tr><td class = \"rowNumber\" style = \"font-weight: bold; text-align: right;\">6852036</td><td style = \"text-align: right;\">-1.96611</td><td style = \"text-align: right;\">-1.89712</td><td style = \"text-align: right;\">-2.04022</td><td style = \"text-align: right;\">-1.89712</td></tr><tr><td class = \"rowNumber\" style = \"font-weight: bold; text-align: right;\">6852037</td><td style = \"text-align: right;\">-1.51413</td><td style = \"text-align: right;\">-1.51413</td><td style = \"text-align: right;\">-1.96611</td><td style = \"text-align: right;\">-1.83258</td></tr><tr><td class = \"rowNumber\" style = \"font-weight: bold; text-align: right;\">6852038</td><td style = \"text-align: right;\">-1.7148</td><td style = \"text-align: right;\">-1.7148</td><td style = \"text-align: right;\">-1.7148</td><td style = \"text-align: right;\">-1.7148</td></tr></tbody></table></div>"
      ],
      "text/latex": [
       "\\begin{tabular}{r|cccc}\n",
       "\t& open & high & low & close\\\\\n",
       "\t\\hline\n",
       "\t& Float64 & Float64 & Float64 & Float64\\\\\n",
       "\t\\hline\n",
       "\t1 & 2.87017 & 2.87582 & 2.86903 & 2.87413 \\\\\n",
       "\t2 & 2.87526 & 2.87526 & 2.86448 & 2.87243 \\\\\n",
       "\t3 & 2.87074 & 2.8792 & 2.86847 & 2.87807 \\\\\n",
       "\t4 & 2.87187 & 2.873 & 2.8696 & 2.87243 \\\\\n",
       "\t5 & 2.86163 & 2.87187 & 2.85762 & 2.87187 \\\\\n",
       "\t6 & 2.8679 & 2.8679 & 2.86334 & 2.86733 \\\\\n",
       "\t7 & 2.86847 & 2.87413 & 2.86562 & 2.86847 \\\\\n",
       "\t8 & 2.86505 & 2.8713 & 2.86505 & 2.8713 \\\\\n",
       "\t9 & 2.8622 & 2.86619 & 2.85877 & 2.8622 \\\\\n",
       "\t10 & 2.84897 & 2.85647 & 2.84839 & 2.85647 \\\\\n",
       "\t11 & 2.84897 & 2.84897 & 2.84141 & 2.84665 \\\\\n",
       "\t12 & 2.84433 & 2.84781 & 2.84258 & 2.84781 \\\\\n",
       "\t13 & 2.842 & 2.84781 & 2.83966 & 2.84549 \\\\\n",
       "\t14 & 2.83498 & 2.84665 & 2.83321 & 2.84491 \\\\\n",
       "\t15 & 2.85302 & 2.85474 & 2.84781 & 2.84897 \\\\\n",
       "\t16 & 2.85244 & 2.85647 & 2.84316 & 2.84665 \\\\\n",
       "\t17 & 2.84491 & 2.85359 & 2.83791 & 2.85359 \\\\\n",
       "\t18 & 2.83966 & 2.84375 & 2.83732 & 2.83966 \\\\\n",
       "\t19 & 2.82435 & 2.83027 & 2.82197 & 2.83027 \\\\\n",
       "\t20 & 2.82376 & 2.82376 & 2.81361 & 2.819 \\\\\n",
       "\t21 & 2.83732 & 2.84258 & 2.83027 & 2.83966 \\\\\n",
       "\t22 & 2.8338 & 2.83674 & 2.82376 & 2.8285 \\\\\n",
       "\t23 & 2.8559 & 2.85647 & 2.84316 & 2.84723 \\\\\n",
       "\t24 & 2.85071 & 2.85474 & 2.84723 & 2.85474 \\\\\n",
       "\t25 & 2.84781 & 2.85186 & 2.84607 & 2.84897 \\\\\n",
       "\t26 & 2.84549 & 2.84607 & 2.83732 & 2.84258 \\\\\n",
       "\t27 & 2.82731 & 2.83966 & 2.82613 & 2.83908 \\\\\n",
       "\t28 & 2.84839 & 2.84839 & 2.83556 & 2.83615 \\\\\n",
       "\t29 & 2.84955 & 2.85244 & 2.84839 & 2.85071 \\\\\n",
       "\t30 & 2.85302 & 2.85359 & 2.84025 & 2.84549 \\\\\n",
       "\t$\\dots$ & $\\dots$ & $\\dots$ & $\\dots$ & $\\dots$ \\\\\n",
       "\\end{tabular}\n"
      ],
      "text/plain": [
       "\u001b[1m6852038×4 DataFrame\u001b[0m\n",
       "\u001b[1m     Row \u001b[0m│\u001b[1m open     \u001b[0m\u001b[1m high     \u001b[0m\u001b[1m low      \u001b[0m\u001b[1m close    \u001b[0m\n",
       "         │\u001b[90m Float64  \u001b[0m\u001b[90m Float64  \u001b[0m\u001b[90m Float64  \u001b[0m\u001b[90m Float64  \u001b[0m\n",
       "─────────┼────────────────────────────────────────\n",
       "       1 │  2.87017   2.87582   2.86903   2.87413\n",
       "       2 │  2.87526   2.87526   2.86448   2.87243\n",
       "       3 │  2.87074   2.8792    2.86847   2.87807\n",
       "       4 │  2.87187   2.873     2.8696    2.87243\n",
       "       5 │  2.86163   2.87187   2.85762   2.87187\n",
       "       6 │  2.8679    2.8679    2.86334   2.86733\n",
       "       7 │  2.86847   2.87413   2.86562   2.86847\n",
       "       8 │  2.86505   2.8713    2.86505   2.8713\n",
       "       9 │  2.8622    2.86619   2.85877   2.8622\n",
       "      10 │  2.84897   2.85647   2.84839   2.85647\n",
       "      11 │  2.84897   2.84897   2.84141   2.84665\n",
       "    ⋮    │    ⋮         ⋮         ⋮         ⋮\n",
       " 6852029 │ -2.04022  -1.7148   -2.12026  -1.7148\n",
       " 6852030 │ -1.7148   -1.7148   -1.77196  -1.7148\n",
       " 6852031 │ -2.12026  -1.7148   -2.12026  -1.7148\n",
       " 6852032 │ -2.04022  -1.66073  -2.04022  -1.66073\n",
       " 6852033 │ -1.96611  -1.66073  -1.96611  -1.66073\n",
       " 6852034 │ -1.96611  -1.96611  -1.96611  -1.96611\n",
       " 6852035 │ -1.89712  -1.89712  -1.89712  -1.89712\n",
       " 6852036 │ -1.96611  -1.89712  -2.04022  -1.89712\n",
       " 6852037 │ -1.51413  -1.51413  -1.96611  -1.83258\n",
       " 6852038 │ -1.7148   -1.7148   -1.7148   -1.7148\n",
       "\u001b[36m                              6852017 rows omitted\u001b[0m"
      ]
     },
     "execution_count": 83,
     "metadata": {},
     "output_type": "execute_result"
    }
   ],
   "source": [
    "log.(fh5[!, Between(:open, :close)])"
   ]
  },
  {
   "cell_type": "code",
   "execution_count": 84,
   "metadata": {},
   "outputs": [
    {
     "ename": "LoadError",
     "evalue": "DomainError with -0.8700000643730164:\nlog will only return a complex result if called with a complex argument. Try log(Complex(x)).",
     "output_type": "error",
     "traceback": [
      "DomainError with -0.8700000643730164:\nlog will only return a complex result if called with a complex argument. Try log(Complex(x)).",
      "",
      "Stacktrace:",
      "  [1] throw_complex_domainerror(f::Symbol, x::Float64)",
      "    @ Base.Math .\\math.jl:33",
      "  [2] _log(x::Float64, base::Val{:ℯ}, func::Symbol)",
      "    @ Base.Math .\\special\\log.jl:301",
      "  [3] log",
      "    @ .\\special\\log.jl:267 [inlined]",
      "  [4] _broadcast_getindex_evalf",
      "    @ .\\broadcast.jl:683 [inlined]",
      "  [5] _broadcast_getindex",
      "    @ .\\broadcast.jl:656 [inlined]",
      "  [6] getindex",
      "    @ .\\broadcast.jl:610 [inlined]",
      "  [7] copyto_widen!(res::Vector{Float64}, bc::Base.Broadcast.Broadcasted{DataFrames.DataFrameStyle, Tuple{Base.OneTo{Int64}, Base.OneTo{Int64}}, typeof(log), Tuple{Base.Broadcast.Extruded{Vector{Float64}, Tuple{Bool}, Tuple{Int64}}}}, pos::Int64, col::Int64)",
      "    @ DataFrames C:\\Users\\bogum\\.julia\\packages\\DataFrames\\LteEl\\src\\other\\broadcasting.jl:27",
      "  [8] copy(bc::Base.Broadcast.Broadcasted{DataFrames.DataFrameStyle, Tuple{Base.OneTo{Int64}, Base.OneTo{Int64}}, typeof(log), Tuple{DataFrame}})",
      "    @ DataFrames C:\\Users\\bogum\\.julia\\packages\\DataFrames\\LteEl\\src\\other\\broadcasting.jl:77",
      "  [9] materialize(bc::Base.Broadcast.Broadcasted{DataFrames.DataFrameStyle, Nothing, typeof(log), Tuple{DataFrame}})",
      "    @ Base.Broadcast .\\broadcast.jl:873",
      " [10] top-level scope",
      "    @ In[84]:1"
     ]
    }
   ],
   "source": [
    "log.(fh5[!, Between(:open, :adjclose)])"
   ]
  },
  {
   "cell_type": "code",
   "execution_count": 85,
   "metadata": {},
   "outputs": [
    {
     "data": {
      "text/html": [
       "<div><div style = \"float: left;\"><span>1350×9 DataFrame</span></div><div style = \"float: right;\"><span style = \"font-style: italic;\">1325 rows omitted</span></div><div style = \"clear: both;\"></div></div><div class = \"data-frame\" style = \"overflow-x: scroll;\"><table class = \"data-frame\" style = \"margin-bottom: 6px;\"><thead><tr class = \"header\"><th class = \"rowNumber\" style = \"font-weight: bold; text-align: right;\">Row</th><th style = \"text-align: left;\">date</th><th style = \"text-align: left;\">volume</th><th style = \"text-align: left;\">open</th><th style = \"text-align: left;\">high</th><th style = \"text-align: left;\">low</th><th style = \"text-align: left;\">close</th><th style = \"text-align: left;\">adjclose</th><th style = \"text-align: left;\">symbol</th><th style = \"text-align: left;\">col_idx</th></tr><tr class = \"subheader headerLastRow\"><th class = \"rowNumber\" style = \"font-weight: bold; text-align: right;\"></th><th title = \"Date\" style = \"text-align: left;\">Date</th><th title = \"Int64\" style = \"text-align: left;\">Int64</th><th title = \"Float64\" style = \"text-align: left;\">Float64</th><th title = \"Float64\" style = \"text-align: left;\">Float64</th><th title = \"Float64\" style = \"text-align: left;\">Float64</th><th title = \"Float64\" style = \"text-align: left;\">Float64</th><th title = \"Float64\" style = \"text-align: left;\">Float64</th><th title = \"String7\" style = \"text-align: left;\">String7</th><th title = \"Int64\" style = \"text-align: left;\">Int64</th></tr></thead><tbody><tr><td class = \"rowNumber\" style = \"font-weight: bold; text-align: right;\">1</td><td style = \"text-align: left;\">2020-05-13</td><td style = \"text-align: right;\">507400</td><td style = \"text-align: right;\">3.4</td><td style = \"text-align: right;\">3.4</td><td style = \"text-align: right;\">2.99</td><td style = \"text-align: right;\">3.02</td><td style = \"text-align: right;\">-0.87</td><td style = \"text-align: left;\">HCHC</td><td style = \"text-align: right;\">2814814</td></tr><tr><td class = \"rowNumber\" style = \"font-weight: bold; text-align: right;\">2</td><td style = \"text-align: left;\">2020-05-12</td><td style = \"text-align: right;\">658600</td><td style = \"text-align: right;\">3.22</td><td style = \"text-align: right;\">3.48</td><td style = \"text-align: right;\">3.11</td><td style = \"text-align: right;\">3.19</td><td style = \"text-align: right;\">-0.918974</td><td style = \"text-align: left;\">HCHC</td><td style = \"text-align: right;\">2814815</td></tr><tr><td class = \"rowNumber\" style = \"font-weight: bold; text-align: right;\">3</td><td style = \"text-align: left;\">2020-05-11</td><td style = \"text-align: right;\">564700</td><td style = \"text-align: right;\">3.17</td><td style = \"text-align: right;\">3.43</td><td style = \"text-align: right;\">3.12</td><td style = \"text-align: right;\">3.18</td><td style = \"text-align: right;\">-0.916093</td><td style = \"text-align: left;\">HCHC</td><td style = \"text-align: right;\">2814816</td></tr><tr><td class = \"rowNumber\" style = \"font-weight: bold; text-align: right;\">4</td><td style = \"text-align: left;\">2020-05-08</td><td style = \"text-align: right;\">264600</td><td style = \"text-align: right;\">2.92</td><td style = \"text-align: right;\">3.08</td><td style = \"text-align: right;\">2.8</td><td style = \"text-align: right;\">3.06</td><td style = \"text-align: right;\">-0.881523</td><td style = \"text-align: left;\">HCHC</td><td style = \"text-align: right;\">2814817</td></tr><tr><td class = \"rowNumber\" style = \"font-weight: bold; text-align: right;\">5</td><td style = \"text-align: left;\">2020-05-07</td><td style = \"text-align: right;\">246900</td><td style = \"text-align: right;\">3.06</td><td style = \"text-align: right;\">3.06</td><td style = \"text-align: right;\">2.67</td><td style = \"text-align: right;\">2.8</td><td style = \"text-align: right;\">-0.806623</td><td style = \"text-align: left;\">HCHC</td><td style = \"text-align: right;\">2814818</td></tr><tr><td class = \"rowNumber\" style = \"font-weight: bold; text-align: right;\">6</td><td style = \"text-align: left;\">2020-05-06</td><td style = \"text-align: right;\">219500</td><td style = \"text-align: right;\">2.87</td><td style = \"text-align: right;\">3.08</td><td style = \"text-align: right;\">2.78</td><td style = \"text-align: right;\">2.98</td><td style = \"text-align: right;\">-0.858477</td><td style = \"text-align: left;\">HCHC</td><td style = \"text-align: right;\">2814819</td></tr><tr><td class = \"rowNumber\" style = \"font-weight: bold; text-align: right;\">7</td><td style = \"text-align: left;\">2020-05-05</td><td style = \"text-align: right;\">190900</td><td style = \"text-align: right;\">2.7</td><td style = \"text-align: right;\">2.84</td><td style = \"text-align: right;\">2.7</td><td style = \"text-align: right;\">2.8</td><td style = \"text-align: right;\">-0.806623</td><td style = \"text-align: left;\">HCHC</td><td style = \"text-align: right;\">2814820</td></tr><tr><td class = \"rowNumber\" style = \"font-weight: bold; text-align: right;\">8</td><td style = \"text-align: left;\">2020-05-04</td><td style = \"text-align: right;\">139800</td><td style = \"text-align: right;\">2.58</td><td style = \"text-align: right;\">2.8</td><td style = \"text-align: right;\">2.58</td><td style = \"text-align: right;\">2.69</td><td style = \"text-align: right;\">-0.774934</td><td style = \"text-align: left;\">HCHC</td><td style = \"text-align: right;\">2814821</td></tr><tr><td class = \"rowNumber\" style = \"font-weight: bold; text-align: right;\">9</td><td style = \"text-align: left;\">2020-05-01</td><td style = \"text-align: right;\">288800</td><td style = \"text-align: right;\">2.64</td><td style = \"text-align: right;\">2.77</td><td style = \"text-align: right;\">2.54</td><td style = \"text-align: right;\">2.65</td><td style = \"text-align: right;\">-0.763411</td><td style = \"text-align: left;\">HCHC</td><td style = \"text-align: right;\">2814822</td></tr><tr><td class = \"rowNumber\" style = \"font-weight: bold; text-align: right;\">10</td><td style = \"text-align: left;\">2020-04-30</td><td style = \"text-align: right;\">199700</td><td style = \"text-align: right;\">2.88</td><td style = \"text-align: right;\">2.88</td><td style = \"text-align: right;\">2.61</td><td style = \"text-align: right;\">2.69</td><td style = \"text-align: right;\">-0.774934</td><td style = \"text-align: left;\">HCHC</td><td style = \"text-align: right;\">2814823</td></tr><tr><td class = \"rowNumber\" style = \"font-weight: bold; text-align: right;\">11</td><td style = \"text-align: left;\">2020-04-29</td><td style = \"text-align: right;\">300800</td><td style = \"text-align: right;\">2.56</td><td style = \"text-align: right;\">2.9</td><td style = \"text-align: right;\">2.51</td><td style = \"text-align: right;\">2.85</td><td style = \"text-align: right;\">-0.821027</td><td style = \"text-align: left;\">HCHC</td><td style = \"text-align: right;\">2814824</td></tr><tr><td class = \"rowNumber\" style = \"font-weight: bold; text-align: right;\">12</td><td style = \"text-align: left;\">2020-04-28</td><td style = \"text-align: right;\">258300</td><td style = \"text-align: right;\">2.55</td><td style = \"text-align: right;\">2.76</td><td style = \"text-align: right;\">2.52</td><td style = \"text-align: right;\">2.56</td><td style = \"text-align: right;\">-0.737484</td><td style = \"text-align: left;\">HCHC</td><td style = \"text-align: right;\">2814825</td></tr><tr><td class = \"rowNumber\" style = \"font-weight: bold; text-align: right;\">13</td><td style = \"text-align: left;\">2020-04-27</td><td style = \"text-align: right;\">155300</td><td style = \"text-align: right;\">2.6</td><td style = \"text-align: right;\">2.73</td><td style = \"text-align: right;\">2.51</td><td style = \"text-align: right;\">2.55</td><td style = \"text-align: right;\">-0.734603</td><td style = \"text-align: left;\">HCHC</td><td style = \"text-align: right;\">2814826</td></tr><tr><td style = \"text-align: right;\">&vellip;</td><td style = \"text-align: right;\">&vellip;</td><td style = \"text-align: right;\">&vellip;</td><td style = \"text-align: right;\">&vellip;</td><td style = \"text-align: right;\">&vellip;</td><td style = \"text-align: right;\">&vellip;</td><td style = \"text-align: right;\">&vellip;</td><td style = \"text-align: right;\">&vellip;</td><td style = \"text-align: right;\">&vellip;</td><td style = \"text-align: right;\">&vellip;</td></tr><tr><td class = \"rowNumber\" style = \"font-weight: bold; text-align: right;\">1339</td><td style = \"text-align: left;\">2015-01-20</td><td style = \"text-align: right;\">50200</td><td style = \"text-align: right;\">7.95</td><td style = \"text-align: right;\">8.07</td><td style = \"text-align: right;\">7.92</td><td style = \"text-align: right;\">8.02</td><td style = \"text-align: right;\">-2.3104</td><td style = \"text-align: left;\">HCHC</td><td style = \"text-align: right;\">2816152</td></tr><tr><td class = \"rowNumber\" style = \"font-weight: bold; text-align: right;\">1340</td><td style = \"text-align: left;\">2015-01-16</td><td style = \"text-align: right;\">65300</td><td style = \"text-align: right;\">8.04</td><td style = \"text-align: right;\">8.09</td><td style = \"text-align: right;\">7.94</td><td style = \"text-align: right;\">7.97</td><td style = \"text-align: right;\">-2.29599</td><td style = \"text-align: left;\">HCHC</td><td style = \"text-align: right;\">2816153</td></tr><tr><td class = \"rowNumber\" style = \"font-weight: bold; text-align: right;\">1341</td><td style = \"text-align: left;\">2015-01-15</td><td style = \"text-align: right;\">38300</td><td style = \"text-align: right;\">8.2</td><td style = \"text-align: right;\">8.22</td><td style = \"text-align: right;\">8.0</td><td style = \"text-align: right;\">8.08</td><td style = \"text-align: right;\">-2.32768</td><td style = \"text-align: left;\">HCHC</td><td style = \"text-align: right;\">2816154</td></tr><tr><td class = \"rowNumber\" style = \"font-weight: bold; text-align: right;\">1342</td><td style = \"text-align: left;\">2015-01-14</td><td style = \"text-align: right;\">128600</td><td style = \"text-align: right;\">8.1</td><td style = \"text-align: right;\">8.35</td><td style = \"text-align: right;\">8.05</td><td style = \"text-align: right;\">8.18</td><td style = \"text-align: right;\">-2.35649</td><td style = \"text-align: left;\">HCHC</td><td style = \"text-align: right;\">2816155</td></tr><tr><td class = \"rowNumber\" style = \"font-weight: bold; text-align: right;\">1343</td><td style = \"text-align: left;\">2015-01-13</td><td style = \"text-align: right;\">27700</td><td style = \"text-align: right;\">8.19</td><td style = \"text-align: right;\">8.19</td><td style = \"text-align: right;\">8.0</td><td style = \"text-align: right;\">8.1</td><td style = \"text-align: right;\">-2.33344</td><td style = \"text-align: left;\">HCHC</td><td style = \"text-align: right;\">2816156</td></tr><tr><td class = \"rowNumber\" style = \"font-weight: bold; text-align: right;\">1344</td><td style = \"text-align: left;\">2015-01-12</td><td style = \"text-align: right;\">46400</td><td style = \"text-align: right;\">8.35</td><td style = \"text-align: right;\">8.35</td><td style = \"text-align: right;\">8.01</td><td style = \"text-align: right;\">8.19</td><td style = \"text-align: right;\">-2.35937</td><td style = \"text-align: left;\">HCHC</td><td style = \"text-align: right;\">2816157</td></tr><tr><td class = \"rowNumber\" style = \"font-weight: bold; text-align: right;\">1345</td><td style = \"text-align: left;\">2015-01-09</td><td style = \"text-align: right;\">38500</td><td style = \"text-align: right;\">8.32</td><td style = \"text-align: right;\">8.55</td><td style = \"text-align: right;\">8.29</td><td style = \"text-align: right;\">8.4</td><td style = \"text-align: right;\">-2.41987</td><td style = \"text-align: left;\">HCHC</td><td style = \"text-align: right;\">2816158</td></tr><tr><td class = \"rowNumber\" style = \"font-weight: bold; text-align: right;\">1346</td><td style = \"text-align: left;\">2015-01-08</td><td style = \"text-align: right;\">99000</td><td style = \"text-align: right;\">8.25</td><td style = \"text-align: right;\">8.38</td><td style = \"text-align: right;\">8.22</td><td style = \"text-align: right;\">8.38</td><td style = \"text-align: right;\">-2.41411</td><td style = \"text-align: left;\">HCHC</td><td style = \"text-align: right;\">2816159</td></tr><tr><td class = \"rowNumber\" style = \"font-weight: bold; text-align: right;\">1347</td><td style = \"text-align: left;\">2015-01-07</td><td style = \"text-align: right;\">17600</td><td style = \"text-align: right;\">8.3</td><td style = \"text-align: right;\">8.35</td><td style = \"text-align: right;\">8.11</td><td style = \"text-align: right;\">8.2</td><td style = \"text-align: right;\">-2.36225</td><td style = \"text-align: left;\">HCHC</td><td style = \"text-align: right;\">2816160</td></tr><tr><td class = \"rowNumber\" style = \"font-weight: bold; text-align: right;\">1348</td><td style = \"text-align: left;\">2015-01-06</td><td style = \"text-align: right;\">231500</td><td style = \"text-align: right;\">8.15</td><td style = \"text-align: right;\">8.37</td><td style = \"text-align: right;\">8.05</td><td style = \"text-align: right;\">8.25</td><td style = \"text-align: right;\">-2.37666</td><td style = \"text-align: left;\">HCHC</td><td style = \"text-align: right;\">2816161</td></tr><tr><td class = \"rowNumber\" style = \"font-weight: bold; text-align: right;\">1349</td><td style = \"text-align: left;\">2015-01-05</td><td style = \"text-align: right;\">33400</td><td style = \"text-align: right;\">8.34</td><td style = \"text-align: right;\">8.34</td><td style = \"text-align: right;\">7.92</td><td style = \"text-align: right;\">8.0</td><td style = \"text-align: right;\">-2.30464</td><td style = \"text-align: left;\">HCHC</td><td style = \"text-align: right;\">2816162</td></tr><tr><td class = \"rowNumber\" style = \"font-weight: bold; text-align: right;\">1350</td><td style = \"text-align: left;\">2015-01-02</td><td style = \"text-align: right;\">28700</td><td style = \"text-align: right;\">8.41</td><td style = \"text-align: right;\">8.45</td><td style = \"text-align: right;\">8.21</td><td style = \"text-align: right;\">8.31</td><td style = \"text-align: right;\">-2.39394</td><td style = \"text-align: left;\">HCHC</td><td style = \"text-align: right;\">2816163</td></tr></tbody></table></div>"
      ],
      "text/latex": [
       "\\begin{tabular}{r|ccccccccc}\n",
       "\t& date & volume & open & high & low & close & adjclose & symbol & col\\_idx\\\\\n",
       "\t\\hline\n",
       "\t& Date & Int64 & Float64 & Float64 & Float64 & Float64 & Float64 & String7 & Int64\\\\\n",
       "\t\\hline\n",
       "\t1 & 2020-05-13 & 507400 & 3.4 & 3.4 & 2.99 & 3.02 & -0.87 & HCHC & 2814814 \\\\\n",
       "\t2 & 2020-05-12 & 658600 & 3.22 & 3.48 & 3.11 & 3.19 & -0.918974 & HCHC & 2814815 \\\\\n",
       "\t3 & 2020-05-11 & 564700 & 3.17 & 3.43 & 3.12 & 3.18 & -0.916093 & HCHC & 2814816 \\\\\n",
       "\t4 & 2020-05-08 & 264600 & 2.92 & 3.08 & 2.8 & 3.06 & -0.881523 & HCHC & 2814817 \\\\\n",
       "\t5 & 2020-05-07 & 246900 & 3.06 & 3.06 & 2.67 & 2.8 & -0.806623 & HCHC & 2814818 \\\\\n",
       "\t6 & 2020-05-06 & 219500 & 2.87 & 3.08 & 2.78 & 2.98 & -0.858477 & HCHC & 2814819 \\\\\n",
       "\t7 & 2020-05-05 & 190900 & 2.7 & 2.84 & 2.7 & 2.8 & -0.806623 & HCHC & 2814820 \\\\\n",
       "\t8 & 2020-05-04 & 139800 & 2.58 & 2.8 & 2.58 & 2.69 & -0.774934 & HCHC & 2814821 \\\\\n",
       "\t9 & 2020-05-01 & 288800 & 2.64 & 2.77 & 2.54 & 2.65 & -0.763411 & HCHC & 2814822 \\\\\n",
       "\t10 & 2020-04-30 & 199700 & 2.88 & 2.88 & 2.61 & 2.69 & -0.774934 & HCHC & 2814823 \\\\\n",
       "\t11 & 2020-04-29 & 300800 & 2.56 & 2.9 & 2.51 & 2.85 & -0.821027 & HCHC & 2814824 \\\\\n",
       "\t12 & 2020-04-28 & 258300 & 2.55 & 2.76 & 2.52 & 2.56 & -0.737484 & HCHC & 2814825 \\\\\n",
       "\t13 & 2020-04-27 & 155300 & 2.6 & 2.73 & 2.51 & 2.55 & -0.734603 & HCHC & 2814826 \\\\\n",
       "\t14 & 2020-04-24 & 177300 & 2.83 & 2.84 & 2.63 & 2.66 & -0.766291 & HCHC & 2814827 \\\\\n",
       "\t15 & 2020-04-23 & 349700 & 2.51 & 2.79 & 2.38 & 2.76 & -0.795099 & HCHC & 2814828 \\\\\n",
       "\t16 & 2020-04-22 & 209000 & 2.72 & 2.8 & 2.39 & 2.43 & -0.700033 & HCHC & 2814829 \\\\\n",
       "\t17 & 2020-04-21 & 259100 & 2.41 & 2.62 & 2.35 & 2.59 & -0.746126 & HCHC & 2814830 \\\\\n",
       "\t18 & 2020-04-20 & 208200 & 2.14 & 2.43 & 2.14 & 2.39 & -0.68851 & HCHC & 2814831 \\\\\n",
       "\t19 & 2020-04-17 & 281500 & 2.26 & 2.27 & 2.06 & 2.22 & -0.639536 & HCHC & 2814832 \\\\\n",
       "\t20 & 2020-04-16 & 157400 & 2.35 & 2.38 & 2.2 & 2.27 & -0.65394 & HCHC & 2814833 \\\\\n",
       "\t21 & 2020-04-15 & 199400 & 2.24 & 2.34 & 2.1 & 2.32 & -0.668344 & HCHC & 2814834 \\\\\n",
       "\t22 & 2020-04-14 & 271500 & 2.22 & 2.38 & 2.18 & 2.29 & -0.659702 & HCHC & 2814835 \\\\\n",
       "\t23 & 2020-04-13 & 216900 & 2.25 & 2.35 & 2.03 & 2.12 & -0.610729 & HCHC & 2814836 \\\\\n",
       "\t24 & 2020-04-09 & 295300 & 2.05 & 2.25 & 1.92 & 2.21 & -0.636656 & HCHC & 2814837 \\\\\n",
       "\t25 & 2020-04-08 & 259700 & 2.02 & 2.06 & 1.81 & 2.0 & -0.576159 & HCHC & 2814838 \\\\\n",
       "\t26 & 2020-04-07 & 933600 & 1.8 & 2.05 & 1.55 & 1.94 & -0.558874 & HCHC & 2814839 \\\\\n",
       "\t27 & 2020-04-06 & 621300 & 1.5 & 1.82 & 1.48 & 1.72 & -0.495497 & HCHC & 2814840 \\\\\n",
       "\t28 & 2020-04-03 & 290500 & 1.36 & 1.48 & 1.3 & 1.45 & -0.417715 & HCHC & 2814841 \\\\\n",
       "\t29 & 2020-04-02 & 421600 & 1.49 & 1.5 & 1.3 & 1.36 & -0.391788 & HCHC & 2814842 \\\\\n",
       "\t30 & 2020-04-01 & 202700 & 1.46 & 1.55 & 1.45 & 1.5 & -0.432119 & HCHC & 2814843 \\\\\n",
       "\t$\\dots$ & $\\dots$ & $\\dots$ & $\\dots$ & $\\dots$ & $\\dots$ & $\\dots$ & $\\dots$ & $\\dots$ & $\\dots$ \\\\\n",
       "\\end{tabular}\n"
      ],
      "text/plain": [
       "\u001b[1m1350×9 DataFrame\u001b[0m\n",
       "\u001b[1m  Row \u001b[0m│\u001b[1m date       \u001b[0m\u001b[1m volume \u001b[0m\u001b[1m open    \u001b[0m\u001b[1m high    \u001b[0m\u001b[1m low     \u001b[0m\u001b[1m close   \u001b[0m\u001b[1m adjclose  \u001b[0m\u001b[1m sym\u001b[0m ⋯\n",
       "      │\u001b[90m Date       \u001b[0m\u001b[90m Int64  \u001b[0m\u001b[90m Float64 \u001b[0m\u001b[90m Float64 \u001b[0m\u001b[90m Float64 \u001b[0m\u001b[90m Float64 \u001b[0m\u001b[90m Float64   \u001b[0m\u001b[90m Str\u001b[0m ⋯\n",
       "──────┼─────────────────────────────────────────────────────────────────────────\n",
       "    1 │ 2020-05-13  507400     3.4      3.4      2.99     3.02  -0.87      HCH ⋯\n",
       "    2 │ 2020-05-12  658600     3.22     3.48     3.11     3.19  -0.918974  HCH\n",
       "    3 │ 2020-05-11  564700     3.17     3.43     3.12     3.18  -0.916093  HCH\n",
       "    4 │ 2020-05-08  264600     2.92     3.08     2.8      3.06  -0.881523  HCH\n",
       "    5 │ 2020-05-07  246900     3.06     3.06     2.67     2.8   -0.806623  HCH ⋯\n",
       "    6 │ 2020-05-06  219500     2.87     3.08     2.78     2.98  -0.858477  HCH\n",
       "    7 │ 2020-05-05  190900     2.7      2.84     2.7      2.8   -0.806623  HCH\n",
       "    8 │ 2020-05-04  139800     2.58     2.8      2.58     2.69  -0.774934  HCH\n",
       "    9 │ 2020-05-01  288800     2.64     2.77     2.54     2.65  -0.763411  HCH ⋯\n",
       "   10 │ 2020-04-30  199700     2.88     2.88     2.61     2.69  -0.774934  HCH\n",
       "   11 │ 2020-04-29  300800     2.56     2.9      2.51     2.85  -0.821027  HCH\n",
       "  ⋮   │     ⋮         ⋮        ⋮        ⋮        ⋮        ⋮         ⋮          ⋱\n",
       " 1341 │ 2015-01-15   38300     8.2      8.22     8.0      8.08  -2.32768   HCH\n",
       " 1342 │ 2015-01-14  128600     8.1      8.35     8.05     8.18  -2.35649   HCH ⋯\n",
       " 1343 │ 2015-01-13   27700     8.19     8.19     8.0      8.1   -2.33344   HCH\n",
       " 1344 │ 2015-01-12   46400     8.35     8.35     8.01     8.19  -2.35937   HCH\n",
       " 1345 │ 2015-01-09   38500     8.32     8.55     8.29     8.4   -2.41987   HCH\n",
       " 1346 │ 2015-01-08   99000     8.25     8.38     8.22     8.38  -2.41411   HCH ⋯\n",
       " 1347 │ 2015-01-07   17600     8.3      8.35     8.11     8.2   -2.36225   HCH\n",
       " 1348 │ 2015-01-06  231500     8.15     8.37     8.05     8.25  -2.37666   HCH\n",
       " 1349 │ 2015-01-05   33400     8.34     8.34     7.92     8.0   -2.30464   HCH\n",
       " 1350 │ 2015-01-02   28700     8.41     8.45     8.21     8.31  -2.39394   HCH ⋯\n",
       "\u001b[36m                                                 2 columns and 1329 rows omitted\u001b[0m"
      ]
     },
     "execution_count": 85,
     "metadata": {},
     "output_type": "execute_result"
    }
   ],
   "source": [
    "filter(:adjclose => <=(0), fh5)"
   ]
  },
  {
   "cell_type": "code",
   "execution_count": 86,
   "metadata": {},
   "outputs": [
    {
     "data": {
      "text/html": [
       "<div><div style = \"float: left;\"><span>9×7 DataFrame</span></div><div style = \"clear: both;\"></div></div><div class = \"data-frame\" style = \"overflow-x: scroll;\"><table class = \"data-frame\" style = \"margin-bottom: 6px;\"><thead><tr class = \"header\"><th class = \"rowNumber\" style = \"font-weight: bold; text-align: right;\">Row</th><th style = \"text-align: left;\">variable</th><th style = \"text-align: left;\">mean</th><th style = \"text-align: left;\">min</th><th style = \"text-align: left;\">median</th><th style = \"text-align: left;\">max</th><th style = \"text-align: left;\">nmissing</th><th style = \"text-align: left;\">eltype</th></tr><tr class = \"subheader headerLastRow\"><th class = \"rowNumber\" style = \"font-weight: bold; text-align: right;\"></th><th title = \"Symbol\" style = \"text-align: left;\">Symbol</th><th title = \"Union{Nothing, Float64}\" style = \"text-align: left;\">Union…</th><th title = \"Any\" style = \"text-align: left;\">Any</th><th title = \"Any\" style = \"text-align: left;\">Any</th><th title = \"Any\" style = \"text-align: left;\">Any</th><th title = \"Int64\" style = \"text-align: left;\">Int64</th><th title = \"DataType\" style = \"text-align: left;\">DataType</th></tr></thead><tbody><tr><td class = \"rowNumber\" style = \"font-weight: bold; text-align: right;\">1</td><td style = \"text-align: left;\">date</td><td style = \"font-style: italic; text-align: left;\"></td><td style = \"text-align: left;\">2015-01-02</td><td style = \"text-align: left;\">2018-01-17</td><td style = \"text-align: left;\">2020-07-02</td><td style = \"text-align: right;\">0</td><td style = \"text-align: left;\">Date</td></tr><tr><td class = \"rowNumber\" style = \"font-weight: bold; text-align: right;\">2</td><td style = \"text-align: left;\">volume</td><td style = \"text-align: left;\">1.01541e6</td><td style = \"text-align: left;\">1</td><td style = \"text-align: left;\">120600.0</td><td style = \"text-align: left;\">2156725200</td><td style = \"text-align: right;\">0</td><td style = \"text-align: left;\">Int64</td></tr><tr><td class = \"rowNumber\" style = \"font-weight: bold; text-align: right;\">3</td><td style = \"text-align: left;\">open</td><td style = \"text-align: left;\">298.086</td><td style = \"text-align: left;\">0.001</td><td style = \"text-align: left;\">24.95</td><td style = \"text-align: left;\">6.91553e7</td><td style = \"text-align: right;\">0</td><td style = \"text-align: left;\">Float64</td></tr><tr><td class = \"rowNumber\" style = \"font-weight: bold; text-align: right;\">4</td><td style = \"text-align: left;\">high</td><td style = \"text-align: left;\">305.876</td><td style = \"text-align: left;\">0.0</td><td style = \"text-align: left;\">25.11</td><td style = \"text-align: left;\">7.05886e7</td><td style = \"text-align: right;\">0</td><td style = \"text-align: left;\">Float64</td></tr><tr><td class = \"rowNumber\" style = \"font-weight: bold; text-align: right;\">5</td><td style = \"text-align: left;\">low</td><td style = \"text-align: left;\">291.014</td><td style = \"text-align: left;\">0.0</td><td style = \"text-align: left;\">24.75</td><td style = \"text-align: left;\">6.84387e7</td><td style = \"text-align: right;\">0</td><td style = \"text-align: left;\">Float64</td></tr><tr><td class = \"rowNumber\" style = \"font-weight: bold; text-align: right;\">6</td><td style = \"text-align: left;\">close</td><td style = \"text-align: left;\">296.783</td><td style = \"text-align: left;\">0.001</td><td style = \"text-align: left;\">24.94</td><td style = \"text-align: left;\">6.95136e7</td><td style = \"text-align: right;\">0</td><td style = \"text-align: left;\">Float64</td></tr><tr><td class = \"rowNumber\" style = \"font-weight: bold; text-align: right;\">7</td><td style = \"text-align: left;\">adjclose</td><td style = \"text-align: left;\">293.231</td><td style = \"text-align: left;\">-3.77096</td><td style = \"text-align: left;\">23.3258</td><td style = \"text-align: left;\">6.90222e7</td><td style = \"text-align: right;\">0</td><td style = \"text-align: left;\">Float64</td></tr><tr><td class = \"rowNumber\" style = \"font-weight: bold; text-align: right;\">8</td><td style = \"text-align: left;\">symbol</td><td style = \"font-style: italic; text-align: left;\"></td><td style = \"text-align: left;\">AAAU</td><td style = \"font-style: italic; text-align: left;\"></td><td style = \"text-align: left;\">ZYXI</td><td style = \"text-align: right;\">0</td><td style = \"text-align: left;\">String7</td></tr><tr><td class = \"rowNumber\" style = \"font-weight: bold; text-align: right;\">9</td><td style = \"text-align: left;\">col_idx</td><td style = \"text-align: left;\">3.42602e6</td><td style = \"text-align: left;\">1</td><td style = \"text-align: left;\">3.42602e6</td><td style = \"text-align: left;\">6852038</td><td style = \"text-align: right;\">0</td><td style = \"text-align: left;\">Int64</td></tr></tbody></table></div>"
      ],
      "text/latex": [
       "\\begin{tabular}{r|ccccccc}\n",
       "\t& variable & mean & min & median & max & nmissing & eltype\\\\\n",
       "\t\\hline\n",
       "\t& Symbol & Union… & Any & Any & Any & Int64 & DataType\\\\\n",
       "\t\\hline\n",
       "\t1 & date &  & 2015-01-02 & 2018-01-17 & 2020-07-02 & 0 & Date \\\\\n",
       "\t2 & volume & 1.01541e6 & 1 & 120600.0 & 2156725200 & 0 & Int64 \\\\\n",
       "\t3 & open & 298.086 & 0.001 & 24.95 & 6.91553e7 & 0 & Float64 \\\\\n",
       "\t4 & high & 305.876 & 0.0 & 25.11 & 7.05886e7 & 0 & Float64 \\\\\n",
       "\t5 & low & 291.014 & 0.0 & 24.75 & 6.84387e7 & 0 & Float64 \\\\\n",
       "\t6 & close & 296.783 & 0.001 & 24.94 & 6.95136e7 & 0 & Float64 \\\\\n",
       "\t7 & adjclose & 293.231 & -3.77096 & 23.3258 & 6.90222e7 & 0 & Float64 \\\\\n",
       "\t8 & symbol &  & AAAU &  & ZYXI & 0 & String7 \\\\\n",
       "\t9 & col\\_idx & 3.42602e6 & 1 & 3.42602e6 & 6852038 & 0 & Int64 \\\\\n",
       "\\end{tabular}\n"
      ],
      "text/plain": [
       "\u001b[1m9×7 DataFrame\u001b[0m\n",
       "\u001b[1m Row \u001b[0m│\u001b[1m variable \u001b[0m\u001b[1m mean      \u001b[0m\u001b[1m min        \u001b[0m\u001b[1m median     \u001b[0m\u001b[1m max        \u001b[0m\u001b[1m nmissing \u001b[0m\u001b[1m elty\u001b[0m ⋯\n",
       "     │\u001b[90m Symbol   \u001b[0m\u001b[90m Union…    \u001b[0m\u001b[90m Any        \u001b[0m\u001b[90m Any        \u001b[0m\u001b[90m Any        \u001b[0m\u001b[90m Int64    \u001b[0m\u001b[90m Data\u001b[0m ⋯\n",
       "─────┼──────────────────────────────────────────────────────────────────────────\n",
       "   1 │ date     \u001b[90m           \u001b[0m 2015-01-02  2018-01-17  2020-07-02         0  Date ⋯\n",
       "   2 │ volume    1.01541e6  1           120600.0    2156725200         0  Int6\n",
       "   3 │ open      298.086    0.001       24.95       6.91553e7          0  Floa\n",
       "   4 │ high      305.876    0.0         25.11       7.05886e7          0  Floa\n",
       "   5 │ low       291.014    0.0         24.75       6.84387e7          0  Floa ⋯\n",
       "   6 │ close     296.783    0.001       24.94       6.95136e7          0  Floa\n",
       "   7 │ adjclose  293.231    -3.77096    23.3258     6.90222e7          0  Floa\n",
       "   8 │ symbol   \u001b[90m           \u001b[0m AAAU       \u001b[90m            \u001b[0m ZYXI               0  Stri\n",
       "   9 │ col_idx   3.42602e6  1           3.42602e6   6852038            0  Int6 ⋯\n",
       "\u001b[36m                                                                1 column omitted\u001b[0m"
      ]
     },
     "execution_count": 86,
     "metadata": {},
     "output_type": "execute_result"
    }
   ],
   "source": [
    "describe(fh5)"
   ]
  },
  {
   "cell_type": "markdown",
   "metadata": {},
   "source": [
    "#### Exercise"
   ]
  },
  {
   "cell_type": "markdown",
   "metadata": {},
   "source": [
    "Replace non-positive values in `:adjclose` by a value in `:close` and store it in a variable `:adjclose_fix`."
   ]
  },
  {
   "cell_type": "code",
   "execution_count": null,
   "metadata": {},
   "outputs": [],
   "source": []
  },
  {
   "cell_type": "code",
   "execution_count": 87,
   "metadata": {},
   "outputs": [
    {
     "data": {
      "text/html": [
       "<div><div style = \"float: left;\"><span>1350×9 DataFrame</span></div><div style = \"float: right;\"><span style = \"font-style: italic;\">1325 rows omitted</span></div><div style = \"clear: both;\"></div></div><div class = \"data-frame\" style = \"overflow-x: scroll;\"><table class = \"data-frame\" style = \"margin-bottom: 6px;\"><thead><tr class = \"header\"><th class = \"rowNumber\" style = \"font-weight: bold; text-align: right;\">Row</th><th style = \"text-align: left;\">date</th><th style = \"text-align: left;\">volume</th><th style = \"text-align: left;\">open</th><th style = \"text-align: left;\">high</th><th style = \"text-align: left;\">low</th><th style = \"text-align: left;\">close</th><th style = \"text-align: left;\">adjclose</th><th style = \"text-align: left;\">symbol</th><th style = \"text-align: left;\">col_idx</th></tr><tr class = \"subheader headerLastRow\"><th class = \"rowNumber\" style = \"font-weight: bold; text-align: right;\"></th><th title = \"Date\" style = \"text-align: left;\">Date</th><th title = \"Int64\" style = \"text-align: left;\">Int64</th><th title = \"Float64\" style = \"text-align: left;\">Float64</th><th title = \"Float64\" style = \"text-align: left;\">Float64</th><th title = \"Float64\" style = \"text-align: left;\">Float64</th><th title = \"Float64\" style = \"text-align: left;\">Float64</th><th title = \"Float64\" style = \"text-align: left;\">Float64</th><th title = \"String7\" style = \"text-align: left;\">String7</th><th title = \"Int64\" style = \"text-align: left;\">Int64</th></tr></thead><tbody><tr><td class = \"rowNumber\" style = \"font-weight: bold; text-align: right;\">1</td><td style = \"text-align: left;\">2020-05-13</td><td style = \"text-align: right;\">507400</td><td style = \"text-align: right;\">3.4</td><td style = \"text-align: right;\">3.4</td><td style = \"text-align: right;\">2.99</td><td style = \"text-align: right;\">3.02</td><td style = \"text-align: right;\">-0.87</td><td style = \"text-align: left;\">HCHC</td><td style = \"text-align: right;\">2814814</td></tr><tr><td class = \"rowNumber\" style = \"font-weight: bold; text-align: right;\">2</td><td style = \"text-align: left;\">2020-05-12</td><td style = \"text-align: right;\">658600</td><td style = \"text-align: right;\">3.22</td><td style = \"text-align: right;\">3.48</td><td style = \"text-align: right;\">3.11</td><td style = \"text-align: right;\">3.19</td><td style = \"text-align: right;\">-0.918974</td><td style = \"text-align: left;\">HCHC</td><td style = \"text-align: right;\">2814815</td></tr><tr><td class = \"rowNumber\" style = \"font-weight: bold; text-align: right;\">3</td><td style = \"text-align: left;\">2020-05-11</td><td style = \"text-align: right;\">564700</td><td style = \"text-align: right;\">3.17</td><td style = \"text-align: right;\">3.43</td><td style = \"text-align: right;\">3.12</td><td style = \"text-align: right;\">3.18</td><td style = \"text-align: right;\">-0.916093</td><td style = \"text-align: left;\">HCHC</td><td style = \"text-align: right;\">2814816</td></tr><tr><td class = \"rowNumber\" style = \"font-weight: bold; text-align: right;\">4</td><td style = \"text-align: left;\">2020-05-08</td><td style = \"text-align: right;\">264600</td><td style = \"text-align: right;\">2.92</td><td style = \"text-align: right;\">3.08</td><td style = \"text-align: right;\">2.8</td><td style = \"text-align: right;\">3.06</td><td style = \"text-align: right;\">-0.881523</td><td style = \"text-align: left;\">HCHC</td><td style = \"text-align: right;\">2814817</td></tr><tr><td class = \"rowNumber\" style = \"font-weight: bold; text-align: right;\">5</td><td style = \"text-align: left;\">2020-05-07</td><td style = \"text-align: right;\">246900</td><td style = \"text-align: right;\">3.06</td><td style = \"text-align: right;\">3.06</td><td style = \"text-align: right;\">2.67</td><td style = \"text-align: right;\">2.8</td><td style = \"text-align: right;\">-0.806623</td><td style = \"text-align: left;\">HCHC</td><td style = \"text-align: right;\">2814818</td></tr><tr><td class = \"rowNumber\" style = \"font-weight: bold; text-align: right;\">6</td><td style = \"text-align: left;\">2020-05-06</td><td style = \"text-align: right;\">219500</td><td style = \"text-align: right;\">2.87</td><td style = \"text-align: right;\">3.08</td><td style = \"text-align: right;\">2.78</td><td style = \"text-align: right;\">2.98</td><td style = \"text-align: right;\">-0.858477</td><td style = \"text-align: left;\">HCHC</td><td style = \"text-align: right;\">2814819</td></tr><tr><td class = \"rowNumber\" style = \"font-weight: bold; text-align: right;\">7</td><td style = \"text-align: left;\">2020-05-05</td><td style = \"text-align: right;\">190900</td><td style = \"text-align: right;\">2.7</td><td style = \"text-align: right;\">2.84</td><td style = \"text-align: right;\">2.7</td><td style = \"text-align: right;\">2.8</td><td style = \"text-align: right;\">-0.806623</td><td style = \"text-align: left;\">HCHC</td><td style = \"text-align: right;\">2814820</td></tr><tr><td class = \"rowNumber\" style = \"font-weight: bold; text-align: right;\">8</td><td style = \"text-align: left;\">2020-05-04</td><td style = \"text-align: right;\">139800</td><td style = \"text-align: right;\">2.58</td><td style = \"text-align: right;\">2.8</td><td style = \"text-align: right;\">2.58</td><td style = \"text-align: right;\">2.69</td><td style = \"text-align: right;\">-0.774934</td><td style = \"text-align: left;\">HCHC</td><td style = \"text-align: right;\">2814821</td></tr><tr><td class = \"rowNumber\" style = \"font-weight: bold; text-align: right;\">9</td><td style = \"text-align: left;\">2020-05-01</td><td style = \"text-align: right;\">288800</td><td style = \"text-align: right;\">2.64</td><td style = \"text-align: right;\">2.77</td><td style = \"text-align: right;\">2.54</td><td style = \"text-align: right;\">2.65</td><td style = \"text-align: right;\">-0.763411</td><td style = \"text-align: left;\">HCHC</td><td style = \"text-align: right;\">2814822</td></tr><tr><td class = \"rowNumber\" style = \"font-weight: bold; text-align: right;\">10</td><td style = \"text-align: left;\">2020-04-30</td><td style = \"text-align: right;\">199700</td><td style = \"text-align: right;\">2.88</td><td style = \"text-align: right;\">2.88</td><td style = \"text-align: right;\">2.61</td><td style = \"text-align: right;\">2.69</td><td style = \"text-align: right;\">-0.774934</td><td style = \"text-align: left;\">HCHC</td><td style = \"text-align: right;\">2814823</td></tr><tr><td class = \"rowNumber\" style = \"font-weight: bold; text-align: right;\">11</td><td style = \"text-align: left;\">2020-04-29</td><td style = \"text-align: right;\">300800</td><td style = \"text-align: right;\">2.56</td><td style = \"text-align: right;\">2.9</td><td style = \"text-align: right;\">2.51</td><td style = \"text-align: right;\">2.85</td><td style = \"text-align: right;\">-0.821027</td><td style = \"text-align: left;\">HCHC</td><td style = \"text-align: right;\">2814824</td></tr><tr><td class = \"rowNumber\" style = \"font-weight: bold; text-align: right;\">12</td><td style = \"text-align: left;\">2020-04-28</td><td style = \"text-align: right;\">258300</td><td style = \"text-align: right;\">2.55</td><td style = \"text-align: right;\">2.76</td><td style = \"text-align: right;\">2.52</td><td style = \"text-align: right;\">2.56</td><td style = \"text-align: right;\">-0.737484</td><td style = \"text-align: left;\">HCHC</td><td style = \"text-align: right;\">2814825</td></tr><tr><td class = \"rowNumber\" style = \"font-weight: bold; text-align: right;\">13</td><td style = \"text-align: left;\">2020-04-27</td><td style = \"text-align: right;\">155300</td><td style = \"text-align: right;\">2.6</td><td style = \"text-align: right;\">2.73</td><td style = \"text-align: right;\">2.51</td><td style = \"text-align: right;\">2.55</td><td style = \"text-align: right;\">-0.734603</td><td style = \"text-align: left;\">HCHC</td><td style = \"text-align: right;\">2814826</td></tr><tr><td style = \"text-align: right;\">&vellip;</td><td style = \"text-align: right;\">&vellip;</td><td style = \"text-align: right;\">&vellip;</td><td style = \"text-align: right;\">&vellip;</td><td style = \"text-align: right;\">&vellip;</td><td style = \"text-align: right;\">&vellip;</td><td style = \"text-align: right;\">&vellip;</td><td style = \"text-align: right;\">&vellip;</td><td style = \"text-align: right;\">&vellip;</td><td style = \"text-align: right;\">&vellip;</td></tr><tr><td class = \"rowNumber\" style = \"font-weight: bold; text-align: right;\">1339</td><td style = \"text-align: left;\">2015-01-20</td><td style = \"text-align: right;\">50200</td><td style = \"text-align: right;\">7.95</td><td style = \"text-align: right;\">8.07</td><td style = \"text-align: right;\">7.92</td><td style = \"text-align: right;\">8.02</td><td style = \"text-align: right;\">-2.3104</td><td style = \"text-align: left;\">HCHC</td><td style = \"text-align: right;\">2816152</td></tr><tr><td class = \"rowNumber\" style = \"font-weight: bold; text-align: right;\">1340</td><td style = \"text-align: left;\">2015-01-16</td><td style = \"text-align: right;\">65300</td><td style = \"text-align: right;\">8.04</td><td style = \"text-align: right;\">8.09</td><td style = \"text-align: right;\">7.94</td><td style = \"text-align: right;\">7.97</td><td style = \"text-align: right;\">-2.29599</td><td style = \"text-align: left;\">HCHC</td><td style = \"text-align: right;\">2816153</td></tr><tr><td class = \"rowNumber\" style = \"font-weight: bold; text-align: right;\">1341</td><td style = \"text-align: left;\">2015-01-15</td><td style = \"text-align: right;\">38300</td><td style = \"text-align: right;\">8.2</td><td style = \"text-align: right;\">8.22</td><td style = \"text-align: right;\">8.0</td><td style = \"text-align: right;\">8.08</td><td style = \"text-align: right;\">-2.32768</td><td style = \"text-align: left;\">HCHC</td><td style = \"text-align: right;\">2816154</td></tr><tr><td class = \"rowNumber\" style = \"font-weight: bold; text-align: right;\">1342</td><td style = \"text-align: left;\">2015-01-14</td><td style = \"text-align: right;\">128600</td><td style = \"text-align: right;\">8.1</td><td style = \"text-align: right;\">8.35</td><td style = \"text-align: right;\">8.05</td><td style = \"text-align: right;\">8.18</td><td style = \"text-align: right;\">-2.35649</td><td style = \"text-align: left;\">HCHC</td><td style = \"text-align: right;\">2816155</td></tr><tr><td class = \"rowNumber\" style = \"font-weight: bold; text-align: right;\">1343</td><td style = \"text-align: left;\">2015-01-13</td><td style = \"text-align: right;\">27700</td><td style = \"text-align: right;\">8.19</td><td style = \"text-align: right;\">8.19</td><td style = \"text-align: right;\">8.0</td><td style = \"text-align: right;\">8.1</td><td style = \"text-align: right;\">-2.33344</td><td style = \"text-align: left;\">HCHC</td><td style = \"text-align: right;\">2816156</td></tr><tr><td class = \"rowNumber\" style = \"font-weight: bold; text-align: right;\">1344</td><td style = \"text-align: left;\">2015-01-12</td><td style = \"text-align: right;\">46400</td><td style = \"text-align: right;\">8.35</td><td style = \"text-align: right;\">8.35</td><td style = \"text-align: right;\">8.01</td><td style = \"text-align: right;\">8.19</td><td style = \"text-align: right;\">-2.35937</td><td style = \"text-align: left;\">HCHC</td><td style = \"text-align: right;\">2816157</td></tr><tr><td class = \"rowNumber\" style = \"font-weight: bold; text-align: right;\">1345</td><td style = \"text-align: left;\">2015-01-09</td><td style = \"text-align: right;\">38500</td><td style = \"text-align: right;\">8.32</td><td style = \"text-align: right;\">8.55</td><td style = \"text-align: right;\">8.29</td><td style = \"text-align: right;\">8.4</td><td style = \"text-align: right;\">-2.41987</td><td style = \"text-align: left;\">HCHC</td><td style = \"text-align: right;\">2816158</td></tr><tr><td class = \"rowNumber\" style = \"font-weight: bold; text-align: right;\">1346</td><td style = \"text-align: left;\">2015-01-08</td><td style = \"text-align: right;\">99000</td><td style = \"text-align: right;\">8.25</td><td style = \"text-align: right;\">8.38</td><td style = \"text-align: right;\">8.22</td><td style = \"text-align: right;\">8.38</td><td style = \"text-align: right;\">-2.41411</td><td style = \"text-align: left;\">HCHC</td><td style = \"text-align: right;\">2816159</td></tr><tr><td class = \"rowNumber\" style = \"font-weight: bold; text-align: right;\">1347</td><td style = \"text-align: left;\">2015-01-07</td><td style = \"text-align: right;\">17600</td><td style = \"text-align: right;\">8.3</td><td style = \"text-align: right;\">8.35</td><td style = \"text-align: right;\">8.11</td><td style = \"text-align: right;\">8.2</td><td style = \"text-align: right;\">-2.36225</td><td style = \"text-align: left;\">HCHC</td><td style = \"text-align: right;\">2816160</td></tr><tr><td class = \"rowNumber\" style = \"font-weight: bold; text-align: right;\">1348</td><td style = \"text-align: left;\">2015-01-06</td><td style = \"text-align: right;\">231500</td><td style = \"text-align: right;\">8.15</td><td style = \"text-align: right;\">8.37</td><td style = \"text-align: right;\">8.05</td><td style = \"text-align: right;\">8.25</td><td style = \"text-align: right;\">-2.37666</td><td style = \"text-align: left;\">HCHC</td><td style = \"text-align: right;\">2816161</td></tr><tr><td class = \"rowNumber\" style = \"font-weight: bold; text-align: right;\">1349</td><td style = \"text-align: left;\">2015-01-05</td><td style = \"text-align: right;\">33400</td><td style = \"text-align: right;\">8.34</td><td style = \"text-align: right;\">8.34</td><td style = \"text-align: right;\">7.92</td><td style = \"text-align: right;\">8.0</td><td style = \"text-align: right;\">-2.30464</td><td style = \"text-align: left;\">HCHC</td><td style = \"text-align: right;\">2816162</td></tr><tr><td class = \"rowNumber\" style = \"font-weight: bold; text-align: right;\">1350</td><td style = \"text-align: left;\">2015-01-02</td><td style = \"text-align: right;\">28700</td><td style = \"text-align: right;\">8.41</td><td style = \"text-align: right;\">8.45</td><td style = \"text-align: right;\">8.21</td><td style = \"text-align: right;\">8.31</td><td style = \"text-align: right;\">-2.39394</td><td style = \"text-align: left;\">HCHC</td><td style = \"text-align: right;\">2816163</td></tr></tbody></table></div>"
      ],
      "text/latex": [
       "\\begin{tabular}{r|ccccccccc}\n",
       "\t& date & volume & open & high & low & close & adjclose & symbol & col\\_idx\\\\\n",
       "\t\\hline\n",
       "\t& Date & Int64 & Float64 & Float64 & Float64 & Float64 & Float64 & String7 & Int64\\\\\n",
       "\t\\hline\n",
       "\t1 & 2020-05-13 & 507400 & 3.4 & 3.4 & 2.99 & 3.02 & -0.87 & HCHC & 2814814 \\\\\n",
       "\t2 & 2020-05-12 & 658600 & 3.22 & 3.48 & 3.11 & 3.19 & -0.918974 & HCHC & 2814815 \\\\\n",
       "\t3 & 2020-05-11 & 564700 & 3.17 & 3.43 & 3.12 & 3.18 & -0.916093 & HCHC & 2814816 \\\\\n",
       "\t4 & 2020-05-08 & 264600 & 2.92 & 3.08 & 2.8 & 3.06 & -0.881523 & HCHC & 2814817 \\\\\n",
       "\t5 & 2020-05-07 & 246900 & 3.06 & 3.06 & 2.67 & 2.8 & -0.806623 & HCHC & 2814818 \\\\\n",
       "\t6 & 2020-05-06 & 219500 & 2.87 & 3.08 & 2.78 & 2.98 & -0.858477 & HCHC & 2814819 \\\\\n",
       "\t7 & 2020-05-05 & 190900 & 2.7 & 2.84 & 2.7 & 2.8 & -0.806623 & HCHC & 2814820 \\\\\n",
       "\t8 & 2020-05-04 & 139800 & 2.58 & 2.8 & 2.58 & 2.69 & -0.774934 & HCHC & 2814821 \\\\\n",
       "\t9 & 2020-05-01 & 288800 & 2.64 & 2.77 & 2.54 & 2.65 & -0.763411 & HCHC & 2814822 \\\\\n",
       "\t10 & 2020-04-30 & 199700 & 2.88 & 2.88 & 2.61 & 2.69 & -0.774934 & HCHC & 2814823 \\\\\n",
       "\t11 & 2020-04-29 & 300800 & 2.56 & 2.9 & 2.51 & 2.85 & -0.821027 & HCHC & 2814824 \\\\\n",
       "\t12 & 2020-04-28 & 258300 & 2.55 & 2.76 & 2.52 & 2.56 & -0.737484 & HCHC & 2814825 \\\\\n",
       "\t13 & 2020-04-27 & 155300 & 2.6 & 2.73 & 2.51 & 2.55 & -0.734603 & HCHC & 2814826 \\\\\n",
       "\t14 & 2020-04-24 & 177300 & 2.83 & 2.84 & 2.63 & 2.66 & -0.766291 & HCHC & 2814827 \\\\\n",
       "\t15 & 2020-04-23 & 349700 & 2.51 & 2.79 & 2.38 & 2.76 & -0.795099 & HCHC & 2814828 \\\\\n",
       "\t16 & 2020-04-22 & 209000 & 2.72 & 2.8 & 2.39 & 2.43 & -0.700033 & HCHC & 2814829 \\\\\n",
       "\t17 & 2020-04-21 & 259100 & 2.41 & 2.62 & 2.35 & 2.59 & -0.746126 & HCHC & 2814830 \\\\\n",
       "\t18 & 2020-04-20 & 208200 & 2.14 & 2.43 & 2.14 & 2.39 & -0.68851 & HCHC & 2814831 \\\\\n",
       "\t19 & 2020-04-17 & 281500 & 2.26 & 2.27 & 2.06 & 2.22 & -0.639536 & HCHC & 2814832 \\\\\n",
       "\t20 & 2020-04-16 & 157400 & 2.35 & 2.38 & 2.2 & 2.27 & -0.65394 & HCHC & 2814833 \\\\\n",
       "\t21 & 2020-04-15 & 199400 & 2.24 & 2.34 & 2.1 & 2.32 & -0.668344 & HCHC & 2814834 \\\\\n",
       "\t22 & 2020-04-14 & 271500 & 2.22 & 2.38 & 2.18 & 2.29 & -0.659702 & HCHC & 2814835 \\\\\n",
       "\t23 & 2020-04-13 & 216900 & 2.25 & 2.35 & 2.03 & 2.12 & -0.610729 & HCHC & 2814836 \\\\\n",
       "\t24 & 2020-04-09 & 295300 & 2.05 & 2.25 & 1.92 & 2.21 & -0.636656 & HCHC & 2814837 \\\\\n",
       "\t25 & 2020-04-08 & 259700 & 2.02 & 2.06 & 1.81 & 2.0 & -0.576159 & HCHC & 2814838 \\\\\n",
       "\t26 & 2020-04-07 & 933600 & 1.8 & 2.05 & 1.55 & 1.94 & -0.558874 & HCHC & 2814839 \\\\\n",
       "\t27 & 2020-04-06 & 621300 & 1.5 & 1.82 & 1.48 & 1.72 & -0.495497 & HCHC & 2814840 \\\\\n",
       "\t28 & 2020-04-03 & 290500 & 1.36 & 1.48 & 1.3 & 1.45 & -0.417715 & HCHC & 2814841 \\\\\n",
       "\t29 & 2020-04-02 & 421600 & 1.49 & 1.5 & 1.3 & 1.36 & -0.391788 & HCHC & 2814842 \\\\\n",
       "\t30 & 2020-04-01 & 202700 & 1.46 & 1.55 & 1.45 & 1.5 & -0.432119 & HCHC & 2814843 \\\\\n",
       "\t$\\dots$ & $\\dots$ & $\\dots$ & $\\dots$ & $\\dots$ & $\\dots$ & $\\dots$ & $\\dots$ & $\\dots$ & $\\dots$ \\\\\n",
       "\\end{tabular}\n"
      ],
      "text/plain": [
       "\u001b[1m1350×9 DataFrame\u001b[0m\n",
       "\u001b[1m  Row \u001b[0m│\u001b[1m date       \u001b[0m\u001b[1m volume \u001b[0m\u001b[1m open    \u001b[0m\u001b[1m high    \u001b[0m\u001b[1m low     \u001b[0m\u001b[1m close   \u001b[0m\u001b[1m adjclose  \u001b[0m\u001b[1m sym\u001b[0m ⋯\n",
       "      │\u001b[90m Date       \u001b[0m\u001b[90m Int64  \u001b[0m\u001b[90m Float64 \u001b[0m\u001b[90m Float64 \u001b[0m\u001b[90m Float64 \u001b[0m\u001b[90m Float64 \u001b[0m\u001b[90m Float64   \u001b[0m\u001b[90m Str\u001b[0m ⋯\n",
       "──────┼─────────────────────────────────────────────────────────────────────────\n",
       "    1 │ 2020-05-13  507400     3.4      3.4      2.99     3.02  -0.87      HCH ⋯\n",
       "    2 │ 2020-05-12  658600     3.22     3.48     3.11     3.19  -0.918974  HCH\n",
       "    3 │ 2020-05-11  564700     3.17     3.43     3.12     3.18  -0.916093  HCH\n",
       "    4 │ 2020-05-08  264600     2.92     3.08     2.8      3.06  -0.881523  HCH\n",
       "    5 │ 2020-05-07  246900     3.06     3.06     2.67     2.8   -0.806623  HCH ⋯\n",
       "    6 │ 2020-05-06  219500     2.87     3.08     2.78     2.98  -0.858477  HCH\n",
       "    7 │ 2020-05-05  190900     2.7      2.84     2.7      2.8   -0.806623  HCH\n",
       "    8 │ 2020-05-04  139800     2.58     2.8      2.58     2.69  -0.774934  HCH\n",
       "    9 │ 2020-05-01  288800     2.64     2.77     2.54     2.65  -0.763411  HCH ⋯\n",
       "   10 │ 2020-04-30  199700     2.88     2.88     2.61     2.69  -0.774934  HCH\n",
       "   11 │ 2020-04-29  300800     2.56     2.9      2.51     2.85  -0.821027  HCH\n",
       "  ⋮   │     ⋮         ⋮        ⋮        ⋮        ⋮        ⋮         ⋮          ⋱\n",
       " 1341 │ 2015-01-15   38300     8.2      8.22     8.0      8.08  -2.32768   HCH\n",
       " 1342 │ 2015-01-14  128600     8.1      8.35     8.05     8.18  -2.35649   HCH ⋯\n",
       " 1343 │ 2015-01-13   27700     8.19     8.19     8.0      8.1   -2.33344   HCH\n",
       " 1344 │ 2015-01-12   46400     8.35     8.35     8.01     8.19  -2.35937   HCH\n",
       " 1345 │ 2015-01-09   38500     8.32     8.55     8.29     8.4   -2.41987   HCH\n",
       " 1346 │ 2015-01-08   99000     8.25     8.38     8.22     8.38  -2.41411   HCH ⋯\n",
       " 1347 │ 2015-01-07   17600     8.3      8.35     8.11     8.2   -2.36225   HCH\n",
       " 1348 │ 2015-01-06  231500     8.15     8.37     8.05     8.25  -2.37666   HCH\n",
       " 1349 │ 2015-01-05   33400     8.34     8.34     7.92     8.0   -2.30464   HCH\n",
       " 1350 │ 2015-01-02   28700     8.41     8.45     8.21     8.31  -2.39394   HCH ⋯\n",
       "\u001b[36m                                                 2 columns and 1329 rows omitted\u001b[0m"
      ]
     },
     "execution_count": 87,
     "metadata": {},
     "output_type": "execute_result"
    }
   ],
   "source": [
    "filter(:adjclose => <=(0), fh5)"
   ]
  },
  {
   "cell_type": "markdown",
   "metadata": {},
   "source": [
    "and something more advanced now for each stock calculate a column with log-returns of `:close` and store it in `:close_returns`:"
   ]
  },
  {
   "cell_type": "code",
   "execution_count": 88,
   "metadata": {},
   "outputs": [
    {
     "data": {
      "text/html": [
       "<div><div style = \"float: left;\"><span>6852038×9 DataFrame</span></div><div style = \"float: right;\"><span style = \"font-style: italic;\">6852013 rows omitted</span></div><div style = \"clear: both;\"></div></div><div class = \"data-frame\" style = \"overflow-x: scroll;\"><table class = \"data-frame\" style = \"margin-bottom: 6px;\"><thead><tr class = \"header\"><th class = \"rowNumber\" style = \"font-weight: bold; text-align: right;\">Row</th><th style = \"text-align: left;\">date</th><th style = \"text-align: left;\">volume</th><th style = \"text-align: left;\">open</th><th style = \"text-align: left;\">high</th><th style = \"text-align: left;\">low</th><th style = \"text-align: left;\">close</th><th style = \"text-align: left;\">adjclose</th><th style = \"text-align: left;\">symbol</th><th style = \"text-align: left;\">col_idx</th></tr><tr class = \"subheader headerLastRow\"><th class = \"rowNumber\" style = \"font-weight: bold; text-align: right;\"></th><th title = \"Date\" style = \"text-align: left;\">Date</th><th title = \"Int64\" style = \"text-align: left;\">Int64</th><th title = \"Float64\" style = \"text-align: left;\">Float64</th><th title = \"Float64\" style = \"text-align: left;\">Float64</th><th title = \"Float64\" style = \"text-align: left;\">Float64</th><th title = \"Float64\" style = \"text-align: left;\">Float64</th><th title = \"Float64\" style = \"text-align: left;\">Float64</th><th title = \"String7\" style = \"text-align: left;\">String7</th><th title = \"Int64\" style = \"text-align: left;\">Int64</th></tr></thead><tbody><tr><td class = \"rowNumber\" style = \"font-weight: bold; text-align: right;\">1</td><td style = \"text-align: left;\">2015-01-02</td><td style = \"text-align: right;\">2000</td><td style = \"text-align: right;\">37.25</td><td style = \"text-align: right;\">37.25</td><td style = \"text-align: right;\">36.64</td><td style = \"text-align: right;\">36.64</td><td style = \"text-align: right;\">35.3998</td><td style = \"text-align: left;\">AADR</td><td style = \"text-align: right;\">2114</td></tr><tr><td class = \"rowNumber\" style = \"font-weight: bold; text-align: right;\">2</td><td style = \"text-align: left;\">2015-01-02</td><td style = \"text-align: right;\">10748600</td><td style = \"text-align: right;\">54.28</td><td style = \"text-align: right;\">54.6</td><td style = \"text-align: right;\">53.07</td><td style = \"text-align: right;\">53.91</td><td style = \"text-align: right;\">51.0799</td><td style = \"text-align: left;\">AAL</td><td style = \"text-align: right;\">3499</td></tr><tr><td class = \"rowNumber\" style = \"font-weight: bold; text-align: right;\">3</td><td style = \"text-align: left;\">2015-01-02</td><td style = \"text-align: right;\">11500</td><td style = \"text-align: right;\">308.0</td><td style = \"text-align: right;\">348.59</td><td style = \"text-align: right;\">308.0</td><td style = \"text-align: right;\">327.18</td><td style = \"text-align: right;\">327.18</td><td style = \"text-align: left;\">AAMC</td><td style = \"text-align: right;\">4798</td></tr><tr><td class = \"rowNumber\" style = \"font-weight: bold; text-align: right;\">4</td><td style = \"text-align: left;\">2015-01-02</td><td style = \"text-align: right;\">11400</td><td style = \"text-align: right;\">3.99</td><td style = \"text-align: right;\">4.03</td><td style = \"text-align: right;\">3.98</td><td style = \"text-align: right;\">4.03</td><td style = \"text-align: right;\">3.91772</td><td style = \"text-align: left;\">AAME</td><td style = \"text-align: right;\">6079</td></tr><tr><td class = \"rowNumber\" style = \"font-weight: bold; text-align: right;\">5</td><td style = \"text-align: left;\">2015-01-02</td><td style = \"text-align: right;\">898900</td><td style = \"text-align: right;\">30.81</td><td style = \"text-align: right;\">30.86</td><td style = \"text-align: right;\">30.04</td><td style = \"text-align: right;\">30.62</td><td style = \"text-align: right;\">30.0588</td><td style = \"text-align: left;\">AAN</td><td style = \"text-align: right;\">7464</td></tr><tr><td class = \"rowNumber\" style = \"font-weight: bold; text-align: right;\">6</td><td style = \"text-align: left;\">2015-01-02</td><td style = \"text-align: right;\">184600</td><td style = \"text-align: right;\">11.28</td><td style = \"text-align: right;\">11.28</td><td style = \"text-align: right;\">10.72</td><td style = \"text-align: right;\">10.79</td><td style = \"text-align: right;\">10.79</td><td style = \"text-align: left;\">AAOI</td><td style = \"text-align: right;\">8840</td></tr><tr><td class = \"rowNumber\" style = \"font-weight: bold; text-align: right;\">7</td><td style = \"text-align: left;\">2015-01-02</td><td style = \"text-align: right;\">90700</td><td style = \"text-align: right;\">22.55</td><td style = \"text-align: right;\">22.68</td><td style = \"text-align: right;\">21.6</td><td style = \"text-align: right;\">21.93</td><td style = \"text-align: right;\">20.9958</td><td style = \"text-align: left;\">AAON</td><td style = \"text-align: right;\">10225</td></tr><tr><td class = \"rowNumber\" style = \"font-weight: bold; text-align: right;\">8</td><td style = \"text-align: left;\">2015-01-02</td><td style = \"text-align: right;\">509800</td><td style = \"text-align: right;\">160.85</td><td style = \"text-align: right;\">162.5</td><td style = \"text-align: right;\">157.47</td><td style = \"text-align: right;\">158.56</td><td style = \"text-align: right;\">156.251</td><td style = \"text-align: left;\">AAP</td><td style = \"text-align: right;\">11610</td></tr><tr><td class = \"rowNumber\" style = \"font-weight: bold; text-align: right;\">9</td><td style = \"text-align: left;\">2015-01-02</td><td style = \"text-align: right;\">53204600</td><td style = \"text-align: right;\">111.39</td><td style = \"text-align: right;\">111.44</td><td style = \"text-align: right;\">107.35</td><td style = \"text-align: right;\">109.33</td><td style = \"text-align: right;\">99.9459</td><td style = \"text-align: left;\">AAPL</td><td style = \"text-align: right;\">12995</td></tr><tr><td class = \"rowNumber\" style = \"font-weight: bold; text-align: right;\">10</td><td style = \"text-align: left;\">2015-01-02</td><td style = \"text-align: right;\">107500</td><td style = \"text-align: right;\">40.12</td><td style = \"text-align: right;\">40.46</td><td style = \"text-align: right;\">39.95</td><td style = \"text-align: right;\">40.37</td><td style = \"text-align: right;\">35.0019</td><td style = \"text-align: left;\">AAT</td><td style = \"text-align: right;\">14380</td></tr><tr><td class = \"rowNumber\" style = \"font-weight: bold; text-align: right;\">11</td><td style = \"text-align: left;\">2015-01-02</td><td style = \"text-align: right;\">182200</td><td style = \"text-align: right;\">0.95</td><td style = \"text-align: right;\">0.98</td><td style = \"text-align: right;\">0.94</td><td style = \"text-align: right;\">0.95</td><td style = \"text-align: right;\">0.95</td><td style = \"text-align: left;\">AAU</td><td style = \"text-align: right;\">15765</td></tr><tr><td class = \"rowNumber\" style = \"font-weight: bold; text-align: right;\">12</td><td style = \"text-align: left;\">2015-01-02</td><td style = \"text-align: right;\">225900</td><td style = \"text-align: right;\">49.71</td><td style = \"text-align: right;\">49.82</td><td style = \"text-align: right;\">47.73</td><td style = \"text-align: right;\">48.42</td><td style = \"text-align: right;\">48.42</td><td style = \"text-align: left;\">AAWW</td><td style = \"text-align: right;\">17150</td></tr><tr><td class = \"rowNumber\" style = \"font-weight: bold; text-align: right;\">13</td><td style = \"text-align: left;\">2015-01-02</td><td style = \"text-align: right;\">509500</td><td style = \"text-align: right;\">61.17</td><td style = \"text-align: right;\">61.17</td><td style = \"text-align: right;\">60.49</td><td style = \"text-align: right;\">60.63</td><td style = \"text-align: right;\">54.6193</td><td style = \"text-align: left;\">AAXJ</td><td style = \"text-align: right;\">18535</td></tr><tr><td style = \"text-align: right;\">&vellip;</td><td style = \"text-align: right;\">&vellip;</td><td style = \"text-align: right;\">&vellip;</td><td style = \"text-align: right;\">&vellip;</td><td style = \"text-align: right;\">&vellip;</td><td style = \"text-align: right;\">&vellip;</td><td style = \"text-align: right;\">&vellip;</td><td style = \"text-align: right;\">&vellip;</td><td style = \"text-align: right;\">&vellip;</td><td style = \"text-align: right;\">&vellip;</td></tr><tr><td class = \"rowNumber\" style = \"font-weight: bold; text-align: right;\">6852027</td><td style = \"text-align: left;\">2020-07-02</td><td style = \"text-align: right;\">286576400</td><td style = \"text-align: right;\">0.16</td><td style = \"text-align: right;\">0.18</td><td style = \"text-align: right;\">0.155</td><td style = \"text-align: right;\">0.168</td><td style = \"text-align: right;\">0.168</td><td style = \"text-align: left;\">ZOM</td><td style = \"text-align: right;\">6840313</td></tr><tr><td class = \"rowNumber\" style = \"font-weight: bold; text-align: right;\">6852028</td><td style = \"text-align: left;\">2020-07-02</td><td style = \"text-align: right;\">52700</td><td style = \"text-align: right;\">170.7</td><td style = \"text-align: right;\">173.23</td><td style = \"text-align: right;\">169.82</td><td style = \"text-align: right;\">172.17</td><td style = \"text-align: right;\">172.17</td><td style = \"text-align: left;\">ZROZ</td><td style = \"text-align: right;\">6840970</td></tr><tr><td class = \"rowNumber\" style = \"font-weight: bold; text-align: right;\">6852029</td><td style = \"text-align: left;\">2020-07-02</td><td style = \"text-align: right;\">1897000</td><td style = \"text-align: right;\">112.26</td><td style = \"text-align: right;\">112.9</td><td style = \"text-align: right;\">109.692</td><td style = \"text-align: right;\">110.21</td><td style = \"text-align: right;\">110.21</td><td style = \"text-align: left;\">ZS</td><td style = \"text-align: right;\">6842355</td></tr><tr><td class = \"rowNumber\" style = \"font-weight: bold; text-align: right;\">6852030</td><td style = \"text-align: left;\">2020-07-02</td><td style = \"text-align: right;\">1291700</td><td style = \"text-align: right;\">0.86</td><td style = \"text-align: right;\">0.87</td><td style = \"text-align: right;\">0.821</td><td style = \"text-align: right;\">0.821</td><td style = \"text-align: right;\">0.821</td><td style = \"text-align: left;\">ZSAN</td><td style = \"text-align: right;\">6842934</td></tr><tr><td class = \"rowNumber\" style = \"font-weight: bold; text-align: right;\">6852031</td><td style = \"text-align: left;\">2020-07-02</td><td style = \"text-align: right;\">6156800</td><td style = \"text-align: right;\">37.27</td><td style = \"text-align: right;\">37.67</td><td style = \"text-align: right;\">35.04</td><td style = \"text-align: right;\">37.53</td><td style = \"text-align: right;\">37.53</td><td style = \"text-align: left;\">ZTO</td><td style = \"text-align: right;\">6844221</td></tr><tr><td class = \"rowNumber\" style = \"font-weight: bold; text-align: right;\">6852032</td><td style = \"text-align: left;\">2020-07-02</td><td style = \"text-align: right;\">112900</td><td style = \"text-align: right;\">8.3</td><td style = \"text-align: right;\">8.39</td><td style = \"text-align: right;\">8.27</td><td style = \"text-align: right;\">8.29</td><td style = \"text-align: right;\">8.29</td><td style = \"text-align: left;\">ZTR</td><td style = \"text-align: right;\">6845147</td></tr><tr><td class = \"rowNumber\" style = \"font-weight: bold; text-align: right;\">6852033</td><td style = \"text-align: left;\">2020-07-02</td><td style = \"text-align: right;\">1307300</td><td style = \"text-align: right;\">138.58</td><td style = \"text-align: right;\">139.05</td><td style = \"text-align: right;\">137.37</td><td style = \"text-align: right;\">137.66</td><td style = \"text-align: right;\">137.66</td><td style = \"text-align: left;\">ZTS</td><td style = \"text-align: right;\">6846532</td></tr><tr><td class = \"rowNumber\" style = \"font-weight: bold; text-align: right;\">6852034</td><td style = \"text-align: left;\">2020-07-02</td><td style = \"text-align: right;\">882400</td><td style = \"text-align: right;\">13.11</td><td style = \"text-align: right;\">13.2</td><td style = \"text-align: right;\">12.78</td><td style = \"text-align: right;\">12.84</td><td style = \"text-align: right;\">12.84</td><td style = \"text-align: left;\">ZUO</td><td style = \"text-align: right;\">6847917</td></tr><tr><td class = \"rowNumber\" style = \"font-weight: bold; text-align: right;\">6852035</td><td style = \"text-align: left;\">2020-07-02</td><td style = \"text-align: right;\">538000</td><td style = \"text-align: right;\">3.2</td><td style = \"text-align: right;\">3.43</td><td style = \"text-align: right;\">3.18</td><td style = \"text-align: right;\">3.27</td><td style = \"text-align: right;\">3.27</td><td style = \"text-align: left;\">ZVO</td><td style = \"text-align: right;\">6848478</td></tr><tr><td class = \"rowNumber\" style = \"font-weight: bold; text-align: right;\">6852036</td><td style = \"text-align: left;\">2020-07-02</td><td style = \"text-align: right;\">214200</td><td style = \"text-align: right;\">36.53</td><td style = \"text-align: right;\">37.04</td><td style = \"text-align: right;\">35.73</td><td style = \"text-align: right;\">35.98</td><td style = \"text-align: right;\">35.98</td><td style = \"text-align: left;\">ZYME</td><td style = \"text-align: right;\">6848786</td></tr><tr><td class = \"rowNumber\" style = \"font-weight: bold; text-align: right;\">6852037</td><td style = \"text-align: left;\">2020-07-02</td><td style = \"text-align: right;\">2857200</td><td style = \"text-align: right;\">3.66</td><td style = \"text-align: right;\">3.69</td><td style = \"text-align: right;\">3.4</td><td style = \"text-align: right;\">3.5</td><td style = \"text-align: right;\">3.5</td><td style = \"text-align: left;\">ZYNE</td><td style = \"text-align: right;\">6849587</td></tr><tr><td class = \"rowNumber\" style = \"font-weight: bold; text-align: right;\">6852038</td><td style = \"text-align: left;\">2020-07-02</td><td style = \"text-align: right;\">1072200</td><td style = \"text-align: right;\">24.54</td><td style = \"text-align: right;\">26.84</td><td style = \"text-align: right;\">24.44</td><td style = \"text-align: right;\">25.12</td><td style = \"text-align: right;\">25.12</td><td style = \"text-align: left;\">ZYXI</td><td style = \"text-align: right;\">6850824</td></tr></tbody></table></div>"
      ],
      "text/latex": [
       "\\begin{tabular}{r|ccccccccc}\n",
       "\t& date & volume & open & high & low & close & adjclose & symbol & col\\_idx\\\\\n",
       "\t\\hline\n",
       "\t& Date & Int64 & Float64 & Float64 & Float64 & Float64 & Float64 & String7 & Int64\\\\\n",
       "\t\\hline\n",
       "\t1 & 2015-01-02 & 2000 & 37.25 & 37.25 & 36.64 & 36.64 & 35.3998 & AADR & 2114 \\\\\n",
       "\t2 & 2015-01-02 & 10748600 & 54.28 & 54.6 & 53.07 & 53.91 & 51.0799 & AAL & 3499 \\\\\n",
       "\t3 & 2015-01-02 & 11500 & 308.0 & 348.59 & 308.0 & 327.18 & 327.18 & AAMC & 4798 \\\\\n",
       "\t4 & 2015-01-02 & 11400 & 3.99 & 4.03 & 3.98 & 4.03 & 3.91772 & AAME & 6079 \\\\\n",
       "\t5 & 2015-01-02 & 898900 & 30.81 & 30.86 & 30.04 & 30.62 & 30.0588 & AAN & 7464 \\\\\n",
       "\t6 & 2015-01-02 & 184600 & 11.28 & 11.28 & 10.72 & 10.79 & 10.79 & AAOI & 8840 \\\\\n",
       "\t7 & 2015-01-02 & 90700 & 22.55 & 22.68 & 21.6 & 21.93 & 20.9958 & AAON & 10225 \\\\\n",
       "\t8 & 2015-01-02 & 509800 & 160.85 & 162.5 & 157.47 & 158.56 & 156.251 & AAP & 11610 \\\\\n",
       "\t9 & 2015-01-02 & 53204600 & 111.39 & 111.44 & 107.35 & 109.33 & 99.9459 & AAPL & 12995 \\\\\n",
       "\t10 & 2015-01-02 & 107500 & 40.12 & 40.46 & 39.95 & 40.37 & 35.0019 & AAT & 14380 \\\\\n",
       "\t11 & 2015-01-02 & 182200 & 0.95 & 0.98 & 0.94 & 0.95 & 0.95 & AAU & 15765 \\\\\n",
       "\t12 & 2015-01-02 & 225900 & 49.71 & 49.82 & 47.73 & 48.42 & 48.42 & AAWW & 17150 \\\\\n",
       "\t13 & 2015-01-02 & 509500 & 61.17 & 61.17 & 60.49 & 60.63 & 54.6193 & AAXJ & 18535 \\\\\n",
       "\t14 & 2015-01-02 & 135200 & 26.15 & 26.22 & 25.62 & 26.1 & 26.1 & AB & 19920 \\\\\n",
       "\t15 & 2015-01-02 & 1255500 & 21.15 & 21.21 & 20.97 & 21.08 & 16.7124 & ABB & 21305 \\\\\n",
       "\t16 & 2015-01-02 & 5086100 & 65.44 & 66.4 & 65.44 & 65.89 & 51.7181 & ABBV & 22690 \\\\\n",
       "\t17 & 2015-01-02 & 1124600 & 90.61 & 91.32 & 89.82 & 90.46 & 82.5188 & ABC & 24075 \\\\\n",
       "\t18 & 2015-01-02 & 73300 & 25.83 & 25.86 & 24.92 & 25.27 & 23.798 & ABCB & 25460 \\\\\n",
       "\t19 & 2015-01-02 & 19100 & 3.37 & 3.4 & 3.2 & 3.4 & 3.4 & ABEO & 26845 \\\\\n",
       "\t20 & 2015-01-02 & 20472500 & 6.1 & 6.11 & 5.86 & 5.95 & 5.10875 & ABEV & 28344 \\\\\n",
       "\t21 & 2015-01-02 & 330800 & 76.59 & 77.12 & 74.77 & 76.09 & 76.09 & ABG & 29729 \\\\\n",
       "\t22 & 2015-01-02 & 2400 & 123.48 & 132.3 & 122.22 & 131.04 & 131.04 & ABIO & 31110 \\\\\n",
       "\t23 & 2015-01-02 & 171000 & 28.69 & 28.91 & 28.19 & 28.42 & 25.4463 & ABM & 32495 \\\\\n",
       "\t24 & 2015-01-02 & 67800 & 6.77 & 6.84 & 6.76 & 6.83 & 6.83 & ABR & 33880 \\\\\n",
       "\t25 & 2015-01-02 & 3216600 & 45.25 & 45.45 & 44.64 & 44.9 & 40.1492 & ABT & 35265 \\\\\n",
       "\t26 & 2015-01-02 & 643000 & 15.3 & 15.6 & 14.54 & 14.76 & 14.76 & ABUS & 37842 \\\\\n",
       "\t27 & 2015-01-02 & 1261200 & 32.17 & 32.75 & 31.1 & 31.15 & 31.15 & ACAD & 40794 \\\\\n",
       "\t28 & 2015-01-02 & 548800 & 41.59 & 42.12 & 41.38 & 42.09 & 33.6558 & ACC & 44753 \\\\\n",
       "\t29 & 2015-01-02 & 785400 & 9.07 & 9.2 & 8.71 & 8.79 & 8.16932 & ACCO & 46138 \\\\\n",
       "\t30 & 2015-01-02 & 1100 & 61.6667 & 69.1667 & 59.1667 & 64.1667 & 64.1667 & ACER & 47850 \\\\\n",
       "\t$\\dots$ & $\\dots$ & $\\dots$ & $\\dots$ & $\\dots$ & $\\dots$ & $\\dots$ & $\\dots$ & $\\dots$ & $\\dots$ \\\\\n",
       "\\end{tabular}\n"
      ],
      "text/plain": [
       "\u001b[1m6852038×9 DataFrame\u001b[0m\n",
       "\u001b[1m     Row \u001b[0m│\u001b[1m date       \u001b[0m\u001b[1m volume    \u001b[0m\u001b[1m open    \u001b[0m\u001b[1m high    \u001b[0m\u001b[1m low     \u001b[0m\u001b[1m close   \u001b[0m\u001b[1m adjclose\u001b[0m ⋯\n",
       "         │\u001b[90m Date       \u001b[0m\u001b[90m Int64     \u001b[0m\u001b[90m Float64 \u001b[0m\u001b[90m Float64 \u001b[0m\u001b[90m Float64 \u001b[0m\u001b[90m Float64 \u001b[0m\u001b[90m Float64 \u001b[0m ⋯\n",
       "─────────┼──────────────────────────────────────────────────────────────────────\n",
       "       1 │ 2015-01-02       2000    37.25    37.25   36.64    36.64    35.3998 ⋯\n",
       "       2 │ 2015-01-02   10748600    54.28    54.6    53.07    53.91    51.0799\n",
       "       3 │ 2015-01-02      11500   308.0    348.59  308.0    327.18   327.18\n",
       "       4 │ 2015-01-02      11400     3.99     4.03    3.98     4.03     3.9177\n",
       "       5 │ 2015-01-02     898900    30.81    30.86   30.04    30.62    30.0588 ⋯\n",
       "       6 │ 2015-01-02     184600    11.28    11.28   10.72    10.79    10.79\n",
       "       7 │ 2015-01-02      90700    22.55    22.68   21.6     21.93    20.9958\n",
       "       8 │ 2015-01-02     509800   160.85   162.5   157.47   158.56   156.251\n",
       "       9 │ 2015-01-02   53204600   111.39   111.44  107.35   109.33    99.9459 ⋯\n",
       "      10 │ 2015-01-02     107500    40.12    40.46   39.95    40.37    35.0019\n",
       "      11 │ 2015-01-02     182200     0.95     0.98    0.94     0.95     0.95\n",
       "    ⋮    │     ⋮           ⋮         ⋮        ⋮        ⋮        ⋮         ⋮    ⋱\n",
       " 6852029 │ 2020-07-02    1897000   112.26   112.9   109.692  110.21   110.21\n",
       " 6852030 │ 2020-07-02    1291700     0.86     0.87    0.821    0.821    0.821  ⋯\n",
       " 6852031 │ 2020-07-02    6156800    37.27    37.67   35.04    37.53    37.53\n",
       " 6852032 │ 2020-07-02     112900     8.3      8.39    8.27     8.29     8.29\n",
       " 6852033 │ 2020-07-02    1307300   138.58   139.05  137.37   137.66   137.66\n",
       " 6852034 │ 2020-07-02     882400    13.11    13.2    12.78    12.84    12.84   ⋯\n",
       " 6852035 │ 2020-07-02     538000     3.2      3.43    3.18     3.27     3.27\n",
       " 6852036 │ 2020-07-02     214200    36.53    37.04   35.73    35.98    35.98\n",
       " 6852037 │ 2020-07-02    2857200     3.66     3.69    3.4      3.5      3.5\n",
       " 6852038 │ 2020-07-02    1072200    24.54    26.84   24.44    25.12    25.12   ⋯\n",
       "\u001b[36m                                              3 columns and 6852017 rows omitted\u001b[0m"
      ]
     },
     "execution_count": 88,
     "metadata": {},
     "output_type": "execute_result"
    }
   ],
   "source": [
    "df = sort(fh5, :date)"
   ]
  },
  {
   "cell_type": "code",
   "execution_count": 89,
   "metadata": {},
   "outputs": [
    {
     "data": {
      "text/html": [
       "<p><b>GroupedDataFrame with 6335 groups based on key: symbol</b></p><div><div style = \"float: left;\"><span>First Group (1307 rows): symbol = &quot;AADR&quot;</span></div><div style = \"float: right;\"><span style = \"font-style: italic;\">1282 rows omitted</span></div><div style = \"clear: both;\"></div></div><div class = \"data-frame\" style = \"overflow-x: scroll;\"><table class = \"data-frame\" style = \"margin-bottom: 6px;\"><thead><tr class = \"header\"><th class = \"rowNumber\" style = \"font-weight: bold; text-align: right;\">Row</th><th style = \"text-align: left;\">date</th><th style = \"text-align: left;\">volume</th><th style = \"text-align: left;\">open</th><th style = \"text-align: left;\">high</th><th style = \"text-align: left;\">low</th><th style = \"text-align: left;\">close</th><th style = \"text-align: left;\">adjclose</th><th style = \"text-align: left;\">symbol</th><th style = \"text-align: left;\">col_idx</th></tr><tr class = \"subheader headerLastRow\"><th class = \"rowNumber\" style = \"font-weight: bold; text-align: right;\"></th><th title = \"Date\" style = \"text-align: left;\">Date</th><th title = \"Int64\" style = \"text-align: left;\">Int64</th><th title = \"Float64\" style = \"text-align: left;\">Float64</th><th title = \"Float64\" style = \"text-align: left;\">Float64</th><th title = \"Float64\" style = \"text-align: left;\">Float64</th><th title = \"Float64\" style = \"text-align: left;\">Float64</th><th title = \"Float64\" style = \"text-align: left;\">Float64</th><th title = \"String7\" style = \"text-align: left;\">String7</th><th title = \"Int64\" style = \"text-align: left;\">Int64</th></tr></thead><tbody><tr><td class = \"rowNumber\" style = \"font-weight: bold; text-align: right;\">1</td><td style = \"text-align: left;\">2015-01-02</td><td style = \"text-align: right;\">2000</td><td style = \"text-align: right;\">37.25</td><td style = \"text-align: right;\">37.25</td><td style = \"text-align: right;\">36.64</td><td style = \"text-align: right;\">36.64</td><td style = \"text-align: right;\">35.3998</td><td style = \"text-align: left;\">AADR</td><td style = \"text-align: right;\">2114</td></tr><tr><td class = \"rowNumber\" style = \"font-weight: bold; text-align: right;\">2</td><td style = \"text-align: left;\">2015-01-05</td><td style = \"text-align: right;\">600</td><td style = \"text-align: right;\">36.13</td><td style = \"text-align: right;\">36.44</td><td style = \"text-align: right;\">36.13</td><td style = \"text-align: right;\">36.19</td><td style = \"text-align: right;\">34.965</td><td style = \"text-align: left;\">AADR</td><td style = \"text-align: right;\">2113</td></tr><tr><td class = \"rowNumber\" style = \"font-weight: bold; text-align: right;\">3</td><td style = \"text-align: left;\">2015-01-06</td><td style = \"text-align: right;\">600</td><td style = \"text-align: right;\">35.57</td><td style = \"text-align: right;\">35.89</td><td style = \"text-align: right;\">35.56</td><td style = \"text-align: right;\">35.89</td><td style = \"text-align: right;\">34.6752</td><td style = \"text-align: left;\">AADR</td><td style = \"text-align: right;\">2112</td></tr><tr><td class = \"rowNumber\" style = \"font-weight: bold; text-align: right;\">4</td><td style = \"text-align: left;\">2015-01-08</td><td style = \"text-align: right;\">1100</td><td style = \"text-align: right;\">36.73</td><td style = \"text-align: right;\">36.8</td><td style = \"text-align: right;\">36.45</td><td style = \"text-align: right;\">36.45</td><td style = \"text-align: right;\">35.2162</td><td style = \"text-align: left;\">AADR</td><td style = \"text-align: right;\">2111</td></tr><tr><td class = \"rowNumber\" style = \"font-weight: bold; text-align: right;\">5</td><td style = \"text-align: left;\">2015-01-12</td><td style = \"text-align: right;\">100</td><td style = \"text-align: right;\">36.39</td><td style = \"text-align: right;\">36.39</td><td style = \"text-align: right;\">36.39</td><td style = \"text-align: right;\">36.39</td><td style = \"text-align: right;\">35.1582</td><td style = \"text-align: left;\">AADR</td><td style = \"text-align: right;\">2110</td></tr><tr><td class = \"rowNumber\" style = \"font-weight: bold; text-align: right;\">6</td><td style = \"text-align: left;\">2015-01-14</td><td style = \"text-align: right;\">1100</td><td style = \"text-align: right;\">36.2</td><td style = \"text-align: right;\">36.25</td><td style = \"text-align: right;\">36.2</td><td style = \"text-align: right;\">36.25</td><td style = \"text-align: right;\">35.023</td><td style = \"text-align: left;\">AADR</td><td style = \"text-align: right;\">2109</td></tr><tr><td class = \"rowNumber\" style = \"font-weight: bold; text-align: right;\">7</td><td style = \"text-align: left;\">2015-01-16</td><td style = \"text-align: right;\">200</td><td style = \"text-align: right;\">36.25</td><td style = \"text-align: right;\">36.25</td><td style = \"text-align: right;\">36.25</td><td style = \"text-align: right;\">36.25</td><td style = \"text-align: right;\">35.023</td><td style = \"text-align: left;\">AADR</td><td style = \"text-align: right;\">2108</td></tr><tr><td class = \"rowNumber\" style = \"font-weight: bold; text-align: right;\">8</td><td style = \"text-align: left;\">2015-01-20</td><td style = \"text-align: right;\">2000</td><td style = \"text-align: right;\">36.7</td><td style = \"text-align: right;\">36.7</td><td style = \"text-align: right;\">36.47</td><td style = \"text-align: right;\">36.5</td><td style = \"text-align: right;\">35.2645</td><td style = \"text-align: left;\">AADR</td><td style = \"text-align: right;\">2107</td></tr><tr><td class = \"rowNumber\" style = \"font-weight: bold; text-align: right;\">9</td><td style = \"text-align: left;\">2015-01-22</td><td style = \"text-align: right;\">1700</td><td style = \"text-align: right;\">36.75</td><td style = \"text-align: right;\">37.23</td><td style = \"text-align: right;\">36.75</td><td style = \"text-align: right;\">37.23</td><td style = \"text-align: right;\">35.9698</td><td style = \"text-align: left;\">AADR</td><td style = \"text-align: right;\">2106</td></tr><tr><td class = \"rowNumber\" style = \"font-weight: bold; text-align: right;\">10</td><td style = \"text-align: left;\">2015-01-26</td><td style = \"text-align: right;\">800</td><td style = \"text-align: right;\">37.27</td><td style = \"text-align: right;\">37.43</td><td style = \"text-align: right;\">37.27</td><td style = \"text-align: right;\">37.4</td><td style = \"text-align: right;\">36.134</td><td style = \"text-align: left;\">AADR</td><td style = \"text-align: right;\">2105</td></tr><tr><td class = \"rowNumber\" style = \"font-weight: bold; text-align: right;\">11</td><td style = \"text-align: left;\">2015-01-27</td><td style = \"text-align: right;\">300</td><td style = \"text-align: right;\">37.46</td><td style = \"text-align: right;\">37.49</td><td style = \"text-align: right;\">37.46</td><td style = \"text-align: right;\">37.49</td><td style = \"text-align: right;\">36.221</td><td style = \"text-align: left;\">AADR</td><td style = \"text-align: right;\">2104</td></tr><tr><td class = \"rowNumber\" style = \"font-weight: bold; text-align: right;\">12</td><td style = \"text-align: left;\">2015-01-28</td><td style = \"text-align: right;\">1200</td><td style = \"text-align: right;\">36.91</td><td style = \"text-align: right;\">37.01</td><td style = \"text-align: right;\">36.91</td><td style = \"text-align: right;\">37.01</td><td style = \"text-align: right;\">35.7573</td><td style = \"text-align: left;\">AADR</td><td style = \"text-align: right;\">2103</td></tr><tr><td class = \"rowNumber\" style = \"font-weight: bold; text-align: right;\">13</td><td style = \"text-align: left;\">2015-01-29</td><td style = \"text-align: right;\">100</td><td style = \"text-align: right;\">36.59</td><td style = \"text-align: right;\">36.59</td><td style = \"text-align: right;\">36.59</td><td style = \"text-align: right;\">36.59</td><td style = \"text-align: right;\">35.3515</td><td style = \"text-align: left;\">AADR</td><td style = \"text-align: right;\">2102</td></tr><tr><td style = \"text-align: right;\">&vellip;</td><td style = \"text-align: right;\">&vellip;</td><td style = \"text-align: right;\">&vellip;</td><td style = \"text-align: right;\">&vellip;</td><td style = \"text-align: right;\">&vellip;</td><td style = \"text-align: right;\">&vellip;</td><td style = \"text-align: right;\">&vellip;</td><td style = \"text-align: right;\">&vellip;</td><td style = \"text-align: right;\">&vellip;</td><td style = \"text-align: right;\">&vellip;</td></tr><tr><td class = \"rowNumber\" style = \"font-weight: bold; text-align: right;\">1296</td><td style = \"text-align: left;\">2020-06-17</td><td style = \"text-align: right;\">1300</td><td style = \"text-align: right;\">51.28</td><td style = \"text-align: right;\">51.74</td><td style = \"text-align: right;\">51.27</td><td style = \"text-align: right;\">51.38</td><td style = \"text-align: right;\">51.38</td><td style = \"text-align: left;\">AADR</td><td style = \"text-align: right;\">819</td></tr><tr><td class = \"rowNumber\" style = \"font-weight: bold; text-align: right;\">1297</td><td style = \"text-align: left;\">2020-06-18</td><td style = \"text-align: right;\">4000</td><td style = \"text-align: right;\">51.07</td><td style = \"text-align: right;\">51.3</td><td style = \"text-align: right;\">50.87</td><td style = \"text-align: right;\">51.01</td><td style = \"text-align: right;\">51.01</td><td style = \"text-align: left;\">AADR</td><td style = \"text-align: right;\">818</td></tr><tr><td class = \"rowNumber\" style = \"font-weight: bold; text-align: right;\">1298</td><td style = \"text-align: left;\">2020-06-19</td><td style = \"text-align: right;\">4700</td><td style = \"text-align: right;\">51.71</td><td style = \"text-align: right;\">52.18</td><td style = \"text-align: right;\">51.71</td><td style = \"text-align: right;\">52.05</td><td style = \"text-align: right;\">52.05</td><td style = \"text-align: left;\">AADR</td><td style = \"text-align: right;\">817</td></tr><tr><td class = \"rowNumber\" style = \"font-weight: bold; text-align: right;\">1299</td><td style = \"text-align: left;\">2020-06-22</td><td style = \"text-align: right;\">5700</td><td style = \"text-align: right;\">52.09</td><td style = \"text-align: right;\">53.0</td><td style = \"text-align: right;\">52.09</td><td style = \"text-align: right;\">52.98</td><td style = \"text-align: right;\">52.98</td><td style = \"text-align: left;\">AADR</td><td style = \"text-align: right;\">816</td></tr><tr><td class = \"rowNumber\" style = \"font-weight: bold; text-align: right;\">1300</td><td style = \"text-align: left;\">2020-06-23</td><td style = \"text-align: right;\">3900</td><td style = \"text-align: right;\">53.59</td><td style = \"text-align: right;\">54.21</td><td style = \"text-align: right;\">53.5</td><td style = \"text-align: right;\">53.77</td><td style = \"text-align: right;\">53.77</td><td style = \"text-align: left;\">AADR</td><td style = \"text-align: right;\">815</td></tr><tr><td class = \"rowNumber\" style = \"font-weight: bold; text-align: right;\">1301</td><td style = \"text-align: left;\">2020-06-24</td><td style = \"text-align: right;\">6300</td><td style = \"text-align: right;\">53.18</td><td style = \"text-align: right;\">53.18</td><td style = \"text-align: right;\">52.15</td><td style = \"text-align: right;\">52.28</td><td style = \"text-align: right;\">52.28</td><td style = \"text-align: left;\">AADR</td><td style = \"text-align: right;\">814</td></tr><tr><td class = \"rowNumber\" style = \"font-weight: bold; text-align: right;\">1302</td><td style = \"text-align: left;\">2020-06-25</td><td style = \"text-align: right;\">5000</td><td style = \"text-align: right;\">52.08</td><td style = \"text-align: right;\">52.94</td><td style = \"text-align: right;\">52.06</td><td style = \"text-align: right;\">52.94</td><td style = \"text-align: right;\">52.94</td><td style = \"text-align: left;\">AADR</td><td style = \"text-align: right;\">813</td></tr><tr><td class = \"rowNumber\" style = \"font-weight: bold; text-align: right;\">1303</td><td style = \"text-align: left;\">2020-06-26</td><td style = \"text-align: right;\">7100</td><td style = \"text-align: right;\">52.74</td><td style = \"text-align: right;\">52.74</td><td style = \"text-align: right;\">52.2</td><td style = \"text-align: right;\">52.28</td><td style = \"text-align: right;\">52.28</td><td style = \"text-align: left;\">AADR</td><td style = \"text-align: right;\">812</td></tr><tr><td class = \"rowNumber\" style = \"font-weight: bold; text-align: right;\">1304</td><td style = \"text-align: left;\">2020-06-29</td><td style = \"text-align: right;\">1300</td><td style = \"text-align: right;\">52.62</td><td style = \"text-align: right;\">52.68</td><td style = \"text-align: right;\">52.31</td><td style = \"text-align: right;\">52.63</td><td style = \"text-align: right;\">52.63</td><td style = \"text-align: left;\">AADR</td><td style = \"text-align: right;\">811</td></tr><tr><td class = \"rowNumber\" style = \"font-weight: bold; text-align: right;\">1305</td><td style = \"text-align: left;\">2020-06-30</td><td style = \"text-align: right;\">2100</td><td style = \"text-align: right;\">52.66</td><td style = \"text-align: right;\">53.0</td><td style = \"text-align: right;\">52.66</td><td style = \"text-align: right;\">52.99</td><td style = \"text-align: right;\">52.99</td><td style = \"text-align: left;\">AADR</td><td style = \"text-align: right;\">810</td></tr><tr><td class = \"rowNumber\" style = \"font-weight: bold; text-align: right;\">1306</td><td style = \"text-align: left;\">2020-07-01</td><td style = \"text-align: right;\">3900</td><td style = \"text-align: right;\">53.03</td><td style = \"text-align: right;\">53.38</td><td style = \"text-align: right;\">53.03</td><td style = \"text-align: right;\">53.38</td><td style = \"text-align: right;\">53.38</td><td style = \"text-align: left;\">AADR</td><td style = \"text-align: right;\">809</td></tr><tr><td class = \"rowNumber\" style = \"font-weight: bold; text-align: right;\">1307</td><td style = \"text-align: left;\">2020-07-02</td><td style = \"text-align: right;\">900</td><td style = \"text-align: right;\">54.2</td><td style = \"text-align: right;\">54.2</td><td style = \"text-align: right;\">54.09</td><td style = \"text-align: right;\">54.09</td><td style = \"text-align: right;\">54.09</td><td style = \"text-align: left;\">AADR</td><td style = \"text-align: right;\">808</td></tr></tbody></table></div><p>&vellip;</p><div><div style = \"float: left;\"><span>Last Group (1 row): symbol = &quot;EAI&quot;</span></div><div style = \"clear: both;\"></div></div><div class = \"data-frame\" style = \"overflow-x: scroll;\"><table class = \"data-frame\" style = \"margin-bottom: 6px;\"><thead><tr class = \"header\"><th class = \"rowNumber\" style = \"font-weight: bold; text-align: right;\">Row</th><th style = \"text-align: left;\">date</th><th style = \"text-align: left;\">volume</th><th style = \"text-align: left;\">open</th><th style = \"text-align: left;\">high</th><th style = \"text-align: left;\">low</th><th style = \"text-align: left;\">close</th><th style = \"text-align: left;\">adjclose</th><th style = \"text-align: left;\">symbol</th><th style = \"text-align: left;\">col_idx</th></tr><tr class = \"subheader headerLastRow\"><th class = \"rowNumber\" style = \"font-weight: bold; text-align: right;\"></th><th title = \"Date\" style = \"text-align: left;\">Date</th><th title = \"Int64\" style = \"text-align: left;\">Int64</th><th title = \"Float64\" style = \"text-align: left;\">Float64</th><th title = \"Float64\" style = \"text-align: left;\">Float64</th><th title = \"Float64\" style = \"text-align: left;\">Float64</th><th title = \"Float64\" style = \"text-align: left;\">Float64</th><th title = \"Float64\" style = \"text-align: left;\">Float64</th><th title = \"String7\" style = \"text-align: left;\">String7</th><th title = \"Int64\" style = \"text-align: left;\">Int64</th></tr></thead><tbody><tr><td class = \"rowNumber\" style = \"font-weight: bold; text-align: right;\">1</td><td style = \"text-align: left;\">2020-07-02</td><td style = \"text-align: right;\">10150</td><td style = \"text-align: right;\">25.29</td><td style = \"text-align: right;\">25.48</td><td style = \"text-align: right;\">25.37</td><td style = \"text-align: right;\">25.4042</td><td style = \"text-align: right;\">25.4042</td><td style = \"text-align: left;\">EAI</td><td style = \"text-align: right;\">1747793</td></tr></tbody></table></div>"
      ],
      "text/latex": [
       "GroupedDataFrame with 6335 groups based on key: symbol\n",
       "\n",
       "First Group (1307 rows): symbol = \"AADR\"\n",
       "\n",
       "\\begin{tabular}{r|ccccccccc}\n",
       "\t& date & volume & open & high & low & close & adjclose & symbol & col\\_idx\\\\\n",
       "\t\\hline\n",
       "\t& Date & Int64 & Float64 & Float64 & Float64 & Float64 & Float64 & String7 & Int64\\\\\n",
       "\t\\hline\n",
       "\t1 & 2015-01-02 & 2000 & 37.25 & 37.25 & 36.64 & 36.64 & 35.3998 & AADR & 2114 \\\\\n",
       "\t2 & 2015-01-05 & 600 & 36.13 & 36.44 & 36.13 & 36.19 & 34.965 & AADR & 2113 \\\\\n",
       "\t3 & 2015-01-06 & 600 & 35.57 & 35.89 & 35.56 & 35.89 & 34.6752 & AADR & 2112 \\\\\n",
       "\t4 & 2015-01-08 & 1100 & 36.73 & 36.8 & 36.45 & 36.45 & 35.2162 & AADR & 2111 \\\\\n",
       "\t5 & 2015-01-12 & 100 & 36.39 & 36.39 & 36.39 & 36.39 & 35.1582 & AADR & 2110 \\\\\n",
       "\t6 & 2015-01-14 & 1100 & 36.2 & 36.25 & 36.2 & 36.25 & 35.023 & AADR & 2109 \\\\\n",
       "\t7 & 2015-01-16 & 200 & 36.25 & 36.25 & 36.25 & 36.25 & 35.023 & AADR & 2108 \\\\\n",
       "\t8 & 2015-01-20 & 2000 & 36.7 & 36.7 & 36.47 & 36.5 & 35.2645 & AADR & 2107 \\\\\n",
       "\t9 & 2015-01-22 & 1700 & 36.75 & 37.23 & 36.75 & 37.23 & 35.9698 & AADR & 2106 \\\\\n",
       "\t10 & 2015-01-26 & 800 & 37.27 & 37.43 & 37.27 & 37.4 & 36.134 & AADR & 2105 \\\\\n",
       "\t11 & 2015-01-27 & 300 & 37.46 & 37.49 & 37.46 & 37.49 & 36.221 & AADR & 2104 \\\\\n",
       "\t12 & 2015-01-28 & 1200 & 36.91 & 37.01 & 36.91 & 37.01 & 35.7573 & AADR & 2103 \\\\\n",
       "\t13 & 2015-01-29 & 100 & 36.59 & 36.59 & 36.59 & 36.59 & 35.3515 & AADR & 2102 \\\\\n",
       "\t14 & 2015-01-30 & 900 & 36.41 & 36.56 & 36.41 & 36.49 & 35.2548 & AADR & 2101 \\\\\n",
       "\t15 & 2015-02-02 & 2600 & 36.91 & 36.91 & 36.4 & 36.74 & 35.4964 & AADR & 2100 \\\\\n",
       "\t16 & 2015-02-03 & 200 & 37.19 & 37.19 & 37.19 & 37.19 & 35.9312 & AADR & 2099 \\\\\n",
       "\t17 & 2015-02-04 & 2800 & 37.5 & 37.5 & 37.45 & 37.45 & 36.1824 & AADR & 2098 \\\\\n",
       "\t18 & 2015-02-05 & 3500 & 37.51 & 37.67 & 37.49 & 37.58 & 36.308 & AADR & 2097 \\\\\n",
       "\t19 & 2015-02-06 & 1400 & 37.47 & 37.47 & 37.24 & 37.24 & 35.9795 & AADR & 2096 \\\\\n",
       "\t20 & 2015-02-09 & 3500 & 37.04 & 37.34 & 37.03 & 37.34 & 36.0761 & AADR & 2095 \\\\\n",
       "\t21 & 2015-02-10 & 2100 & 37.5 & 37.67 & 37.23 & 37.67 & 36.3949 & AADR & 2094 \\\\\n",
       "\t22 & 2015-02-11 & 100 & 37.31 & 37.31 & 37.31 & 37.31 & 36.0471 & AADR & 2093 \\\\\n",
       "\t23 & 2015-02-12 & 1500 & 37.06 & 37.95 & 37.06 & 37.91 & 36.6268 & AADR & 2092 \\\\\n",
       "\t24 & 2015-02-13 & 1000 & 38.29 & 38.29 & 37.93 & 37.93 & 36.6461 & AADR & 2091 \\\\\n",
       "\t25 & 2015-02-17 & 1800 & 38.84 & 38.84 & 38.18 & 38.29 & 36.9939 & AADR & 2090 \\\\\n",
       "\t26 & 2015-02-18 & 300 & 38.39 & 38.39 & 38.39 & 38.39 & 37.0905 & AADR & 2089 \\\\\n",
       "\t27 & 2015-02-19 & 5100 & 38.73 & 38.75 & 38.59 & 38.64 & 37.3321 & AADR & 2088 \\\\\n",
       "\t28 & 2015-02-20 & 400 & 38.99 & 38.99 & 38.56 & 38.56 & 37.2548 & AADR & 2087 \\\\\n",
       "\t29 & 2015-02-23 & 300 & 38.7 & 38.7 & 38.7 & 38.7 & 37.39 & AADR & 2086 \\\\\n",
       "\t30 & 2015-02-24 & 2000 & 38.76 & 39.08 & 38.76 & 39.08 & 37.7572 & AADR & 2085 \\\\\n",
       "\t$\\dots$ & $\\dots$ & $\\dots$ & $\\dots$ & $\\dots$ & $\\dots$ & $\\dots$ & $\\dots$ & $\\dots$ & $\\dots$ \\\\\n",
       "\\end{tabular}\n",
       "\n",
       "$\\dots$\n",
       "\n",
       "Last Group (1 row): symbol = \"EAI\"\n",
       "\n",
       "\\begin{tabular}{r|ccccccccc}\n",
       "\t& date & volume & open & high & low & close & adjclose & symbol & col\\_idx\\\\\n",
       "\t\\hline\n",
       "\t& Date & Int64 & Float64 & Float64 & Float64 & Float64 & Float64 & String7 & Int64\\\\\n",
       "\t\\hline\n",
       "\t1 & 2020-07-02 & 10150 & 25.29 & 25.48 & 25.37 & 25.4042 & 25.4042 & EAI & 1747793 \\\\\n",
       "\\end{tabular}\n"
      ],
      "text/plain": [
       "GroupedDataFrame with 6335 groups based on key: symbol\n",
       "First Group (1307 rows): symbol = \"AADR\"\n",
       "\u001b[1m  Row \u001b[0m│\u001b[1m date       \u001b[0m\u001b[1m volume \u001b[0m\u001b[1m open    \u001b[0m\u001b[1m high    \u001b[0m\u001b[1m low     \u001b[0m\u001b[1m close   \u001b[0m\u001b[1m adjclose \u001b[0m\u001b[1m symb\u001b[0m ⋯\n",
       "      │\u001b[90m Date       \u001b[0m\u001b[90m Int64  \u001b[0m\u001b[90m Float64 \u001b[0m\u001b[90m Float64 \u001b[0m\u001b[90m Float64 \u001b[0m\u001b[90m Float64 \u001b[0m\u001b[90m Float64  \u001b[0m\u001b[90m Stri\u001b[0m ⋯\n",
       "──────┼─────────────────────────────────────────────────────────────────────────\n",
       "    1 │ 2015-01-02    2000    37.25    37.25    36.64    36.64   35.3998  AADR ⋯\n",
       "    2 │ 2015-01-05     600    36.13    36.44    36.13    36.19   34.965   AADR\n",
       "    3 │ 2015-01-06     600    35.57    35.89    35.56    35.89   34.6752  AADR\n",
       "    4 │ 2015-01-08    1100    36.73    36.8     36.45    36.45   35.2162  AADR\n",
       "    5 │ 2015-01-12     100    36.39    36.39    36.39    36.39   35.1582  AADR ⋯\n",
       "    6 │ 2015-01-14    1100    36.2     36.25    36.2     36.25   35.023   AADR\n",
       "    7 │ 2015-01-16     200    36.25    36.25    36.25    36.25   35.023   AADR\n",
       "  ⋮   │     ⋮         ⋮        ⋮        ⋮        ⋮        ⋮        ⋮         ⋮ ⋱\n",
       " 1301 │ 2020-06-24    6300    53.18    53.18    52.15    52.28   52.28    AADR\n",
       " 1302 │ 2020-06-25    5000    52.08    52.94    52.06    52.94   52.94    AADR ⋯\n",
       " 1303 │ 2020-06-26    7100    52.74    52.74    52.2     52.28   52.28    AADR\n",
       " 1304 │ 2020-06-29    1300    52.62    52.68    52.31    52.63   52.63    AADR\n",
       " 1305 │ 2020-06-30    2100    52.66    53.0     52.66    52.99   52.99    AADR\n",
       " 1306 │ 2020-07-01    3900    53.03    53.38    53.03    53.38   53.38    AADR ⋯\n",
       " 1307 │ 2020-07-02     900    54.2     54.2     54.09    54.09   54.09    AADR\n",
       "\u001b[36m                                                 2 columns and 1293 rows omitted\u001b[0m\n",
       "⋮\n",
       "Last Group (1 row): symbol = \"EAI\"\n",
       "\u001b[1m Row \u001b[0m│\u001b[1m date       \u001b[0m\u001b[1m volume \u001b[0m\u001b[1m open    \u001b[0m\u001b[1m high    \u001b[0m\u001b[1m low     \u001b[0m\u001b[1m close   \u001b[0m\u001b[1m adjclose \u001b[0m\u001b[1m symbo\u001b[0m ⋯\n",
       "     │\u001b[90m Date       \u001b[0m\u001b[90m Int64  \u001b[0m\u001b[90m Float64 \u001b[0m\u001b[90m Float64 \u001b[0m\u001b[90m Float64 \u001b[0m\u001b[90m Float64 \u001b[0m\u001b[90m Float64  \u001b[0m\u001b[90m Strin\u001b[0m ⋯\n",
       "  ⋮  │     ⋮         ⋮        ⋮        ⋮        ⋮        ⋮        ⋮         ⋮  ⋱\n",
       "\u001b[36m                                                     2 columns and 1 row omitted\u001b[0m"
      ]
     },
     "execution_count": 89,
     "metadata": {},
     "output_type": "execute_result"
    }
   ],
   "source": [
    "gdf = groupby(df, :symbol)"
   ]
  },
  {
   "cell_type": "code",
   "execution_count": 90,
   "metadata": {},
   "outputs": [
    {
     "data": {
      "text/html": [
       "<div><div style = \"float: left;\"><span>6852038×10 DataFrame</span></div><div style = \"float: right;\"><span style = \"font-style: italic;\">6852013 rows omitted</span></div><div style = \"clear: both;\"></div></div><div class = \"data-frame\" style = \"overflow-x: scroll;\"><table class = \"data-frame\" style = \"margin-bottom: 6px;\"><thead><tr class = \"header\"><th class = \"rowNumber\" style = \"font-weight: bold; text-align: right;\">Row</th><th style = \"text-align: left;\">date</th><th style = \"text-align: left;\">volume</th><th style = \"text-align: left;\">open</th><th style = \"text-align: left;\">high</th><th style = \"text-align: left;\">low</th><th style = \"text-align: left;\">close</th><th style = \"text-align: left;\">adjclose</th><th style = \"text-align: left;\">symbol</th><th style = \"text-align: left;\">col_idx</th><th style = \"text-align: left;\">close_returns</th></tr><tr class = \"subheader headerLastRow\"><th class = \"rowNumber\" style = \"font-weight: bold; text-align: right;\"></th><th title = \"Date\" style = \"text-align: left;\">Date</th><th title = \"Int64\" style = \"text-align: left;\">Int64</th><th title = \"Float64\" style = \"text-align: left;\">Float64</th><th title = \"Float64\" style = \"text-align: left;\">Float64</th><th title = \"Float64\" style = \"text-align: left;\">Float64</th><th title = \"Float64\" style = \"text-align: left;\">Float64</th><th title = \"Float64\" style = \"text-align: left;\">Float64</th><th title = \"String7\" style = \"text-align: left;\">String7</th><th title = \"Int64\" style = \"text-align: left;\">Int64</th><th title = \"Union{Missing, Float64}\" style = \"text-align: left;\">Float64?</th></tr></thead><tbody><tr><td class = \"rowNumber\" style = \"font-weight: bold; text-align: right;\">1</td><td style = \"text-align: left;\">2015-01-02</td><td style = \"text-align: right;\">2000</td><td style = \"text-align: right;\">37.25</td><td style = \"text-align: right;\">37.25</td><td style = \"text-align: right;\">36.64</td><td style = \"text-align: right;\">36.64</td><td style = \"text-align: right;\">35.3998</td><td style = \"text-align: left;\">AADR</td><td style = \"text-align: right;\">2114</td><td style = \"font-style: italic; text-align: right;\">missing</td></tr><tr><td class = \"rowNumber\" style = \"font-weight: bold; text-align: right;\">2</td><td style = \"text-align: left;\">2015-01-02</td><td style = \"text-align: right;\">10748600</td><td style = \"text-align: right;\">54.28</td><td style = \"text-align: right;\">54.6</td><td style = \"text-align: right;\">53.07</td><td style = \"text-align: right;\">53.91</td><td style = \"text-align: right;\">51.0799</td><td style = \"text-align: left;\">AAL</td><td style = \"text-align: right;\">3499</td><td style = \"font-style: italic; text-align: right;\">missing</td></tr><tr><td class = \"rowNumber\" style = \"font-weight: bold; text-align: right;\">3</td><td style = \"text-align: left;\">2015-01-02</td><td style = \"text-align: right;\">11500</td><td style = \"text-align: right;\">308.0</td><td style = \"text-align: right;\">348.59</td><td style = \"text-align: right;\">308.0</td><td style = \"text-align: right;\">327.18</td><td style = \"text-align: right;\">327.18</td><td style = \"text-align: left;\">AAMC</td><td style = \"text-align: right;\">4798</td><td style = \"font-style: italic; text-align: right;\">missing</td></tr><tr><td class = \"rowNumber\" style = \"font-weight: bold; text-align: right;\">4</td><td style = \"text-align: left;\">2015-01-02</td><td style = \"text-align: right;\">11400</td><td style = \"text-align: right;\">3.99</td><td style = \"text-align: right;\">4.03</td><td style = \"text-align: right;\">3.98</td><td style = \"text-align: right;\">4.03</td><td style = \"text-align: right;\">3.91772</td><td style = \"text-align: left;\">AAME</td><td style = \"text-align: right;\">6079</td><td style = \"font-style: italic; text-align: right;\">missing</td></tr><tr><td class = \"rowNumber\" style = \"font-weight: bold; text-align: right;\">5</td><td style = \"text-align: left;\">2015-01-02</td><td style = \"text-align: right;\">898900</td><td style = \"text-align: right;\">30.81</td><td style = \"text-align: right;\">30.86</td><td style = \"text-align: right;\">30.04</td><td style = \"text-align: right;\">30.62</td><td style = \"text-align: right;\">30.0588</td><td style = \"text-align: left;\">AAN</td><td style = \"text-align: right;\">7464</td><td style = \"font-style: italic; text-align: right;\">missing</td></tr><tr><td class = \"rowNumber\" style = \"font-weight: bold; text-align: right;\">6</td><td style = \"text-align: left;\">2015-01-02</td><td style = \"text-align: right;\">184600</td><td style = \"text-align: right;\">11.28</td><td style = \"text-align: right;\">11.28</td><td style = \"text-align: right;\">10.72</td><td style = \"text-align: right;\">10.79</td><td style = \"text-align: right;\">10.79</td><td style = \"text-align: left;\">AAOI</td><td style = \"text-align: right;\">8840</td><td style = \"font-style: italic; text-align: right;\">missing</td></tr><tr><td class = \"rowNumber\" style = \"font-weight: bold; text-align: right;\">7</td><td style = \"text-align: left;\">2015-01-02</td><td style = \"text-align: right;\">90700</td><td style = \"text-align: right;\">22.55</td><td style = \"text-align: right;\">22.68</td><td style = \"text-align: right;\">21.6</td><td style = \"text-align: right;\">21.93</td><td style = \"text-align: right;\">20.9958</td><td style = \"text-align: left;\">AAON</td><td style = \"text-align: right;\">10225</td><td style = \"font-style: italic; text-align: right;\">missing</td></tr><tr><td class = \"rowNumber\" style = \"font-weight: bold; text-align: right;\">8</td><td style = \"text-align: left;\">2015-01-02</td><td style = \"text-align: right;\">509800</td><td style = \"text-align: right;\">160.85</td><td style = \"text-align: right;\">162.5</td><td style = \"text-align: right;\">157.47</td><td style = \"text-align: right;\">158.56</td><td style = \"text-align: right;\">156.251</td><td style = \"text-align: left;\">AAP</td><td style = \"text-align: right;\">11610</td><td style = \"font-style: italic; text-align: right;\">missing</td></tr><tr><td class = \"rowNumber\" style = \"font-weight: bold; text-align: right;\">9</td><td style = \"text-align: left;\">2015-01-02</td><td style = \"text-align: right;\">53204600</td><td style = \"text-align: right;\">111.39</td><td style = \"text-align: right;\">111.44</td><td style = \"text-align: right;\">107.35</td><td style = \"text-align: right;\">109.33</td><td style = \"text-align: right;\">99.9459</td><td style = \"text-align: left;\">AAPL</td><td style = \"text-align: right;\">12995</td><td style = \"font-style: italic; text-align: right;\">missing</td></tr><tr><td class = \"rowNumber\" style = \"font-weight: bold; text-align: right;\">10</td><td style = \"text-align: left;\">2015-01-02</td><td style = \"text-align: right;\">107500</td><td style = \"text-align: right;\">40.12</td><td style = \"text-align: right;\">40.46</td><td style = \"text-align: right;\">39.95</td><td style = \"text-align: right;\">40.37</td><td style = \"text-align: right;\">35.0019</td><td style = \"text-align: left;\">AAT</td><td style = \"text-align: right;\">14380</td><td style = \"font-style: italic; text-align: right;\">missing</td></tr><tr><td class = \"rowNumber\" style = \"font-weight: bold; text-align: right;\">11</td><td style = \"text-align: left;\">2015-01-02</td><td style = \"text-align: right;\">182200</td><td style = \"text-align: right;\">0.95</td><td style = \"text-align: right;\">0.98</td><td style = \"text-align: right;\">0.94</td><td style = \"text-align: right;\">0.95</td><td style = \"text-align: right;\">0.95</td><td style = \"text-align: left;\">AAU</td><td style = \"text-align: right;\">15765</td><td style = \"font-style: italic; text-align: right;\">missing</td></tr><tr><td class = \"rowNumber\" style = \"font-weight: bold; text-align: right;\">12</td><td style = \"text-align: left;\">2015-01-02</td><td style = \"text-align: right;\">225900</td><td style = \"text-align: right;\">49.71</td><td style = \"text-align: right;\">49.82</td><td style = \"text-align: right;\">47.73</td><td style = \"text-align: right;\">48.42</td><td style = \"text-align: right;\">48.42</td><td style = \"text-align: left;\">AAWW</td><td style = \"text-align: right;\">17150</td><td style = \"font-style: italic; text-align: right;\">missing</td></tr><tr><td class = \"rowNumber\" style = \"font-weight: bold; text-align: right;\">13</td><td style = \"text-align: left;\">2015-01-02</td><td style = \"text-align: right;\">509500</td><td style = \"text-align: right;\">61.17</td><td style = \"text-align: right;\">61.17</td><td style = \"text-align: right;\">60.49</td><td style = \"text-align: right;\">60.63</td><td style = \"text-align: right;\">54.6193</td><td style = \"text-align: left;\">AAXJ</td><td style = \"text-align: right;\">18535</td><td style = \"font-style: italic; text-align: right;\">missing</td></tr><tr><td style = \"text-align: right;\">&vellip;</td><td style = \"text-align: right;\">&vellip;</td><td style = \"text-align: right;\">&vellip;</td><td style = \"text-align: right;\">&vellip;</td><td style = \"text-align: right;\">&vellip;</td><td style = \"text-align: right;\">&vellip;</td><td style = \"text-align: right;\">&vellip;</td><td style = \"text-align: right;\">&vellip;</td><td style = \"text-align: right;\">&vellip;</td><td style = \"text-align: right;\">&vellip;</td><td style = \"text-align: right;\">&vellip;</td></tr><tr><td class = \"rowNumber\" style = \"font-weight: bold; text-align: right;\">6852027</td><td style = \"text-align: left;\">2020-07-02</td><td style = \"text-align: right;\">286576400</td><td style = \"text-align: right;\">0.16</td><td style = \"text-align: right;\">0.18</td><td style = \"text-align: right;\">0.155</td><td style = \"text-align: right;\">0.168</td><td style = \"text-align: right;\">0.168</td><td style = \"text-align: left;\">ZOM</td><td style = \"text-align: right;\">6840313</td><td style = \"font-style: italic; text-align: right;\">-0.292136</td></tr><tr><td class = \"rowNumber\" style = \"font-weight: bold; text-align: right;\">6852028</td><td style = \"text-align: left;\">2020-07-02</td><td style = \"text-align: right;\">52700</td><td style = \"text-align: right;\">170.7</td><td style = \"text-align: right;\">173.23</td><td style = \"text-align: right;\">169.82</td><td style = \"text-align: right;\">172.17</td><td style = \"text-align: right;\">172.17</td><td style = \"text-align: left;\">ZROZ</td><td style = \"text-align: right;\">6840970</td><td style = \"font-style: italic; text-align: right;\">0.0026753</td></tr><tr><td class = \"rowNumber\" style = \"font-weight: bold; text-align: right;\">6852029</td><td style = \"text-align: left;\">2020-07-02</td><td style = \"text-align: right;\">1897000</td><td style = \"text-align: right;\">112.26</td><td style = \"text-align: right;\">112.9</td><td style = \"text-align: right;\">109.692</td><td style = \"text-align: right;\">110.21</td><td style = \"text-align: right;\">110.21</td><td style = \"text-align: left;\">ZS</td><td style = \"text-align: right;\">6842355</td><td style = \"font-style: italic; text-align: right;\">-0.0117267</td></tr><tr><td class = \"rowNumber\" style = \"font-weight: bold; text-align: right;\">6852030</td><td style = \"text-align: left;\">2020-07-02</td><td style = \"text-align: right;\">1291700</td><td style = \"text-align: right;\">0.86</td><td style = \"text-align: right;\">0.87</td><td style = \"text-align: right;\">0.821</td><td style = \"text-align: right;\">0.821</td><td style = \"text-align: right;\">0.821</td><td style = \"text-align: left;\">ZSAN</td><td style = \"text-align: right;\">6842934</td><td style = \"font-style: italic; text-align: right;\">-0.0405784</td></tr><tr><td class = \"rowNumber\" style = \"font-weight: bold; text-align: right;\">6852031</td><td style = \"text-align: left;\">2020-07-02</td><td style = \"text-align: right;\">6156800</td><td style = \"text-align: right;\">37.27</td><td style = \"text-align: right;\">37.67</td><td style = \"text-align: right;\">35.04</td><td style = \"text-align: right;\">37.53</td><td style = \"text-align: right;\">37.53</td><td style = \"text-align: left;\">ZTO</td><td style = \"text-align: right;\">6844221</td><td style = \"font-style: italic; text-align: right;\">0.0142227</td></tr><tr><td class = \"rowNumber\" style = \"font-weight: bold; text-align: right;\">6852032</td><td style = \"text-align: left;\">2020-07-02</td><td style = \"text-align: right;\">112900</td><td style = \"text-align: right;\">8.3</td><td style = \"text-align: right;\">8.39</td><td style = \"text-align: right;\">8.27</td><td style = \"text-align: right;\">8.29</td><td style = \"text-align: right;\">8.29</td><td style = \"text-align: left;\">ZTR</td><td style = \"text-align: right;\">6845147</td><td style = \"font-style: italic; text-align: right;\">0.00362535</td></tr><tr><td class = \"rowNumber\" style = \"font-weight: bold; text-align: right;\">6852033</td><td style = \"text-align: left;\">2020-07-02</td><td style = \"text-align: right;\">1307300</td><td style = \"text-align: right;\">138.58</td><td style = \"text-align: right;\">139.05</td><td style = \"text-align: right;\">137.37</td><td style = \"text-align: right;\">137.66</td><td style = \"text-align: right;\">137.66</td><td style = \"text-align: left;\">ZTS</td><td style = \"text-align: right;\">6846532</td><td style = \"font-style: italic; text-align: right;\">0.00342006</td></tr><tr><td class = \"rowNumber\" style = \"font-weight: bold; text-align: right;\">6852034</td><td style = \"text-align: left;\">2020-07-02</td><td style = \"text-align: right;\">882400</td><td style = \"text-align: right;\">13.11</td><td style = \"text-align: right;\">13.2</td><td style = \"text-align: right;\">12.78</td><td style = \"text-align: right;\">12.84</td><td style = \"text-align: right;\">12.84</td><td style = \"text-align: left;\">ZUO</td><td style = \"text-align: right;\">6847917</td><td style = \"font-style: italic; text-align: right;\">-0.00543688</td></tr><tr><td class = \"rowNumber\" style = \"font-weight: bold; text-align: right;\">6852035</td><td style = \"text-align: left;\">2020-07-02</td><td style = \"text-align: right;\">538000</td><td style = \"text-align: right;\">3.2</td><td style = \"text-align: right;\">3.43</td><td style = \"text-align: right;\">3.18</td><td style = \"text-align: right;\">3.27</td><td style = \"text-align: right;\">3.27</td><td style = \"text-align: left;\">ZVO</td><td style = \"text-align: right;\">6848478</td><td style = \"font-style: italic; text-align: right;\">0.0373875</td></tr><tr><td class = \"rowNumber\" style = \"font-weight: bold; text-align: right;\">6852036</td><td style = \"text-align: left;\">2020-07-02</td><td style = \"text-align: right;\">214200</td><td style = \"text-align: right;\">36.53</td><td style = \"text-align: right;\">37.04</td><td style = \"text-align: right;\">35.73</td><td style = \"text-align: right;\">35.98</td><td style = \"text-align: right;\">35.98</td><td style = \"text-align: left;\">ZYME</td><td style = \"text-align: right;\">6848786</td><td style = \"font-style: italic; text-align: right;\">-0.010781</td></tr><tr><td class = \"rowNumber\" style = \"font-weight: bold; text-align: right;\">6852037</td><td style = \"text-align: left;\">2020-07-02</td><td style = \"text-align: right;\">2857200</td><td style = \"text-align: right;\">3.66</td><td style = \"text-align: right;\">3.69</td><td style = \"text-align: right;\">3.4</td><td style = \"text-align: right;\">3.5</td><td style = \"text-align: right;\">3.5</td><td style = \"text-align: left;\">ZYNE</td><td style = \"text-align: right;\">6849587</td><td style = \"font-style: italic; text-align: right;\">-0.0569203</td></tr><tr><td class = \"rowNumber\" style = \"font-weight: bold; text-align: right;\">6852038</td><td style = \"text-align: left;\">2020-07-02</td><td style = \"text-align: right;\">1072200</td><td style = \"text-align: right;\">24.54</td><td style = \"text-align: right;\">26.84</td><td style = \"text-align: right;\">24.44</td><td style = \"text-align: right;\">25.12</td><td style = \"text-align: right;\">25.12</td><td style = \"text-align: left;\">ZYXI</td><td style = \"text-align: right;\">6850824</td><td style = \"font-style: italic; text-align: right;\">0.0286715</td></tr></tbody></table></div>"
      ],
      "text/latex": [
       "\\begin{tabular}{r|cccccccccc}\n",
       "\t& date & volume & open & high & low & close & adjclose & symbol & col\\_idx & \\\\\n",
       "\t\\hline\n",
       "\t& Date & Int64 & Float64 & Float64 & Float64 & Float64 & Float64 & String7 & Int64 & \\\\\n",
       "\t\\hline\n",
       "\t1 & 2015-01-02 & 2000 & 37.25 & 37.25 & 36.64 & 36.64 & 35.3998 & AADR & 2114 & $\\dots$ \\\\\n",
       "\t2 & 2015-01-02 & 10748600 & 54.28 & 54.6 & 53.07 & 53.91 & 51.0799 & AAL & 3499 & $\\dots$ \\\\\n",
       "\t3 & 2015-01-02 & 11500 & 308.0 & 348.59 & 308.0 & 327.18 & 327.18 & AAMC & 4798 & $\\dots$ \\\\\n",
       "\t4 & 2015-01-02 & 11400 & 3.99 & 4.03 & 3.98 & 4.03 & 3.91772 & AAME & 6079 & $\\dots$ \\\\\n",
       "\t5 & 2015-01-02 & 898900 & 30.81 & 30.86 & 30.04 & 30.62 & 30.0588 & AAN & 7464 & $\\dots$ \\\\\n",
       "\t6 & 2015-01-02 & 184600 & 11.28 & 11.28 & 10.72 & 10.79 & 10.79 & AAOI & 8840 & $\\dots$ \\\\\n",
       "\t7 & 2015-01-02 & 90700 & 22.55 & 22.68 & 21.6 & 21.93 & 20.9958 & AAON & 10225 & $\\dots$ \\\\\n",
       "\t8 & 2015-01-02 & 509800 & 160.85 & 162.5 & 157.47 & 158.56 & 156.251 & AAP & 11610 & $\\dots$ \\\\\n",
       "\t9 & 2015-01-02 & 53204600 & 111.39 & 111.44 & 107.35 & 109.33 & 99.9459 & AAPL & 12995 & $\\dots$ \\\\\n",
       "\t10 & 2015-01-02 & 107500 & 40.12 & 40.46 & 39.95 & 40.37 & 35.0019 & AAT & 14380 & $\\dots$ \\\\\n",
       "\t11 & 2015-01-02 & 182200 & 0.95 & 0.98 & 0.94 & 0.95 & 0.95 & AAU & 15765 & $\\dots$ \\\\\n",
       "\t12 & 2015-01-02 & 225900 & 49.71 & 49.82 & 47.73 & 48.42 & 48.42 & AAWW & 17150 & $\\dots$ \\\\\n",
       "\t13 & 2015-01-02 & 509500 & 61.17 & 61.17 & 60.49 & 60.63 & 54.6193 & AAXJ & 18535 & $\\dots$ \\\\\n",
       "\t14 & 2015-01-02 & 135200 & 26.15 & 26.22 & 25.62 & 26.1 & 26.1 & AB & 19920 & $\\dots$ \\\\\n",
       "\t15 & 2015-01-02 & 1255500 & 21.15 & 21.21 & 20.97 & 21.08 & 16.7124 & ABB & 21305 & $\\dots$ \\\\\n",
       "\t16 & 2015-01-02 & 5086100 & 65.44 & 66.4 & 65.44 & 65.89 & 51.7181 & ABBV & 22690 & $\\dots$ \\\\\n",
       "\t17 & 2015-01-02 & 1124600 & 90.61 & 91.32 & 89.82 & 90.46 & 82.5188 & ABC & 24075 & $\\dots$ \\\\\n",
       "\t18 & 2015-01-02 & 73300 & 25.83 & 25.86 & 24.92 & 25.27 & 23.798 & ABCB & 25460 & $\\dots$ \\\\\n",
       "\t19 & 2015-01-02 & 19100 & 3.37 & 3.4 & 3.2 & 3.4 & 3.4 & ABEO & 26845 & $\\dots$ \\\\\n",
       "\t20 & 2015-01-02 & 20472500 & 6.1 & 6.11 & 5.86 & 5.95 & 5.10875 & ABEV & 28344 & $\\dots$ \\\\\n",
       "\t21 & 2015-01-02 & 330800 & 76.59 & 77.12 & 74.77 & 76.09 & 76.09 & ABG & 29729 & $\\dots$ \\\\\n",
       "\t22 & 2015-01-02 & 2400 & 123.48 & 132.3 & 122.22 & 131.04 & 131.04 & ABIO & 31110 & $\\dots$ \\\\\n",
       "\t23 & 2015-01-02 & 171000 & 28.69 & 28.91 & 28.19 & 28.42 & 25.4463 & ABM & 32495 & $\\dots$ \\\\\n",
       "\t24 & 2015-01-02 & 67800 & 6.77 & 6.84 & 6.76 & 6.83 & 6.83 & ABR & 33880 & $\\dots$ \\\\\n",
       "\t25 & 2015-01-02 & 3216600 & 45.25 & 45.45 & 44.64 & 44.9 & 40.1492 & ABT & 35265 & $\\dots$ \\\\\n",
       "\t26 & 2015-01-02 & 643000 & 15.3 & 15.6 & 14.54 & 14.76 & 14.76 & ABUS & 37842 & $\\dots$ \\\\\n",
       "\t27 & 2015-01-02 & 1261200 & 32.17 & 32.75 & 31.1 & 31.15 & 31.15 & ACAD & 40794 & $\\dots$ \\\\\n",
       "\t28 & 2015-01-02 & 548800 & 41.59 & 42.12 & 41.38 & 42.09 & 33.6558 & ACC & 44753 & $\\dots$ \\\\\n",
       "\t29 & 2015-01-02 & 785400 & 9.07 & 9.2 & 8.71 & 8.79 & 8.16932 & ACCO & 46138 & $\\dots$ \\\\\n",
       "\t30 & 2015-01-02 & 1100 & 61.6667 & 69.1667 & 59.1667 & 64.1667 & 64.1667 & ACER & 47850 & $\\dots$ \\\\\n",
       "\t$\\dots$ & $\\dots$ & $\\dots$ & $\\dots$ & $\\dots$ & $\\dots$ & $\\dots$ & $\\dots$ & $\\dots$ & $\\dots$ &  \\\\\n",
       "\\end{tabular}\n"
      ],
      "text/plain": [
       "\u001b[1m6852038×10 DataFrame\u001b[0m\n",
       "\u001b[1m     Row \u001b[0m│\u001b[1m date       \u001b[0m\u001b[1m volume    \u001b[0m\u001b[1m open    \u001b[0m\u001b[1m high    \u001b[0m\u001b[1m low     \u001b[0m\u001b[1m close   \u001b[0m\u001b[1m adjclose\u001b[0m ⋯\n",
       "         │\u001b[90m Date       \u001b[0m\u001b[90m Int64     \u001b[0m\u001b[90m Float64 \u001b[0m\u001b[90m Float64 \u001b[0m\u001b[90m Float64 \u001b[0m\u001b[90m Float64 \u001b[0m\u001b[90m Float64 \u001b[0m ⋯\n",
       "─────────┼──────────────────────────────────────────────────────────────────────\n",
       "       1 │ 2015-01-02       2000    37.25    37.25   36.64    36.64    35.3998 ⋯\n",
       "       2 │ 2015-01-02   10748600    54.28    54.6    53.07    53.91    51.0799\n",
       "       3 │ 2015-01-02      11500   308.0    348.59  308.0    327.18   327.18\n",
       "       4 │ 2015-01-02      11400     3.99     4.03    3.98     4.03     3.9177\n",
       "       5 │ 2015-01-02     898900    30.81    30.86   30.04    30.62    30.0588 ⋯\n",
       "       6 │ 2015-01-02     184600    11.28    11.28   10.72    10.79    10.79\n",
       "       7 │ 2015-01-02      90700    22.55    22.68   21.6     21.93    20.9958\n",
       "       8 │ 2015-01-02     509800   160.85   162.5   157.47   158.56   156.251\n",
       "       9 │ 2015-01-02   53204600   111.39   111.44  107.35   109.33    99.9459 ⋯\n",
       "      10 │ 2015-01-02     107500    40.12    40.46   39.95    40.37    35.0019\n",
       "      11 │ 2015-01-02     182200     0.95     0.98    0.94     0.95     0.95\n",
       "    ⋮    │     ⋮           ⋮         ⋮        ⋮        ⋮        ⋮         ⋮    ⋱\n",
       " 6852029 │ 2020-07-02    1897000   112.26   112.9   109.692  110.21   110.21\n",
       " 6852030 │ 2020-07-02    1291700     0.86     0.87    0.821    0.821    0.821  ⋯\n",
       " 6852031 │ 2020-07-02    6156800    37.27    37.67   35.04    37.53    37.53\n",
       " 6852032 │ 2020-07-02     112900     8.3      8.39    8.27     8.29     8.29\n",
       " 6852033 │ 2020-07-02    1307300   138.58   139.05  137.37   137.66   137.66\n",
       " 6852034 │ 2020-07-02     882400    13.11    13.2    12.78    12.84    12.84   ⋯\n",
       " 6852035 │ 2020-07-02     538000     3.2      3.43    3.18     3.27     3.27\n",
       " 6852036 │ 2020-07-02     214200    36.53    37.04   35.73    35.98    35.98\n",
       " 6852037 │ 2020-07-02    2857200     3.66     3.69    3.4      3.5      3.5\n",
       " 6852038 │ 2020-07-02    1072200    24.54    26.84   24.44    25.12    25.12   ⋯\n",
       "\u001b[36m                                              4 columns and 6852017 rows omitted\u001b[0m"
      ]
     },
     "execution_count": 90,
     "metadata": {},
     "output_type": "execute_result"
    }
   ],
   "source": [
    "df2 = transform(gdf, :close => (x -> log.(x ./ lag(x))) => :close_returns)"
   ]
  },
  {
   "cell_type": "code",
   "execution_count": 91,
   "metadata": {},
   "outputs": [
    {
     "data": {
      "text/html": [
       "<p><b>GroupedDataFrame with 6335 groups based on key: symbol</b></p><div><div style = \"float: left;\"><span>First Group (3 rows): symbol = &quot;AADR&quot;</span></div><div style = \"clear: both;\"></div></div><div class = \"data-frame\" style = \"overflow-x: scroll;\"><table class = \"data-frame\" style = \"margin-bottom: 6px;\"><thead><tr class = \"header\"><th class = \"rowNumber\" style = \"font-weight: bold; text-align: right;\">Row</th><th style = \"text-align: left;\">symbol</th><th style = \"text-align: left;\">date</th><th style = \"text-align: left;\">volume</th><th style = \"text-align: left;\">open</th><th style = \"text-align: left;\">high</th><th style = \"text-align: left;\">low</th><th style = \"text-align: left;\">close</th><th style = \"text-align: left;\">adjclose</th><th style = \"text-align: left;\">col_idx</th><th style = \"text-align: left;\">close_returns</th></tr><tr class = \"subheader headerLastRow\"><th class = \"rowNumber\" style = \"font-weight: bold; text-align: right;\"></th><th title = \"String7\" style = \"text-align: left;\">String7</th><th title = \"Date\" style = \"text-align: left;\">Date</th><th title = \"Int64\" style = \"text-align: left;\">Int64</th><th title = \"Float64\" style = \"text-align: left;\">Float64</th><th title = \"Float64\" style = \"text-align: left;\">Float64</th><th title = \"Float64\" style = \"text-align: left;\">Float64</th><th title = \"Float64\" style = \"text-align: left;\">Float64</th><th title = \"Float64\" style = \"text-align: left;\">Float64</th><th title = \"Int64\" style = \"text-align: left;\">Int64</th><th title = \"Union{Missing, Float64}\" style = \"text-align: left;\">Float64?</th></tr></thead><tbody><tr><td class = \"rowNumber\" style = \"font-weight: bold; text-align: right;\">1</td><td style = \"text-align: left;\">AADR</td><td style = \"text-align: left;\">2015-01-02</td><td style = \"text-align: right;\">2000</td><td style = \"text-align: right;\">37.25</td><td style = \"text-align: right;\">37.25</td><td style = \"text-align: right;\">36.64</td><td style = \"text-align: right;\">36.64</td><td style = \"text-align: right;\">35.3998</td><td style = \"text-align: right;\">2114</td><td style = \"font-style: italic; text-align: right;\">missing</td></tr><tr><td class = \"rowNumber\" style = \"font-weight: bold; text-align: right;\">2</td><td style = \"text-align: left;\">AADR</td><td style = \"text-align: left;\">2015-01-05</td><td style = \"text-align: right;\">600</td><td style = \"text-align: right;\">36.13</td><td style = \"text-align: right;\">36.44</td><td style = \"text-align: right;\">36.13</td><td style = \"text-align: right;\">36.19</td><td style = \"text-align: right;\">34.965</td><td style = \"text-align: right;\">2113</td><td style = \"text-align: right;\">-0.0123577</td></tr><tr><td class = \"rowNumber\" style = \"font-weight: bold; text-align: right;\">3</td><td style = \"text-align: left;\">AADR</td><td style = \"text-align: left;\">2015-01-06</td><td style = \"text-align: right;\">600</td><td style = \"text-align: right;\">35.57</td><td style = \"text-align: right;\">35.89</td><td style = \"text-align: right;\">35.56</td><td style = \"text-align: right;\">35.89</td><td style = \"text-align: right;\">34.6752</td><td style = \"text-align: right;\">2112</td><td style = \"text-align: right;\">-0.00832411</td></tr></tbody></table></div><p>&vellip;</p><div><div style = \"float: left;\"><span>Last Group (1 row): symbol = &quot;EAI&quot;</span></div><div style = \"clear: both;\"></div></div><div class = \"data-frame\" style = \"overflow-x: scroll;\"><table class = \"data-frame\" style = \"margin-bottom: 6px;\"><thead><tr class = \"header\"><th class = \"rowNumber\" style = \"font-weight: bold; text-align: right;\">Row</th><th style = \"text-align: left;\">symbol</th><th style = \"text-align: left;\">date</th><th style = \"text-align: left;\">volume</th><th style = \"text-align: left;\">open</th><th style = \"text-align: left;\">high</th><th style = \"text-align: left;\">low</th><th style = \"text-align: left;\">close</th><th style = \"text-align: left;\">adjclose</th><th style = \"text-align: left;\">col_idx</th><th style = \"text-align: left;\">close_returns</th></tr><tr class = \"subheader headerLastRow\"><th class = \"rowNumber\" style = \"font-weight: bold; text-align: right;\"></th><th title = \"String7\" style = \"text-align: left;\">String7</th><th title = \"Date\" style = \"text-align: left;\">Date</th><th title = \"Int64\" style = \"text-align: left;\">Int64</th><th title = \"Float64\" style = \"text-align: left;\">Float64</th><th title = \"Float64\" style = \"text-align: left;\">Float64</th><th title = \"Float64\" style = \"text-align: left;\">Float64</th><th title = \"Float64\" style = \"text-align: left;\">Float64</th><th title = \"Float64\" style = \"text-align: left;\">Float64</th><th title = \"Int64\" style = \"text-align: left;\">Int64</th><th title = \"Union{Missing, Float64}\" style = \"text-align: left;\">Float64?</th></tr></thead><tbody><tr><td class = \"rowNumber\" style = \"font-weight: bold; text-align: right;\">1</td><td style = \"text-align: left;\">EAI</td><td style = \"text-align: left;\">2020-07-02</td><td style = \"text-align: right;\">10150</td><td style = \"text-align: right;\">25.29</td><td style = \"text-align: right;\">25.48</td><td style = \"text-align: right;\">25.37</td><td style = \"text-align: right;\">25.4042</td><td style = \"text-align: right;\">25.4042</td><td style = \"text-align: right;\">1747793</td><td style = \"font-style: italic; text-align: right;\">missing</td></tr></tbody></table></div>"
      ],
      "text/latex": [
       "GroupedDataFrame with 6335 groups based on key: symbol\n",
       "\n",
       "First Group (3 rows): symbol = \"AADR\"\n",
       "\n",
       "\\begin{tabular}{r|cccccccccc}\n",
       "\t& symbol & date & volume & open & high & low & close & adjclose & col\\_idx & \\\\\n",
       "\t\\hline\n",
       "\t& String7 & Date & Int64 & Float64 & Float64 & Float64 & Float64 & Float64 & Int64 & \\\\\n",
       "\t\\hline\n",
       "\t1 & AADR & 2015-01-02 & 2000 & 37.25 & 37.25 & 36.64 & 36.64 & 35.3998 & 2114 & $\\dots$ \\\\\n",
       "\t2 & AADR & 2015-01-05 & 600 & 36.13 & 36.44 & 36.13 & 36.19 & 34.965 & 2113 & $\\dots$ \\\\\n",
       "\t3 & AADR & 2015-01-06 & 600 & 35.57 & 35.89 & 35.56 & 35.89 & 34.6752 & 2112 & $\\dots$ \\\\\n",
       "\\end{tabular}\n",
       "\n",
       "$\\dots$\n",
       "\n",
       "Last Group (1 row): symbol = \"EAI\"\n",
       "\n",
       "\\begin{tabular}{r|cccccccccc}\n",
       "\t& symbol & date & volume & open & high & low & close & adjclose & col\\_idx & \\\\\n",
       "\t\\hline\n",
       "\t& String7 & Date & Int64 & Float64 & Float64 & Float64 & Float64 & Float64 & Int64 & \\\\\n",
       "\t\\hline\n",
       "\t1 & EAI & 2020-07-02 & 10150 & 25.29 & 25.48 & 25.37 & 25.4042 & 25.4042 & 1747793 & $\\dots$ \\\\\n",
       "\\end{tabular}\n"
      ],
      "text/plain": [
       "GroupedDataFrame with 6335 groups based on key: symbol\n",
       "First Group (3 rows): symbol = \"AADR\"\n",
       "\u001b[1m Row \u001b[0m│\u001b[1m symbol  \u001b[0m\u001b[1m date       \u001b[0m\u001b[1m volume \u001b[0m\u001b[1m open    \u001b[0m\u001b[1m high    \u001b[0m\u001b[1m low     \u001b[0m\u001b[1m close   \u001b[0m\u001b[1m adjclo\u001b[0m ⋯\n",
       "     │\u001b[90m String7 \u001b[0m\u001b[90m Date       \u001b[0m\u001b[90m Int64  \u001b[0m\u001b[90m Float64 \u001b[0m\u001b[90m Float64 \u001b[0m\u001b[90m Float64 \u001b[0m\u001b[90m Float64 \u001b[0m\u001b[90m Float6\u001b[0m ⋯\n",
       "─────┼──────────────────────────────────────────────────────────────────────────\n",
       "   1 │ AADR     2015-01-02    2000    37.25    37.25    36.64    36.64   35.39 ⋯\n",
       "  ⋮  │    ⋮         ⋮         ⋮        ⋮        ⋮        ⋮        ⋮        ⋮   ⋱\n",
       "\u001b[36m                                                    3 columns and 2 rows omitted\u001b[0m\n",
       "⋮\n",
       "Last Group (1 row): symbol = \"EAI\"\n",
       "\u001b[1m Row \u001b[0m│\u001b[1m symbol  \u001b[0m\u001b[1m date       \u001b[0m\u001b[1m volume \u001b[0m\u001b[1m open    \u001b[0m\u001b[1m high    \u001b[0m\u001b[1m low     \u001b[0m\u001b[1m close   \u001b[0m\u001b[1m adjclo\u001b[0m ⋯\n",
       "     │\u001b[90m String7 \u001b[0m\u001b[90m Date       \u001b[0m\u001b[90m Int64  \u001b[0m\u001b[90m Float64 \u001b[0m\u001b[90m Float64 \u001b[0m\u001b[90m Float64 \u001b[0m\u001b[90m Float64 \u001b[0m\u001b[90m Float6\u001b[0m ⋯\n",
       "  ⋮  │    ⋮         ⋮         ⋮        ⋮        ⋮        ⋮        ⋮        ⋮   ⋱\n",
       "\u001b[36m                                                     3 columns and 1 row omitted\u001b[0m"
      ]
     },
     "execution_count": 91,
     "metadata": {},
     "output_type": "execute_result"
    }
   ],
   "source": [
    "combine(sdf -> first(sdf, 3), groupby(df2, :symbol), ungroup=false)"
   ]
  },
  {
   "cell_type": "markdown",
   "metadata": {},
   "source": [
    "#### Exercise"
   ]
  },
  {
   "cell_type": "markdown",
   "metadata": {},
   "source": [
    "Check our codes to make sure that in each group in `df2` first and only the fist element of `:close_returns` is `missing`"
   ]
  },
  {
   "cell_type": "code",
   "execution_count": null,
   "metadata": {},
   "outputs": [],
   "source": []
  },
  {
   "cell_type": "markdown",
   "metadata": {},
   "source": [
    "#### Exercises"
   ]
  },
  {
   "cell_type": "markdown",
   "metadata": {},
   "source": [
    "Check what happens if you try to broadcast a sum of a 1-row `DataFrame` with an array having multiple rows"
   ]
  },
  {
   "cell_type": "code",
   "execution_count": null,
   "metadata": {},
   "outputs": [],
   "source": []
  },
  {
   "cell_type": "markdown",
   "metadata": {},
   "source": [
    "Check what happens if you try to broadcast a sum of a 0-row `DataFrame` with an array having multiple rows"
   ]
  },
  {
   "cell_type": "code",
   "execution_count": null,
   "metadata": {},
   "outputs": [],
   "source": []
  },
  {
   "cell_type": "markdown",
   "metadata": {},
   "source": [
    "Check what happens when you try to broadcast a sum of a `DataFrame` with a 3D array."
   ]
  },
  {
   "cell_type": "code",
   "execution_count": null,
   "metadata": {},
   "outputs": [],
   "source": []
  },
  {
   "cell_type": "markdown",
   "metadata": {},
   "source": [
    "Check if broadcasting is defined for `DataFrameRow`."
   ]
  },
  {
   "cell_type": "code",
   "execution_count": null,
   "metadata": {},
   "outputs": [],
   "source": []
  },
  {
   "cell_type": "markdown",
   "metadata": {},
   "source": [
    "<div class=\"alert alert-block alert-info\">\n",
    "<b>Tip:</b>\n",
    "\n",
    "In broadcasting `df.single_col` and `df[!, single_col]` behave in the same way (the same exceptions as in `getindex` apply).\n",
    "\n",
    "</div>"
   ]
  },
  {
   "cell_type": "markdown",
   "metadata": {},
   "source": [
    "## broadcast!"
   ]
  },
  {
   "cell_type": "markdown",
   "metadata": {},
   "source": [
    "It is possible to assign a value to `AbstractDataFrame` and `DataFrameRow` objects using the `.=` operator.\n",
    "\n",
    "In such an operation `AbstractDataFrame` is considered as two-dimensional and `DataFrameRow` as single-dimensional (columnar)."
   ]
  },
  {
   "cell_type": "markdown",
   "metadata": {},
   "source": [
    "#### Special cases:"
   ]
  },
  {
   "cell_type": "markdown",
   "metadata": {},
   "source": [
    "Broadcasting into a single cell unwraps it before opertion:"
   ]
  },
  {
   "cell_type": "code",
   "execution_count": 92,
   "metadata": {},
   "outputs": [
    {
     "data": {
      "text/html": [
       "<div><div style = \"float: left;\"><span>2×1 DataFrame</span></div><div style = \"clear: both;\"></div></div><div class = \"data-frame\" style = \"overflow-x: scroll;\"><table class = \"data-frame\" style = \"margin-bottom: 6px;\"><thead><tr class = \"header\"><th class = \"rowNumber\" style = \"font-weight: bold; text-align: right;\">Row</th><th style = \"text-align: left;\">a</th></tr><tr class = \"subheader headerLastRow\"><th class = \"rowNumber\" style = \"font-weight: bold; text-align: right;\"></th><th title = \"Vector{Int64}\" style = \"text-align: left;\">Array…</th></tr></thead><tbody><tr><td class = \"rowNumber\" style = \"font-weight: bold; text-align: right;\">1</td><td style = \"text-align: left;\">[1, 2]</td></tr><tr><td class = \"rowNumber\" style = \"font-weight: bold; text-align: right;\">2</td><td style = \"text-align: left;\">[3, 4]</td></tr></tbody></table></div>"
      ],
      "text/latex": [
       "\\begin{tabular}{r|c}\n",
       "\t& a\\\\\n",
       "\t\\hline\n",
       "\t& Array…\\\\\n",
       "\t\\hline\n",
       "\t1 & [1, 2] \\\\\n",
       "\t2 & [3, 4] \\\\\n",
       "\\end{tabular}\n"
      ],
      "text/plain": [
       "\u001b[1m2×1 DataFrame\u001b[0m\n",
       "\u001b[1m Row \u001b[0m│\u001b[1m a      \u001b[0m\n",
       "     │\u001b[90m Array… \u001b[0m\n",
       "─────┼────────\n",
       "   1 │ [1, 2]\n",
       "   2 │ [3, 4]"
      ]
     },
     "execution_count": 92,
     "metadata": {},
     "output_type": "execute_result"
    }
   ],
   "source": [
    "df = DataFrame(a=[[1,2], [3,4]])"
   ]
  },
  {
   "cell_type": "code",
   "execution_count": 93,
   "metadata": {},
   "outputs": [
    {
     "data": {
      "text/plain": [
       "2-element Vector{Int64}:\n",
       " 10\n",
       " 20"
      ]
     },
     "execution_count": 93,
     "metadata": {},
     "output_type": "execute_result"
    }
   ],
   "source": [
    "df[1,1] .= [10, 20]"
   ]
  },
  {
   "cell_type": "code",
   "execution_count": 94,
   "metadata": {},
   "outputs": [
    {
     "data": {
      "text/html": [
       "<div><div style = \"float: left;\"><span>2×1 DataFrame</span></div><div style = \"clear: both;\"></div></div><div class = \"data-frame\" style = \"overflow-x: scroll;\"><table class = \"data-frame\" style = \"margin-bottom: 6px;\"><thead><tr class = \"header\"><th class = \"rowNumber\" style = \"font-weight: bold; text-align: right;\">Row</th><th style = \"text-align: left;\">a</th></tr><tr class = \"subheader headerLastRow\"><th class = \"rowNumber\" style = \"font-weight: bold; text-align: right;\"></th><th title = \"Vector{Int64}\" style = \"text-align: left;\">Array…</th></tr></thead><tbody><tr><td class = \"rowNumber\" style = \"font-weight: bold; text-align: right;\">1</td><td style = \"text-align: left;\">[10, 20]</td></tr><tr><td class = \"rowNumber\" style = \"font-weight: bold; text-align: right;\">2</td><td style = \"text-align: left;\">[3, 4]</td></tr></tbody></table></div>"
      ],
      "text/latex": [
       "\\begin{tabular}{r|c}\n",
       "\t& a\\\\\n",
       "\t\\hline\n",
       "\t& Array…\\\\\n",
       "\t\\hline\n",
       "\t1 & [10, 20] \\\\\n",
       "\t2 & [3, 4] \\\\\n",
       "\\end{tabular}\n"
      ],
      "text/plain": [
       "\u001b[1m2×1 DataFrame\u001b[0m\n",
       "\u001b[1m Row \u001b[0m│\u001b[1m a        \u001b[0m\n",
       "     │\u001b[90m Array…   \u001b[0m\n",
       "─────┼──────────\n",
       "   1 │ [10, 20]\n",
       "   2 │ [3, 4]"
      ]
     },
     "execution_count": 94,
     "metadata": {},
     "output_type": "execute_result"
    }
   ],
   "source": [
    "df"
   ]
  },
  {
   "cell_type": "markdown",
   "metadata": {},
   "source": [
    "Broadcasting into any slice of a data frame is in-place except for two cases:\n",
    "* `!` is used as a row selector\n",
    "* `:` is used as a row selector and column selector is a single column that does not exist in a data frame\n",
    "* `getproperty` is used as column selector (valid since Julia 1.7!)\n",
    "\n",
    "In these cases a new column is allocated."
   ]
  },
  {
   "cell_type": "markdown",
   "metadata": {},
   "source": [
    "<div class=\"alert alert-block alert-info\">\n",
    "<b>Tip:</b>\n",
    "\n",
    "These rules mean that `df.single_col .= v` behaves in the same way as `df[!, single_col] .= v`\n",
    "\n",
    "(this is valid since Julia 1.7).\n",
    "</div>"
   ]
  },
  {
   "cell_type": "markdown",
   "metadata": {},
   "source": [
    "## Summary"
   ]
  },
  {
   "cell_type": "markdown",
   "metadata": {},
   "source": [
    "All the rules how indexing works in DataFrames.jl are specified here:\n",
    "\n",
    "https://juliadata.github.io/DataFrames.jl/latest/lib/indexing/\n",
    "\n",
    "If you find some cases where the behavior does not match these rules please report an issue."
   ]
  },
  {
   "cell_type": "markdown",
   "metadata": {},
   "source": [
    "<div class=\"alert alert-block alert-info\">\n",
    "<b>Tip:</b>\n",
    "\n",
    "Rules for most common operations:\n",
    "* get a column without copying `df.single_col` or `df[!, single_col]`\n",
    "* get a column with copying `df[:, single_col]`\n",
    "\n",
    "\n",
    "* assign a column without copying `df.single_col = vector` or `df[!, single_col] = vector` (except for ranges)\n",
    "* assign a column with copying `df[:, single_col] = vector`\n",
    "* assign a value in-place with broadcasting if column exists:  `df.single_col .= value` or `df[:, single_col] .= value`\n",
    "* assign a value with copying, create a column if it does not exist: `df[!, single_col] .= value`\n",
    "* for convenience also `df[:, single_col] .= value` creates a column with copying if it does not exist\n",
    "\n",
    "</div>"
   ]
  }
 ],
 "metadata": {
  "@webio": {
   "lastCommId": null,
   "lastKernelId": null
  },
  "kernelspec": {
   "display_name": "Julia 1.9.0",
   "language": "julia",
   "name": "julia-1.9"
  },
  "language_info": {
   "file_extension": ".jl",
   "mimetype": "application/julia",
   "name": "julia",
   "version": "1.9.0"
  }
 },
 "nbformat": 4,
 "nbformat_minor": 2
}
