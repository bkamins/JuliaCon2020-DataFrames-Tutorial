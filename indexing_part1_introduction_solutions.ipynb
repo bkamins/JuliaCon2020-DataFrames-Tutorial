{
 "cells": [
  {
   "cell_type": "markdown",
   "metadata": {},
   "source": [
    "# A deep dive into DataFrames.jl indexing\n",
    "# Part 1: indexing in DataFrames.jl by example\n",
    "### Bogumił Kamiński"
   ]
  },
  {
   "cell_type": "markdown",
   "metadata": {},
   "source": [
    "`DataFrame` is an object that holds a collection of named columns stored as vectors.\n",
    "\n",
    "In this tutorial we discuss how to get or set values of these columns."
   ]
  },
  {
   "cell_type": "markdown",
   "metadata": {},
   "source": [
    "What are we going to cover:\n",
    "* `getindex`, a.k.a. `x[...]`\n",
    "* `setindex!`, a.k.a. `x[...] =`\n",
    "* `broadcast`, a.k.a. `fun.(x)`\n",
    "* `broadcast!`, a.k.a. `x .= ...`\n",
    "* `getproperty`, a.k.a. `x.field` and `x.field .= ...`\n",
    "* `setproperty`, a.k.a. `x.field = ...`\n",
    "\n",
    "Indexable types that DataFrames.jl defines:\n",
    "* `DataFrame`\n",
    "* `SubDataFrame`\n",
    "* `DataFrameRow`\n",
    "* `DataFrameRows`\n",
    "* `DataFrameColumns`\n",
    "* `GroupedDataFrame`\n",
    "* `GroupKeys`\n",
    "* `GroupKey`\n",
    "* `StackedVector`\n",
    "* `RepeatedVector`"
   ]
  },
  {
   "cell_type": "markdown",
   "metadata": {},
   "source": [
    "### Environment setup"
   ]
  },
  {
   "cell_type": "code",
   "execution_count": 1,
   "metadata": {},
   "outputs": [],
   "source": [
    "using BenchmarkTools"
   ]
  },
  {
   "cell_type": "code",
   "execution_count": 2,
   "metadata": {},
   "outputs": [],
   "source": [
    "using CSV"
   ]
  },
  {
   "cell_type": "code",
   "execution_count": 3,
   "metadata": {},
   "outputs": [],
   "source": [
    "using DataFrames"
   ]
  },
  {
   "cell_type": "code",
   "execution_count": 4,
   "metadata": {},
   "outputs": [],
   "source": [
    "using Dates"
   ]
  },
  {
   "cell_type": "code",
   "execution_count": 5,
   "metadata": {},
   "outputs": [],
   "source": [
    "using ShiftedArrays"
   ]
  },
  {
   "cell_type": "code",
   "execution_count": 6,
   "metadata": {},
   "outputs": [],
   "source": [
    "using Statistics"
   ]
  },
  {
   "cell_type": "markdown",
   "metadata": {},
   "source": [
    "Typical initial setup steps to override default settings of JupyterNotebook"
   ]
  },
  {
   "cell_type": "code",
   "execution_count": 7,
   "metadata": {},
   "outputs": [
    {
     "data": {
      "text/plain": [
       "500"
      ]
     },
     "execution_count": 7,
     "metadata": {},
     "output_type": "execute_result"
    }
   ],
   "source": [
    "ENV[\"COLUMNS\"] = 500"
   ]
  },
  {
   "cell_type": "code",
   "execution_count": 8,
   "metadata": {},
   "outputs": [
    {
     "data": {
      "text/plain": [
       "15"
      ]
     },
     "execution_count": 8,
     "metadata": {},
     "output_type": "execute_result"
    }
   ],
   "source": [
    "ENV[\"LINES\"] = 15"
   ]
  },
  {
   "cell_type": "markdown",
   "metadata": {},
   "source": [
    "Let us read-in the data set we will work with.\n",
    "\n",
    "Make sure you have the required file in the working directory.\n",
    "\n",
    "The detailed instructions how to get it are in https://github.com/bkamins/JuliaCon2020-DataFrames-Tutorial/blob/master/README.md"
   ]
  },
  {
   "cell_type": "code",
   "execution_count": 9,
   "metadata": {
    "scrolled": false
   },
   "outputs": [
    {
     "data": {
      "text/html": [
       "<table class=\"data-frame\"><thead><tr><th></th><th>date</th><th>volume</th><th>open</th><th>high</th><th>low</th><th>close</th><th>adjclose</th><th>symbol</th></tr><tr><th></th><th>Date</th><th>Int64</th><th>Float64</th><th>Float64</th><th>Float64</th><th>Float64</th><th>Float64</th><th>String</th></tr></thead><tbody><p>6,852,038 rows × 8 columns</p><tr><th>1</th><td>2020-07-02</td><td>257500</td><td>17.64</td><td>17.74</td><td>17.62</td><td>17.71</td><td>17.71</td><td>AAAU</td></tr><tr><th>2</th><td>2020-07-01</td><td>468100</td><td>17.73</td><td>17.73</td><td>17.54</td><td>17.68</td><td>17.68</td><td>AAAU</td></tr><tr><th>3</th><td>2020-06-30</td><td>319100</td><td>17.65</td><td>17.8</td><td>17.61</td><td>17.78</td><td>17.78</td><td>AAAU</td></tr><tr><th>4</th><td>2020-06-29</td><td>405500</td><td>17.67</td><td>17.69</td><td>17.63</td><td>17.68</td><td>17.68</td><td>AAAU</td></tr><tr><th>5</th><td>2020-06-26</td><td>335100</td><td>17.49</td><td>17.67</td><td>17.42</td><td>17.67</td><td>17.67</td><td>AAAU</td></tr><tr><th>6</th><td>2020-06-25</td><td>246800</td><td>17.6</td><td>17.6</td><td>17.52</td><td>17.59</td><td>17.59</td><td>AAAU</td></tr><tr><th>7</th><td>2020-06-24</td><td>329200</td><td>17.61</td><td>17.71</td><td>17.56</td><td>17.61</td><td>17.61</td><td>AAAU</td></tr><tr><th>8</th><td>2020-06-23</td><td>351800</td><td>17.55</td><td>17.66</td><td>17.55</td><td>17.66</td><td>17.66</td><td>AAAU</td></tr><tr><th>9</th><td>2020-06-22</td><td>308300</td><td>17.5</td><td>17.57</td><td>17.44</td><td>17.5</td><td>17.5</td><td>AAAU</td></tr><tr><th>10</th><td>2020-06-19</td><td>153800</td><td>17.27</td><td>17.4</td><td>17.26</td><td>17.4</td><td>17.4</td><td>AAAU</td></tr><tr><th>11</th><td>2020-06-18</td><td>102200</td><td>17.27</td><td>17.27</td><td>17.14</td><td>17.23</td><td>17.23</td><td>AAAU</td></tr><tr><th>12</th><td>2020-06-17</td><td>153900</td><td>17.19</td><td>17.25</td><td>17.16</td><td>17.25</td><td>17.25</td><td>AAAU</td></tr><tr><th>13</th><td>2020-06-16</td><td>165800</td><td>17.15</td><td>17.25</td><td>17.11</td><td>17.21</td><td>17.21</td><td>AAAU</td></tr><tr><th>14</th><td>2020-06-15</td><td>308700</td><td>17.03</td><td>17.23</td><td>17.0</td><td>17.2</td><td>17.2</td><td>AAAU</td></tr><tr><th>15</th><td>2020-06-12</td><td>161400</td><td>17.34</td><td>17.37</td><td>17.25</td><td>17.27</td><td>17.27</td><td>AAAU</td></tr><tr><th>&vellip;</th><td>&vellip;</td><td>&vellip;</td><td>&vellip;</td><td>&vellip;</td><td>&vellip;</td><td>&vellip;</td><td>&vellip;</td><td>&vellip;</td></tr></tbody></table>"
      ],
      "text/latex": [
       "\\begin{tabular}{r|cccccccc}\n",
       "\t& date & volume & open & high & low & close & adjclose & symbol\\\\\n",
       "\t\\hline\n",
       "\t& Date & Int64 & Float64 & Float64 & Float64 & Float64 & Float64 & String\\\\\n",
       "\t\\hline\n",
       "\t1 & 2020-07-02 & 257500 & 17.64 & 17.74 & 17.62 & 17.71 & 17.71 & AAAU \\\\\n",
       "\t2 & 2020-07-01 & 468100 & 17.73 & 17.73 & 17.54 & 17.68 & 17.68 & AAAU \\\\\n",
       "\t3 & 2020-06-30 & 319100 & 17.65 & 17.8 & 17.61 & 17.78 & 17.78 & AAAU \\\\\n",
       "\t4 & 2020-06-29 & 405500 & 17.67 & 17.69 & 17.63 & 17.68 & 17.68 & AAAU \\\\\n",
       "\t5 & 2020-06-26 & 335100 & 17.49 & 17.67 & 17.42 & 17.67 & 17.67 & AAAU \\\\\n",
       "\t6 & 2020-06-25 & 246800 & 17.6 & 17.6 & 17.52 & 17.59 & 17.59 & AAAU \\\\\n",
       "\t7 & 2020-06-24 & 329200 & 17.61 & 17.71 & 17.56 & 17.61 & 17.61 & AAAU \\\\\n",
       "\t8 & 2020-06-23 & 351800 & 17.55 & 17.66 & 17.55 & 17.66 & 17.66 & AAAU \\\\\n",
       "\t9 & 2020-06-22 & 308300 & 17.5 & 17.57 & 17.44 & 17.5 & 17.5 & AAAU \\\\\n",
       "\t10 & 2020-06-19 & 153800 & 17.27 & 17.4 & 17.26 & 17.4 & 17.4 & AAAU \\\\\n",
       "\t11 & 2020-06-18 & 102200 & 17.27 & 17.27 & 17.14 & 17.23 & 17.23 & AAAU \\\\\n",
       "\t12 & 2020-06-17 & 153900 & 17.19 & 17.25 & 17.16 & 17.25 & 17.25 & AAAU \\\\\n",
       "\t13 & 2020-06-16 & 165800 & 17.15 & 17.25 & 17.11 & 17.21 & 17.21 & AAAU \\\\\n",
       "\t14 & 2020-06-15 & 308700 & 17.03 & 17.23 & 17.0 & 17.2 & 17.2 & AAAU \\\\\n",
       "\t15 & 2020-06-12 & 161400 & 17.34 & 17.37 & 17.25 & 17.27 & 17.27 & AAAU \\\\\n",
       "\t$\\dots$ & $\\dots$ & $\\dots$ & $\\dots$ & $\\dots$ & $\\dots$ & $\\dots$ & $\\dots$ & $\\dots$ \\\\\n",
       "\\end{tabular}\n"
      ],
      "text/plain": [
       "\u001b[1m6852038×8 DataFrame\u001b[0m\n",
       "\u001b[1m     Row \u001b[0m│\u001b[1m date       \u001b[0m\u001b[1m volume \u001b[0m\u001b[1m open    \u001b[0m\u001b[1m high    \u001b[0m\u001b[1m low     \u001b[0m\u001b[1m close   \u001b[0m\u001b[1m adjclose  \u001b[0m\u001b[1m symbol \u001b[0m\n",
       "\u001b[1m         \u001b[0m│\u001b[90m Date       \u001b[0m\u001b[90m Int64  \u001b[0m\u001b[90m Float64 \u001b[0m\u001b[90m Float64 \u001b[0m\u001b[90m Float64 \u001b[0m\u001b[90m Float64 \u001b[0m\u001b[90m Float64   \u001b[0m\u001b[90m String \u001b[0m\n",
       "─────────┼───────────────────────────────────────────────────────────────────────────\n",
       "       1 │ 2020-07-02  257500    17.64    17.74    17.62    17.71  17.71      AAAU\n",
       "       2 │ 2020-07-01  468100    17.73    17.73    17.54    17.68  17.68      AAAU\n",
       "       3 │ 2020-06-30  319100    17.65    17.8     17.61    17.78  17.78      AAAU\n",
       "    ⋮    │     ⋮         ⋮        ⋮        ⋮        ⋮        ⋮         ⋮        ⋮\n",
       " 6852036 │ 2015-01-07    8100     0.14     0.15     0.13     0.15   0.146038  ZYXI\n",
       " 6852037 │ 2015-01-05   33200     0.22     0.22     0.14     0.16   0.155774  ZYXI\n",
       " 6852038 │ 2015-01-02     100     0.18     0.18     0.18     0.18   0.175245  ZYXI\n",
       "\u001b[36m                                                                 6852032 rows omitted\u001b[0m"
      ]
     },
     "execution_count": 9,
     "metadata": {},
     "output_type": "execute_result"
    }
   ],
   "source": [
    "fh5 = CSV.read(\"fh_5yrs.csv\", DataFrame)"
   ]
  },
  {
   "cell_type": "markdown",
   "metadata": {},
   "source": [
    "#### Warm up exercises"
   ]
  },
  {
   "cell_type": "markdown",
   "metadata": {},
   "source": [
    "*Get a short description of columns in our data frame*"
   ]
  },
  {
   "cell_type": "code",
   "execution_count": 10,
   "metadata": {},
   "outputs": [
    {
     "data": {
      "text/html": [
       "<table class=\"data-frame\"><thead><tr><th></th><th>variable</th><th>mean</th><th>min</th><th>median</th><th>max</th><th>nmissing</th><th>eltype</th></tr><tr><th></th><th>Symbol</th><th>Union…</th><th>Any</th><th>Union…</th><th>Any</th><th>Int64</th><th>DataType</th></tr></thead><tbody><p>8 rows × 7 columns</p><tr><th>1</th><td>date</td><td></td><td>2015-01-02</td><td></td><td>2020-07-02</td><td>0</td><td>Date</td></tr><tr><th>2</th><td>volume</td><td>1.01541e6</td><td>1</td><td>120600.0</td><td>2156725200</td><td>0</td><td>Int64</td></tr><tr><th>3</th><td>open</td><td>298.086</td><td>0.001</td><td>24.95</td><td>6.91553e7</td><td>0</td><td>Float64</td></tr><tr><th>4</th><td>high</td><td>305.876</td><td>0.0</td><td>25.11</td><td>7.05886e7</td><td>0</td><td>Float64</td></tr><tr><th>5</th><td>low</td><td>291.014</td><td>0.0</td><td>24.75</td><td>6.84387e7</td><td>0</td><td>Float64</td></tr><tr><th>6</th><td>close</td><td>296.783</td><td>0.001</td><td>24.94</td><td>6.95136e7</td><td>0</td><td>Float64</td></tr><tr><th>7</th><td>adjclose</td><td>293.231</td><td>-3.77096</td><td>23.3258</td><td>6.90222e7</td><td>0</td><td>Float64</td></tr><tr><th>8</th><td>symbol</td><td></td><td>AAAU</td><td></td><td>ZYXI</td><td>0</td><td>String</td></tr></tbody></table>"
      ],
      "text/latex": [
       "\\begin{tabular}{r|ccccccc}\n",
       "\t& variable & mean & min & median & max & nmissing & eltype\\\\\n",
       "\t\\hline\n",
       "\t& Symbol & Union… & Any & Union… & Any & Int64 & DataType\\\\\n",
       "\t\\hline\n",
       "\t1 & date &  & 2015-01-02 &  & 2020-07-02 & 0 & Date \\\\\n",
       "\t2 & volume & 1.01541e6 & 1 & 120600.0 & 2156725200 & 0 & Int64 \\\\\n",
       "\t3 & open & 298.086 & 0.001 & 24.95 & 6.91553e7 & 0 & Float64 \\\\\n",
       "\t4 & high & 305.876 & 0.0 & 25.11 & 7.05886e7 & 0 & Float64 \\\\\n",
       "\t5 & low & 291.014 & 0.0 & 24.75 & 6.84387e7 & 0 & Float64 \\\\\n",
       "\t6 & close & 296.783 & 0.001 & 24.94 & 6.95136e7 & 0 & Float64 \\\\\n",
       "\t7 & adjclose & 293.231 & -3.77096 & 23.3258 & 6.90222e7 & 0 & Float64 \\\\\n",
       "\t8 & symbol &  & AAAU &  & ZYXI & 0 & String \\\\\n",
       "\\end{tabular}\n"
      ],
      "text/plain": [
       "\u001b[1m8×7 DataFrame\u001b[0m\n",
       "\u001b[1m Row \u001b[0m│\u001b[1m variable \u001b[0m\u001b[1m mean      \u001b[0m\u001b[1m min        \u001b[0m\u001b[1m median   \u001b[0m\u001b[1m max        \u001b[0m\u001b[1m nmissing \u001b[0m\u001b[1m eltype   \u001b[0m\n",
       "\u001b[1m     \u001b[0m│\u001b[90m Symbol   \u001b[0m\u001b[90m Union…    \u001b[0m\u001b[90m Any        \u001b[0m\u001b[90m Union…   \u001b[0m\u001b[90m Any        \u001b[0m\u001b[90m Int64    \u001b[0m\u001b[90m DataType \u001b[0m\n",
       "─────┼───────────────────────────────────────────────────────────────────────────\n",
       "   1 │ date     \u001b[90m           \u001b[0m 2015-01-02 \u001b[90m          \u001b[0m 2020-07-02         0  Date\n",
       "   2 │ volume    1.01541e6  1           120600.0  2156725200         0  Int64\n",
       "   3 │ open      298.086    0.001       24.95     6.91553e7          0  Float64\n",
       "   4 │ high      305.876    0.0         25.11     7.05886e7          0  Float64\n",
       "   5 │ low       291.014    0.0         24.75     6.84387e7          0  Float64\n",
       "   6 │ close     296.783    0.001       24.94     6.95136e7          0  Float64\n",
       "   7 │ adjclose  293.231    -3.77096    23.3258   6.90222e7          0  Float64\n",
       "   8 │ symbol   \u001b[90m           \u001b[0m AAAU       \u001b[90m          \u001b[0m ZYXI               0  String"
      ]
     },
     "execution_count": 10,
     "metadata": {},
     "output_type": "execute_result"
    }
   ],
   "source": [
    "describe(fh5)"
   ]
  },
  {
   "cell_type": "markdown",
   "metadata": {},
   "source": [
    "(see https://github.com/JuliaData/DataFrames.jl/issues/2269 for a discussion of the design decisions here, feel free to comment there if you have an opinion)"
   ]
  },
  {
   "cell_type": "markdown",
   "metadata": {},
   "source": [
    "*Get information about exact types of the columns stored in the data frame*"
   ]
  },
  {
   "cell_type": "code",
   "execution_count": 11,
   "metadata": {},
   "outputs": [
    {
     "data": {
      "text/plain": [
       "8-element Vector{DataType}:\n",
       " Vector{Date} (alias for Array{Date, 1})\n",
       " Vector{Int64} (alias for Array{Int64, 1})\n",
       " Vector{Float64} (alias for Array{Float64, 1})\n",
       " Vector{Float64} (alias for Array{Float64, 1})\n",
       " Vector{Float64} (alias for Array{Float64, 1})\n",
       " Vector{Float64} (alias for Array{Float64, 1})\n",
       " Vector{Float64} (alias for Array{Float64, 1})\n",
       " PooledArrays.PooledVector{String, UInt32, Vector{UInt32}} (alias for PooledArrays.PooledArray{String, UInt32, 1, Array{UInt32, 1}})"
      ]
     },
     "execution_count": 11,
     "metadata": {},
     "output_type": "execute_result"
    }
   ],
   "source": [
    "typeof.(eachcol(fh5))"
   ]
  },
  {
   "cell_type": "markdown",
   "metadata": {},
   "source": [
    "*Get names of columns as strings*"
   ]
  },
  {
   "cell_type": "code",
   "execution_count": 12,
   "metadata": {},
   "outputs": [
    {
     "data": {
      "text/plain": [
       "8-element Vector{String}:\n",
       " \"date\"\n",
       " \"volume\"\n",
       " \"open\"\n",
       " \"high\"\n",
       " \"low\"\n",
       " \"close\"\n",
       " \"adjclose\"\n",
       " \"symbol\""
      ]
     },
     "execution_count": 12,
     "metadata": {},
     "output_type": "execute_result"
    }
   ],
   "source": [
    "names(fh5)"
   ]
  },
  {
   "cell_type": "markdown",
   "metadata": {},
   "source": [
    "*Get names of columns as `Symbol`s*"
   ]
  },
  {
   "cell_type": "code",
   "execution_count": 13,
   "metadata": {},
   "outputs": [
    {
     "data": {
      "text/plain": [
       "8-element Vector{Symbol}:\n",
       " :date\n",
       " :volume\n",
       " :open\n",
       " :high\n",
       " :low\n",
       " :close\n",
       " :adjclose\n",
       " :symbol"
      ]
     },
     "execution_count": 13,
     "metadata": {},
     "output_type": "execute_result"
    }
   ],
   "source": [
    "propertynames(fh5)"
   ]
  },
  {
   "cell_type": "markdown",
   "metadata": {},
   "source": [
    "## `getindex`"
   ]
  },
  {
   "cell_type": "markdown",
   "metadata": {},
   "source": [
    "Get a single column as a whole without copying"
   ]
  },
  {
   "cell_type": "code",
   "execution_count": 14,
   "metadata": {},
   "outputs": [
    {
     "data": {
      "text/plain": [
       "1-element Vector{Vector{Date}}:\n",
       " [Date(\"2020-07-02\"), Date(\"2020-07-01\"), Date(\"2020-06-30\"), Date(\"2020-06-29\"), Date(\"2020-06-26\"), Date(\"2020-06-25\"), Date(\"2020-06-24\"), Date(\"2020-06-23\"), Date(\"2020-06-22\"), Date(\"2020-06-19\")  …  Date(\"2015-01-21\"), Date(\"2015-01-20\"), Date(\"2015-01-16\"), Date(\"2015-01-14\"), Date(\"2015-01-13\"), Date(\"2015-01-12\"), Date(\"2015-01-09\"), Date(\"2015-01-07\"), Date(\"2015-01-05\"), Date(\"2015-01-02\")]"
      ]
     },
     "execution_count": 14,
     "metadata": {},
     "output_type": "execute_result"
    }
   ],
   "source": [
    "unique([fh5.date,\n",
    "        fh5.\"date\",\n",
    "        fh5[!, 1],\n",
    "        fh5[!, :date],\n",
    "        fh5[!, \"date\"]])"
   ]
  },
  {
   "cell_type": "code",
   "execution_count": 15,
   "metadata": {},
   "outputs": [
    {
     "data": {
      "text/plain": [
       "1-element Vector{Vector{Date}}:\n",
       " [Date(\"2020-07-02\"), Date(\"2020-07-01\"), Date(\"2020-06-30\"), Date(\"2020-06-29\"), Date(\"2020-06-26\"), Date(\"2020-06-25\"), Date(\"2020-06-24\"), Date(\"2020-06-23\"), Date(\"2020-06-22\"), Date(\"2020-06-19\")  …  Date(\"2015-01-21\"), Date(\"2015-01-20\"), Date(\"2015-01-16\"), Date(\"2015-01-14\"), Date(\"2015-01-13\"), Date(\"2015-01-12\"), Date(\"2015-01-09\"), Date(\"2015-01-07\"), Date(\"2015-01-05\"), Date(\"2015-01-02\")]"
      ]
     },
     "execution_count": 15,
     "metadata": {},
     "output_type": "execute_result"
    }
   ],
   "source": [
    "unique([getproperty(fh5, :date),\n",
    "        getproperty(fh5, \"date\"),\n",
    "        getindex(fh5, !, 1),\n",
    "        getindex(fh5, !, :date),\n",
    "        getindex(fh5,!, \"date\")])"
   ]
  },
  {
   "cell_type": "markdown",
   "metadata": {},
   "source": [
    "Get a single column as a whole with copying"
   ]
  },
  {
   "cell_type": "code",
   "execution_count": 16,
   "metadata": {},
   "outputs": [
    {
     "data": {
      "text/plain": [
       "1-element Vector{Vector{Date}}:\n",
       " [Date(\"2020-07-02\"), Date(\"2020-07-01\"), Date(\"2020-06-30\"), Date(\"2020-06-29\"), Date(\"2020-06-26\"), Date(\"2020-06-25\"), Date(\"2020-06-24\"), Date(\"2020-06-23\"), Date(\"2020-06-22\"), Date(\"2020-06-19\")  …  Date(\"2015-01-21\"), Date(\"2015-01-20\"), Date(\"2015-01-16\"), Date(\"2015-01-14\"), Date(\"2015-01-13\"), Date(\"2015-01-12\"), Date(\"2015-01-09\"), Date(\"2015-01-07\"), Date(\"2015-01-05\"), Date(\"2015-01-02\")]"
      ]
     },
     "execution_count": 16,
     "metadata": {},
     "output_type": "execute_result"
    }
   ],
   "source": [
    "unique([copy(fh5.date),\n",
    "        copy(fh5.\"date\"),\n",
    "        fh5[:, 1],\n",
    "        fh5[:, :date],\n",
    "        fh5[:, \"date\"]])"
   ]
  },
  {
   "cell_type": "markdown",
   "metadata": {},
   "source": [
    "Let us compare the performance of various ways to get a column without copying"
   ]
  },
  {
   "cell_type": "code",
   "execution_count": 17,
   "metadata": {},
   "outputs": [
    {
     "name": "stdout",
     "output_type": "stream",
     "text": [
      "  17.048 ns (0 allocations: 0 bytes)\n",
      "  72.929 ns (0 allocations: 0 bytes)\n",
      "  4.635 ns (0 allocations: 0 bytes)\n",
      "  15.473 ns (0 allocations: 0 bytes)\n",
      "  59.548 ns (0 allocations: 0 bytes)\n"
     ]
    }
   ],
   "source": [
    "@btime $fh5.date\n",
    "@btime $fh5.\"date\"\n",
    "@btime $fh5[!, 1]\n",
    "@btime $fh5[!, :date]\n",
    "@btime $fh5[!, \"date\"];"
   ]
  },
  {
   "cell_type": "markdown",
   "metadata": {},
   "source": [
    "`@btime` is from BenchmarkTools.jl package. We use `$` to ensure the time is measured properly.\n",
    "This is a special syntax specific to `@btime` (like `$` used in string interpolation context)."
   ]
  },
  {
   "cell_type": "markdown",
   "metadata": {},
   "source": [
    "#### Exercise"
   ]
  },
  {
   "cell_type": "markdown",
   "metadata": {},
   "source": [
    "Check the same but with copying"
   ]
  },
  {
   "cell_type": "code",
   "execution_count": 18,
   "metadata": {},
   "outputs": [
    {
     "name": "stdout",
     "output_type": "stream",
     "text": [
      "  30.092 ms (2 allocations: 52.28 MiB)\n",
      "  29.528 ms (2 allocations: 52.28 MiB)\n",
      "  29.389 ms (2 allocations: 52.28 MiB)\n",
      "  30.189 ms (2 allocations: 52.28 MiB)\n",
      "  31.128 ms (2 allocations: 52.28 MiB)\n"
     ]
    }
   ],
   "source": [
    "@btime copy($fh5.date)\n",
    "@btime copy($fh5.\"date\")\n",
    "@btime $fh5[:, 1]\n",
    "@btime $fh5[:, :date]\n",
    "@btime $fh5[:, \"date\"];"
   ]
  },
  {
   "cell_type": "markdown",
   "metadata": {},
   "source": [
    "Let us check how lookup speed scales with the number of columns:"
   ]
  },
  {
   "cell_type": "code",
   "execution_count": 19,
   "metadata": {},
   "outputs": [
    {
     "name": "stdout",
     "output_type": "stream",
     "text": [
      "  0.119968 seconds (435.78 k allocations: 33.022 MiB, 20.92% compilation time)\n"
     ]
    },
    {
     "data": {
      "text/html": [
       "<table class=\"data-frame\"><thead><tr><th></th><th>x1</th><th>x2</th><th>x3</th><th>x4</th><th>x5</th><th>x6</th><th>x7</th><th>x8</th><th>x9</th><th>x10</th><th>x11</th><th>x12</th><th>x13</th><th>x14</th><th>x15</th><th>x16</th><th>x17</th><th>x18</th><th>x19</th><th>x20</th><th>x21</th><th>x22</th><th>x23</th><th>x24</th><th>x25</th><th>x26</th><th>x27</th><th>x28</th><th>x29</th><th>x30</th><th>x31</th><th>x32</th><th>x33</th><th>x34</th><th>x35</th><th>x36</th><th>x37</th><th>x38</th><th>x39</th><th>x40</th><th>x41</th><th>x42</th><th>x43</th><th>x44</th><th>x45</th><th>x46</th><th>x47</th><th>x48</th><th>x49</th><th>x50</th><th>x51</th><th>x52</th><th>x53</th><th>x54</th><th>x55</th><th>x56</th></tr><tr><th></th><th>Float64</th><th>Float64</th><th>Float64</th><th>Float64</th><th>Float64</th><th>Float64</th><th>Float64</th><th>Float64</th><th>Float64</th><th>Float64</th><th>Float64</th><th>Float64</th><th>Float64</th><th>Float64</th><th>Float64</th><th>Float64</th><th>Float64</th><th>Float64</th><th>Float64</th><th>Float64</th><th>Float64</th><th>Float64</th><th>Float64</th><th>Float64</th><th>Float64</th><th>Float64</th><th>Float64</th><th>Float64</th><th>Float64</th><th>Float64</th><th>Float64</th><th>Float64</th><th>Float64</th><th>Float64</th><th>Float64</th><th>Float64</th><th>Float64</th><th>Float64</th><th>Float64</th><th>Float64</th><th>Float64</th><th>Float64</th><th>Float64</th><th>Float64</th><th>Float64</th><th>Float64</th><th>Float64</th><th>Float64</th><th>Float64</th><th>Float64</th><th>Float64</th><th>Float64</th><th>Float64</th><th>Float64</th><th>Float64</th><th>Float64</th></tr></thead><tbody><p>1 rows × 100,000 columns (omitted printing of 99944 columns)</p><tr><th>1</th><td>1.0</td><td>1.0</td><td>1.0</td><td>1.0</td><td>1.0</td><td>1.0</td><td>1.0</td><td>1.0</td><td>1.0</td><td>1.0</td><td>1.0</td><td>1.0</td><td>1.0</td><td>1.0</td><td>1.0</td><td>1.0</td><td>1.0</td><td>1.0</td><td>1.0</td><td>1.0</td><td>1.0</td><td>1.0</td><td>1.0</td><td>1.0</td><td>1.0</td><td>1.0</td><td>1.0</td><td>1.0</td><td>1.0</td><td>1.0</td><td>1.0</td><td>1.0</td><td>1.0</td><td>1.0</td><td>1.0</td><td>1.0</td><td>1.0</td><td>1.0</td><td>1.0</td><td>1.0</td><td>1.0</td><td>1.0</td><td>1.0</td><td>1.0</td><td>1.0</td><td>1.0</td><td>1.0</td><td>1.0</td><td>1.0</td><td>1.0</td><td>1.0</td><td>1.0</td><td>1.0</td><td>1.0</td><td>1.0</td><td>1.0</td></tr></tbody></table>"
      ],
      "text/latex": [
       "\\begin{tabular}{r|ccccccccccccccccccccccccccccccccccccccccccccccccccccccccc}\n",
       "\t& x1 & x2 & x3 & x4 & x5 & x6 & x7 & x8 & x9 & x10 & x11 & x12 & x13 & x14 & x15 & x16 & x17 & x18 & x19 & x20 & x21 & x22 & x23 & x24 & x25 & x26 & x27 & x28 & x29 & x30 & x31 & x32 & x33 & x34 & x35 & x36 & x37 & x38 & x39 & x40 & x41 & x42 & x43 & x44 & x45 & x46 & x47 & x48 & x49 & x50 & x51 & x52 & x53 & x54 & x55 & x56 & \\\\\n",
       "\t\\hline\n",
       "\t& Float64 & Float64 & Float64 & Float64 & Float64 & Float64 & Float64 & Float64 & Float64 & Float64 & Float64 & Float64 & Float64 & Float64 & Float64 & Float64 & Float64 & Float64 & Float64 & Float64 & Float64 & Float64 & Float64 & Float64 & Float64 & Float64 & Float64 & Float64 & Float64 & Float64 & Float64 & Float64 & Float64 & Float64 & Float64 & Float64 & Float64 & Float64 & Float64 & Float64 & Float64 & Float64 & Float64 & Float64 & Float64 & Float64 & Float64 & Float64 & Float64 & Float64 & Float64 & Float64 & Float64 & Float64 & Float64 & Float64 & \\\\\n",
       "\t\\hline\n",
       "\t1 & 1.0 & 1.0 & 1.0 & 1.0 & 1.0 & 1.0 & 1.0 & 1.0 & 1.0 & 1.0 & 1.0 & 1.0 & 1.0 & 1.0 & 1.0 & 1.0 & 1.0 & 1.0 & 1.0 & 1.0 & 1.0 & 1.0 & 1.0 & 1.0 & 1.0 & 1.0 & 1.0 & 1.0 & 1.0 & 1.0 & 1.0 & 1.0 & 1.0 & 1.0 & 1.0 & 1.0 & 1.0 & 1.0 & 1.0 & 1.0 & 1.0 & 1.0 & 1.0 & 1.0 & 1.0 & 1.0 & 1.0 & 1.0 & 1.0 & 1.0 & 1.0 & 1.0 & 1.0 & 1.0 & 1.0 & 1.0 & $\\dots$ \\\\\n",
       "\\end{tabular}\n"
      ],
      "text/plain": [
       "\u001b[1m1×100000 DataFrame\u001b[0m\n",
       "\u001b[1m Row \u001b[0m│\u001b[1m x1      \u001b[0m\u001b[1m x2      \u001b[0m\u001b[1m x3      \u001b[0m\u001b[1m x4      \u001b[0m\u001b[1m x5      \u001b[0m\u001b[1m x6      \u001b[0m\u001b[1m x7      \u001b[0m\u001b[1m x8      \u001b[0m\u001b[1m x9      \u001b[0m\u001b[1m x10     \u001b[0m\u001b[1m x11     \u001b[0m\u001b[1m x12     \u001b[0m\u001b[1m x13     \u001b[0m\u001b[1m x14     \u001b[0m\u001b[1m x15     \u001b[0m\u001b[1m x16     \u001b[0m\u001b[1m x17     \u001b[0m\u001b[1m x18     \u001b[0m\u001b[1m x19     \u001b[0m\u001b[1m x20     \u001b[0m\u001b[1m x21     \u001b[0m\u001b[1m x22     \u001b[0m\u001b[1m x23     \u001b[0m\u001b[1m x24     \u001b[0m\u001b[1m x25     \u001b[0m\u001b[1m x26     \u001b[0m\u001b[1m x27     \u001b[0m\u001b[1m x28     \u001b[0m\u001b[1m x29     \u001b[0m\u001b[1m x30     \u001b[0m\u001b[1m x31     \u001b[0m\u001b[1m x32     \u001b[0m\u001b[1m x33     \u001b[0m\u001b[1m x34     \u001b[0m\u001b[1m x35     \u001b[0m\u001b[1m x36     \u001b[0m\u001b[1m x37     \u001b[0m\u001b[1m x38     \u001b[0m\u001b[1m x39     \u001b[0m\u001b[1m x40     \u001b[0m\u001b[1m x41     \u001b[0m\u001b[1m x42     \u001b[0m\u001b[1m x43     \u001b[0m\u001b[1m x44     \u001b[0m\u001b[1m x45     \u001b[0m\u001b[1m x46     \u001b[0m\u001b[1m x47     \u001b[0m\u001b[1m x48     \u001b[0m\u001b[1m x49     \u001b[0m\u001b[1m x50     \u001b[0m\u001b[1m x51     \u001b[0m\u001b[1m x52     \u001b[0m\u001b[1m x53     \u001b[0m\u001b[1m x54     \u001b[0m\u001b[1m x55  \u001b[0m ⋯\n",
       "\u001b[1m     \u001b[0m│\u001b[90m Float64 \u001b[0m\u001b[90m Float64 \u001b[0m\u001b[90m Float64 \u001b[0m\u001b[90m Float64 \u001b[0m\u001b[90m Float64 \u001b[0m\u001b[90m Float64 \u001b[0m\u001b[90m Float64 \u001b[0m\u001b[90m Float64 \u001b[0m\u001b[90m Float64 \u001b[0m\u001b[90m Float64 \u001b[0m\u001b[90m Float64 \u001b[0m\u001b[90m Float64 \u001b[0m\u001b[90m Float64 \u001b[0m\u001b[90m Float64 \u001b[0m\u001b[90m Float64 \u001b[0m\u001b[90m Float64 \u001b[0m\u001b[90m Float64 \u001b[0m\u001b[90m Float64 \u001b[0m\u001b[90m Float64 \u001b[0m\u001b[90m Float64 \u001b[0m\u001b[90m Float64 \u001b[0m\u001b[90m Float64 \u001b[0m\u001b[90m Float64 \u001b[0m\u001b[90m Float64 \u001b[0m\u001b[90m Float64 \u001b[0m\u001b[90m Float64 \u001b[0m\u001b[90m Float64 \u001b[0m\u001b[90m Float64 \u001b[0m\u001b[90m Float64 \u001b[0m\u001b[90m Float64 \u001b[0m\u001b[90m Float64 \u001b[0m\u001b[90m Float64 \u001b[0m\u001b[90m Float64 \u001b[0m\u001b[90m Float64 \u001b[0m\u001b[90m Float64 \u001b[0m\u001b[90m Float64 \u001b[0m\u001b[90m Float64 \u001b[0m\u001b[90m Float64 \u001b[0m\u001b[90m Float64 \u001b[0m\u001b[90m Float64 \u001b[0m\u001b[90m Float64 \u001b[0m\u001b[90m Float64 \u001b[0m\u001b[90m Float64 \u001b[0m\u001b[90m Float64 \u001b[0m\u001b[90m Float64 \u001b[0m\u001b[90m Float64 \u001b[0m\u001b[90m Float64 \u001b[0m\u001b[90m Float64 \u001b[0m\u001b[90m Float64 \u001b[0m\u001b[90m Float64 \u001b[0m\u001b[90m Float64 \u001b[0m\u001b[90m Float64 \u001b[0m\u001b[90m Float64 \u001b[0m\u001b[90m Float64 \u001b[0m\u001b[90m Float\u001b[0m ⋯\n",
       "─────┼──────────────────────────────────────────────────────────────────────────────────────────────────────────────────────────────────────────────────────────────────────────────────────────────────────────────────────────────────────────────────────────────────────────────────────────────────────────────────────────────────────────────────────────────────────────────────────────────────────────────────────────────────────────────────────────────────────────────────────────────────────────────\n",
       "   1 │     1.0      1.0      1.0      1.0      1.0      1.0      1.0      1.0      1.0      1.0      1.0      1.0      1.0      1.0      1.0      1.0      1.0      1.0      1.0      1.0      1.0      1.0      1.0      1.0      1.0      1.0      1.0      1.0      1.0      1.0      1.0      1.0      1.0      1.0      1.0      1.0      1.0      1.0      1.0      1.0      1.0      1.0      1.0      1.0      1.0      1.0      1.0      1.0      1.0      1.0      1.0      1.0      1.0      1.0      1 ⋯\n",
       "\u001b[36m                                                                                                                                                                                                                                                                                                                                                                                                                                                                                               99946 columns omitted\u001b[0m"
      ]
     },
     "execution_count": 19,
     "metadata": {},
     "output_type": "execute_result"
    }
   ],
   "source": [
    "@time df_tmp = DataFrame(ones(1, 100_000), :auto)"
   ]
  },
  {
   "cell_type": "code",
   "execution_count": 20,
   "metadata": {},
   "outputs": [
    {
     "name": "stdout",
     "output_type": "stream",
     "text": [
      "  17.429 ns (0 allocations: 0 bytes)\n",
      "  87.443 ns (0 allocations: 0 bytes)\n",
      "  5.027 ns (0 allocations: 0 bytes)\n"
     ]
    }
   ],
   "source": [
    "@btime $df_tmp.x100000\n",
    "@btime $df_tmp.\"x100000\"\n",
    "@btime $df_tmp[!, 100000];"
   ]
  },
  {
   "cell_type": "markdown",
   "metadata": {},
   "source": [
    "<div class=\"alert alert-block alert-info\">\n",
    "<b>Tip:</b>\n",
    "    \n",
    "DataFrames.jl is specifically designed to allow you to handle without huge compilation costs\n",
    "very wide data frames with heterogeneous column types and changing the schema of the data frame in-place.\n",
    "(or if you do not want to think if you will not run into these issues)\n",
    "</div>"
   ]
  },
  {
   "cell_type": "markdown",
   "metadata": {},
   "source": [
    "Get a single column, but take a subset of rows: you can either make a copy or get a view"
   ]
  },
  {
   "cell_type": "code",
   "execution_count": 21,
   "metadata": {},
   "outputs": [
    {
     "data": {
      "text/plain": [
       "2-element Vector{Date}:\n",
       " 2020-07-02\n",
       " 2020-07-01"
      ]
     },
     "execution_count": 21,
     "metadata": {},
     "output_type": "execute_result"
    }
   ],
   "source": [
    "fh5[1:2, :date]"
   ]
  },
  {
   "cell_type": "code",
   "execution_count": 22,
   "metadata": {},
   "outputs": [
    {
     "data": {
      "text/plain": [
       "2-element view(::Vector{Date}, 1:2) with eltype Date:\n",
       " 2020-07-02\n",
       " 2020-07-01"
      ]
     },
     "execution_count": 22,
     "metadata": {},
     "output_type": "execute_result"
    }
   ],
   "source": [
    "view(fh5, 1:2, :date)"
   ]
  },
  {
   "cell_type": "markdown",
   "metadata": {},
   "source": [
    "this is the same as e.g.:"
   ]
  },
  {
   "cell_type": "code",
   "execution_count": 23,
   "metadata": {},
   "outputs": [
    {
     "data": {
      "text/plain": [
       "2-element Vector{Date}:\n",
       " 2020-07-02\n",
       " 2020-07-01"
      ]
     },
     "execution_count": 23,
     "metadata": {},
     "output_type": "execute_result"
    }
   ],
   "source": [
    "fh5.date[1:2]"
   ]
  },
  {
   "cell_type": "code",
   "execution_count": 24,
   "metadata": {},
   "outputs": [
    {
     "data": {
      "text/plain": [
       "2-element view(::Vector{Date}, 1:2) with eltype Date:\n",
       " 2020-07-02\n",
       " 2020-07-01"
      ]
     },
     "execution_count": 24,
     "metadata": {},
     "output_type": "execute_result"
    }
   ],
   "source": [
    "@view fh5.date[1:2]"
   ]
  },
  {
   "cell_type": "markdown",
   "metadata": {},
   "source": [
    "you can use `Not` for inverted selection of rows"
   ]
  },
  {
   "cell_type": "code",
   "execution_count": 25,
   "metadata": {},
   "outputs": [
    {
     "data": {
      "text/plain": [
       "2-element Vector{Date}:\n",
       " 2020-07-02\n",
       " 2020-07-01"
      ]
     },
     "execution_count": 25,
     "metadata": {},
     "output_type": "execute_result"
    }
   ],
   "source": [
    "fh5[Not(3:end), :date]"
   ]
  },
  {
   "cell_type": "markdown",
   "metadata": {},
   "source": [
    "Get a single cell in a data frame: you can either get a value or a view"
   ]
  },
  {
   "cell_type": "code",
   "execution_count": 26,
   "metadata": {},
   "outputs": [
    {
     "data": {
      "text/plain": [
       "2020-07-02"
      ]
     },
     "execution_count": 26,
     "metadata": {},
     "output_type": "execute_result"
    }
   ],
   "source": [
    "fh5[1, :date]"
   ]
  },
  {
   "cell_type": "code",
   "execution_count": 27,
   "metadata": {},
   "outputs": [
    {
     "data": {
      "text/plain": [
       "2020-07-02"
      ]
     },
     "execution_count": 27,
     "metadata": {},
     "output_type": "execute_result"
    }
   ],
   "source": [
    "fh5[CartesianIndex(1, 1)]"
   ]
  },
  {
   "cell_type": "code",
   "execution_count": 28,
   "metadata": {},
   "outputs": [
    {
     "data": {
      "text/plain": [
       "0-dimensional view(::Vector{Date}, 1) with eltype Date:\n",
       "Date(\"2020-07-02\")"
      ]
     },
     "execution_count": 28,
     "metadata": {},
     "output_type": "execute_result"
    }
   ],
   "source": [
    "@view fh5[1, \"date\"]"
   ]
  },
  {
   "cell_type": "markdown",
   "metadata": {},
   "source": [
    "In what case you might want to use a view instead of getting a value?"
   ]
  },
  {
   "cell_type": "markdown",
   "metadata": {},
   "source": [
    "Check what is the consequence of running the following lines:"
   ]
  },
  {
   "cell_type": "code",
   "execution_count": 29,
   "metadata": {},
   "outputs": [
    {
     "data": {
      "text/plain": [
       "0-dimensional view(::Vector{Date}, 1) with eltype Date:\n",
       "Date(\"2020-07-02\")"
      ]
     },
     "execution_count": 29,
     "metadata": {},
     "output_type": "execute_result"
    }
   ],
   "source": [
    "tmp_cell = view(fh5, 1, :date)"
   ]
  },
  {
   "cell_type": "code",
   "execution_count": 30,
   "metadata": {},
   "outputs": [
    {
     "data": {
      "text/plain": [
       "2020-07-02"
      ]
     },
     "execution_count": 30,
     "metadata": {},
     "output_type": "execute_result"
    }
   ],
   "source": [
    "tmp_cell2 = getindex(fh5, 1, :date)"
   ]
  },
  {
   "cell_type": "code",
   "execution_count": 31,
   "metadata": {},
   "outputs": [
    {
     "data": {
      "text/plain": [
       "2222-07-02"
      ]
     },
     "execution_count": 31,
     "metadata": {},
     "output_type": "execute_result"
    }
   ],
   "source": [
    "tmp_cell[] = Date(\"2222-07-02\")"
   ]
  },
  {
   "cell_type": "code",
   "execution_count": 32,
   "metadata": {},
   "outputs": [
    {
     "data": {
      "text/html": [
       "<table class=\"data-frame\"><thead><tr><th></th><th>date</th><th>volume</th><th>open</th><th>high</th><th>low</th><th>close</th><th>adjclose</th><th>symbol</th></tr><tr><th></th><th>Date</th><th>Int64</th><th>Float64</th><th>Float64</th><th>Float64</th><th>Float64</th><th>Float64</th><th>String</th></tr></thead><tbody><p>6,852,038 rows × 8 columns</p><tr><th>1</th><td>2222-07-02</td><td>257500</td><td>17.64</td><td>17.74</td><td>17.62</td><td>17.71</td><td>17.71</td><td>AAAU</td></tr><tr><th>2</th><td>2020-07-01</td><td>468100</td><td>17.73</td><td>17.73</td><td>17.54</td><td>17.68</td><td>17.68</td><td>AAAU</td></tr><tr><th>3</th><td>2020-06-30</td><td>319100</td><td>17.65</td><td>17.8</td><td>17.61</td><td>17.78</td><td>17.78</td><td>AAAU</td></tr><tr><th>4</th><td>2020-06-29</td><td>405500</td><td>17.67</td><td>17.69</td><td>17.63</td><td>17.68</td><td>17.68</td><td>AAAU</td></tr><tr><th>5</th><td>2020-06-26</td><td>335100</td><td>17.49</td><td>17.67</td><td>17.42</td><td>17.67</td><td>17.67</td><td>AAAU</td></tr><tr><th>6</th><td>2020-06-25</td><td>246800</td><td>17.6</td><td>17.6</td><td>17.52</td><td>17.59</td><td>17.59</td><td>AAAU</td></tr><tr><th>7</th><td>2020-06-24</td><td>329200</td><td>17.61</td><td>17.71</td><td>17.56</td><td>17.61</td><td>17.61</td><td>AAAU</td></tr><tr><th>8</th><td>2020-06-23</td><td>351800</td><td>17.55</td><td>17.66</td><td>17.55</td><td>17.66</td><td>17.66</td><td>AAAU</td></tr><tr><th>9</th><td>2020-06-22</td><td>308300</td><td>17.5</td><td>17.57</td><td>17.44</td><td>17.5</td><td>17.5</td><td>AAAU</td></tr><tr><th>10</th><td>2020-06-19</td><td>153800</td><td>17.27</td><td>17.4</td><td>17.26</td><td>17.4</td><td>17.4</td><td>AAAU</td></tr><tr><th>11</th><td>2020-06-18</td><td>102200</td><td>17.27</td><td>17.27</td><td>17.14</td><td>17.23</td><td>17.23</td><td>AAAU</td></tr><tr><th>12</th><td>2020-06-17</td><td>153900</td><td>17.19</td><td>17.25</td><td>17.16</td><td>17.25</td><td>17.25</td><td>AAAU</td></tr><tr><th>13</th><td>2020-06-16</td><td>165800</td><td>17.15</td><td>17.25</td><td>17.11</td><td>17.21</td><td>17.21</td><td>AAAU</td></tr><tr><th>14</th><td>2020-06-15</td><td>308700</td><td>17.03</td><td>17.23</td><td>17.0</td><td>17.2</td><td>17.2</td><td>AAAU</td></tr><tr><th>15</th><td>2020-06-12</td><td>161400</td><td>17.34</td><td>17.37</td><td>17.25</td><td>17.27</td><td>17.27</td><td>AAAU</td></tr><tr><th>&vellip;</th><td>&vellip;</td><td>&vellip;</td><td>&vellip;</td><td>&vellip;</td><td>&vellip;</td><td>&vellip;</td><td>&vellip;</td><td>&vellip;</td></tr></tbody></table>"
      ],
      "text/latex": [
       "\\begin{tabular}{r|cccccccc}\n",
       "\t& date & volume & open & high & low & close & adjclose & symbol\\\\\n",
       "\t\\hline\n",
       "\t& Date & Int64 & Float64 & Float64 & Float64 & Float64 & Float64 & String\\\\\n",
       "\t\\hline\n",
       "\t1 & 2222-07-02 & 257500 & 17.64 & 17.74 & 17.62 & 17.71 & 17.71 & AAAU \\\\\n",
       "\t2 & 2020-07-01 & 468100 & 17.73 & 17.73 & 17.54 & 17.68 & 17.68 & AAAU \\\\\n",
       "\t3 & 2020-06-30 & 319100 & 17.65 & 17.8 & 17.61 & 17.78 & 17.78 & AAAU \\\\\n",
       "\t4 & 2020-06-29 & 405500 & 17.67 & 17.69 & 17.63 & 17.68 & 17.68 & AAAU \\\\\n",
       "\t5 & 2020-06-26 & 335100 & 17.49 & 17.67 & 17.42 & 17.67 & 17.67 & AAAU \\\\\n",
       "\t6 & 2020-06-25 & 246800 & 17.6 & 17.6 & 17.52 & 17.59 & 17.59 & AAAU \\\\\n",
       "\t7 & 2020-06-24 & 329200 & 17.61 & 17.71 & 17.56 & 17.61 & 17.61 & AAAU \\\\\n",
       "\t8 & 2020-06-23 & 351800 & 17.55 & 17.66 & 17.55 & 17.66 & 17.66 & AAAU \\\\\n",
       "\t9 & 2020-06-22 & 308300 & 17.5 & 17.57 & 17.44 & 17.5 & 17.5 & AAAU \\\\\n",
       "\t10 & 2020-06-19 & 153800 & 17.27 & 17.4 & 17.26 & 17.4 & 17.4 & AAAU \\\\\n",
       "\t11 & 2020-06-18 & 102200 & 17.27 & 17.27 & 17.14 & 17.23 & 17.23 & AAAU \\\\\n",
       "\t12 & 2020-06-17 & 153900 & 17.19 & 17.25 & 17.16 & 17.25 & 17.25 & AAAU \\\\\n",
       "\t13 & 2020-06-16 & 165800 & 17.15 & 17.25 & 17.11 & 17.21 & 17.21 & AAAU \\\\\n",
       "\t14 & 2020-06-15 & 308700 & 17.03 & 17.23 & 17.0 & 17.2 & 17.2 & AAAU \\\\\n",
       "\t15 & 2020-06-12 & 161400 & 17.34 & 17.37 & 17.25 & 17.27 & 17.27 & AAAU \\\\\n",
       "\t$\\dots$ & $\\dots$ & $\\dots$ & $\\dots$ & $\\dots$ & $\\dots$ & $\\dots$ & $\\dots$ & $\\dots$ \\\\\n",
       "\\end{tabular}\n"
      ],
      "text/plain": [
       "\u001b[1m6852038×8 DataFrame\u001b[0m\n",
       "\u001b[1m     Row \u001b[0m│\u001b[1m date       \u001b[0m\u001b[1m volume \u001b[0m\u001b[1m open    \u001b[0m\u001b[1m high    \u001b[0m\u001b[1m low     \u001b[0m\u001b[1m close   \u001b[0m\u001b[1m adjclose  \u001b[0m\u001b[1m symbol \u001b[0m\n",
       "\u001b[1m         \u001b[0m│\u001b[90m Date       \u001b[0m\u001b[90m Int64  \u001b[0m\u001b[90m Float64 \u001b[0m\u001b[90m Float64 \u001b[0m\u001b[90m Float64 \u001b[0m\u001b[90m Float64 \u001b[0m\u001b[90m Float64   \u001b[0m\u001b[90m String \u001b[0m\n",
       "─────────┼───────────────────────────────────────────────────────────────────────────\n",
       "       1 │ 2222-07-02  257500    17.64    17.74    17.62    17.71  17.71      AAAU\n",
       "       2 │ 2020-07-01  468100    17.73    17.73    17.54    17.68  17.68      AAAU\n",
       "       3 │ 2020-06-30  319100    17.65    17.8     17.61    17.78  17.78      AAAU\n",
       "    ⋮    │     ⋮         ⋮        ⋮        ⋮        ⋮        ⋮         ⋮        ⋮\n",
       " 6852036 │ 2015-01-07    8100     0.14     0.15     0.13     0.15   0.146038  ZYXI\n",
       " 6852037 │ 2015-01-05   33200     0.22     0.22     0.14     0.16   0.155774  ZYXI\n",
       " 6852038 │ 2015-01-02     100     0.18     0.18     0.18     0.18   0.175245  ZYXI\n",
       "\u001b[36m                                                                 6852032 rows omitted\u001b[0m"
      ]
     },
     "execution_count": 32,
     "metadata": {},
     "output_type": "execute_result"
    }
   ],
   "source": [
    "fh5"
   ]
  },
  {
   "cell_type": "markdown",
   "metadata": {},
   "source": [
    "Revert the change we have just made"
   ]
  },
  {
   "cell_type": "code",
   "execution_count": 33,
   "metadata": {},
   "outputs": [
    {
     "data": {
      "text/plain": [
       "2020-07-02"
      ]
     },
     "execution_count": 33,
     "metadata": {},
     "output_type": "execute_result"
    }
   ],
   "source": [
    "tmp_cell[] = tmp_cell2"
   ]
  },
  {
   "cell_type": "code",
   "execution_count": 34,
   "metadata": {},
   "outputs": [
    {
     "data": {
      "text/html": [
       "<table class=\"data-frame\"><thead><tr><th></th><th>date</th><th>volume</th><th>open</th><th>high</th><th>low</th><th>close</th><th>adjclose</th><th>symbol</th></tr><tr><th></th><th>Date</th><th>Int64</th><th>Float64</th><th>Float64</th><th>Float64</th><th>Float64</th><th>Float64</th><th>String</th></tr></thead><tbody><p>6,852,038 rows × 8 columns</p><tr><th>1</th><td>2020-07-02</td><td>257500</td><td>17.64</td><td>17.74</td><td>17.62</td><td>17.71</td><td>17.71</td><td>AAAU</td></tr><tr><th>2</th><td>2020-07-01</td><td>468100</td><td>17.73</td><td>17.73</td><td>17.54</td><td>17.68</td><td>17.68</td><td>AAAU</td></tr><tr><th>3</th><td>2020-06-30</td><td>319100</td><td>17.65</td><td>17.8</td><td>17.61</td><td>17.78</td><td>17.78</td><td>AAAU</td></tr><tr><th>4</th><td>2020-06-29</td><td>405500</td><td>17.67</td><td>17.69</td><td>17.63</td><td>17.68</td><td>17.68</td><td>AAAU</td></tr><tr><th>5</th><td>2020-06-26</td><td>335100</td><td>17.49</td><td>17.67</td><td>17.42</td><td>17.67</td><td>17.67</td><td>AAAU</td></tr><tr><th>6</th><td>2020-06-25</td><td>246800</td><td>17.6</td><td>17.6</td><td>17.52</td><td>17.59</td><td>17.59</td><td>AAAU</td></tr><tr><th>7</th><td>2020-06-24</td><td>329200</td><td>17.61</td><td>17.71</td><td>17.56</td><td>17.61</td><td>17.61</td><td>AAAU</td></tr><tr><th>8</th><td>2020-06-23</td><td>351800</td><td>17.55</td><td>17.66</td><td>17.55</td><td>17.66</td><td>17.66</td><td>AAAU</td></tr><tr><th>9</th><td>2020-06-22</td><td>308300</td><td>17.5</td><td>17.57</td><td>17.44</td><td>17.5</td><td>17.5</td><td>AAAU</td></tr><tr><th>10</th><td>2020-06-19</td><td>153800</td><td>17.27</td><td>17.4</td><td>17.26</td><td>17.4</td><td>17.4</td><td>AAAU</td></tr><tr><th>11</th><td>2020-06-18</td><td>102200</td><td>17.27</td><td>17.27</td><td>17.14</td><td>17.23</td><td>17.23</td><td>AAAU</td></tr><tr><th>12</th><td>2020-06-17</td><td>153900</td><td>17.19</td><td>17.25</td><td>17.16</td><td>17.25</td><td>17.25</td><td>AAAU</td></tr><tr><th>13</th><td>2020-06-16</td><td>165800</td><td>17.15</td><td>17.25</td><td>17.11</td><td>17.21</td><td>17.21</td><td>AAAU</td></tr><tr><th>14</th><td>2020-06-15</td><td>308700</td><td>17.03</td><td>17.23</td><td>17.0</td><td>17.2</td><td>17.2</td><td>AAAU</td></tr><tr><th>15</th><td>2020-06-12</td><td>161400</td><td>17.34</td><td>17.37</td><td>17.25</td><td>17.27</td><td>17.27</td><td>AAAU</td></tr><tr><th>&vellip;</th><td>&vellip;</td><td>&vellip;</td><td>&vellip;</td><td>&vellip;</td><td>&vellip;</td><td>&vellip;</td><td>&vellip;</td><td>&vellip;</td></tr></tbody></table>"
      ],
      "text/latex": [
       "\\begin{tabular}{r|cccccccc}\n",
       "\t& date & volume & open & high & low & close & adjclose & symbol\\\\\n",
       "\t\\hline\n",
       "\t& Date & Int64 & Float64 & Float64 & Float64 & Float64 & Float64 & String\\\\\n",
       "\t\\hline\n",
       "\t1 & 2020-07-02 & 257500 & 17.64 & 17.74 & 17.62 & 17.71 & 17.71 & AAAU \\\\\n",
       "\t2 & 2020-07-01 & 468100 & 17.73 & 17.73 & 17.54 & 17.68 & 17.68 & AAAU \\\\\n",
       "\t3 & 2020-06-30 & 319100 & 17.65 & 17.8 & 17.61 & 17.78 & 17.78 & AAAU \\\\\n",
       "\t4 & 2020-06-29 & 405500 & 17.67 & 17.69 & 17.63 & 17.68 & 17.68 & AAAU \\\\\n",
       "\t5 & 2020-06-26 & 335100 & 17.49 & 17.67 & 17.42 & 17.67 & 17.67 & AAAU \\\\\n",
       "\t6 & 2020-06-25 & 246800 & 17.6 & 17.6 & 17.52 & 17.59 & 17.59 & AAAU \\\\\n",
       "\t7 & 2020-06-24 & 329200 & 17.61 & 17.71 & 17.56 & 17.61 & 17.61 & AAAU \\\\\n",
       "\t8 & 2020-06-23 & 351800 & 17.55 & 17.66 & 17.55 & 17.66 & 17.66 & AAAU \\\\\n",
       "\t9 & 2020-06-22 & 308300 & 17.5 & 17.57 & 17.44 & 17.5 & 17.5 & AAAU \\\\\n",
       "\t10 & 2020-06-19 & 153800 & 17.27 & 17.4 & 17.26 & 17.4 & 17.4 & AAAU \\\\\n",
       "\t11 & 2020-06-18 & 102200 & 17.27 & 17.27 & 17.14 & 17.23 & 17.23 & AAAU \\\\\n",
       "\t12 & 2020-06-17 & 153900 & 17.19 & 17.25 & 17.16 & 17.25 & 17.25 & AAAU \\\\\n",
       "\t13 & 2020-06-16 & 165800 & 17.15 & 17.25 & 17.11 & 17.21 & 17.21 & AAAU \\\\\n",
       "\t14 & 2020-06-15 & 308700 & 17.03 & 17.23 & 17.0 & 17.2 & 17.2 & AAAU \\\\\n",
       "\t15 & 2020-06-12 & 161400 & 17.34 & 17.37 & 17.25 & 17.27 & 17.27 & AAAU \\\\\n",
       "\t$\\dots$ & $\\dots$ & $\\dots$ & $\\dots$ & $\\dots$ & $\\dots$ & $\\dots$ & $\\dots$ & $\\dots$ \\\\\n",
       "\\end{tabular}\n"
      ],
      "text/plain": [
       "\u001b[1m6852038×8 DataFrame\u001b[0m\n",
       "\u001b[1m     Row \u001b[0m│\u001b[1m date       \u001b[0m\u001b[1m volume \u001b[0m\u001b[1m open    \u001b[0m\u001b[1m high    \u001b[0m\u001b[1m low     \u001b[0m\u001b[1m close   \u001b[0m\u001b[1m adjclose  \u001b[0m\u001b[1m symbol \u001b[0m\n",
       "\u001b[1m         \u001b[0m│\u001b[90m Date       \u001b[0m\u001b[90m Int64  \u001b[0m\u001b[90m Float64 \u001b[0m\u001b[90m Float64 \u001b[0m\u001b[90m Float64 \u001b[0m\u001b[90m Float64 \u001b[0m\u001b[90m Float64   \u001b[0m\u001b[90m String \u001b[0m\n",
       "─────────┼───────────────────────────────────────────────────────────────────────────\n",
       "       1 │ 2020-07-02  257500    17.64    17.74    17.62    17.71  17.71      AAAU\n",
       "       2 │ 2020-07-01  468100    17.73    17.73    17.54    17.68  17.68      AAAU\n",
       "       3 │ 2020-06-30  319100    17.65    17.8     17.61    17.78  17.78      AAAU\n",
       "    ⋮    │     ⋮         ⋮        ⋮        ⋮        ⋮        ⋮         ⋮        ⋮\n",
       " 6852036 │ 2015-01-07    8100     0.14     0.15     0.13     0.15   0.146038  ZYXI\n",
       " 6852037 │ 2015-01-05   33200     0.22     0.22     0.14     0.16   0.155774  ZYXI\n",
       " 6852038 │ 2015-01-02     100     0.18     0.18     0.18     0.18   0.175245  ZYXI\n",
       "\u001b[36m                                                                 6852032 rows omitted\u001b[0m"
      ]
     },
     "execution_count": 34,
     "metadata": {},
     "output_type": "execute_result"
    }
   ],
   "source": [
    "fh5"
   ]
  },
  {
   "cell_type": "markdown",
   "metadata": {},
   "source": [
    "To conclude note that with `view` there is no difference between `!` and `:`:"
   ]
  },
  {
   "cell_type": "code",
   "execution_count": 35,
   "metadata": {},
   "outputs": [
    {
     "data": {
      "text/plain": [
       "6852038-element view(::Vector{Date}, :) with eltype Date:\n",
       " 2020-07-02\n",
       " 2020-07-01\n",
       " 2020-06-30\n",
       " 2020-06-29\n",
       " 2020-06-26\n",
       " ⋮\n",
       " 2015-01-12\n",
       " 2015-01-09\n",
       " 2015-01-07\n",
       " 2015-01-05\n",
       " 2015-01-02"
      ]
     },
     "execution_count": 35,
     "metadata": {},
     "output_type": "execute_result"
    }
   ],
   "source": [
    "@view fh5[!, 1]"
   ]
  },
  {
   "cell_type": "code",
   "execution_count": 36,
   "metadata": {},
   "outputs": [
    {
     "data": {
      "text/plain": [
       "6852038-element view(::Vector{Date}, :) with eltype Date:\n",
       " 2020-07-02\n",
       " 2020-07-01\n",
       " 2020-06-30\n",
       " 2020-06-29\n",
       " 2020-06-26\n",
       " ⋮\n",
       " 2015-01-12\n",
       " 2015-01-09\n",
       " 2015-01-07\n",
       " 2015-01-05\n",
       " 2015-01-02"
      ]
     },
     "execution_count": 36,
     "metadata": {},
     "output_type": "execute_result"
    }
   ],
   "source": [
    "@view fh5[:, 1]"
   ]
  },
  {
   "cell_type": "markdown",
   "metadata": {},
   "source": [
    "#### Exercise"
   ]
  },
  {
   "cell_type": "markdown",
   "metadata": {},
   "source": [
    "Why is it useful to support `@view` both for `!` and `:`?"
   ]
  },
  {
   "cell_type": "markdown",
   "metadata": {},
   "source": [
    "*Answer: because it makes it easy to use @views on whole expressions*"
   ]
  },
  {
   "cell_type": "markdown",
   "metadata": {},
   "source": [
    "<div class=\"alert alert-block alert-info\">\n",
    "<b>Tip:</b>\n",
    "    \n",
    "passing a single column as an integer, `Symbol` or string drops one dimension of\n",
    "a data frame and allows you to select or subset a column from it (depending on the row selector you choose)\n",
    "</div>"
   ]
  },
  {
   "cell_type": "markdown",
   "metadata": {},
   "source": [
    "Multiple column selection options are:\n",
    "* a vector of `Symbol` (does not have to be a subtype of `AbstractVector{Symbol}`, e.g. `Any[:date]`);\n",
    "* a vector of `AbstractString` (does not have to be a subtype of `AbstractVector{<:AbstractString}`, e.g. `Any[\"date\"]`);\n",
    "* a vector of `Integer` other than `Bool` (does not have to be a subtype of `AbstractVector{<:Integer}`, e.g. `Any[1]`);\n",
    "* a vector of `Bool` that has to be a subtype of `AbstractVector{Bool}`;\n",
    "* a regular expression, which gets expanded to a vector of matching column names;\n",
    "* a `Not` expression;\n",
    "* an `All` or `Between` expression;\n",
    "* a `Cols` expression;\n",
    "* a colon literal `:`."
   ]
  },
  {
   "cell_type": "markdown",
   "metadata": {},
   "source": [
    "The type of the result depends on the row selecor:\n",
    "* if it is a single row you get a `DataFrameRow` (a dimension is dropped)\n",
    "* if it is a collection of rows you get a data frame"
   ]
  },
  {
   "cell_type": "markdown",
   "metadata": {},
   "source": [
    "Single row selection is always a view that is `DataFrameRow`:"
   ]
  },
  {
   "cell_type": "code",
   "execution_count": 37,
   "metadata": {},
   "outputs": [
    {
     "data": {
      "text/html": [
       "<p>DataFrameRow (1 columns)</p><table class=\"data-frame\"><thead><tr><th></th><th>date</th></tr><tr><th></th><th>Date</th></tr></thead><tbody><tr><th>1</th><td>2020-07-02</td></tr></tbody></table>"
      ],
      "text/latex": [
       "\\begin{tabular}{r|c}\n",
       "\t& date\\\\\n",
       "\t\\hline\n",
       "\t& Date\\\\\n",
       "\t\\hline\n",
       "\t1 & 2020-07-02 \\\\\n",
       "\\end{tabular}\n"
      ],
      "text/plain": [
       "\u001b[1mDataFrameRow\u001b[0m\n",
       "\u001b[1m Row \u001b[0m│\u001b[1m date       \u001b[0m\n",
       "\u001b[1m     \u001b[0m│\u001b[90m Date       \u001b[0m\n",
       "─────┼────────────\n",
       "   1 │ 2020-07-02"
      ]
     },
     "execution_count": 37,
     "metadata": {},
     "output_type": "execute_result"
    }
   ],
   "source": [
    "fh5[1, [:date]]"
   ]
  },
  {
   "cell_type": "code",
   "execution_count": 38,
   "metadata": {},
   "outputs": [
    {
     "data": {
      "text/html": [
       "<p>DataFrameRow (1 columns)</p><table class=\"data-frame\"><thead><tr><th></th><th>date</th></tr><tr><th></th><th>Date</th></tr></thead><tbody><tr><th>1</th><td>2020-07-02</td></tr></tbody></table>"
      ],
      "text/latex": [
       "\\begin{tabular}{r|c}\n",
       "\t& date\\\\\n",
       "\t\\hline\n",
       "\t& Date\\\\\n",
       "\t\\hline\n",
       "\t1 & 2020-07-02 \\\\\n",
       "\\end{tabular}\n"
      ],
      "text/plain": [
       "\u001b[1mDataFrameRow\u001b[0m\n",
       "\u001b[1m Row \u001b[0m│\u001b[1m date       \u001b[0m\n",
       "\u001b[1m     \u001b[0m│\u001b[90m Date       \u001b[0m\n",
       "─────┼────────────\n",
       "   1 │ 2020-07-02"
      ]
     },
     "execution_count": 38,
     "metadata": {},
     "output_type": "execute_result"
    }
   ],
   "source": [
    "@view fh5[1, [:date]]"
   ]
  },
  {
   "cell_type": "markdown",
   "metadata": {},
   "source": [
    "Note that `DataFrameRow` is one-dimensional (as usual - single value indexing drops a dimension). You can think of it as a mutable `NamedTuple`."
   ]
  },
  {
   "cell_type": "markdown",
   "metadata": {},
   "source": [
    "Making `fg5[1, [:date]]` to be copying would incur overhead that was considered to be not justified by typical use cases of this syntax. (but if you disagree please open an issue on GitHub)"
   ]
  },
  {
   "cell_type": "markdown",
   "metadata": {},
   "source": [
    "Multiple row selection is a `DataFrame` for `getindex`:"
   ]
  },
  {
   "cell_type": "code",
   "execution_count": 39,
   "metadata": {},
   "outputs": [
    {
     "data": {
      "text/html": [
       "<table class=\"data-frame\"><thead><tr><th></th><th>date</th><th>volume</th></tr><tr><th></th><th>Date</th><th>Int64</th></tr></thead><tbody><p>2 rows × 2 columns</p><tr><th>1</th><td>2020-07-02</td><td>257500</td></tr><tr><th>2</th><td>2020-07-01</td><td>468100</td></tr></tbody></table>"
      ],
      "text/latex": [
       "\\begin{tabular}{r|cc}\n",
       "\t& date & volume\\\\\n",
       "\t\\hline\n",
       "\t& Date & Int64\\\\\n",
       "\t\\hline\n",
       "\t1 & 2020-07-02 & 257500 \\\\\n",
       "\t2 & 2020-07-01 & 468100 \\\\\n",
       "\\end{tabular}\n"
      ],
      "text/plain": [
       "\u001b[1m2×2 DataFrame\u001b[0m\n",
       "\u001b[1m Row \u001b[0m│\u001b[1m date       \u001b[0m\u001b[1m volume \u001b[0m\n",
       "\u001b[1m     \u001b[0m│\u001b[90m Date       \u001b[0m\u001b[90m Int64  \u001b[0m\n",
       "─────┼────────────────────\n",
       "   1 │ 2020-07-02  257500\n",
       "   2 │ 2020-07-01  468100"
      ]
     },
     "execution_count": 39,
     "metadata": {},
     "output_type": "execute_result"
    }
   ],
   "source": [
    "fh5[1:2, 1:2]"
   ]
  },
  {
   "cell_type": "markdown",
   "metadata": {},
   "source": [
    "This does not copy columns and is fast"
   ]
  },
  {
   "cell_type": "code",
   "execution_count": 40,
   "metadata": {},
   "outputs": [
    {
     "data": {
      "text/html": [
       "<table class=\"data-frame\"><thead><tr><th></th><th>date</th><th>volume</th></tr><tr><th></th><th>Date</th><th>Int64</th></tr></thead><tbody><p>6,852,038 rows × 2 columns</p><tr><th>1</th><td>2020-07-02</td><td>257500</td></tr><tr><th>2</th><td>2020-07-01</td><td>468100</td></tr><tr><th>3</th><td>2020-06-30</td><td>319100</td></tr><tr><th>4</th><td>2020-06-29</td><td>405500</td></tr><tr><th>5</th><td>2020-06-26</td><td>335100</td></tr><tr><th>6</th><td>2020-06-25</td><td>246800</td></tr><tr><th>7</th><td>2020-06-24</td><td>329200</td></tr><tr><th>8</th><td>2020-06-23</td><td>351800</td></tr><tr><th>9</th><td>2020-06-22</td><td>308300</td></tr><tr><th>10</th><td>2020-06-19</td><td>153800</td></tr><tr><th>11</th><td>2020-06-18</td><td>102200</td></tr><tr><th>12</th><td>2020-06-17</td><td>153900</td></tr><tr><th>13</th><td>2020-06-16</td><td>165800</td></tr><tr><th>14</th><td>2020-06-15</td><td>308700</td></tr><tr><th>15</th><td>2020-06-12</td><td>161400</td></tr><tr><th>&vellip;</th><td>&vellip;</td><td>&vellip;</td></tr></tbody></table>"
      ],
      "text/latex": [
       "\\begin{tabular}{r|cc}\n",
       "\t& date & volume\\\\\n",
       "\t\\hline\n",
       "\t& Date & Int64\\\\\n",
       "\t\\hline\n",
       "\t1 & 2020-07-02 & 257500 \\\\\n",
       "\t2 & 2020-07-01 & 468100 \\\\\n",
       "\t3 & 2020-06-30 & 319100 \\\\\n",
       "\t4 & 2020-06-29 & 405500 \\\\\n",
       "\t5 & 2020-06-26 & 335100 \\\\\n",
       "\t6 & 2020-06-25 & 246800 \\\\\n",
       "\t7 & 2020-06-24 & 329200 \\\\\n",
       "\t8 & 2020-06-23 & 351800 \\\\\n",
       "\t9 & 2020-06-22 & 308300 \\\\\n",
       "\t10 & 2020-06-19 & 153800 \\\\\n",
       "\t11 & 2020-06-18 & 102200 \\\\\n",
       "\t12 & 2020-06-17 & 153900 \\\\\n",
       "\t13 & 2020-06-16 & 165800 \\\\\n",
       "\t14 & 2020-06-15 & 308700 \\\\\n",
       "\t15 & 2020-06-12 & 161400 \\\\\n",
       "\t$\\dots$ & $\\dots$ & $\\dots$ \\\\\n",
       "\\end{tabular}\n"
      ],
      "text/plain": [
       "\u001b[1m6852038×2 DataFrame\u001b[0m\n",
       "\u001b[1m     Row \u001b[0m│\u001b[1m date       \u001b[0m\u001b[1m volume \u001b[0m\n",
       "\u001b[1m         \u001b[0m│\u001b[90m Date       \u001b[0m\u001b[90m Int64  \u001b[0m\n",
       "─────────┼────────────────────\n",
       "       1 │ 2020-07-02  257500\n",
       "       2 │ 2020-07-01  468100\n",
       "       3 │ 2020-06-30  319100\n",
       "    ⋮    │     ⋮         ⋮\n",
       " 6852036 │ 2015-01-07    8100\n",
       " 6852037 │ 2015-01-05   33200\n",
       " 6852038 │ 2015-01-02     100\n",
       "\u001b[36m          6852032 rows omitted\u001b[0m"
      ]
     },
     "execution_count": 40,
     "metadata": {},
     "output_type": "execute_result"
    }
   ],
   "source": [
    "df_tmp = fh5[!, 1:2]"
   ]
  },
  {
   "cell_type": "code",
   "execution_count": 41,
   "metadata": {},
   "outputs": [
    {
     "data": {
      "text/plain": [
       "true"
      ]
     },
     "execution_count": 41,
     "metadata": {},
     "output_type": "execute_result"
    }
   ],
   "source": [
    "df_tmp.date === fh5.date"
   ]
  },
  {
   "cell_type": "markdown",
   "metadata": {},
   "source": [
    "Using `view` creates a `SubDataFrame`"
   ]
  },
  {
   "cell_type": "code",
   "execution_count": 42,
   "metadata": {},
   "outputs": [
    {
     "data": {
      "text/html": [
       "<table class=\"data-frame\"><thead><tr><th></th><th>date</th><th>volume</th></tr><tr><th></th><th>Date</th><th>Int64</th></tr></thead><tbody><p>2 rows × 2 columns</p><tr><th>1</th><td>2020-07-02</td><td>257500</td></tr><tr><th>2</th><td>2020-07-01</td><td>468100</td></tr></tbody></table>"
      ],
      "text/latex": [
       "\\begin{tabular}{r|cc}\n",
       "\t& date & volume\\\\\n",
       "\t\\hline\n",
       "\t& Date & Int64\\\\\n",
       "\t\\hline\n",
       "\t1 & 2020-07-02 & 257500 \\\\\n",
       "\t2 & 2020-07-01 & 468100 \\\\\n",
       "\\end{tabular}\n"
      ],
      "text/plain": [
       "\u001b[1m2×2 SubDataFrame\u001b[0m\n",
       "\u001b[1m Row \u001b[0m│\u001b[1m date       \u001b[0m\u001b[1m volume \u001b[0m\n",
       "\u001b[1m     \u001b[0m│\u001b[90m Date       \u001b[0m\u001b[90m Int64  \u001b[0m\n",
       "─────┼────────────────────\n",
       "   1 │ 2020-07-02  257500\n",
       "   2 │ 2020-07-01  468100"
      ]
     },
     "execution_count": 42,
     "metadata": {},
     "output_type": "execute_result"
    }
   ],
   "source": [
    "dfv_tmp = view(fh5, 1:2, 1:2)"
   ]
  },
  {
   "cell_type": "code",
   "execution_count": 43,
   "metadata": {},
   "outputs": [
    {
     "data": {
      "text/plain": [
       "SubDataFrame{DataFrame, DataFrames.SubIndex{DataFrames.Index, UnitRange{Int64}, UnitRange{Int64}}, UnitRange{Int64}}"
      ]
     },
     "execution_count": 43,
     "metadata": {},
     "output_type": "execute_result"
    }
   ],
   "source": [
    "typeof(dfv_tmp)"
   ]
  },
  {
   "cell_type": "markdown",
   "metadata": {},
   "source": [
    "#### Execrcise"
   ]
  },
  {
   "cell_type": "markdown",
   "metadata": {},
   "source": [
    "Check that `view(fh5, !, :)` and `view(fh5, :, :)` produce the same result"
   ]
  },
  {
   "cell_type": "code",
   "execution_count": 44,
   "metadata": {},
   "outputs": [
    {
     "name": "stdout",
     "output_type": "stream",
     "text": [
      "SubDataFrame{DataFrame, DataFrames.Index, Base.OneTo{Int64}}\n",
      "  parent: DataFrame\n",
      "    columns: Array{AbstractVector{var\"#s831\"} where var\"#s831\"}((8,))\n",
      "    colindex: DataFrames.Index\n",
      "  colindex: DataFrames.Index\n",
      "    lookup: Dict{Symbol, Int64}\n",
      "    names: Array{Symbol}((8,))\n",
      "  rows: Base.OneTo{Int64}\n",
      "    stop: Int64 6852038\n"
     ]
    }
   ],
   "source": [
    "dump(view(fh5, !, :), maxdepth=2)"
   ]
  },
  {
   "cell_type": "code",
   "execution_count": 45,
   "metadata": {},
   "outputs": [
    {
     "name": "stdout",
     "output_type": "stream",
     "text": [
      "SubDataFrame{DataFrame, DataFrames.Index, Base.OneTo{Int64}}\n",
      "  parent: DataFrame\n",
      "    columns: Array{AbstractVector{var\"#s831\"} where var\"#s831\"}((8,))\n",
      "    colindex: DataFrames.Index\n",
      "  colindex: DataFrames.Index\n",
      "    lookup: Dict{Symbol, Int64}\n",
      "    names: Array{Symbol}((8,))\n",
      "  rows: Base.OneTo{Int64}\n",
      "    stop: Int64 6852038\n"
     ]
    }
   ],
   "source": [
    "dump(view(fh5, :, :), maxdepth=2)"
   ]
  },
  {
   "cell_type": "markdown",
   "metadata": {},
   "source": [
    "As a warning remember that when you modify the parent of a `SubDataFrame` (or `DataFrameRow`) you may get an error when trying to access it:"
   ]
  },
  {
   "cell_type": "code",
   "execution_count": 46,
   "metadata": {},
   "outputs": [
    {
     "data": {
      "text/html": [
       "<table class=\"data-frame\"><thead><tr><th></th><th>date</th><th>volume</th><th>open</th><th>high</th></tr><tr><th></th><th>Date</th><th>Int64</th><th>Float64</th><th>Float64</th></tr></thead><tbody><p>3 rows × 4 columns</p><tr><th>1</th><td>2020-07-02</td><td>257500</td><td>17.64</td><td>17.74</td></tr><tr><th>2</th><td>2020-07-01</td><td>468100</td><td>17.73</td><td>17.73</td></tr><tr><th>3</th><td>2020-06-30</td><td>319100</td><td>17.65</td><td>17.8</td></tr></tbody></table>"
      ],
      "text/latex": [
       "\\begin{tabular}{r|cccc}\n",
       "\t& date & volume & open & high\\\\\n",
       "\t\\hline\n",
       "\t& Date & Int64 & Float64 & Float64\\\\\n",
       "\t\\hline\n",
       "\t1 & 2020-07-02 & 257500 & 17.64 & 17.74 \\\\\n",
       "\t2 & 2020-07-01 & 468100 & 17.73 & 17.73 \\\\\n",
       "\t3 & 2020-06-30 & 319100 & 17.65 & 17.8 \\\\\n",
       "\\end{tabular}\n"
      ],
      "text/plain": [
       "\u001b[1m3×4 DataFrame\u001b[0m\n",
       "\u001b[1m Row \u001b[0m│\u001b[1m date       \u001b[0m\u001b[1m volume \u001b[0m\u001b[1m open    \u001b[0m\u001b[1m high    \u001b[0m\n",
       "\u001b[1m     \u001b[0m│\u001b[90m Date       \u001b[0m\u001b[90m Int64  \u001b[0m\u001b[90m Float64 \u001b[0m\u001b[90m Float64 \u001b[0m\n",
       "─────┼──────────────────────────────────────\n",
       "   1 │ 2020-07-02  257500    17.64    17.74\n",
       "   2 │ 2020-07-01  468100    17.73    17.73\n",
       "   3 │ 2020-06-30  319100    17.65    17.8"
      ]
     },
     "execution_count": 46,
     "metadata": {},
     "output_type": "execute_result"
    }
   ],
   "source": [
    "df_tmp = fh5[1:3, 1:4]"
   ]
  },
  {
   "cell_type": "code",
   "execution_count": 47,
   "metadata": {},
   "outputs": [
    {
     "data": {
      "text/html": [
       "<table class=\"data-frame\"><thead><tr><th></th><th>date</th><th>volume</th><th>open</th></tr><tr><th></th><th>Date</th><th>Int64</th><th>Float64</th></tr></thead><tbody><p>2 rows × 3 columns</p><tr><th>1</th><td>2020-07-02</td><td>257500</td><td>17.64</td></tr><tr><th>2</th><td>2020-07-01</td><td>468100</td><td>17.73</td></tr></tbody></table>"
      ],
      "text/latex": [
       "\\begin{tabular}{r|ccc}\n",
       "\t& date & volume & open\\\\\n",
       "\t\\hline\n",
       "\t& Date & Int64 & Float64\\\\\n",
       "\t\\hline\n",
       "\t1 & 2020-07-02 & 257500 & 17.64 \\\\\n",
       "\t2 & 2020-07-01 & 468100 & 17.73 \\\\\n",
       "\\end{tabular}\n"
      ],
      "text/plain": [
       "\u001b[1m2×3 SubDataFrame\u001b[0m\n",
       "\u001b[1m Row \u001b[0m│\u001b[1m date       \u001b[0m\u001b[1m volume \u001b[0m\u001b[1m open    \u001b[0m\n",
       "\u001b[1m     \u001b[0m│\u001b[90m Date       \u001b[0m\u001b[90m Int64  \u001b[0m\u001b[90m Float64 \u001b[0m\n",
       "─────┼─────────────────────────────\n",
       "   1 │ 2020-07-02  257500    17.64\n",
       "   2 │ 2020-07-01  468100    17.73"
      ]
     },
     "execution_count": 47,
     "metadata": {},
     "output_type": "execute_result"
    }
   ],
   "source": [
    "dfv_tmp = view(df_tmp, 1:2, 1:3)"
   ]
  },
  {
   "cell_type": "code",
   "execution_count": 48,
   "metadata": {},
   "outputs": [
    {
     "data": {
      "text/html": [
       "<table class=\"data-frame\"><thead><tr><th></th><th>date</th></tr><tr><th></th><th>Date</th></tr></thead><tbody><p>3 rows × 1 columns</p><tr><th>1</th><td>2020-07-02</td></tr><tr><th>2</th><td>2020-07-01</td></tr><tr><th>3</th><td>2020-06-30</td></tr></tbody></table>"
      ],
      "text/latex": [
       "\\begin{tabular}{r|c}\n",
       "\t& date\\\\\n",
       "\t\\hline\n",
       "\t& Date\\\\\n",
       "\t\\hline\n",
       "\t1 & 2020-07-02 \\\\\n",
       "\t2 & 2020-07-01 \\\\\n",
       "\t3 & 2020-06-30 \\\\\n",
       "\\end{tabular}\n"
      ],
      "text/plain": [
       "\u001b[1m3×1 DataFrame\u001b[0m\n",
       "\u001b[1m Row \u001b[0m│\u001b[1m date       \u001b[0m\n",
       "\u001b[1m     \u001b[0m│\u001b[90m Date       \u001b[0m\n",
       "─────┼────────────\n",
       "   1 │ 2020-07-02\n",
       "   2 │ 2020-07-01\n",
       "   3 │ 2020-06-30"
      ]
     },
     "execution_count": 48,
     "metadata": {},
     "output_type": "execute_result"
    }
   ],
   "source": [
    "select!(df_tmp, 1) # note that in `select` et al. a data frame is always produced"
   ]
  },
  {
   "cell_type": "code",
   "execution_count": 49,
   "metadata": {},
   "outputs": [
    {
     "ename": "BoundsError",
     "evalue": "BoundsError: attempt to access 1-element Vector{Symbol} at index [1:3]",
     "output_type": "error",
     "traceback": [
      "BoundsError: attempt to access 1-element Vector{Symbol} at index [1:3]",
      "",
      "Stacktrace:",
      "  [1] throw_boundserror(A::Vector{Symbol}, I::Tuple{UnitRange{Int64}})",
      "    @ Base ./abstractarray.jl:651",
      "  [2] checkbounds",
      "    @ ./abstractarray.jl:616 [inlined]",
      "  [3] view",
      "    @ ./subarray.jl:177 [inlined]",
      "  [4] _names",
      "    @ ~/.julia/packages/DataFrames/nxjiD/src/other/index.jl:426 [inlined]",
      "  [5] names(x::DataFrames.SubIndex{DataFrames.Index, UnitRange{Int64}, UnitRange{Int64}})",
      "    @ DataFrames ~/.julia/packages/DataFrames/nxjiD/src/other/index.jl:425",
      "  [6] names (repeats 2 times)",
      "    @ ~/.julia/packages/DataFrames/nxjiD/src/abstractdataframe/abstractdataframe.jl:80 [inlined]",
      "  [7] _show(io::IOContext{IOBuffer}, df::SubDataFrame{DataFrame, DataFrames.SubIndex{DataFrames.Index, UnitRange{Int64}, UnitRange{Int64}}, UnitRange{Int64}}; allrows::Bool, allcols::Bool, rowlabel::Symbol, summary::Bool, eltypes::Bool, rowid::Nothing, truncate::Int64, kwargs::Base.Iterators.Pairs{Union{}, Union{}, Tuple{}, NamedTuple{(), Tuple{}}})",
      "    @ DataFrames ~/.julia/packages/DataFrames/nxjiD/src/abstractdataframe/show.jl:164",
      "  [8] #show#695",
      "    @ ~/.julia/packages/DataFrames/nxjiD/src/abstractdataframe/show.jl:337 [inlined]",
      "  [9] show(io::IOContext{IOBuffer}, df::SubDataFrame{DataFrame, DataFrames.SubIndex{DataFrames.Index, UnitRange{Int64}, UnitRange{Int64}}, UnitRange{Int64}})",
      "    @ DataFrames ~/.julia/packages/DataFrames/nxjiD/src/abstractdataframe/show.jl:337",
      " [10] #show#710",
      "    @ ~/.julia/packages/DataFrames/nxjiD/src/abstractdataframe/io.jl:138 [inlined]",
      " [11] show",
      "    @ ~/.julia/packages/DataFrames/nxjiD/src/abstractdataframe/io.jl:138 [inlined]",
      " [12] limitstringmime(mime::MIME{Symbol(\"text/plain\")}, x::SubDataFrame{DataFrame, DataFrames.SubIndex{DataFrames.Index, UnitRange{Int64}, UnitRange{Int64}}, UnitRange{Int64}})",
      "    @ IJulia ~/.julia/packages/IJulia/e8kqU/src/inline.jl:43",
      " [13] display_mimestring",
      "    @ ~/.julia/packages/IJulia/e8kqU/src/display.jl:71 [inlined]",
      " [14] display_dict(x::SubDataFrame{DataFrame, DataFrames.SubIndex{DataFrames.Index, UnitRange{Int64}, UnitRange{Int64}}, UnitRange{Int64}})",
      "    @ IJulia ~/.julia/packages/IJulia/e8kqU/src/display.jl:102",
      " [15] #invokelatest#2",
      "    @ ./essentials.jl:708 [inlined]",
      " [16] invokelatest",
      "    @ ./essentials.jl:706 [inlined]",
      " [17] execute_request(socket::ZMQ.Socket, msg::IJulia.Msg)",
      "    @ IJulia ~/.julia/packages/IJulia/e8kqU/src/execute_request.jl:112",
      " [18] #invokelatest#2",
      "    @ ./essentials.jl:708 [inlined]",
      " [19] invokelatest",
      "    @ ./essentials.jl:706 [inlined]",
      " [20] eventloop(socket::ZMQ.Socket)",
      "    @ IJulia ~/.julia/packages/IJulia/e8kqU/src/eventloop.jl:8",
      " [21] (::IJulia.var\"#15#18\")()",
      "    @ IJulia ./task.jl:411"
     ]
    }
   ],
   "source": [
    "dfv_tmp"
   ]
  },
  {
   "cell_type": "markdown",
   "metadata": {},
   "source": [
    "A special case is when you use `:` as a column selection with a `view`. In this case the `SubDataFrame` and `DataFrameRow` always get updated with the changed columns:"
   ]
  },
  {
   "cell_type": "code",
   "execution_count": 50,
   "metadata": {},
   "outputs": [
    {
     "data": {
      "text/html": [
       "<table class=\"data-frame\"><thead><tr><th></th><th>date</th><th>volume</th><th>open</th><th>high</th></tr><tr><th></th><th>Date</th><th>Int64</th><th>Float64</th><th>Float64</th></tr></thead><tbody><p>3 rows × 4 columns</p><tr><th>1</th><td>2020-07-02</td><td>257500</td><td>17.64</td><td>17.74</td></tr><tr><th>2</th><td>2020-07-01</td><td>468100</td><td>17.73</td><td>17.73</td></tr><tr><th>3</th><td>2020-06-30</td><td>319100</td><td>17.65</td><td>17.8</td></tr></tbody></table>"
      ],
      "text/latex": [
       "\\begin{tabular}{r|cccc}\n",
       "\t& date & volume & open & high\\\\\n",
       "\t\\hline\n",
       "\t& Date & Int64 & Float64 & Float64\\\\\n",
       "\t\\hline\n",
       "\t1 & 2020-07-02 & 257500 & 17.64 & 17.74 \\\\\n",
       "\t2 & 2020-07-01 & 468100 & 17.73 & 17.73 \\\\\n",
       "\t3 & 2020-06-30 & 319100 & 17.65 & 17.8 \\\\\n",
       "\\end{tabular}\n"
      ],
      "text/plain": [
       "\u001b[1m3×4 DataFrame\u001b[0m\n",
       "\u001b[1m Row \u001b[0m│\u001b[1m date       \u001b[0m\u001b[1m volume \u001b[0m\u001b[1m open    \u001b[0m\u001b[1m high    \u001b[0m\n",
       "\u001b[1m     \u001b[0m│\u001b[90m Date       \u001b[0m\u001b[90m Int64  \u001b[0m\u001b[90m Float64 \u001b[0m\u001b[90m Float64 \u001b[0m\n",
       "─────┼──────────────────────────────────────\n",
       "   1 │ 2020-07-02  257500    17.64    17.74\n",
       "   2 │ 2020-07-01  468100    17.73    17.73\n",
       "   3 │ 2020-06-30  319100    17.65    17.8"
      ]
     },
     "execution_count": 50,
     "metadata": {},
     "output_type": "execute_result"
    }
   ],
   "source": [
    "df_tmp = fh5[1:3, 1:4]"
   ]
  },
  {
   "cell_type": "code",
   "execution_count": 51,
   "metadata": {},
   "outputs": [
    {
     "data": {
      "text/html": [
       "<table class=\"data-frame\"><thead><tr><th></th><th>date</th><th>volume</th><th>open</th><th>high</th></tr><tr><th></th><th>Date</th><th>Int64</th><th>Float64</th><th>Float64</th></tr></thead><tbody><p>2 rows × 4 columns</p><tr><th>1</th><td>2020-07-02</td><td>257500</td><td>17.64</td><td>17.74</td></tr><tr><th>2</th><td>2020-07-01</td><td>468100</td><td>17.73</td><td>17.73</td></tr></tbody></table>"
      ],
      "text/latex": [
       "\\begin{tabular}{r|cccc}\n",
       "\t& date & volume & open & high\\\\\n",
       "\t\\hline\n",
       "\t& Date & Int64 & Float64 & Float64\\\\\n",
       "\t\\hline\n",
       "\t1 & 2020-07-02 & 257500 & 17.64 & 17.74 \\\\\n",
       "\t2 & 2020-07-01 & 468100 & 17.73 & 17.73 \\\\\n",
       "\\end{tabular}\n"
      ],
      "text/plain": [
       "\u001b[1m2×4 SubDataFrame\u001b[0m\n",
       "\u001b[1m Row \u001b[0m│\u001b[1m date       \u001b[0m\u001b[1m volume \u001b[0m\u001b[1m open    \u001b[0m\u001b[1m high    \u001b[0m\n",
       "\u001b[1m     \u001b[0m│\u001b[90m Date       \u001b[0m\u001b[90m Int64  \u001b[0m\u001b[90m Float64 \u001b[0m\u001b[90m Float64 \u001b[0m\n",
       "─────┼──────────────────────────────────────\n",
       "   1 │ 2020-07-02  257500    17.64    17.74\n",
       "   2 │ 2020-07-01  468100    17.73    17.73"
      ]
     },
     "execution_count": 51,
     "metadata": {},
     "output_type": "execute_result"
    }
   ],
   "source": [
    "dfv_tmp = view(df_tmp, 1:2, :)"
   ]
  },
  {
   "cell_type": "code",
   "execution_count": 52,
   "metadata": {},
   "outputs": [
    {
     "data": {
      "text/html": [
       "<table class=\"data-frame\"><thead><tr><th></th><th>date</th><th>newcol</th></tr><tr><th></th><th>Date</th><th>Float64</th></tr></thead><tbody><p>3 rows × 2 columns</p><tr><th>1</th><td>2020-07-02</td><td>17.64</td></tr><tr><th>2</th><td>2020-07-01</td><td>17.73</td></tr><tr><th>3</th><td>2020-06-30</td><td>17.65</td></tr></tbody></table>"
      ],
      "text/latex": [
       "\\begin{tabular}{r|cc}\n",
       "\t& date & newcol\\\\\n",
       "\t\\hline\n",
       "\t& Date & Float64\\\\\n",
       "\t\\hline\n",
       "\t1 & 2020-07-02 & 17.64 \\\\\n",
       "\t2 & 2020-07-01 & 17.73 \\\\\n",
       "\t3 & 2020-06-30 & 17.65 \\\\\n",
       "\\end{tabular}\n"
      ],
      "text/plain": [
       "\u001b[1m3×2 DataFrame\u001b[0m\n",
       "\u001b[1m Row \u001b[0m│\u001b[1m date       \u001b[0m\u001b[1m newcol  \u001b[0m\n",
       "\u001b[1m     \u001b[0m│\u001b[90m Date       \u001b[0m\u001b[90m Float64 \u001b[0m\n",
       "─────┼─────────────────────\n",
       "   1 │ 2020-07-02    17.64\n",
       "   2 │ 2020-07-01    17.73\n",
       "   3 │ 2020-06-30    17.65"
      ]
     },
     "execution_count": 52,
     "metadata": {},
     "output_type": "execute_result"
    }
   ],
   "source": [
    "select!(df_tmp, 1, :open => :newcol)"
   ]
  },
  {
   "cell_type": "code",
   "execution_count": 53,
   "metadata": {},
   "outputs": [
    {
     "data": {
      "text/html": [
       "<table class=\"data-frame\"><thead><tr><th></th><th>date</th><th>newcol</th></tr><tr><th></th><th>Date</th><th>Float64</th></tr></thead><tbody><p>2 rows × 2 columns</p><tr><th>1</th><td>2020-07-02</td><td>17.64</td></tr><tr><th>2</th><td>2020-07-01</td><td>17.73</td></tr></tbody></table>"
      ],
      "text/latex": [
       "\\begin{tabular}{r|cc}\n",
       "\t& date & newcol\\\\\n",
       "\t\\hline\n",
       "\t& Date & Float64\\\\\n",
       "\t\\hline\n",
       "\t1 & 2020-07-02 & 17.64 \\\\\n",
       "\t2 & 2020-07-01 & 17.73 \\\\\n",
       "\\end{tabular}\n"
      ],
      "text/plain": [
       "\u001b[1m2×2 SubDataFrame\u001b[0m\n",
       "\u001b[1m Row \u001b[0m│\u001b[1m date       \u001b[0m\u001b[1m newcol  \u001b[0m\n",
       "\u001b[1m     \u001b[0m│\u001b[90m Date       \u001b[0m\u001b[90m Float64 \u001b[0m\n",
       "─────┼─────────────────────\n",
       "   1 │ 2020-07-02    17.64\n",
       "   2 │ 2020-07-01    17.73"
      ]
     },
     "execution_count": 53,
     "metadata": {},
     "output_type": "execute_result"
    }
   ],
   "source": [
    "dfv_tmp"
   ]
  },
  {
   "cell_type": "markdown",
   "metadata": {},
   "source": [
    "The reason for this behavior is that subsetting of a data frame by only rows (and taking all columns) is very common, and in this case we can create and index such views much faster. In particular `DataFrameRow`s produced by `eachrow` are efficient this way:"
   ]
  },
  {
   "cell_type": "code",
   "execution_count": 54,
   "metadata": {},
   "outputs": [
    {
     "name": "stdout",
     "output_type": "stream",
     "text": [
      "  1.039 s (34259694 allocations: 522.76 MiB)\n"
     ]
    },
    {
     "data": {
      "text/plain": [
       "298.08612911254846"
      ]
     },
     "execution_count": 54,
     "metadata": {},
     "output_type": "execute_result"
    }
   ],
   "source": [
    "@btime mean(x -> x.open, eachrow(fh5))"
   ]
  },
  {
   "cell_type": "code",
   "execution_count": 55,
   "metadata": {},
   "outputs": [
    {
     "name": "stdout",
     "output_type": "stream",
     "text": [
      "  1.453 s (41111214 allocations: 627.31 MiB)\n"
     ]
    },
    {
     "data": {
      "text/plain": [
       "298.08612911254846"
      ]
     },
     "execution_count": 55,
     "metadata": {},
     "output_type": "execute_result"
    }
   ],
   "source": [
    "@btime mean(i -> fh5[i, :open], 1:nrow(fh5))"
   ]
  },
  {
   "cell_type": "markdown",
   "metadata": {},
   "source": [
    "Of course, type-stable operation would be faster (but sometimes processing data row-wise is more convenient):"
   ]
  },
  {
   "cell_type": "code",
   "execution_count": 56,
   "metadata": {},
   "outputs": [
    {
     "name": "stdout",
     "output_type": "stream",
     "text": [
      "  3.090 ms (1 allocation: 16 bytes)\n"
     ]
    },
    {
     "data": {
      "text/plain": [
       "298.08612911254846"
      ]
     },
     "execution_count": 56,
     "metadata": {},
     "output_type": "execute_result"
    }
   ],
   "source": [
    "@btime mean(fh5.open)"
   ]
  },
  {
   "cell_type": "markdown",
   "metadata": {},
   "source": [
    "or, if your table is not very wide (so that you are not penalized by the compilation cost of `NamedTuple`) you can use:"
   ]
  },
  {
   "cell_type": "code",
   "execution_count": 57,
   "metadata": {},
   "outputs": [
    {
     "name": "stdout",
     "output_type": "stream",
     "text": [
      "  22.137 ms (13 allocations: 816 bytes)\n"
     ]
    },
    {
     "data": {
      "text/plain": [
       "298.0861291125547"
      ]
     },
     "execution_count": 57,
     "metadata": {},
     "output_type": "execute_result"
    }
   ],
   "source": [
    "@btime mean(x -> x.open, Tables.namedtupleiterator(fh5))"
   ]
  },
  {
   "cell_type": "markdown",
   "metadata": {},
   "source": [
    "<div class=\"alert alert-block alert-info\">\n",
    "<b>Tip:</b>\n",
    "    \n",
    "\n",
    "If your table is not very wide then you can use `Tables.namedtupleiterator` or `Tables.columntable` to swithch a `DataFrame` into a type-stable mode (at the cost of fixing its schema). Both are non-allocating. You can also used `Tables.rowtable` but it is allocating so usually `Tables.namedtupleiterator` is preferred.\n",
    "</div>"
   ]
  },
  {
   "cell_type": "markdown",
   "metadata": {},
   "source": [
    "Note though that `DataFrameRow` allows you to modify the source data frame, while iterating `NamedTuple`s is read-only (more on `setindex!` later)."
   ]
  },
  {
   "cell_type": "code",
   "execution_count": 58,
   "metadata": {
    "scrolled": false
   },
   "outputs": [
    {
     "data": {
      "text/html": [
       "<table class=\"data-frame\"><thead><tr><th></th><th>date</th><th>volume</th><th>open</th><th>high</th><th>low</th><th>close</th><th>adjclose</th><th>symbol</th></tr><tr><th></th><th>Date</th><th>Int64</th><th>Float64</th><th>Float64</th><th>Float64</th><th>Float64</th><th>Float64</th><th>String</th></tr></thead><tbody><p>6,852,038 rows × 8 columns</p><tr><th>1</th><td>2020-07-02</td><td>257500</td><td>17.64</td><td>17.74</td><td>17.62</td><td>17.71</td><td>17.71</td><td>AAAU</td></tr><tr><th>2</th><td>2020-07-01</td><td>468100</td><td>17.73</td><td>17.73</td><td>17.54</td><td>17.68</td><td>17.68</td><td>AAAU</td></tr><tr><th>3</th><td>2020-06-30</td><td>319100</td><td>17.65</td><td>17.8</td><td>17.61</td><td>17.78</td><td>17.78</td><td>AAAU</td></tr><tr><th>4</th><td>2020-06-29</td><td>405500</td><td>17.67</td><td>17.69</td><td>17.63</td><td>17.68</td><td>17.68</td><td>AAAU</td></tr><tr><th>5</th><td>2020-06-26</td><td>335100</td><td>17.49</td><td>17.67</td><td>17.42</td><td>17.67</td><td>17.67</td><td>AAAU</td></tr><tr><th>6</th><td>2020-06-25</td><td>246800</td><td>17.6</td><td>17.6</td><td>17.52</td><td>17.59</td><td>17.59</td><td>AAAU</td></tr><tr><th>7</th><td>2020-06-24</td><td>329200</td><td>17.61</td><td>17.71</td><td>17.56</td><td>17.61</td><td>17.61</td><td>AAAU</td></tr><tr><th>8</th><td>2020-06-23</td><td>351800</td><td>17.55</td><td>17.66</td><td>17.55</td><td>17.66</td><td>17.66</td><td>AAAU</td></tr><tr><th>9</th><td>2020-06-22</td><td>308300</td><td>17.5</td><td>17.57</td><td>17.44</td><td>17.5</td><td>17.5</td><td>AAAU</td></tr><tr><th>10</th><td>2020-06-19</td><td>153800</td><td>17.27</td><td>17.4</td><td>17.26</td><td>17.4</td><td>17.4</td><td>AAAU</td></tr><tr><th>11</th><td>2020-06-18</td><td>102200</td><td>17.27</td><td>17.27</td><td>17.14</td><td>17.23</td><td>17.23</td><td>AAAU</td></tr><tr><th>12</th><td>2020-06-17</td><td>153900</td><td>17.19</td><td>17.25</td><td>17.16</td><td>17.25</td><td>17.25</td><td>AAAU</td></tr><tr><th>13</th><td>2020-06-16</td><td>165800</td><td>17.15</td><td>17.25</td><td>17.11</td><td>17.21</td><td>17.21</td><td>AAAU</td></tr><tr><th>14</th><td>2020-06-15</td><td>308700</td><td>17.03</td><td>17.23</td><td>17.0</td><td>17.2</td><td>17.2</td><td>AAAU</td></tr><tr><th>15</th><td>2020-06-12</td><td>161400</td><td>17.34</td><td>17.37</td><td>17.25</td><td>17.27</td><td>17.27</td><td>AAAU</td></tr><tr><th>&vellip;</th><td>&vellip;</td><td>&vellip;</td><td>&vellip;</td><td>&vellip;</td><td>&vellip;</td><td>&vellip;</td><td>&vellip;</td><td>&vellip;</td></tr></tbody></table>"
      ],
      "text/latex": [
       "\\begin{tabular}{r|cccccccc}\n",
       "\t& date & volume & open & high & low & close & adjclose & symbol\\\\\n",
       "\t\\hline\n",
       "\t& Date & Int64 & Float64 & Float64 & Float64 & Float64 & Float64 & String\\\\\n",
       "\t\\hline\n",
       "\t1 & 2020-07-02 & 257500 & 17.64 & 17.74 & 17.62 & 17.71 & 17.71 & AAAU \\\\\n",
       "\t2 & 2020-07-01 & 468100 & 17.73 & 17.73 & 17.54 & 17.68 & 17.68 & AAAU \\\\\n",
       "\t3 & 2020-06-30 & 319100 & 17.65 & 17.8 & 17.61 & 17.78 & 17.78 & AAAU \\\\\n",
       "\t4 & 2020-06-29 & 405500 & 17.67 & 17.69 & 17.63 & 17.68 & 17.68 & AAAU \\\\\n",
       "\t5 & 2020-06-26 & 335100 & 17.49 & 17.67 & 17.42 & 17.67 & 17.67 & AAAU \\\\\n",
       "\t6 & 2020-06-25 & 246800 & 17.6 & 17.6 & 17.52 & 17.59 & 17.59 & AAAU \\\\\n",
       "\t7 & 2020-06-24 & 329200 & 17.61 & 17.71 & 17.56 & 17.61 & 17.61 & AAAU \\\\\n",
       "\t8 & 2020-06-23 & 351800 & 17.55 & 17.66 & 17.55 & 17.66 & 17.66 & AAAU \\\\\n",
       "\t9 & 2020-06-22 & 308300 & 17.5 & 17.57 & 17.44 & 17.5 & 17.5 & AAAU \\\\\n",
       "\t10 & 2020-06-19 & 153800 & 17.27 & 17.4 & 17.26 & 17.4 & 17.4 & AAAU \\\\\n",
       "\t11 & 2020-06-18 & 102200 & 17.27 & 17.27 & 17.14 & 17.23 & 17.23 & AAAU \\\\\n",
       "\t12 & 2020-06-17 & 153900 & 17.19 & 17.25 & 17.16 & 17.25 & 17.25 & AAAU \\\\\n",
       "\t13 & 2020-06-16 & 165800 & 17.15 & 17.25 & 17.11 & 17.21 & 17.21 & AAAU \\\\\n",
       "\t14 & 2020-06-15 & 308700 & 17.03 & 17.23 & 17.0 & 17.2 & 17.2 & AAAU \\\\\n",
       "\t15 & 2020-06-12 & 161400 & 17.34 & 17.37 & 17.25 & 17.27 & 17.27 & AAAU \\\\\n",
       "\t$\\dots$ & $\\dots$ & $\\dots$ & $\\dots$ & $\\dots$ & $\\dots$ & $\\dots$ & $\\dots$ & $\\dots$ \\\\\n",
       "\\end{tabular}\n"
      ],
      "text/plain": [
       "\u001b[1m6852038×8 DataFrame\u001b[0m\n",
       "\u001b[1m     Row \u001b[0m│\u001b[1m date       \u001b[0m\u001b[1m volume \u001b[0m\u001b[1m open    \u001b[0m\u001b[1m high    \u001b[0m\u001b[1m low     \u001b[0m\u001b[1m close   \u001b[0m\u001b[1m adjclose  \u001b[0m\u001b[1m symbol \u001b[0m\n",
       "\u001b[1m         \u001b[0m│\u001b[90m Date       \u001b[0m\u001b[90m Int64  \u001b[0m\u001b[90m Float64 \u001b[0m\u001b[90m Float64 \u001b[0m\u001b[90m Float64 \u001b[0m\u001b[90m Float64 \u001b[0m\u001b[90m Float64   \u001b[0m\u001b[90m String \u001b[0m\n",
       "─────────┼───────────────────────────────────────────────────────────────────────────\n",
       "       1 │ 2020-07-02  257500    17.64    17.74    17.62    17.71  17.71      AAAU\n",
       "       2 │ 2020-07-01  468100    17.73    17.73    17.54    17.68  17.68      AAAU\n",
       "       3 │ 2020-06-30  319100    17.65    17.8     17.61    17.78  17.78      AAAU\n",
       "    ⋮    │     ⋮         ⋮        ⋮        ⋮        ⋮        ⋮         ⋮        ⋮\n",
       " 6852036 │ 2015-01-07    8100     0.14     0.15     0.13     0.15   0.146038  ZYXI\n",
       " 6852037 │ 2015-01-05   33200     0.22     0.22     0.14     0.16   0.155774  ZYXI\n",
       " 6852038 │ 2015-01-02     100     0.18     0.18     0.18     0.18   0.175245  ZYXI\n",
       "\u001b[36m                                                                 6852032 rows omitted\u001b[0m"
      ]
     },
     "execution_count": 58,
     "metadata": {},
     "output_type": "execute_result"
    }
   ],
   "source": [
    "df_tmp = copy(fh5)"
   ]
  },
  {
   "cell_type": "markdown",
   "metadata": {},
   "source": [
    "#### Exercise"
   ]
  },
  {
   "cell_type": "markdown",
   "metadata": {},
   "source": [
    "In `df_tmp` find rows in which `:high` is less than `:low` and swap these values.\n",
    "We will discuss three ways to do it."
   ]
  },
  {
   "cell_type": "code",
   "execution_count": 59,
   "metadata": {},
   "outputs": [
    {
     "name": "stdout",
     "output_type": "stream",
     "text": [
      "df_tmp[bad_idx, :] = 2×8 DataFrame\n",
      " Row │ date        volume  open     high     low      close    adjclose  symbol\n",
      "     │ Date        Int64   Float64  Float64  Float64  Float64  Float64   String\n",
      "─────┼──────────────────────────────────────────────────────────────────────────\n",
      "   1 │ 2016-10-19     468   6345.0   6250.0   6345.0   6250.0    6250.0  PALC\n",
      "   2 │ 2016-10-07   88860   6250.0   6150.0   6250.0   6150.0    6150.0  PALC\n",
      "df_tmp[bad_idx, :] = 2×8 DataFrame\n",
      " Row │ date        volume  open     high     low      close    adjclose  symbol\n",
      "     │ Date        Int64   Float64  Float64  Float64  Float64  Float64   String\n",
      "─────┼──────────────────────────────────────────────────────────────────────────\n",
      "   1 │ 2016-10-19     468   6345.0   6345.0   6250.0   6250.0    6250.0  PALC\n",
      "   2 │ 2016-10-07   88860   6250.0   6250.0   6150.0   6150.0    6150.0  PALC\n"
     ]
    },
    {
     "data": {
      "text/html": [
       "<table class=\"data-frame\"><thead><tr><th></th><th>date</th><th>volume</th><th>open</th><th>high</th><th>low</th><th>close</th><th>adjclose</th><th>symbol</th></tr><tr><th></th><th>Date</th><th>Int64</th><th>Float64</th><th>Float64</th><th>Float64</th><th>Float64</th><th>Float64</th><th>String</th></tr></thead><tbody><p>2 rows × 8 columns</p><tr><th>1</th><td>2016-10-19</td><td>468</td><td>6345.0</td><td>6345.0</td><td>6250.0</td><td>6250.0</td><td>6250.0</td><td>PALC</td></tr><tr><th>2</th><td>2016-10-07</td><td>88860</td><td>6250.0</td><td>6250.0</td><td>6150.0</td><td>6150.0</td><td>6150.0</td><td>PALC</td></tr></tbody></table>"
      ],
      "text/latex": [
       "\\begin{tabular}{r|cccccccc}\n",
       "\t& date & volume & open & high & low & close & adjclose & symbol\\\\\n",
       "\t\\hline\n",
       "\t& Date & Int64 & Float64 & Float64 & Float64 & Float64 & Float64 & String\\\\\n",
       "\t\\hline\n",
       "\t1 & 2016-10-19 & 468 & 6345.0 & 6345.0 & 6250.0 & 6250.0 & 6250.0 & PALC \\\\\n",
       "\t2 & 2016-10-07 & 88860 & 6250.0 & 6250.0 & 6150.0 & 6150.0 & 6150.0 & PALC \\\\\n",
       "\\end{tabular}\n"
      ],
      "text/plain": [
       "\u001b[1m2×8 DataFrame\u001b[0m\n",
       "\u001b[1m Row \u001b[0m│\u001b[1m date       \u001b[0m\u001b[1m volume \u001b[0m\u001b[1m open    \u001b[0m\u001b[1m high    \u001b[0m\u001b[1m low     \u001b[0m\u001b[1m close   \u001b[0m\u001b[1m adjclose \u001b[0m\u001b[1m symbol \u001b[0m\n",
       "\u001b[1m     \u001b[0m│\u001b[90m Date       \u001b[0m\u001b[90m Int64  \u001b[0m\u001b[90m Float64 \u001b[0m\u001b[90m Float64 \u001b[0m\u001b[90m Float64 \u001b[0m\u001b[90m Float64 \u001b[0m\u001b[90m Float64  \u001b[0m\u001b[90m String \u001b[0m\n",
       "─────┼──────────────────────────────────────────────────────────────────────────\n",
       "   1 │ 2016-10-19     468   6345.0   6345.0   6250.0   6250.0    6250.0  PALC\n",
       "   2 │ 2016-10-07   88860   6250.0   6250.0   6150.0   6150.0    6150.0  PALC"
      ]
     },
     "execution_count": 59,
     "metadata": {},
     "output_type": "execute_result"
    }
   ],
   "source": [
    "bad_idx = findall(df_tmp.low .> df_tmp.high)\n",
    "@show df_tmp[bad_idx, :]\n",
    "df_tmp.low[bad_idx], df_tmp.high[bad_idx] = df_tmp.high[bad_idx], df_tmp.low[bad_idx]\n",
    "@show df_tmp[bad_idx, :]"
   ]
  },
  {
   "cell_type": "code",
   "execution_count": 60,
   "metadata": {},
   "outputs": [
    {
     "name": "stdout",
     "output_type": "stream",
     "text": [
      "df_tmp[bad_idx, :] = 2×8 DataFrame\n",
      " Row │ date        volume  open     high     low      close    adjclose  symbol\n",
      "     │ Date        Int64   Float64  Float64  Float64  Float64  Float64   String\n",
      "─────┼──────────────────────────────────────────────────────────────────────────\n",
      "   1 │ 2016-10-19     468   6345.0   6250.0   6345.0   6250.0    6250.0  PALC\n",
      "   2 │ 2016-10-07   88860   6250.0   6150.0   6250.0   6150.0    6150.0  PALC\n",
      "df_tmp[bad_idx, :] = 2×8 DataFrame\n",
      " Row │ date        volume  open     high     low      close    adjclose  symbol\n",
      "     │ Date        Int64   Float64  Float64  Float64  Float64  Float64   String\n",
      "─────┼──────────────────────────────────────────────────────────────────────────\n",
      "   1 │ 2016-10-19     468   6345.0   6345.0   6250.0   6250.0    6250.0  PALC\n",
      "   2 │ 2016-10-07   88860   6250.0   6250.0   6150.0   6150.0    6150.0  PALC\n"
     ]
    },
    {
     "data": {
      "text/html": [
       "<table class=\"data-frame\"><thead><tr><th></th><th>date</th><th>volume</th><th>open</th><th>high</th><th>low</th><th>close</th><th>adjclose</th><th>symbol</th></tr><tr><th></th><th>Date</th><th>Int64</th><th>Float64</th><th>Float64</th><th>Float64</th><th>Float64</th><th>Float64</th><th>String</th></tr></thead><tbody><p>2 rows × 8 columns</p><tr><th>1</th><td>2016-10-19</td><td>468</td><td>6345.0</td><td>6345.0</td><td>6250.0</td><td>6250.0</td><td>6250.0</td><td>PALC</td></tr><tr><th>2</th><td>2016-10-07</td><td>88860</td><td>6250.0</td><td>6250.0</td><td>6150.0</td><td>6150.0</td><td>6150.0</td><td>PALC</td></tr></tbody></table>"
      ],
      "text/latex": [
       "\\begin{tabular}{r|cccccccc}\n",
       "\t& date & volume & open & high & low & close & adjclose & symbol\\\\\n",
       "\t\\hline\n",
       "\t& Date & Int64 & Float64 & Float64 & Float64 & Float64 & Float64 & String\\\\\n",
       "\t\\hline\n",
       "\t1 & 2016-10-19 & 468 & 6345.0 & 6345.0 & 6250.0 & 6250.0 & 6250.0 & PALC \\\\\n",
       "\t2 & 2016-10-07 & 88860 & 6250.0 & 6250.0 & 6150.0 & 6150.0 & 6150.0 & PALC \\\\\n",
       "\\end{tabular}\n"
      ],
      "text/plain": [
       "\u001b[1m2×8 DataFrame\u001b[0m\n",
       "\u001b[1m Row \u001b[0m│\u001b[1m date       \u001b[0m\u001b[1m volume \u001b[0m\u001b[1m open    \u001b[0m\u001b[1m high    \u001b[0m\u001b[1m low     \u001b[0m\u001b[1m close   \u001b[0m\u001b[1m adjclose \u001b[0m\u001b[1m symbol \u001b[0m\n",
       "\u001b[1m     \u001b[0m│\u001b[90m Date       \u001b[0m\u001b[90m Int64  \u001b[0m\u001b[90m Float64 \u001b[0m\u001b[90m Float64 \u001b[0m\u001b[90m Float64 \u001b[0m\u001b[90m Float64 \u001b[0m\u001b[90m Float64  \u001b[0m\u001b[90m String \u001b[0m\n",
       "─────┼──────────────────────────────────────────────────────────────────────────\n",
       "   1 │ 2016-10-19     468   6345.0   6345.0   6250.0   6250.0    6250.0  PALC\n",
       "   2 │ 2016-10-07   88860   6250.0   6250.0   6150.0   6150.0    6150.0  PALC"
      ]
     },
     "execution_count": 60,
     "metadata": {},
     "output_type": "execute_result"
    }
   ],
   "source": [
    "df_tmp = copy(fh5)\n",
    "@show df_tmp[bad_idx, :]\n",
    "foreach(eachrow(df_tmp)) do row\n",
    "    if row.low >  row.high\n",
    "        row.low, row.high = row.high, row.low\n",
    "    end\n",
    "end\n",
    "@show df_tmp[bad_idx, :]"
   ]
  },
  {
   "cell_type": "code",
   "execution_count": 61,
   "metadata": {},
   "outputs": [
    {
     "name": "stdout",
     "output_type": "stream",
     "text": [
      "df_tmp[bad_idx, :] = 2×8 DataFrame\n",
      " Row │ date        volume  open     high     low      close    adjclose  symbol\n",
      "     │ Date        Int64   Float64  Float64  Float64  Float64  Float64   String\n",
      "─────┼──────────────────────────────────────────────────────────────────────────\n",
      "   1 │ 2016-10-19     468   6345.0   6250.0   6345.0   6250.0    6250.0  PALC\n",
      "   2 │ 2016-10-07   88860   6250.0   6150.0   6250.0   6150.0    6150.0  PALC\n",
      "df_tmp[bad_idx, :] = 2×8 DataFrame\n",
      " Row │ date        volume  open     high     low      close    adjclose  symbol\n",
      "     │ Date        Int64   Float64  Float64  Float64  Float64  Float64   String\n",
      "─────┼──────────────────────────────────────────────────────────────────────────\n",
      "   1 │ 2016-10-19     468   6345.0   6345.0   6250.0   6250.0    6250.0  PALC\n",
      "   2 │ 2016-10-07   88860   6250.0   6250.0   6150.0   6150.0    6150.0  PALC\n"
     ]
    },
    {
     "data": {
      "text/html": [
       "<table class=\"data-frame\"><thead><tr><th></th><th>date</th><th>volume</th><th>open</th><th>high</th><th>low</th><th>close</th><th>adjclose</th><th>symbol</th></tr><tr><th></th><th>Date</th><th>Int64</th><th>Float64</th><th>Float64</th><th>Float64</th><th>Float64</th><th>Float64</th><th>String</th></tr></thead><tbody><p>2 rows × 8 columns</p><tr><th>1</th><td>2016-10-19</td><td>468</td><td>6345.0</td><td>6345.0</td><td>6250.0</td><td>6250.0</td><td>6250.0</td><td>PALC</td></tr><tr><th>2</th><td>2016-10-07</td><td>88860</td><td>6250.0</td><td>6250.0</td><td>6150.0</td><td>6150.0</td><td>6150.0</td><td>PALC</td></tr></tbody></table>"
      ],
      "text/latex": [
       "\\begin{tabular}{r|cccccccc}\n",
       "\t& date & volume & open & high & low & close & adjclose & symbol\\\\\n",
       "\t\\hline\n",
       "\t& Date & Int64 & Float64 & Float64 & Float64 & Float64 & Float64 & String\\\\\n",
       "\t\\hline\n",
       "\t1 & 2016-10-19 & 468 & 6345.0 & 6345.0 & 6250.0 & 6250.0 & 6250.0 & PALC \\\\\n",
       "\t2 & 2016-10-07 & 88860 & 6250.0 & 6250.0 & 6150.0 & 6150.0 & 6150.0 & PALC \\\\\n",
       "\\end{tabular}\n"
      ],
      "text/plain": [
       "\u001b[1m2×8 DataFrame\u001b[0m\n",
       "\u001b[1m Row \u001b[0m│\u001b[1m date       \u001b[0m\u001b[1m volume \u001b[0m\u001b[1m open    \u001b[0m\u001b[1m high    \u001b[0m\u001b[1m low     \u001b[0m\u001b[1m close   \u001b[0m\u001b[1m adjclose \u001b[0m\u001b[1m symbol \u001b[0m\n",
       "\u001b[1m     \u001b[0m│\u001b[90m Date       \u001b[0m\u001b[90m Int64  \u001b[0m\u001b[90m Float64 \u001b[0m\u001b[90m Float64 \u001b[0m\u001b[90m Float64 \u001b[0m\u001b[90m Float64 \u001b[0m\u001b[90m Float64  \u001b[0m\u001b[90m String \u001b[0m\n",
       "─────┼──────────────────────────────────────────────────────────────────────────\n",
       "   1 │ 2016-10-19     468   6345.0   6345.0   6250.0   6250.0    6250.0  PALC\n",
       "   2 │ 2016-10-07   88860   6250.0   6250.0   6150.0   6150.0    6150.0  PALC"
      ]
     },
     "execution_count": 61,
     "metadata": {},
     "output_type": "execute_result"
    }
   ],
   "source": [
    "df_tmp = copy(fh5)\n",
    "@show df_tmp[bad_idx, :]\n",
    "transform!(df_tmp, [[:low, :high]] .=> ByRow.([min, max]) .=> [:low, :high])\n",
    "@show df_tmp[bad_idx, :]"
   ]
  },
  {
   "cell_type": "markdown",
   "metadata": {},
   "source": [
    "I give you the following column selectors. Can you tell the effect of each of them when trying to run `fh5[1:2, selector]`?\n",
    "Write the code that tests it."
   ]
  },
  {
   "cell_type": "code",
   "execution_count": 62,
   "metadata": {},
   "outputs": [
    {
     "data": {
      "text/plain": [
       "6-element Vector{Any}:\n",
       " Between{Int64, Int64}(1, 10)\n",
       " Between{Symbol, Symbol}(:low, :high)\n",
       " [:low, :low]\n",
       " Cols{Tuple{Symbol, Symbol}}((:low, :low))\n",
       " Cols{Tuple{Symbol, Colon}}((:low, Colon()))\n",
       " All{Tuple{}}(())"
      ]
     },
     "execution_count": 62,
     "metadata": {},
     "output_type": "execute_result"
    }
   ],
   "source": [
    "selectors = [Between(1, 10), Between(:low, :high), [:low, :low], Cols(:low, :low), Cols(:low, :), All()]"
   ]
  },
  {
   "cell_type": "code",
   "execution_count": 63,
   "metadata": {},
   "outputs": [
    {
     "name": "stdout",
     "output_type": "stream",
     "text": [
      "selector = Between{Int64, Int64}(1, 10)\n",
      "errored\n",
      "selector = Between{Symbol, Symbol}(:low, :high)\n",
      "\u001b[1m0×0 DataFrame\u001b[0m\n",
      "selector = [:low, :low]\n",
      "errored\n",
      "selector = Cols{Tuple{Symbol, Symbol}}((:low, :low))\n",
      "\u001b[1m2×1 DataFrame\u001b[0m\n",
      "\u001b[1m Row \u001b[0m│\u001b[1m low     \u001b[0m\n",
      "\u001b[1m     \u001b[0m│\u001b[90m Float64 \u001b[0m\n",
      "─────┼─────────\n",
      "   1 │   17.62\n",
      "   2 │   17.54\n",
      "selector = Cols{Tuple{Symbol, Colon}}((:low, Colon()))\n",
      "\u001b[1m2×8 DataFrame\u001b[0m\n",
      "\u001b[1m Row \u001b[0m│\u001b[1m low     \u001b[0m\u001b[1m date       \u001b[0m\u001b[1m volume \u001b[0m\u001b[1m open    \u001b[0m\u001b[1m high    \u001b[0m\u001b[1m close   \u001b[0m\u001b[1m adjclose \u001b[0m\u001b[1m symbol \u001b[0m\n",
      "\u001b[1m     \u001b[0m│\u001b[90m Float64 \u001b[0m\u001b[90m Date       \u001b[0m\u001b[90m Int64  \u001b[0m\u001b[90m Float64 \u001b[0m\u001b[90m Float64 \u001b[0m\u001b[90m Float64 \u001b[0m\u001b[90m Float64  \u001b[0m\u001b[90m String \u001b[0m\n",
      "─────┼──────────────────────────────────────────────────────────────────────────\n",
      "   1 │   17.62  2020-07-02  257500    17.64    17.74    17.71     17.71  AAAU\n",
      "   2 │   17.54  2020-07-01  468100    17.73    17.73    17.68     17.68  AAAU\n",
      "selector = All{Tuple{}}(())\n",
      "\u001b[1m2×8 DataFrame\u001b[0m\n",
      "\u001b[1m Row \u001b[0m│\u001b[1m date       \u001b[0m\u001b[1m volume \u001b[0m\u001b[1m open    \u001b[0m\u001b[1m high    \u001b[0m\u001b[1m low     \u001b[0m\u001b[1m close   \u001b[0m\u001b[1m adjclose \u001b[0m\u001b[1m symbol \u001b[0m\n",
      "\u001b[1m     \u001b[0m│\u001b[90m Date       \u001b[0m\u001b[90m Int64  \u001b[0m\u001b[90m Float64 \u001b[0m\u001b[90m Float64 \u001b[0m\u001b[90m Float64 \u001b[0m\u001b[90m Float64 \u001b[0m\u001b[90m Float64  \u001b[0m\u001b[90m String \u001b[0m\n",
      "─────┼──────────────────────────────────────────────────────────────────────────\n",
      "   1 │ 2020-07-02  257500    17.64    17.74    17.62    17.71     17.71  AAAU\n",
      "   2 │ 2020-07-01  468100    17.73    17.73    17.54    17.68     17.68  AAAU\n"
     ]
    }
   ],
   "source": [
    "for selector in selectors\n",
    "    @show selector\n",
    "    try\n",
    "        println(fh5[1:2, selector])\n",
    "    catch\n",
    "        println(\"errored\")\n",
    "    end\n",
    "end"
   ]
  },
  {
   "cell_type": "markdown",
   "metadata": {},
   "source": [
    "<div class=\"alert alert-block alert-info\">\n",
    "<b>Tip:</b>\n",
    "    \n",
    "In general `df.single_col` and `df[!, single_col]` produce the same result in `getindex`.\n",
    "\n",
    "The exceptions are:\n",
    "* `@view` and `@views` does not affect `df.single_col`.\n",
    "* in `df.single_col` you cannot pass `single_col` as a variable (unless you write `getproperty(df, single_col)`)\n",
    "* only `df[!, single_col]` allows integer indexing\n",
    "\n",
    "</div>\n"
   ]
  },
  {
   "cell_type": "markdown",
   "metadata": {},
   "source": [
    "### Indexing `GroupedDataFrame`"
   ]
  },
  {
   "cell_type": "markdown",
   "metadata": {},
   "source": [
    "A `GroupedDataFrame` is a view into a data frame which defines a key allowing a fast lookup (and in particular this key is then automatically used in split-apply-combine operations with `select`, `select!`, `transform`, `transform!` and `combine`)."
   ]
  },
  {
   "cell_type": "code",
   "execution_count": 64,
   "metadata": {},
   "outputs": [
    {
     "data": {
      "text/html": [
       "<p><b>GroupedDataFrame with 6335 groups based on key: symbol</b></p><p><i>First Group (474 rows): symbol = \"AAAU\"</i></p><table class=\"data-frame\"><thead><tr><th></th><th>date</th><th>volume</th><th>open</th><th>high</th><th>low</th><th>close</th><th>adjclose</th><th>symbol</th></tr><tr><th></th><th>Date</th><th>Int64</th><th>Float64</th><th>Float64</th><th>Float64</th><th>Float64</th><th>Float64</th><th>String</th></tr></thead><tbody><tr><th>1</th><td>2020-07-02</td><td>257500</td><td>17.64</td><td>17.74</td><td>17.62</td><td>17.71</td><td>17.71</td><td>AAAU</td></tr><tr><th>2</th><td>2020-07-01</td><td>468100</td><td>17.73</td><td>17.73</td><td>17.54</td><td>17.68</td><td>17.68</td><td>AAAU</td></tr><tr><th>3</th><td>2020-06-30</td><td>319100</td><td>17.65</td><td>17.8</td><td>17.61</td><td>17.78</td><td>17.78</td><td>AAAU</td></tr><tr><th>4</th><td>2020-06-29</td><td>405500</td><td>17.67</td><td>17.69</td><td>17.63</td><td>17.68</td><td>17.68</td><td>AAAU</td></tr><tr><th>5</th><td>2020-06-26</td><td>335100</td><td>17.49</td><td>17.67</td><td>17.42</td><td>17.67</td><td>17.67</td><td>AAAU</td></tr><tr><th>6</th><td>2020-06-25</td><td>246800</td><td>17.6</td><td>17.6</td><td>17.52</td><td>17.59</td><td>17.59</td><td>AAAU</td></tr><tr><th>7</th><td>2020-06-24</td><td>329200</td><td>17.61</td><td>17.71</td><td>17.56</td><td>17.61</td><td>17.61</td><td>AAAU</td></tr><tr><th>8</th><td>2020-06-23</td><td>351800</td><td>17.55</td><td>17.66</td><td>17.55</td><td>17.66</td><td>17.66</td><td>AAAU</td></tr><tr><th>9</th><td>2020-06-22</td><td>308300</td><td>17.5</td><td>17.57</td><td>17.44</td><td>17.5</td><td>17.5</td><td>AAAU</td></tr><tr><th>10</th><td>2020-06-19</td><td>153800</td><td>17.27</td><td>17.4</td><td>17.26</td><td>17.4</td><td>17.4</td><td>AAAU</td></tr><tr><th>11</th><td>2020-06-18</td><td>102200</td><td>17.27</td><td>17.27</td><td>17.14</td><td>17.23</td><td>17.23</td><td>AAAU</td></tr><tr><th>12</th><td>2020-06-17</td><td>153900</td><td>17.19</td><td>17.25</td><td>17.16</td><td>17.25</td><td>17.25</td><td>AAAU</td></tr><tr><th>13</th><td>2020-06-16</td><td>165800</td><td>17.15</td><td>17.25</td><td>17.11</td><td>17.21</td><td>17.21</td><td>AAAU</td></tr><tr><th>14</th><td>2020-06-15</td><td>308700</td><td>17.03</td><td>17.23</td><td>17.0</td><td>17.2</td><td>17.2</td><td>AAAU</td></tr><tr><th>15</th><td>2020-06-12</td><td>161400</td><td>17.34</td><td>17.37</td><td>17.25</td><td>17.27</td><td>17.27</td><td>AAAU</td></tr><tr><th>&vellip;</th><td>&vellip;</td><td>&vellip;</td><td>&vellip;</td><td>&vellip;</td><td>&vellip;</td><td>&vellip;</td><td>&vellip;</td><td>&vellip;</td></tr></tbody></table><p>&vellip;</p><p><i>Last Group (1215 rows): symbol = \"ZYXI\"</i></p><table class=\"data-frame\"><thead><tr><th></th><th>date</th><th>volume</th><th>open</th><th>high</th><th>low</th><th>close</th><th>adjclose</th><th>symbol</th></tr><tr><th></th><th>Date</th><th>Int64</th><th>Float64</th><th>Float64</th><th>Float64</th><th>Float64</th><th>Float64</th><th>String</th></tr></thead><tbody><tr><th>1</th><td>2020-07-02</td><td>1072200</td><td>24.54</td><td>26.84</td><td>24.44</td><td>25.12</td><td>25.12</td><td>ZYXI</td></tr><tr><th>2</th><td>2020-07-01</td><td>630100</td><td>24.77</td><td>24.85</td><td>23.95</td><td>24.41</td><td>24.41</td><td>ZYXI</td></tr><tr><th>3</th><td>2020-06-30</td><td>1054800</td><td>23.05</td><td>25.24</td><td>22.81</td><td>24.87</td><td>24.87</td><td>ZYXI</td></tr><tr><th>4</th><td>2020-06-29</td><td>757500</td><td>22.92</td><td>23.46</td><td>21.94</td><td>23.18</td><td>23.18</td><td>ZYXI</td></tr><tr><th>5</th><td>2020-06-26</td><td>1061400</td><td>25.09</td><td>25.14</td><td>22.75</td><td>22.82</td><td>22.82</td><td>ZYXI</td></tr><tr><th>6</th><td>2020-06-25</td><td>901800</td><td>23.41</td><td>25.49</td><td>23.19</td><td>24.74</td><td>24.74</td><td>ZYXI</td></tr><tr><th>7</th><td>2020-06-24</td><td>777900</td><td>23.86</td><td>24.35</td><td>22.59</td><td>23.59</td><td>23.59</td><td>ZYXI</td></tr><tr><th>8</th><td>2020-06-23</td><td>675800</td><td>24.46</td><td>24.72</td><td>23.8</td><td>24.34</td><td>24.34</td><td>ZYXI</td></tr><tr><th>9</th><td>2020-06-22</td><td>821200</td><td>24.48</td><td>24.49</td><td>23.5</td><td>24.44</td><td>24.44</td><td>ZYXI</td></tr><tr><th>10</th><td>2020-06-19</td><td>1892700</td><td>24.5</td><td>25.71</td><td>22.63</td><td>24.06</td><td>24.06</td><td>ZYXI</td></tr><tr><th>11</th><td>2020-06-18</td><td>745200</td><td>24.55</td><td>25.13</td><td>23.71</td><td>24.5</td><td>24.5</td><td>ZYXI</td></tr><tr><th>12</th><td>2020-06-17</td><td>1504800</td><td>26.8</td><td>27.0</td><td>23.21</td><td>24.08</td><td>24.08</td><td>ZYXI</td></tr><tr><th>13</th><td>2020-06-16</td><td>1732900</td><td>24.75</td><td>26.62</td><td>24.48</td><td>25.84</td><td>25.84</td><td>ZYXI</td></tr><tr><th>14</th><td>2020-06-15</td><td>4673800</td><td>20.88</td><td>25.0</td><td>20.68</td><td>24.52</td><td>24.52</td><td>ZYXI</td></tr><tr><th>15</th><td>2020-06-12</td><td>2422600</td><td>24.25</td><td>24.47</td><td>20.76</td><td>22.19</td><td>22.19</td><td>ZYXI</td></tr><tr><th>&vellip;</th><td>&vellip;</td><td>&vellip;</td><td>&vellip;</td><td>&vellip;</td><td>&vellip;</td><td>&vellip;</td><td>&vellip;</td><td>&vellip;</td></tr></tbody></table>"
      ],
      "text/latex": [
       "GroupedDataFrame with 6335 groups based on key: symbol\n",
       "\n",
       "First Group (474 rows): symbol = \"AAAU\"\n",
       "\n",
       "\\begin{tabular}{r|cccccccc}\n",
       "\t& date & volume & open & high & low & close & adjclose & symbol\\\\\n",
       "\t\\hline\n",
       "\t& Date & Int64 & Float64 & Float64 & Float64 & Float64 & Float64 & String\\\\\n",
       "\t\\hline\n",
       "\t1 & 2020-07-02 & 257500 & 17.64 & 17.74 & 17.62 & 17.71 & 17.71 & AAAU \\\\\n",
       "\t2 & 2020-07-01 & 468100 & 17.73 & 17.73 & 17.54 & 17.68 & 17.68 & AAAU \\\\\n",
       "\t3 & 2020-06-30 & 319100 & 17.65 & 17.8 & 17.61 & 17.78 & 17.78 & AAAU \\\\\n",
       "\t4 & 2020-06-29 & 405500 & 17.67 & 17.69 & 17.63 & 17.68 & 17.68 & AAAU \\\\\n",
       "\t5 & 2020-06-26 & 335100 & 17.49 & 17.67 & 17.42 & 17.67 & 17.67 & AAAU \\\\\n",
       "\t6 & 2020-06-25 & 246800 & 17.6 & 17.6 & 17.52 & 17.59 & 17.59 & AAAU \\\\\n",
       "\t7 & 2020-06-24 & 329200 & 17.61 & 17.71 & 17.56 & 17.61 & 17.61 & AAAU \\\\\n",
       "\t8 & 2020-06-23 & 351800 & 17.55 & 17.66 & 17.55 & 17.66 & 17.66 & AAAU \\\\\n",
       "\t9 & 2020-06-22 & 308300 & 17.5 & 17.57 & 17.44 & 17.5 & 17.5 & AAAU \\\\\n",
       "\t10 & 2020-06-19 & 153800 & 17.27 & 17.4 & 17.26 & 17.4 & 17.4 & AAAU \\\\\n",
       "\t11 & 2020-06-18 & 102200 & 17.27 & 17.27 & 17.14 & 17.23 & 17.23 & AAAU \\\\\n",
       "\t12 & 2020-06-17 & 153900 & 17.19 & 17.25 & 17.16 & 17.25 & 17.25 & AAAU \\\\\n",
       "\t13 & 2020-06-16 & 165800 & 17.15 & 17.25 & 17.11 & 17.21 & 17.21 & AAAU \\\\\n",
       "\t14 & 2020-06-15 & 308700 & 17.03 & 17.23 & 17.0 & 17.2 & 17.2 & AAAU \\\\\n",
       "\t15 & 2020-06-12 & 161400 & 17.34 & 17.37 & 17.25 & 17.27 & 17.27 & AAAU \\\\\n",
       "\t$\\dots$ & $\\dots$ & $\\dots$ & $\\dots$ & $\\dots$ & $\\dots$ & $\\dots$ & $\\dots$ & $\\dots$ \\\\\n",
       "\\end{tabular}\n",
       "\n",
       "$\\dots$\n",
       "\n",
       "Last Group (1215 rows): symbol = \"ZYXI\"\n",
       "\n",
       "\\begin{tabular}{r|cccccccc}\n",
       "\t& date & volume & open & high & low & close & adjclose & symbol\\\\\n",
       "\t\\hline\n",
       "\t& Date & Int64 & Float64 & Float64 & Float64 & Float64 & Float64 & String\\\\\n",
       "\t\\hline\n",
       "\t1 & 2020-07-02 & 1072200 & 24.54 & 26.84 & 24.44 & 25.12 & 25.12 & ZYXI \\\\\n",
       "\t2 & 2020-07-01 & 630100 & 24.77 & 24.85 & 23.95 & 24.41 & 24.41 & ZYXI \\\\\n",
       "\t3 & 2020-06-30 & 1054800 & 23.05 & 25.24 & 22.81 & 24.87 & 24.87 & ZYXI \\\\\n",
       "\t4 & 2020-06-29 & 757500 & 22.92 & 23.46 & 21.94 & 23.18 & 23.18 & ZYXI \\\\\n",
       "\t5 & 2020-06-26 & 1061400 & 25.09 & 25.14 & 22.75 & 22.82 & 22.82 & ZYXI \\\\\n",
       "\t6 & 2020-06-25 & 901800 & 23.41 & 25.49 & 23.19 & 24.74 & 24.74 & ZYXI \\\\\n",
       "\t7 & 2020-06-24 & 777900 & 23.86 & 24.35 & 22.59 & 23.59 & 23.59 & ZYXI \\\\\n",
       "\t8 & 2020-06-23 & 675800 & 24.46 & 24.72 & 23.8 & 24.34 & 24.34 & ZYXI \\\\\n",
       "\t9 & 2020-06-22 & 821200 & 24.48 & 24.49 & 23.5 & 24.44 & 24.44 & ZYXI \\\\\n",
       "\t10 & 2020-06-19 & 1892700 & 24.5 & 25.71 & 22.63 & 24.06 & 24.06 & ZYXI \\\\\n",
       "\t11 & 2020-06-18 & 745200 & 24.55 & 25.13 & 23.71 & 24.5 & 24.5 & ZYXI \\\\\n",
       "\t12 & 2020-06-17 & 1504800 & 26.8 & 27.0 & 23.21 & 24.08 & 24.08 & ZYXI \\\\\n",
       "\t13 & 2020-06-16 & 1732900 & 24.75 & 26.62 & 24.48 & 25.84 & 25.84 & ZYXI \\\\\n",
       "\t14 & 2020-06-15 & 4673800 & 20.88 & 25.0 & 20.68 & 24.52 & 24.52 & ZYXI \\\\\n",
       "\t15 & 2020-06-12 & 2422600 & 24.25 & 24.47 & 20.76 & 22.19 & 22.19 & ZYXI \\\\\n",
       "\t$\\dots$ & $\\dots$ & $\\dots$ & $\\dots$ & $\\dots$ & $\\dots$ & $\\dots$ & $\\dots$ & $\\dots$ \\\\\n",
       "\\end{tabular}\n"
      ],
      "text/plain": [
       "GroupedDataFrame with 6335 groups based on key: symbol\n",
       "First Group (474 rows): symbol = \"AAAU\"\n",
       "\u001b[1m Row \u001b[0m│\u001b[1m date       \u001b[0m\u001b[1m volume \u001b[0m\u001b[1m open    \u001b[0m\u001b[1m high    \u001b[0m\u001b[1m low     \u001b[0m\u001b[1m close   \u001b[0m\u001b[1m adjclose \u001b[0m\u001b[1m symbol \u001b[0m\n",
       "\u001b[1m     \u001b[0m│\u001b[90m Date       \u001b[0m\u001b[90m Int64  \u001b[0m\u001b[90m Float64 \u001b[0m\u001b[90m Float64 \u001b[0m\u001b[90m Float64 \u001b[0m\u001b[90m Float64 \u001b[0m\u001b[90m Float64  \u001b[0m\u001b[90m String \u001b[0m\n",
       "─────┼──────────────────────────────────────────────────────────────────────────\n",
       "   1 │ 2020-07-02  257500    17.64    17.74    17.62    17.71     17.71  AAAU\n",
       "   2 │ 2020-07-01  468100    17.73    17.73    17.54    17.68     17.68  AAAU\n",
       "   3 │ 2020-06-30  319100    17.65    17.8     17.61    17.78     17.78  AAAU\n",
       "   4 │ 2020-06-29  405500    17.67    17.69    17.63    17.68     17.68  AAAU\n",
       "  ⋮  │     ⋮         ⋮        ⋮        ⋮        ⋮        ⋮        ⋮        ⋮\n",
       " 472 │ 2018-08-17   52400    11.8     11.82    11.77    11.82     11.82  AAAU\n",
       " 473 │ 2018-08-16  428400    11.78    11.8     11.74    11.74     11.74  AAAU\n",
       " 474 │ 2018-08-15   27300    11.84    11.84    11.74    11.74     11.74  AAAU\n",
       "\u001b[36m                                                                467 rows omitted\u001b[0m\n",
       "⋮\n",
       "Last Group (1215 rows): symbol = \"ZYXI\"\n",
       "\u001b[1m  Row \u001b[0m│\u001b[1m date       \u001b[0m\u001b[1m volume  \u001b[0m\u001b[1m open    \u001b[0m\u001b[1m high    \u001b[0m\u001b[1m low     \u001b[0m\u001b[1m close   \u001b[0m\u001b[1m adjclose  \u001b[0m\u001b[1m symbol \u001b[0m\n",
       "\u001b[1m      \u001b[0m│\u001b[90m Date       \u001b[0m\u001b[90m Int64   \u001b[0m\u001b[90m Float64 \u001b[0m\u001b[90m Float64 \u001b[0m\u001b[90m Float64 \u001b[0m\u001b[90m Float64 \u001b[0m\u001b[90m Float64   \u001b[0m\u001b[90m String \u001b[0m\n",
       "──────┼────────────────────────────────────────────────────────────────────────────\n",
       "    1 │ 2020-07-02  1072200    24.54    26.84    24.44    25.12  25.12      ZYXI\n",
       "    2 │ 2020-07-01   630100    24.77    24.85    23.95    24.41  24.41      ZYXI\n",
       "    3 │ 2020-06-30  1054800    23.05    25.24    22.81    24.87  24.87      ZYXI\n",
       "    4 │ 2020-06-29   757500    22.92    23.46    21.94    23.18  23.18      ZYXI\n",
       "  ⋮   │     ⋮          ⋮        ⋮        ⋮        ⋮        ⋮         ⋮        ⋮\n",
       " 1213 │ 2015-01-07     8100     0.14     0.15     0.13     0.15   0.146038  ZYXI\n",
       " 1214 │ 2015-01-05    33200     0.22     0.22     0.14     0.16   0.155774  ZYXI\n",
       " 1215 │ 2015-01-02      100     0.18     0.18     0.18     0.18   0.175245  ZYXI\n",
       "\u001b[36m                                                                  1208 rows omitted\u001b[0m"
      ]
     },
     "execution_count": 64,
     "metadata": {},
     "output_type": "execute_result"
    }
   ],
   "source": [
    "gdf = groupby(fh5, :symbol)"
   ]
  },
  {
   "cell_type": "code",
   "execution_count": 65,
   "metadata": {},
   "outputs": [
    {
     "data": {
      "text/plain": [
       "6335-element DataFrames.GroupKeys{GroupedDataFrame{DataFrame}}:\n",
       " GroupKey: (symbol = \"AAAU\",)\n",
       " GroupKey: (symbol = \"AACG\",)\n",
       " GroupKey: (symbol = \"AADR\",)\n",
       " GroupKey: (symbol = \"AAL\",)\n",
       " GroupKey: (symbol = \"AAMC\",)\n",
       " ⋮\n",
       " GroupKey: (symbol = \"ZUO\",)\n",
       " GroupKey: (symbol = \"ZVO\",)\n",
       " GroupKey: (symbol = \"ZYME\",)\n",
       " GroupKey: (symbol = \"ZYNE\",)\n",
       " GroupKey: (symbol = \"ZYXI\",)"
      ]
     },
     "execution_count": 65,
     "metadata": {},
     "output_type": "execute_result"
    }
   ],
   "source": [
    "gdf_keys = keys(gdf)"
   ]
  },
  {
   "cell_type": "markdown",
   "metadata": {},
   "source": [
    "As usual - indexing by a single value drops a dimension (you get a `SubDataFrame`)"
   ]
  },
  {
   "cell_type": "code",
   "execution_count": 66,
   "metadata": {},
   "outputs": [
    {
     "data": {
      "text/html": [
       "<table class=\"data-frame\"><thead><tr><th></th><th>date</th><th>volume</th><th>open</th><th>high</th><th>low</th><th>close</th><th>adjclose</th><th>symbol</th></tr><tr><th></th><th>Date</th><th>Int64</th><th>Float64</th><th>Float64</th><th>Float64</th><th>Float64</th><th>Float64</th><th>String</th></tr></thead><tbody><p>474 rows × 8 columns</p><tr><th>1</th><td>2020-07-02</td><td>257500</td><td>17.64</td><td>17.74</td><td>17.62</td><td>17.71</td><td>17.71</td><td>AAAU</td></tr><tr><th>2</th><td>2020-07-01</td><td>468100</td><td>17.73</td><td>17.73</td><td>17.54</td><td>17.68</td><td>17.68</td><td>AAAU</td></tr><tr><th>3</th><td>2020-06-30</td><td>319100</td><td>17.65</td><td>17.8</td><td>17.61</td><td>17.78</td><td>17.78</td><td>AAAU</td></tr><tr><th>4</th><td>2020-06-29</td><td>405500</td><td>17.67</td><td>17.69</td><td>17.63</td><td>17.68</td><td>17.68</td><td>AAAU</td></tr><tr><th>5</th><td>2020-06-26</td><td>335100</td><td>17.49</td><td>17.67</td><td>17.42</td><td>17.67</td><td>17.67</td><td>AAAU</td></tr><tr><th>6</th><td>2020-06-25</td><td>246800</td><td>17.6</td><td>17.6</td><td>17.52</td><td>17.59</td><td>17.59</td><td>AAAU</td></tr><tr><th>7</th><td>2020-06-24</td><td>329200</td><td>17.61</td><td>17.71</td><td>17.56</td><td>17.61</td><td>17.61</td><td>AAAU</td></tr><tr><th>8</th><td>2020-06-23</td><td>351800</td><td>17.55</td><td>17.66</td><td>17.55</td><td>17.66</td><td>17.66</td><td>AAAU</td></tr><tr><th>9</th><td>2020-06-22</td><td>308300</td><td>17.5</td><td>17.57</td><td>17.44</td><td>17.5</td><td>17.5</td><td>AAAU</td></tr><tr><th>10</th><td>2020-06-19</td><td>153800</td><td>17.27</td><td>17.4</td><td>17.26</td><td>17.4</td><td>17.4</td><td>AAAU</td></tr><tr><th>11</th><td>2020-06-18</td><td>102200</td><td>17.27</td><td>17.27</td><td>17.14</td><td>17.23</td><td>17.23</td><td>AAAU</td></tr><tr><th>12</th><td>2020-06-17</td><td>153900</td><td>17.19</td><td>17.25</td><td>17.16</td><td>17.25</td><td>17.25</td><td>AAAU</td></tr><tr><th>13</th><td>2020-06-16</td><td>165800</td><td>17.15</td><td>17.25</td><td>17.11</td><td>17.21</td><td>17.21</td><td>AAAU</td></tr><tr><th>14</th><td>2020-06-15</td><td>308700</td><td>17.03</td><td>17.23</td><td>17.0</td><td>17.2</td><td>17.2</td><td>AAAU</td></tr><tr><th>15</th><td>2020-06-12</td><td>161400</td><td>17.34</td><td>17.37</td><td>17.25</td><td>17.27</td><td>17.27</td><td>AAAU</td></tr><tr><th>&vellip;</th><td>&vellip;</td><td>&vellip;</td><td>&vellip;</td><td>&vellip;</td><td>&vellip;</td><td>&vellip;</td><td>&vellip;</td><td>&vellip;</td></tr></tbody></table>"
      ],
      "text/latex": [
       "\\begin{tabular}{r|cccccccc}\n",
       "\t& date & volume & open & high & low & close & adjclose & symbol\\\\\n",
       "\t\\hline\n",
       "\t& Date & Int64 & Float64 & Float64 & Float64 & Float64 & Float64 & String\\\\\n",
       "\t\\hline\n",
       "\t1 & 2020-07-02 & 257500 & 17.64 & 17.74 & 17.62 & 17.71 & 17.71 & AAAU \\\\\n",
       "\t2 & 2020-07-01 & 468100 & 17.73 & 17.73 & 17.54 & 17.68 & 17.68 & AAAU \\\\\n",
       "\t3 & 2020-06-30 & 319100 & 17.65 & 17.8 & 17.61 & 17.78 & 17.78 & AAAU \\\\\n",
       "\t4 & 2020-06-29 & 405500 & 17.67 & 17.69 & 17.63 & 17.68 & 17.68 & AAAU \\\\\n",
       "\t5 & 2020-06-26 & 335100 & 17.49 & 17.67 & 17.42 & 17.67 & 17.67 & AAAU \\\\\n",
       "\t6 & 2020-06-25 & 246800 & 17.6 & 17.6 & 17.52 & 17.59 & 17.59 & AAAU \\\\\n",
       "\t7 & 2020-06-24 & 329200 & 17.61 & 17.71 & 17.56 & 17.61 & 17.61 & AAAU \\\\\n",
       "\t8 & 2020-06-23 & 351800 & 17.55 & 17.66 & 17.55 & 17.66 & 17.66 & AAAU \\\\\n",
       "\t9 & 2020-06-22 & 308300 & 17.5 & 17.57 & 17.44 & 17.5 & 17.5 & AAAU \\\\\n",
       "\t10 & 2020-06-19 & 153800 & 17.27 & 17.4 & 17.26 & 17.4 & 17.4 & AAAU \\\\\n",
       "\t11 & 2020-06-18 & 102200 & 17.27 & 17.27 & 17.14 & 17.23 & 17.23 & AAAU \\\\\n",
       "\t12 & 2020-06-17 & 153900 & 17.19 & 17.25 & 17.16 & 17.25 & 17.25 & AAAU \\\\\n",
       "\t13 & 2020-06-16 & 165800 & 17.15 & 17.25 & 17.11 & 17.21 & 17.21 & AAAU \\\\\n",
       "\t14 & 2020-06-15 & 308700 & 17.03 & 17.23 & 17.0 & 17.2 & 17.2 & AAAU \\\\\n",
       "\t15 & 2020-06-12 & 161400 & 17.34 & 17.37 & 17.25 & 17.27 & 17.27 & AAAU \\\\\n",
       "\t$\\dots$ & $\\dots$ & $\\dots$ & $\\dots$ & $\\dots$ & $\\dots$ & $\\dots$ & $\\dots$ & $\\dots$ \\\\\n",
       "\\end{tabular}\n"
      ],
      "text/plain": [
       "\u001b[1m474×8 SubDataFrame\u001b[0m\n",
       "\u001b[1m Row \u001b[0m│\u001b[1m date       \u001b[0m\u001b[1m volume \u001b[0m\u001b[1m open    \u001b[0m\u001b[1m high    \u001b[0m\u001b[1m low     \u001b[0m\u001b[1m close   \u001b[0m\u001b[1m adjclose \u001b[0m\u001b[1m symbol \u001b[0m\n",
       "\u001b[1m     \u001b[0m│\u001b[90m Date       \u001b[0m\u001b[90m Int64  \u001b[0m\u001b[90m Float64 \u001b[0m\u001b[90m Float64 \u001b[0m\u001b[90m Float64 \u001b[0m\u001b[90m Float64 \u001b[0m\u001b[90m Float64  \u001b[0m\u001b[90m String \u001b[0m\n",
       "─────┼──────────────────────────────────────────────────────────────────────────\n",
       "   1 │ 2020-07-02  257500    17.64    17.74    17.62    17.71     17.71  AAAU\n",
       "   2 │ 2020-07-01  468100    17.73    17.73    17.54    17.68     17.68  AAAU\n",
       "   3 │ 2020-06-30  319100    17.65    17.8     17.61    17.78     17.78  AAAU\n",
       "  ⋮  │     ⋮         ⋮        ⋮        ⋮        ⋮        ⋮        ⋮        ⋮\n",
       " 472 │ 2018-08-17   52400    11.8     11.82    11.77    11.82     11.82  AAAU\n",
       " 473 │ 2018-08-16  428400    11.78    11.8     11.74    11.74     11.74  AAAU\n",
       " 474 │ 2018-08-15   27300    11.84    11.84    11.74    11.74     11.74  AAAU\n",
       "\u001b[36m                                                                468 rows omitted\u001b[0m"
      ]
     },
     "execution_count": 66,
     "metadata": {},
     "output_type": "execute_result"
    }
   ],
   "source": [
    "gdf[1]"
   ]
  },
  {
   "cell_type": "code",
   "execution_count": 67,
   "metadata": {},
   "outputs": [
    {
     "data": {
      "text/plain": [
       "GroupKey: (symbol = \"AAAU\",)"
      ]
     },
     "execution_count": 67,
     "metadata": {},
     "output_type": "execute_result"
    }
   ],
   "source": [
    "gdf_keys[1]"
   ]
  },
  {
   "cell_type": "code",
   "execution_count": 68,
   "metadata": {},
   "outputs": [
    {
     "data": {
      "text/html": [
       "<table class=\"data-frame\"><thead><tr><th></th><th>date</th><th>volume</th><th>open</th><th>high</th><th>low</th><th>close</th><th>adjclose</th><th>symbol</th></tr><tr><th></th><th>Date</th><th>Int64</th><th>Float64</th><th>Float64</th><th>Float64</th><th>Float64</th><th>Float64</th><th>String</th></tr></thead><tbody><p>474 rows × 8 columns</p><tr><th>1</th><td>2020-07-02</td><td>257500</td><td>17.64</td><td>17.74</td><td>17.62</td><td>17.71</td><td>17.71</td><td>AAAU</td></tr><tr><th>2</th><td>2020-07-01</td><td>468100</td><td>17.73</td><td>17.73</td><td>17.54</td><td>17.68</td><td>17.68</td><td>AAAU</td></tr><tr><th>3</th><td>2020-06-30</td><td>319100</td><td>17.65</td><td>17.8</td><td>17.61</td><td>17.78</td><td>17.78</td><td>AAAU</td></tr><tr><th>4</th><td>2020-06-29</td><td>405500</td><td>17.67</td><td>17.69</td><td>17.63</td><td>17.68</td><td>17.68</td><td>AAAU</td></tr><tr><th>5</th><td>2020-06-26</td><td>335100</td><td>17.49</td><td>17.67</td><td>17.42</td><td>17.67</td><td>17.67</td><td>AAAU</td></tr><tr><th>6</th><td>2020-06-25</td><td>246800</td><td>17.6</td><td>17.6</td><td>17.52</td><td>17.59</td><td>17.59</td><td>AAAU</td></tr><tr><th>7</th><td>2020-06-24</td><td>329200</td><td>17.61</td><td>17.71</td><td>17.56</td><td>17.61</td><td>17.61</td><td>AAAU</td></tr><tr><th>8</th><td>2020-06-23</td><td>351800</td><td>17.55</td><td>17.66</td><td>17.55</td><td>17.66</td><td>17.66</td><td>AAAU</td></tr><tr><th>9</th><td>2020-06-22</td><td>308300</td><td>17.5</td><td>17.57</td><td>17.44</td><td>17.5</td><td>17.5</td><td>AAAU</td></tr><tr><th>10</th><td>2020-06-19</td><td>153800</td><td>17.27</td><td>17.4</td><td>17.26</td><td>17.4</td><td>17.4</td><td>AAAU</td></tr><tr><th>11</th><td>2020-06-18</td><td>102200</td><td>17.27</td><td>17.27</td><td>17.14</td><td>17.23</td><td>17.23</td><td>AAAU</td></tr><tr><th>12</th><td>2020-06-17</td><td>153900</td><td>17.19</td><td>17.25</td><td>17.16</td><td>17.25</td><td>17.25</td><td>AAAU</td></tr><tr><th>13</th><td>2020-06-16</td><td>165800</td><td>17.15</td><td>17.25</td><td>17.11</td><td>17.21</td><td>17.21</td><td>AAAU</td></tr><tr><th>14</th><td>2020-06-15</td><td>308700</td><td>17.03</td><td>17.23</td><td>17.0</td><td>17.2</td><td>17.2</td><td>AAAU</td></tr><tr><th>15</th><td>2020-06-12</td><td>161400</td><td>17.34</td><td>17.37</td><td>17.25</td><td>17.27</td><td>17.27</td><td>AAAU</td></tr><tr><th>&vellip;</th><td>&vellip;</td><td>&vellip;</td><td>&vellip;</td><td>&vellip;</td><td>&vellip;</td><td>&vellip;</td><td>&vellip;</td><td>&vellip;</td></tr></tbody></table>"
      ],
      "text/latex": [
       "\\begin{tabular}{r|cccccccc}\n",
       "\t& date & volume & open & high & low & close & adjclose & symbol\\\\\n",
       "\t\\hline\n",
       "\t& Date & Int64 & Float64 & Float64 & Float64 & Float64 & Float64 & String\\\\\n",
       "\t\\hline\n",
       "\t1 & 2020-07-02 & 257500 & 17.64 & 17.74 & 17.62 & 17.71 & 17.71 & AAAU \\\\\n",
       "\t2 & 2020-07-01 & 468100 & 17.73 & 17.73 & 17.54 & 17.68 & 17.68 & AAAU \\\\\n",
       "\t3 & 2020-06-30 & 319100 & 17.65 & 17.8 & 17.61 & 17.78 & 17.78 & AAAU \\\\\n",
       "\t4 & 2020-06-29 & 405500 & 17.67 & 17.69 & 17.63 & 17.68 & 17.68 & AAAU \\\\\n",
       "\t5 & 2020-06-26 & 335100 & 17.49 & 17.67 & 17.42 & 17.67 & 17.67 & AAAU \\\\\n",
       "\t6 & 2020-06-25 & 246800 & 17.6 & 17.6 & 17.52 & 17.59 & 17.59 & AAAU \\\\\n",
       "\t7 & 2020-06-24 & 329200 & 17.61 & 17.71 & 17.56 & 17.61 & 17.61 & AAAU \\\\\n",
       "\t8 & 2020-06-23 & 351800 & 17.55 & 17.66 & 17.55 & 17.66 & 17.66 & AAAU \\\\\n",
       "\t9 & 2020-06-22 & 308300 & 17.5 & 17.57 & 17.44 & 17.5 & 17.5 & AAAU \\\\\n",
       "\t10 & 2020-06-19 & 153800 & 17.27 & 17.4 & 17.26 & 17.4 & 17.4 & AAAU \\\\\n",
       "\t11 & 2020-06-18 & 102200 & 17.27 & 17.27 & 17.14 & 17.23 & 17.23 & AAAU \\\\\n",
       "\t12 & 2020-06-17 & 153900 & 17.19 & 17.25 & 17.16 & 17.25 & 17.25 & AAAU \\\\\n",
       "\t13 & 2020-06-16 & 165800 & 17.15 & 17.25 & 17.11 & 17.21 & 17.21 & AAAU \\\\\n",
       "\t14 & 2020-06-15 & 308700 & 17.03 & 17.23 & 17.0 & 17.2 & 17.2 & AAAU \\\\\n",
       "\t15 & 2020-06-12 & 161400 & 17.34 & 17.37 & 17.25 & 17.27 & 17.27 & AAAU \\\\\n",
       "\t$\\dots$ & $\\dots$ & $\\dots$ & $\\dots$ & $\\dots$ & $\\dots$ & $\\dots$ & $\\dots$ & $\\dots$ \\\\\n",
       "\\end{tabular}\n"
      ],
      "text/plain": [
       "\u001b[1m474×8 SubDataFrame\u001b[0m\n",
       "\u001b[1m Row \u001b[0m│\u001b[1m date       \u001b[0m\u001b[1m volume \u001b[0m\u001b[1m open    \u001b[0m\u001b[1m high    \u001b[0m\u001b[1m low     \u001b[0m\u001b[1m close   \u001b[0m\u001b[1m adjclose \u001b[0m\u001b[1m symbol \u001b[0m\n",
       "\u001b[1m     \u001b[0m│\u001b[90m Date       \u001b[0m\u001b[90m Int64  \u001b[0m\u001b[90m Float64 \u001b[0m\u001b[90m Float64 \u001b[0m\u001b[90m Float64 \u001b[0m\u001b[90m Float64 \u001b[0m\u001b[90m Float64  \u001b[0m\u001b[90m String \u001b[0m\n",
       "─────┼──────────────────────────────────────────────────────────────────────────\n",
       "   1 │ 2020-07-02  257500    17.64    17.74    17.62    17.71     17.71  AAAU\n",
       "   2 │ 2020-07-01  468100    17.73    17.73    17.54    17.68     17.68  AAAU\n",
       "   3 │ 2020-06-30  319100    17.65    17.8     17.61    17.78     17.78  AAAU\n",
       "  ⋮  │     ⋮         ⋮        ⋮        ⋮        ⋮        ⋮        ⋮        ⋮\n",
       " 472 │ 2018-08-17   52400    11.8     11.82    11.77    11.82     11.82  AAAU\n",
       " 473 │ 2018-08-16  428400    11.78    11.8     11.74    11.74     11.74  AAAU\n",
       " 474 │ 2018-08-15   27300    11.84    11.84    11.74    11.74     11.74  AAAU\n",
       "\u001b[36m                                                                468 rows omitted\u001b[0m"
      ]
     },
     "execution_count": 68,
     "metadata": {},
     "output_type": "execute_result"
    }
   ],
   "source": [
    "gdf[gdf_keys[1]]"
   ]
  },
  {
   "cell_type": "code",
   "execution_count": 69,
   "metadata": {},
   "outputs": [
    {
     "data": {
      "text/html": [
       "<table class=\"data-frame\"><thead><tr><th></th><th>date</th><th>volume</th><th>open</th><th>high</th><th>low</th><th>close</th><th>adjclose</th><th>symbol</th></tr><tr><th></th><th>Date</th><th>Int64</th><th>Float64</th><th>Float64</th><th>Float64</th><th>Float64</th><th>Float64</th><th>String</th></tr></thead><tbody><p>474 rows × 8 columns</p><tr><th>1</th><td>2020-07-02</td><td>257500</td><td>17.64</td><td>17.74</td><td>17.62</td><td>17.71</td><td>17.71</td><td>AAAU</td></tr><tr><th>2</th><td>2020-07-01</td><td>468100</td><td>17.73</td><td>17.73</td><td>17.54</td><td>17.68</td><td>17.68</td><td>AAAU</td></tr><tr><th>3</th><td>2020-06-30</td><td>319100</td><td>17.65</td><td>17.8</td><td>17.61</td><td>17.78</td><td>17.78</td><td>AAAU</td></tr><tr><th>4</th><td>2020-06-29</td><td>405500</td><td>17.67</td><td>17.69</td><td>17.63</td><td>17.68</td><td>17.68</td><td>AAAU</td></tr><tr><th>5</th><td>2020-06-26</td><td>335100</td><td>17.49</td><td>17.67</td><td>17.42</td><td>17.67</td><td>17.67</td><td>AAAU</td></tr><tr><th>6</th><td>2020-06-25</td><td>246800</td><td>17.6</td><td>17.6</td><td>17.52</td><td>17.59</td><td>17.59</td><td>AAAU</td></tr><tr><th>7</th><td>2020-06-24</td><td>329200</td><td>17.61</td><td>17.71</td><td>17.56</td><td>17.61</td><td>17.61</td><td>AAAU</td></tr><tr><th>8</th><td>2020-06-23</td><td>351800</td><td>17.55</td><td>17.66</td><td>17.55</td><td>17.66</td><td>17.66</td><td>AAAU</td></tr><tr><th>9</th><td>2020-06-22</td><td>308300</td><td>17.5</td><td>17.57</td><td>17.44</td><td>17.5</td><td>17.5</td><td>AAAU</td></tr><tr><th>10</th><td>2020-06-19</td><td>153800</td><td>17.27</td><td>17.4</td><td>17.26</td><td>17.4</td><td>17.4</td><td>AAAU</td></tr><tr><th>11</th><td>2020-06-18</td><td>102200</td><td>17.27</td><td>17.27</td><td>17.14</td><td>17.23</td><td>17.23</td><td>AAAU</td></tr><tr><th>12</th><td>2020-06-17</td><td>153900</td><td>17.19</td><td>17.25</td><td>17.16</td><td>17.25</td><td>17.25</td><td>AAAU</td></tr><tr><th>13</th><td>2020-06-16</td><td>165800</td><td>17.15</td><td>17.25</td><td>17.11</td><td>17.21</td><td>17.21</td><td>AAAU</td></tr><tr><th>14</th><td>2020-06-15</td><td>308700</td><td>17.03</td><td>17.23</td><td>17.0</td><td>17.2</td><td>17.2</td><td>AAAU</td></tr><tr><th>15</th><td>2020-06-12</td><td>161400</td><td>17.34</td><td>17.37</td><td>17.25</td><td>17.27</td><td>17.27</td><td>AAAU</td></tr><tr><th>&vellip;</th><td>&vellip;</td><td>&vellip;</td><td>&vellip;</td><td>&vellip;</td><td>&vellip;</td><td>&vellip;</td><td>&vellip;</td><td>&vellip;</td></tr></tbody></table>"
      ],
      "text/latex": [
       "\\begin{tabular}{r|cccccccc}\n",
       "\t& date & volume & open & high & low & close & adjclose & symbol\\\\\n",
       "\t\\hline\n",
       "\t& Date & Int64 & Float64 & Float64 & Float64 & Float64 & Float64 & String\\\\\n",
       "\t\\hline\n",
       "\t1 & 2020-07-02 & 257500 & 17.64 & 17.74 & 17.62 & 17.71 & 17.71 & AAAU \\\\\n",
       "\t2 & 2020-07-01 & 468100 & 17.73 & 17.73 & 17.54 & 17.68 & 17.68 & AAAU \\\\\n",
       "\t3 & 2020-06-30 & 319100 & 17.65 & 17.8 & 17.61 & 17.78 & 17.78 & AAAU \\\\\n",
       "\t4 & 2020-06-29 & 405500 & 17.67 & 17.69 & 17.63 & 17.68 & 17.68 & AAAU \\\\\n",
       "\t5 & 2020-06-26 & 335100 & 17.49 & 17.67 & 17.42 & 17.67 & 17.67 & AAAU \\\\\n",
       "\t6 & 2020-06-25 & 246800 & 17.6 & 17.6 & 17.52 & 17.59 & 17.59 & AAAU \\\\\n",
       "\t7 & 2020-06-24 & 329200 & 17.61 & 17.71 & 17.56 & 17.61 & 17.61 & AAAU \\\\\n",
       "\t8 & 2020-06-23 & 351800 & 17.55 & 17.66 & 17.55 & 17.66 & 17.66 & AAAU \\\\\n",
       "\t9 & 2020-06-22 & 308300 & 17.5 & 17.57 & 17.44 & 17.5 & 17.5 & AAAU \\\\\n",
       "\t10 & 2020-06-19 & 153800 & 17.27 & 17.4 & 17.26 & 17.4 & 17.4 & AAAU \\\\\n",
       "\t11 & 2020-06-18 & 102200 & 17.27 & 17.27 & 17.14 & 17.23 & 17.23 & AAAU \\\\\n",
       "\t12 & 2020-06-17 & 153900 & 17.19 & 17.25 & 17.16 & 17.25 & 17.25 & AAAU \\\\\n",
       "\t13 & 2020-06-16 & 165800 & 17.15 & 17.25 & 17.11 & 17.21 & 17.21 & AAAU \\\\\n",
       "\t14 & 2020-06-15 & 308700 & 17.03 & 17.23 & 17.0 & 17.2 & 17.2 & AAAU \\\\\n",
       "\t15 & 2020-06-12 & 161400 & 17.34 & 17.37 & 17.25 & 17.27 & 17.27 & AAAU \\\\\n",
       "\t$\\dots$ & $\\dots$ & $\\dots$ & $\\dots$ & $\\dots$ & $\\dots$ & $\\dots$ & $\\dots$ & $\\dots$ \\\\\n",
       "\\end{tabular}\n"
      ],
      "text/plain": [
       "\u001b[1m474×8 SubDataFrame\u001b[0m\n",
       "\u001b[1m Row \u001b[0m│\u001b[1m date       \u001b[0m\u001b[1m volume \u001b[0m\u001b[1m open    \u001b[0m\u001b[1m high    \u001b[0m\u001b[1m low     \u001b[0m\u001b[1m close   \u001b[0m\u001b[1m adjclose \u001b[0m\u001b[1m symbol \u001b[0m\n",
       "\u001b[1m     \u001b[0m│\u001b[90m Date       \u001b[0m\u001b[90m Int64  \u001b[0m\u001b[90m Float64 \u001b[0m\u001b[90m Float64 \u001b[0m\u001b[90m Float64 \u001b[0m\u001b[90m Float64 \u001b[0m\u001b[90m Float64  \u001b[0m\u001b[90m String \u001b[0m\n",
       "─────┼──────────────────────────────────────────────────────────────────────────\n",
       "   1 │ 2020-07-02  257500    17.64    17.74    17.62    17.71     17.71  AAAU\n",
       "   2 │ 2020-07-01  468100    17.73    17.73    17.54    17.68     17.68  AAAU\n",
       "   3 │ 2020-06-30  319100    17.65    17.8     17.61    17.78     17.78  AAAU\n",
       "  ⋮  │     ⋮         ⋮        ⋮        ⋮        ⋮        ⋮        ⋮        ⋮\n",
       " 472 │ 2018-08-17   52400    11.8     11.82    11.77    11.82     11.82  AAAU\n",
       " 473 │ 2018-08-16  428400    11.78    11.8     11.74    11.74     11.74  AAAU\n",
       " 474 │ 2018-08-15   27300    11.84    11.84    11.74    11.74     11.74  AAAU\n",
       "\u001b[36m                                                                468 rows omitted\u001b[0m"
      ]
     },
     "execution_count": 69,
     "metadata": {},
     "output_type": "execute_result"
    }
   ],
   "source": [
    "gdf[(symbol=\"AAAU\",)]"
   ]
  },
  {
   "cell_type": "code",
   "execution_count": 70,
   "metadata": {},
   "outputs": [
    {
     "data": {
      "text/html": [
       "<table class=\"data-frame\"><thead><tr><th></th><th>date</th><th>volume</th><th>open</th><th>high</th><th>low</th><th>close</th><th>adjclose</th><th>symbol</th></tr><tr><th></th><th>Date</th><th>Int64</th><th>Float64</th><th>Float64</th><th>Float64</th><th>Float64</th><th>Float64</th><th>String</th></tr></thead><tbody><p>474 rows × 8 columns</p><tr><th>1</th><td>2020-07-02</td><td>257500</td><td>17.64</td><td>17.74</td><td>17.62</td><td>17.71</td><td>17.71</td><td>AAAU</td></tr><tr><th>2</th><td>2020-07-01</td><td>468100</td><td>17.73</td><td>17.73</td><td>17.54</td><td>17.68</td><td>17.68</td><td>AAAU</td></tr><tr><th>3</th><td>2020-06-30</td><td>319100</td><td>17.65</td><td>17.8</td><td>17.61</td><td>17.78</td><td>17.78</td><td>AAAU</td></tr><tr><th>4</th><td>2020-06-29</td><td>405500</td><td>17.67</td><td>17.69</td><td>17.63</td><td>17.68</td><td>17.68</td><td>AAAU</td></tr><tr><th>5</th><td>2020-06-26</td><td>335100</td><td>17.49</td><td>17.67</td><td>17.42</td><td>17.67</td><td>17.67</td><td>AAAU</td></tr><tr><th>6</th><td>2020-06-25</td><td>246800</td><td>17.6</td><td>17.6</td><td>17.52</td><td>17.59</td><td>17.59</td><td>AAAU</td></tr><tr><th>7</th><td>2020-06-24</td><td>329200</td><td>17.61</td><td>17.71</td><td>17.56</td><td>17.61</td><td>17.61</td><td>AAAU</td></tr><tr><th>8</th><td>2020-06-23</td><td>351800</td><td>17.55</td><td>17.66</td><td>17.55</td><td>17.66</td><td>17.66</td><td>AAAU</td></tr><tr><th>9</th><td>2020-06-22</td><td>308300</td><td>17.5</td><td>17.57</td><td>17.44</td><td>17.5</td><td>17.5</td><td>AAAU</td></tr><tr><th>10</th><td>2020-06-19</td><td>153800</td><td>17.27</td><td>17.4</td><td>17.26</td><td>17.4</td><td>17.4</td><td>AAAU</td></tr><tr><th>11</th><td>2020-06-18</td><td>102200</td><td>17.27</td><td>17.27</td><td>17.14</td><td>17.23</td><td>17.23</td><td>AAAU</td></tr><tr><th>12</th><td>2020-06-17</td><td>153900</td><td>17.19</td><td>17.25</td><td>17.16</td><td>17.25</td><td>17.25</td><td>AAAU</td></tr><tr><th>13</th><td>2020-06-16</td><td>165800</td><td>17.15</td><td>17.25</td><td>17.11</td><td>17.21</td><td>17.21</td><td>AAAU</td></tr><tr><th>14</th><td>2020-06-15</td><td>308700</td><td>17.03</td><td>17.23</td><td>17.0</td><td>17.2</td><td>17.2</td><td>AAAU</td></tr><tr><th>15</th><td>2020-06-12</td><td>161400</td><td>17.34</td><td>17.37</td><td>17.25</td><td>17.27</td><td>17.27</td><td>AAAU</td></tr><tr><th>&vellip;</th><td>&vellip;</td><td>&vellip;</td><td>&vellip;</td><td>&vellip;</td><td>&vellip;</td><td>&vellip;</td><td>&vellip;</td><td>&vellip;</td></tr></tbody></table>"
      ],
      "text/latex": [
       "\\begin{tabular}{r|cccccccc}\n",
       "\t& date & volume & open & high & low & close & adjclose & symbol\\\\\n",
       "\t\\hline\n",
       "\t& Date & Int64 & Float64 & Float64 & Float64 & Float64 & Float64 & String\\\\\n",
       "\t\\hline\n",
       "\t1 & 2020-07-02 & 257500 & 17.64 & 17.74 & 17.62 & 17.71 & 17.71 & AAAU \\\\\n",
       "\t2 & 2020-07-01 & 468100 & 17.73 & 17.73 & 17.54 & 17.68 & 17.68 & AAAU \\\\\n",
       "\t3 & 2020-06-30 & 319100 & 17.65 & 17.8 & 17.61 & 17.78 & 17.78 & AAAU \\\\\n",
       "\t4 & 2020-06-29 & 405500 & 17.67 & 17.69 & 17.63 & 17.68 & 17.68 & AAAU \\\\\n",
       "\t5 & 2020-06-26 & 335100 & 17.49 & 17.67 & 17.42 & 17.67 & 17.67 & AAAU \\\\\n",
       "\t6 & 2020-06-25 & 246800 & 17.6 & 17.6 & 17.52 & 17.59 & 17.59 & AAAU \\\\\n",
       "\t7 & 2020-06-24 & 329200 & 17.61 & 17.71 & 17.56 & 17.61 & 17.61 & AAAU \\\\\n",
       "\t8 & 2020-06-23 & 351800 & 17.55 & 17.66 & 17.55 & 17.66 & 17.66 & AAAU \\\\\n",
       "\t9 & 2020-06-22 & 308300 & 17.5 & 17.57 & 17.44 & 17.5 & 17.5 & AAAU \\\\\n",
       "\t10 & 2020-06-19 & 153800 & 17.27 & 17.4 & 17.26 & 17.4 & 17.4 & AAAU \\\\\n",
       "\t11 & 2020-06-18 & 102200 & 17.27 & 17.27 & 17.14 & 17.23 & 17.23 & AAAU \\\\\n",
       "\t12 & 2020-06-17 & 153900 & 17.19 & 17.25 & 17.16 & 17.25 & 17.25 & AAAU \\\\\n",
       "\t13 & 2020-06-16 & 165800 & 17.15 & 17.25 & 17.11 & 17.21 & 17.21 & AAAU \\\\\n",
       "\t14 & 2020-06-15 & 308700 & 17.03 & 17.23 & 17.0 & 17.2 & 17.2 & AAAU \\\\\n",
       "\t15 & 2020-06-12 & 161400 & 17.34 & 17.37 & 17.25 & 17.27 & 17.27 & AAAU \\\\\n",
       "\t$\\dots$ & $\\dots$ & $\\dots$ & $\\dots$ & $\\dots$ & $\\dots$ & $\\dots$ & $\\dots$ & $\\dots$ \\\\\n",
       "\\end{tabular}\n"
      ],
      "text/plain": [
       "\u001b[1m474×8 SubDataFrame\u001b[0m\n",
       "\u001b[1m Row \u001b[0m│\u001b[1m date       \u001b[0m\u001b[1m volume \u001b[0m\u001b[1m open    \u001b[0m\u001b[1m high    \u001b[0m\u001b[1m low     \u001b[0m\u001b[1m close   \u001b[0m\u001b[1m adjclose \u001b[0m\u001b[1m symbol \u001b[0m\n",
       "\u001b[1m     \u001b[0m│\u001b[90m Date       \u001b[0m\u001b[90m Int64  \u001b[0m\u001b[90m Float64 \u001b[0m\u001b[90m Float64 \u001b[0m\u001b[90m Float64 \u001b[0m\u001b[90m Float64 \u001b[0m\u001b[90m Float64  \u001b[0m\u001b[90m String \u001b[0m\n",
       "─────┼──────────────────────────────────────────────────────────────────────────\n",
       "   1 │ 2020-07-02  257500    17.64    17.74    17.62    17.71     17.71  AAAU\n",
       "   2 │ 2020-07-01  468100    17.73    17.73    17.54    17.68     17.68  AAAU\n",
       "   3 │ 2020-06-30  319100    17.65    17.8     17.61    17.78     17.78  AAAU\n",
       "  ⋮  │     ⋮         ⋮        ⋮        ⋮        ⋮        ⋮        ⋮        ⋮\n",
       " 472 │ 2018-08-17   52400    11.8     11.82    11.77    11.82     11.82  AAAU\n",
       " 473 │ 2018-08-16  428400    11.78    11.8     11.74    11.74     11.74  AAAU\n",
       " 474 │ 2018-08-15   27300    11.84    11.84    11.74    11.74     11.74  AAAU\n",
       "\u001b[36m                                                                468 rows omitted\u001b[0m"
      ]
     },
     "execution_count": 70,
     "metadata": {},
     "output_type": "execute_result"
    }
   ],
   "source": [
    "gdf[(\"AAAU\",)]"
   ]
  },
  {
   "cell_type": "markdown",
   "metadata": {},
   "source": [
    "And indexing by a collection produces a subsetted `GroupedDataFrame`:"
   ]
  },
  {
   "cell_type": "code",
   "execution_count": 71,
   "metadata": {},
   "outputs": [
    {
     "data": {
      "text/html": [
       "<p><b>GroupedDataFrame with 2 groups based on key: symbol</b></p><p><i>First Group (474 rows): symbol = \"AAAU\"</i></p><table class=\"data-frame\"><thead><tr><th></th><th>date</th><th>volume</th><th>open</th><th>high</th><th>low</th><th>close</th><th>adjclose</th><th>symbol</th></tr><tr><th></th><th>Date</th><th>Int64</th><th>Float64</th><th>Float64</th><th>Float64</th><th>Float64</th><th>Float64</th><th>String</th></tr></thead><tbody><tr><th>1</th><td>2020-07-02</td><td>257500</td><td>17.64</td><td>17.74</td><td>17.62</td><td>17.71</td><td>17.71</td><td>AAAU</td></tr><tr><th>2</th><td>2020-07-01</td><td>468100</td><td>17.73</td><td>17.73</td><td>17.54</td><td>17.68</td><td>17.68</td><td>AAAU</td></tr><tr><th>3</th><td>2020-06-30</td><td>319100</td><td>17.65</td><td>17.8</td><td>17.61</td><td>17.78</td><td>17.78</td><td>AAAU</td></tr><tr><th>4</th><td>2020-06-29</td><td>405500</td><td>17.67</td><td>17.69</td><td>17.63</td><td>17.68</td><td>17.68</td><td>AAAU</td></tr><tr><th>5</th><td>2020-06-26</td><td>335100</td><td>17.49</td><td>17.67</td><td>17.42</td><td>17.67</td><td>17.67</td><td>AAAU</td></tr><tr><th>6</th><td>2020-06-25</td><td>246800</td><td>17.6</td><td>17.6</td><td>17.52</td><td>17.59</td><td>17.59</td><td>AAAU</td></tr><tr><th>7</th><td>2020-06-24</td><td>329200</td><td>17.61</td><td>17.71</td><td>17.56</td><td>17.61</td><td>17.61</td><td>AAAU</td></tr><tr><th>8</th><td>2020-06-23</td><td>351800</td><td>17.55</td><td>17.66</td><td>17.55</td><td>17.66</td><td>17.66</td><td>AAAU</td></tr><tr><th>9</th><td>2020-06-22</td><td>308300</td><td>17.5</td><td>17.57</td><td>17.44</td><td>17.5</td><td>17.5</td><td>AAAU</td></tr><tr><th>10</th><td>2020-06-19</td><td>153800</td><td>17.27</td><td>17.4</td><td>17.26</td><td>17.4</td><td>17.4</td><td>AAAU</td></tr><tr><th>11</th><td>2020-06-18</td><td>102200</td><td>17.27</td><td>17.27</td><td>17.14</td><td>17.23</td><td>17.23</td><td>AAAU</td></tr><tr><th>12</th><td>2020-06-17</td><td>153900</td><td>17.19</td><td>17.25</td><td>17.16</td><td>17.25</td><td>17.25</td><td>AAAU</td></tr><tr><th>13</th><td>2020-06-16</td><td>165800</td><td>17.15</td><td>17.25</td><td>17.11</td><td>17.21</td><td>17.21</td><td>AAAU</td></tr><tr><th>14</th><td>2020-06-15</td><td>308700</td><td>17.03</td><td>17.23</td><td>17.0</td><td>17.2</td><td>17.2</td><td>AAAU</td></tr><tr><th>15</th><td>2020-06-12</td><td>161400</td><td>17.34</td><td>17.37</td><td>17.25</td><td>17.27</td><td>17.27</td><td>AAAU</td></tr><tr><th>&vellip;</th><td>&vellip;</td><td>&vellip;</td><td>&vellip;</td><td>&vellip;</td><td>&vellip;</td><td>&vellip;</td><td>&vellip;</td><td>&vellip;</td></tr></tbody></table><p>&vellip;</p><p><i>Last Group (333 rows): symbol = \"AACG\"</i></p><table class=\"data-frame\"><thead><tr><th></th><th>date</th><th>volume</th><th>open</th><th>high</th><th>low</th><th>close</th><th>adjclose</th><th>symbol</th></tr><tr><th></th><th>Date</th><th>Int64</th><th>Float64</th><th>Float64</th><th>Float64</th><th>Float64</th><th>Float64</th><th>String</th></tr></thead><tbody><tr><th>1</th><td>2020-07-02</td><td>46800</td><td>1.3</td><td>1.39</td><td>1.3</td><td>1.31</td><td>1.31</td><td>AACG</td></tr><tr><th>2</th><td>2020-07-01</td><td>95400</td><td>1.25</td><td>1.4</td><td>1.18</td><td>1.31</td><td>1.31</td><td>AACG</td></tr><tr><th>3</th><td>2020-06-30</td><td>40200</td><td>1.16</td><td>1.27</td><td>1.16</td><td>1.26</td><td>1.26</td><td>AACG</td></tr><tr><th>4</th><td>2020-06-29</td><td>46900</td><td>1.15</td><td>1.25</td><td>1.15</td><td>1.17</td><td>1.17</td><td>AACG</td></tr><tr><th>5</th><td>2020-06-26</td><td>43700</td><td>1.12</td><td>1.18</td><td>1.12</td><td>1.15</td><td>1.15</td><td>AACG</td></tr><tr><th>6</th><td>2020-06-25</td><td>72900</td><td>1.22</td><td>1.25</td><td>1.11</td><td>1.23</td><td>1.23</td><td>AACG</td></tr><tr><th>7</th><td>2020-06-24</td><td>80400</td><td>1.14</td><td>1.3</td><td>1.14</td><td>1.25</td><td>1.25</td><td>AACG</td></tr><tr><th>8</th><td>2020-06-23</td><td>57000</td><td>1.19</td><td>1.22</td><td>1.14</td><td>1.17</td><td>1.17</td><td>AACG</td></tr><tr><th>9</th><td>2020-06-22</td><td>115500</td><td>1.0</td><td>1.17</td><td>0.97</td><td>1.14</td><td>1.14</td><td>AACG</td></tr><tr><th>10</th><td>2020-06-19</td><td>52500</td><td>0.96</td><td>1.03</td><td>0.95</td><td>0.95</td><td>0.95</td><td>AACG</td></tr><tr><th>11</th><td>2020-06-18</td><td>113400</td><td>1.08</td><td>1.13</td><td>0.93</td><td>1.0</td><td>1.0</td><td>AACG</td></tr><tr><th>12</th><td>2020-06-17</td><td>136600</td><td>1.26</td><td>1.3</td><td>1.11</td><td>1.12</td><td>1.12</td><td>AACG</td></tr><tr><th>13</th><td>2020-06-16</td><td>1621800</td><td>1.33</td><td>1.8</td><td>1.12</td><td>1.12</td><td>1.12</td><td>AACG</td></tr><tr><th>14</th><td>2020-06-15</td><td>159200</td><td>1.14</td><td>1.36</td><td>1.14</td><td>1.29</td><td>1.29</td><td>AACG</td></tr><tr><th>15</th><td>2020-06-12</td><td>64200</td><td>1.2</td><td>1.23</td><td>1.01</td><td>1.14</td><td>1.14</td><td>AACG</td></tr><tr><th>&vellip;</th><td>&vellip;</td><td>&vellip;</td><td>&vellip;</td><td>&vellip;</td><td>&vellip;</td><td>&vellip;</td><td>&vellip;</td><td>&vellip;</td></tr></tbody></table>"
      ],
      "text/latex": [
       "GroupedDataFrame with 2 groups based on key: symbol\n",
       "\n",
       "First Group (474 rows): symbol = \"AAAU\"\n",
       "\n",
       "\\begin{tabular}{r|cccccccc}\n",
       "\t& date & volume & open & high & low & close & adjclose & symbol\\\\\n",
       "\t\\hline\n",
       "\t& Date & Int64 & Float64 & Float64 & Float64 & Float64 & Float64 & String\\\\\n",
       "\t\\hline\n",
       "\t1 & 2020-07-02 & 257500 & 17.64 & 17.74 & 17.62 & 17.71 & 17.71 & AAAU \\\\\n",
       "\t2 & 2020-07-01 & 468100 & 17.73 & 17.73 & 17.54 & 17.68 & 17.68 & AAAU \\\\\n",
       "\t3 & 2020-06-30 & 319100 & 17.65 & 17.8 & 17.61 & 17.78 & 17.78 & AAAU \\\\\n",
       "\t4 & 2020-06-29 & 405500 & 17.67 & 17.69 & 17.63 & 17.68 & 17.68 & AAAU \\\\\n",
       "\t5 & 2020-06-26 & 335100 & 17.49 & 17.67 & 17.42 & 17.67 & 17.67 & AAAU \\\\\n",
       "\t6 & 2020-06-25 & 246800 & 17.6 & 17.6 & 17.52 & 17.59 & 17.59 & AAAU \\\\\n",
       "\t7 & 2020-06-24 & 329200 & 17.61 & 17.71 & 17.56 & 17.61 & 17.61 & AAAU \\\\\n",
       "\t8 & 2020-06-23 & 351800 & 17.55 & 17.66 & 17.55 & 17.66 & 17.66 & AAAU \\\\\n",
       "\t9 & 2020-06-22 & 308300 & 17.5 & 17.57 & 17.44 & 17.5 & 17.5 & AAAU \\\\\n",
       "\t10 & 2020-06-19 & 153800 & 17.27 & 17.4 & 17.26 & 17.4 & 17.4 & AAAU \\\\\n",
       "\t11 & 2020-06-18 & 102200 & 17.27 & 17.27 & 17.14 & 17.23 & 17.23 & AAAU \\\\\n",
       "\t12 & 2020-06-17 & 153900 & 17.19 & 17.25 & 17.16 & 17.25 & 17.25 & AAAU \\\\\n",
       "\t13 & 2020-06-16 & 165800 & 17.15 & 17.25 & 17.11 & 17.21 & 17.21 & AAAU \\\\\n",
       "\t14 & 2020-06-15 & 308700 & 17.03 & 17.23 & 17.0 & 17.2 & 17.2 & AAAU \\\\\n",
       "\t15 & 2020-06-12 & 161400 & 17.34 & 17.37 & 17.25 & 17.27 & 17.27 & AAAU \\\\\n",
       "\t$\\dots$ & $\\dots$ & $\\dots$ & $\\dots$ & $\\dots$ & $\\dots$ & $\\dots$ & $\\dots$ & $\\dots$ \\\\\n",
       "\\end{tabular}\n",
       "\n",
       "$\\dots$\n",
       "\n",
       "Last Group (333 rows): symbol = \"AACG\"\n",
       "\n",
       "\\begin{tabular}{r|cccccccc}\n",
       "\t& date & volume & open & high & low & close & adjclose & symbol\\\\\n",
       "\t\\hline\n",
       "\t& Date & Int64 & Float64 & Float64 & Float64 & Float64 & Float64 & String\\\\\n",
       "\t\\hline\n",
       "\t1 & 2020-07-02 & 46800 & 1.3 & 1.39 & 1.3 & 1.31 & 1.31 & AACG \\\\\n",
       "\t2 & 2020-07-01 & 95400 & 1.25 & 1.4 & 1.18 & 1.31 & 1.31 & AACG \\\\\n",
       "\t3 & 2020-06-30 & 40200 & 1.16 & 1.27 & 1.16 & 1.26 & 1.26 & AACG \\\\\n",
       "\t4 & 2020-06-29 & 46900 & 1.15 & 1.25 & 1.15 & 1.17 & 1.17 & AACG \\\\\n",
       "\t5 & 2020-06-26 & 43700 & 1.12 & 1.18 & 1.12 & 1.15 & 1.15 & AACG \\\\\n",
       "\t6 & 2020-06-25 & 72900 & 1.22 & 1.25 & 1.11 & 1.23 & 1.23 & AACG \\\\\n",
       "\t7 & 2020-06-24 & 80400 & 1.14 & 1.3 & 1.14 & 1.25 & 1.25 & AACG \\\\\n",
       "\t8 & 2020-06-23 & 57000 & 1.19 & 1.22 & 1.14 & 1.17 & 1.17 & AACG \\\\\n",
       "\t9 & 2020-06-22 & 115500 & 1.0 & 1.17 & 0.97 & 1.14 & 1.14 & AACG \\\\\n",
       "\t10 & 2020-06-19 & 52500 & 0.96 & 1.03 & 0.95 & 0.95 & 0.95 & AACG \\\\\n",
       "\t11 & 2020-06-18 & 113400 & 1.08 & 1.13 & 0.93 & 1.0 & 1.0 & AACG \\\\\n",
       "\t12 & 2020-06-17 & 136600 & 1.26 & 1.3 & 1.11 & 1.12 & 1.12 & AACG \\\\\n",
       "\t13 & 2020-06-16 & 1621800 & 1.33 & 1.8 & 1.12 & 1.12 & 1.12 & AACG \\\\\n",
       "\t14 & 2020-06-15 & 159200 & 1.14 & 1.36 & 1.14 & 1.29 & 1.29 & AACG \\\\\n",
       "\t15 & 2020-06-12 & 64200 & 1.2 & 1.23 & 1.01 & 1.14 & 1.14 & AACG \\\\\n",
       "\t$\\dots$ & $\\dots$ & $\\dots$ & $\\dots$ & $\\dots$ & $\\dots$ & $\\dots$ & $\\dots$ & $\\dots$ \\\\\n",
       "\\end{tabular}\n"
      ],
      "text/plain": [
       "GroupedDataFrame with 2 groups based on key: symbol\n",
       "First Group (474 rows): symbol = \"AAAU\"\n",
       "\u001b[1m Row \u001b[0m│\u001b[1m date       \u001b[0m\u001b[1m volume \u001b[0m\u001b[1m open    \u001b[0m\u001b[1m high    \u001b[0m\u001b[1m low     \u001b[0m\u001b[1m close   \u001b[0m\u001b[1m adjclose \u001b[0m\u001b[1m symbol \u001b[0m\n",
       "\u001b[1m     \u001b[0m│\u001b[90m Date       \u001b[0m\u001b[90m Int64  \u001b[0m\u001b[90m Float64 \u001b[0m\u001b[90m Float64 \u001b[0m\u001b[90m Float64 \u001b[0m\u001b[90m Float64 \u001b[0m\u001b[90m Float64  \u001b[0m\u001b[90m String \u001b[0m\n",
       "─────┼──────────────────────────────────────────────────────────────────────────\n",
       "   1 │ 2020-07-02  257500    17.64    17.74    17.62    17.71     17.71  AAAU\n",
       "   2 │ 2020-07-01  468100    17.73    17.73    17.54    17.68     17.68  AAAU\n",
       "   3 │ 2020-06-30  319100    17.65    17.8     17.61    17.78     17.78  AAAU\n",
       "   4 │ 2020-06-29  405500    17.67    17.69    17.63    17.68     17.68  AAAU\n",
       "  ⋮  │     ⋮         ⋮        ⋮        ⋮        ⋮        ⋮        ⋮        ⋮\n",
       " 472 │ 2018-08-17   52400    11.8     11.82    11.77    11.82     11.82  AAAU\n",
       " 473 │ 2018-08-16  428400    11.78    11.8     11.74    11.74     11.74  AAAU\n",
       " 474 │ 2018-08-15   27300    11.84    11.84    11.74    11.74     11.74  AAAU\n",
       "\u001b[36m                                                                467 rows omitted\u001b[0m\n",
       "⋮\n",
       "Last Group (333 rows): symbol = \"AACG\"\n",
       "\u001b[1m Row \u001b[0m│\u001b[1m date       \u001b[0m\u001b[1m volume \u001b[0m\u001b[1m open    \u001b[0m\u001b[1m high    \u001b[0m\u001b[1m low     \u001b[0m\u001b[1m close   \u001b[0m\u001b[1m adjclose \u001b[0m\u001b[1m symbol \u001b[0m\n",
       "\u001b[1m     \u001b[0m│\u001b[90m Date       \u001b[0m\u001b[90m Int64  \u001b[0m\u001b[90m Float64 \u001b[0m\u001b[90m Float64 \u001b[0m\u001b[90m Float64 \u001b[0m\u001b[90m Float64 \u001b[0m\u001b[90m Float64  \u001b[0m\u001b[90m String \u001b[0m\n",
       "─────┼──────────────────────────────────────────────────────────────────────────\n",
       "   1 │ 2020-07-02   46800     1.3      1.39     1.3      1.31      1.31  AACG\n",
       "   2 │ 2020-07-01   95400     1.25     1.4      1.18     1.31      1.31  AACG\n",
       "   3 │ 2020-06-30   40200     1.16     1.27     1.16     1.26      1.26  AACG\n",
       "   4 │ 2020-06-29   46900     1.15     1.25     1.15     1.17      1.17  AACG\n",
       "  ⋮  │     ⋮         ⋮        ⋮        ⋮        ⋮        ⋮        ⋮        ⋮\n",
       " 331 │ 2019-03-13   23100     1.06     1.08     1.04     1.07      1.07  AACG\n",
       " 332 │ 2019-03-12   20200     1.08     1.09     1.05     1.05      1.05  AACG\n",
       " 333 │ 2019-03-11   32100     1.08     1.1      1.08     1.08      1.08  AACG\n",
       "\u001b[36m                                                                326 rows omitted\u001b[0m"
      ]
     },
     "execution_count": 71,
     "metadata": {},
     "output_type": "execute_result"
    }
   ],
   "source": [
    "gdf[1:2]"
   ]
  },
  {
   "cell_type": "code",
   "execution_count": 72,
   "metadata": {},
   "outputs": [
    {
     "data": {
      "text/html": [
       "<p><b>GroupedDataFrame with 2 groups based on key: symbol</b></p><p><i>First Group (474 rows): symbol = \"AAAU\"</i></p><table class=\"data-frame\"><thead><tr><th></th><th>date</th><th>volume</th><th>open</th><th>high</th><th>low</th><th>close</th><th>adjclose</th><th>symbol</th></tr><tr><th></th><th>Date</th><th>Int64</th><th>Float64</th><th>Float64</th><th>Float64</th><th>Float64</th><th>Float64</th><th>String</th></tr></thead><tbody><tr><th>1</th><td>2020-07-02</td><td>257500</td><td>17.64</td><td>17.74</td><td>17.62</td><td>17.71</td><td>17.71</td><td>AAAU</td></tr><tr><th>2</th><td>2020-07-01</td><td>468100</td><td>17.73</td><td>17.73</td><td>17.54</td><td>17.68</td><td>17.68</td><td>AAAU</td></tr><tr><th>3</th><td>2020-06-30</td><td>319100</td><td>17.65</td><td>17.8</td><td>17.61</td><td>17.78</td><td>17.78</td><td>AAAU</td></tr><tr><th>4</th><td>2020-06-29</td><td>405500</td><td>17.67</td><td>17.69</td><td>17.63</td><td>17.68</td><td>17.68</td><td>AAAU</td></tr><tr><th>5</th><td>2020-06-26</td><td>335100</td><td>17.49</td><td>17.67</td><td>17.42</td><td>17.67</td><td>17.67</td><td>AAAU</td></tr><tr><th>6</th><td>2020-06-25</td><td>246800</td><td>17.6</td><td>17.6</td><td>17.52</td><td>17.59</td><td>17.59</td><td>AAAU</td></tr><tr><th>7</th><td>2020-06-24</td><td>329200</td><td>17.61</td><td>17.71</td><td>17.56</td><td>17.61</td><td>17.61</td><td>AAAU</td></tr><tr><th>8</th><td>2020-06-23</td><td>351800</td><td>17.55</td><td>17.66</td><td>17.55</td><td>17.66</td><td>17.66</td><td>AAAU</td></tr><tr><th>9</th><td>2020-06-22</td><td>308300</td><td>17.5</td><td>17.57</td><td>17.44</td><td>17.5</td><td>17.5</td><td>AAAU</td></tr><tr><th>10</th><td>2020-06-19</td><td>153800</td><td>17.27</td><td>17.4</td><td>17.26</td><td>17.4</td><td>17.4</td><td>AAAU</td></tr><tr><th>11</th><td>2020-06-18</td><td>102200</td><td>17.27</td><td>17.27</td><td>17.14</td><td>17.23</td><td>17.23</td><td>AAAU</td></tr><tr><th>12</th><td>2020-06-17</td><td>153900</td><td>17.19</td><td>17.25</td><td>17.16</td><td>17.25</td><td>17.25</td><td>AAAU</td></tr><tr><th>13</th><td>2020-06-16</td><td>165800</td><td>17.15</td><td>17.25</td><td>17.11</td><td>17.21</td><td>17.21</td><td>AAAU</td></tr><tr><th>14</th><td>2020-06-15</td><td>308700</td><td>17.03</td><td>17.23</td><td>17.0</td><td>17.2</td><td>17.2</td><td>AAAU</td></tr><tr><th>15</th><td>2020-06-12</td><td>161400</td><td>17.34</td><td>17.37</td><td>17.25</td><td>17.27</td><td>17.27</td><td>AAAU</td></tr><tr><th>&vellip;</th><td>&vellip;</td><td>&vellip;</td><td>&vellip;</td><td>&vellip;</td><td>&vellip;</td><td>&vellip;</td><td>&vellip;</td><td>&vellip;</td></tr></tbody></table><p>&vellip;</p><p><i>Last Group (333 rows): symbol = \"AACG\"</i></p><table class=\"data-frame\"><thead><tr><th></th><th>date</th><th>volume</th><th>open</th><th>high</th><th>low</th><th>close</th><th>adjclose</th><th>symbol</th></tr><tr><th></th><th>Date</th><th>Int64</th><th>Float64</th><th>Float64</th><th>Float64</th><th>Float64</th><th>Float64</th><th>String</th></tr></thead><tbody><tr><th>1</th><td>2020-07-02</td><td>46800</td><td>1.3</td><td>1.39</td><td>1.3</td><td>1.31</td><td>1.31</td><td>AACG</td></tr><tr><th>2</th><td>2020-07-01</td><td>95400</td><td>1.25</td><td>1.4</td><td>1.18</td><td>1.31</td><td>1.31</td><td>AACG</td></tr><tr><th>3</th><td>2020-06-30</td><td>40200</td><td>1.16</td><td>1.27</td><td>1.16</td><td>1.26</td><td>1.26</td><td>AACG</td></tr><tr><th>4</th><td>2020-06-29</td><td>46900</td><td>1.15</td><td>1.25</td><td>1.15</td><td>1.17</td><td>1.17</td><td>AACG</td></tr><tr><th>5</th><td>2020-06-26</td><td>43700</td><td>1.12</td><td>1.18</td><td>1.12</td><td>1.15</td><td>1.15</td><td>AACG</td></tr><tr><th>6</th><td>2020-06-25</td><td>72900</td><td>1.22</td><td>1.25</td><td>1.11</td><td>1.23</td><td>1.23</td><td>AACG</td></tr><tr><th>7</th><td>2020-06-24</td><td>80400</td><td>1.14</td><td>1.3</td><td>1.14</td><td>1.25</td><td>1.25</td><td>AACG</td></tr><tr><th>8</th><td>2020-06-23</td><td>57000</td><td>1.19</td><td>1.22</td><td>1.14</td><td>1.17</td><td>1.17</td><td>AACG</td></tr><tr><th>9</th><td>2020-06-22</td><td>115500</td><td>1.0</td><td>1.17</td><td>0.97</td><td>1.14</td><td>1.14</td><td>AACG</td></tr><tr><th>10</th><td>2020-06-19</td><td>52500</td><td>0.96</td><td>1.03</td><td>0.95</td><td>0.95</td><td>0.95</td><td>AACG</td></tr><tr><th>11</th><td>2020-06-18</td><td>113400</td><td>1.08</td><td>1.13</td><td>0.93</td><td>1.0</td><td>1.0</td><td>AACG</td></tr><tr><th>12</th><td>2020-06-17</td><td>136600</td><td>1.26</td><td>1.3</td><td>1.11</td><td>1.12</td><td>1.12</td><td>AACG</td></tr><tr><th>13</th><td>2020-06-16</td><td>1621800</td><td>1.33</td><td>1.8</td><td>1.12</td><td>1.12</td><td>1.12</td><td>AACG</td></tr><tr><th>14</th><td>2020-06-15</td><td>159200</td><td>1.14</td><td>1.36</td><td>1.14</td><td>1.29</td><td>1.29</td><td>AACG</td></tr><tr><th>15</th><td>2020-06-12</td><td>64200</td><td>1.2</td><td>1.23</td><td>1.01</td><td>1.14</td><td>1.14</td><td>AACG</td></tr><tr><th>&vellip;</th><td>&vellip;</td><td>&vellip;</td><td>&vellip;</td><td>&vellip;</td><td>&vellip;</td><td>&vellip;</td><td>&vellip;</td><td>&vellip;</td></tr></tbody></table>"
      ],
      "text/latex": [
       "GroupedDataFrame with 2 groups based on key: symbol\n",
       "\n",
       "First Group (474 rows): symbol = \"AAAU\"\n",
       "\n",
       "\\begin{tabular}{r|cccccccc}\n",
       "\t& date & volume & open & high & low & close & adjclose & symbol\\\\\n",
       "\t\\hline\n",
       "\t& Date & Int64 & Float64 & Float64 & Float64 & Float64 & Float64 & String\\\\\n",
       "\t\\hline\n",
       "\t1 & 2020-07-02 & 257500 & 17.64 & 17.74 & 17.62 & 17.71 & 17.71 & AAAU \\\\\n",
       "\t2 & 2020-07-01 & 468100 & 17.73 & 17.73 & 17.54 & 17.68 & 17.68 & AAAU \\\\\n",
       "\t3 & 2020-06-30 & 319100 & 17.65 & 17.8 & 17.61 & 17.78 & 17.78 & AAAU \\\\\n",
       "\t4 & 2020-06-29 & 405500 & 17.67 & 17.69 & 17.63 & 17.68 & 17.68 & AAAU \\\\\n",
       "\t5 & 2020-06-26 & 335100 & 17.49 & 17.67 & 17.42 & 17.67 & 17.67 & AAAU \\\\\n",
       "\t6 & 2020-06-25 & 246800 & 17.6 & 17.6 & 17.52 & 17.59 & 17.59 & AAAU \\\\\n",
       "\t7 & 2020-06-24 & 329200 & 17.61 & 17.71 & 17.56 & 17.61 & 17.61 & AAAU \\\\\n",
       "\t8 & 2020-06-23 & 351800 & 17.55 & 17.66 & 17.55 & 17.66 & 17.66 & AAAU \\\\\n",
       "\t9 & 2020-06-22 & 308300 & 17.5 & 17.57 & 17.44 & 17.5 & 17.5 & AAAU \\\\\n",
       "\t10 & 2020-06-19 & 153800 & 17.27 & 17.4 & 17.26 & 17.4 & 17.4 & AAAU \\\\\n",
       "\t11 & 2020-06-18 & 102200 & 17.27 & 17.27 & 17.14 & 17.23 & 17.23 & AAAU \\\\\n",
       "\t12 & 2020-06-17 & 153900 & 17.19 & 17.25 & 17.16 & 17.25 & 17.25 & AAAU \\\\\n",
       "\t13 & 2020-06-16 & 165800 & 17.15 & 17.25 & 17.11 & 17.21 & 17.21 & AAAU \\\\\n",
       "\t14 & 2020-06-15 & 308700 & 17.03 & 17.23 & 17.0 & 17.2 & 17.2 & AAAU \\\\\n",
       "\t15 & 2020-06-12 & 161400 & 17.34 & 17.37 & 17.25 & 17.27 & 17.27 & AAAU \\\\\n",
       "\t$\\dots$ & $\\dots$ & $\\dots$ & $\\dots$ & $\\dots$ & $\\dots$ & $\\dots$ & $\\dots$ & $\\dots$ \\\\\n",
       "\\end{tabular}\n",
       "\n",
       "$\\dots$\n",
       "\n",
       "Last Group (333 rows): symbol = \"AACG\"\n",
       "\n",
       "\\begin{tabular}{r|cccccccc}\n",
       "\t& date & volume & open & high & low & close & adjclose & symbol\\\\\n",
       "\t\\hline\n",
       "\t& Date & Int64 & Float64 & Float64 & Float64 & Float64 & Float64 & String\\\\\n",
       "\t\\hline\n",
       "\t1 & 2020-07-02 & 46800 & 1.3 & 1.39 & 1.3 & 1.31 & 1.31 & AACG \\\\\n",
       "\t2 & 2020-07-01 & 95400 & 1.25 & 1.4 & 1.18 & 1.31 & 1.31 & AACG \\\\\n",
       "\t3 & 2020-06-30 & 40200 & 1.16 & 1.27 & 1.16 & 1.26 & 1.26 & AACG \\\\\n",
       "\t4 & 2020-06-29 & 46900 & 1.15 & 1.25 & 1.15 & 1.17 & 1.17 & AACG \\\\\n",
       "\t5 & 2020-06-26 & 43700 & 1.12 & 1.18 & 1.12 & 1.15 & 1.15 & AACG \\\\\n",
       "\t6 & 2020-06-25 & 72900 & 1.22 & 1.25 & 1.11 & 1.23 & 1.23 & AACG \\\\\n",
       "\t7 & 2020-06-24 & 80400 & 1.14 & 1.3 & 1.14 & 1.25 & 1.25 & AACG \\\\\n",
       "\t8 & 2020-06-23 & 57000 & 1.19 & 1.22 & 1.14 & 1.17 & 1.17 & AACG \\\\\n",
       "\t9 & 2020-06-22 & 115500 & 1.0 & 1.17 & 0.97 & 1.14 & 1.14 & AACG \\\\\n",
       "\t10 & 2020-06-19 & 52500 & 0.96 & 1.03 & 0.95 & 0.95 & 0.95 & AACG \\\\\n",
       "\t11 & 2020-06-18 & 113400 & 1.08 & 1.13 & 0.93 & 1.0 & 1.0 & AACG \\\\\n",
       "\t12 & 2020-06-17 & 136600 & 1.26 & 1.3 & 1.11 & 1.12 & 1.12 & AACG \\\\\n",
       "\t13 & 2020-06-16 & 1621800 & 1.33 & 1.8 & 1.12 & 1.12 & 1.12 & AACG \\\\\n",
       "\t14 & 2020-06-15 & 159200 & 1.14 & 1.36 & 1.14 & 1.29 & 1.29 & AACG \\\\\n",
       "\t15 & 2020-06-12 & 64200 & 1.2 & 1.23 & 1.01 & 1.14 & 1.14 & AACG \\\\\n",
       "\t$\\dots$ & $\\dots$ & $\\dots$ & $\\dots$ & $\\dots$ & $\\dots$ & $\\dots$ & $\\dots$ & $\\dots$ \\\\\n",
       "\\end{tabular}\n"
      ],
      "text/plain": [
       "GroupedDataFrame with 2 groups based on key: symbol\n",
       "First Group (474 rows): symbol = \"AAAU\"\n",
       "\u001b[1m Row \u001b[0m│\u001b[1m date       \u001b[0m\u001b[1m volume \u001b[0m\u001b[1m open    \u001b[0m\u001b[1m high    \u001b[0m\u001b[1m low     \u001b[0m\u001b[1m close   \u001b[0m\u001b[1m adjclose \u001b[0m\u001b[1m symbol \u001b[0m\n",
       "\u001b[1m     \u001b[0m│\u001b[90m Date       \u001b[0m\u001b[90m Int64  \u001b[0m\u001b[90m Float64 \u001b[0m\u001b[90m Float64 \u001b[0m\u001b[90m Float64 \u001b[0m\u001b[90m Float64 \u001b[0m\u001b[90m Float64  \u001b[0m\u001b[90m String \u001b[0m\n",
       "─────┼──────────────────────────────────────────────────────────────────────────\n",
       "   1 │ 2020-07-02  257500    17.64    17.74    17.62    17.71     17.71  AAAU\n",
       "   2 │ 2020-07-01  468100    17.73    17.73    17.54    17.68     17.68  AAAU\n",
       "   3 │ 2020-06-30  319100    17.65    17.8     17.61    17.78     17.78  AAAU\n",
       "   4 │ 2020-06-29  405500    17.67    17.69    17.63    17.68     17.68  AAAU\n",
       "  ⋮  │     ⋮         ⋮        ⋮        ⋮        ⋮        ⋮        ⋮        ⋮\n",
       " 472 │ 2018-08-17   52400    11.8     11.82    11.77    11.82     11.82  AAAU\n",
       " 473 │ 2018-08-16  428400    11.78    11.8     11.74    11.74     11.74  AAAU\n",
       " 474 │ 2018-08-15   27300    11.84    11.84    11.74    11.74     11.74  AAAU\n",
       "\u001b[36m                                                                467 rows omitted\u001b[0m\n",
       "⋮\n",
       "Last Group (333 rows): symbol = \"AACG\"\n",
       "\u001b[1m Row \u001b[0m│\u001b[1m date       \u001b[0m\u001b[1m volume \u001b[0m\u001b[1m open    \u001b[0m\u001b[1m high    \u001b[0m\u001b[1m low     \u001b[0m\u001b[1m close   \u001b[0m\u001b[1m adjclose \u001b[0m\u001b[1m symbol \u001b[0m\n",
       "\u001b[1m     \u001b[0m│\u001b[90m Date       \u001b[0m\u001b[90m Int64  \u001b[0m\u001b[90m Float64 \u001b[0m\u001b[90m Float64 \u001b[0m\u001b[90m Float64 \u001b[0m\u001b[90m Float64 \u001b[0m\u001b[90m Float64  \u001b[0m\u001b[90m String \u001b[0m\n",
       "─────┼──────────────────────────────────────────────────────────────────────────\n",
       "   1 │ 2020-07-02   46800     1.3      1.39     1.3      1.31      1.31  AACG\n",
       "   2 │ 2020-07-01   95400     1.25     1.4      1.18     1.31      1.31  AACG\n",
       "   3 │ 2020-06-30   40200     1.16     1.27     1.16     1.26      1.26  AACG\n",
       "   4 │ 2020-06-29   46900     1.15     1.25     1.15     1.17      1.17  AACG\n",
       "  ⋮  │     ⋮         ⋮        ⋮        ⋮        ⋮        ⋮        ⋮        ⋮\n",
       " 331 │ 2019-03-13   23100     1.06     1.08     1.04     1.07      1.07  AACG\n",
       " 332 │ 2019-03-12   20200     1.08     1.09     1.05     1.05      1.05  AACG\n",
       " 333 │ 2019-03-11   32100     1.08     1.1      1.08     1.08      1.08  AACG\n",
       "\u001b[36m                                                                326 rows omitted\u001b[0m"
      ]
     },
     "execution_count": 72,
     "metadata": {},
     "output_type": "execute_result"
    }
   ],
   "source": [
    "gdf[tuple.([\"AAAU\", \"AACG\"])]"
   ]
  },
  {
   "cell_type": "markdown",
   "metadata": {},
   "source": [
    "Lookup is backed by `Dict` so it is fast."
   ]
  },
  {
   "cell_type": "code",
   "execution_count": 73,
   "metadata": {},
   "outputs": [
    {
     "name": "stdout",
     "output_type": "stream",
     "text": [
      "  609.756 ns (2 allocations: 2.77 KiB)\n"
     ]
    },
    {
     "data": {
      "text/html": [
       "<table class=\"data-frame\"><thead><tr><th></th><th>date</th><th>volume</th><th>open</th><th>high</th><th>low</th><th>close</th><th>adjclose</th><th>symbol</th></tr><tr><th></th><th>Date</th><th>Int64</th><th>Float64</th><th>Float64</th><th>Float64</th><th>Float64</th><th>Float64</th><th>String</th></tr></thead><tbody><p>333 rows × 8 columns</p><tr><th>1</th><td>2020-07-02</td><td>46800</td><td>1.3</td><td>1.39</td><td>1.3</td><td>1.31</td><td>1.31</td><td>AACG</td></tr><tr><th>2</th><td>2020-07-01</td><td>95400</td><td>1.25</td><td>1.4</td><td>1.18</td><td>1.31</td><td>1.31</td><td>AACG</td></tr><tr><th>3</th><td>2020-06-30</td><td>40200</td><td>1.16</td><td>1.27</td><td>1.16</td><td>1.26</td><td>1.26</td><td>AACG</td></tr><tr><th>4</th><td>2020-06-29</td><td>46900</td><td>1.15</td><td>1.25</td><td>1.15</td><td>1.17</td><td>1.17</td><td>AACG</td></tr><tr><th>5</th><td>2020-06-26</td><td>43700</td><td>1.12</td><td>1.18</td><td>1.12</td><td>1.15</td><td>1.15</td><td>AACG</td></tr><tr><th>6</th><td>2020-06-25</td><td>72900</td><td>1.22</td><td>1.25</td><td>1.11</td><td>1.23</td><td>1.23</td><td>AACG</td></tr><tr><th>7</th><td>2020-06-24</td><td>80400</td><td>1.14</td><td>1.3</td><td>1.14</td><td>1.25</td><td>1.25</td><td>AACG</td></tr><tr><th>8</th><td>2020-06-23</td><td>57000</td><td>1.19</td><td>1.22</td><td>1.14</td><td>1.17</td><td>1.17</td><td>AACG</td></tr><tr><th>9</th><td>2020-06-22</td><td>115500</td><td>1.0</td><td>1.17</td><td>0.97</td><td>1.14</td><td>1.14</td><td>AACG</td></tr><tr><th>10</th><td>2020-06-19</td><td>52500</td><td>0.96</td><td>1.03</td><td>0.95</td><td>0.95</td><td>0.95</td><td>AACG</td></tr><tr><th>11</th><td>2020-06-18</td><td>113400</td><td>1.08</td><td>1.13</td><td>0.93</td><td>1.0</td><td>1.0</td><td>AACG</td></tr><tr><th>12</th><td>2020-06-17</td><td>136600</td><td>1.26</td><td>1.3</td><td>1.11</td><td>1.12</td><td>1.12</td><td>AACG</td></tr><tr><th>13</th><td>2020-06-16</td><td>1621800</td><td>1.33</td><td>1.8</td><td>1.12</td><td>1.12</td><td>1.12</td><td>AACG</td></tr><tr><th>14</th><td>2020-06-15</td><td>159200</td><td>1.14</td><td>1.36</td><td>1.14</td><td>1.29</td><td>1.29</td><td>AACG</td></tr><tr><th>15</th><td>2020-06-12</td><td>64200</td><td>1.2</td><td>1.23</td><td>1.01</td><td>1.14</td><td>1.14</td><td>AACG</td></tr><tr><th>&vellip;</th><td>&vellip;</td><td>&vellip;</td><td>&vellip;</td><td>&vellip;</td><td>&vellip;</td><td>&vellip;</td><td>&vellip;</td><td>&vellip;</td></tr></tbody></table>"
      ],
      "text/latex": [
       "\\begin{tabular}{r|cccccccc}\n",
       "\t& date & volume & open & high & low & close & adjclose & symbol\\\\\n",
       "\t\\hline\n",
       "\t& Date & Int64 & Float64 & Float64 & Float64 & Float64 & Float64 & String\\\\\n",
       "\t\\hline\n",
       "\t1 & 2020-07-02 & 46800 & 1.3 & 1.39 & 1.3 & 1.31 & 1.31 & AACG \\\\\n",
       "\t2 & 2020-07-01 & 95400 & 1.25 & 1.4 & 1.18 & 1.31 & 1.31 & AACG \\\\\n",
       "\t3 & 2020-06-30 & 40200 & 1.16 & 1.27 & 1.16 & 1.26 & 1.26 & AACG \\\\\n",
       "\t4 & 2020-06-29 & 46900 & 1.15 & 1.25 & 1.15 & 1.17 & 1.17 & AACG \\\\\n",
       "\t5 & 2020-06-26 & 43700 & 1.12 & 1.18 & 1.12 & 1.15 & 1.15 & AACG \\\\\n",
       "\t6 & 2020-06-25 & 72900 & 1.22 & 1.25 & 1.11 & 1.23 & 1.23 & AACG \\\\\n",
       "\t7 & 2020-06-24 & 80400 & 1.14 & 1.3 & 1.14 & 1.25 & 1.25 & AACG \\\\\n",
       "\t8 & 2020-06-23 & 57000 & 1.19 & 1.22 & 1.14 & 1.17 & 1.17 & AACG \\\\\n",
       "\t9 & 2020-06-22 & 115500 & 1.0 & 1.17 & 0.97 & 1.14 & 1.14 & AACG \\\\\n",
       "\t10 & 2020-06-19 & 52500 & 0.96 & 1.03 & 0.95 & 0.95 & 0.95 & AACG \\\\\n",
       "\t11 & 2020-06-18 & 113400 & 1.08 & 1.13 & 0.93 & 1.0 & 1.0 & AACG \\\\\n",
       "\t12 & 2020-06-17 & 136600 & 1.26 & 1.3 & 1.11 & 1.12 & 1.12 & AACG \\\\\n",
       "\t13 & 2020-06-16 & 1621800 & 1.33 & 1.8 & 1.12 & 1.12 & 1.12 & AACG \\\\\n",
       "\t14 & 2020-06-15 & 159200 & 1.14 & 1.36 & 1.14 & 1.29 & 1.29 & AACG \\\\\n",
       "\t15 & 2020-06-12 & 64200 & 1.2 & 1.23 & 1.01 & 1.14 & 1.14 & AACG \\\\\n",
       "\t$\\dots$ & $\\dots$ & $\\dots$ & $\\dots$ & $\\dots$ & $\\dots$ & $\\dots$ & $\\dots$ & $\\dots$ \\\\\n",
       "\\end{tabular}\n"
      ],
      "text/plain": [
       "\u001b[1m333×8 SubDataFrame\u001b[0m\n",
       "\u001b[1m Row \u001b[0m│\u001b[1m date       \u001b[0m\u001b[1m volume \u001b[0m\u001b[1m open    \u001b[0m\u001b[1m high    \u001b[0m\u001b[1m low     \u001b[0m\u001b[1m close   \u001b[0m\u001b[1m adjclose \u001b[0m\u001b[1m symbol \u001b[0m\n",
       "\u001b[1m     \u001b[0m│\u001b[90m Date       \u001b[0m\u001b[90m Int64  \u001b[0m\u001b[90m Float64 \u001b[0m\u001b[90m Float64 \u001b[0m\u001b[90m Float64 \u001b[0m\u001b[90m Float64 \u001b[0m\u001b[90m Float64  \u001b[0m\u001b[90m String \u001b[0m\n",
       "─────┼──────────────────────────────────────────────────────────────────────────\n",
       "   1 │ 2020-07-02   46800     1.3      1.39     1.3      1.31      1.31  AACG\n",
       "   2 │ 2020-07-01   95400     1.25     1.4      1.18     1.31      1.31  AACG\n",
       "   3 │ 2020-06-30   40200     1.16     1.27     1.16     1.26      1.26  AACG\n",
       "  ⋮  │     ⋮         ⋮        ⋮        ⋮        ⋮        ⋮        ⋮        ⋮\n",
       " 331 │ 2019-03-13   23100     1.06     1.08     1.04     1.07      1.07  AACG\n",
       " 332 │ 2019-03-12   20200     1.08     1.09     1.05     1.05      1.05  AACG\n",
       " 333 │ 2019-03-11   32100     1.08     1.1      1.08     1.08      1.08  AACG\n",
       "\u001b[36m                                                                327 rows omitted\u001b[0m"
      ]
     },
     "execution_count": 73,
     "metadata": {},
     "output_type": "execute_result"
    }
   ],
   "source": [
    "@btime $gdf[(\"AACG\",)]"
   ]
  },
  {
   "cell_type": "code",
   "execution_count": 74,
   "metadata": {},
   "outputs": [
    {
     "name": "stdout",
     "output_type": "stream",
     "text": [
      "  103.738 ms (6852052 allocations: 209.12 MiB)\n"
     ]
    },
    {
     "data": {
      "text/html": [
       "<table class=\"data-frame\"><thead><tr><th></th><th>date</th><th>volume</th><th>open</th><th>high</th><th>low</th><th>close</th><th>adjclose</th><th>symbol</th></tr><tr><th></th><th>Date</th><th>Int64</th><th>Float64</th><th>Float64</th><th>Float64</th><th>Float64</th><th>Float64</th><th>String</th></tr></thead><tbody><p>333 rows × 8 columns</p><tr><th>1</th><td>2020-07-02</td><td>46800</td><td>1.3</td><td>1.39</td><td>1.3</td><td>1.31</td><td>1.31</td><td>AACG</td></tr><tr><th>2</th><td>2020-07-01</td><td>95400</td><td>1.25</td><td>1.4</td><td>1.18</td><td>1.31</td><td>1.31</td><td>AACG</td></tr><tr><th>3</th><td>2020-06-30</td><td>40200</td><td>1.16</td><td>1.27</td><td>1.16</td><td>1.26</td><td>1.26</td><td>AACG</td></tr><tr><th>4</th><td>2020-06-29</td><td>46900</td><td>1.15</td><td>1.25</td><td>1.15</td><td>1.17</td><td>1.17</td><td>AACG</td></tr><tr><th>5</th><td>2020-06-26</td><td>43700</td><td>1.12</td><td>1.18</td><td>1.12</td><td>1.15</td><td>1.15</td><td>AACG</td></tr><tr><th>6</th><td>2020-06-25</td><td>72900</td><td>1.22</td><td>1.25</td><td>1.11</td><td>1.23</td><td>1.23</td><td>AACG</td></tr><tr><th>7</th><td>2020-06-24</td><td>80400</td><td>1.14</td><td>1.3</td><td>1.14</td><td>1.25</td><td>1.25</td><td>AACG</td></tr><tr><th>8</th><td>2020-06-23</td><td>57000</td><td>1.19</td><td>1.22</td><td>1.14</td><td>1.17</td><td>1.17</td><td>AACG</td></tr><tr><th>9</th><td>2020-06-22</td><td>115500</td><td>1.0</td><td>1.17</td><td>0.97</td><td>1.14</td><td>1.14</td><td>AACG</td></tr><tr><th>10</th><td>2020-06-19</td><td>52500</td><td>0.96</td><td>1.03</td><td>0.95</td><td>0.95</td><td>0.95</td><td>AACG</td></tr><tr><th>11</th><td>2020-06-18</td><td>113400</td><td>1.08</td><td>1.13</td><td>0.93</td><td>1.0</td><td>1.0</td><td>AACG</td></tr><tr><th>12</th><td>2020-06-17</td><td>136600</td><td>1.26</td><td>1.3</td><td>1.11</td><td>1.12</td><td>1.12</td><td>AACG</td></tr><tr><th>13</th><td>2020-06-16</td><td>1621800</td><td>1.33</td><td>1.8</td><td>1.12</td><td>1.12</td><td>1.12</td><td>AACG</td></tr><tr><th>14</th><td>2020-06-15</td><td>159200</td><td>1.14</td><td>1.36</td><td>1.14</td><td>1.29</td><td>1.29</td><td>AACG</td></tr><tr><th>15</th><td>2020-06-12</td><td>64200</td><td>1.2</td><td>1.23</td><td>1.01</td><td>1.14</td><td>1.14</td><td>AACG</td></tr><tr><th>&vellip;</th><td>&vellip;</td><td>&vellip;</td><td>&vellip;</td><td>&vellip;</td><td>&vellip;</td><td>&vellip;</td><td>&vellip;</td><td>&vellip;</td></tr></tbody></table>"
      ],
      "text/latex": [
       "\\begin{tabular}{r|cccccccc}\n",
       "\t& date & volume & open & high & low & close & adjclose & symbol\\\\\n",
       "\t\\hline\n",
       "\t& Date & Int64 & Float64 & Float64 & Float64 & Float64 & Float64 & String\\\\\n",
       "\t\\hline\n",
       "\t1 & 2020-07-02 & 46800 & 1.3 & 1.39 & 1.3 & 1.31 & 1.31 & AACG \\\\\n",
       "\t2 & 2020-07-01 & 95400 & 1.25 & 1.4 & 1.18 & 1.31 & 1.31 & AACG \\\\\n",
       "\t3 & 2020-06-30 & 40200 & 1.16 & 1.27 & 1.16 & 1.26 & 1.26 & AACG \\\\\n",
       "\t4 & 2020-06-29 & 46900 & 1.15 & 1.25 & 1.15 & 1.17 & 1.17 & AACG \\\\\n",
       "\t5 & 2020-06-26 & 43700 & 1.12 & 1.18 & 1.12 & 1.15 & 1.15 & AACG \\\\\n",
       "\t6 & 2020-06-25 & 72900 & 1.22 & 1.25 & 1.11 & 1.23 & 1.23 & AACG \\\\\n",
       "\t7 & 2020-06-24 & 80400 & 1.14 & 1.3 & 1.14 & 1.25 & 1.25 & AACG \\\\\n",
       "\t8 & 2020-06-23 & 57000 & 1.19 & 1.22 & 1.14 & 1.17 & 1.17 & AACG \\\\\n",
       "\t9 & 2020-06-22 & 115500 & 1.0 & 1.17 & 0.97 & 1.14 & 1.14 & AACG \\\\\n",
       "\t10 & 2020-06-19 & 52500 & 0.96 & 1.03 & 0.95 & 0.95 & 0.95 & AACG \\\\\n",
       "\t11 & 2020-06-18 & 113400 & 1.08 & 1.13 & 0.93 & 1.0 & 1.0 & AACG \\\\\n",
       "\t12 & 2020-06-17 & 136600 & 1.26 & 1.3 & 1.11 & 1.12 & 1.12 & AACG \\\\\n",
       "\t13 & 2020-06-16 & 1621800 & 1.33 & 1.8 & 1.12 & 1.12 & 1.12 & AACG \\\\\n",
       "\t14 & 2020-06-15 & 159200 & 1.14 & 1.36 & 1.14 & 1.29 & 1.29 & AACG \\\\\n",
       "\t15 & 2020-06-12 & 64200 & 1.2 & 1.23 & 1.01 & 1.14 & 1.14 & AACG \\\\\n",
       "\t$\\dots$ & $\\dots$ & $\\dots$ & $\\dots$ & $\\dots$ & $\\dots$ & $\\dots$ & $\\dots$ & $\\dots$ \\\\\n",
       "\\end{tabular}\n"
      ],
      "text/plain": [
       "\u001b[1m333×8 SubDataFrame\u001b[0m\n",
       "\u001b[1m Row \u001b[0m│\u001b[1m date       \u001b[0m\u001b[1m volume \u001b[0m\u001b[1m open    \u001b[0m\u001b[1m high    \u001b[0m\u001b[1m low     \u001b[0m\u001b[1m close   \u001b[0m\u001b[1m adjclose \u001b[0m\u001b[1m symbol \u001b[0m\n",
       "\u001b[1m     \u001b[0m│\u001b[90m Date       \u001b[0m\u001b[90m Int64  \u001b[0m\u001b[90m Float64 \u001b[0m\u001b[90m Float64 \u001b[0m\u001b[90m Float64 \u001b[0m\u001b[90m Float64 \u001b[0m\u001b[90m Float64  \u001b[0m\u001b[90m String \u001b[0m\n",
       "─────┼──────────────────────────────────────────────────────────────────────────\n",
       "   1 │ 2020-07-02   46800     1.3      1.39     1.3      1.31      1.31  AACG\n",
       "   2 │ 2020-07-01   95400     1.25     1.4      1.18     1.31      1.31  AACG\n",
       "   3 │ 2020-06-30   40200     1.16     1.27     1.16     1.26      1.26  AACG\n",
       "  ⋮  │     ⋮         ⋮        ⋮        ⋮        ⋮        ⋮        ⋮        ⋮\n",
       " 331 │ 2019-03-13   23100     1.06     1.08     1.04     1.07      1.07  AACG\n",
       " 332 │ 2019-03-12   20200     1.08     1.09     1.05     1.05      1.05  AACG\n",
       " 333 │ 2019-03-11   32100     1.08     1.1      1.08     1.08      1.08  AACG\n",
       "\u001b[36m                                                                327 rows omitted\u001b[0m"
      ]
     },
     "execution_count": 74,
     "metadata": {},
     "output_type": "execute_result"
    }
   ],
   "source": [
    "@btime @view $fh5[findall(==(\"AACG\"), $fh5.symbol), :]"
   ]
  },
  {
   "cell_type": "code",
   "execution_count": 75,
   "metadata": {},
   "outputs": [
    {
     "name": "stdout",
     "output_type": "stream",
     "text": [
      "  31.082 ms (29 allocations: 865.30 KiB)\n"
     ]
    },
    {
     "data": {
      "text/html": [
       "<table class=\"data-frame\"><thead><tr><th></th><th>date</th><th>volume</th><th>open</th><th>high</th><th>low</th><th>close</th><th>adjclose</th><th>symbol</th></tr><tr><th></th><th>Date</th><th>Int64</th><th>Float64</th><th>Float64</th><th>Float64</th><th>Float64</th><th>Float64</th><th>String</th></tr></thead><tbody><p>333 rows × 8 columns</p><tr><th>1</th><td>2020-07-02</td><td>46800</td><td>1.3</td><td>1.39</td><td>1.3</td><td>1.31</td><td>1.31</td><td>AACG</td></tr><tr><th>2</th><td>2020-07-01</td><td>95400</td><td>1.25</td><td>1.4</td><td>1.18</td><td>1.31</td><td>1.31</td><td>AACG</td></tr><tr><th>3</th><td>2020-06-30</td><td>40200</td><td>1.16</td><td>1.27</td><td>1.16</td><td>1.26</td><td>1.26</td><td>AACG</td></tr><tr><th>4</th><td>2020-06-29</td><td>46900</td><td>1.15</td><td>1.25</td><td>1.15</td><td>1.17</td><td>1.17</td><td>AACG</td></tr><tr><th>5</th><td>2020-06-26</td><td>43700</td><td>1.12</td><td>1.18</td><td>1.12</td><td>1.15</td><td>1.15</td><td>AACG</td></tr><tr><th>6</th><td>2020-06-25</td><td>72900</td><td>1.22</td><td>1.25</td><td>1.11</td><td>1.23</td><td>1.23</td><td>AACG</td></tr><tr><th>7</th><td>2020-06-24</td><td>80400</td><td>1.14</td><td>1.3</td><td>1.14</td><td>1.25</td><td>1.25</td><td>AACG</td></tr><tr><th>8</th><td>2020-06-23</td><td>57000</td><td>1.19</td><td>1.22</td><td>1.14</td><td>1.17</td><td>1.17</td><td>AACG</td></tr><tr><th>9</th><td>2020-06-22</td><td>115500</td><td>1.0</td><td>1.17</td><td>0.97</td><td>1.14</td><td>1.14</td><td>AACG</td></tr><tr><th>10</th><td>2020-06-19</td><td>52500</td><td>0.96</td><td>1.03</td><td>0.95</td><td>0.95</td><td>0.95</td><td>AACG</td></tr><tr><th>11</th><td>2020-06-18</td><td>113400</td><td>1.08</td><td>1.13</td><td>0.93</td><td>1.0</td><td>1.0</td><td>AACG</td></tr><tr><th>12</th><td>2020-06-17</td><td>136600</td><td>1.26</td><td>1.3</td><td>1.11</td><td>1.12</td><td>1.12</td><td>AACG</td></tr><tr><th>13</th><td>2020-06-16</td><td>1621800</td><td>1.33</td><td>1.8</td><td>1.12</td><td>1.12</td><td>1.12</td><td>AACG</td></tr><tr><th>14</th><td>2020-06-15</td><td>159200</td><td>1.14</td><td>1.36</td><td>1.14</td><td>1.29</td><td>1.29</td><td>AACG</td></tr><tr><th>15</th><td>2020-06-12</td><td>64200</td><td>1.2</td><td>1.23</td><td>1.01</td><td>1.14</td><td>1.14</td><td>AACG</td></tr><tr><th>&vellip;</th><td>&vellip;</td><td>&vellip;</td><td>&vellip;</td><td>&vellip;</td><td>&vellip;</td><td>&vellip;</td><td>&vellip;</td><td>&vellip;</td></tr></tbody></table>"
      ],
      "text/latex": [
       "\\begin{tabular}{r|cccccccc}\n",
       "\t& date & volume & open & high & low & close & adjclose & symbol\\\\\n",
       "\t\\hline\n",
       "\t& Date & Int64 & Float64 & Float64 & Float64 & Float64 & Float64 & String\\\\\n",
       "\t\\hline\n",
       "\t1 & 2020-07-02 & 46800 & 1.3 & 1.39 & 1.3 & 1.31 & 1.31 & AACG \\\\\n",
       "\t2 & 2020-07-01 & 95400 & 1.25 & 1.4 & 1.18 & 1.31 & 1.31 & AACG \\\\\n",
       "\t3 & 2020-06-30 & 40200 & 1.16 & 1.27 & 1.16 & 1.26 & 1.26 & AACG \\\\\n",
       "\t4 & 2020-06-29 & 46900 & 1.15 & 1.25 & 1.15 & 1.17 & 1.17 & AACG \\\\\n",
       "\t5 & 2020-06-26 & 43700 & 1.12 & 1.18 & 1.12 & 1.15 & 1.15 & AACG \\\\\n",
       "\t6 & 2020-06-25 & 72900 & 1.22 & 1.25 & 1.11 & 1.23 & 1.23 & AACG \\\\\n",
       "\t7 & 2020-06-24 & 80400 & 1.14 & 1.3 & 1.14 & 1.25 & 1.25 & AACG \\\\\n",
       "\t8 & 2020-06-23 & 57000 & 1.19 & 1.22 & 1.14 & 1.17 & 1.17 & AACG \\\\\n",
       "\t9 & 2020-06-22 & 115500 & 1.0 & 1.17 & 0.97 & 1.14 & 1.14 & AACG \\\\\n",
       "\t10 & 2020-06-19 & 52500 & 0.96 & 1.03 & 0.95 & 0.95 & 0.95 & AACG \\\\\n",
       "\t11 & 2020-06-18 & 113400 & 1.08 & 1.13 & 0.93 & 1.0 & 1.0 & AACG \\\\\n",
       "\t12 & 2020-06-17 & 136600 & 1.26 & 1.3 & 1.11 & 1.12 & 1.12 & AACG \\\\\n",
       "\t13 & 2020-06-16 & 1621800 & 1.33 & 1.8 & 1.12 & 1.12 & 1.12 & AACG \\\\\n",
       "\t14 & 2020-06-15 & 159200 & 1.14 & 1.36 & 1.14 & 1.29 & 1.29 & AACG \\\\\n",
       "\t15 & 2020-06-12 & 64200 & 1.2 & 1.23 & 1.01 & 1.14 & 1.14 & AACG \\\\\n",
       "\t$\\dots$ & $\\dots$ & $\\dots$ & $\\dots$ & $\\dots$ & $\\dots$ & $\\dots$ & $\\dots$ & $\\dots$ \\\\\n",
       "\\end{tabular}\n"
      ],
      "text/plain": [
       "\u001b[1m333×8 DataFrame\u001b[0m\n",
       "\u001b[1m Row \u001b[0m│\u001b[1m date       \u001b[0m\u001b[1m volume \u001b[0m\u001b[1m open    \u001b[0m\u001b[1m high    \u001b[0m\u001b[1m low     \u001b[0m\u001b[1m close   \u001b[0m\u001b[1m adjclose \u001b[0m\u001b[1m symbol \u001b[0m\n",
       "\u001b[1m     \u001b[0m│\u001b[90m Date       \u001b[0m\u001b[90m Int64  \u001b[0m\u001b[90m Float64 \u001b[0m\u001b[90m Float64 \u001b[0m\u001b[90m Float64 \u001b[0m\u001b[90m Float64 \u001b[0m\u001b[90m Float64  \u001b[0m\u001b[90m String \u001b[0m\n",
       "─────┼──────────────────────────────────────────────────────────────────────────\n",
       "   1 │ 2020-07-02   46800     1.3      1.39     1.3      1.31      1.31  AACG\n",
       "   2 │ 2020-07-01   95400     1.25     1.4      1.18     1.31      1.31  AACG\n",
       "   3 │ 2020-06-30   40200     1.16     1.27     1.16     1.26      1.26  AACG\n",
       "  ⋮  │     ⋮         ⋮        ⋮        ⋮        ⋮        ⋮        ⋮        ⋮\n",
       " 331 │ 2019-03-13   23100     1.06     1.08     1.04     1.07      1.07  AACG\n",
       " 332 │ 2019-03-12   20200     1.08     1.09     1.05     1.05      1.05  AACG\n",
       " 333 │ 2019-03-11   32100     1.08     1.1      1.08     1.08      1.08  AACG\n",
       "\u001b[36m                                                                327 rows omitted\u001b[0m"
      ]
     },
     "execution_count": 75,
     "metadata": {},
     "output_type": "execute_result"
    }
   ],
   "source": [
    "@btime filter(:symbol => ==(\"AACG\"), fh5)"
   ]
  },
  {
   "cell_type": "markdown",
   "metadata": {},
   "source": [
    "<div class=\"alert alert-block alert-info\">\n",
    "<b>Tip:</b>\n",
    "    \n",
    "\n",
    "Think of `GroupedDataFrame` as a wrapper over a data frame object which caches information\n",
    "about the parent data frame to make operations that rely on row index faster. Currently this is used in:\n",
    "* split/apply/combine\n",
    "* lookup\n",
    "\n",
    "In other words: if you like row indices in Pandas then `GroupedDataFrame` is a way to achieve such functionality in DataFrames.jl.\n",
    "\n",
    "Notably:\n",
    "* you can set multiple row indices to the same data frame, just by creating different `GroupedDataFrame` objects on top of the same data frame.\n",
    "* the creation of cache in grouped data frame is lazy (it is computed only if needed); cache computation is thread safe.\n",
    "\n",
    "</div>"
   ]
  },
  {
   "cell_type": "code",
   "execution_count": 76,
   "metadata": {},
   "outputs": [
    {
     "name": "stdout",
     "output_type": "stream",
     "text": [
      "i = 1\n",
      "  0.008684 seconds (66 allocations: 52.287 MiB)\n",
      "  0.039510 seconds (8.31 k allocations: 52.770 MiB)\n",
      "  0.000003 seconds (4 allocations: 2.844 KiB)\n",
      "  0.000002 seconds (4 allocations: 2.844 KiB)\n",
      "i = 2\n",
      "  0.007824 seconds (65 allocations: 52.287 MiB)\n",
      "  0.036424 seconds (8.31 k allocations: 52.770 MiB)\n",
      "  0.000002 seconds (4 allocations: 2.844 KiB)\n",
      "  0.000002 seconds (4 allocations: 2.844 KiB)\n",
      "i = 3\n",
      "  0.007792 seconds (65 allocations: 52.287 MiB)\n",
      "  0.036146 seconds (8.31 k allocations: 52.770 MiB)\n",
      "  0.000002 seconds (4 allocations: 2.844 KiB)\n",
      "  0.000001 seconds (4 allocations: 2.844 KiB)\n"
     ]
    }
   ],
   "source": [
    "for i in 1:3\n",
    "    local gdf\n",
    "    @show i\n",
    "    @time gdf = groupby(fh5, :symbol)\n",
    "    @time gdf[(\"AACG\",)]\n",
    "    @time gdf[(\"AACG\",)]\n",
    "    @time gdf[(\"AACG\",)]\n",
    "end"
   ]
  },
  {
   "cell_type": "markdown",
   "metadata": {},
   "source": [
    "## setindex!"
   ]
  },
  {
   "cell_type": "markdown",
   "metadata": {},
   "source": [
    "`setindex!` is defined only for `DataFrame`, `SubDataFrame` and `DataFrameRow` (other types are read-only)."
   ]
  },
  {
   "cell_type": "markdown",
   "metadata": {},
   "source": [
    "Intended rules:\n",
    "* the dimensions of left hand side and right hand side must match;\n",
    "* if right hand side has names they must match the names in left hand side."
   ]
  },
  {
   "cell_type": "markdown",
   "metadata": {},
   "source": [
    "special cases (that might be surprising):"
   ]
  },
  {
   "cell_type": "code",
   "execution_count": 77,
   "metadata": {},
   "outputs": [
    {
     "data": {
      "text/plain": [
       "5×5 Matrix{Float64}:\n",
       " 0.372706  0.707413   0.186747   0.331306  0.0668997\n",
       " 0.631114  0.425126   0.920731   0.793553  0.663167\n",
       " 0.974898  0.23086    0.0965031  0.766142  0.246591\n",
       " 0.754282  0.816876   0.22118    0.723069  0.323684\n",
       " 0.187814  0.0882055  0.730997   0.788639  0.253693"
      ]
     },
     "execution_count": 77,
     "metadata": {},
     "output_type": "execute_result"
    }
   ],
   "source": [
    "x = rand(5, 5)"
   ]
  },
  {
   "cell_type": "code",
   "execution_count": 78,
   "metadata": {},
   "outputs": [
    {
     "data": {
      "text/html": [
       "<table class=\"data-frame\"><thead><tr><th></th><th>x1</th><th>x2</th><th>x3</th><th>x4</th><th>x5</th></tr><tr><th></th><th>Float64</th><th>Float64</th><th>Float64</th><th>Float64</th><th>Float64</th></tr></thead><tbody><p>5 rows × 5 columns</p><tr><th>1</th><td>0.372706</td><td>0.707413</td><td>0.186747</td><td>0.331306</td><td>0.0668997</td></tr><tr><th>2</th><td>0.631114</td><td>0.425126</td><td>0.920731</td><td>0.793553</td><td>0.663167</td></tr><tr><th>3</th><td>0.974898</td><td>0.23086</td><td>0.0965031</td><td>0.766142</td><td>0.246591</td></tr><tr><th>4</th><td>0.754282</td><td>0.816876</td><td>0.22118</td><td>0.723069</td><td>0.323684</td></tr><tr><th>5</th><td>0.187814</td><td>0.0882055</td><td>0.730997</td><td>0.788639</td><td>0.253693</td></tr></tbody></table>"
      ],
      "text/latex": [
       "\\begin{tabular}{r|ccccc}\n",
       "\t& x1 & x2 & x3 & x4 & x5\\\\\n",
       "\t\\hline\n",
       "\t& Float64 & Float64 & Float64 & Float64 & Float64\\\\\n",
       "\t\\hline\n",
       "\t1 & 0.372706 & 0.707413 & 0.186747 & 0.331306 & 0.0668997 \\\\\n",
       "\t2 & 0.631114 & 0.425126 & 0.920731 & 0.793553 & 0.663167 \\\\\n",
       "\t3 & 0.974898 & 0.23086 & 0.0965031 & 0.766142 & 0.246591 \\\\\n",
       "\t4 & 0.754282 & 0.816876 & 0.22118 & 0.723069 & 0.323684 \\\\\n",
       "\t5 & 0.187814 & 0.0882055 & 0.730997 & 0.788639 & 0.253693 \\\\\n",
       "\\end{tabular}\n"
      ],
      "text/plain": [
       "\u001b[1m5×5 DataFrame\u001b[0m\n",
       "\u001b[1m Row \u001b[0m│\u001b[1m x1       \u001b[0m\u001b[1m x2        \u001b[0m\u001b[1m x3        \u001b[0m\u001b[1m x4       \u001b[0m\u001b[1m x5        \u001b[0m\n",
       "\u001b[1m     \u001b[0m│\u001b[90m Float64  \u001b[0m\u001b[90m Float64   \u001b[0m\u001b[90m Float64   \u001b[0m\u001b[90m Float64  \u001b[0m\u001b[90m Float64   \u001b[0m\n",
       "─────┼─────────────────────────────────────────────────────\n",
       "   1 │ 0.372706  0.707413   0.186747   0.331306  0.0668997\n",
       "   2 │ 0.631114  0.425126   0.920731   0.793553  0.663167\n",
       "   3 │ 0.974898  0.23086    0.0965031  0.766142  0.246591\n",
       "   4 │ 0.754282  0.816876   0.22118    0.723069  0.323684\n",
       "   5 │ 0.187814  0.0882055  0.730997   0.788639  0.253693"
      ]
     },
     "execution_count": 78,
     "metadata": {},
     "output_type": "execute_result"
    }
   ],
   "source": [
    "df = DataFrame(x, :auto)"
   ]
  },
  {
   "cell_type": "code",
   "execution_count": 79,
   "metadata": {},
   "outputs": [
    {
     "data": {
      "text/plain": [
       "2×2 Matrix{Int64}:\n",
       " 1  2\n",
       " 3  4"
      ]
     },
     "execution_count": 79,
     "metadata": {},
     "output_type": "execute_result"
    }
   ],
   "source": [
    "x[1, 1:4] = [1 2; 3 4]"
   ]
  },
  {
   "cell_type": "code",
   "execution_count": 80,
   "metadata": {},
   "outputs": [
    {
     "data": {
      "text/plain": [
       "5×5 Matrix{Float64}:\n",
       " 1.0       3.0        2.0        4.0       0.0668997\n",
       " 0.631114  0.425126   0.920731   0.793553  0.663167\n",
       " 0.974898  0.23086    0.0965031  0.766142  0.246591\n",
       " 0.754282  0.816876   0.22118    0.723069  0.323684\n",
       " 0.187814  0.0882055  0.730997   0.788639  0.253693"
      ]
     },
     "execution_count": 80,
     "metadata": {},
     "output_type": "execute_result"
    }
   ],
   "source": [
    "x"
   ]
  },
  {
   "cell_type": "code",
   "execution_count": 81,
   "metadata": {},
   "outputs": [
    {
     "ename": "LoadError",
     "evalue": "DimensionMismatch(\"tried to assign 2×2 array to 4×1 destination\")",
     "output_type": "error",
     "traceback": [
      "DimensionMismatch(\"tried to assign 2×2 array to 4×1 destination\")",
      "",
      "Stacktrace:",
      " [1] throw_setindex_mismatch(X::Matrix{Int64}, I::Tuple{Int64, Int64})",
      "   @ Base ./indices.jl:193",
      " [2] setindex_shape_check",
      "   @ ./indices.jl:257 [inlined]",
      " [3] _unsafe_setindex!(::IndexLinear, ::Matrix{Float64}, ::Matrix{Int64}, ::UnitRange{Int64}, ::Int64)",
      "   @ Base ./multidimensional.jl:896",
      " [4] _setindex!",
      "   @ ./multidimensional.jl:887 [inlined]",
      " [5] setindex!(::Matrix{Float64}, ::Matrix{Int64}, ::UnitRange{Int64}, ::Int64)",
      "   @ Base ./abstractarray.jl:1267",
      " [6] top-level scope",
      "   @ In[81]:1",
      " [7] eval",
      "   @ ./boot.jl:360 [inlined]",
      " [8] include_string(mapexpr::typeof(REPL.softscope), mod::Module, code::String, filename::String)",
      "   @ Base ./loading.jl:1094"
     ]
    }
   ],
   "source": [
    "x[1:4, 1] = [1 2; 3 4]"
   ]
  },
  {
   "cell_type": "markdown",
   "metadata": {},
   "source": [
    "#### Exercise"
   ]
  },
  {
   "cell_type": "markdown",
   "metadata": {},
   "source": [
    "Check what happens if you try the same operations on `df`."
   ]
  },
  {
   "cell_type": "code",
   "execution_count": 82,
   "metadata": {},
   "outputs": [
    {
     "data": {
      "text/html": [
       "<table class=\"data-frame\"><thead><tr><th></th><th>x1</th><th>x2</th><th>x3</th><th>x4</th><th>x5</th></tr><tr><th></th><th>Float64</th><th>Float64</th><th>Float64</th><th>Float64</th><th>Float64</th></tr></thead><tbody><p>5 rows × 5 columns</p><tr><th>1</th><td>0.372706</td><td>0.707413</td><td>0.186747</td><td>0.331306</td><td>0.0668997</td></tr><tr><th>2</th><td>0.631114</td><td>0.425126</td><td>0.920731</td><td>0.793553</td><td>0.663167</td></tr><tr><th>3</th><td>0.974898</td><td>0.23086</td><td>0.0965031</td><td>0.766142</td><td>0.246591</td></tr><tr><th>4</th><td>0.754282</td><td>0.816876</td><td>0.22118</td><td>0.723069</td><td>0.323684</td></tr><tr><th>5</th><td>0.187814</td><td>0.0882055</td><td>0.730997</td><td>0.788639</td><td>0.253693</td></tr></tbody></table>"
      ],
      "text/latex": [
       "\\begin{tabular}{r|ccccc}\n",
       "\t& x1 & x2 & x3 & x4 & x5\\\\\n",
       "\t\\hline\n",
       "\t& Float64 & Float64 & Float64 & Float64 & Float64\\\\\n",
       "\t\\hline\n",
       "\t1 & 0.372706 & 0.707413 & 0.186747 & 0.331306 & 0.0668997 \\\\\n",
       "\t2 & 0.631114 & 0.425126 & 0.920731 & 0.793553 & 0.663167 \\\\\n",
       "\t3 & 0.974898 & 0.23086 & 0.0965031 & 0.766142 & 0.246591 \\\\\n",
       "\t4 & 0.754282 & 0.816876 & 0.22118 & 0.723069 & 0.323684 \\\\\n",
       "\t5 & 0.187814 & 0.0882055 & 0.730997 & 0.788639 & 0.253693 \\\\\n",
       "\\end{tabular}\n"
      ],
      "text/plain": [
       "\u001b[1m5×5 DataFrame\u001b[0m\n",
       "\u001b[1m Row \u001b[0m│\u001b[1m x1       \u001b[0m\u001b[1m x2        \u001b[0m\u001b[1m x3        \u001b[0m\u001b[1m x4       \u001b[0m\u001b[1m x5        \u001b[0m\n",
       "\u001b[1m     \u001b[0m│\u001b[90m Float64  \u001b[0m\u001b[90m Float64   \u001b[0m\u001b[90m Float64   \u001b[0m\u001b[90m Float64  \u001b[0m\u001b[90m Float64   \u001b[0m\n",
       "─────┼─────────────────────────────────────────────────────\n",
       "   1 │ 0.372706  0.707413   0.186747   0.331306  0.0668997\n",
       "   2 │ 0.631114  0.425126   0.920731   0.793553  0.663167\n",
       "   3 │ 0.974898  0.23086    0.0965031  0.766142  0.246591\n",
       "   4 │ 0.754282  0.816876   0.22118    0.723069  0.323684\n",
       "   5 │ 0.187814  0.0882055  0.730997   0.788639  0.253693"
      ]
     },
     "execution_count": 82,
     "metadata": {},
     "output_type": "execute_result"
    }
   ],
   "source": [
    "df"
   ]
  },
  {
   "cell_type": "code",
   "execution_count": 83,
   "metadata": {},
   "outputs": [
    {
     "ename": "LoadError",
     "evalue": "MethodError: no method matching setindex!(::DataFrame, ::Matrix{Int64}, ::UnitRange{Int64}, ::Int64)\n\u001b[0mClosest candidates are:\n\u001b[0m  setindex!(::DataFrame, ::Any, \u001b[91m::Integer\u001b[39m, ::Union{AbstractString, Signed, Symbol, Unsigned}) at /home/bkamins/.julia/packages/DataFrames/nxjiD/src/dataframe/dataframe.jl:647\n\u001b[0m  setindex!(::DataFrame, \u001b[91m::AbstractVector{T} where T\u001b[39m, ::AbstractVector{T} where T, ::Union{AbstractString, Signed, Symbol, Unsigned}) at /home/bkamins/.julia/packages/DataFrames/nxjiD/src/dataframe/dataframe.jl:675\n\u001b[0m  setindex!(::DataFrame, ::AbstractMatrix{T} where T, ::AbstractVector{T} where T, \u001b[91m::AbstractVector{T} where T\u001b[39m) at /home/bkamins/.julia/packages/DataFrames/nxjiD/src/dataframe/dataframe.jl:727\n\u001b[0m  ...",
     "output_type": "error",
     "traceback": [
      "MethodError: no method matching setindex!(::DataFrame, ::Matrix{Int64}, ::UnitRange{Int64}, ::Int64)\n\u001b[0mClosest candidates are:\n\u001b[0m  setindex!(::DataFrame, ::Any, \u001b[91m::Integer\u001b[39m, ::Union{AbstractString, Signed, Symbol, Unsigned}) at /home/bkamins/.julia/packages/DataFrames/nxjiD/src/dataframe/dataframe.jl:647\n\u001b[0m  setindex!(::DataFrame, \u001b[91m::AbstractVector{T} where T\u001b[39m, ::AbstractVector{T} where T, ::Union{AbstractString, Signed, Symbol, Unsigned}) at /home/bkamins/.julia/packages/DataFrames/nxjiD/src/dataframe/dataframe.jl:675\n\u001b[0m  setindex!(::DataFrame, ::AbstractMatrix{T} where T, ::AbstractVector{T} where T, \u001b[91m::AbstractVector{T} where T\u001b[39m) at /home/bkamins/.julia/packages/DataFrames/nxjiD/src/dataframe/dataframe.jl:727\n\u001b[0m  ...",
      "",
      "Stacktrace:",
      " [1] top-level scope",
      "   @ In[83]:1",
      " [2] eval",
      "   @ ./boot.jl:360 [inlined]",
      " [3] include_string(mapexpr::typeof(REPL.softscope), mod::Module, code::String, filename::String)",
      "   @ Base ./loading.jl:1094"
     ]
    }
   ],
   "source": [
    "df[1:4, 1] = [1 2; 3 4]"
   ]
  },
  {
   "cell_type": "code",
   "execution_count": 84,
   "metadata": {},
   "outputs": [
    {
     "data": {
      "text/html": [
       "<table class=\"data-frame\"><thead><tr><th></th><th>x1</th><th>x2</th><th>x3</th><th>x4</th><th>x5</th></tr><tr><th></th><th>Float64</th><th>Float64</th><th>Float64</th><th>Float64</th><th>Float64</th></tr></thead><tbody><p>5 rows × 5 columns</p><tr><th>1</th><td>0.372706</td><td>0.707413</td><td>0.186747</td><td>0.331306</td><td>0.0668997</td></tr><tr><th>2</th><td>0.631114</td><td>0.425126</td><td>0.920731</td><td>0.793553</td><td>0.663167</td></tr><tr><th>3</th><td>0.974898</td><td>0.23086</td><td>0.0965031</td><td>0.766142</td><td>0.246591</td></tr><tr><th>4</th><td>0.754282</td><td>0.816876</td><td>0.22118</td><td>0.723069</td><td>0.323684</td></tr><tr><th>5</th><td>0.187814</td><td>0.0882055</td><td>0.730997</td><td>0.788639</td><td>0.253693</td></tr></tbody></table>"
      ],
      "text/latex": [
       "\\begin{tabular}{r|ccccc}\n",
       "\t& x1 & x2 & x3 & x4 & x5\\\\\n",
       "\t\\hline\n",
       "\t& Float64 & Float64 & Float64 & Float64 & Float64\\\\\n",
       "\t\\hline\n",
       "\t1 & 0.372706 & 0.707413 & 0.186747 & 0.331306 & 0.0668997 \\\\\n",
       "\t2 & 0.631114 & 0.425126 & 0.920731 & 0.793553 & 0.663167 \\\\\n",
       "\t3 & 0.974898 & 0.23086 & 0.0965031 & 0.766142 & 0.246591 \\\\\n",
       "\t4 & 0.754282 & 0.816876 & 0.22118 & 0.723069 & 0.323684 \\\\\n",
       "\t5 & 0.187814 & 0.0882055 & 0.730997 & 0.788639 & 0.253693 \\\\\n",
       "\\end{tabular}\n"
      ],
      "text/plain": [
       "\u001b[1m5×5 DataFrame\u001b[0m\n",
       "\u001b[1m Row \u001b[0m│\u001b[1m x1       \u001b[0m\u001b[1m x2        \u001b[0m\u001b[1m x3        \u001b[0m\u001b[1m x4       \u001b[0m\u001b[1m x5        \u001b[0m\n",
       "\u001b[1m     \u001b[0m│\u001b[90m Float64  \u001b[0m\u001b[90m Float64   \u001b[0m\u001b[90m Float64   \u001b[0m\u001b[90m Float64  \u001b[0m\u001b[90m Float64   \u001b[0m\n",
       "─────┼─────────────────────────────────────────────────────\n",
       "   1 │ 0.372706  0.707413   0.186747   0.331306  0.0668997\n",
       "   2 │ 0.631114  0.425126   0.920731   0.793553  0.663167\n",
       "   3 │ 0.974898  0.23086    0.0965031  0.766142  0.246591\n",
       "   4 │ 0.754282  0.816876   0.22118    0.723069  0.323684\n",
       "   5 │ 0.187814  0.0882055  0.730997   0.788639  0.253693"
      ]
     },
     "execution_count": 84,
     "metadata": {},
     "output_type": "execute_result"
    }
   ],
   "source": [
    "df"
   ]
  },
  {
   "cell_type": "code",
   "execution_count": 85,
   "metadata": {},
   "outputs": [
    {
     "data": {
      "text/plain": [
       "2×2 Matrix{Int64}:\n",
       " 1  2\n",
       " 3  4"
      ]
     },
     "execution_count": 85,
     "metadata": {},
     "output_type": "execute_result"
    }
   ],
   "source": [
    "df[1, 1:4] = [1 2; 3 4]"
   ]
  },
  {
   "cell_type": "code",
   "execution_count": 86,
   "metadata": {},
   "outputs": [
    {
     "data": {
      "text/html": [
       "<table class=\"data-frame\"><thead><tr><th></th><th>x1</th><th>x2</th><th>x3</th><th>x4</th><th>x5</th></tr><tr><th></th><th>Float64</th><th>Float64</th><th>Float64</th><th>Float64</th><th>Float64</th></tr></thead><tbody><p>5 rows × 5 columns</p><tr><th>1</th><td>1.0</td><td>3.0</td><td>2.0</td><td>4.0</td><td>0.0668997</td></tr><tr><th>2</th><td>0.631114</td><td>0.425126</td><td>0.920731</td><td>0.793553</td><td>0.663167</td></tr><tr><th>3</th><td>0.974898</td><td>0.23086</td><td>0.0965031</td><td>0.766142</td><td>0.246591</td></tr><tr><th>4</th><td>0.754282</td><td>0.816876</td><td>0.22118</td><td>0.723069</td><td>0.323684</td></tr><tr><th>5</th><td>0.187814</td><td>0.0882055</td><td>0.730997</td><td>0.788639</td><td>0.253693</td></tr></tbody></table>"
      ],
      "text/latex": [
       "\\begin{tabular}{r|ccccc}\n",
       "\t& x1 & x2 & x3 & x4 & x5\\\\\n",
       "\t\\hline\n",
       "\t& Float64 & Float64 & Float64 & Float64 & Float64\\\\\n",
       "\t\\hline\n",
       "\t1 & 1.0 & 3.0 & 2.0 & 4.0 & 0.0668997 \\\\\n",
       "\t2 & 0.631114 & 0.425126 & 0.920731 & 0.793553 & 0.663167 \\\\\n",
       "\t3 & 0.974898 & 0.23086 & 0.0965031 & 0.766142 & 0.246591 \\\\\n",
       "\t4 & 0.754282 & 0.816876 & 0.22118 & 0.723069 & 0.323684 \\\\\n",
       "\t5 & 0.187814 & 0.0882055 & 0.730997 & 0.788639 & 0.253693 \\\\\n",
       "\\end{tabular}\n"
      ],
      "text/plain": [
       "\u001b[1m5×5 DataFrame\u001b[0m\n",
       "\u001b[1m Row \u001b[0m│\u001b[1m x1       \u001b[0m\u001b[1m x2        \u001b[0m\u001b[1m x3        \u001b[0m\u001b[1m x4       \u001b[0m\u001b[1m x5        \u001b[0m\n",
       "\u001b[1m     \u001b[0m│\u001b[90m Float64  \u001b[0m\u001b[90m Float64   \u001b[0m\u001b[90m Float64   \u001b[0m\u001b[90m Float64  \u001b[0m\u001b[90m Float64   \u001b[0m\n",
       "─────┼─────────────────────────────────────────────────────\n",
       "   1 │ 1.0       3.0        2.0        4.0       0.0668997\n",
       "   2 │ 0.631114  0.425126   0.920731   0.793553  0.663167\n",
       "   3 │ 0.974898  0.23086    0.0965031  0.766142  0.246591\n",
       "   4 │ 0.754282  0.816876   0.22118    0.723069  0.323684\n",
       "   5 │ 0.187814  0.0882055  0.730997   0.788639  0.253693"
      ]
     },
     "execution_count": 86,
     "metadata": {},
     "output_type": "execute_result"
    }
   ],
   "source": [
    "df"
   ]
  },
  {
   "cell_type": "markdown",
   "metadata": {},
   "source": [
    "<div class=\"alert alert-block alert-info\">\n",
    "<b>Tip:</b>\n",
    "    \n",
    "We want DataFrames.jl to match 100% what Base does with indexing (except for cases where matching column names matters).\n",
    "\n",
    "If you find cases when it does not please report an issue.\n",
    "\n",
    "</div>"
   ]
  },
  {
   "cell_type": "markdown",
   "metadata": {},
   "source": [
    "The most important case, that does work as in Base (as `Matrix` is not resizable) is creation of new columns."
   ]
  },
  {
   "cell_type": "code",
   "execution_count": 87,
   "metadata": {},
   "outputs": [
    {
     "data": {
      "text/html": [
       "<table class=\"data-frame\"><thead><tr><th></th><th>x1</th><th>x2</th></tr><tr><th></th><th>Float64</th><th>Float64</th></tr></thead><tbody><p>2 rows × 2 columns</p><tr><th>1</th><td>0.917293</td><td>0.165872</td></tr><tr><th>2</th><td>0.652194</td><td>0.19013</td></tr></tbody></table>"
      ],
      "text/latex": [
       "\\begin{tabular}{r|cc}\n",
       "\t& x1 & x2\\\\\n",
       "\t\\hline\n",
       "\t& Float64 & Float64\\\\\n",
       "\t\\hline\n",
       "\t1 & 0.917293 & 0.165872 \\\\\n",
       "\t2 & 0.652194 & 0.19013 \\\\\n",
       "\\end{tabular}\n"
      ],
      "text/plain": [
       "\u001b[1m2×2 DataFrame\u001b[0m\n",
       "\u001b[1m Row \u001b[0m│\u001b[1m x1       \u001b[0m\u001b[1m x2       \u001b[0m\n",
       "\u001b[1m     \u001b[0m│\u001b[90m Float64  \u001b[0m\u001b[90m Float64  \u001b[0m\n",
       "─────┼────────────────────\n",
       "   1 │ 0.917293  0.165872\n",
       "   2 │ 0.652194  0.19013"
      ]
     },
     "execution_count": 87,
     "metadata": {},
     "output_type": "execute_result"
    }
   ],
   "source": [
    "df = DataFrame(rand(2, 2), :auto)"
   ]
  },
  {
   "cell_type": "code",
   "execution_count": 88,
   "metadata": {},
   "outputs": [
    {
     "data": {
      "text/plain": [
       "2-element Vector{Int64}:\n",
       " 1\n",
       " 2"
      ]
     },
     "execution_count": 88,
     "metadata": {},
     "output_type": "execute_result"
    }
   ],
   "source": [
    "x3 = [1, 2]"
   ]
  },
  {
   "cell_type": "code",
   "execution_count": 89,
   "metadata": {},
   "outputs": [
    {
     "data": {
      "text/plain": [
       "2-element Vector{Int64}:\n",
       " 1\n",
       " 2"
      ]
     },
     "execution_count": 89,
     "metadata": {},
     "output_type": "execute_result"
    }
   ],
   "source": [
    "df.x3_1 = x3"
   ]
  },
  {
   "cell_type": "code",
   "execution_count": 90,
   "metadata": {},
   "outputs": [
    {
     "data": {
      "text/plain": [
       "2-element Vector{Int64}:\n",
       " 1\n",
       " 2"
      ]
     },
     "execution_count": 90,
     "metadata": {},
     "output_type": "execute_result"
    }
   ],
   "source": [
    "df[:, :x3_2] = x3"
   ]
  },
  {
   "cell_type": "code",
   "execution_count": 91,
   "metadata": {},
   "outputs": [
    {
     "data": {
      "text/plain": [
       "2-element Vector{Int64}:\n",
       " 1\n",
       " 2"
      ]
     },
     "execution_count": 91,
     "metadata": {},
     "output_type": "execute_result"
    }
   ],
   "source": [
    "df[!, :x3_3] = x3"
   ]
  },
  {
   "cell_type": "code",
   "execution_count": 92,
   "metadata": {},
   "outputs": [
    {
     "data": {
      "text/html": [
       "<table class=\"data-frame\"><thead><tr><th></th><th>x1</th><th>x2</th><th>x3_1</th><th>x3_2</th><th>x3_3</th></tr><tr><th></th><th>Float64</th><th>Float64</th><th>Int64</th><th>Int64</th><th>Int64</th></tr></thead><tbody><p>2 rows × 5 columns</p><tr><th>1</th><td>0.917293</td><td>0.165872</td><td>1</td><td>1</td><td>1</td></tr><tr><th>2</th><td>0.652194</td><td>0.19013</td><td>2</td><td>2</td><td>2</td></tr></tbody></table>"
      ],
      "text/latex": [
       "\\begin{tabular}{r|ccccc}\n",
       "\t& x1 & x2 & x3\\_1 & x3\\_2 & x3\\_3\\\\\n",
       "\t\\hline\n",
       "\t& Float64 & Float64 & Int64 & Int64 & Int64\\\\\n",
       "\t\\hline\n",
       "\t1 & 0.917293 & 0.165872 & 1 & 1 & 1 \\\\\n",
       "\t2 & 0.652194 & 0.19013 & 2 & 2 & 2 \\\\\n",
       "\\end{tabular}\n"
      ],
      "text/plain": [
       "\u001b[1m2×5 DataFrame\u001b[0m\n",
       "\u001b[1m Row \u001b[0m│\u001b[1m x1       \u001b[0m\u001b[1m x2       \u001b[0m\u001b[1m x3_1  \u001b[0m\u001b[1m x3_2  \u001b[0m\u001b[1m x3_3  \u001b[0m\n",
       "\u001b[1m     \u001b[0m│\u001b[90m Float64  \u001b[0m\u001b[90m Float64  \u001b[0m\u001b[90m Int64 \u001b[0m\u001b[90m Int64 \u001b[0m\u001b[90m Int64 \u001b[0m\n",
       "─────┼─────────────────────────────────────────\n",
       "   1 │ 0.917293  0.165872      1      1      1\n",
       "   2 │ 0.652194  0.19013       2      2      2"
      ]
     },
     "execution_count": 92,
     "metadata": {},
     "output_type": "execute_result"
    }
   ],
   "source": [
    "df"
   ]
  },
  {
   "cell_type": "markdown",
   "metadata": {},
   "source": [
    "#### Exercise\n",
    "Check in which cases `x3` got copied."
   ]
  },
  {
   "cell_type": "code",
   "execution_count": 93,
   "metadata": {},
   "outputs": [
    {
     "data": {
      "text/plain": [
       "3-element BitVector:\n",
       " 1\n",
       " 0\n",
       " 1"
      ]
     },
     "execution_count": 93,
     "metadata": {},
     "output_type": "execute_result"
    }
   ],
   "source": [
    "eachcol(df[!, r\"x3\"]) .=== Ref(x3)"
   ]
  },
  {
   "cell_type": "markdown",
   "metadata": {},
   "source": [
    "A special case when column always gets copied is for range objects:"
   ]
  },
  {
   "cell_type": "code",
   "execution_count": 94,
   "metadata": {},
   "outputs": [
    {
     "data": {
      "text/plain": [
       "Base.OneTo(6852038)"
      ]
     },
     "execution_count": 94,
     "metadata": {},
     "output_type": "execute_result"
    }
   ],
   "source": [
    "fh5.col_idx = axes(fh5, 1)"
   ]
  },
  {
   "cell_type": "code",
   "execution_count": 95,
   "metadata": {},
   "outputs": [
    {
     "data": {
      "text/plain": [
       "6852038-element Vector{Int64}:\n",
       "       1\n",
       "       2\n",
       "       3\n",
       "       4\n",
       "       5\n",
       "       ⋮\n",
       " 6852034\n",
       " 6852035\n",
       " 6852036\n",
       " 6852037\n",
       " 6852038"
      ]
     },
     "execution_count": 95,
     "metadata": {},
     "output_type": "execute_result"
    }
   ],
   "source": [
    "fh5.col_idx"
   ]
  },
  {
   "cell_type": "markdown",
   "metadata": {},
   "source": [
    "Let us try `setindex!` for multi-column indexing."
   ]
  },
  {
   "cell_type": "code",
   "execution_count": 96,
   "metadata": {},
   "outputs": [
    {
     "data": {
      "text/html": [
       "<table class=\"data-frame\"><thead><tr><th></th><th>x1</th><th>x2</th><th>x3_1</th><th>x3_2</th><th>x3_3</th></tr><tr><th></th><th>Float64</th><th>Float64</th><th>Int64</th><th>Int64</th><th>Int64</th></tr></thead><tbody><p>2 rows × 5 columns</p><tr><th>1</th><td>0.917293</td><td>0.165872</td><td>1</td><td>1</td><td>1</td></tr><tr><th>2</th><td>0.652194</td><td>0.19013</td><td>2</td><td>2</td><td>2</td></tr></tbody></table>"
      ],
      "text/latex": [
       "\\begin{tabular}{r|ccccc}\n",
       "\t& x1 & x2 & x3\\_1 & x3\\_2 & x3\\_3\\\\\n",
       "\t\\hline\n",
       "\t& Float64 & Float64 & Int64 & Int64 & Int64\\\\\n",
       "\t\\hline\n",
       "\t1 & 0.917293 & 0.165872 & 1 & 1 & 1 \\\\\n",
       "\t2 & 0.652194 & 0.19013 & 2 & 2 & 2 \\\\\n",
       "\\end{tabular}\n"
      ],
      "text/plain": [
       "\u001b[1m2×5 DataFrame\u001b[0m\n",
       "\u001b[1m Row \u001b[0m│\u001b[1m x1       \u001b[0m\u001b[1m x2       \u001b[0m\u001b[1m x3_1  \u001b[0m\u001b[1m x3_2  \u001b[0m\u001b[1m x3_3  \u001b[0m\n",
       "\u001b[1m     \u001b[0m│\u001b[90m Float64  \u001b[0m\u001b[90m Float64  \u001b[0m\u001b[90m Int64 \u001b[0m\u001b[90m Int64 \u001b[0m\u001b[90m Int64 \u001b[0m\n",
       "─────┼─────────────────────────────────────────\n",
       "   1 │ 0.917293  0.165872      1      1      1\n",
       "   2 │ 0.652194  0.19013       2      2      2"
      ]
     },
     "execution_count": 96,
     "metadata": {},
     "output_type": "execute_result"
    }
   ],
   "source": [
    "df"
   ]
  },
  {
   "cell_type": "code",
   "execution_count": 97,
   "metadata": {},
   "outputs": [
    {
     "data": {
      "text/html": [
       "<table class=\"data-frame\"><thead><tr><th></th><th>x1</th><th>x2</th></tr><tr><th></th><th>Int64</th><th>String</th></tr></thead><tbody><p>2 rows × 2 columns</p><tr><th>1</th><td>10</td><td>a</td></tr><tr><th>2</th><td>20</td><td>b</td></tr></tbody></table>"
      ],
      "text/latex": [
       "\\begin{tabular}{r|cc}\n",
       "\t& x1 & x2\\\\\n",
       "\t\\hline\n",
       "\t& Int64 & String\\\\\n",
       "\t\\hline\n",
       "\t1 & 10 & a \\\\\n",
       "\t2 & 20 & b \\\\\n",
       "\\end{tabular}\n"
      ],
      "text/plain": [
       "\u001b[1m2×2 DataFrame\u001b[0m\n",
       "\u001b[1m Row \u001b[0m│\u001b[1m x1    \u001b[0m\u001b[1m x2     \u001b[0m\n",
       "\u001b[1m     \u001b[0m│\u001b[90m Int64 \u001b[0m\u001b[90m String \u001b[0m\n",
       "─────┼───────────────\n",
       "   1 │    10  a\n",
       "   2 │    20  b"
      ]
     },
     "execution_count": 97,
     "metadata": {},
     "output_type": "execute_result"
    }
   ],
   "source": [
    "df2 = DataFrame(x1=[10,20], x2=[\"a\",\"b\"])"
   ]
  },
  {
   "cell_type": "code",
   "execution_count": 98,
   "metadata": {},
   "outputs": [
    {
     "ename": "LoadError",
     "evalue": "MethodError: \u001b[0mCannot `convert` an object of type \u001b[92mString\u001b[39m\u001b[0m to an object of type \u001b[91mFloat64\u001b[39m\n\u001b[0mClosest candidates are:\n\u001b[0m  convert(::Type{T}, \u001b[91m::T\u001b[39m) where T<:Number at number.jl:6\n\u001b[0m  convert(::Type{T}, \u001b[91m::Number\u001b[39m) where T<:Number at number.jl:7\n\u001b[0m  convert(::Type{T}, \u001b[91m::Base.TwicePrecision\u001b[39m) where T<:Number at twiceprecision.jl:250\n\u001b[0m  ...",
     "output_type": "error",
     "traceback": [
      "MethodError: \u001b[0mCannot `convert` an object of type \u001b[92mString\u001b[39m\u001b[0m to an object of type \u001b[91mFloat64\u001b[39m\n\u001b[0mClosest candidates are:\n\u001b[0m  convert(::Type{T}, \u001b[91m::T\u001b[39m) where T<:Number at number.jl:6\n\u001b[0m  convert(::Type{T}, \u001b[91m::Number\u001b[39m) where T<:Number at number.jl:7\n\u001b[0m  convert(::Type{T}, \u001b[91m::Base.TwicePrecision\u001b[39m) where T<:Number at twiceprecision.jl:250\n\u001b[0m  ...",
      "",
      "Stacktrace:",
      "  [1] setindex!(A::Vector{Float64}, x::String, i1::Int64)",
      "    @ Base ./array.jl:839",
      "  [2] macro expansion",
      "    @ ./multidimensional.jl:903 [inlined]",
      "  [3] macro expansion",
      "    @ ./cartesian.jl:64 [inlined]",
      "  [4] _unsafe_setindex!",
      "    @ ./multidimensional.jl:898 [inlined]",
      "  [5] _setindex!",
      "    @ ./multidimensional.jl:887 [inlined]",
      "  [6] setindex!(A::Vector{Float64}, v::Vector{String}, I::Function)",
      "    @ Base ./abstractarray.jl:1267",
      "  [7] setindex!(df::DataFrame, v::Vector{String}, row_inds::Colon, col_ind::Int64)",
      "    @ DataFrames ~/.julia/packages/DataFrames/nxjiD/src/dataframe/dataframe.jl:684",
      "  [8] setindex!(df::DataFrame, new_df::DataFrame, row_inds::Colon, col_inds::UnitRange{Int64})",
      "    @ DataFrames ~/.julia/packages/DataFrames/nxjiD/src/dataframe/dataframe.jl:701",
      "  [9] top-level scope",
      "    @ In[98]:1",
      " [10] eval",
      "    @ ./boot.jl:360 [inlined]",
      " [11] include_string(mapexpr::typeof(REPL.softscope), mod::Module, code::String, filename::String)",
      "    @ Base ./loading.jl:1094"
     ]
    }
   ],
   "source": [
    "df[:, 1:2] = df2"
   ]
  },
  {
   "cell_type": "markdown",
   "metadata": {},
   "source": [
    "Warning: this operation is not atomic now."
   ]
  },
  {
   "cell_type": "code",
   "execution_count": 99,
   "metadata": {},
   "outputs": [
    {
     "data": {
      "text/html": [
       "<table class=\"data-frame\"><thead><tr><th></th><th>x1</th><th>x2</th><th>x3_1</th><th>x3_2</th><th>x3_3</th></tr><tr><th></th><th>Float64</th><th>Float64</th><th>Int64</th><th>Int64</th><th>Int64</th></tr></thead><tbody><p>2 rows × 5 columns</p><tr><th>1</th><td>10.0</td><td>0.165872</td><td>1</td><td>1</td><td>1</td></tr><tr><th>2</th><td>20.0</td><td>0.19013</td><td>2</td><td>2</td><td>2</td></tr></tbody></table>"
      ],
      "text/latex": [
       "\\begin{tabular}{r|ccccc}\n",
       "\t& x1 & x2 & x3\\_1 & x3\\_2 & x3\\_3\\\\\n",
       "\t\\hline\n",
       "\t& Float64 & Float64 & Int64 & Int64 & Int64\\\\\n",
       "\t\\hline\n",
       "\t1 & 10.0 & 0.165872 & 1 & 1 & 1 \\\\\n",
       "\t2 & 20.0 & 0.19013 & 2 & 2 & 2 \\\\\n",
       "\\end{tabular}\n"
      ],
      "text/plain": [
       "\u001b[1m2×5 DataFrame\u001b[0m\n",
       "\u001b[1m Row \u001b[0m│\u001b[1m x1      \u001b[0m\u001b[1m x2       \u001b[0m\u001b[1m x3_1  \u001b[0m\u001b[1m x3_2  \u001b[0m\u001b[1m x3_3  \u001b[0m\n",
       "\u001b[1m     \u001b[0m│\u001b[90m Float64 \u001b[0m\u001b[90m Float64  \u001b[0m\u001b[90m Int64 \u001b[0m\u001b[90m Int64 \u001b[0m\u001b[90m Int64 \u001b[0m\n",
       "─────┼────────────────────────────────────────\n",
       "   1 │    10.0  0.165872      1      1      1\n",
       "   2 │    20.0  0.19013       2      2      2"
      ]
     },
     "execution_count": 99,
     "metadata": {},
     "output_type": "execute_result"
    }
   ],
   "source": [
    "df"
   ]
  },
  {
   "cell_type": "code",
   "execution_count": 100,
   "metadata": {},
   "outputs": [
    {
     "data": {
      "text/html": [
       "<table class=\"data-frame\"><thead><tr><th></th><th>x1</th><th>x2</th></tr><tr><th></th><th>Int64</th><th>String</th></tr></thead><tbody><p>2 rows × 2 columns</p><tr><th>1</th><td>10</td><td>a</td></tr><tr><th>2</th><td>20</td><td>b</td></tr></tbody></table>"
      ],
      "text/latex": [
       "\\begin{tabular}{r|cc}\n",
       "\t& x1 & x2\\\\\n",
       "\t\\hline\n",
       "\t& Int64 & String\\\\\n",
       "\t\\hline\n",
       "\t1 & 10 & a \\\\\n",
       "\t2 & 20 & b \\\\\n",
       "\\end{tabular}\n"
      ],
      "text/plain": [
       "\u001b[1m2×2 DataFrame\u001b[0m\n",
       "\u001b[1m Row \u001b[0m│\u001b[1m x1    \u001b[0m\u001b[1m x2     \u001b[0m\n",
       "\u001b[1m     \u001b[0m│\u001b[90m Int64 \u001b[0m\u001b[90m String \u001b[0m\n",
       "─────┼───────────────\n",
       "   1 │    10  a\n",
       "   2 │    20  b"
      ]
     },
     "execution_count": 100,
     "metadata": {},
     "output_type": "execute_result"
    }
   ],
   "source": [
    "df[!, 1:2] = df2"
   ]
  },
  {
   "cell_type": "code",
   "execution_count": 101,
   "metadata": {},
   "outputs": [
    {
     "data": {
      "text/html": [
       "<table class=\"data-frame\"><thead><tr><th></th><th>x1</th><th>x2</th><th>x3_1</th><th>x3_2</th><th>x3_3</th></tr><tr><th></th><th>Int64</th><th>String</th><th>Int64</th><th>Int64</th><th>Int64</th></tr></thead><tbody><p>2 rows × 5 columns</p><tr><th>1</th><td>10</td><td>a</td><td>1</td><td>1</td><td>1</td></tr><tr><th>2</th><td>20</td><td>b</td><td>2</td><td>2</td><td>2</td></tr></tbody></table>"
      ],
      "text/latex": [
       "\\begin{tabular}{r|ccccc}\n",
       "\t& x1 & x2 & x3\\_1 & x3\\_2 & x3\\_3\\\\\n",
       "\t\\hline\n",
       "\t& Int64 & String & Int64 & Int64 & Int64\\\\\n",
       "\t\\hline\n",
       "\t1 & 10 & a & 1 & 1 & 1 \\\\\n",
       "\t2 & 20 & b & 2 & 2 & 2 \\\\\n",
       "\\end{tabular}\n"
      ],
      "text/plain": [
       "\u001b[1m2×5 DataFrame\u001b[0m\n",
       "\u001b[1m Row \u001b[0m│\u001b[1m x1    \u001b[0m\u001b[1m x2     \u001b[0m\u001b[1m x3_1  \u001b[0m\u001b[1m x3_2  \u001b[0m\u001b[1m x3_3  \u001b[0m\n",
       "\u001b[1m     \u001b[0m│\u001b[90m Int64 \u001b[0m\u001b[90m String \u001b[0m\u001b[90m Int64 \u001b[0m\u001b[90m Int64 \u001b[0m\u001b[90m Int64 \u001b[0m\n",
       "─────┼────────────────────────────────────\n",
       "   1 │    10  a           1      1      1\n",
       "   2 │    20  b           2      2      2"
      ]
     },
     "execution_count": 101,
     "metadata": {},
     "output_type": "execute_result"
    }
   ],
   "source": [
    "df"
   ]
  },
  {
   "cell_type": "markdown",
   "metadata": {},
   "source": [
    "<div class=\"alert alert-block alert-info\">\n",
    "<b>Tip:</b>\n",
    "\n",
    "In `setindex!` context:\n",
    "* when `:` is used to select rows it operates in-place (it works just as any row selector); except when adding a new column, in which case it copies a column;\n",
    "* when `!` is used to select rows it always allocates a new column; if a single column is selected - this is a no-copy operation; if multiple columns are selected a copy is always made\n",
    "* `df.single_col = v` is exactly the same as `df[!, single_col] = v` if `single_col` is a `Symbol` or string literal\n",
    "* it is not allowed to add columns to `SubDataFrame` or `DataFrameRow`\n",
    "\n",
    "</div>"
   ]
  },
  {
   "cell_type": "markdown",
   "metadata": {},
   "source": [
    "## broadcast"
   ]
  },
  {
   "cell_type": "markdown",
   "metadata": {},
   "source": [
    "Data frame behaves in broadcasting just like a matrix, with two exceptions:\n",
    "* it forces the style of the result to be a `DataFrame`\n",
    "* if several data frames take part in broadcasting they must have matching column names"
   ]
  },
  {
   "cell_type": "code",
   "execution_count": 102,
   "metadata": {},
   "outputs": [
    {
     "data": {
      "text/html": [
       "<table class=\"data-frame\"><thead><tr><th></th><th>open</th><th>high</th><th>low</th><th>close</th></tr><tr><th></th><th>Float64</th><th>Float64</th><th>Float64</th><th>Float64</th></tr></thead><tbody><p>6,852,038 rows × 4 columns</p><tr><th>1</th><td>2.87017</td><td>2.87582</td><td>2.86903</td><td>2.87413</td></tr><tr><th>2</th><td>2.87526</td><td>2.87526</td><td>2.86448</td><td>2.87243</td></tr><tr><th>3</th><td>2.87074</td><td>2.8792</td><td>2.86847</td><td>2.87807</td></tr><tr><th>4</th><td>2.87187</td><td>2.873</td><td>2.8696</td><td>2.87243</td></tr><tr><th>5</th><td>2.86163</td><td>2.87187</td><td>2.85762</td><td>2.87187</td></tr><tr><th>6</th><td>2.8679</td><td>2.8679</td><td>2.86334</td><td>2.86733</td></tr><tr><th>7</th><td>2.86847</td><td>2.87413</td><td>2.86562</td><td>2.86847</td></tr><tr><th>8</th><td>2.86505</td><td>2.8713</td><td>2.86505</td><td>2.8713</td></tr><tr><th>9</th><td>2.8622</td><td>2.86619</td><td>2.85877</td><td>2.8622</td></tr><tr><th>10</th><td>2.84897</td><td>2.85647</td><td>2.84839</td><td>2.85647</td></tr><tr><th>11</th><td>2.84897</td><td>2.84897</td><td>2.84141</td><td>2.84665</td></tr><tr><th>12</th><td>2.84433</td><td>2.84781</td><td>2.84258</td><td>2.84781</td></tr><tr><th>13</th><td>2.842</td><td>2.84781</td><td>2.83966</td><td>2.84549</td></tr><tr><th>14</th><td>2.83498</td><td>2.84665</td><td>2.83321</td><td>2.84491</td></tr><tr><th>15</th><td>2.85302</td><td>2.85474</td><td>2.84781</td><td>2.84897</td></tr><tr><th>&vellip;</th><td>&vellip;</td><td>&vellip;</td><td>&vellip;</td><td>&vellip;</td></tr></tbody></table>"
      ],
      "text/latex": [
       "\\begin{tabular}{r|cccc}\n",
       "\t& open & high & low & close\\\\\n",
       "\t\\hline\n",
       "\t& Float64 & Float64 & Float64 & Float64\\\\\n",
       "\t\\hline\n",
       "\t1 & 2.87017 & 2.87582 & 2.86903 & 2.87413 \\\\\n",
       "\t2 & 2.87526 & 2.87526 & 2.86448 & 2.87243 \\\\\n",
       "\t3 & 2.87074 & 2.8792 & 2.86847 & 2.87807 \\\\\n",
       "\t4 & 2.87187 & 2.873 & 2.8696 & 2.87243 \\\\\n",
       "\t5 & 2.86163 & 2.87187 & 2.85762 & 2.87187 \\\\\n",
       "\t6 & 2.8679 & 2.8679 & 2.86334 & 2.86733 \\\\\n",
       "\t7 & 2.86847 & 2.87413 & 2.86562 & 2.86847 \\\\\n",
       "\t8 & 2.86505 & 2.8713 & 2.86505 & 2.8713 \\\\\n",
       "\t9 & 2.8622 & 2.86619 & 2.85877 & 2.8622 \\\\\n",
       "\t10 & 2.84897 & 2.85647 & 2.84839 & 2.85647 \\\\\n",
       "\t11 & 2.84897 & 2.84897 & 2.84141 & 2.84665 \\\\\n",
       "\t12 & 2.84433 & 2.84781 & 2.84258 & 2.84781 \\\\\n",
       "\t13 & 2.842 & 2.84781 & 2.83966 & 2.84549 \\\\\n",
       "\t14 & 2.83498 & 2.84665 & 2.83321 & 2.84491 \\\\\n",
       "\t15 & 2.85302 & 2.85474 & 2.84781 & 2.84897 \\\\\n",
       "\t$\\dots$ & $\\dots$ & $\\dots$ & $\\dots$ & $\\dots$ \\\\\n",
       "\\end{tabular}\n"
      ],
      "text/plain": [
       "\u001b[1m6852038×4 DataFrame\u001b[0m\n",
       "\u001b[1m     Row \u001b[0m│\u001b[1m open     \u001b[0m\u001b[1m high     \u001b[0m\u001b[1m low      \u001b[0m\u001b[1m close    \u001b[0m\n",
       "\u001b[1m         \u001b[0m│\u001b[90m Float64  \u001b[0m\u001b[90m Float64  \u001b[0m\u001b[90m Float64  \u001b[0m\u001b[90m Float64  \u001b[0m\n",
       "─────────┼────────────────────────────────────────\n",
       "       1 │  2.87017   2.87582   2.86903   2.87413\n",
       "       2 │  2.87526   2.87526   2.86448   2.87243\n",
       "       3 │  2.87074   2.8792    2.86847   2.87807\n",
       "    ⋮    │    ⋮         ⋮         ⋮         ⋮\n",
       " 6852036 │ -1.96611  -1.89712  -2.04022  -1.89712\n",
       " 6852037 │ -1.51413  -1.51413  -1.96611  -1.83258\n",
       " 6852038 │ -1.7148   -1.7148   -1.7148   -1.7148\n",
       "\u001b[36m                              6852032 rows omitted\u001b[0m"
      ]
     },
     "execution_count": 102,
     "metadata": {},
     "output_type": "execute_result"
    }
   ],
   "source": [
    "log.(fh5[!, Between(:open, :close)])"
   ]
  },
  {
   "cell_type": "code",
   "execution_count": 103,
   "metadata": {},
   "outputs": [
    {
     "ename": "LoadError",
     "evalue": "DomainError with -0.8700000643730164:\nlog will only return a complex result if called with a complex argument. Try log(Complex(x)).",
     "output_type": "error",
     "traceback": [
      "DomainError with -0.8700000643730164:\nlog will only return a complex result if called with a complex argument. Try log(Complex(x)).",
      "",
      "Stacktrace:",
      "  [1] throw_complex_domainerror(f::Symbol, x::Float64)",
      "    @ Base.Math ./math.jl:33",
      "  [2] log(x::Float64)",
      "    @ Base.Math ./special/log.jl:285",
      "  [3] _broadcast_getindex_evalf",
      "    @ ./broadcast.jl:648 [inlined]",
      "  [4] _broadcast_getindex",
      "    @ ./broadcast.jl:621 [inlined]",
      "  [5] getindex",
      "    @ ./broadcast.jl:575 [inlined]",
      "  [6] copyto_widen!(res::Vector{Float64}, bc::Base.Broadcast.Broadcasted{DataFrames.DataFrameStyle, Tuple{Base.OneTo{Int64}, Base.OneTo{Int64}}, typeof(log), Tuple{Base.Broadcast.Extruded{Vector{Float64}, Tuple{Bool}, Tuple{Int64}}}}, pos::Int64, col::Int64)",
      "    @ DataFrames ~/.julia/packages/DataFrames/nxjiD/src/other/broadcasting.jl:24",
      "  [7] copy(bc::Base.Broadcast.Broadcasted{DataFrames.DataFrameStyle, Tuple{Base.OneTo{Int64}, Base.OneTo{Int64}}, typeof(log), Tuple{DataFrame}})",
      "    @ DataFrames ~/.julia/packages/DataFrames/nxjiD/src/other/broadcasting.jl:74",
      "  [8] materialize(bc::Base.Broadcast.Broadcasted{DataFrames.DataFrameStyle, Nothing, typeof(log), Tuple{DataFrame}})",
      "    @ Base.Broadcast ./broadcast.jl:883",
      "  [9] top-level scope",
      "    @ In[103]:1",
      " [10] eval",
      "    @ ./boot.jl:360 [inlined]",
      " [11] include_string(mapexpr::typeof(REPL.softscope), mod::Module, code::String, filename::String)",
      "    @ Base ./loading.jl:1094"
     ]
    }
   ],
   "source": [
    "log.(fh5[!, Between(:open, :adjclose)])"
   ]
  },
  {
   "cell_type": "code",
   "execution_count": 104,
   "metadata": {},
   "outputs": [
    {
     "data": {
      "text/html": [
       "<table class=\"data-frame\"><thead><tr><th></th><th>date</th><th>volume</th><th>open</th><th>high</th><th>low</th><th>close</th><th>adjclose</th><th>symbol</th><th>col_idx</th></tr><tr><th></th><th>Date</th><th>Int64</th><th>Float64</th><th>Float64</th><th>Float64</th><th>Float64</th><th>Float64</th><th>String</th><th>Int64</th></tr></thead><tbody><p>1,350 rows × 9 columns</p><tr><th>1</th><td>2020-05-13</td><td>507400</td><td>3.4</td><td>3.4</td><td>2.99</td><td>3.02</td><td>-0.87</td><td>HCHC</td><td>2814814</td></tr><tr><th>2</th><td>2020-05-12</td><td>658600</td><td>3.22</td><td>3.48</td><td>3.11</td><td>3.19</td><td>-0.918974</td><td>HCHC</td><td>2814815</td></tr><tr><th>3</th><td>2020-05-11</td><td>564700</td><td>3.17</td><td>3.43</td><td>3.12</td><td>3.18</td><td>-0.916093</td><td>HCHC</td><td>2814816</td></tr><tr><th>4</th><td>2020-05-08</td><td>264600</td><td>2.92</td><td>3.08</td><td>2.8</td><td>3.06</td><td>-0.881523</td><td>HCHC</td><td>2814817</td></tr><tr><th>5</th><td>2020-05-07</td><td>246900</td><td>3.06</td><td>3.06</td><td>2.67</td><td>2.8</td><td>-0.806623</td><td>HCHC</td><td>2814818</td></tr><tr><th>6</th><td>2020-05-06</td><td>219500</td><td>2.87</td><td>3.08</td><td>2.78</td><td>2.98</td><td>-0.858477</td><td>HCHC</td><td>2814819</td></tr><tr><th>7</th><td>2020-05-05</td><td>190900</td><td>2.7</td><td>2.84</td><td>2.7</td><td>2.8</td><td>-0.806623</td><td>HCHC</td><td>2814820</td></tr><tr><th>8</th><td>2020-05-04</td><td>139800</td><td>2.58</td><td>2.8</td><td>2.58</td><td>2.69</td><td>-0.774934</td><td>HCHC</td><td>2814821</td></tr><tr><th>9</th><td>2020-05-01</td><td>288800</td><td>2.64</td><td>2.77</td><td>2.54</td><td>2.65</td><td>-0.763411</td><td>HCHC</td><td>2814822</td></tr><tr><th>10</th><td>2020-04-30</td><td>199700</td><td>2.88</td><td>2.88</td><td>2.61</td><td>2.69</td><td>-0.774934</td><td>HCHC</td><td>2814823</td></tr><tr><th>11</th><td>2020-04-29</td><td>300800</td><td>2.56</td><td>2.9</td><td>2.51</td><td>2.85</td><td>-0.821027</td><td>HCHC</td><td>2814824</td></tr><tr><th>12</th><td>2020-04-28</td><td>258300</td><td>2.55</td><td>2.76</td><td>2.52</td><td>2.56</td><td>-0.737484</td><td>HCHC</td><td>2814825</td></tr><tr><th>13</th><td>2020-04-27</td><td>155300</td><td>2.6</td><td>2.73</td><td>2.51</td><td>2.55</td><td>-0.734603</td><td>HCHC</td><td>2814826</td></tr><tr><th>14</th><td>2020-04-24</td><td>177300</td><td>2.83</td><td>2.84</td><td>2.63</td><td>2.66</td><td>-0.766291</td><td>HCHC</td><td>2814827</td></tr><tr><th>15</th><td>2020-04-23</td><td>349700</td><td>2.51</td><td>2.79</td><td>2.38</td><td>2.76</td><td>-0.795099</td><td>HCHC</td><td>2814828</td></tr><tr><th>&vellip;</th><td>&vellip;</td><td>&vellip;</td><td>&vellip;</td><td>&vellip;</td><td>&vellip;</td><td>&vellip;</td><td>&vellip;</td><td>&vellip;</td><td>&vellip;</td></tr></tbody></table>"
      ],
      "text/latex": [
       "\\begin{tabular}{r|ccccccccc}\n",
       "\t& date & volume & open & high & low & close & adjclose & symbol & col\\_idx\\\\\n",
       "\t\\hline\n",
       "\t& Date & Int64 & Float64 & Float64 & Float64 & Float64 & Float64 & String & Int64\\\\\n",
       "\t\\hline\n",
       "\t1 & 2020-05-13 & 507400 & 3.4 & 3.4 & 2.99 & 3.02 & -0.87 & HCHC & 2814814 \\\\\n",
       "\t2 & 2020-05-12 & 658600 & 3.22 & 3.48 & 3.11 & 3.19 & -0.918974 & HCHC & 2814815 \\\\\n",
       "\t3 & 2020-05-11 & 564700 & 3.17 & 3.43 & 3.12 & 3.18 & -0.916093 & HCHC & 2814816 \\\\\n",
       "\t4 & 2020-05-08 & 264600 & 2.92 & 3.08 & 2.8 & 3.06 & -0.881523 & HCHC & 2814817 \\\\\n",
       "\t5 & 2020-05-07 & 246900 & 3.06 & 3.06 & 2.67 & 2.8 & -0.806623 & HCHC & 2814818 \\\\\n",
       "\t6 & 2020-05-06 & 219500 & 2.87 & 3.08 & 2.78 & 2.98 & -0.858477 & HCHC & 2814819 \\\\\n",
       "\t7 & 2020-05-05 & 190900 & 2.7 & 2.84 & 2.7 & 2.8 & -0.806623 & HCHC & 2814820 \\\\\n",
       "\t8 & 2020-05-04 & 139800 & 2.58 & 2.8 & 2.58 & 2.69 & -0.774934 & HCHC & 2814821 \\\\\n",
       "\t9 & 2020-05-01 & 288800 & 2.64 & 2.77 & 2.54 & 2.65 & -0.763411 & HCHC & 2814822 \\\\\n",
       "\t10 & 2020-04-30 & 199700 & 2.88 & 2.88 & 2.61 & 2.69 & -0.774934 & HCHC & 2814823 \\\\\n",
       "\t11 & 2020-04-29 & 300800 & 2.56 & 2.9 & 2.51 & 2.85 & -0.821027 & HCHC & 2814824 \\\\\n",
       "\t12 & 2020-04-28 & 258300 & 2.55 & 2.76 & 2.52 & 2.56 & -0.737484 & HCHC & 2814825 \\\\\n",
       "\t13 & 2020-04-27 & 155300 & 2.6 & 2.73 & 2.51 & 2.55 & -0.734603 & HCHC & 2814826 \\\\\n",
       "\t14 & 2020-04-24 & 177300 & 2.83 & 2.84 & 2.63 & 2.66 & -0.766291 & HCHC & 2814827 \\\\\n",
       "\t15 & 2020-04-23 & 349700 & 2.51 & 2.79 & 2.38 & 2.76 & -0.795099 & HCHC & 2814828 \\\\\n",
       "\t$\\dots$ & $\\dots$ & $\\dots$ & $\\dots$ & $\\dots$ & $\\dots$ & $\\dots$ & $\\dots$ & $\\dots$ & $\\dots$ \\\\\n",
       "\\end{tabular}\n"
      ],
      "text/plain": [
       "\u001b[1m1350×9 DataFrame\u001b[0m\n",
       "\u001b[1m  Row \u001b[0m│\u001b[1m date       \u001b[0m\u001b[1m volume \u001b[0m\u001b[1m open    \u001b[0m\u001b[1m high    \u001b[0m\u001b[1m low     \u001b[0m\u001b[1m close   \u001b[0m\u001b[1m adjclose  \u001b[0m\u001b[1m symbol \u001b[0m\u001b[1m col_idx \u001b[0m\n",
       "\u001b[1m      \u001b[0m│\u001b[90m Date       \u001b[0m\u001b[90m Int64  \u001b[0m\u001b[90m Float64 \u001b[0m\u001b[90m Float64 \u001b[0m\u001b[90m Float64 \u001b[0m\u001b[90m Float64 \u001b[0m\u001b[90m Float64   \u001b[0m\u001b[90m String \u001b[0m\u001b[90m Int64   \u001b[0m\n",
       "──────┼────────────────────────────────────────────────────────────────────────────────────\n",
       "    1 │ 2020-05-13  507400     3.4      3.4      2.99     3.02  -0.87      HCHC    2814814\n",
       "    2 │ 2020-05-12  658600     3.22     3.48     3.11     3.19  -0.918974  HCHC    2814815\n",
       "    3 │ 2020-05-11  564700     3.17     3.43     3.12     3.18  -0.916093  HCHC    2814816\n",
       "  ⋮   │     ⋮         ⋮        ⋮        ⋮        ⋮        ⋮         ⋮        ⋮        ⋮\n",
       " 1348 │ 2015-01-06  231500     8.15     8.37     8.05     8.25  -2.37666   HCHC    2816161\n",
       " 1349 │ 2015-01-05   33400     8.34     8.34     7.92     8.0   -2.30464   HCHC    2816162\n",
       " 1350 │ 2015-01-02   28700     8.41     8.45     8.21     8.31  -2.39394   HCHC    2816163\n",
       "\u001b[36m                                                                          1344 rows omitted\u001b[0m"
      ]
     },
     "execution_count": 104,
     "metadata": {},
     "output_type": "execute_result"
    }
   ],
   "source": [
    "filter(:adjclose => <=(0), fh5)"
   ]
  },
  {
   "cell_type": "code",
   "execution_count": 105,
   "metadata": {},
   "outputs": [
    {
     "data": {
      "text/html": [
       "<table class=\"data-frame\"><thead><tr><th></th><th>variable</th><th>mean</th><th>min</th><th>median</th><th>max</th><th>nmissing</th><th>eltype</th></tr><tr><th></th><th>Symbol</th><th>Union…</th><th>Any</th><th>Union…</th><th>Any</th><th>Int64</th><th>DataType</th></tr></thead><tbody><p>9 rows × 7 columns</p><tr><th>1</th><td>date</td><td></td><td>2015-01-02</td><td></td><td>2020-07-02</td><td>0</td><td>Date</td></tr><tr><th>2</th><td>volume</td><td>1.01541e6</td><td>1</td><td>120600.0</td><td>2156725200</td><td>0</td><td>Int64</td></tr><tr><th>3</th><td>open</td><td>298.086</td><td>0.001</td><td>24.95</td><td>6.91553e7</td><td>0</td><td>Float64</td></tr><tr><th>4</th><td>high</td><td>305.876</td><td>0.0</td><td>25.11</td><td>7.05886e7</td><td>0</td><td>Float64</td></tr><tr><th>5</th><td>low</td><td>291.014</td><td>0.0</td><td>24.75</td><td>6.84387e7</td><td>0</td><td>Float64</td></tr><tr><th>6</th><td>close</td><td>296.783</td><td>0.001</td><td>24.94</td><td>6.95136e7</td><td>0</td><td>Float64</td></tr><tr><th>7</th><td>adjclose</td><td>293.231</td><td>-3.77096</td><td>23.3258</td><td>6.90222e7</td><td>0</td><td>Float64</td></tr><tr><th>8</th><td>symbol</td><td></td><td>AAAU</td><td></td><td>ZYXI</td><td>0</td><td>String</td></tr><tr><th>9</th><td>col_idx</td><td>3.42602e6</td><td>1</td><td>3.42602e6</td><td>6852038</td><td>0</td><td>Int64</td></tr></tbody></table>"
      ],
      "text/latex": [
       "\\begin{tabular}{r|ccccccc}\n",
       "\t& variable & mean & min & median & max & nmissing & eltype\\\\\n",
       "\t\\hline\n",
       "\t& Symbol & Union… & Any & Union… & Any & Int64 & DataType\\\\\n",
       "\t\\hline\n",
       "\t1 & date &  & 2015-01-02 &  & 2020-07-02 & 0 & Date \\\\\n",
       "\t2 & volume & 1.01541e6 & 1 & 120600.0 & 2156725200 & 0 & Int64 \\\\\n",
       "\t3 & open & 298.086 & 0.001 & 24.95 & 6.91553e7 & 0 & Float64 \\\\\n",
       "\t4 & high & 305.876 & 0.0 & 25.11 & 7.05886e7 & 0 & Float64 \\\\\n",
       "\t5 & low & 291.014 & 0.0 & 24.75 & 6.84387e7 & 0 & Float64 \\\\\n",
       "\t6 & close & 296.783 & 0.001 & 24.94 & 6.95136e7 & 0 & Float64 \\\\\n",
       "\t7 & adjclose & 293.231 & -3.77096 & 23.3258 & 6.90222e7 & 0 & Float64 \\\\\n",
       "\t8 & symbol &  & AAAU &  & ZYXI & 0 & String \\\\\n",
       "\t9 & col\\_idx & 3.42602e6 & 1 & 3.42602e6 & 6852038 & 0 & Int64 \\\\\n",
       "\\end{tabular}\n"
      ],
      "text/plain": [
       "\u001b[1m9×7 DataFrame\u001b[0m\n",
       "\u001b[1m Row \u001b[0m│\u001b[1m variable \u001b[0m\u001b[1m mean      \u001b[0m\u001b[1m min        \u001b[0m\u001b[1m median    \u001b[0m\u001b[1m max        \u001b[0m\u001b[1m nmissing \u001b[0m\u001b[1m eltype   \u001b[0m\n",
       "\u001b[1m     \u001b[0m│\u001b[90m Symbol   \u001b[0m\u001b[90m Union…    \u001b[0m\u001b[90m Any        \u001b[0m\u001b[90m Union…    \u001b[0m\u001b[90m Any        \u001b[0m\u001b[90m Int64    \u001b[0m\u001b[90m DataType \u001b[0m\n",
       "─────┼────────────────────────────────────────────────────────────────────────────\n",
       "   1 │ date     \u001b[90m           \u001b[0m 2015-01-02 \u001b[90m           \u001b[0m 2020-07-02         0  Date\n",
       "   2 │ volume    1.01541e6  1           120600.0   2156725200         0  Int64\n",
       "   3 │ open      298.086    0.001       24.95      6.91553e7          0  Float64\n",
       "  ⋮  │    ⋮          ⋮          ⋮           ⋮          ⋮          ⋮         ⋮\n",
       "   7 │ adjclose  293.231    -3.77096    23.3258    6.90222e7          0  Float64\n",
       "   8 │ symbol   \u001b[90m           \u001b[0m AAAU       \u001b[90m           \u001b[0m ZYXI               0  String\n",
       "   9 │ col_idx   3.42602e6  1           3.42602e6  6852038            0  Int64\n",
       "\u001b[36m                                                                    3 rows omitted\u001b[0m"
      ]
     },
     "execution_count": 105,
     "metadata": {},
     "output_type": "execute_result"
    }
   ],
   "source": [
    "describe(fh5)"
   ]
  },
  {
   "cell_type": "markdown",
   "metadata": {},
   "source": [
    "#### Exercise"
   ]
  },
  {
   "cell_type": "markdown",
   "metadata": {},
   "source": [
    "Replace non-positive values in `:adjclose` by a value in `:close` and store it in a variable `:adjclose_fix`."
   ]
  },
  {
   "cell_type": "code",
   "execution_count": 106,
   "metadata": {},
   "outputs": [
    {
     "data": {
      "text/plain": [
       "6852038-element Vector{Float64}:\n",
       " 17.709999084472656\n",
       " 17.68000030517578\n",
       " 17.780000686645508\n",
       " 17.68000030517578\n",
       " 17.670000076293945\n",
       "  ⋮\n",
       "  0.1363018900156021\n",
       "  0.1460377424955368\n",
       "  0.1460377424955368\n",
       "  0.1557735800743103\n",
       "  0.1752452850341797"
      ]
     },
     "execution_count": 106,
     "metadata": {},
     "output_type": "execute_result"
    }
   ],
   "source": [
    "fh5.adjclose_fix = ifelse.(fh5.adjclose .<= 0, fh5.close, fh5.adjclose)"
   ]
  },
  {
   "cell_type": "code",
   "execution_count": 107,
   "metadata": {},
   "outputs": [
    {
     "data": {
      "text/html": [
       "<table class=\"data-frame\"><thead><tr><th></th><th>date</th><th>volume</th><th>open</th><th>high</th><th>low</th><th>close</th><th>adjclose</th><th>symbol</th><th>col_idx</th><th>adjclose_fix</th></tr><tr><th></th><th>Date</th><th>Int64</th><th>Float64</th><th>Float64</th><th>Float64</th><th>Float64</th><th>Float64</th><th>String</th><th>Int64</th><th>Float64</th></tr></thead><tbody><p>1,350 rows × 10 columns</p><tr><th>1</th><td>2020-05-13</td><td>507400</td><td>3.4</td><td>3.4</td><td>2.99</td><td>3.02</td><td>-0.87</td><td>HCHC</td><td>2814814</td><td>3.02</td></tr><tr><th>2</th><td>2020-05-12</td><td>658600</td><td>3.22</td><td>3.48</td><td>3.11</td><td>3.19</td><td>-0.918974</td><td>HCHC</td><td>2814815</td><td>3.19</td></tr><tr><th>3</th><td>2020-05-11</td><td>564700</td><td>3.17</td><td>3.43</td><td>3.12</td><td>3.18</td><td>-0.916093</td><td>HCHC</td><td>2814816</td><td>3.18</td></tr><tr><th>4</th><td>2020-05-08</td><td>264600</td><td>2.92</td><td>3.08</td><td>2.8</td><td>3.06</td><td>-0.881523</td><td>HCHC</td><td>2814817</td><td>3.06</td></tr><tr><th>5</th><td>2020-05-07</td><td>246900</td><td>3.06</td><td>3.06</td><td>2.67</td><td>2.8</td><td>-0.806623</td><td>HCHC</td><td>2814818</td><td>2.8</td></tr><tr><th>6</th><td>2020-05-06</td><td>219500</td><td>2.87</td><td>3.08</td><td>2.78</td><td>2.98</td><td>-0.858477</td><td>HCHC</td><td>2814819</td><td>2.98</td></tr><tr><th>7</th><td>2020-05-05</td><td>190900</td><td>2.7</td><td>2.84</td><td>2.7</td><td>2.8</td><td>-0.806623</td><td>HCHC</td><td>2814820</td><td>2.8</td></tr><tr><th>8</th><td>2020-05-04</td><td>139800</td><td>2.58</td><td>2.8</td><td>2.58</td><td>2.69</td><td>-0.774934</td><td>HCHC</td><td>2814821</td><td>2.69</td></tr><tr><th>9</th><td>2020-05-01</td><td>288800</td><td>2.64</td><td>2.77</td><td>2.54</td><td>2.65</td><td>-0.763411</td><td>HCHC</td><td>2814822</td><td>2.65</td></tr><tr><th>10</th><td>2020-04-30</td><td>199700</td><td>2.88</td><td>2.88</td><td>2.61</td><td>2.69</td><td>-0.774934</td><td>HCHC</td><td>2814823</td><td>2.69</td></tr><tr><th>11</th><td>2020-04-29</td><td>300800</td><td>2.56</td><td>2.9</td><td>2.51</td><td>2.85</td><td>-0.821027</td><td>HCHC</td><td>2814824</td><td>2.85</td></tr><tr><th>12</th><td>2020-04-28</td><td>258300</td><td>2.55</td><td>2.76</td><td>2.52</td><td>2.56</td><td>-0.737484</td><td>HCHC</td><td>2814825</td><td>2.56</td></tr><tr><th>13</th><td>2020-04-27</td><td>155300</td><td>2.6</td><td>2.73</td><td>2.51</td><td>2.55</td><td>-0.734603</td><td>HCHC</td><td>2814826</td><td>2.55</td></tr><tr><th>14</th><td>2020-04-24</td><td>177300</td><td>2.83</td><td>2.84</td><td>2.63</td><td>2.66</td><td>-0.766291</td><td>HCHC</td><td>2814827</td><td>2.66</td></tr><tr><th>15</th><td>2020-04-23</td><td>349700</td><td>2.51</td><td>2.79</td><td>2.38</td><td>2.76</td><td>-0.795099</td><td>HCHC</td><td>2814828</td><td>2.76</td></tr><tr><th>&vellip;</th><td>&vellip;</td><td>&vellip;</td><td>&vellip;</td><td>&vellip;</td><td>&vellip;</td><td>&vellip;</td><td>&vellip;</td><td>&vellip;</td><td>&vellip;</td><td>&vellip;</td></tr></tbody></table>"
      ],
      "text/latex": [
       "\\begin{tabular}{r|cccccccccc}\n",
       "\t& date & volume & open & high & low & close & adjclose & symbol & col\\_idx & adjclose\\_fix\\\\\n",
       "\t\\hline\n",
       "\t& Date & Int64 & Float64 & Float64 & Float64 & Float64 & Float64 & String & Int64 & Float64\\\\\n",
       "\t\\hline\n",
       "\t1 & 2020-05-13 & 507400 & 3.4 & 3.4 & 2.99 & 3.02 & -0.87 & HCHC & 2814814 & 3.02 \\\\\n",
       "\t2 & 2020-05-12 & 658600 & 3.22 & 3.48 & 3.11 & 3.19 & -0.918974 & HCHC & 2814815 & 3.19 \\\\\n",
       "\t3 & 2020-05-11 & 564700 & 3.17 & 3.43 & 3.12 & 3.18 & -0.916093 & HCHC & 2814816 & 3.18 \\\\\n",
       "\t4 & 2020-05-08 & 264600 & 2.92 & 3.08 & 2.8 & 3.06 & -0.881523 & HCHC & 2814817 & 3.06 \\\\\n",
       "\t5 & 2020-05-07 & 246900 & 3.06 & 3.06 & 2.67 & 2.8 & -0.806623 & HCHC & 2814818 & 2.8 \\\\\n",
       "\t6 & 2020-05-06 & 219500 & 2.87 & 3.08 & 2.78 & 2.98 & -0.858477 & HCHC & 2814819 & 2.98 \\\\\n",
       "\t7 & 2020-05-05 & 190900 & 2.7 & 2.84 & 2.7 & 2.8 & -0.806623 & HCHC & 2814820 & 2.8 \\\\\n",
       "\t8 & 2020-05-04 & 139800 & 2.58 & 2.8 & 2.58 & 2.69 & -0.774934 & HCHC & 2814821 & 2.69 \\\\\n",
       "\t9 & 2020-05-01 & 288800 & 2.64 & 2.77 & 2.54 & 2.65 & -0.763411 & HCHC & 2814822 & 2.65 \\\\\n",
       "\t10 & 2020-04-30 & 199700 & 2.88 & 2.88 & 2.61 & 2.69 & -0.774934 & HCHC & 2814823 & 2.69 \\\\\n",
       "\t11 & 2020-04-29 & 300800 & 2.56 & 2.9 & 2.51 & 2.85 & -0.821027 & HCHC & 2814824 & 2.85 \\\\\n",
       "\t12 & 2020-04-28 & 258300 & 2.55 & 2.76 & 2.52 & 2.56 & -0.737484 & HCHC & 2814825 & 2.56 \\\\\n",
       "\t13 & 2020-04-27 & 155300 & 2.6 & 2.73 & 2.51 & 2.55 & -0.734603 & HCHC & 2814826 & 2.55 \\\\\n",
       "\t14 & 2020-04-24 & 177300 & 2.83 & 2.84 & 2.63 & 2.66 & -0.766291 & HCHC & 2814827 & 2.66 \\\\\n",
       "\t15 & 2020-04-23 & 349700 & 2.51 & 2.79 & 2.38 & 2.76 & -0.795099 & HCHC & 2814828 & 2.76 \\\\\n",
       "\t$\\dots$ & $\\dots$ & $\\dots$ & $\\dots$ & $\\dots$ & $\\dots$ & $\\dots$ & $\\dots$ & $\\dots$ & $\\dots$ & $\\dots$ \\\\\n",
       "\\end{tabular}\n"
      ],
      "text/plain": [
       "\u001b[1m1350×10 DataFrame\u001b[0m\n",
       "\u001b[1m  Row \u001b[0m│\u001b[1m date       \u001b[0m\u001b[1m volume \u001b[0m\u001b[1m open    \u001b[0m\u001b[1m high    \u001b[0m\u001b[1m low     \u001b[0m\u001b[1m close   \u001b[0m\u001b[1m adjclose  \u001b[0m\u001b[1m symbol \u001b[0m\u001b[1m col_idx \u001b[0m\u001b[1m adjclose_fix \u001b[0m\n",
       "\u001b[1m      \u001b[0m│\u001b[90m Date       \u001b[0m\u001b[90m Int64  \u001b[0m\u001b[90m Float64 \u001b[0m\u001b[90m Float64 \u001b[0m\u001b[90m Float64 \u001b[0m\u001b[90m Float64 \u001b[0m\u001b[90m Float64   \u001b[0m\u001b[90m String \u001b[0m\u001b[90m Int64   \u001b[0m\u001b[90m Float64      \u001b[0m\n",
       "──────┼──────────────────────────────────────────────────────────────────────────────────────────────────\n",
       "    1 │ 2020-05-13  507400     3.4      3.4      2.99     3.02  -0.87      HCHC    2814814          3.02\n",
       "    2 │ 2020-05-12  658600     3.22     3.48     3.11     3.19  -0.918974  HCHC    2814815          3.19\n",
       "    3 │ 2020-05-11  564700     3.17     3.43     3.12     3.18  -0.916093  HCHC    2814816          3.18\n",
       "  ⋮   │     ⋮         ⋮        ⋮        ⋮        ⋮        ⋮         ⋮        ⋮        ⋮          ⋮\n",
       " 1348 │ 2015-01-06  231500     8.15     8.37     8.05     8.25  -2.37666   HCHC    2816161          8.25\n",
       " 1349 │ 2015-01-05   33400     8.34     8.34     7.92     8.0   -2.30464   HCHC    2816162          8.0\n",
       " 1350 │ 2015-01-02   28700     8.41     8.45     8.21     8.31  -2.39394   HCHC    2816163          8.31\n",
       "\u001b[36m                                                                                        1344 rows omitted\u001b[0m"
      ]
     },
     "execution_count": 107,
     "metadata": {},
     "output_type": "execute_result"
    }
   ],
   "source": [
    "filter(:adjclose => <=(0), fh5)"
   ]
  },
  {
   "cell_type": "markdown",
   "metadata": {},
   "source": [
    "and something more advanced now for each stock calculate a column with log-returns of `:close` and store it in `:close_returns`:"
   ]
  },
  {
   "cell_type": "code",
   "execution_count": 108,
   "metadata": {},
   "outputs": [
    {
     "data": {
      "text/html": [
       "<table class=\"data-frame\"><thead><tr><th></th><th>date</th><th>volume</th><th>open</th><th>high</th><th>low</th><th>close</th><th>adjclose</th><th>symbol</th><th>col_idx</th><th>adjclose_fix</th></tr><tr><th></th><th>Date</th><th>Int64</th><th>Float64</th><th>Float64</th><th>Float64</th><th>Float64</th><th>Float64</th><th>String</th><th>Int64</th><th>Float64</th></tr></thead><tbody><p>6,852,038 rows × 10 columns</p><tr><th>1</th><td>2015-01-02</td><td>2000</td><td>37.25</td><td>37.25</td><td>36.64</td><td>36.64</td><td>35.3998</td><td>AADR</td><td>2114</td><td>35.3998</td></tr><tr><th>2</th><td>2015-01-02</td><td>10748600</td><td>54.28</td><td>54.6</td><td>53.07</td><td>53.91</td><td>51.0799</td><td>AAL</td><td>3499</td><td>51.0799</td></tr><tr><th>3</th><td>2015-01-02</td><td>11500</td><td>308.0</td><td>348.59</td><td>308.0</td><td>327.18</td><td>327.18</td><td>AAMC</td><td>4798</td><td>327.18</td></tr><tr><th>4</th><td>2015-01-02</td><td>11400</td><td>3.99</td><td>4.03</td><td>3.98</td><td>4.03</td><td>3.91772</td><td>AAME</td><td>6079</td><td>3.91772</td></tr><tr><th>5</th><td>2015-01-02</td><td>898900</td><td>30.81</td><td>30.86</td><td>30.04</td><td>30.62</td><td>30.0588</td><td>AAN</td><td>7464</td><td>30.0588</td></tr><tr><th>6</th><td>2015-01-02</td><td>184600</td><td>11.28</td><td>11.28</td><td>10.72</td><td>10.79</td><td>10.79</td><td>AAOI</td><td>8840</td><td>10.79</td></tr><tr><th>7</th><td>2015-01-02</td><td>90700</td><td>22.55</td><td>22.68</td><td>21.6</td><td>21.93</td><td>20.9958</td><td>AAON</td><td>10225</td><td>20.9958</td></tr><tr><th>8</th><td>2015-01-02</td><td>509800</td><td>160.85</td><td>162.5</td><td>157.47</td><td>158.56</td><td>156.251</td><td>AAP</td><td>11610</td><td>156.251</td></tr><tr><th>9</th><td>2015-01-02</td><td>53204600</td><td>111.39</td><td>111.44</td><td>107.35</td><td>109.33</td><td>99.9459</td><td>AAPL</td><td>12995</td><td>99.9459</td></tr><tr><th>10</th><td>2015-01-02</td><td>107500</td><td>40.12</td><td>40.46</td><td>39.95</td><td>40.37</td><td>35.0019</td><td>AAT</td><td>14380</td><td>35.0019</td></tr><tr><th>11</th><td>2015-01-02</td><td>182200</td><td>0.95</td><td>0.98</td><td>0.94</td><td>0.95</td><td>0.95</td><td>AAU</td><td>15765</td><td>0.95</td></tr><tr><th>12</th><td>2015-01-02</td><td>225900</td><td>49.71</td><td>49.82</td><td>47.73</td><td>48.42</td><td>48.42</td><td>AAWW</td><td>17150</td><td>48.42</td></tr><tr><th>13</th><td>2015-01-02</td><td>509500</td><td>61.17</td><td>61.17</td><td>60.49</td><td>60.63</td><td>54.6193</td><td>AAXJ</td><td>18535</td><td>54.6193</td></tr><tr><th>14</th><td>2015-01-02</td><td>135200</td><td>26.15</td><td>26.22</td><td>25.62</td><td>26.1</td><td>26.1</td><td>AB</td><td>19920</td><td>26.1</td></tr><tr><th>15</th><td>2015-01-02</td><td>1255500</td><td>21.15</td><td>21.21</td><td>20.97</td><td>21.08</td><td>16.7124</td><td>ABB</td><td>21305</td><td>16.7124</td></tr><tr><th>&vellip;</th><td>&vellip;</td><td>&vellip;</td><td>&vellip;</td><td>&vellip;</td><td>&vellip;</td><td>&vellip;</td><td>&vellip;</td><td>&vellip;</td><td>&vellip;</td><td>&vellip;</td></tr></tbody></table>"
      ],
      "text/latex": [
       "\\begin{tabular}{r|cccccccccc}\n",
       "\t& date & volume & open & high & low & close & adjclose & symbol & col\\_idx & adjclose\\_fix\\\\\n",
       "\t\\hline\n",
       "\t& Date & Int64 & Float64 & Float64 & Float64 & Float64 & Float64 & String & Int64 & Float64\\\\\n",
       "\t\\hline\n",
       "\t1 & 2015-01-02 & 2000 & 37.25 & 37.25 & 36.64 & 36.64 & 35.3998 & AADR & 2114 & 35.3998 \\\\\n",
       "\t2 & 2015-01-02 & 10748600 & 54.28 & 54.6 & 53.07 & 53.91 & 51.0799 & AAL & 3499 & 51.0799 \\\\\n",
       "\t3 & 2015-01-02 & 11500 & 308.0 & 348.59 & 308.0 & 327.18 & 327.18 & AAMC & 4798 & 327.18 \\\\\n",
       "\t4 & 2015-01-02 & 11400 & 3.99 & 4.03 & 3.98 & 4.03 & 3.91772 & AAME & 6079 & 3.91772 \\\\\n",
       "\t5 & 2015-01-02 & 898900 & 30.81 & 30.86 & 30.04 & 30.62 & 30.0588 & AAN & 7464 & 30.0588 \\\\\n",
       "\t6 & 2015-01-02 & 184600 & 11.28 & 11.28 & 10.72 & 10.79 & 10.79 & AAOI & 8840 & 10.79 \\\\\n",
       "\t7 & 2015-01-02 & 90700 & 22.55 & 22.68 & 21.6 & 21.93 & 20.9958 & AAON & 10225 & 20.9958 \\\\\n",
       "\t8 & 2015-01-02 & 509800 & 160.85 & 162.5 & 157.47 & 158.56 & 156.251 & AAP & 11610 & 156.251 \\\\\n",
       "\t9 & 2015-01-02 & 53204600 & 111.39 & 111.44 & 107.35 & 109.33 & 99.9459 & AAPL & 12995 & 99.9459 \\\\\n",
       "\t10 & 2015-01-02 & 107500 & 40.12 & 40.46 & 39.95 & 40.37 & 35.0019 & AAT & 14380 & 35.0019 \\\\\n",
       "\t11 & 2015-01-02 & 182200 & 0.95 & 0.98 & 0.94 & 0.95 & 0.95 & AAU & 15765 & 0.95 \\\\\n",
       "\t12 & 2015-01-02 & 225900 & 49.71 & 49.82 & 47.73 & 48.42 & 48.42 & AAWW & 17150 & 48.42 \\\\\n",
       "\t13 & 2015-01-02 & 509500 & 61.17 & 61.17 & 60.49 & 60.63 & 54.6193 & AAXJ & 18535 & 54.6193 \\\\\n",
       "\t14 & 2015-01-02 & 135200 & 26.15 & 26.22 & 25.62 & 26.1 & 26.1 & AB & 19920 & 26.1 \\\\\n",
       "\t15 & 2015-01-02 & 1255500 & 21.15 & 21.21 & 20.97 & 21.08 & 16.7124 & ABB & 21305 & 16.7124 \\\\\n",
       "\t$\\dots$ & $\\dots$ & $\\dots$ & $\\dots$ & $\\dots$ & $\\dots$ & $\\dots$ & $\\dots$ & $\\dots$ & $\\dots$ & $\\dots$ \\\\\n",
       "\\end{tabular}\n"
      ],
      "text/plain": [
       "\u001b[1m6852038×10 DataFrame\u001b[0m\n",
       "\u001b[1m     Row \u001b[0m│\u001b[1m date       \u001b[0m\u001b[1m volume   \u001b[0m\u001b[1m open    \u001b[0m\u001b[1m high    \u001b[0m\u001b[1m low     \u001b[0m\u001b[1m close   \u001b[0m\u001b[1m adjclose  \u001b[0m\u001b[1m symbol \u001b[0m\u001b[1m col_idx \u001b[0m\u001b[1m adjclose_fix \u001b[0m\n",
       "\u001b[1m         \u001b[0m│\u001b[90m Date       \u001b[0m\u001b[90m Int64    \u001b[0m\u001b[90m Float64 \u001b[0m\u001b[90m Float64 \u001b[0m\u001b[90m Float64 \u001b[0m\u001b[90m Float64 \u001b[0m\u001b[90m Float64   \u001b[0m\u001b[90m String \u001b[0m\u001b[90m Int64   \u001b[0m\u001b[90m Float64      \u001b[0m\n",
       "─────────┼────────────────────────────────────────────────────────────────────────────────────────────────────\n",
       "       1 │ 2015-01-02      2000    37.25    37.25    36.64    36.64   35.3998   AADR       2114      35.3998\n",
       "       2 │ 2015-01-02  10748600    54.28    54.6     53.07    53.91   51.0799   AAL        3499      51.0799\n",
       "       3 │ 2015-01-02     11500   308.0    348.59   308.0    327.18  327.18     AAMC       4798     327.18\n",
       "    ⋮    │     ⋮          ⋮         ⋮        ⋮        ⋮        ⋮         ⋮        ⋮        ⋮          ⋮\n",
       " 6852036 │ 2020-07-02    214200    36.53    37.04    35.73    35.98   35.98     ZYME    6848786      35.98\n",
       " 6852037 │ 2020-07-02   2857200     3.66     3.69     3.4      3.5     3.5      ZYNE    6849587       3.5\n",
       " 6852038 │ 2020-07-02   1072200    24.54    26.84    24.44    25.12   25.12     ZYXI    6850824      25.12\n",
       "\u001b[36m                                                                                          6852032 rows omitted\u001b[0m"
      ]
     },
     "execution_count": 108,
     "metadata": {},
     "output_type": "execute_result"
    }
   ],
   "source": [
    "df = sort(fh5, :date)"
   ]
  },
  {
   "cell_type": "code",
   "execution_count": 109,
   "metadata": {},
   "outputs": [
    {
     "data": {
      "text/html": [
       "<p><b>GroupedDataFrame with 6335 groups based on key: symbol</b></p><p><i>First Group (474 rows): symbol = \"AAAU\"</i></p><table class=\"data-frame\"><thead><tr><th></th><th>date</th><th>volume</th><th>open</th><th>high</th><th>low</th><th>close</th><th>adjclose</th><th>symbol</th><th>col_idx</th><th>adjclose_fix</th></tr><tr><th></th><th>Date</th><th>Int64</th><th>Float64</th><th>Float64</th><th>Float64</th><th>Float64</th><th>Float64</th><th>String</th><th>Int64</th><th>Float64</th></tr></thead><tbody><tr><th>1</th><td>2018-08-15</td><td>27300</td><td>11.84</td><td>11.84</td><td>11.74</td><td>11.74</td><td>11.74</td><td>AAAU</td><td>474</td><td>11.74</td></tr><tr><th>2</th><td>2018-08-16</td><td>428400</td><td>11.78</td><td>11.8</td><td>11.74</td><td>11.74</td><td>11.74</td><td>AAAU</td><td>473</td><td>11.74</td></tr><tr><th>3</th><td>2018-08-17</td><td>52400</td><td>11.8</td><td>11.82</td><td>11.77</td><td>11.82</td><td>11.82</td><td>AAAU</td><td>472</td><td>11.82</td></tr><tr><th>4</th><td>2018-08-20</td><td>28700</td><td>11.88</td><td>11.91</td><td>11.85</td><td>11.9</td><td>11.9</td><td>AAAU</td><td>471</td><td>11.9</td></tr><tr><th>5</th><td>2018-08-21</td><td>30600</td><td>11.92</td><td>11.95</td><td>11.89</td><td>11.93</td><td>11.93</td><td>AAAU</td><td>470</td><td>11.93</td></tr><tr><th>6</th><td>2018-08-22</td><td>101200</td><td>11.98</td><td>11.98</td><td>11.94</td><td>11.96</td><td>11.96</td><td>AAAU</td><td>469</td><td>11.96</td></tr><tr><th>7</th><td>2018-08-23</td><td>54800</td><td>11.91</td><td>11.92</td><td>11.85</td><td>11.85</td><td>11.85</td><td>AAAU</td><td>468</td><td>11.85</td></tr><tr><th>8</th><td>2018-08-24</td><td>106500</td><td>11.97</td><td>12.08</td><td>11.96</td><td>12.05</td><td>12.05</td><td>AAAU</td><td>467</td><td>12.05</td></tr><tr><th>9</th><td>2018-08-27</td><td>295100</td><td>12.06</td><td>12.13</td><td>12.06</td><td>12.1</td><td>12.1</td><td>AAAU</td><td>466</td><td>12.1</td></tr><tr><th>10</th><td>2018-08-28</td><td>30400</td><td>12.13</td><td>12.13</td><td>12.01</td><td>12.01</td><td>12.01</td><td>AAAU</td><td>465</td><td>12.01</td></tr><tr><th>11</th><td>2018-08-29</td><td>31800</td><td>12.06</td><td>12.06</td><td>12.03</td><td>12.05</td><td>12.05</td><td>AAAU</td><td>464</td><td>12.05</td></tr><tr><th>12</th><td>2018-08-30</td><td>804500</td><td>12.03</td><td>12.03</td><td>11.97</td><td>12.01</td><td>12.01</td><td>AAAU</td><td>463</td><td>12.01</td></tr><tr><th>13</th><td>2018-08-31</td><td>39500</td><td>12.04</td><td>12.05</td><td>11.99</td><td>12.0</td><td>12.0</td><td>AAAU</td><td>462</td><td>12.0</td></tr><tr><th>14</th><td>2018-09-04</td><td>6000</td><td>11.91</td><td>11.94</td><td>11.9</td><td>11.92</td><td>11.92</td><td>AAAU</td><td>461</td><td>11.92</td></tr><tr><th>15</th><td>2018-09-05</td><td>1032800</td><td>11.98</td><td>11.98</td><td>11.96</td><td>11.97</td><td>11.97</td><td>AAAU</td><td>460</td><td>11.97</td></tr><tr><th>&vellip;</th><td>&vellip;</td><td>&vellip;</td><td>&vellip;</td><td>&vellip;</td><td>&vellip;</td><td>&vellip;</td><td>&vellip;</td><td>&vellip;</td><td>&vellip;</td><td>&vellip;</td></tr></tbody></table><p>&vellip;</p><p><i>Last Group (1215 rows): symbol = \"ZYXI\"</i></p><table class=\"data-frame\"><thead><tr><th></th><th>date</th><th>volume</th><th>open</th><th>high</th><th>low</th><th>close</th><th>adjclose</th><th>symbol</th><th>col_idx</th><th>adjclose_fix</th></tr><tr><th></th><th>Date</th><th>Int64</th><th>Float64</th><th>Float64</th><th>Float64</th><th>Float64</th><th>Float64</th><th>String</th><th>Int64</th><th>Float64</th></tr></thead><tbody><tr><th>1</th><td>2015-01-02</td><td>100</td><td>0.18</td><td>0.18</td><td>0.18</td><td>0.18</td><td>0.175245</td><td>ZYXI</td><td>6852038</td><td>0.175245</td></tr><tr><th>2</th><td>2015-01-05</td><td>33200</td><td>0.22</td><td>0.22</td><td>0.14</td><td>0.16</td><td>0.155774</td><td>ZYXI</td><td>6852037</td><td>0.155774</td></tr><tr><th>3</th><td>2015-01-07</td><td>8100</td><td>0.14</td><td>0.15</td><td>0.13</td><td>0.15</td><td>0.146038</td><td>ZYXI</td><td>6852036</td><td>0.146038</td></tr><tr><th>4</th><td>2015-01-09</td><td>200</td><td>0.15</td><td>0.15</td><td>0.15</td><td>0.15</td><td>0.146038</td><td>ZYXI</td><td>6852035</td><td>0.146038</td></tr><tr><th>5</th><td>2015-01-12</td><td>10000</td><td>0.14</td><td>0.14</td><td>0.14</td><td>0.14</td><td>0.136302</td><td>ZYXI</td><td>6852034</td><td>0.136302</td></tr><tr><th>6</th><td>2015-01-13</td><td>27800</td><td>0.14</td><td>0.19</td><td>0.14</td><td>0.19</td><td>0.184981</td><td>ZYXI</td><td>6852033</td><td>0.184981</td></tr><tr><th>7</th><td>2015-01-14</td><td>33800</td><td>0.13</td><td>0.19</td><td>0.13</td><td>0.19</td><td>0.184981</td><td>ZYXI</td><td>6852032</td><td>0.184981</td></tr><tr><th>8</th><td>2015-01-16</td><td>8000</td><td>0.12</td><td>0.18</td><td>0.12</td><td>0.18</td><td>0.175245</td><td>ZYXI</td><td>6852031</td><td>0.175245</td></tr><tr><th>9</th><td>2015-01-20</td><td>1800</td><td>0.18</td><td>0.18</td><td>0.17</td><td>0.18</td><td>0.175245</td><td>ZYXI</td><td>6852030</td><td>0.175245</td></tr><tr><th>10</th><td>2015-01-21</td><td>7800</td><td>0.13</td><td>0.18</td><td>0.12</td><td>0.18</td><td>0.175245</td><td>ZYXI</td><td>6852029</td><td>0.175245</td></tr><tr><th>11</th><td>2015-01-22</td><td>5000</td><td>0.12</td><td>0.18</td><td>0.12</td><td>0.18</td><td>0.175245</td><td>ZYXI</td><td>6852028</td><td>0.175245</td></tr><tr><th>12</th><td>2015-01-23</td><td>800</td><td>0.13</td><td>0.18</td><td>0.13</td><td>0.18</td><td>0.175245</td><td>ZYXI</td><td>6852027</td><td>0.175245</td></tr><tr><th>13</th><td>2015-01-26</td><td>7300</td><td>0.18</td><td>0.18</td><td>0.18</td><td>0.18</td><td>0.175245</td><td>ZYXI</td><td>6852026</td><td>0.175245</td></tr><tr><th>14</th><td>2015-01-27</td><td>1800</td><td>0.13</td><td>0.18</td><td>0.13</td><td>0.18</td><td>0.175245</td><td>ZYXI</td><td>6852025</td><td>0.175245</td></tr><tr><th>15</th><td>2015-02-02</td><td>14000</td><td>0.16</td><td>0.16</td><td>0.16</td><td>0.16</td><td>0.155774</td><td>ZYXI</td><td>6852024</td><td>0.155774</td></tr><tr><th>&vellip;</th><td>&vellip;</td><td>&vellip;</td><td>&vellip;</td><td>&vellip;</td><td>&vellip;</td><td>&vellip;</td><td>&vellip;</td><td>&vellip;</td><td>&vellip;</td><td>&vellip;</td></tr></tbody></table>"
      ],
      "text/latex": [
       "GroupedDataFrame with 6335 groups based on key: symbol\n",
       "\n",
       "First Group (474 rows): symbol = \"AAAU\"\n",
       "\n",
       "\\begin{tabular}{r|cccccccccc}\n",
       "\t& date & volume & open & high & low & close & adjclose & symbol & col\\_idx & adjclose\\_fix\\\\\n",
       "\t\\hline\n",
       "\t& Date & Int64 & Float64 & Float64 & Float64 & Float64 & Float64 & String & Int64 & Float64\\\\\n",
       "\t\\hline\n",
       "\t1 & 2018-08-15 & 27300 & 11.84 & 11.84 & 11.74 & 11.74 & 11.74 & AAAU & 474 & 11.74 \\\\\n",
       "\t2 & 2018-08-16 & 428400 & 11.78 & 11.8 & 11.74 & 11.74 & 11.74 & AAAU & 473 & 11.74 \\\\\n",
       "\t3 & 2018-08-17 & 52400 & 11.8 & 11.82 & 11.77 & 11.82 & 11.82 & AAAU & 472 & 11.82 \\\\\n",
       "\t4 & 2018-08-20 & 28700 & 11.88 & 11.91 & 11.85 & 11.9 & 11.9 & AAAU & 471 & 11.9 \\\\\n",
       "\t5 & 2018-08-21 & 30600 & 11.92 & 11.95 & 11.89 & 11.93 & 11.93 & AAAU & 470 & 11.93 \\\\\n",
       "\t6 & 2018-08-22 & 101200 & 11.98 & 11.98 & 11.94 & 11.96 & 11.96 & AAAU & 469 & 11.96 \\\\\n",
       "\t7 & 2018-08-23 & 54800 & 11.91 & 11.92 & 11.85 & 11.85 & 11.85 & AAAU & 468 & 11.85 \\\\\n",
       "\t8 & 2018-08-24 & 106500 & 11.97 & 12.08 & 11.96 & 12.05 & 12.05 & AAAU & 467 & 12.05 \\\\\n",
       "\t9 & 2018-08-27 & 295100 & 12.06 & 12.13 & 12.06 & 12.1 & 12.1 & AAAU & 466 & 12.1 \\\\\n",
       "\t10 & 2018-08-28 & 30400 & 12.13 & 12.13 & 12.01 & 12.01 & 12.01 & AAAU & 465 & 12.01 \\\\\n",
       "\t11 & 2018-08-29 & 31800 & 12.06 & 12.06 & 12.03 & 12.05 & 12.05 & AAAU & 464 & 12.05 \\\\\n",
       "\t12 & 2018-08-30 & 804500 & 12.03 & 12.03 & 11.97 & 12.01 & 12.01 & AAAU & 463 & 12.01 \\\\\n",
       "\t13 & 2018-08-31 & 39500 & 12.04 & 12.05 & 11.99 & 12.0 & 12.0 & AAAU & 462 & 12.0 \\\\\n",
       "\t14 & 2018-09-04 & 6000 & 11.91 & 11.94 & 11.9 & 11.92 & 11.92 & AAAU & 461 & 11.92 \\\\\n",
       "\t15 & 2018-09-05 & 1032800 & 11.98 & 11.98 & 11.96 & 11.97 & 11.97 & AAAU & 460 & 11.97 \\\\\n",
       "\t$\\dots$ & $\\dots$ & $\\dots$ & $\\dots$ & $\\dots$ & $\\dots$ & $\\dots$ & $\\dots$ & $\\dots$ & $\\dots$ & $\\dots$ \\\\\n",
       "\\end{tabular}\n",
       "\n",
       "$\\dots$\n",
       "\n",
       "Last Group (1215 rows): symbol = \"ZYXI\"\n",
       "\n",
       "\\begin{tabular}{r|cccccccccc}\n",
       "\t& date & volume & open & high & low & close & adjclose & symbol & col\\_idx & adjclose\\_fix\\\\\n",
       "\t\\hline\n",
       "\t& Date & Int64 & Float64 & Float64 & Float64 & Float64 & Float64 & String & Int64 & Float64\\\\\n",
       "\t\\hline\n",
       "\t1 & 2015-01-02 & 100 & 0.18 & 0.18 & 0.18 & 0.18 & 0.175245 & ZYXI & 6852038 & 0.175245 \\\\\n",
       "\t2 & 2015-01-05 & 33200 & 0.22 & 0.22 & 0.14 & 0.16 & 0.155774 & ZYXI & 6852037 & 0.155774 \\\\\n",
       "\t3 & 2015-01-07 & 8100 & 0.14 & 0.15 & 0.13 & 0.15 & 0.146038 & ZYXI & 6852036 & 0.146038 \\\\\n",
       "\t4 & 2015-01-09 & 200 & 0.15 & 0.15 & 0.15 & 0.15 & 0.146038 & ZYXI & 6852035 & 0.146038 \\\\\n",
       "\t5 & 2015-01-12 & 10000 & 0.14 & 0.14 & 0.14 & 0.14 & 0.136302 & ZYXI & 6852034 & 0.136302 \\\\\n",
       "\t6 & 2015-01-13 & 27800 & 0.14 & 0.19 & 0.14 & 0.19 & 0.184981 & ZYXI & 6852033 & 0.184981 \\\\\n",
       "\t7 & 2015-01-14 & 33800 & 0.13 & 0.19 & 0.13 & 0.19 & 0.184981 & ZYXI & 6852032 & 0.184981 \\\\\n",
       "\t8 & 2015-01-16 & 8000 & 0.12 & 0.18 & 0.12 & 0.18 & 0.175245 & ZYXI & 6852031 & 0.175245 \\\\\n",
       "\t9 & 2015-01-20 & 1800 & 0.18 & 0.18 & 0.17 & 0.18 & 0.175245 & ZYXI & 6852030 & 0.175245 \\\\\n",
       "\t10 & 2015-01-21 & 7800 & 0.13 & 0.18 & 0.12 & 0.18 & 0.175245 & ZYXI & 6852029 & 0.175245 \\\\\n",
       "\t11 & 2015-01-22 & 5000 & 0.12 & 0.18 & 0.12 & 0.18 & 0.175245 & ZYXI & 6852028 & 0.175245 \\\\\n",
       "\t12 & 2015-01-23 & 800 & 0.13 & 0.18 & 0.13 & 0.18 & 0.175245 & ZYXI & 6852027 & 0.175245 \\\\\n",
       "\t13 & 2015-01-26 & 7300 & 0.18 & 0.18 & 0.18 & 0.18 & 0.175245 & ZYXI & 6852026 & 0.175245 \\\\\n",
       "\t14 & 2015-01-27 & 1800 & 0.13 & 0.18 & 0.13 & 0.18 & 0.175245 & ZYXI & 6852025 & 0.175245 \\\\\n",
       "\t15 & 2015-02-02 & 14000 & 0.16 & 0.16 & 0.16 & 0.16 & 0.155774 & ZYXI & 6852024 & 0.155774 \\\\\n",
       "\t$\\dots$ & $\\dots$ & $\\dots$ & $\\dots$ & $\\dots$ & $\\dots$ & $\\dots$ & $\\dots$ & $\\dots$ & $\\dots$ & $\\dots$ \\\\\n",
       "\\end{tabular}\n"
      ],
      "text/plain": [
       "GroupedDataFrame with 6335 groups based on key: symbol\n",
       "First Group (474 rows): symbol = \"AAAU\"\n",
       "\u001b[1m Row \u001b[0m│\u001b[1m date       \u001b[0m\u001b[1m volume \u001b[0m\u001b[1m open    \u001b[0m\u001b[1m high    \u001b[0m\u001b[1m low     \u001b[0m\u001b[1m close   \u001b[0m\u001b[1m adjclose \u001b[0m\u001b[1m symbol \u001b[0m\u001b[1m col_idx \u001b[0m\u001b[1m adjclose_fix \u001b[0m\n",
       "\u001b[1m     \u001b[0m│\u001b[90m Date       \u001b[0m\u001b[90m Int64  \u001b[0m\u001b[90m Float64 \u001b[0m\u001b[90m Float64 \u001b[0m\u001b[90m Float64 \u001b[0m\u001b[90m Float64 \u001b[0m\u001b[90m Float64  \u001b[0m\u001b[90m String \u001b[0m\u001b[90m Int64   \u001b[0m\u001b[90m Float64      \u001b[0m\n",
       "─────┼─────────────────────────────────────────────────────────────────────────────────────────────────\n",
       "   1 │ 2018-08-15   27300    11.84    11.84    11.74    11.74     11.74  AAAU        474         11.74\n",
       "   2 │ 2018-08-16  428400    11.78    11.8     11.74    11.74     11.74  AAAU        473         11.74\n",
       "   3 │ 2018-08-17   52400    11.8     11.82    11.77    11.82     11.82  AAAU        472         11.82\n",
       "   4 │ 2018-08-20   28700    11.88    11.91    11.85    11.9      11.9   AAAU        471         11.9\n",
       "  ⋮  │     ⋮         ⋮        ⋮        ⋮        ⋮        ⋮        ⋮        ⋮        ⋮          ⋮\n",
       " 472 │ 2020-06-30  319100    17.65    17.8     17.61    17.78     17.78  AAAU          3         17.78\n",
       " 473 │ 2020-07-01  468100    17.73    17.73    17.54    17.68     17.68  AAAU          2         17.68\n",
       " 474 │ 2020-07-02  257500    17.64    17.74    17.62    17.71     17.71  AAAU          1         17.71\n",
       "\u001b[36m                                                                                       467 rows omitted\u001b[0m\n",
       "⋮\n",
       "Last Group (1215 rows): symbol = \"ZYXI\"\n",
       "\u001b[1m  Row \u001b[0m│\u001b[1m date       \u001b[0m\u001b[1m volume  \u001b[0m\u001b[1m open    \u001b[0m\u001b[1m high    \u001b[0m\u001b[1m low     \u001b[0m\u001b[1m close   \u001b[0m\u001b[1m adjclose  \u001b[0m\u001b[1m symbol \u001b[0m\u001b[1m col_idx \u001b[0m\u001b[1m adjclose_fix \u001b[0m\n",
       "\u001b[1m      \u001b[0m│\u001b[90m Date       \u001b[0m\u001b[90m Int64   \u001b[0m\u001b[90m Float64 \u001b[0m\u001b[90m Float64 \u001b[0m\u001b[90m Float64 \u001b[0m\u001b[90m Float64 \u001b[0m\u001b[90m Float64   \u001b[0m\u001b[90m String \u001b[0m\u001b[90m Int64   \u001b[0m\u001b[90m Float64      \u001b[0m\n",
       "──────┼───────────────────────────────────────────────────────────────────────────────────────────────────\n",
       "    1 │ 2015-01-02      100     0.18     0.18     0.18     0.18   0.175245  ZYXI    6852038      0.175245\n",
       "    2 │ 2015-01-05    33200     0.22     0.22     0.14     0.16   0.155774  ZYXI    6852037      0.155774\n",
       "    3 │ 2015-01-07     8100     0.14     0.15     0.13     0.15   0.146038  ZYXI    6852036      0.146038\n",
       "    4 │ 2015-01-09      200     0.15     0.15     0.15     0.15   0.146038  ZYXI    6852035      0.146038\n",
       "  ⋮   │     ⋮          ⋮        ⋮        ⋮        ⋮        ⋮         ⋮        ⋮        ⋮          ⋮\n",
       " 1213 │ 2020-06-30  1054800    23.05    25.24    22.81    24.87  24.87      ZYXI    6850826     24.87\n",
       " 1214 │ 2020-07-01   630100    24.77    24.85    23.95    24.41  24.41      ZYXI    6850825     24.41\n",
       " 1215 │ 2020-07-02  1072200    24.54    26.84    24.44    25.12  25.12      ZYXI    6850824     25.12\n",
       "\u001b[36m                                                                                         1208 rows omitted\u001b[0m"
      ]
     },
     "execution_count": 109,
     "metadata": {},
     "output_type": "execute_result"
    }
   ],
   "source": [
    "gdf = groupby(df, :symbol)"
   ]
  },
  {
   "cell_type": "code",
   "execution_count": 110,
   "metadata": {},
   "outputs": [
    {
     "data": {
      "text/html": [
       "<table class=\"data-frame\"><thead><tr><th></th><th>date</th><th>volume</th><th>open</th><th>high</th><th>low</th><th>close</th><th>adjclose</th><th>symbol</th><th>col_idx</th><th>adjclose_fix</th><th>close_returns</th></tr><tr><th></th><th>Date</th><th>Int64</th><th>Float64</th><th>Float64</th><th>Float64</th><th>Float64</th><th>Float64</th><th>String</th><th>Int64</th><th>Float64</th><th>Float64?</th></tr></thead><tbody><p>6,852,038 rows × 11 columns</p><tr><th>1</th><td>2015-01-02</td><td>2000</td><td>37.25</td><td>37.25</td><td>36.64</td><td>36.64</td><td>35.3998</td><td>AADR</td><td>2114</td><td>35.3998</td><td><em>missing</em></td></tr><tr><th>2</th><td>2015-01-02</td><td>10748600</td><td>54.28</td><td>54.6</td><td>53.07</td><td>53.91</td><td>51.0799</td><td>AAL</td><td>3499</td><td>51.0799</td><td><em>missing</em></td></tr><tr><th>3</th><td>2015-01-02</td><td>11500</td><td>308.0</td><td>348.59</td><td>308.0</td><td>327.18</td><td>327.18</td><td>AAMC</td><td>4798</td><td>327.18</td><td><em>missing</em></td></tr><tr><th>4</th><td>2015-01-02</td><td>11400</td><td>3.99</td><td>4.03</td><td>3.98</td><td>4.03</td><td>3.91772</td><td>AAME</td><td>6079</td><td>3.91772</td><td><em>missing</em></td></tr><tr><th>5</th><td>2015-01-02</td><td>898900</td><td>30.81</td><td>30.86</td><td>30.04</td><td>30.62</td><td>30.0588</td><td>AAN</td><td>7464</td><td>30.0588</td><td><em>missing</em></td></tr><tr><th>6</th><td>2015-01-02</td><td>184600</td><td>11.28</td><td>11.28</td><td>10.72</td><td>10.79</td><td>10.79</td><td>AAOI</td><td>8840</td><td>10.79</td><td><em>missing</em></td></tr><tr><th>7</th><td>2015-01-02</td><td>90700</td><td>22.55</td><td>22.68</td><td>21.6</td><td>21.93</td><td>20.9958</td><td>AAON</td><td>10225</td><td>20.9958</td><td><em>missing</em></td></tr><tr><th>8</th><td>2015-01-02</td><td>509800</td><td>160.85</td><td>162.5</td><td>157.47</td><td>158.56</td><td>156.251</td><td>AAP</td><td>11610</td><td>156.251</td><td><em>missing</em></td></tr><tr><th>9</th><td>2015-01-02</td><td>53204600</td><td>111.39</td><td>111.44</td><td>107.35</td><td>109.33</td><td>99.9459</td><td>AAPL</td><td>12995</td><td>99.9459</td><td><em>missing</em></td></tr><tr><th>10</th><td>2015-01-02</td><td>107500</td><td>40.12</td><td>40.46</td><td>39.95</td><td>40.37</td><td>35.0019</td><td>AAT</td><td>14380</td><td>35.0019</td><td><em>missing</em></td></tr><tr><th>11</th><td>2015-01-02</td><td>182200</td><td>0.95</td><td>0.98</td><td>0.94</td><td>0.95</td><td>0.95</td><td>AAU</td><td>15765</td><td>0.95</td><td><em>missing</em></td></tr><tr><th>12</th><td>2015-01-02</td><td>225900</td><td>49.71</td><td>49.82</td><td>47.73</td><td>48.42</td><td>48.42</td><td>AAWW</td><td>17150</td><td>48.42</td><td><em>missing</em></td></tr><tr><th>13</th><td>2015-01-02</td><td>509500</td><td>61.17</td><td>61.17</td><td>60.49</td><td>60.63</td><td>54.6193</td><td>AAXJ</td><td>18535</td><td>54.6193</td><td><em>missing</em></td></tr><tr><th>14</th><td>2015-01-02</td><td>135200</td><td>26.15</td><td>26.22</td><td>25.62</td><td>26.1</td><td>26.1</td><td>AB</td><td>19920</td><td>26.1</td><td><em>missing</em></td></tr><tr><th>15</th><td>2015-01-02</td><td>1255500</td><td>21.15</td><td>21.21</td><td>20.97</td><td>21.08</td><td>16.7124</td><td>ABB</td><td>21305</td><td>16.7124</td><td><em>missing</em></td></tr><tr><th>&vellip;</th><td>&vellip;</td><td>&vellip;</td><td>&vellip;</td><td>&vellip;</td><td>&vellip;</td><td>&vellip;</td><td>&vellip;</td><td>&vellip;</td><td>&vellip;</td><td>&vellip;</td><td>&vellip;</td></tr></tbody></table>"
      ],
      "text/latex": [
       "\\begin{tabular}{r|ccccccccccc}\n",
       "\t& date & volume & open & high & low & close & adjclose & symbol & col\\_idx & adjclose\\_fix & close\\_returns\\\\\n",
       "\t\\hline\n",
       "\t& Date & Int64 & Float64 & Float64 & Float64 & Float64 & Float64 & String & Int64 & Float64 & Float64?\\\\\n",
       "\t\\hline\n",
       "\t1 & 2015-01-02 & 2000 & 37.25 & 37.25 & 36.64 & 36.64 & 35.3998 & AADR & 2114 & 35.3998 & \\emph{missing} \\\\\n",
       "\t2 & 2015-01-02 & 10748600 & 54.28 & 54.6 & 53.07 & 53.91 & 51.0799 & AAL & 3499 & 51.0799 & \\emph{missing} \\\\\n",
       "\t3 & 2015-01-02 & 11500 & 308.0 & 348.59 & 308.0 & 327.18 & 327.18 & AAMC & 4798 & 327.18 & \\emph{missing} \\\\\n",
       "\t4 & 2015-01-02 & 11400 & 3.99 & 4.03 & 3.98 & 4.03 & 3.91772 & AAME & 6079 & 3.91772 & \\emph{missing} \\\\\n",
       "\t5 & 2015-01-02 & 898900 & 30.81 & 30.86 & 30.04 & 30.62 & 30.0588 & AAN & 7464 & 30.0588 & \\emph{missing} \\\\\n",
       "\t6 & 2015-01-02 & 184600 & 11.28 & 11.28 & 10.72 & 10.79 & 10.79 & AAOI & 8840 & 10.79 & \\emph{missing} \\\\\n",
       "\t7 & 2015-01-02 & 90700 & 22.55 & 22.68 & 21.6 & 21.93 & 20.9958 & AAON & 10225 & 20.9958 & \\emph{missing} \\\\\n",
       "\t8 & 2015-01-02 & 509800 & 160.85 & 162.5 & 157.47 & 158.56 & 156.251 & AAP & 11610 & 156.251 & \\emph{missing} \\\\\n",
       "\t9 & 2015-01-02 & 53204600 & 111.39 & 111.44 & 107.35 & 109.33 & 99.9459 & AAPL & 12995 & 99.9459 & \\emph{missing} \\\\\n",
       "\t10 & 2015-01-02 & 107500 & 40.12 & 40.46 & 39.95 & 40.37 & 35.0019 & AAT & 14380 & 35.0019 & \\emph{missing} \\\\\n",
       "\t11 & 2015-01-02 & 182200 & 0.95 & 0.98 & 0.94 & 0.95 & 0.95 & AAU & 15765 & 0.95 & \\emph{missing} \\\\\n",
       "\t12 & 2015-01-02 & 225900 & 49.71 & 49.82 & 47.73 & 48.42 & 48.42 & AAWW & 17150 & 48.42 & \\emph{missing} \\\\\n",
       "\t13 & 2015-01-02 & 509500 & 61.17 & 61.17 & 60.49 & 60.63 & 54.6193 & AAXJ & 18535 & 54.6193 & \\emph{missing} \\\\\n",
       "\t14 & 2015-01-02 & 135200 & 26.15 & 26.22 & 25.62 & 26.1 & 26.1 & AB & 19920 & 26.1 & \\emph{missing} \\\\\n",
       "\t15 & 2015-01-02 & 1255500 & 21.15 & 21.21 & 20.97 & 21.08 & 16.7124 & ABB & 21305 & 16.7124 & \\emph{missing} \\\\\n",
       "\t$\\dots$ & $\\dots$ & $\\dots$ & $\\dots$ & $\\dots$ & $\\dots$ & $\\dots$ & $\\dots$ & $\\dots$ & $\\dots$ & $\\dots$ & $\\dots$ \\\\\n",
       "\\end{tabular}\n"
      ],
      "text/plain": [
       "\u001b[1m6852038×11 DataFrame\u001b[0m\n",
       "\u001b[1m     Row \u001b[0m│\u001b[1m date       \u001b[0m\u001b[1m volume   \u001b[0m\u001b[1m open    \u001b[0m\u001b[1m high    \u001b[0m\u001b[1m low     \u001b[0m\u001b[1m close   \u001b[0m\u001b[1m adjclose  \u001b[0m\u001b[1m symbol \u001b[0m\u001b[1m col_idx \u001b[0m\u001b[1m adjclose_fix \u001b[0m\u001b[1m close_returns    \u001b[0m\n",
       "\u001b[1m         \u001b[0m│\u001b[90m Date       \u001b[0m\u001b[90m Int64    \u001b[0m\u001b[90m Float64 \u001b[0m\u001b[90m Float64 \u001b[0m\u001b[90m Float64 \u001b[0m\u001b[90m Float64 \u001b[0m\u001b[90m Float64   \u001b[0m\u001b[90m String \u001b[0m\u001b[90m Int64   \u001b[0m\u001b[90m Float64      \u001b[0m\u001b[90m Float64?         \u001b[0m\n",
       "─────────┼──────────────────────────────────────────────────────────────────────────────────────────────────────────────────────\n",
       "       1 │ 2015-01-02      2000    37.25    37.25    36.64    36.64   35.3998   AADR       2114      35.3998  \u001b[90m missing          \u001b[0m\n",
       "       2 │ 2015-01-02  10748600    54.28    54.6     53.07    53.91   51.0799   AAL        3499      51.0799  \u001b[90m missing          \u001b[0m\n",
       "       3 │ 2015-01-02     11500   308.0    348.59   308.0    327.18  327.18     AAMC       4798     327.18    \u001b[90m missing          \u001b[0m\n",
       "    ⋮    │     ⋮          ⋮         ⋮        ⋮        ⋮        ⋮         ⋮        ⋮        ⋮          ⋮               ⋮\n",
       " 6852036 │ 2020-07-02    214200    36.53    37.04    35.73    35.98   35.98     ZYME    6848786      35.98          -0.010781\n",
       " 6852037 │ 2020-07-02   2857200     3.66     3.69     3.4      3.5     3.5      ZYNE    6849587       3.5           -0.0569203\n",
       " 6852038 │ 2020-07-02   1072200    24.54    26.84    24.44    25.12   25.12     ZYXI    6850824      25.12           0.0286715\n",
       "\u001b[36m                                                                                                            6852032 rows omitted\u001b[0m"
      ]
     },
     "execution_count": 110,
     "metadata": {},
     "output_type": "execute_result"
    }
   ],
   "source": [
    "df2 = transform(gdf, :close => (x -> log.(x ./ lag(x))) => :close_returns)"
   ]
  },
  {
   "cell_type": "code",
   "execution_count": 111,
   "metadata": {},
   "outputs": [
    {
     "data": {
      "text/html": [
       "<p><b>GroupedDataFrame with 6335 groups based on key: symbol</b></p><p><i>First Group (3 rows): symbol = \"AAAU\"</i></p><table class=\"data-frame\"><thead><tr><th></th><th>symbol</th><th>date</th><th>volume</th><th>open</th><th>high</th><th>low</th><th>close</th><th>adjclose</th><th>col_idx</th><th>adjclose_fix</th><th>close_returns</th></tr><tr><th></th><th>String</th><th>Date</th><th>Int64</th><th>Float64</th><th>Float64</th><th>Float64</th><th>Float64</th><th>Float64</th><th>Int64</th><th>Float64</th><th>Float64?</th></tr></thead><tbody><tr><th>1</th><td>AAAU</td><td>2018-08-15</td><td>27300</td><td>11.84</td><td>11.84</td><td>11.74</td><td>11.74</td><td>11.74</td><td>474</td><td>11.74</td><td><em>missing</em></td></tr><tr><th>2</th><td>AAAU</td><td>2018-08-16</td><td>428400</td><td>11.78</td><td>11.8</td><td>11.74</td><td>11.74</td><td>11.74</td><td>473</td><td>11.74</td><td>0.0</td></tr><tr><th>3</th><td>AAAU</td><td>2018-08-17</td><td>52400</td><td>11.8</td><td>11.82</td><td>11.77</td><td>11.82</td><td>11.82</td><td>472</td><td>11.82</td><td>0.00679119</td></tr></tbody></table><p>&vellip;</p><p><i>Last Group (3 rows): symbol = \"ZYXI\"</i></p><table class=\"data-frame\"><thead><tr><th></th><th>symbol</th><th>date</th><th>volume</th><th>open</th><th>high</th><th>low</th><th>close</th><th>adjclose</th><th>col_idx</th><th>adjclose_fix</th><th>close_returns</th></tr><tr><th></th><th>String</th><th>Date</th><th>Int64</th><th>Float64</th><th>Float64</th><th>Float64</th><th>Float64</th><th>Float64</th><th>Int64</th><th>Float64</th><th>Float64?</th></tr></thead><tbody><tr><th>1</th><td>ZYXI</td><td>2015-01-02</td><td>100</td><td>0.18</td><td>0.18</td><td>0.18</td><td>0.18</td><td>0.175245</td><td>6852038</td><td>0.175245</td><td><em>missing</em></td></tr><tr><th>2</th><td>ZYXI</td><td>2015-01-05</td><td>33200</td><td>0.22</td><td>0.22</td><td>0.14</td><td>0.16</td><td>0.155774</td><td>6852037</td><td>0.155774</td><td>-0.117783</td></tr><tr><th>3</th><td>ZYXI</td><td>2015-01-07</td><td>8100</td><td>0.14</td><td>0.15</td><td>0.13</td><td>0.15</td><td>0.146038</td><td>6852036</td><td>0.146038</td><td>-0.0645385</td></tr></tbody></table>"
      ],
      "text/latex": [
       "GroupedDataFrame with 6335 groups based on key: symbol\n",
       "\n",
       "First Group (3 rows): symbol = \"AAAU\"\n",
       "\n",
       "\\begin{tabular}{r|ccccccccccc}\n",
       "\t& symbol & date & volume & open & high & low & close & adjclose & col\\_idx & adjclose\\_fix & close\\_returns\\\\\n",
       "\t\\hline\n",
       "\t& String & Date & Int64 & Float64 & Float64 & Float64 & Float64 & Float64 & Int64 & Float64 & Float64?\\\\\n",
       "\t\\hline\n",
       "\t1 & AAAU & 2018-08-15 & 27300 & 11.84 & 11.84 & 11.74 & 11.74 & 11.74 & 474 & 11.74 & \\emph{missing} \\\\\n",
       "\t2 & AAAU & 2018-08-16 & 428400 & 11.78 & 11.8 & 11.74 & 11.74 & 11.74 & 473 & 11.74 & 0.0 \\\\\n",
       "\t3 & AAAU & 2018-08-17 & 52400 & 11.8 & 11.82 & 11.77 & 11.82 & 11.82 & 472 & 11.82 & 0.00679119 \\\\\n",
       "\\end{tabular}\n",
       "\n",
       "$\\dots$\n",
       "\n",
       "Last Group (3 rows): symbol = \"ZYXI\"\n",
       "\n",
       "\\begin{tabular}{r|ccccccccccc}\n",
       "\t& symbol & date & volume & open & high & low & close & adjclose & col\\_idx & adjclose\\_fix & close\\_returns\\\\\n",
       "\t\\hline\n",
       "\t& String & Date & Int64 & Float64 & Float64 & Float64 & Float64 & Float64 & Int64 & Float64 & Float64?\\\\\n",
       "\t\\hline\n",
       "\t1 & ZYXI & 2015-01-02 & 100 & 0.18 & 0.18 & 0.18 & 0.18 & 0.175245 & 6852038 & 0.175245 & \\emph{missing} \\\\\n",
       "\t2 & ZYXI & 2015-01-05 & 33200 & 0.22 & 0.22 & 0.14 & 0.16 & 0.155774 & 6852037 & 0.155774 & -0.117783 \\\\\n",
       "\t3 & ZYXI & 2015-01-07 & 8100 & 0.14 & 0.15 & 0.13 & 0.15 & 0.146038 & 6852036 & 0.146038 & -0.0645385 \\\\\n",
       "\\end{tabular}\n"
      ],
      "text/plain": [
       "GroupedDataFrame with 6335 groups based on key: symbol\n",
       "First Group (3 rows): symbol = \"AAAU\"\n",
       "\u001b[1m Row \u001b[0m│\u001b[1m symbol \u001b[0m\u001b[1m date       \u001b[0m\u001b[1m volume \u001b[0m\u001b[1m open    \u001b[0m\u001b[1m high    \u001b[0m\u001b[1m low     \u001b[0m\u001b[1m close   \u001b[0m\u001b[1m adjclose \u001b[0m\u001b[1m col_idx \u001b[0m\u001b[1m adjclose_fix \u001b[0m\u001b[1m close_returns    \u001b[0m\n",
       "\u001b[1m     \u001b[0m│\u001b[90m String \u001b[0m\u001b[90m Date       \u001b[0m\u001b[90m Int64  \u001b[0m\u001b[90m Float64 \u001b[0m\u001b[90m Float64 \u001b[0m\u001b[90m Float64 \u001b[0m\u001b[90m Float64 \u001b[0m\u001b[90m Float64  \u001b[0m\u001b[90m Int64   \u001b[0m\u001b[90m Float64      \u001b[0m\u001b[90m Float64?         \u001b[0m\n",
       "─────┼───────────────────────────────────────────────────────────────────────────────────────────────────────────────────\n",
       "   1 │ AAAU    2018-08-15   27300    11.84    11.84    11.74    11.74     11.74      474         11.74 \u001b[90m missing          \u001b[0m\n",
       "   2 │ AAAU    2018-08-16  428400    11.78    11.8     11.74    11.74     11.74      473         11.74        0.0\n",
       "   3 │ AAAU    2018-08-17   52400    11.8     11.82    11.77    11.82     11.82      472         11.82        0.00679119\n",
       "⋮\n",
       "Last Group (3 rows): symbol = \"ZYXI\"\n",
       "\u001b[1m Row \u001b[0m│\u001b[1m symbol \u001b[0m\u001b[1m date       \u001b[0m\u001b[1m volume \u001b[0m\u001b[1m open    \u001b[0m\u001b[1m high    \u001b[0m\u001b[1m low     \u001b[0m\u001b[1m close   \u001b[0m\u001b[1m adjclose \u001b[0m\u001b[1m col_idx \u001b[0m\u001b[1m adjclose_fix \u001b[0m\u001b[1m close_returns   \u001b[0m\n",
       "\u001b[1m     \u001b[0m│\u001b[90m String \u001b[0m\u001b[90m Date       \u001b[0m\u001b[90m Int64  \u001b[0m\u001b[90m Float64 \u001b[0m\u001b[90m Float64 \u001b[0m\u001b[90m Float64 \u001b[0m\u001b[90m Float64 \u001b[0m\u001b[90m Float64  \u001b[0m\u001b[90m Int64   \u001b[0m\u001b[90m Float64      \u001b[0m\u001b[90m Float64?        \u001b[0m\n",
       "─────┼──────────────────────────────────────────────────────────────────────────────────────────────────────────────────\n",
       "   1 │ ZYXI    2015-01-02     100     0.18     0.18     0.18     0.18  0.175245  6852038      0.175245 \u001b[90m missing         \u001b[0m\n",
       "   2 │ ZYXI    2015-01-05   33200     0.22     0.22     0.14     0.16  0.155774  6852037      0.155774       -0.117783\n",
       "   3 │ ZYXI    2015-01-07    8100     0.14     0.15     0.13     0.15  0.146038  6852036      0.146038       -0.0645385"
      ]
     },
     "execution_count": 111,
     "metadata": {},
     "output_type": "execute_result"
    }
   ],
   "source": [
    "combine(sdf -> first(sdf, 3), groupby(df2, :symbol), ungroup=false)"
   ]
  },
  {
   "cell_type": "markdown",
   "metadata": {},
   "source": [
    "#### Exercise"
   ]
  },
  {
   "cell_type": "markdown",
   "metadata": {},
   "source": [
    "Check our codes to make sure that in each group in `df2` first and only the fist element of `:close_returns` is `missing`"
   ]
  },
  {
   "cell_type": "code",
   "execution_count": 112,
   "metadata": {},
   "outputs": [
    {
     "data": {
      "text/plain": [
       "true"
      ]
     },
     "execution_count": 112,
     "metadata": {},
     "output_type": "execute_result"
    }
   ],
   "source": [
    "all(sdf -> findall(ismissing, sdf.close_returns) == [1], groupby(df2, :symbol))"
   ]
  },
  {
   "cell_type": "markdown",
   "metadata": {},
   "source": [
    "#### Exercises"
   ]
  },
  {
   "cell_type": "markdown",
   "metadata": {},
   "source": [
    "Check what happens if you try to broadcast a sum of a 1-row `DataFrame` with an array having multiple rows"
   ]
  },
  {
   "cell_type": "code",
   "execution_count": 113,
   "metadata": {},
   "outputs": [
    {
     "data": {
      "text/plain": [
       "2×2 Matrix{Float64}:\n",
       " 1.60789  2.67301\n",
       " 1.5804   2.88401"
      ]
     },
     "execution_count": 113,
     "metadata": {},
     "output_type": "execute_result"
    }
   ],
   "source": [
    "[1 2] .+ rand(2,2)"
   ]
  },
  {
   "cell_type": "code",
   "execution_count": 114,
   "metadata": {},
   "outputs": [
    {
     "data": {
      "text/html": [
       "<table class=\"data-frame\"><thead><tr><th></th><th>x1</th><th>x2</th></tr><tr><th></th><th>Float64</th><th>Float64</th></tr></thead><tbody><p>2 rows × 2 columns</p><tr><th>1</th><td>1.39059</td><td>2.26281</td></tr><tr><th>2</th><td>1.26122</td><td>2.99972</td></tr></tbody></table>"
      ],
      "text/latex": [
       "\\begin{tabular}{r|cc}\n",
       "\t& x1 & x2\\\\\n",
       "\t\\hline\n",
       "\t& Float64 & Float64\\\\\n",
       "\t\\hline\n",
       "\t1 & 1.39059 & 2.26281 \\\\\n",
       "\t2 & 1.26122 & 2.99972 \\\\\n",
       "\\end{tabular}\n"
      ],
      "text/plain": [
       "\u001b[1m2×2 DataFrame\u001b[0m\n",
       "\u001b[1m Row \u001b[0m│\u001b[1m x1      \u001b[0m\u001b[1m x2      \u001b[0m\n",
       "\u001b[1m     \u001b[0m│\u001b[90m Float64 \u001b[0m\u001b[90m Float64 \u001b[0m\n",
       "─────┼──────────────────\n",
       "   1 │ 1.39059  2.26281\n",
       "   2 │ 1.26122  2.99972"
      ]
     },
     "execution_count": 114,
     "metadata": {},
     "output_type": "execute_result"
    }
   ],
   "source": [
    "DataFrame([1 2], :auto) .+ rand(2,2)"
   ]
  },
  {
   "cell_type": "markdown",
   "metadata": {},
   "source": [
    "Check what happens if you try to broadcast a sum of a 0-row `DataFrame` with an array having multiple rows"
   ]
  },
  {
   "cell_type": "code",
   "execution_count": 115,
   "metadata": {},
   "outputs": [
    {
     "ename": "LoadError",
     "evalue": "DimensionMismatch(\"arrays could not be broadcast to a common size; got a dimension with lengths 0 and 2\")",
     "output_type": "error",
     "traceback": [
      "DimensionMismatch(\"arrays could not be broadcast to a common size; got a dimension with lengths 0 and 2\")",
      "",
      "Stacktrace:",
      " [1] _bcs1",
      "   @ ./broadcast.jl:501 [inlined]",
      " [2] _bcs(shape::Tuple{Base.OneTo{Int64}, Base.OneTo{Int64}}, newshape::Tuple{Base.OneTo{Int64}, Base.OneTo{Int64}})",
      "   @ Base.Broadcast ./broadcast.jl:495",
      " [3] broadcast_shape",
      "   @ ./broadcast.jl:489 [inlined]",
      " [4] combine_axes",
      "   @ ./broadcast.jl:484 [inlined]",
      " [5] instantiate",
      "   @ ./broadcast.jl:266 [inlined]",
      " [6] materialize(bc::Base.Broadcast.Broadcasted{Base.Broadcast.DefaultArrayStyle{2}, Nothing, typeof(+), Tuple{Matrix{Float64}, Matrix{Float64}}})",
      "   @ Base.Broadcast ./broadcast.jl:883",
      " [7] top-level scope",
      "   @ In[115]:1",
      " [8] eval",
      "   @ ./boot.jl:360 [inlined]",
      " [9] include_string(mapexpr::typeof(REPL.softscope), mod::Module, code::String, filename::String)",
      "   @ Base ./loading.jl:1094"
     ]
    }
   ],
   "source": [
    "zeros(0, 2) .+ rand(2,2)"
   ]
  },
  {
   "cell_type": "code",
   "execution_count": 116,
   "metadata": {},
   "outputs": [
    {
     "ename": "LoadError",
     "evalue": "DimensionMismatch(\"arrays could not be broadcast to a common size; got a dimension with lengths 0 and 2\")",
     "output_type": "error",
     "traceback": [
      "DimensionMismatch(\"arrays could not be broadcast to a common size; got a dimension with lengths 0 and 2\")",
      "",
      "Stacktrace:",
      " [1] _bcs1",
      "   @ ./broadcast.jl:501 [inlined]",
      " [2] _bcs(shape::Tuple{Base.OneTo{Int64}, Base.OneTo{Int64}}, newshape::Tuple{Base.OneTo{Int64}, Base.OneTo{Int64}})",
      "   @ Base.Broadcast ./broadcast.jl:495",
      " [3] broadcast_shape",
      "   @ ./broadcast.jl:489 [inlined]",
      " [4] combine_axes",
      "   @ ./broadcast.jl:484 [inlined]",
      " [5] instantiate",
      "   @ ./broadcast.jl:266 [inlined]",
      " [6] materialize(bc::Base.Broadcast.Broadcasted{DataFrames.DataFrameStyle, Nothing, typeof(+), Tuple{DataFrame, Matrix{Float64}}})",
      "   @ Base.Broadcast ./broadcast.jl:883",
      " [7] top-level scope",
      "   @ In[116]:1",
      " [8] eval",
      "   @ ./boot.jl:360 [inlined]",
      " [9] include_string(mapexpr::typeof(REPL.softscope), mod::Module, code::String, filename::String)",
      "   @ Base ./loading.jl:1094"
     ]
    }
   ],
   "source": [
    "DataFrame(x1=[], x2=[]) .+ rand(2,2)"
   ]
  },
  {
   "cell_type": "markdown",
   "metadata": {},
   "source": [
    "Check what happens when you try to broadcast a sum of a `DataFrame` with a 3D array."
   ]
  },
  {
   "cell_type": "code",
   "execution_count": 117,
   "metadata": {},
   "outputs": [
    {
     "data": {
      "text/plain": [
       "2×2×2 Array{Float64, 3}:\n",
       "[:, :, 1] =\n",
       " 1.13849  2.42206\n",
       " 1.76999  2.85878\n",
       "\n",
       "[:, :, 2] =\n",
       " 1.81264  2.06532\n",
       " 1.03624  2.81627"
      ]
     },
     "execution_count": 117,
     "metadata": {},
     "output_type": "execute_result"
    }
   ],
   "source": [
    "[1 2] .+ rand(2,2,2)"
   ]
  },
  {
   "cell_type": "code",
   "execution_count": 118,
   "metadata": {},
   "outputs": [
    {
     "ename": "LoadError",
     "evalue": "DimensionMismatch(\"cannot broadcast a data frame into 3 dimensions\")",
     "output_type": "error",
     "traceback": [
      "DimensionMismatch(\"cannot broadcast a data frame into 3 dimensions\")",
      "",
      "Stacktrace:",
      " [1] copy(bc::Base.Broadcast.Broadcasted{DataFrames.DataFrameStyle, Tuple{Base.OneTo{Int64}, Base.OneTo{Int64}, Base.OneTo{Int64}}, typeof(+), Tuple{DataFrame, Array{Float64, 3}}})",
      "   @ DataFrames ~/.julia/packages/DataFrames/nxjiD/src/other/broadcasting.jl:49",
      " [2] materialize(bc::Base.Broadcast.Broadcasted{DataFrames.DataFrameStyle, Nothing, typeof(+), Tuple{DataFrame, Array{Float64, 3}}})",
      "   @ Base.Broadcast ./broadcast.jl:883",
      " [3] top-level scope",
      "   @ In[118]:1",
      " [4] eval",
      "   @ ./boot.jl:360 [inlined]",
      " [5] include_string(mapexpr::typeof(REPL.softscope), mod::Module, code::String, filename::String)",
      "   @ Base ./loading.jl:1094"
     ]
    }
   ],
   "source": [
    "DataFrame([1 2], :auto) .+ rand(2,2,2)"
   ]
  },
  {
   "cell_type": "markdown",
   "metadata": {},
   "source": [
    "Check if broadcasting is defined for `DataFrameRow`."
   ]
  },
  {
   "cell_type": "code",
   "execution_count": 119,
   "metadata": {},
   "outputs": [
    {
     "data": {
      "text/html": [
       "<p>DataFrameRow (2 columns)</p><table class=\"data-frame\"><thead><tr><th></th><th>x1</th><th>x2</th></tr><tr><th></th><th>Int64</th><th>Int64</th></tr></thead><tbody><tr><th>1</th><td>1</td><td>2</td></tr></tbody></table>"
      ],
      "text/latex": [
       "\\begin{tabular}{r|cc}\n",
       "\t& x1 & x2\\\\\n",
       "\t\\hline\n",
       "\t& Int64 & Int64\\\\\n",
       "\t\\hline\n",
       "\t1 & 1 & 2 \\\\\n",
       "\\end{tabular}\n"
      ],
      "text/plain": [
       "\u001b[1mDataFrameRow\u001b[0m\n",
       "\u001b[1m Row \u001b[0m│\u001b[1m x1    \u001b[0m\u001b[1m x2    \u001b[0m\n",
       "\u001b[1m     \u001b[0m│\u001b[90m Int64 \u001b[0m\u001b[90m Int64 \u001b[0m\n",
       "─────┼──────────────\n",
       "   1 │     1      2"
      ]
     },
     "execution_count": 119,
     "metadata": {},
     "output_type": "execute_result"
    }
   ],
   "source": [
    "dfr = DataFrame(x1=1, x2=2)[1, :]"
   ]
  },
  {
   "cell_type": "code",
   "execution_count": 120,
   "metadata": {},
   "outputs": [
    {
     "ename": "LoadError",
     "evalue": "ArgumentError: broadcasting over `DataFrameRow`s is reserved",
     "output_type": "error",
     "traceback": [
      "ArgumentError: broadcasting over `DataFrameRow`s is reserved",
      "",
      "Stacktrace:",
      " [1] broadcastable(#unused#::DataFrameRow{DataFrame, DataFrames.Index})",
      "   @ DataFrames ~/.julia/packages/DataFrames/nxjiD/src/dataframerow/dataframerow.jl:422",
      " [2] broadcasted(::Function, ::DataFrameRow{DataFrame, DataFrames.Index}, ::Int64)",
      "   @ Base.Broadcast ./broadcast.jl:1312",
      " [3] top-level scope",
      "   @ In[120]:1",
      " [4] eval",
      "   @ ./boot.jl:360 [inlined]",
      " [5] include_string(mapexpr::typeof(REPL.softscope), mod::Module, code::String, filename::String)",
      "   @ Base ./loading.jl:1094"
     ]
    }
   ],
   "source": [
    "dfr .+ 1"
   ]
  },
  {
   "cell_type": "code",
   "execution_count": 121,
   "metadata": {},
   "outputs": [
    {
     "data": {
      "text/plain": [
       "(x1 = 1, x2 = 2)"
      ]
     },
     "execution_count": 121,
     "metadata": {},
     "output_type": "execute_result"
    }
   ],
   "source": [
    "nt = NamedTuple(dfr)"
   ]
  },
  {
   "cell_type": "code",
   "execution_count": 122,
   "metadata": {},
   "outputs": [
    {
     "ename": "LoadError",
     "evalue": "ArgumentError: broadcasting over dictionaries and `NamedTuple`s is reserved",
     "output_type": "error",
     "traceback": [
      "ArgumentError: broadcasting over dictionaries and `NamedTuple`s is reserved",
      "",
      "Stacktrace:",
      " [1] broadcastable(#unused#::NamedTuple{(:x1, :x2), Tuple{Int64, Int64}})",
      "   @ Base.Broadcast ./broadcast.jl:683",
      " [2] broadcasted(::Function, ::NamedTuple{(:x1, :x2), Tuple{Int64, Int64}}, ::Int64)",
      "   @ Base.Broadcast ./broadcast.jl:1312",
      " [3] top-level scope",
      "   @ In[122]:1",
      " [4] eval",
      "   @ ./boot.jl:360 [inlined]",
      " [5] include_string(mapexpr::typeof(REPL.softscope), mod::Module, code::String, filename::String)",
      "   @ Base ./loading.jl:1094"
     ]
    }
   ],
   "source": [
    "nt .+ 1"
   ]
  },
  {
   "cell_type": "markdown",
   "metadata": {},
   "source": [
    "<div class=\"alert alert-block alert-info\">\n",
    "<b>Tip:</b>\n",
    "\n",
    "In broadcasting `df.single_col` and `df[!, single_col]` behave in the same way (the same exceptions as in `getindex` apply).\n",
    "\n",
    "</div>"
   ]
  },
  {
   "cell_type": "markdown",
   "metadata": {},
   "source": [
    "## broadcast!"
   ]
  },
  {
   "cell_type": "markdown",
   "metadata": {},
   "source": [
    "It is possible to assign a value to `AbstractDataFrame` and `DataFrameRow` objects using the `.=` operator.\n",
    "\n",
    "In such an operation `AbstractDataFrame` is considered as two-dimensional and `DataFrameRow` as single-dimensional (columnar)."
   ]
  },
  {
   "cell_type": "markdown",
   "metadata": {},
   "source": [
    "#### Special cases:"
   ]
  },
  {
   "cell_type": "markdown",
   "metadata": {},
   "source": [
    "Broadcasting into a single cell unwraps it before opertion:"
   ]
  },
  {
   "cell_type": "code",
   "execution_count": 123,
   "metadata": {},
   "outputs": [
    {
     "data": {
      "text/html": [
       "<table class=\"data-frame\"><thead><tr><th></th><th>a</th></tr><tr><th></th><th>Array…</th></tr></thead><tbody><p>2 rows × 1 columns</p><tr><th>1</th><td>[1, 2]</td></tr><tr><th>2</th><td>[3, 4]</td></tr></tbody></table>"
      ],
      "text/latex": [
       "\\begin{tabular}{r|c}\n",
       "\t& a\\\\\n",
       "\t\\hline\n",
       "\t& Array…\\\\\n",
       "\t\\hline\n",
       "\t1 & [1, 2] \\\\\n",
       "\t2 & [3, 4] \\\\\n",
       "\\end{tabular}\n"
      ],
      "text/plain": [
       "\u001b[1m2×1 DataFrame\u001b[0m\n",
       "\u001b[1m Row \u001b[0m│\u001b[1m a      \u001b[0m\n",
       "\u001b[1m     \u001b[0m│\u001b[90m Array… \u001b[0m\n",
       "─────┼────────\n",
       "   1 │ [1, 2]\n",
       "   2 │ [3, 4]"
      ]
     },
     "execution_count": 123,
     "metadata": {},
     "output_type": "execute_result"
    }
   ],
   "source": [
    "df = DataFrame(a=[[1,2], [3,4]])"
   ]
  },
  {
   "cell_type": "code",
   "execution_count": 124,
   "metadata": {},
   "outputs": [
    {
     "data": {
      "text/plain": [
       "2-element Vector{Int64}:\n",
       " 10\n",
       " 20"
      ]
     },
     "execution_count": 124,
     "metadata": {},
     "output_type": "execute_result"
    }
   ],
   "source": [
    "df[1,1] .= [10, 20]"
   ]
  },
  {
   "cell_type": "code",
   "execution_count": 125,
   "metadata": {},
   "outputs": [
    {
     "data": {
      "text/html": [
       "<table class=\"data-frame\"><thead><tr><th></th><th>a</th></tr><tr><th></th><th>Array…</th></tr></thead><tbody><p>2 rows × 1 columns</p><tr><th>1</th><td>[10, 20]</td></tr><tr><th>2</th><td>[3, 4]</td></tr></tbody></table>"
      ],
      "text/latex": [
       "\\begin{tabular}{r|c}\n",
       "\t& a\\\\\n",
       "\t\\hline\n",
       "\t& Array…\\\\\n",
       "\t\\hline\n",
       "\t1 & [10, 20] \\\\\n",
       "\t2 & [3, 4] \\\\\n",
       "\\end{tabular}\n"
      ],
      "text/plain": [
       "\u001b[1m2×1 DataFrame\u001b[0m\n",
       "\u001b[1m Row \u001b[0m│\u001b[1m a        \u001b[0m\n",
       "\u001b[1m     \u001b[0m│\u001b[90m Array…   \u001b[0m\n",
       "─────┼──────────\n",
       "   1 │ [10, 20]\n",
       "   2 │ [3, 4]"
      ]
     },
     "execution_count": 125,
     "metadata": {},
     "output_type": "execute_result"
    }
   ],
   "source": [
    "df"
   ]
  },
  {
   "cell_type": "markdown",
   "metadata": {},
   "source": [
    "Broadcasting into any slice of a data frame is in-place except for two cases:\n",
    "* `!` is used as a row selector\n",
    "* `:` is used as a row selector and column selector is a single column that does not exist in a data frame\n",
    "\n",
    "In these cases a new column is allocated, except if a data frame is `SubDataFrame` in which case column adding is disallowed."
   ]
  },
  {
   "cell_type": "markdown",
   "metadata": {},
   "source": [
    "<div class=\"alert alert-block alert-info\">\n",
    "<b>Tip:</b>\n",
    "\n",
    "These rules mean that `df.single_col .= v` behaves in the same way as `df[:, single_col] .= v`\n",
    "\n",
    "(NOTE that here we use `:` not `!` in this context),\n",
    "\n",
    "except that `df.single_col .= v` does not allow creation of new columns, integer indexing, nor using a variable to pass a name.\n",
    "\n",
    "</div>"
   ]
  },
  {
   "cell_type": "markdown",
   "metadata": {},
   "source": [
    "## Summary"
   ]
  },
  {
   "cell_type": "markdown",
   "metadata": {},
   "source": [
    "All the rules how indexing works in DataFrames.jl are specified here:\n",
    "\n",
    "https://juliadata.github.io/DataFrames.jl/latest/lib/indexing/\n",
    "\n",
    "If you find some cases where the behavior does not match these rules please report an issue."
   ]
  },
  {
   "cell_type": "markdown",
   "metadata": {},
   "source": [
    "<div class=\"alert alert-block alert-info\">\n",
    "<b>Tip:</b>\n",
    "\n",
    "Rules for most common operations:\n",
    "* get a column without copying `df.single_col` or `df[!, single_col]`\n",
    "* get a column with copying `df[:, single_col]`\n",
    "\n",
    "\n",
    "* assign a column without copying `df.single_col = vector` or `df[!, single_col] = vector` (except for ranges)\n",
    "* assign a column with copying `df[:, single_col] = vector`\n",
    "* assign a value in-place with broadcasting if column exists:  `df.single_col .= value` or `df[:, single_col] .= value`\n",
    "* assign a value with copying, create a column if it does not exist: `df[!, single_col] .= value`\n",
    "* for convenience also `df[:, single_col] .= value` creates a column with copying if it does not exist\n",
    "\n",
    "</div>"
   ]
  }
 ],
 "metadata": {
  "@webio": {
   "lastCommId": null,
   "lastKernelId": null
  },
  "kernelspec": {
   "display_name": "Julia 1.6.1",
   "language": "julia",
   "name": "julia-1.6"
  },
  "language_info": {
   "file_extension": ".jl",
   "mimetype": "application/julia",
   "name": "julia",
   "version": "1.6.1"
  }
 },
 "nbformat": 4,
 "nbformat_minor": 2
}
